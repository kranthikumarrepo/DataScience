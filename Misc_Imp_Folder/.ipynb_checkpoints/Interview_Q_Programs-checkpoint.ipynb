{
 "cells": [
  {
   "cell_type": "code",
   "execution_count": 6,
   "id": "7f9d794c-2f9c-4e3f-8a48-cfd5bc9dfa97",
   "metadata": {},
   "outputs": [
    {
     "data": {
      "text/plain": [
       "'Sara'"
      ]
     },
     "execution_count": 6,
     "metadata": {},
     "output_type": "execute_result"
    }
   ],
   "source": [
    "# class definition\n",
    "class Student:\n",
    "   def __init__(self, fname, lname, age, section):\n",
    "       self.firstname = fname\n",
    "       self.lastname = lname\n",
    "       self.age = age\n",
    "       self.section = section\n",
    "# creating a new object\n",
    "stu1 = Student(\"Sara\", \"Ansh\", 22, \"A2\")\n",
    "\n",
    "stu1.firstname"
   ]
  },
  {
   "cell_type": "code",
   "execution_count": 4,
   "id": "0ac52f5f-be14-4e40-9374-7017db9042f9",
   "metadata": {},
   "outputs": [
    {
     "name": "stdout",
     "output_type": "stream",
     "text": [
      "Buddy\n",
      "Golden Retriever\n",
      "Woof!\n"
     ]
    }
   ],
   "source": [
    "class Dog:\n",
    "    def __init__(self, name, breed):\n",
    "        self.name = name\n",
    "        self.breed = breed\n",
    "\n",
    "    def bark(self):\n",
    "        return \"Woof!\"\n",
    "\n",
    "# Creating an object of the Dog class\n",
    "my_dog = Dog(\"Buddy\", \"Golden Retriever\")\n",
    "\n",
    "# Accessing the attributes\n",
    "print(my_dog.name)  # Output: Buddy\n",
    "print(my_dog.breed) # Output: Golden Retriever\n",
    "\n",
    "# Calling a method\n",
    "print(my_dog.bark()) # Output: Woof!"
   ]
  },
  {
   "cell_type": "code",
   "execution_count": null,
   "id": "a048e582-893d-44a0-af59-c93673510600",
   "metadata": {},
   "outputs": [],
   "source": []
  }
 ],
 "metadata": {
  "kernelspec": {
   "display_name": "Python [conda env:base] *",
   "language": "python",
   "name": "conda-base-py"
  },
  "language_info": {
   "codemirror_mode": {
    "name": "ipython",
    "version": 3
   },
   "file_extension": ".py",
   "mimetype": "text/x-python",
   "name": "python",
   "nbconvert_exporter": "python",
   "pygments_lexer": "ipython3",
   "version": "3.12.7"
  }
 },
 "nbformat": 4,
 "nbformat_minor": 5
}
