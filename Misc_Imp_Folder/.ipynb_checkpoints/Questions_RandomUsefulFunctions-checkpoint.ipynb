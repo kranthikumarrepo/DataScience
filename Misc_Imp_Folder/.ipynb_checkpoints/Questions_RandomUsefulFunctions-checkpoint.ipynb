{
 "cells": [
  {
   "cell_type": "markdown",
   "id": "360f5bed-dea8-423e-a04f-7c1a61b721c0",
   "metadata": {},
   "source": [
    "### All pending items and questions\n",
    "- Pending:-\n",
    "- LMS - Python - 7,8,9\n",
    "- To know all the functions in a module - kepp in randomuseful functions file.\n",
    "- To know the package/module name using attribute name or package name\n",
    "- To know current function name\n",
    "- To know key using value in dictionary\n",
    "- Go thru interview questions\n",
    "\n",
    "#### Questions:\n",
    "- why my set is not getting sorted\n",
    "- set union section even when used | operator in nested loops, try to do only 1 iteration"
   ]
  },
  {
   "cell_type": "markdown",
   "id": "42479b81-7141-4f5d-9f0c-85b25912cc44",
   "metadata": {},
   "source": [
    "#### To know all the functions in a module"
   ]
  },
  {
   "cell_type": "code",
   "execution_count": 6,
   "id": "97b0626e-c0e4-4200-a3d7-c0ece8a8f49f",
   "metadata": {},
   "outputs": [
    {
     "name": "stdout",
     "output_type": "stream",
     "text": [
      "['__add__', '__class__', '__delattr__', '__dir__', '__eq__', '__format__', '__ge__', '__getattribute__', '__getstate__', '__gt__', '__hash__', '__init__', '__init_subclass__', '__le__', '__lt__', '__ne__', '__new__', '__radd__', '__reduce__', '__reduce_ex__', '__repr__', '__rsub__', '__setattr__', '__sizeof__', '__str__', '__sub__', '__subclasshook__', 'astimezone', 'combine', 'ctime', 'date', 'dst', 'fromisocalendar', 'fromisoformat', 'fromordinal', 'fromtimestamp', 'isocalendar', 'isoformat', 'isoweekday', 'now', 'replace', 'strftime', 'strptime', 'time', 'timestamp', 'timetuple', 'timetz', 'today', 'toordinal', 'tzname', 'utcfromtimestamp', 'utcnow', 'utcoffset', 'utctimetuple', 'weekday']\n"
     ]
    }
   ],
   "source": [
    "import inspect\n",
    "from datetime import datetime\n",
    "\n",
    "functions_list = [attribute for attribute in dir(datetime) if callable(getattr(datetime, attribute))]\n",
    "\n",
    "print(functions_list)"
   ]
  },
  {
   "cell_type": "markdown",
   "id": "75ed901a-33d5-4173-8b26-db4631bb4cc0",
   "metadata": {},
   "source": [
    "### split()\n",
    "- splits the given input and returns the list of individual elements, default is space to split"
   ]
  },
  {
   "cell_type": "code",
   "execution_count": 9,
   "id": "6ab0382f-71e4-40e9-bfe1-82e928ad016c",
   "metadata": {},
   "outputs": [
    {
     "name": "stdin",
     "output_type": "stream",
     "text": [
      "Enter elements separated by space:  2 3 5\n"
     ]
    },
    {
     "name": "stdout",
     "output_type": "stream",
     "text": [
      "['2', '3', '5']\n",
      "('2', '3', '5')\n"
     ]
    }
   ],
   "source": [
    "# Get user input and split it into a list\n",
    "# split function splits the given characters using the separator and creates a list out of it\n",
    "\n",
    "# Input Kranthi kumar\n",
    "user_input = input(\"Enter elements separated by space: \").split()\n",
    "\n",
    "print(user_input)\n",
    "print(tuple(user_input))"
   ]
  },
  {
   "cell_type": "code",
   "execution_count": 12,
   "id": "5af81d32-51e4-4cbc-b1ed-37b89694edcd",
   "metadata": {},
   "outputs": [
    {
     "name": "stdout",
     "output_type": "stream",
     "text": [
      "15th\n",
      "16th\n",
      "17th\n",
      "18th\n",
      "19th\n",
      "20th\n",
      "st\n",
      "21st\n",
      "nd\n",
      "22nd\n",
      "rd\n",
      "23rd\n",
      "th\n",
      "24th\n",
      "th\n",
      "25th\n"
     ]
    }
   ],
   "source": [
    "def ordinal(n):\n",
    "  \"\"\"Returns the ordinal suffix of a number.\"\"\"\n",
    "  if 10 <= n % 100 <= 20:\n",
    "    suffix = 'th'\n",
    "  else:\n",
    "    suffix = {1: 'st', 2: 'nd', 3: 'rd'}.get(n % 10, 'th')\n",
    "    print(suffix)\n",
    "  return str(n) + suffix\n",
    "\n",
    "# Example usage\n",
    "for i in range(15,26):\n",
    "  print(ordinal(i))"
   ]
  },
  {
   "cell_type": "code",
   "execution_count": null,
   "id": "9bce41b5-d48b-45eb-9323-7a1a59e12319",
   "metadata": {},
   "outputs": [],
   "source": []
  }
 ],
 "metadata": {
  "kernelspec": {
   "display_name": "Python [conda env:base] *",
   "language": "python",
   "name": "conda-base-py"
  },
  "language_info": {
   "codemirror_mode": {
    "name": "ipython",
    "version": 3
   },
   "file_extension": ".py",
   "mimetype": "text/x-python",
   "name": "python",
   "nbconvert_exporter": "python",
   "pygments_lexer": "ipython3",
   "version": "3.12.7"
  }
 },
 "nbformat": 4,
 "nbformat_minor": 5
}
