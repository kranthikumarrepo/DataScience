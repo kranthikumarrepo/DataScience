{
 "cells": [
  {
   "cell_type": "markdown",
   "id": "b66f7454-433e-4d9a-953b-ecc788884589",
   "metadata": {},
   "source": [
    "#### All formulaes\n",
    "- Mean\n",
    "- Median\n",
    "- Mode\n",
    "- List vs Series\n",
    "- Range\n",
    "- Variance\n",
    "- Standard Deviation (SD)\n",
    "- CoVariance\n",
    "- CoRelation\n",
    "- Percentile / Quantile\n",
    "- IQR\n",
    "- Outliers using IQR\n",
    "- Generate Random Numbers & add additional data to the existing data\n",
    "- Generate histogram and distribution graph & display the graph\n",
    "- Check the skewness and kurtosis of the data"
   ]
  },
  {
   "cell_type": "code",
   "execution_count": 4,
   "id": "cff6afaf-ef95-4ef1-adaf-ec5479b87424",
   "metadata": {},
   "outputs": [
    {
     "ename": "SyntaxError",
     "evalue": "invalid syntax (980387925.py, line 2)",
     "output_type": "error",
     "traceback": [
      "\u001b[1;36m  Cell \u001b[1;32mIn[4], line 2\u001b[1;36m\u001b[0m\n\u001b[1;33m    1. statistics.mean(data)\u001b[0m\n\u001b[1;37m       ^\u001b[0m\n\u001b[1;31mSyntaxError\u001b[0m\u001b[1;31m:\u001b[0m invalid syntax\n"
     ]
    }
   ],
   "source": [
    "# Mean\n",
    "1. statistics.mean(data)\n",
    "2. numpy.mean(data)\n",
    "3. dataset_to_series = pandas.Series(dataset)\n",
    "dataset_to_series.mean()\n",
    "\n",
    "# Median\n",
    "statistics.median(data)\n",
    "numpy.median(data)\n",
    "\n",
    "# List vs Series\n",
    "list = [1,2,3]\n",
    "series = pandas.Series(data) >>> Convert a list to series\n",
    "\n",
    "# Mode\n",
    "# For numerical data\n",
    "1. statistics.mode(data)\n",
    "2. from scipy import stats >>> stats.mode(data)\n",
    "# For categorical data \n",
    "3. data_series = pandas.Series(data)\n",
    "data_series.mode()"
   ]
  },
  {
   "cell_type": "code",
   "execution_count": 19,
   "id": "9fd15634-972f-4cc2-92a3-62c2f320da30",
   "metadata": {},
   "outputs": [
    {
     "ename": "SyntaxError",
     "evalue": "invalid syntax (2072080530.py, line 2)",
     "output_type": "error",
     "traceback": [
      "\u001b[1;36m  Cell \u001b[1;32mIn[19], line 2\u001b[1;36m\u001b[0m\n\u001b[1;33m    1. numpy.ptp(data)\u001b[0m\n\u001b[1;37m       ^\u001b[0m\n\u001b[1;31mSyntaxError\u001b[0m\u001b[1;31m:\u001b[0m invalid syntax\n"
     ]
    }
   ],
   "source": [
    "# Range\n",
    "1. numpy.ptp(data)\n",
    "2. Manually max(data) - min(data)\n",
    "\n",
    "# Variance\n",
    "statistics.variance(data) or statistics.pvariance(data)\n",
    "numpy.var(data) >>> only for population\n",
    "\n",
    "# SD\n",
    "statistics.stdev(data) or statistics.pstdev(data)\n",
    "numpy.std(data) >>> only for population\n",
    "\n",
    "# CoVariance\n",
    "statistics.covariance(x,y)\n",
    "numpy.cov(x,y)\n",
    "\n",
    "# CoRelation\n",
    "numpy.corrcoef(x,y)\n",
    "or manually using CoV(x,y)/(SD of x * SD of y)"
   ]
  },
  {
   "cell_type": "code",
   "execution_count": 10,
   "id": "812a1403-3fc8-46a2-a8b6-9c70a070a1c2",
   "metadata": {},
   "outputs": [
    {
     "ename": "SyntaxError",
     "evalue": "invalid syntax (2660474818.py, line 10)",
     "output_type": "error",
     "traceback": [
      "\u001b[1;36m  Cell \u001b[1;32mIn[10], line 10\u001b[1;36m\u001b[0m\n\u001b[1;33m    data_series.quantile(0.5/0.99/, etc.)\u001b[0m\n\u001b[1;37m                                  ^\u001b[0m\n\u001b[1;31mSyntaxError\u001b[0m\u001b[1;31m:\u001b[0m invalid syntax\n"
     ]
    }
   ],
   "source": [
    "# Percentile - To calculate the percentile of a given value\n",
    "from scipy import stats\n",
    "stats.percentileofscore(data,input_value)\n",
    "\n",
    "# Percentile/Quantile - To calculate the value at a given percentile\n",
    "# Using numpy\n",
    "numpy.percentile(data,percentile)\n",
    "# Using pandas >>> First convert to Series\n",
    "data_series = pandas.Series(data)\n",
    "data_series.quantile(0.5/0.99/, etc.)\n",
    "\n",
    "# Inter Quantile Range:- IQR = Q3 - Q1\n",
    "# Direct formula\n",
    "from scipy import stats\n",
    "stats.iqr(data) Or stats.iqr(Marks,interpolation='midpoint')\n",
    "# Or calculate using Q3/Q1 using numpy.percentile or pandas.Series(data) > series.quantile\n",
    "\n",
    "# Outliers using IQR\n",
    "# IQR = Q3 - Q1\n",
    "# LL = Q1 - (1.5*IQR)\n",
    "# UL = Q3 + (1.5*IQR)"
   ]
  },
  {
   "cell_type": "code",
   "execution_count": 5,
   "id": "8010036d-4893-42c2-8c0d-312281f54a5e",
   "metadata": {},
   "outputs": [
    {
     "ename": "SyntaxError",
     "evalue": "invalid syntax. Perhaps you forgot a comma? (2430098898.py, line 18)",
     "output_type": "error",
     "traceback": [
      "\u001b[1;36m  Cell \u001b[1;32mIn[5], line 18\u001b[1;36m\u001b[0m\n\u001b[1;33m    numpy.append(data,[value1,value2,value3....valueN])\u001b[0m\n\u001b[1;37m                                     ^\u001b[0m\n\u001b[1;31mSyntaxError\u001b[0m\u001b[1;31m:\u001b[0m invalid syntax. Perhaps you forgot a comma?\n"
     ]
    }
   ],
   "source": [
    "# To generate random numbers\n",
    "numpy.random.normal(start_value,SD,no_of_values)\n",
    "\n",
    "# To create a histogram graph\n",
    "import matplotlib.pyplot as plt\n",
    "plt.hist(data)\n",
    "\n",
    "# Creates both histogram and distribution plot using kernal density estimate curve.\n",
    "seabornsns.distplot(data)\n",
    "\n",
    "# To display the created graph.\n",
    "plt.show()\n",
    "\n",
    "# To ignore warnings while displaying the graphs\n",
    "warnings.filterwarnings('ignore')\n",
    "\n",
    "# Add aditional data to the existing list\n",
    "numpy.append(data,[value1,value2,value3....valueN])\n",
    "\n",
    "# Check the skewness and kurtosis of the data\n",
    "from scipy import stats\n",
    "stats.skew(data) - how much symmetric\n",
    "stats.kurtosis(data) - how much taildness"
   ]
  },
  {
   "cell_type": "code",
   "execution_count": null,
   "id": "b179111c-73ab-48ac-b098-c18ac906f10c",
   "metadata": {},
   "outputs": [],
   "source": []
  }
 ],
 "metadata": {
  "kernelspec": {
   "display_name": "Python [conda env:base] *",
   "language": "python",
   "name": "conda-base-py"
  },
  "language_info": {
   "codemirror_mode": {
    "name": "ipython",
    "version": 3
   },
   "file_extension": ".py",
   "mimetype": "text/x-python",
   "name": "python",
   "nbconvert_exporter": "python",
   "pygments_lexer": "ipython3",
   "version": "3.13.5"
  }
 },
 "nbformat": 4,
 "nbformat_minor": 5
}
