{
 "cells": [
  {
   "cell_type": "markdown",
   "id": "c6b193a5-2b6f-47d5-a203-9a4a2b4f55cb",
   "metadata": {},
   "source": [
    "### Percentile, Quantile, IQR"
   ]
  },
  {
   "cell_type": "code",
   "execution_count": 46,
   "id": "ef2c4794-1dc3-470d-b2f1-a638d0533a34",
   "metadata": {},
   "outputs": [
    {
     "name": "stdout",
     "output_type": "stream",
     "text": [
      "Sorted marks only for reference is  [22, 25, 28, 31, 33, 35, 36, 38, 40, 42, 45]\n",
      "Total number of values in the list  11\n",
      "Percentile of 36 is 63.63636363636364\n",
      "Percentile of 45 is 100.00000000000001\n",
      "Percentile of 22 is 9.090909090909092\n"
     ]
    }
   ],
   "source": [
    "# Calculate percentile of a given value from the dataset\n",
    "\n",
    "from scipy import stats\n",
    "\n",
    "Marks = [25, 22, 31, 28, 38, 45, 33, 40, 35, 36, 42]\n",
    "\n",
    "# Sort is not mandatory, just for our reference. \n",
    "# If we calculate manually, we need to sort and then \n",
    "# Formula:- (number of elements <= the given value / Total values) * 100\n",
    "Marks.sort()\n",
    "print(\"Sorted marks only for reference is \",Marks)\n",
    "print(\"Total number of values in the list \",len(Marks))\n",
    "\n",
    "Percentile_For_Value = 36\n",
    "print(\"Percentile of {} is {}\".format((Percentile_For_Value),stats.percentileofscore(Marks, Percentile_For_Value)))\n",
    "\n",
    "Percentile_For_Value = 45\n",
    "print(\"Percentile of {} is {}\".format((Percentile_For_Value),stats.percentileofscore(Marks, Percentile_For_Value)))\n",
    "\n",
    "Percentile_For_Value = 22\n",
    "print(\"Percentile of {} is {}\".format((Percentile_For_Value),stats.percentileofscore(Marks, Percentile_For_Value)))"
   ]
  },
  {
   "cell_type": "code",
   "execution_count": 23,
   "id": "feecaa59-bb38-4790-9de6-b633026a8f86",
   "metadata": {},
   "outputs": [
    {
     "name": "stdout",
     "output_type": "stream",
     "text": [
      "Value at percentile of 63.63 is 36.726\n",
      "Value at percentile of 25 is 29.5\n",
      "Value at percentile of 50 is 35.0\n",
      "Value at percentile of 75 is 39.0\n",
      "Value at percentile of 100 is 45.0\n",
      "Value at percentile of 99 is 44.7\n"
     ]
    }
   ],
   "source": [
    "#### Derive a the value that is at a given percentile\n",
    "\n",
    "# Sort is not mandatory, just for our reference. \n",
    "# If we calculate manually, we need to sort and then \n",
    "# Formula:- Location of percentile is = (Total number of data elements * Percentile) / 100\n",
    "\n",
    "import numpy\n",
    "\n",
    "Marks = [22, 25, 28, 31, 33, 35, 36, 38, 40, 42, 45]\n",
    "\n",
    "Percentile = 63.63\n",
    "Value_At_Percentile = numpy.percentile(Marks, Percentile)\n",
    "print(\"Value at percentile of {} is {}\".format(Percentile,Value_At_Percentile))\n",
    "\n",
    "Percentile = 25\n",
    "Value_At_Percentile = numpy.percentile(Marks, Percentile)\n",
    "print(\"Value at percentile of {} is {}\".format(Percentile,Value_At_Percentile))\n",
    "\n",
    "Percentile = 50\n",
    "Value_At_Percentile = numpy.percentile(Marks, Percentile)\n",
    "print(\"Value at percentile of {} is {}\".format(Percentile,Value_At_Percentile))\n",
    "\n",
    "Percentile = 75\n",
    "Value_At_Percentile = numpy.percentile(Marks, Percentile)\n",
    "print(\"Value at percentile of {} is {}\".format(Percentile,Value_At_Percentile))\n",
    "\n",
    "Percentile = 100\n",
    "Value_At_Percentile = numpy.percentile(Marks, Percentile)\n",
    "print(\"Value at percentile of {} is {}\".format(Percentile,Value_At_Percentile))\n",
    "\n",
    "Percentile = 99\n",
    "Value_At_Percentile = numpy.percentile(Marks, Percentile)\n",
    "print(\"Value at percentile of {} is {}\".format(Percentile,Value_At_Percentile))"
   ]
  },
  {
   "cell_type": "code",
   "execution_count": 15,
   "id": "8df9fc19-f006-4f97-8dda-cc7202a638f6",
   "metadata": {},
   "outputs": [
    {
     "name": "stdout",
     "output_type": "stream",
     "text": [
      "25th Percentile or Q1\n",
      "29.5\n",
      "29.5\n",
      "\n",
      "\n",
      "50th Percentile or Q2\n",
      "35.0\n",
      "35.0\n",
      "\n",
      "\n",
      "75th Percentile or Q3\n",
      "39.0\n",
      "39.0\n",
      "\n",
      "\n",
      "100th Percentile or Q4\n",
      "45.0\n",
      "45.0\n",
      "\n",
      "\n",
      "99th Percentile\n",
      "44.7\n",
      "44.7\n"
     ]
    }
   ],
   "source": [
    "# Quantile - Standard percentiles like 25,50,75,100 are called Quantiles\n",
    "\n",
    "import numpy\n",
    "import pandas as pd\n",
    "Marks = [22, 25, 28, 31, 33, 35, 36, 38, 40, 42, 45]\n",
    "\n",
    "Marks_Series = pd.Series(Marks)\n",
    "\n",
    "# 25th percentile\n",
    "print('25th Percentile or Q1')\n",
    "print(Marks_Series.quantile(0.25))\n",
    "print(numpy.percentile(Marks,25))\n",
    "\n",
    "# 50th percentile\n",
    "print('\\n')\n",
    "print('50th Percentile or Q2')\n",
    "print(Marks_Series.quantile(0.5))\n",
    "print(numpy.percentile(Marks,50))\n",
    "\n",
    "# 75th percentile\n",
    "print('\\n')\n",
    "print('75th Percentile or Q3')\n",
    "print(Marks_Series.quantile(0.75))\n",
    "print(numpy.percentile(Marks,75))\n",
    "\n",
    "# 100th percentile\n",
    "print('\\n')\n",
    "print('100th Percentile or Q4')\n",
    "print(Marks_Series.quantile(1))\n",
    "print(numpy.percentile(Marks,100))\n",
    "\n",
    "# 99th percentile\n",
    "print('\\n')\n",
    "print('99th Percentile')\n",
    "print(Marks_Series.quantile(0.99))\n",
    "print(numpy.percentile(Marks,99))"
   ]
  },
  {
   "cell_type": "code",
   "execution_count": 8,
   "id": "bb3bb2a4-6284-46ac-9088-8401aab9bde2",
   "metadata": {},
   "outputs": [
    {
     "name": "stdout",
     "output_type": "stream",
     "text": [
      "IQR using direct built in function  9.5\n",
      "IQR using direct built in function with interpolation as midpoint  9.5\n",
      "IQR manually using numpy percentile =  9.5\n",
      "IQR manually using pandas series quantile =  9.5\n"
     ]
    }
   ],
   "source": [
    "# Inter Quartile Range (IQR)\n",
    "# IQR = Q3 - Q1\n",
    "\n",
    "from scipy import stats\n",
    "import numpy as np\n",
    "import pandas as pd\n",
    "\n",
    "Marks = [22, 25, 28, 31, 33, 35, 36, 38, 40, 42, 45]\n",
    "Marks_Series = pd.Series(Marks)\n",
    "\n",
    "# Using stats direct method\n",
    "iqr = stats.iqr(Marks)\n",
    "iqr_2 = stats.iqr(Marks,interpolation='midpoint')\n",
    "print(\"IQR using direct built in function \",iqr)\n",
    "print(\"IQR using direct built in function with interpolation as midpoint \",iqr_2)\n",
    "\n",
    "# Using numpy manually Q3 and Q1\n",
    "Percentile = 25\n",
    "Value_At_Percentile25 = np.percentile(Marks, Percentile)\n",
    "Value_At_Quantile25 = Marks_Series.quantile(.25)\n",
    "\n",
    "Percentile = 75\n",
    "Value_At_Percentile75 = np.percentile(Marks, Percentile)\n",
    "Value_At_Quantile75 = Marks_Series.quantile(.75)\n",
    "\n",
    "print(\"IQR manually using numpy percentile = \",Value_At_Percentile75-Value_At_Percentile25)\n",
    "print(\"IQR manually using pandas series quantile = \",Value_At_Quantile75-Value_At_Quantile25)"
   ]
  },
  {
   "cell_type": "code",
   "execution_count": 10,
   "id": "7cb74d7c-50db-46cf-9d87-4da7bd8d038a",
   "metadata": {},
   "outputs": [
    {
     "name": "stdout",
     "output_type": "stream",
     "text": [
      "Q3 =  39.0\n",
      "Q1 =  29.5\n",
      "IQR =  9.5\n",
      "Lower outliers are <=  15.25\n",
      "Upper outliers are >=  53.25\n"
     ]
    }
   ],
   "source": [
    "# Calculate the outliers for the below data set\n",
    "# IQR = Q3 - Q1\n",
    "# LL = Q1 - (1.5*IQR)\n",
    "# UL = Q3 + (1.5*IQR)\n",
    "\n",
    "import numpy as np\n",
    "\n",
    "Marks = [22, 25, 28, 31, 33, 35, 36, 38, 40, 42, 45]\n",
    "\n",
    "Q3 = np.percentile(Marks,75)\n",
    "print(\"Q3 = \",Q3)\n",
    "\n",
    "Q1 = np.percentile(Marks,25)\n",
    "print(\"Q1 = \",Q1)\n",
    "\n",
    "IQR = Q3 - Q1\n",
    "print(\"IQR = \",IQR)\n",
    "\n",
    "LowerOutlier = Q1 - (1.5*IQR)\n",
    "UpperOutlier = Q3 + (1.5*IQR)\n",
    "\n",
    "print(\"Lower outliers are <= \",LowerOutlier)\n",
    "print(\"Upper outliers are >= \",UpperOutlier)"
   ]
  }
 ],
 "metadata": {
  "kernelspec": {
   "display_name": "Python [conda env:base] *",
   "language": "python",
   "name": "conda-base-py"
  },
  "language_info": {
   "codemirror_mode": {
    "name": "ipython",
    "version": 3
   },
   "file_extension": ".py",
   "mimetype": "text/x-python",
   "name": "python",
   "nbconvert_exporter": "python",
   "pygments_lexer": "ipython3",
   "version": "3.12.7"
  }
 },
 "nbformat": 4,
 "nbformat_minor": 5
}
