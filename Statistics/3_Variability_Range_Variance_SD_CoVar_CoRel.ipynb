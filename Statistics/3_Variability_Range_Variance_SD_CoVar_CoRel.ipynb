{
 "cells": [
  {
   "cell_type": "markdown",
   "id": "3b1923ac-67c4-4b24-98ec-01d77085db17",
   "metadata": {},
   "source": [
    "### Range, Variance, SD, CoVariance, CoRelation"
   ]
  },
  {
   "cell_type": "code",
   "execution_count": 10,
   "id": "bd312f5d-091b-4896-908d-e22d95d4e7ea",
   "metadata": {},
   "outputs": [
    {
     "name": "stdout",
     "output_type": "stream",
     "text": [
      "Range using min and max: 7\n",
      "Range using numpy.ptp(): 7\n"
     ]
    }
   ],
   "source": [
    "# Calculate the range of a given dataset\n",
    "\n",
    "import numpy\n",
    "\n",
    "data = [1, 5, 2, 8, 3]\n",
    "\n",
    "# Using min() and max()\n",
    "data_range = max(data) - min(data)\n",
    "print(f\"Range using min and max: {data_range}\")  # Output: 7\n",
    "\n",
    "# Using numpy.ptp() >>> peak to peak\n",
    "data_range_numpy = numpy.ptp(data)\n",
    "print(f\"Range using numpy.ptp(): {data_range_numpy}\") # Output: 7"
   ]
  },
  {
   "cell_type": "code",
   "execution_count": 12,
   "id": "a6f0eacc-8544-4ec9-988c-6d20cc269fb1",
   "metadata": {},
   "outputs": [
    {
     "name": "stdout",
     "output_type": "stream",
     "text": [
      "[0, 1, 2, 3, 4]\n",
      "[2, 3, 4, 5, 6]\n",
      "[1, 3, 5, 7, 9]\n"
     ]
    }
   ],
   "source": [
    "# Print normal range values\n",
    "\n",
    "print(list(range(5)))  # Output: [0, 1, 2, 3, 4]\n",
    "print(list(range(2, 7)))  # Output: [2, 3, 4, 5, 6]\n",
    "print(list(range(1, 10, 2)))  # Output: [1, 3, 5, 7, 9]"
   ]
  },
  {
   "cell_type": "code",
   "execution_count": 14,
   "id": "4d299755-383b-4c9a-8c6f-fba9ecc15968",
   "metadata": {},
   "outputs": [],
   "source": [
    "# Variance >>> Formula:- sum of sq of (X-mean of x)/N"
   ]
  },
  {
   "cell_type": "code",
   "execution_count": 62,
   "id": "d59147cd-1cb2-4d7b-b4ee-3bfbc5276d07",
   "metadata": {},
   "outputs": [
    {
     "name": "stdout",
     "output_type": "stream",
     "text": [
      "Mean is  8\n",
      "Varience is  16\n",
      "Varience is  12.8\n"
     ]
    }
   ],
   "source": [
    "# Calculate the varience for both sample and population\n",
    "\n",
    "# First calculate the mean\n",
    "# For sample mean/varience = N-1, for population mean/varience = N\n",
    "import statistics as st\n",
    "\n",
    "data = [3,5,9,10,13]\n",
    "data_mean = st.mean(data)\n",
    "print(\"Mean is \",data_mean)\n",
    "\n",
    "# Calculate the varience, by default it calculates for sample\n",
    "sample_data_variance = st.variance(data)\n",
    "print(\"Varience is \",sample_data_variance)\n",
    "\n",
    "# Calculate the varience, to calculate varience for population, use pvarience method.\n",
    "population_data_variance = st.pvariance(data)\n",
    "print(\"Varience is \",population_data_variance)"
   ]
  },
  {
   "cell_type": "code",
   "execution_count": 17,
   "id": "72153fe9-5235-4581-9f70-88694c5d8433",
   "metadata": {},
   "outputs": [
    {
     "name": "stdout",
     "output_type": "stream",
     "text": [
      "Variance is  12.8\n"
     ]
    }
   ],
   "source": [
    "# Varience using numpy for population\n",
    "\n",
    "import numpy as np\n",
    "\n",
    "data = [3,5,9,10,13]\n",
    "data_var = np.var(data)\n",
    "print(\"Variance is \",data_var)"
   ]
  },
  {
   "cell_type": "code",
   "execution_count": 60,
   "id": "3dc1ab9c-85b6-4b4d-8d9d-90b3778a7c55",
   "metadata": {},
   "outputs": [],
   "source": [
    "# SD >>> Formula:- square root (sum of sq of (X-mean of x)/N)"
   ]
  },
  {
   "cell_type": "code",
   "execution_count": 24,
   "id": "cd754054-cbfe-4cb6-ba32-8d4bf48587ff",
   "metadata": {},
   "outputs": [
    {
     "name": "stdout",
     "output_type": "stream",
     "text": [
      "4.0\n",
      "3.5777087639996634\n"
     ]
    }
   ],
   "source": [
    "# Calculate the SD for both sample and population\n",
    "\n",
    "import statistics as st\n",
    "\n",
    "# Calculate the SD, by default it calculates for sample\n",
    "data = [3,5,9,10,13]\n",
    "data_stdv = st.stdev(data)\n",
    "print(data_stdv)\n",
    "\n",
    "# Calculate the SD for population, use pstdev method\n",
    "data = [3,5,9,10,13]\n",
    "data_stdv = st.pstdev(data)\n",
    "print(data_stdv)"
   ]
  },
  {
   "cell_type": "code",
   "execution_count": 15,
   "id": "6ec84e11-8c4c-40ad-8171-f925a3c798c1",
   "metadata": {},
   "outputs": [
    {
     "name": "stdout",
     "output_type": "stream",
     "text": [
      "SD is  3.5777087639996634\n"
     ]
    }
   ],
   "source": [
    "# SD using numpy, calculates for population\n",
    "\n",
    "import numpy as np\n",
    "\n",
    "data = [3,5,9,10,13]\n",
    "data_sd = np.std(data)\n",
    "print(\"SD is \",data_sd)"
   ]
  },
  {
   "cell_type": "code",
   "execution_count": 58,
   "id": "24f4ce1a-b109-42bb-9b8e-5a36bb922445",
   "metadata": {},
   "outputs": [
    {
     "name": "stdout",
     "output_type": "stream",
     "text": [
      "Mean of Train A is  15\n",
      "Mean of Train B is  15\n",
      "Standard Deviation of Train A is 1.8973665961010275 minutes and Train B is 9.85900603509299 minutes >>> Train A is better option!\n"
     ]
    }
   ],
   "source": [
    "# Two trains and their delay times are given below, using the SD, identify the train with minimum delays\n",
    "\n",
    "import statistics as st\n",
    "\n",
    "TrainA_Delays = [13,16,13,18,15]\n",
    "TrainB_Delays = [25,4,27,4,15]\n",
    "\n",
    "print(\"Mean of Train A is \",st.mean(TrainA_Delays))\n",
    "print(\"Mean of Train B is \",st.mean(TrainB_Delays))\n",
    "\n",
    "SD_TrainA_Delays = st.pstdev(TrainA_Delays)\n",
    "SD_TrainB_Delays = st.pstdev(TrainB_Delays)\n",
    "\n",
    "if SD_TrainA_Delays > SD_TrainB_Delays:\n",
    "    print(f\"Standard Deviation of Train A is {SD_TrainA_Delays} minutes and Train B is {SD_TrainB_Delays} minutes >>> Train B is better option!\")\n",
    "else:\n",
    "    print(f\"Standard Deviation of Train A is {SD_TrainA_Delays} minutes and Train B is {SD_TrainB_Delays} minutes >>> Train A is better option!\")"
   ]
  },
  {
   "cell_type": "code",
   "execution_count": null,
   "id": "0f8fd8a3-263d-476c-b656-01dc00b53c07",
   "metadata": {},
   "outputs": [],
   "source": [
    "# CoVariance >>> Formula:- Sum of ((X - mean of x)(Y - mean of y))/N)"
   ]
  },
  {
   "cell_type": "code",
   "execution_count": 144,
   "id": "2aa45f7b-12d4-45de-8362-725c9dbc99e4",
   "metadata": {},
   "outputs": [
    {
     "name": "stdout",
     "output_type": "stream",
     "text": [
      "Mean of temparature is  26\n",
      "Mean of ice cream is  44\n",
      "CoVar of Temp and sales of ice cream using statistics module  40.5\n",
      "CoVar of Temp and sales of ice cream using numpy module  [[29.5 40.5]\n",
      " [40.5 56. ]]\n"
     ]
    }
   ],
   "source": [
    "# Calculate the CoVarience between Temparature and Sales of Ice Cream.\n",
    "# +ve indicates :- if one increases the other increases, -ve indicates:- if one increases the other decreases.\n",
    "\n",
    "import statistics as st\n",
    "import numpy as np\n",
    "\n",
    "Data_Temp = [20,22,25,30,33]\n",
    "Data_Sales_IceCream = [35,39,43,50,53]\n",
    "Data_Sales_Tea = [40,36,34,29,26]\n",
    "\n",
    "# First Calculate the Mean of Temparature and Sales of ice cream\n",
    "\n",
    "Mean_Temp = st.mean(Data_Temp)\n",
    "Mean_Sales_IceCream = st.mean(Data_Sales_IceCream)\n",
    "print(\"Mean of temparature is \",Mean_Temp)\n",
    "print(\"Mean of ice cream is \",Mean_Sales_IceCream)\n",
    "\n",
    "# Variance = (20-26)(35-44)+(22-26)(39-44)...../N\n",
    "Temp_SalesIceCream_CoVariance_st = st.covariance(Data_Temp,Data_Sales_IceCream)\n",
    "Temp_SalesIceCream_CoVariance_np = np.cov(Data_Temp,Data_Sales_IceCream)\n",
    "print(\"CoVar of Temp and sales of ice cream using statistics module \",Temp_SalesIceCream_CoVariance_st)\n",
    "print(\"CoVar of Temp and sales of ice cream using numpy module \",Temp_SalesIceCream_CoVariance_np)"
   ]
  },
  {
   "cell_type": "code",
   "execution_count": 146,
   "id": "15bb521e-25b5-4ca3-943b-aa3f9261b7d4",
   "metadata": {},
   "outputs": [
    {
     "name": "stdout",
     "output_type": "stream",
     "text": [
      "Mean of Temparature is  26\n",
      "Mean of Sales of Tea is  33\n",
      "CoVar of Temp and sales of Tea using statistics module  -30.0\n",
      "CoVar of Temp and sales of Tea using numpy module  [[ 29.5 -30. ]\n",
      " [-30.   31. ]]\n"
     ]
    }
   ],
   "source": [
    "# Calculate the CoVarience between Temparature and Sales of Tea.\n",
    "# +ve indicates :- if one increases the other increases, -ve indicates:- if one increases the other decreases.\n",
    "\n",
    "import statistics as st\n",
    "import numpy as np\n",
    "\n",
    "Data_Temp = [20,22,25,30,33]\n",
    "Data_Sales_IceCream = [35,39,43,50,53]\n",
    "Data_Sales_Tea = [40,36,34,29,26]\n",
    "\n",
    "# First Calculate the Mean of Temparature and Sales of Tea\n",
    "\n",
    "Mean_Temp = st.mean(Data_Temp)\n",
    "Mean_Sales_Tea = st.mean(Data_Sales_Tea)\n",
    "print(\"Mean of Temparature is \",Mean_Temp)\n",
    "print(\"Mean of Sales of Tea is \",Mean_Sales_Tea)\n",
    "\n",
    "# Variance = (20-26)(40-33)+(22-26)(36-33)...../N\n",
    "Temp_SalesTea_CoVariance_st = st.covariance(Data_Temp,Data_Sales_Tea)\n",
    "Temp_SalesTea_CoVariance_np = np.cov(Data_Temp,Data_Sales_Tea)\n",
    "print(\"CoVar of Temp and sales of Tea using statistics module \",Temp_SalesTea_CoVariance_st)\n",
    "print(\"CoVar of Temp and sales of Tea using numpy module \",Temp_SalesTea_CoVariance_np)"
   ]
  },
  {
   "cell_type": "code",
   "execution_count": 1,
   "id": "bfb04780-d553-4b78-afd9-2300c9fa71e6",
   "metadata": {},
   "outputs": [
    {
     "name": "stdout",
     "output_type": "stream",
     "text": [
      "Mean of temparature is  26\n",
      "Mean of ice cream is  44\n",
      "CoVar of Temp and sales of ice cream using statistics module  40.5\n",
      "CoVar of Temp and sales of ice cream using numpy module  [[29.5 40.5]\n",
      " [40.5 56. ]]\n",
      "Standard deviation of Temparature is  5.431390245600108\n",
      "Standard deviation of Sales of ice cream is  7.483314773547883\n",
      "CoRelation of Temp and Sales of Ice Cream is  [[1.         0.99643736]\n",
      " [0.99643736 1.        ]]\n",
      "Manual CoRelation of Temp and Sales of Ice Cream is  0.9964373583928738\n"
     ]
    }
   ],
   "source": [
    "# Calculate CoRelation between Temparature and Sales of Ice Cream\n",
    "# -1 to +1\n",
    "\n",
    "import statistics as st\n",
    "import numpy as np\n",
    "\n",
    "Data_Temp = [20,22,25,30,33]\n",
    "Data_Sales_IceCream = [35,39,43,50,53]\n",
    "Data_Sales_Tea = [40,36,34,29,26]\n",
    "\n",
    "# Calculate the CoRelation between Temparature and Sales of Ice Cream.\n",
    "# First Calculate the Mean of Temparature and Sales of ice cream\n",
    "\n",
    "Mean_Temp = st.mean(Data_Temp)\n",
    "Mean_Sales_IceCream = st.mean(Data_Sales_IceCream)\n",
    "print(\"Mean of temparature is \",Mean_Temp)\n",
    "print(\"Mean of ice cream is \",Mean_Sales_IceCream)\n",
    "\n",
    "# Variance = (20-26)(35-44)+(22-26)(39-44)...../N\n",
    "Temp_SalesIceCream_CoVariance_st = st.covariance(Data_Temp,Data_Sales_IceCream)\n",
    "Temp_SalesIceCream_CoVariance_np = np.cov(Data_Temp,Data_Sales_IceCream)\n",
    "print(\"CoVar of Temp and sales of ice cream using statistics module \",Temp_SalesIceCream_CoVariance_st)\n",
    "print(\"CoVar of Temp and sales of ice cream using numpy module \",Temp_SalesIceCream_CoVariance_np)\n",
    "\n",
    "# SD of Temp and SalesOfIceCream\n",
    "SD_Temp = st.stdev(Data_Temp)\n",
    "SD_SalesOfIceCream = st.stdev(Data_Sales_IceCream)\n",
    "print(\"Standard deviation of Temparature is \",SD_Temp)\n",
    "print(\"Standard deviation of Sales of ice cream is \",SD_SalesOfIceCream)\n",
    "\n",
    "# CoRelation = CoVar(Temp,SalesIceCream)/SD of Temp * SD of SalesOfIceCream\n",
    "CoR_Temp_SalesIceCream = np.corrcoef(Data_Temp,Data_Sales_IceCream)\n",
    "# np.corr >>> To calculate the corelation pairwise for all the numberical columns >>> More details in matplotlib, seaborn heatmap section\n",
    "print(\"CoRelation of Temp and Sales of Ice Cream is \",CoR_Temp_SalesIceCream)\n",
    "\n",
    "CoR_Temp_SalesIceCream_manual = Temp_SalesIceCream_CoVariance_st/(SD_Temp*SD_SalesOfIceCream)\n",
    "print(\"Manual CoRelation of Temp and Sales of Ice Cream is \",CoR_Temp_SalesIceCream_manual)"
   ]
  },
  {
   "cell_type": "code",
   "execution_count": 158,
   "id": "e36c5958-45e4-43ab-8c93-c1cbd8f1ef6d",
   "metadata": {},
   "outputs": [
    {
     "name": "stdout",
     "output_type": "stream",
     "text": [
      "Mean of temparature is  26\n",
      "Mean of Tea is  6010.8\n",
      "CoVar of Temp and sales of Tea using statistics module  49449.0\n",
      "CoVar of Temp and sales of Tea using numpy module  [[2.95000000e+01 4.94490000e+04]\n",
      " [4.94490000e+04 1.34836685e+08]]\n",
      "Standard deviation of Temparature is  5.431390245600108\n",
      "Standard deviation of Sales of Tea is  11611.919961832324\n",
      "CoRelation of Temp and Sales of Ice Tea is  [[1.         0.78404768]\n",
      " [0.78404768 1.        ]]\n",
      "Manual CoRelation of Temp and Sales of Tea is  0.7840476756657053\n"
     ]
    }
   ],
   "source": [
    "# Calculate the CoRelation between Temparature and Sales of Tea.\n",
    "# -1 to +1\n",
    "\n",
    "import statistics as st\n",
    "import numpy as np\n",
    "\n",
    "Data_Temp = [20,22,25,30,33]\n",
    "Data_Sales_IceCream = [35,39,43,50,53]\n",
    "Data_Sales_Tea = [40,36,34,29,26]\n",
    "\n",
    "# First Calculate the Mean of Temparature and Sales of Tea\n",
    "\n",
    "Mean_Temp = st.mean(Data_Temp)\n",
    "Mean_Sales_Tea = st.mean(Data_Sales_Tea)\n",
    "print(\"Mean of temparature is \",Mean_Temp)\n",
    "print(\"Mean of Tea is \",Mean_Sales_Tea)\n",
    "\n",
    "# Variance = (20-26)(40-33)+(22-26)(36-33)...../N\n",
    "Temp_SalesTea_CoVariance_st = st.covariance(Data_Temp,Data_Sales_Tea)\n",
    "Temp_SalesTea_CoVariance_np = np.cov(Data_Temp,Data_Sales_Tea)\n",
    "print(\"CoVar of Temp and sales of Tea using statistics module \",Temp_SalesTea_CoVariance_st)\n",
    "print(\"CoVar of Temp and sales of Tea using numpy module \",Temp_SalesTea_CoVariance_np)\n",
    "\n",
    "# SD of Temp and SalesOfTea\n",
    "SD_Temp = st.stdev(Data_Temp)\n",
    "SD_SalesOfTea = st.stdev(Data_Sales_Tea)\n",
    "print(\"Standard deviation of Temparature is \",SD_Temp)\n",
    "print(\"Standard deviation of Sales of Tea is \",SD_SalesOfTea)\n",
    "\n",
    "# CoRelation = CoVar(Temp,SalesOfTea)/SD of Temp * SD of SalesOfTea\n",
    "CoR_Temp_SalesOfTea = np.corrcoef(Data_Temp,Data_Sales_Tea)\n",
    "print(\"CoRelation of Temp and Sales of Ice Tea is \",CoR_Temp_SalesOfTea)\n",
    "\n",
    "CoR_Temp_SalesOfTea_Manual = Temp_SalesTea_CoVariance_st/(SD_Temp*SD_SalesOfTea)\n",
    "print(\"Manual CoRelation of Temp and Sales of Tea is \",CoR_Temp_SalesOfTea_Manual)"
   ]
  },
  {
   "cell_type": "code",
   "execution_count": 3,
   "id": "3f442ea2-46cb-469c-b345-a4a1d0c5d72b",
   "metadata": {},
   "outputs": [
    {
     "name": "stdout",
     "output_type": "stream",
     "text": [
      "Standard deviation of Temparature is  5.431390245600108\n",
      "Standard deviation of Sales of Tea is  290.4183189814307\n",
      "CoRelation of Temp and Sales of Ice Tea is  [[ 1.         -0.97472052]\n",
      " [-0.97472052  1.        ]]\n",
      "Manual CoRelation of Temp and Sales of Tea is  -0.9747205203740413\n"
     ]
    }
   ],
   "source": [
    "# Calculate the CoRelation between Temparature and Sales of Tea.\n",
    "# -1 to +1\n",
    "\n",
    "import statistics as st\n",
    "import numpy as np\n",
    "\n",
    "Data_Temp = [20,22,25,30,33]\n",
    "Data_Sales_Tea = [999,792,615,499,233]\n",
    "\n",
    "# SD of Temp and SalesOfTea\n",
    "SD_Temp = st.stdev(Data_Temp)\n",
    "SD_SalesOfTea = st.stdev(Data_Sales_Tea)\n",
    "print(\"Standard deviation of Temparature is \",SD_Temp)\n",
    "print(\"Standard deviation of Sales of Tea is \",SD_SalesOfTea)\n",
    "\n",
    "# CoRelation = CoVar(Temp,SalesOfTea)/SD of Temp * SD of SalesOfTea\n",
    "CoR_Temp_SalesOfTea = np.corrcoef(Data_Temp,Data_Sales_Tea)\n",
    "print(\"CoRelation of Temp and Sales of Ice Tea is \",CoR_Temp_SalesOfTea)\n",
    "\n",
    "Temp_SalesTea_CoVariance_st = st.covariance(Data_Temp,Data_Sales_Tea)\n",
    "CoR_Temp_SalesOfTea_Manual = Temp_SalesTea_CoVariance_st/(SD_Temp*SD_SalesOfTea)\n",
    "print(\"Manual CoRelation of Temp and Sales of Tea is \",CoR_Temp_SalesOfTea_Manual)"
   ]
  },
  {
   "cell_type": "code",
   "execution_count": 19,
   "id": "8182d377-6742-4cab-9fe9-0a3f18175fa6",
   "metadata": {},
   "outputs": [
    {
     "name": "stdout",
     "output_type": "stream",
     "text": [
      "Pearson Correlation: 0.990328835576022 P-value: 0.0011400423498649174\n",
      "Spearman Correlation: 0.9999999999999999 P-value: 1.4042654220543672e-24\n",
      "Kendall Correlation: 0.9999999999999999 P-value: 0.016666666666666666\n"
     ]
    }
   ],
   "source": [
    "# More detailed CoR data.\n",
    "\n",
    "from scipy import stats\n",
    "\n",
    "x = np.array([20,22,25,30,33])\n",
    "y = np.array([111,222,333,499,555])\n",
    "\n",
    "pearson_corr, p_value_pearson = stats.pearsonr(x, y)\n",
    "print(\"Pearson Correlation:\", pearson_corr, \"P-value:\", p_value_pearson)\n",
    "\n",
    "spearman_corr, p_value_spearman = stats.spearmanr(x, y)\n",
    "print(\"Spearman Correlation:\", spearman_corr, \"P-value:\", p_value_spearman)\n",
    "\n",
    "kendall_corr, p_value_kendall = stats.kendalltau(x, y)\n",
    "print(\"Kendall Correlation:\", kendall_corr, \"P-value:\", p_value_kendall)"
   ]
  },
  {
   "cell_type": "code",
   "execution_count": null,
   "id": "091ea659-8ead-4d72-9905-26773dd696b7",
   "metadata": {},
   "outputs": [],
   "source": []
  }
 ],
 "metadata": {
  "kernelspec": {
   "display_name": "Python [conda env:base] *",
   "language": "python",
   "name": "conda-base-py"
  },
  "language_info": {
   "codemirror_mode": {
    "name": "ipython",
    "version": 3
   },
   "file_extension": ".py",
   "mimetype": "text/x-python",
   "name": "python",
   "nbconvert_exporter": "python",
   "pygments_lexer": "ipython3",
   "version": "3.12.7"
  }
 },
 "nbformat": 4,
 "nbformat_minor": 5
}
