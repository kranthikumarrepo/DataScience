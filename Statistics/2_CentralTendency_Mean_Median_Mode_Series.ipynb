{
 "cells": [
  {
   "cell_type": "markdown",
   "id": "7dffd282-bf73-46d4-a2c4-e565e100e18c",
   "metadata": {},
   "source": [
    "### Mean, Median, Mode, List vs Series"
   ]
  },
  {
   "cell_type": "code",
   "execution_count": 2,
   "id": "7942f1ba-ce9d-4684-a4f8-a28e63f68b84",
   "metadata": {},
   "outputs": [
    {
     "name": "stdout",
     "output_type": "stream",
     "text": [
      "Mean of the temparature is  26\n",
      "Median of the temparature is  25\n"
     ]
    }
   ],
   "source": [
    "# Calculate Mean, Median\n",
    "\n",
    "import statistics as st\n",
    "\n",
    "temparature_dataset = [20,22,25,30,33]\n",
    "\n",
    "mean_temp = st.mean(temparature_dataset)\n",
    "print(\"Mean of the temparature is \",mean_temp)\n",
    "\n",
    "median_temp = st.median(temparature_dataset)\n",
    "print(\"Median of the temparature is \",median_temp)"
   ]
  },
  {
   "cell_type": "code",
   "execution_count": 5,
   "id": "5aae1f6e-4f31-423c-bb7a-713cefb1a0c4",
   "metadata": {},
   "outputs": [
    {
     "name": "stdout",
     "output_type": "stream",
     "text": [
      "Mean of temparature data set is  26.0\n",
      "Mean of temparature using statistics module  26\n",
      "Mean of temparature using numpy module  26.0\n",
      "Mean of temparature using pandas module  26.0\n"
     ]
    }
   ],
   "source": [
    "# Different ways to calculate the mean\n",
    "\n",
    "# Using the sum() and len() functions\n",
    "temparature_dataset = [20,22,25,30,33]\n",
    "\n",
    "mean_temp = sum(temparature_dataset)/len(temparature_dataset)\n",
    "print(\"Mean of temparature data set is \",mean_temp)\n",
    "\n",
    "# Using the statistics.mean() function\n",
    "import statistics as st\n",
    "mean_temp_st = st.mean(temparature_dataset)\n",
    "print(\"Mean of temparature using statistics module \",mean_temp_st)\n",
    "\n",
    "# Using numpy.mean() function\n",
    "import numpy\n",
    "mean_temp_numpy = numpy.mean(temparature_dataset)\n",
    "print(\"Mean of temparature using numpy module \",mean_temp_numpy)\n",
    "\n",
    "# Using pandas.mean() function\n",
    "import pandas\n",
    "temparature_dataset_series = pandas.Series(temparature_dataset)\n",
    "mean_temp_pandas = temparature_dataset_series.mean()\n",
    "print(\"Mean of temparature using pandas module \",mean_temp_pandas)"
   ]
  },
  {
   "cell_type": "code",
   "execution_count": 21,
   "id": "98ec11db-f675-4f5c-ac34-a6c8e0029a76",
   "metadata": {},
   "outputs": [
    {
     "name": "stdout",
     "output_type": "stream",
     "text": [
      "8\n",
      "ModeResult(mode=8, count=5)\n"
     ]
    }
   ],
   "source": [
    "# Calculate the mode of a given dataset\n",
    "\n",
    "import statistics\n",
    "from scipy import stats\n",
    "\n",
    "data = [1, 2, 3, 4, 4, 5, 6, 7, 7, 7,8,8,8,8,8]\n",
    "\n",
    "mode_value1 = statistics.mode(data)\n",
    "mode_value2 = stats.mode(data)\n",
    "\n",
    "print(mode_value1)\n",
    "print(mode_value2)\n",
    "\n",
    "# stats.mode returns more detailed output with no. of occurances of the mode."
   ]
  },
  {
   "cell_type": "code",
   "execution_count": 38,
   "id": "158c0be8-9829-44db-9cc0-d3b25028bd7c",
   "metadata": {},
   "outputs": [
    {
     "ename": "TypeError",
     "evalue": "Argument `a` is not recognized as numeric. Support for input that cannot be coerced to a numeric array was deprecated in SciPy 1.9.0 and removed in SciPy 1.11.0. Please consider `np.unique`.",
     "output_type": "error",
     "traceback": [
      "\u001b[1;31m---------------------------------------------------------------------------\u001b[0m",
      "\u001b[1;31mTypeError\u001b[0m                                 Traceback (most recent call last)",
      "\u001b[1;32m~\\AppData\\Local\\Temp\\ipykernel_13052\\1421514962.py\u001b[0m in \u001b[0;36m?\u001b[1;34m()\u001b[0m\n\u001b[0;32m      5\u001b[0m \u001b[1;33m\u001b[0m\u001b[0m\n\u001b[0;32m      6\u001b[0m \u001b[0mdata\u001b[0m \u001b[1;33m=\u001b[0m \u001b[1;33m[\u001b[0m\u001b[1;34m'apple'\u001b[0m\u001b[1;33m,\u001b[0m \u001b[1;34m'banana'\u001b[0m\u001b[1;33m,\u001b[0m \u001b[1;34m'apple'\u001b[0m\u001b[1;33m,\u001b[0m \u001b[1;34m'orange'\u001b[0m\u001b[1;33m,\u001b[0m \u001b[1;34m'banana'\u001b[0m\u001b[1;33m,\u001b[0m \u001b[1;34m'apple'\u001b[0m\u001b[1;33m,\u001b[0m\u001b[1;34m'banana'\u001b[0m\u001b[1;33m]\u001b[0m\u001b[1;33m\u001b[0m\u001b[1;33m\u001b[0m\u001b[0m\n\u001b[0;32m      7\u001b[0m \u001b[1;33m\u001b[0m\u001b[0m\n\u001b[0;32m      8\u001b[0m \u001b[0mmode_value1\u001b[0m \u001b[1;33m=\u001b[0m \u001b[0mstatistics\u001b[0m\u001b[1;33m.\u001b[0m\u001b[0mmode\u001b[0m\u001b[1;33m(\u001b[0m\u001b[0mdata\u001b[0m\u001b[1;33m)\u001b[0m\u001b[1;33m\u001b[0m\u001b[1;33m\u001b[0m\u001b[0m\n\u001b[1;32m----> 9\u001b[1;33m \u001b[0mmode_value2\u001b[0m \u001b[1;33m=\u001b[0m \u001b[0mstats\u001b[0m\u001b[1;33m.\u001b[0m\u001b[0mmode\u001b[0m\u001b[1;33m(\u001b[0m\u001b[0mdata\u001b[0m\u001b[1;33m)\u001b[0m\u001b[1;33m\u001b[0m\u001b[1;33m\u001b[0m\u001b[0m\n\u001b[0m\u001b[0;32m     10\u001b[0m \u001b[1;33m\u001b[0m\u001b[0m\n\u001b[0;32m     11\u001b[0m \u001b[0mprint\u001b[0m\u001b[1;33m(\u001b[0m\u001b[0mmode_value1\u001b[0m\u001b[1;33m)\u001b[0m\u001b[1;33m\u001b[0m\u001b[1;33m\u001b[0m\u001b[0m\n\u001b[0;32m     12\u001b[0m \u001b[0mprint\u001b[0m\u001b[1;33m(\u001b[0m\u001b[0mmode_value2\u001b[0m\u001b[1;33m)\u001b[0m\u001b[1;33m\u001b[0m\u001b[1;33m\u001b[0m\u001b[0m\n",
      "\u001b[1;32m~\\anaconda3\\Lib\\site-packages\\scipy\\stats\\_axis_nan_policy.py\u001b[0m in \u001b[0;36m?\u001b[1;34m(***failed resolving arguments***)\u001b[0m\n\u001b[0;32m    527\u001b[0m                 \u001b[1;31m# behavior of those would break backward compatibility.\u001b[0m\u001b[1;33m\u001b[0m\u001b[1;33m\u001b[0m\u001b[0m\n\u001b[0;32m    528\u001b[0m \u001b[1;33m\u001b[0m\u001b[0m\n\u001b[0;32m    529\u001b[0m                 \u001b[1;32mif\u001b[0m \u001b[0msentinel\u001b[0m\u001b[1;33m:\u001b[0m\u001b[1;33m\u001b[0m\u001b[1;33m\u001b[0m\u001b[0m\n\u001b[0;32m    530\u001b[0m                     \u001b[0msamples\u001b[0m \u001b[1;33m=\u001b[0m \u001b[0m_remove_sentinel\u001b[0m\u001b[1;33m(\u001b[0m\u001b[0msamples\u001b[0m\u001b[1;33m,\u001b[0m \u001b[0mpaired\u001b[0m\u001b[1;33m,\u001b[0m \u001b[0msentinel\u001b[0m\u001b[1;33m)\u001b[0m\u001b[1;33m\u001b[0m\u001b[1;33m\u001b[0m\u001b[0m\n\u001b[1;32m--> 531\u001b[1;33m                 \u001b[0mres\u001b[0m \u001b[1;33m=\u001b[0m \u001b[0mhypotest_fun_out\u001b[0m\u001b[1;33m(\u001b[0m\u001b[1;33m*\u001b[0m\u001b[0msamples\u001b[0m\u001b[1;33m,\u001b[0m \u001b[1;33m**\u001b[0m\u001b[0mkwds\u001b[0m\u001b[1;33m)\u001b[0m\u001b[1;33m\u001b[0m\u001b[1;33m\u001b[0m\u001b[0m\n\u001b[0m\u001b[0;32m    532\u001b[0m                 \u001b[0mres\u001b[0m \u001b[1;33m=\u001b[0m \u001b[0mresult_to_tuple\u001b[0m\u001b[1;33m(\u001b[0m\u001b[0mres\u001b[0m\u001b[1;33m)\u001b[0m\u001b[1;33m\u001b[0m\u001b[1;33m\u001b[0m\u001b[0m\n\u001b[0;32m    533\u001b[0m                 \u001b[0mres\u001b[0m \u001b[1;33m=\u001b[0m \u001b[0m_add_reduced_axes\u001b[0m\u001b[1;33m(\u001b[0m\u001b[0mres\u001b[0m\u001b[1;33m,\u001b[0m \u001b[0mreduced_axes\u001b[0m\u001b[1;33m,\u001b[0m \u001b[0mkeepdims\u001b[0m\u001b[1;33m)\u001b[0m\u001b[1;33m\u001b[0m\u001b[1;33m\u001b[0m\u001b[0m\n\u001b[0;32m    534\u001b[0m                 \u001b[1;32mreturn\u001b[0m \u001b[0mtuple_to_result\u001b[0m\u001b[1;33m(\u001b[0m\u001b[1;33m*\u001b[0m\u001b[0mres\u001b[0m\u001b[1;33m)\u001b[0m\u001b[1;33m\u001b[0m\u001b[1;33m\u001b[0m\u001b[0m\n",
      "\u001b[1;32m~\\anaconda3\\Lib\\site-packages\\scipy\\stats\\_stats_py.py\u001b[0m in \u001b[0;36m?\u001b[1;34m(a, axis, nan_policy, keepdims)\u001b[0m\n\u001b[0;32m    518\u001b[0m         message = (\"Argument `a` is not recognized as numeric. \"\n\u001b[0;32m    519\u001b[0m                    \u001b[1;34m\"Support for input that cannot be coerced to a numeric \"\u001b[0m\u001b[1;33m\u001b[0m\u001b[1;33m\u001b[0m\u001b[0m\n\u001b[0;32m    520\u001b[0m                    \u001b[1;34m\"array was deprecated in SciPy 1.9.0 and removed in SciPy \"\u001b[0m\u001b[1;33m\u001b[0m\u001b[1;33m\u001b[0m\u001b[0m\n\u001b[0;32m    521\u001b[0m                    \u001b[1;34m\"1.11.0. Please consider `np.unique`.\"\u001b[0m\u001b[1;33m)\u001b[0m\u001b[1;33m\u001b[0m\u001b[1;33m\u001b[0m\u001b[0m\n\u001b[1;32m--> 522\u001b[1;33m         \u001b[1;32mraise\u001b[0m \u001b[0mTypeError\u001b[0m\u001b[1;33m(\u001b[0m\u001b[0mmessage\u001b[0m\u001b[1;33m)\u001b[0m\u001b[1;33m\u001b[0m\u001b[1;33m\u001b[0m\u001b[0m\n\u001b[0m\u001b[0;32m    523\u001b[0m \u001b[1;33m\u001b[0m\u001b[0m\n\u001b[0;32m    524\u001b[0m     \u001b[1;32mif\u001b[0m \u001b[0ma\u001b[0m\u001b[1;33m.\u001b[0m\u001b[0msize\u001b[0m \u001b[1;33m==\u001b[0m \u001b[1;36m0\u001b[0m\u001b[1;33m:\u001b[0m\u001b[1;33m\u001b[0m\u001b[1;33m\u001b[0m\u001b[0m\n\u001b[0;32m    525\u001b[0m         \u001b[0mNaN\u001b[0m \u001b[1;33m=\u001b[0m \u001b[0m_get_nan\u001b[0m\u001b[1;33m(\u001b[0m\u001b[0ma\u001b[0m\u001b[1;33m)\u001b[0m\u001b[1;33m\u001b[0m\u001b[1;33m\u001b[0m\u001b[0m\n",
      "\u001b[1;31mTypeError\u001b[0m: Argument `a` is not recognized as numeric. Support for input that cannot be coerced to a numeric array was deprecated in SciPy 1.9.0 and removed in SciPy 1.11.0. Please consider `np.unique`."
     ]
    }
   ],
   "source": [
    "# Calculate the mode of a given dataset\n",
    "\n",
    "import statistics\n",
    "from scipy import stats\n",
    "\n",
    "data = ['apple', 'banana', 'apple', 'orange', 'banana', 'apple','banana']\n",
    "\n",
    "mode_value1 = statistics.mode(data)\n",
    "mode_value2 = stats.mode(data)\n",
    "\n",
    "print(mode_value1)\n",
    "print(mode_value2)\n",
    "\n",
    "# stats.mode returns more detailed output with no. of occurances of the mode."
   ]
  },
  {
   "cell_type": "markdown",
   "id": "01c53c4a-4c4c-47c6-9b94-0e30496dcaf8",
   "metadata": {},
   "source": [
    "#### Pandas Series\n",
    "\n",
    "- A Pandas Series is a one-dimensional labeled array capable of holding data of any type.\n",
    "- Such as integers, strings, floating-point numbers, and Python objects.\n",
    "- It is a fundamental data structure in the Pandas library, designed for data manipulation and analysi\n"
   ]
  },
  {
   "cell_type": "code",
   "execution_count": 46,
   "id": "972b09d3-23de-452f-bd50-4de42481731b",
   "metadata": {},
   "outputs": [
    {
     "name": "stdout",
     "output_type": "stream",
     "text": [
      "[10, 20, 30, 40, 50]\n",
      "\n",
      "\n",
      "0    10\n",
      "1    20\n",
      "2    30\n",
      "3    40\n",
      "4    50\n",
      "dtype: int64\n"
     ]
    }
   ],
   "source": [
    "# Series vs list \n",
    "\n",
    "import pandas as pd\n",
    "\n",
    "data = [10, 20, 30, 40, 50]\n",
    "series = pd.Series(data)\n",
    "\n",
    "print(data)\n",
    "print('\\n')\n",
    "print(series)"
   ]
  },
  {
   "cell_type": "code",
   "execution_count": 6,
   "id": "2a24d5d9-f209-40bf-bdf3-1666e4d2d512",
   "metadata": {},
   "outputs": [
    {
     "data": {
      "text/plain": [
       "ModeResult(mode=35, count=10)"
      ]
     },
     "execution_count": 6,
     "metadata": {},
     "output_type": "execute_result"
    }
   ],
   "source": [
    "# Calculate Mode\n",
    "import numpy as np\n",
    "exp = np.random.randint(15,high=50,size=200)\n",
    "\n",
    "from scipy import stats\n",
    "stats.mode(exp)"
   ]
  },
  {
   "cell_type": "code",
   "execution_count": 9,
   "id": "a674b55d-9f19-4bc2-a300-cfe657f80d15",
   "metadata": {},
   "outputs": [
    {
     "name": "stdout",
     "output_type": "stream",
     "text": [
      "0     apple\n",
      "1    banana\n",
      "2     apple\n",
      "3    orange\n",
      "4    banana\n",
      "5     apple\n",
      "6    banana\n",
      "dtype: object\n",
      "\n",
      " Mode of the data is  0     apple\n",
      "1    banana\n",
      "dtype: object\n"
     ]
    }
   ],
   "source": [
    "# Mode is generally used for categorical data. Usage of mode for categorical data\n",
    "# We should use pandas library to find mode of categorical data. Pass the data as a series.\n",
    "\n",
    "import pandas as pd\n",
    "\n",
    "data = ['apple', 'banana', 'apple', 'orange', 'banana', 'apple','banana']\n",
    "data_series = pd.Series(data)\n",
    "\n",
    "print(data_series)\n",
    "mode_value = data_series.mode()\n",
    "print(\"\\n Mode of the data is \",mode_value)"
   ]
  }
 ],
 "metadata": {
  "kernelspec": {
   "display_name": "Python [conda env:base] *",
   "language": "python",
   "name": "conda-base-py"
  },
  "language_info": {
   "codemirror_mode": {
    "name": "ipython",
    "version": 3
   },
   "file_extension": ".py",
   "mimetype": "text/x-python",
   "name": "python",
   "nbconvert_exporter": "python",
   "pygments_lexer": "ipython3",
   "version": "3.12.7"
  }
 },
 "nbformat": 4,
 "nbformat_minor": 5
}
