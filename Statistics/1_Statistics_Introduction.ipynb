{
 "cells": [
  {
   "cell_type": "markdown",
   "id": "46aa8347-1eda-4279-a562-9a42b14a5cb4",
   "metadata": {},
   "source": [
    "#### Statistics\n",
    "- Descriptive >>> Collect the data - census & survey, present data using graphs and, summarize the data like mean, median >>> descriptive value is parameter\n",
    "- Ex: mean is population parameter\n",
    "- Inferential >>> Using sample data >>> Estimation - estimate mean weight using sample mean weight and Hypothesis testing >>> descriptive value is statistic\n",
    "- Ex: For instance, calculating the average height of students in a class is a statistic, and it's used to estimate the average height of all students in the school.\n",
    "- .\n",
    "- .\n",
    "- Statistics \n",
    "1. Descriptive - on both sample and entire population > collect & analyse, summarize(Avg), present(Graphs)\n",
    "avg age of entire pop = 30 (Parameter)\n",
    "avg age of sample taken = 29(Statistics)\n",
    "2. Inferential - when data is huge, take sample >>> Conclusion > Avg > Statistics"
   ]
  },
  {
   "cell_type": "markdown",
   "id": "ae95d2bc-67e2-4e8e-aac8-6aa7f42b805c",
   "metadata": {},
   "source": [
    "### Basic Terms\n",
    "-"
   ]
  },
  {
   "cell_type": "markdown",
   "id": "b8b5c1ae-2b20-4011-a343-0afd9bd4e87f",
   "metadata": {},
   "source": [
    "variable name = attributes = column name"
   ]
  },
  {
   "cell_type": "markdown",
   "id": "62ca8f94-821d-4229-a471-4886e2c1095e",
   "metadata": {},
   "source": [
    "data singlar = single value in a cell\n",
    "random variable = variable to stpre values"
   ]
  },
  {
   "cell_type": "markdown",
   "id": "f09d695e-f7ce-4563-b145-3fe89c05d47c",
   "metadata": {},
   "source": [
    "data - numerical - continues and discrete\n",
    "data - categorical - ordinal and nominal"
   ]
  },
  {
   "cell_type": "markdown",
   "id": "7f4bd401-7cce-4904-80d8-f93433ce5542",
   "metadata": {},
   "source": [
    "collection of data using various methods"
   ]
  },
  {
   "cell_type": "markdown",
   "id": "540afeed-424c-45e0-a007-5030f885564d",
   "metadata": {},
   "source": [
    "\n",
    "types of sampling\n",
    "probability sampleing (Probability sampling in statistics is a method where each member of a population has a known and equal chance of being selected for a sample) and non probablity sampling"
   ]
  },
  {
   "cell_type": "raw",
   "id": "96d3102a-91a8-4c82-a7f2-2aa452148844",
   "metadata": {},
   "source": [
    "Harnessing the data\n",
    "\n",
    "Collect the data\n",
    "Describe the data\n",
    "Interpret the data\n",
    "\n",
    "Ex: Zomato, exit polls, vaccine testing"
   ]
  },
  {
   "cell_type": "raw",
   "id": "51e3bfc6-da8c-4af0-9745-0ea8dbbf2c10",
   "metadata": {},
   "source": []
  },
  {
   "cell_type": "raw",
   "id": "cf17db60-0c02-424e-874a-28b494f4d646",
   "metadata": {},
   "source": [
    "data\n",
    "Numerical - made of no.\n",
    "    1. conti - measure >>> leangth of room, weight\n",
    "    2. descrete - count >>> no. of students in class, shoe size if in options 6,6.5,7,7.5 (nothing in between, not continues)\n",
    "categorical - alphas\n",
    "    1. ordinal (hirearchy) - designation, ratings, \n",
    "    2. nominal(no hi) - colors,names"
   ]
  },
  {
   "cell_type": "raw",
   "id": "e15624c8-a03b-4e40-b767-85a08f6c99df",
   "metadata": {},
   "source": [
    "Harnessing the data\n",
    "to make data ready"
   ]
  },
  {
   "cell_type": "code",
   "execution_count": null,
   "id": "fd037350-e53b-43ab-9e2d-f2584e8bd787",
   "metadata": {},
   "outputs": [],
   "source": [
    "types of sampling\n",
    "probab - 5 types\n",
    "non pro/judgemental"
   ]
  },
  {
   "cell_type": "code",
   "execution_count": 8,
   "id": "916a801d-4ac7-45c0-817e-9f3ebb758986",
   "metadata": {},
   "outputs": [
    {
     "ename": "SyntaxError",
     "evalue": "invalid syntax (954107948.py, line 1)",
     "output_type": "error",
     "traceback": [
      "\u001b[1;36m  Cell \u001b[1;32mIn[8], line 1\u001b[1;36m\u001b[0m\n\u001b[1;33m    sampling error\u001b[0m\n\u001b[1;37m             ^\u001b[0m\n\u001b[1;31mSyntaxError\u001b[0m\u001b[1;31m:\u001b[0m invalid syntax\n"
     ]
    }
   ],
   "source": [
    "sampling error\n",
    "difference between parameter(population) and statistics(sample)\n",
    "20 - 19 = 1 is sampling error while calculating the average age on sample"
   ]
  },
  {
   "cell_type": "code",
   "execution_count": null,
   "id": "59f47df9-3832-4d1a-aa83-a5d6ceaf986f",
   "metadata": {},
   "outputs": [],
   "source": [
    "cochrans\n",
    "one of the many methods to decide the sample size\n"
   ]
  },
  {
   "cell_type": "raw",
   "id": "49e960a8-9489-4064-a2ec-8b0db40e02bb",
   "metadata": {},
   "source": [
    "Module 3 - Exploratory data analysis\n",
    "\n",
    "1. Measure of central tendency - Mean(for numerical without outliers), Median(for numerical with outliers) and Mode(for categorical)\n",
    "2. Measure of variability - Range, Varience, Standard deviation, percentile, IDQ?"
   ]
  },
  {
   "cell_type": "raw",
   "id": "b24dc73b-956f-45f3-bd5f-0b6cad31ee63",
   "metadata": {},
   "source": [
    "Mean / Average (u,x)\n",
    "sum of all/ no of elements\n",
    "x bar = z xi (i=1 to n) / N\n",
    "\n",
    "Ex: [2 8 5 7 10 12 3]\n",
    "x = 47/7=6.71\n"
   ]
  },
  {
   "cell_type": "raw",
   "id": "c2417066-6734-4b39-8ec8-5fb7fa25f99d",
   "metadata": {},
   "source": [
    "Median value > Sort ascending and then middle value\n",
    "Median = 7"
   ]
  },
  {
   "cell_type": "code",
   "execution_count": 18,
   "id": "f511a798-8d4f-457b-8446-81404d4154d7",
   "metadata": {},
   "outputs": [
    {
     "ename": "SyntaxError",
     "evalue": "invalid syntax. Perhaps you forgot a comma? (3903528073.py, line 1)",
     "output_type": "error",
     "traceback": [
      "\u001b[1;36m  Cell \u001b[1;32mIn[18], line 1\u001b[1;36m\u001b[0m\n\u001b[1;33m    Ex: [2 8 5 7 10 12 3 22]\u001b[0m\n\u001b[1;37m         ^\u001b[0m\n\u001b[1;31mSyntaxError\u001b[0m\u001b[1;31m:\u001b[0m invalid syntax. Perhaps you forgot a comma?\n"
     ]
    }
   ],
   "source": [
    "Ex: [2 8 5 7 10 12 3 22]\n",
    "2 3 5 7 8 10 12 22\n",
    "if even numbers, add middle 2 and take average\n",
    "\n",
    "To get median position when odd number of values = (n+1)/2\n",
    "Ex: [2 8 5 7 10 12 3 22] > sort\n",
    "To get median position when even number of values = avg (n/2 + n/2+1 position)"
   ]
  },
  {
   "cell_type": "code",
   "execution_count": 20,
   "id": "668a0455-9fb9-419f-8765-30c9cbd85e5a",
   "metadata": {},
   "outputs": [
    {
     "ename": "SyntaxError",
     "evalue": "invalid syntax (2411653565.py, line 1)",
     "output_type": "error",
     "traceback": [
      "\u001b[1;36m  Cell \u001b[1;32mIn[20], line 1\u001b[1;36m\u001b[0m\n\u001b[1;33m    why mean and median\u001b[0m\n\u001b[1;37m        ^\u001b[0m\n\u001b[1;31mSyntaxError\u001b[0m\u001b[1;31m:\u001b[0m invalid syntax\n"
     ]
    }
   ],
   "source": [
    "why mean and median\n",
    "to handle outliers\n",
    "outliers >>> Values which are far away or odd from the given inputs\n",
    "Ex: 2 9 3 7 12 99 >>> 99 is outlier\n",
    "\n",
    "Mean is not accurate when there are outliers\n",
    "Median is more accurate when there are outliers"
   ]
  },
  {
   "cell_type": "code",
   "execution_count": 22,
   "id": "5c1bfe9e-1b41-4bfa-9928-198450d750aa",
   "metadata": {},
   "outputs": [
    {
     "ename": "SyntaxError",
     "evalue": "invalid syntax (2108106076.py, line 1)",
     "output_type": "error",
     "traceback": [
      "\u001b[1;36m  Cell \u001b[1;32mIn[22], line 1\u001b[1;36m\u001b[0m\n\u001b[1;33m    x = 2 3 5 7 8 10 12\u001b[0m\n\u001b[1;37m          ^\u001b[0m\n\u001b[1;31mSyntaxError\u001b[0m\u001b[1;31m:\u001b[0m invalid syntax\n"
     ]
    }
   ],
   "source": [
    "x = 2 3 5 7 8 10 12\n",
    "mean = 6.71\n",
    "median = 7\n",
    "\n",
    "after outlier\n",
    "x 2 3 5 7 8 10 12 40\n",
    "mean = 10.87\n",
    "median = 7+8/2 = 7.5\n",
    "\n",
    "median is robust to outliers\n",
    "mean moves towards outliers"
   ]
  },
  {
   "cell_type": "code",
   "execution_count": 24,
   "id": "8fc38df8-2644-4ce1-ad1f-5b2a37e570e9",
   "metadata": {},
   "outputs": [
    {
     "ename": "SyntaxError",
     "evalue": "invalid syntax (1048267435.py, line 1)",
     "output_type": "error",
     "traceback": [
      "\u001b[1;36m  Cell \u001b[1;32mIn[24], line 1\u001b[1;36m\u001b[0m\n\u001b[1;33m    Mode - most frequently repeating data point\u001b[0m\n\u001b[1;37m                ^\u001b[0m\n\u001b[1;31mSyntaxError\u001b[0m\u001b[1;31m:\u001b[0m invalid syntax\n"
     ]
    }
   ],
   "source": [
    "Mode - most frequently repeating data point\n",
    "x = 2 5 3 8 2 5 9 5 7\n",
    "mode = 5 (Since 5 is repeating more num of times)\n",
    "x = 2 5 3 8 2 5 9 5 7 2\n",
    "mode = 2,5 (both 2 and 5 are repeating more and same num of times)\n",
    "\n",
    "if nothing is repeating - mode = no mode"
   ]
  },
  {
   "cell_type": "code",
   "execution_count": 26,
   "id": "351c4e3c-5dbe-4bf6-b658-cc7afe648270",
   "metadata": {},
   "outputs": [
    {
     "ename": "SyntaxError",
     "evalue": "invalid syntax (3215387350.py, line 1)",
     "output_type": "error",
     "traceback": [
      "\u001b[1;36m  Cell \u001b[1;32mIn[26], line 1\u001b[1;36m\u001b[0m\n\u001b[1;33m    Measure of variability\u001b[0m\n\u001b[1;37m            ^\u001b[0m\n\u001b[1;31mSyntaxError\u001b[0m\u001b[1;31m:\u001b[0m invalid syntax\n"
     ]
    }
   ],
   "source": [
    "Measure of variability\n",
    "\n",
    "1. "
   ]
  },
  {
   "cell_type": "code",
   "execution_count": null,
   "id": "8b1a8966-50f9-4aca-ab10-e73f59ec6150",
   "metadata": {},
   "outputs": [],
   "source": []
  }
 ],
 "metadata": {
  "kernelspec": {
   "display_name": "Python [conda env:base] *",
   "language": "python",
   "name": "conda-base-py"
  },
  "language_info": {
   "codemirror_mode": {
    "name": "ipython",
    "version": 3
   },
   "file_extension": ".py",
   "mimetype": "text/x-python",
   "name": "python",
   "nbconvert_exporter": "python",
   "pygments_lexer": "ipython3",
   "version": "3.12.7"
  }
 },
 "nbformat": 4,
 "nbformat_minor": 5
}
