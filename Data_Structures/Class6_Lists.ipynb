{
 "cells": [
  {
   "cell_type": "markdown",
   "id": "744832e2-8afb-4da6-8a5a-d9ae602b44de",
   "metadata": {},
   "source": [
    "### List\n",
    "- Sequence of elements, <b>not sorted by default </b>. Data remains in the same order as we enter, we need to use sort function.\n",
    "- Represented within [ ]\n",
    "- <b>Mutable</b> - values <b>can</b> be updated (added or removed) after it has been created.\n",
    "- <b>Indexed </b> i.e. We can access individual elements using <b>indexes, starts from 0</b>. \n",
    "- <b>Can contain heterogenous</b> data\n",
    "- Can contain list, tuple, set, dictionary\n",
    "- <b>Allows duplicate</b> values\n",
    "- <b>Exactly same as Tuple </b> >>> Only difference is <b>list is mutable, tuple is immutable</b>"
   ]
  },
  {
   "cell_type": "markdown",
   "id": "799c564b-ce0f-4275-8ba7-59bdbbc4ef08",
   "metadata": {},
   "source": [
    "#### Functions on Lists\n",
    "- append, extend, insert, pop, remove, clear, del, len, count, index, all, any, in, not in, sort, reverse"
   ]
  },
  {
   "cell_type": "code",
   "execution_count": 489,
   "id": "dfcf0801-78a9-4692-9b16-041bea853c35",
   "metadata": {},
   "outputs": [
    {
     "data": {
      "text/plain": [
       "[]"
      ]
     },
     "execution_count": 489,
     "metadata": {},
     "output_type": "execute_result"
    }
   ],
   "source": [
    "# Create an empty list\n",
    "list_name = []\n",
    "list_name"
   ]
  },
  {
   "cell_type": "markdown",
   "id": "d9ba4f57-8b6b-4a0c-84c6-9d2c8390dd1b",
   "metadata": {},
   "source": [
    "### Mutable"
   ]
  },
  {
   "cell_type": "code",
   "execution_count": 130,
   "id": "62459821-4f54-456e-9954-ed8429161901",
   "metadata": {},
   "outputs": [
    {
     "name": "stdout",
     "output_type": "stream",
     "text": [
      "[1, 9, 2, -1, True, 'kk']\n",
      "[1, 9, 3, -1, True, 'kk']\n"
     ]
    }
   ],
   "source": [
    "l1 = [1,9,2,-1,True,'kk']\n",
    "print(l1)\n",
    "l1[2]=3\n",
    "print(l1)"
   ]
  },
  {
   "cell_type": "code",
   "execution_count": 11,
   "id": "46d723f0-59dc-48e2-9553-f14b236de346",
   "metadata": {},
   "outputs": [],
   "source": [
    "# Create heterogenus list\n",
    "list = [8,4,3.5,-1,2,5,4,'tt',2+3j,8]"
   ]
  },
  {
   "cell_type": "code",
   "execution_count": 13,
   "id": "8301df01-95fc-4323-88b2-3294d6345193",
   "metadata": {},
   "outputs": [
    {
     "data": {
      "text/plain": [
       "[8, 4, 3.5, -1, 2, 5, 4, 'tt', (2+3j), 8]"
      ]
     },
     "execution_count": 13,
     "metadata": {},
     "output_type": "execute_result"
    }
   ],
   "source": [
    "list"
   ]
  },
  {
   "cell_type": "code",
   "execution_count": 15,
   "id": "c1e481d8-9c76-4fe1-8e59-2278ca5fd838",
   "metadata": {},
   "outputs": [],
   "source": [
    "list = [8,4,3.5,-1,2,5,4,'tt',2+3j,8,(9,19),{2,3}]"
   ]
  },
  {
   "cell_type": "code",
   "execution_count": 17,
   "id": "1be18656-b788-4d48-912b-9f1c464d5ce2",
   "metadata": {},
   "outputs": [
    {
     "data": {
      "text/plain": [
       "[8, 4, 3.5, -1, 2, 5, 4, 'tt', (2+3j), 8, (9, 19), {2, 3}]"
      ]
     },
     "execution_count": 17,
     "metadata": {},
     "output_type": "execute_result"
    }
   ],
   "source": [
    "list"
   ]
  },
  {
   "cell_type": "code",
   "execution_count": 651,
   "id": "71937d1e-18e6-4b68-9796-cf2cf6c3c6d1",
   "metadata": {},
   "outputs": [
    {
     "data": {
      "text/plain": [
       "8"
      ]
     },
     "execution_count": 651,
     "metadata": {},
     "output_type": "execute_result"
    }
   ],
   "source": [
    "list[0]"
   ]
  },
  {
   "cell_type": "code",
   "execution_count": 655,
   "id": "f0a7f3e1-6681-4d2c-a4dc-cabb9dbacf6b",
   "metadata": {},
   "outputs": [
    {
     "name": "stdout",
     "output_type": "stream",
     "text": [
      "8 (2+3j)\n"
     ]
    }
   ],
   "source": [
    "print(list[-1],list[-2])"
   ]
  },
  {
   "cell_type": "code",
   "execution_count": 497,
   "id": "b1de8170-bf55-466b-8af7-d9132aeb5372",
   "metadata": {},
   "outputs": [
    {
     "data": {
      "text/plain": [
       "[8, 4, 3.5, True, 5, 4, 'kk', (2+3j), 8]"
      ]
     },
     "execution_count": 497,
     "metadata": {},
     "output_type": "execute_result"
    }
   ],
   "source": [
    "# Lists are Mutable - Values in a list can be updated at any specified position in the list\n",
    "# update value 'tt' in above list to 'kk'\n",
    "# update value 2 in above list to boolean value True\n",
    "\n",
    "list[-3]='kk'\n",
    "list[3]=True\n",
    "list"
   ]
  },
  {
   "cell_type": "code",
   "execution_count": 499,
   "id": "e4f67e89-b90e-4b45-9ca8-d68f011d1146",
   "metadata": {},
   "outputs": [
    {
     "data": {
      "text/plain": [
       "[2, 9, -2, 4, 8, 9, 'kk', [3, True], 'kk', [3, True], [(3+4j), 2.1]]"
      ]
     },
     "execution_count": 499,
     "metadata": {},
     "output_type": "execute_result"
    }
   ],
   "source": [
    "# Duplicate values in the list and lists within the list\n",
    "list = [2,9,-2,4,8,9,'kk',[3,True],'kk',[3,True],[3+4j,2.1]]\n",
    "list"
   ]
  },
  {
   "cell_type": "code",
   "execution_count": 658,
   "id": "be710f26-b2f8-4788-94e8-61a9c03b1059",
   "metadata": {},
   "outputs": [
    {
     "data": {
      "text/plain": [
       "[1, 5, 2, 8, 9, 12, 6]"
      ]
     },
     "execution_count": 658,
     "metadata": {},
     "output_type": "execute_result"
    }
   ],
   "source": [
    "# Create a list of integers\n",
    "l1=[1,5,2,8,9,12,6]\n",
    "l1"
   ]
  },
  {
   "cell_type": "code",
   "execution_count": 2,
   "id": "ec914e1e-e35b-4c1f-a876-002b8da188cc",
   "metadata": {},
   "outputs": [
    {
     "data": {
      "text/plain": [
       "[2, 1.5, (2+1j), 'kranthi', True, {'A': 1}]"
      ]
     },
     "execution_count": 2,
     "metadata": {},
     "output_type": "execute_result"
    }
   ],
   "source": [
    "# Create a list of integers, float, complex numbers and boolean and dictionary\n",
    "l2=[2,1.5,2+1j,'kranthi',True,{'A':1}]\n",
    "l2"
   ]
  },
  {
   "cell_type": "code",
   "execution_count": 664,
   "id": "6ac7e573-015a-4b0a-b11b-35080caf24cd",
   "metadata": {},
   "outputs": [
    {
     "data": {
      "text/plain": [
       "list"
      ]
     },
     "execution_count": 664,
     "metadata": {},
     "output_type": "execute_result"
    }
   ],
   "source": [
    "type(l2)"
   ]
  },
  {
   "cell_type": "code",
   "execution_count": 666,
   "id": "0abcb443-2166-48e1-af10-1d05d6cec7d2",
   "metadata": {},
   "outputs": [
    {
     "data": {
      "text/plain": [
       "2"
      ]
     },
     "execution_count": 666,
     "metadata": {},
     "output_type": "execute_result"
    }
   ],
   "source": [
    "l2[0]"
   ]
  },
  {
   "cell_type": "code",
   "execution_count": 680,
   "id": "5eb60853-889d-42a2-9f4f-05eb2f675274",
   "metadata": {},
   "outputs": [],
   "source": [
    "l2=[1,True,'kranti']"
   ]
  },
  {
   "cell_type": "code",
   "execution_count": 682,
   "id": "a6c76054-1427-4562-882c-2a7802d9ee2c",
   "metadata": {},
   "outputs": [
    {
     "data": {
      "text/plain": [
       "True"
      ]
     },
     "execution_count": 682,
     "metadata": {},
     "output_type": "execute_result"
    }
   ],
   "source": [
    "l2[1]"
   ]
  },
  {
   "cell_type": "code",
   "execution_count": 684,
   "id": "781b51a6-272b-4517-8b2a-d7e7bf17a200",
   "metadata": {},
   "outputs": [
    {
     "name": "stdout",
     "output_type": "stream",
     "text": [
      "kranti True\n",
      "<class 'str'> <class 'bool'>\n"
     ]
    }
   ],
   "source": [
    "print(l2[-1],l2[-2])\n",
    "print(type(l2[-1]),type(l2[-2]))"
   ]
  },
  {
   "cell_type": "code",
   "execution_count": 690,
   "id": "b8ff1b6f-45f5-4a0b-9c6a-b38ef20aab40",
   "metadata": {},
   "outputs": [
    {
     "data": {
      "text/plain": [
       "[1, 'kranthi', [2, 'kk'], 3.5]"
      ]
     },
     "execution_count": 690,
     "metadata": {},
     "output_type": "execute_result"
    }
   ],
   "source": [
    "# Nested List\n",
    "\n",
    "l4 = [1,'kranthi',[2,'kk'],3.5]\n",
    "l4"
   ]
  },
  {
   "cell_type": "code",
   "execution_count": 696,
   "id": "40c48622-8ce5-46f9-bc55-1537b5299293",
   "metadata": {},
   "outputs": [
    {
     "data": {
      "text/plain": [
       "'kranthi'"
      ]
     },
     "execution_count": 696,
     "metadata": {},
     "output_type": "execute_result"
    }
   ],
   "source": [
    "# Access individual elements using indexing\n",
    "l4[1]"
   ]
  },
  {
   "cell_type": "code",
   "execution_count": 698,
   "id": "b23fbd83-5618-4d82-8a28-379c83651d67",
   "metadata": {},
   "outputs": [
    {
     "data": {
      "text/plain": [
       "[2, 'kk']"
      ]
     },
     "execution_count": 698,
     "metadata": {},
     "output_type": "execute_result"
    }
   ],
   "source": [
    "# Access the list within the list\n",
    "l4[2]"
   ]
  },
  {
   "cell_type": "code",
   "execution_count": 700,
   "id": "5b2cdcbc-9978-42ea-b57e-ea62e5302916",
   "metadata": {},
   "outputs": [
    {
     "data": {
      "text/plain": [
       "'kk'"
      ]
     },
     "execution_count": 700,
     "metadata": {},
     "output_type": "execute_result"
    }
   ],
   "source": [
    "# Access the 2nd element in the list within the list\n",
    "l4[2][1]"
   ]
  },
  {
   "cell_type": "markdown",
   "id": "4eb174cf-e511-4bde-8dba-06e25020a425",
   "metadata": {},
   "source": [
    "#### List indexing and Slicing"
   ]
  },
  {
   "cell_type": "code",
   "execution_count": 704,
   "id": "3d59722e-ae89-421e-8a56-c4cce7974611",
   "metadata": {},
   "outputs": [
    {
     "data": {
      "text/plain": [
       "5"
      ]
     },
     "execution_count": 704,
     "metadata": {},
     "output_type": "execute_result"
    }
   ],
   "source": [
    "l1=[4,5,2,1,3]\n",
    "l1[1]"
   ]
  },
  {
   "cell_type": "code",
   "execution_count": 706,
   "id": "88cb98d0-2d80-4c1a-99c3-ae02ce096e4c",
   "metadata": {},
   "outputs": [
    {
     "data": {
      "text/plain": [
       "['three']"
      ]
     },
     "execution_count": 706,
     "metadata": {},
     "output_type": "execute_result"
    }
   ],
   "source": [
    "# Fetch value three\n",
    "l2=['kranthi','kumar','three']\n",
    "l2[2:]"
   ]
  },
  {
   "cell_type": "code",
   "execution_count": 710,
   "id": "82cf6b2d-539b-4255-a474-bf5da95a9c63",
   "metadata": {},
   "outputs": [
    {
     "data": {
      "text/plain": [
       "'a'"
      ]
     },
     "execution_count": 710,
     "metadata": {},
     "output_type": "execute_result"
    }
   ],
   "source": [
    "# Fetch letter a from kumar\n",
    "\n",
    "l2=['kranthi','kumar','three']\n",
    "l2[1][3]"
   ]
  },
  {
   "cell_type": "code",
   "execution_count": 712,
   "id": "e846f8d7-cc3c-4e66-9ce5-67d664cb1d92",
   "metadata": {},
   "outputs": [
    {
     "data": {
      "text/plain": [
       "'e'"
      ]
     },
     "execution_count": 712,
     "metadata": {},
     "output_type": "execute_result"
    }
   ],
   "source": [
    "# fetch e from three\n",
    "l2[2][3]"
   ]
  },
  {
   "cell_type": "code",
   "execution_count": 714,
   "id": "8988ad6b-8a68-4af2-9d19-697c36cd61bf",
   "metadata": {},
   "outputs": [
    {
     "data": {
      "text/plain": [
       "'h'"
      ]
     },
     "execution_count": 714,
     "metadata": {},
     "output_type": "execute_result"
    }
   ],
   "source": [
    "# fetch h from three using negative indexing for both\n",
    "l2[-1][-4]"
   ]
  },
  {
   "cell_type": "code",
   "execution_count": 726,
   "id": "f8db6ba7-8a75-441e-b763-9ad3978a0d4a",
   "metadata": {},
   "outputs": [
    {
     "data": {
      "text/plain": [
       "'h'"
      ]
     },
     "execution_count": 726,
     "metadata": {},
     "output_type": "execute_result"
    }
   ],
   "source": [
    "# fetch h from three using negative indexing for only one\n",
    "l2[-1][1]"
   ]
  },
  {
   "cell_type": "code",
   "execution_count": 728,
   "id": "a9f83e5b-7585-49fc-811c-20111c09e699",
   "metadata": {},
   "outputs": [
    {
     "data": {
      "text/plain": [
       "'h'"
      ]
     },
     "execution_count": 728,
     "metadata": {},
     "output_type": "execute_result"
    }
   ],
   "source": [
    "# fetch h from three using negative indexing for only one\n",
    "l2[2][-4]"
   ]
  },
  {
   "cell_type": "code",
   "execution_count": 732,
   "id": "2e09ff98-5e65-4f7e-ba22-06d5272a3822",
   "metadata": {},
   "outputs": [
    {
     "name": "stdout",
     "output_type": "stream",
     "text": [
      "[3.3, 'akk', 5]\n",
      "6\n"
     ]
    }
   ],
   "source": [
    "# Create a nested list using integer, float and string values\n",
    "\n",
    "l3=[2.3,6,'kk',9,[3.3,'akk',5],[3]]\n",
    "print(l3[4])\n",
    "print(l3[1])"
   ]
  },
  {
   "cell_type": "code",
   "execution_count": 734,
   "id": "b4fc2775-25ea-47f1-80ae-c8a2fe9e894f",
   "metadata": {},
   "outputs": [
    {
     "data": {
      "text/plain": [
       "'akk'"
      ]
     },
     "execution_count": 734,
     "metadata": {},
     "output_type": "execute_result"
    }
   ],
   "source": [
    "# Extract akk from the nested list\n",
    "l3[4][1]"
   ]
  },
  {
   "cell_type": "code",
   "execution_count": 736,
   "id": "61f531d2-e812-4ceb-9a4f-50123835a13e",
   "metadata": {},
   "outputs": [
    {
     "data": {
      "text/plain": [
       "3.3"
      ]
     },
     "execution_count": 736,
     "metadata": {},
     "output_type": "execute_result"
    }
   ],
   "source": [
    "# extract 3.3 using negative indexing\n",
    "l3[-2][-3]"
   ]
  },
  {
   "cell_type": "markdown",
   "id": "f6d4024c-f545-4984-a95b-ed5617b915f6",
   "metadata": {},
   "source": [
    "### Slicing on Lists"
   ]
  },
  {
   "cell_type": "code",
   "execution_count": 760,
   "id": "b485415f-5307-4f88-864a-878075e079f4",
   "metadata": {},
   "outputs": [
    {
     "data": {
      "text/plain": [
       "[6, 'kk', 9, [3.3, 'akk', 5]]"
      ]
     },
     "execution_count": 760,
     "metadata": {},
     "output_type": "execute_result"
    }
   ],
   "source": [
    "# Slicing\n",
    "\n",
    "l3=[2.3,6,'kk',9,[3.3,'akk',5],[3]]\n",
    "l3[1:5]"
   ]
  },
  {
   "cell_type": "code",
   "execution_count": 762,
   "id": "4bc46b1c-5880-4da4-8397-1a48554e3d6a",
   "metadata": {},
   "outputs": [
    {
     "name": "stdout",
     "output_type": "stream",
     "text": [
      "6\n",
      "6\n"
     ]
    }
   ],
   "source": [
    "# Extract 6 from the list\n",
    "\n",
    "print(l3[1])\n",
    "print(l3[1:5][0])"
   ]
  },
  {
   "cell_type": "code",
   "execution_count": 764,
   "id": "48c80d4c-afd2-4a05-b601-ba8bffef0180",
   "metadata": {},
   "outputs": [
    {
     "name": "stdout",
     "output_type": "stream",
     "text": [
      "[9, [3.3, 'akk', 5]]\n"
     ]
    }
   ],
   "source": [
    "# Extract [9, [3.3, 'akk', 5]]\n",
    "\n",
    "print(l3[3:5])"
   ]
  },
  {
   "cell_type": "code",
   "execution_count": 766,
   "id": "d76f451f-75d3-4c4a-b301-eddbd00a6cb8",
   "metadata": {},
   "outputs": [
    {
     "name": "stdout",
     "output_type": "stream",
     "text": [
      "[9, [3.3, 'akk', 5]]\n"
     ]
    }
   ],
   "source": [
    "# Extract [9, [3.3, 'akk', 5]]\n",
    "\n",
    "print(l3[1:5][2:5])"
   ]
  },
  {
   "cell_type": "code",
   "execution_count": 224,
   "id": "efbfd4b9-a084-4696-be7a-1efb0a094a04",
   "metadata": {},
   "outputs": [
    {
     "data": {
      "text/plain": [
       "[9, [3.3, 'akk', 5]]"
      ]
     },
     "execution_count": 224,
     "metadata": {},
     "output_type": "execute_result"
    }
   ],
   "source": [
    "l3[1:5][2:]"
   ]
  },
  {
   "cell_type": "code",
   "execution_count": 768,
   "id": "9aa68a8a-88bc-4ce2-88e8-483f291c8bd6",
   "metadata": {},
   "outputs": [],
   "source": [
    "# Create a nested list using integer, float and string values\n",
    "l3=[2.3,6,'kk',9,[3.3,'akk',5],[3],99]"
   ]
  },
  {
   "cell_type": "code",
   "execution_count": 770,
   "id": "ccf1b80f-4690-4a65-b661-e9c82bda6997",
   "metadata": {},
   "outputs": [
    {
     "data": {
      "text/plain": [
       "[2.3, 'kk', [3.3, 'akk', 5], 99]"
      ]
     },
     "execution_count": 770,
     "metadata": {},
     "output_type": "execute_result"
    }
   ],
   "source": [
    "# Slicing with step value 2\n",
    "l3[::2]"
   ]
  },
  {
   "cell_type": "code",
   "execution_count": 772,
   "id": "fe3362e1-7338-408c-8b6f-f2be738faafd",
   "metadata": {},
   "outputs": [
    {
     "data": {
      "text/plain": [
       "[2.3, 6, 'kk', 9, [3.3, 'akk', 5], [3], 99]"
      ]
     },
     "execution_count": 772,
     "metadata": {},
     "output_type": "execute_result"
    }
   ],
   "source": [
    "l3[:]"
   ]
  },
  {
   "cell_type": "code",
   "execution_count": 774,
   "id": "c052c137-11ae-4f7a-a53b-40b15eafaf4d",
   "metadata": {},
   "outputs": [
    {
     "data": {
      "text/plain": [
       "['kk', 9, [3.3, 'akk', 5], [3], 99]"
      ]
     },
     "execution_count": 774,
     "metadata": {},
     "output_type": "execute_result"
    }
   ],
   "source": [
    "l3[:][2:]"
   ]
  },
  {
   "cell_type": "code",
   "execution_count": 782,
   "id": "747dc110-254c-4dd5-bb4c-690a734fca76",
   "metadata": {},
   "outputs": [
    {
     "data": {
      "text/plain": [
       "[2.3, 6, 'kk']"
      ]
     },
     "execution_count": 782,
     "metadata": {},
     "output_type": "execute_result"
    }
   ],
   "source": [
    "l3=[2.3, 6, 'kk', 9, [3.3, 'akk', 5], [3], 99]\n",
    "l3[:-4:]"
   ]
  },
  {
   "cell_type": "code",
   "execution_count": 784,
   "id": "217da6ae-5d39-4571-9638-f4002aa23f9b",
   "metadata": {},
   "outputs": [
    {
     "data": {
      "text/plain": [
       "[2.3, 6, 'kk']"
      ]
     },
     "execution_count": 784,
     "metadata": {},
     "output_type": "execute_result"
    }
   ],
   "source": [
    "l3=[2.3, 6, 'kk', 9, [3.3, 'akk', 5], [3], 99]\n",
    "\n",
    "l3[:-4]"
   ]
  },
  {
   "cell_type": "code",
   "execution_count": 786,
   "id": "177ac7fe-09fb-4344-9bbc-21b9aa7cf988",
   "metadata": {},
   "outputs": [
    {
     "data": {
      "text/plain": [
       "[99, [3], [3.3, 'akk', 5]]"
      ]
     },
     "execution_count": 786,
     "metadata": {},
     "output_type": "execute_result"
    }
   ],
   "source": [
    "l3=[2.3, 6, 'kk', 9, [3.3, 'akk', 5], [3], 99]\n",
    "\n",
    "l3[:-4:-1]"
   ]
  },
  {
   "cell_type": "code",
   "execution_count": 788,
   "id": "deebaa9a-c4df-4fce-a5f5-8f5f6c49debb",
   "metadata": {},
   "outputs": [
    {
     "data": {
      "text/plain": [
       "[[3.3, 'akk', 5], [3], 99]"
      ]
     },
     "execution_count": 788,
     "metadata": {},
     "output_type": "execute_result"
    }
   ],
   "source": [
    "l3[:][4:]"
   ]
  },
  {
   "cell_type": "code",
   "execution_count": 790,
   "id": "63612028-7b68-438b-9ee9-a34e35322af7",
   "metadata": {},
   "outputs": [
    {
     "data": {
      "text/plain": [
       "[3.3, 'akk', 5]"
      ]
     },
     "execution_count": 790,
     "metadata": {},
     "output_type": "execute_result"
    }
   ],
   "source": [
    "l3[:][4]"
   ]
  },
  {
   "cell_type": "code",
   "execution_count": 792,
   "id": "5d0491bc-2fe0-4a00-85c8-9ecdfcbd407a",
   "metadata": {},
   "outputs": [
    {
     "name": "stdout",
     "output_type": "stream",
     "text": [
      "[2.3, 6, 'kk', 9, [3.3, 'akk', 5], [3], 99]\n"
     ]
    },
    {
     "data": {
      "text/plain": [
       "'akk'"
      ]
     },
     "execution_count": 792,
     "metadata": {},
     "output_type": "execute_result"
    }
   ],
   "source": [
    "print(l3)\n",
    "l3[:][4][1]"
   ]
  },
  {
   "cell_type": "markdown",
   "id": "29ab66fe-c30a-47a9-976b-49d8bae04ce8",
   "metadata": {},
   "source": [
    "### List functions\n",
    "- append() - add the element at the end of the list. Cannot append more than one value at a time.\n",
    "- Syntax - variable_name.append(value)\n",
    "- .\n",
    "- extend() - is to add multiple values at the end of the list. We can also join two lists using extend function.\n",
    "- Syntax - list_variable_name.extend(value1,value2,etc.)\n",
    "- .\n",
    "- insert() - add an element at a specific index\n",
    "- Syntax - list_variable_name.insert(index,value)\n",
    "- .\n",
    "- pop() - to delete an element, by default if nothing is given, deletes an element from the end. If index is given, deletes an element from that                  particular index. Only one item can be deleted at once.\n",
    "- Syntax - list_variable_name.pop() >>> By default, deletes from the end\n",
    "-          list_variable_name.pop(index_pos) >>> deletes from the specified index position\n",
    "- \t\t\tOnly one value can be deleted at once.\n",
    "- .\n",
    "- remove() - to delete an element only by its value, indexes do not work. Only one value can be deleted at once. Throws error if the value is not present in the list\n",
    "- Syntax - list_variable_name.remove(value)\n",
    "- .\n",
    "- clear() - To clear (delete all the elements) of the list at one go. Does not accept any argument/value/index.\n",
    "- Syntax - list_variable_name.clear()\n",
    "- .\n",
    "- del() - To delete the list variable. Once deleted, the list variable cannot be accessed again.\n",
    "- Syntax - del list_variable_name\n",
    "- \n",
    "- len() - To count the total number of values in the list.\n",
    "- Syntax - len(list_variable_name)\n",
    "- .\n",
    "- count() - To count the number of occurances of a given value\n",
    "- Syntax - list_variable_name.count(value)\n",
    "- \t\t\tcount(True) or count(1) >>> counts total number of True + 1 value >>> Treats 1 and True both as same\n",
    "- \t\t\tcount(False) or count(0) >>> counts total number of False + 0 value >>> Treats 0 and False both as same.\n",
    "- .\n",
    "- index() - To get the index of a given value\n",
    "- Syntax - list_variable_name.index(value)\n",
    "- \t\t\tTreats value 0/False --- 1/True both as same. \n",
    "- \t\t\tindex(False) >>> if value 0 occurs before False, returns position of 0 instead of False \n",
    "- .\n",
    "- all() - returns True if all the elements of the list are ture (non zero)\n",
    "- Syntax - all(list_variable_name)\n",
    "- .\n",
    "- any() - returns True if any of the elements in the list are true (non zero)\n",
    "- Syntax - any(list_variable_name)\n",
    "- .\n",
    "- Membership >>> IN and NOT IN\n",
    "- Syntax - value in list_variable_name\n",
    "- .\n",
    "- sort() >>> by default, ascending.\n",
    "- Syntax - list_variable_name.sort() > ascending \n",
    "- Syntax - list_variable_name.sort(reverse = True) > descending\n",
    "- .\n",
    "- reverse() >>> reverse all the values in ia list \n",
    "- Syntax - list_variable_name.reverse()\n",
    "- ."
   ]
  },
  {
   "cell_type": "markdown",
   "id": "1528cfe1-ce76-48b6-829f-d99964356bef",
   "metadata": {},
   "source": [
    "#### append function"
   ]
  },
  {
   "cell_type": "code",
   "execution_count": 798,
   "id": "58c4ad60-a308-4571-9306-8e0f1359cd6b",
   "metadata": {},
   "outputs": [],
   "source": [
    "l1 = ['one','two','three','four','five']"
   ]
  },
  {
   "cell_type": "code",
   "execution_count": 800,
   "id": "11f158f1-f86c-4852-bec5-3d9e05c62ec7",
   "metadata": {},
   "outputs": [],
   "source": [
    "l1.append('six')"
   ]
  },
  {
   "cell_type": "code",
   "execution_count": 802,
   "id": "4ce3a283-ba53-43ae-adea-bc5cd26d67dd",
   "metadata": {},
   "outputs": [
    {
     "data": {
      "text/plain": [
       "['one', 'two', 'three', 'four', 'five', 'six']"
      ]
     },
     "execution_count": 802,
     "metadata": {},
     "output_type": "execute_result"
    }
   ],
   "source": [
    "l1"
   ]
  },
  {
   "cell_type": "code",
   "execution_count": 804,
   "id": "f2f1ccb0-70e3-4782-bf8e-2f30d0074afa",
   "metadata": {},
   "outputs": [],
   "source": [
    "l1.append(1)"
   ]
  },
  {
   "cell_type": "code",
   "execution_count": 806,
   "id": "87f8fbed-5cbf-4a97-9ed4-ba0ac0429b29",
   "metadata": {},
   "outputs": [
    {
     "data": {
      "text/plain": [
       "['one', 'two', 'three', 'four', 'five', 'six', 1]"
      ]
     },
     "execution_count": 806,
     "metadata": {},
     "output_type": "execute_result"
    }
   ],
   "source": [
    "l1"
   ]
  },
  {
   "cell_type": "code",
   "execution_count": 808,
   "id": "c3d988a8-240d-42de-933f-64e1d7b7e27f",
   "metadata": {},
   "outputs": [],
   "source": [
    "l1.append(2+1j)"
   ]
  },
  {
   "cell_type": "code",
   "execution_count": 810,
   "id": "6622f067-05df-4075-96eb-1e9414fc4dcb",
   "metadata": {},
   "outputs": [
    {
     "data": {
      "text/plain": [
       "['one', 'two', 'three', 'four', 'five', 'six', 1, (2+1j)]"
      ]
     },
     "execution_count": 810,
     "metadata": {},
     "output_type": "execute_result"
    }
   ],
   "source": [
    "l1"
   ]
  },
  {
   "cell_type": "code",
   "execution_count": 812,
   "id": "7c891209-0791-4bc8-ade7-c497484e8592",
   "metadata": {},
   "outputs": [],
   "source": [
    "l1.append(False)"
   ]
  },
  {
   "cell_type": "code",
   "execution_count": 814,
   "id": "7132a375-bd8d-4b96-b9ce-2ef75083f98a",
   "metadata": {},
   "outputs": [
    {
     "data": {
      "text/plain": [
       "['one', 'two', 'three', 'four', 'five', 'six', 1, (2+1j), False]"
      ]
     },
     "execution_count": 814,
     "metadata": {},
     "output_type": "execute_result"
    }
   ],
   "source": [
    "l1"
   ]
  },
  {
   "cell_type": "code",
   "execution_count": 818,
   "id": "38879c2f-c8ba-4b0a-bd90-0f8ce291f1f8",
   "metadata": {},
   "outputs": [
    {
     "data": {
      "text/plain": [
       "False"
      ]
     },
     "execution_count": 818,
     "metadata": {},
     "output_type": "execute_result"
    }
   ],
   "source": [
    "l1[8]"
   ]
  },
  {
   "cell_type": "code",
   "execution_count": 820,
   "id": "d6f49373-5f0f-4c83-92f1-a9697484bb39",
   "metadata": {},
   "outputs": [
    {
     "data": {
      "text/plain": [
       "bool"
      ]
     },
     "execution_count": 820,
     "metadata": {},
     "output_type": "execute_result"
    }
   ],
   "source": [
    "type(l1[8])"
   ]
  },
  {
   "cell_type": "code",
   "execution_count": 822,
   "id": "c2add538-fd06-48f5-8415-cf44b763b4e3",
   "metadata": {},
   "outputs": [],
   "source": [
    "l1.append([24,'kk',2+3j])"
   ]
  },
  {
   "cell_type": "code",
   "execution_count": 824,
   "id": "bce068aa-05c8-4481-9134-ab87b5c6dcc6",
   "metadata": {},
   "outputs": [
    {
     "data": {
      "text/plain": [
       "['one',\n",
       " 'two',\n",
       " 'three',\n",
       " 'four',\n",
       " 'five',\n",
       " 'six',\n",
       " 1,\n",
       " (2+1j),\n",
       " False,\n",
       " [24, 'kk', (2+3j)]]"
      ]
     },
     "execution_count": 824,
     "metadata": {},
     "output_type": "execute_result"
    }
   ],
   "source": [
    "l1"
   ]
  },
  {
   "cell_type": "code",
   "execution_count": 828,
   "id": "0e33c9c7-5732-49b0-8831-282eae1d0106",
   "metadata": {},
   "outputs": [
    {
     "name": "stdout",
     "output_type": "stream",
     "text": [
      "<class 'complex'>\n",
      "<class 'complex'>\n"
     ]
    }
   ],
   "source": [
    "# Identify the data type of 2+3j\n",
    "print(type(l1[-1][-1]))\n",
    "# or\n",
    "print(type(l1[9][2]))"
   ]
  },
  {
   "cell_type": "markdown",
   "id": "7982769d-e394-40a8-ae78-26dd536a7a3e",
   "metadata": {},
   "source": [
    "#### insert function"
   ]
  },
  {
   "cell_type": "code",
   "execution_count": 836,
   "id": "13bb5472-7226-4bff-9e4f-9245b33862e5",
   "metadata": {},
   "outputs": [
    {
     "data": {
      "text/plain": [
       "['one',\n",
       " 'two',\n",
       " 'three',\n",
       " 'four',\n",
       " 'five',\n",
       " 'six',\n",
       " 1,\n",
       " (2+1j),\n",
       " False,\n",
       " [24, 'kk', (2+3j)]]"
      ]
     },
     "execution_count": 836,
     "metadata": {},
     "output_type": "execute_result"
    }
   ],
   "source": [
    "l1"
   ]
  },
  {
   "cell_type": "code",
   "execution_count": 849,
   "id": "dca234ee-5643-4947-9ded-c82949561c3c",
   "metadata": {},
   "outputs": [],
   "source": [
    "l1.insert(1,'chiru')"
   ]
  },
  {
   "cell_type": "code",
   "execution_count": 851,
   "id": "25c24a5f-a683-4e4d-a52b-0c80266f7b54",
   "metadata": {},
   "outputs": [
    {
     "data": {
      "text/plain": [
       "['one',\n",
       " 'chiru',\n",
       " 'chiru',\n",
       " 'chiru',\n",
       " 'two',\n",
       " 'three',\n",
       " 'four',\n",
       " 'five',\n",
       " 'six',\n",
       " 1,\n",
       " (2+1j),\n",
       " False,\n",
       " [24, 'kk', (2+3j)]]"
      ]
     },
     "execution_count": 851,
     "metadata": {},
     "output_type": "execute_result"
    }
   ],
   "source": [
    "l1"
   ]
  },
  {
   "cell_type": "code",
   "execution_count": 853,
   "id": "b1b8a670-54ed-4385-b571-ea2306e1be99",
   "metadata": {},
   "outputs": [],
   "source": [
    "# insert a complex number at 5th position\n",
    "l1.insert(4,2+3j)"
   ]
  },
  {
   "cell_type": "code",
   "execution_count": 855,
   "id": "342fd3b4-4ccc-4a4c-ba52-d91afa974f48",
   "metadata": {},
   "outputs": [
    {
     "data": {
      "text/plain": [
       "['one',\n",
       " 'chiru',\n",
       " 'chiru',\n",
       " 'chiru',\n",
       " (2+3j),\n",
       " 'two',\n",
       " 'three',\n",
       " 'four',\n",
       " 'five',\n",
       " 'six',\n",
       " 1,\n",
       " (2+1j),\n",
       " False,\n",
       " [24, 'kk', (2+3j)]]"
      ]
     },
     "execution_count": 855,
     "metadata": {},
     "output_type": "execute_result"
    }
   ],
   "source": [
    "l1"
   ]
  },
  {
   "cell_type": "code",
   "execution_count": 857,
   "id": "6e631fd4-7d18-4baf-b130-29223f459b7d",
   "metadata": {},
   "outputs": [
    {
     "data": {
      "text/plain": [
       "['one',\n",
       " [5, 2, 'kk'],\n",
       " 'chiru',\n",
       " 'chiru',\n",
       " 'chiru',\n",
       " (2+3j),\n",
       " 'two',\n",
       " 'three',\n",
       " 'four',\n",
       " 'five',\n",
       " 'six',\n",
       " 1,\n",
       " (2+1j),\n",
       " False,\n",
       " [24, 'kk', (2+3j)]]"
      ]
     },
     "execution_count": 857,
     "metadata": {},
     "output_type": "execute_result"
    }
   ],
   "source": [
    "# insert a list at 2nd position\n",
    "l1.insert(1,[5,2,'kk'])\n",
    "l1"
   ]
  },
  {
   "cell_type": "markdown",
   "id": "c1d084da-3ba0-4db8-b708-1f325ae4c53a",
   "metadata": {},
   "source": [
    "#### extend function"
   ]
  },
  {
   "cell_type": "code",
   "execution_count": 879,
   "id": "c0c09c51-b21c-4a76-9075-4e7e3c1a87d7",
   "metadata": {},
   "outputs": [],
   "source": [
    "l1 = ['one','two','three','four','five']"
   ]
  },
  {
   "cell_type": "code",
   "execution_count": 881,
   "id": "17081828-814b-41ec-9476-d934c1a2737e",
   "metadata": {},
   "outputs": [],
   "source": [
    "# Add 3 values of different types at the end of the list\n",
    "\n",
    "l1.extend([1,'six',2+3j])"
   ]
  },
  {
   "cell_type": "code",
   "execution_count": 883,
   "id": "036e34c6-e02c-4a85-9a2a-68983f6e7163",
   "metadata": {},
   "outputs": [
    {
     "data": {
      "text/plain": [
       "['one', 'two', 'three', 'four', 'five', 1, 'six', (2+3j)]"
      ]
     },
     "execution_count": 883,
     "metadata": {},
     "output_type": "execute_result"
    }
   ],
   "source": [
    "l1"
   ]
  },
  {
   "cell_type": "code",
   "execution_count": 885,
   "id": "ae67ffca-d871-47e2-b683-4129325f4c58",
   "metadata": {},
   "outputs": [],
   "source": [
    "l1.extend([2,[2,3]])"
   ]
  },
  {
   "cell_type": "code",
   "execution_count": 887,
   "id": "0ad9e086-5dc2-4561-af2c-dcbd4fd111ca",
   "metadata": {},
   "outputs": [
    {
     "data": {
      "text/plain": [
       "['one', 'two', 'three', 'four', 'five', 1, 'six', (2+3j), 2, [2, 3]]"
      ]
     },
     "execution_count": 887,
     "metadata": {},
     "output_type": "execute_result"
    }
   ],
   "source": [
    "l1"
   ]
  },
  {
   "cell_type": "markdown",
   "id": "51e4df95-046a-4c18-97ee-4bf91c58da5b",
   "metadata": {},
   "source": [
    "#### pop function"
   ]
  },
  {
   "cell_type": "code",
   "execution_count": 3,
   "id": "b55a8545-f606-4bde-8363-10c0a8644c87",
   "metadata": {},
   "outputs": [],
   "source": [
    "l1 = ['one','two','three','four','five']"
   ]
  },
  {
   "cell_type": "code",
   "execution_count": 5,
   "id": "8bf6a977-8bbe-4eae-95aa-d3f37c05a58b",
   "metadata": {},
   "outputs": [
    {
     "data": {
      "text/plain": [
       "'five'"
      ]
     },
     "execution_count": 5,
     "metadata": {},
     "output_type": "execute_result"
    }
   ],
   "source": [
    "# Remove an item from the last position\n",
    "\n",
    "l1.pop()"
   ]
  },
  {
   "cell_type": "code",
   "execution_count": 7,
   "id": "9a515b8a-d04c-45ae-a377-2b4b82682648",
   "metadata": {},
   "outputs": [
    {
     "data": {
      "text/plain": [
       "['one', 'two', 'three', 'four']"
      ]
     },
     "execution_count": 7,
     "metadata": {},
     "output_type": "execute_result"
    }
   ],
   "source": [
    "l1"
   ]
  },
  {
   "cell_type": "code",
   "execution_count": 11,
   "id": "9ac1a76b-b710-43b1-a5ff-0747ce2bd083",
   "metadata": {},
   "outputs": [
    {
     "ename": "TypeError",
     "evalue": "pop expected at most 1 argument, got 2",
     "output_type": "error",
     "traceback": [
      "\u001b[1;31m---------------------------------------------------------------------------\u001b[0m",
      "\u001b[1;31mTypeError\u001b[0m                                 Traceback (most recent call last)",
      "Cell \u001b[1;32mIn[11], line 4\u001b[0m\n\u001b[0;32m      1\u001b[0m \u001b[38;5;66;03m# Remove an item from the last position\u001b[39;00m\n\u001b[0;32m      3\u001b[0m l1 \u001b[38;5;241m=\u001b[39m [\u001b[38;5;124m'\u001b[39m\u001b[38;5;124mone\u001b[39m\u001b[38;5;124m'\u001b[39m,\u001b[38;5;124m'\u001b[39m\u001b[38;5;124mtwo\u001b[39m\u001b[38;5;124m'\u001b[39m,\u001b[38;5;124m'\u001b[39m\u001b[38;5;124mthree\u001b[39m\u001b[38;5;124m'\u001b[39m,\u001b[38;5;124m'\u001b[39m\u001b[38;5;124mfour\u001b[39m\u001b[38;5;124m'\u001b[39m,\u001b[38;5;124m'\u001b[39m\u001b[38;5;124mfive\u001b[39m\u001b[38;5;124m'\u001b[39m]\n\u001b[1;32m----> 4\u001b[0m l1\u001b[38;5;241m.\u001b[39mpop(\u001b[38;5;241m-\u001b[39m\u001b[38;5;241m1\u001b[39m,\u001b[38;5;241m-\u001b[39m\u001b[38;5;241m2\u001b[39m)\n",
      "\u001b[1;31mTypeError\u001b[0m: pop expected at most 1 argument, got 2"
     ]
    }
   ],
   "source": [
    "# Remove an item from the last position\n",
    "\n",
    "l1 = ['one','two','three','four','five']\n",
    "l1.pop(-1,-2)"
   ]
  },
  {
   "cell_type": "code",
   "execution_count": 949,
   "id": "e1d53083-ee54-4c61-8e21-c1f6550d189c",
   "metadata": {},
   "outputs": [
    {
     "name": "stdout",
     "output_type": "stream",
     "text": [
      "['one', 'two', 'three', 'five']\n"
     ]
    }
   ],
   "source": [
    "# Remove an element from any specific position using -ve index\n",
    "\n",
    "l1 = ['one','two','three','four','five']\n",
    "l1.pop(-2)\n",
    "print(l1)"
   ]
  },
  {
   "cell_type": "markdown",
   "id": "dd3c556d-3a35-4cbf-9561-5099ebdcd8e4",
   "metadata": {},
   "source": [
    "#### remove function"
   ]
  },
  {
   "cell_type": "code",
   "execution_count": 977,
   "id": "b9e4083e-795b-4e51-a128-21f195831d0e",
   "metadata": {},
   "outputs": [],
   "source": [
    "l1 = ['one','two','three','four','five',2+3j]"
   ]
  },
  {
   "cell_type": "code",
   "execution_count": 979,
   "id": "1e15c82b-c87f-477e-bdbf-47e1c99bc119",
   "metadata": {},
   "outputs": [
    {
     "name": "stdout",
     "output_type": "stream",
     "text": [
      "['one', 'two', 'three', 'four', (2+3j)]\n"
     ]
    }
   ],
   "source": [
    "# Remove value give from the above list\n",
    "l1.remove('five')\n",
    "print(l1)"
   ]
  },
  {
   "cell_type": "code",
   "execution_count": 12,
   "id": "3a2d4622-3734-41dd-87de-441c5b8bda77",
   "metadata": {},
   "outputs": [
    {
     "name": "stdout",
     "output_type": "stream",
     "text": [
      "['one', 'two', 'three', 'four', 'five']\n"
     ]
    }
   ],
   "source": [
    "l1 = ['one','two','three','four','five',2+3j]\n",
    "\n",
    "# Remove 2+3j complex number from the list\n",
    "\n",
    "l1.remove(2+3j)\n",
    "print(l1)"
   ]
  },
  {
   "cell_type": "code",
   "execution_count": 14,
   "id": "a81646ed-8260-4789-9efe-22b5a0f810f9",
   "metadata": {},
   "outputs": [
    {
     "name": "stdout",
     "output_type": "stream",
     "text": [
      "['one', 'two', 'three', 'four', 'five', (2+3j), [1, (2+3j)]]\n"
     ]
    }
   ],
   "source": [
    "l1 = ['one', 'two', 'three', 'four','five',2+3j, [1, 2+3j]]\n",
    "print(l1)"
   ]
  },
  {
   "cell_type": "code",
   "execution_count": 16,
   "id": "3665ffd3-3fdc-45b1-ac49-4f8effdb4c00",
   "metadata": {},
   "outputs": [
    {
     "name": "stdout",
     "output_type": "stream",
     "text": [
      "['one', 'two', 'three', 'four', 'five', [1, (2+3j)]]\n"
     ]
    }
   ],
   "source": [
    "l1.remove(2+3j)\n",
    "print(l1)"
   ]
  },
  {
   "cell_type": "code",
   "execution_count": 18,
   "id": "3449ce7c-d1f9-4dea-a1c4-d9660cc7edda",
   "metadata": {},
   "outputs": [
    {
     "ename": "ValueError",
     "evalue": "list.remove(x): x not in list",
     "output_type": "error",
     "traceback": [
      "\u001b[1;31m---------------------------------------------------------------------------\u001b[0m",
      "\u001b[1;31mValueError\u001b[0m                                Traceback (most recent call last)",
      "Cell \u001b[1;32mIn[18], line 1\u001b[0m\n\u001b[1;32m----> 1\u001b[0m l1\u001b[38;5;241m.\u001b[39mremove(\u001b[38;5;241m2\u001b[39m\u001b[38;5;241m+\u001b[39m\u001b[38;5;241m3\u001b[39mj)\n",
      "\u001b[1;31mValueError\u001b[0m: list.remove(x): x not in list"
     ]
    }
   ],
   "source": [
    "l1.remove(2+3j)"
   ]
  },
  {
   "cell_type": "code",
   "execution_count": 989,
   "id": "3e084548-957d-48d2-b287-bbce009fc1a5",
   "metadata": {},
   "outputs": [
    {
     "name": "stdout",
     "output_type": "stream",
     "text": [
      "['one', 'two', 'three', 'four', 'five', (2+3j), [1, (2+3j)]]\n"
     ]
    },
    {
     "ename": "TypeError",
     "evalue": "list.remove() takes exactly one argument (2 given)",
     "output_type": "error",
     "traceback": [
      "\u001b[1;31m---------------------------------------------------------------------------\u001b[0m",
      "\u001b[1;31mTypeError\u001b[0m                                 Traceback (most recent call last)",
      "Cell \u001b[1;32mIn[989], line 3\u001b[0m\n\u001b[0;32m      1\u001b[0m l1 \u001b[38;5;241m=\u001b[39m [\u001b[38;5;124m'\u001b[39m\u001b[38;5;124mone\u001b[39m\u001b[38;5;124m'\u001b[39m, \u001b[38;5;124m'\u001b[39m\u001b[38;5;124mtwo\u001b[39m\u001b[38;5;124m'\u001b[39m, \u001b[38;5;124m'\u001b[39m\u001b[38;5;124mthree\u001b[39m\u001b[38;5;124m'\u001b[39m, \u001b[38;5;124m'\u001b[39m\u001b[38;5;124mfour\u001b[39m\u001b[38;5;124m'\u001b[39m,\u001b[38;5;124m'\u001b[39m\u001b[38;5;124mfive\u001b[39m\u001b[38;5;124m'\u001b[39m,\u001b[38;5;241m2\u001b[39m\u001b[38;5;241m+\u001b[39m\u001b[38;5;241m3\u001b[39mj, [\u001b[38;5;241m1\u001b[39m, \u001b[38;5;241m2\u001b[39m\u001b[38;5;241m+\u001b[39m\u001b[38;5;241m3\u001b[39mj]]\n\u001b[0;32m      2\u001b[0m \u001b[38;5;28mprint\u001b[39m(l1)\n\u001b[1;32m----> 3\u001b[0m l1\u001b[38;5;241m.\u001b[39mremove(\u001b[38;5;124m'\u001b[39m\u001b[38;5;124mone\u001b[39m\u001b[38;5;124m'\u001b[39m,\u001b[38;5;241m2\u001b[39m\u001b[38;5;241m+\u001b[39m\u001b[38;5;241m3\u001b[39mj)\n\u001b[0;32m      4\u001b[0m \u001b[38;5;28mprint\u001b[39m(l1)\n",
      "\u001b[1;31mTypeError\u001b[0m: list.remove() takes exactly one argument (2 given)"
     ]
    }
   ],
   "source": [
    "l1 = ['one', 'two', 'three', 'four','five',2+3j, [1, 2+3j]]\n",
    "print(l1)\n",
    "l1.remove('one',2+3j)\n",
    "print(l1)"
   ]
  },
  {
   "cell_type": "code",
   "execution_count": 983,
   "id": "8ccd1584-9291-4eb2-b1e3-3948346aa12a",
   "metadata": {},
   "outputs": [
    {
     "ename": "ValueError",
     "evalue": "list.remove(x): x not in list",
     "output_type": "error",
     "traceback": [
      "\u001b[1;31m---------------------------------------------------------------------------\u001b[0m",
      "\u001b[1;31mValueError\u001b[0m                                Traceback (most recent call last)",
      "Cell \u001b[1;32mIn[983], line 2\u001b[0m\n\u001b[0;32m      1\u001b[0m \u001b[38;5;66;03m# Remove by index\u001b[39;00m\n\u001b[1;32m----> 2\u001b[0m l1\u001b[38;5;241m.\u001b[39mremove(\u001b[38;5;241m-\u001b[39m\u001b[38;5;241m1\u001b[39m)\n",
      "\u001b[1;31mValueError\u001b[0m: list.remove(x): x not in list"
     ]
    }
   ],
   "source": [
    "# Remove by index\n",
    "l1.remove(-1)\n",
    "\n",
    "# doesn't work, as it works only by values"
   ]
  },
  {
   "cell_type": "markdown",
   "id": "f1f28846-94f1-424b-a0b5-5563b2ef5af1",
   "metadata": {},
   "source": [
    "#### clear function"
   ]
  },
  {
   "cell_type": "code",
   "execution_count": 421,
   "id": "3bc89bec-6164-4e35-8c1c-a6372fc32b0a",
   "metadata": {},
   "outputs": [],
   "source": [
    "l1=['one', 'two', 'three', 'four', [1, (2+3j)]]"
   ]
  },
  {
   "cell_type": "code",
   "execution_count": 423,
   "id": "4d0ca3da-7977-4da2-a32c-d606b62c2813",
   "metadata": {},
   "outputs": [
    {
     "data": {
      "text/plain": [
       "['one', 'two', 'three', 'four', [1, (2+3j)]]"
      ]
     },
     "execution_count": 423,
     "metadata": {},
     "output_type": "execute_result"
    }
   ],
   "source": [
    "l1"
   ]
  },
  {
   "cell_type": "code",
   "execution_count": 425,
   "id": "9bae3722-f3bf-4456-ae31-459209e2e47b",
   "metadata": {},
   "outputs": [],
   "source": [
    "l1.clear()"
   ]
  },
  {
   "cell_type": "code",
   "execution_count": 427,
   "id": "64246b3d-1c1d-4d07-b850-f4e14e56a56d",
   "metadata": {},
   "outputs": [
    {
     "data": {
      "text/plain": [
       "[]"
      ]
     },
     "execution_count": 427,
     "metadata": {},
     "output_type": "execute_result"
    }
   ],
   "source": [
    "l1"
   ]
  },
  {
   "cell_type": "code",
   "execution_count": 996,
   "id": "d32d9d2f-f741-4051-9e0d-9557baf55d4f",
   "metadata": {},
   "outputs": [
    {
     "data": {
      "text/plain": [
       "[2, 'three']"
      ]
     },
     "execution_count": 996,
     "metadata": {},
     "output_type": "execute_result"
    }
   ],
   "source": [
    "l1 = [2,'three']\n",
    "l1"
   ]
  },
  {
   "cell_type": "code",
   "execution_count": 998,
   "id": "5fdfe2da-0413-4955-9696-71a40c00f376",
   "metadata": {},
   "outputs": [
    {
     "ename": "TypeError",
     "evalue": "list.clear() takes no arguments (1 given)",
     "output_type": "error",
     "traceback": [
      "\u001b[1;31m---------------------------------------------------------------------------\u001b[0m",
      "\u001b[1;31mTypeError\u001b[0m                                 Traceback (most recent call last)",
      "Cell \u001b[1;32mIn[998], line 1\u001b[0m\n\u001b[1;32m----> 1\u001b[0m l1\u001b[38;5;241m.\u001b[39mclear(\u001b[38;5;241m2\u001b[39m)\n",
      "\u001b[1;31mTypeError\u001b[0m: list.clear() takes no arguments (1 given)"
     ]
    }
   ],
   "source": [
    "l1.clear(2)"
   ]
  },
  {
   "cell_type": "markdown",
   "id": "29b6f4e0-3c66-48e2-afb0-48bd576236df",
   "metadata": {},
   "source": [
    "#### del function"
   ]
  },
  {
   "cell_type": "code",
   "execution_count": 1002,
   "id": "9e00cd0a-c9c0-404e-a69a-0dfd5a0d979a",
   "metadata": {},
   "outputs": [],
   "source": [
    "l1=['one', 'two', 'three', 'four', [1, (2+3j)]]"
   ]
  },
  {
   "cell_type": "code",
   "execution_count": 1004,
   "id": "c1a0e54b-671b-4391-8438-a4611bc2311d",
   "metadata": {},
   "outputs": [
    {
     "data": {
      "text/plain": [
       "['one', 'two', 'three', 'four', [1, (2+3j)]]"
      ]
     },
     "execution_count": 1004,
     "metadata": {},
     "output_type": "execute_result"
    }
   ],
   "source": [
    "l1"
   ]
  },
  {
   "cell_type": "code",
   "execution_count": 1006,
   "id": "fb115528-3b2f-4f4a-a3f0-9a237cc53671",
   "metadata": {},
   "outputs": [],
   "source": [
    "del l1"
   ]
  },
  {
   "cell_type": "code",
   "execution_count": 1008,
   "id": "3389c5f5-3a20-440c-b06b-b242dd17bdd9",
   "metadata": {},
   "outputs": [
    {
     "ename": "NameError",
     "evalue": "name 'l1' is not defined",
     "output_type": "error",
     "traceback": [
      "\u001b[1;31m---------------------------------------------------------------------------\u001b[0m",
      "\u001b[1;31mNameError\u001b[0m                                 Traceback (most recent call last)",
      "Cell \u001b[1;32mIn[1008], line 1\u001b[0m\n\u001b[1;32m----> 1\u001b[0m l1\n",
      "\u001b[1;31mNameError\u001b[0m: name 'l1' is not defined"
     ]
    }
   ],
   "source": [
    "l1"
   ]
  },
  {
   "cell_type": "markdown",
   "id": "ae8b7adf-73f0-466b-9f64-bee6205d12b4",
   "metadata": {},
   "source": [
    "### Joining lists"
   ]
  },
  {
   "cell_type": "code",
   "execution_count": 137,
   "id": "6349348e-8e67-467b-aafe-be7967182ab1",
   "metadata": {},
   "outputs": [
    {
     "name": "stdout",
     "output_type": "stream",
     "text": [
      "[1, 2, 3]\n",
      "[1, 2, 3, 'a', 'b', 'c']\n"
     ]
    }
   ],
   "source": [
    "l1 = [1,2,3]\n",
    "l2 = ['a','b','c']\n",
    "l3 = l1 + l2 # Creates a new list l3\n",
    "print(l1)\n",
    "print(l3)"
   ]
  },
  {
   "cell_type": "code",
   "execution_count": 44,
   "id": "2a2b5380-7bf9-4db5-bab0-7b63c92d883e",
   "metadata": {},
   "outputs": [
    {
     "name": "stdout",
     "output_type": "stream",
     "text": [
      "[1, 2, 3, 'a', 'b', 'c']\n",
      "[1, 2, 3, 'a', 'b', 'c']\n"
     ]
    }
   ],
   "source": [
    "# Join by using + operator\n",
    "\n",
    "l1 = [1,2,3]\n",
    "l2 = ['a','b','c']\n",
    "\n",
    "# Join by using extend function\n",
    "l1.extend(l2)\n",
    "print(l1)\n",
    "l4=l1\n",
    "print(l4)"
   ]
  },
  {
   "cell_type": "code",
   "execution_count": 131,
   "id": "6f85aa04-7636-43de-bb45-c65b96fb1833",
   "metadata": {},
   "outputs": [],
   "source": [
    "l1 = [1,2,3,['akk',2]]\n",
    "l2 = ['a',[2,1],'c']"
   ]
  },
  {
   "cell_type": "code",
   "execution_count": 133,
   "id": "ef5ea41e-b691-42b2-b920-16c587fe5745",
   "metadata": {},
   "outputs": [
    {
     "name": "stdout",
     "output_type": "stream",
     "text": [
      "[1, 2, 3, ['akk', 2], 'a', [2, 1], 'c']\n"
     ]
    }
   ],
   "source": [
    "l1.extend(l2)\n",
    "print(l1)"
   ]
  },
  {
   "cell_type": "markdown",
   "id": "6e28de19-d024-4af3-bac1-26091ea13745",
   "metadata": {},
   "source": [
    "### all/any\n",
    "- all() - returns True if all the elements of the list are ture (non zero)\n",
    "- any() - returns True if any of the elements in the list are true (non zero)"
   ]
  },
  {
   "cell_type": "code",
   "execution_count": 32,
   "id": "980e3edb-0ec7-4d2a-b29d-a6e20b8e5172",
   "metadata": {},
   "outputs": [
    {
     "name": "stdout",
     "output_type": "stream",
     "text": [
      "True\n",
      "True\n"
     ]
    }
   ],
   "source": [
    "l1 = [1,9,2,-1]\n",
    "print(all(l1))\n",
    "print(any(l1))"
   ]
  },
  {
   "cell_type": "code",
   "execution_count": 34,
   "id": "25844628-65cc-4231-a397-df6f963372c3",
   "metadata": {},
   "outputs": [
    {
     "name": "stdout",
     "output_type": "stream",
     "text": [
      "False\n",
      "True\n"
     ]
    }
   ],
   "source": [
    "l1 = [1,9,2,-1,0]\n",
    "print(all(l1))\n",
    "print(any(l1))"
   ]
  },
  {
   "cell_type": "code",
   "execution_count": 46,
   "id": "dad4febe-54a7-4355-8844-4bdfc4296492",
   "metadata": {},
   "outputs": [
    {
     "name": "stdout",
     "output_type": "stream",
     "text": [
      "False\n",
      "True\n"
     ]
    }
   ],
   "source": [
    "l1 = [1,9,2,-1,False]\n",
    "print(all(l1))\n",
    "print(any(l1))"
   ]
  },
  {
   "cell_type": "code",
   "execution_count": 48,
   "id": "5c1392c9-72fd-4121-aa18-9986778c5844",
   "metadata": {},
   "outputs": [
    {
     "name": "stdout",
     "output_type": "stream",
     "text": [
      "True\n",
      "True\n"
     ]
    }
   ],
   "source": [
    "l1 = [1,9,2,-1,True]\n",
    "print(all(l1))\n",
    "print(any(l1))"
   ]
  },
  {
   "cell_type": "markdown",
   "id": "707f43cf-c5c8-4a63-826b-12a98ac36ca9",
   "metadata": {},
   "source": [
    "### Membership\n",
    "- IN and NOT IN"
   ]
  },
  {
   "cell_type": "code",
   "execution_count": 58,
   "id": "7a684e43-511a-4aa0-b125-d84954a9f64a",
   "metadata": {},
   "outputs": [
    {
     "data": {
      "text/plain": [
       "True"
      ]
     },
     "execution_count": 58,
     "metadata": {},
     "output_type": "execute_result"
    }
   ],
   "source": [
    "l1 = [1,9,2,-1,True]\n",
    "True in l1"
   ]
  },
  {
   "cell_type": "code",
   "execution_count": 64,
   "id": "23321179-2f8f-4eaf-92d8-2ba0f6b0f28f",
   "metadata": {},
   "outputs": [
    {
     "data": {
      "text/plain": [
       "False"
      ]
     },
     "execution_count": 64,
     "metadata": {},
     "output_type": "execute_result"
    }
   ],
   "source": [
    "l1 = [1,9,2,-1,True,'kk']\n",
    "False in l1"
   ]
  },
  {
   "cell_type": "code",
   "execution_count": 66,
   "id": "aa4c87ea-df72-495a-9cf3-2eb066d99edc",
   "metadata": {},
   "outputs": [
    {
     "data": {
      "text/plain": [
       "True"
      ]
     },
     "execution_count": 66,
     "metadata": {},
     "output_type": "execute_result"
    }
   ],
   "source": [
    "'kk' in l1"
   ]
  },
  {
   "cell_type": "code",
   "execution_count": 68,
   "id": "9d77885f-b695-4d77-8b24-2cbbf96fe20e",
   "metadata": {},
   "outputs": [
    {
     "data": {
      "text/plain": [
       "False"
      ]
     },
     "execution_count": 68,
     "metadata": {},
     "output_type": "execute_result"
    }
   ],
   "source": [
    "'Kk' in l1"
   ]
  },
  {
   "cell_type": "code",
   "execution_count": 70,
   "id": "6c72462a-c679-4330-841e-222ff2f1f7c8",
   "metadata": {},
   "outputs": [
    {
     "data": {
      "text/plain": [
       "True"
      ]
     },
     "execution_count": 70,
     "metadata": {},
     "output_type": "execute_result"
    }
   ],
   "source": [
    "-1 in l1"
   ]
  },
  {
   "cell_type": "markdown",
   "id": "657263d2-d572-4c04-9262-ea8ae2939ca6",
   "metadata": {},
   "source": [
    "### Update"
   ]
  },
  {
   "cell_type": "code",
   "execution_count": 89,
   "id": "71b08a50-d945-4f44-8bf8-ff9668e131c0",
   "metadata": {},
   "outputs": [
    {
     "data": {
      "text/plain": [
       "[1, 9, 3, -1, True, 'kk']"
      ]
     },
     "execution_count": 89,
     "metadata": {},
     "output_type": "execute_result"
    }
   ],
   "source": [
    "l1 = [1,9,2,-1,True,'kk']\n",
    "l1[2]=3\n",
    "l1"
   ]
  },
  {
   "cell_type": "markdown",
   "id": "b1271724-8518-4a72-8cc0-0815ff17f5c0",
   "metadata": {},
   "source": [
    "### reverse and sort"
   ]
  },
  {
   "cell_type": "code",
   "execution_count": 99,
   "id": "c2f8bbda-617d-4417-8ea8-cb9a7066dfbf",
   "metadata": {},
   "outputs": [
    {
     "data": {
      "text/plain": [
       "[90, 100, 'kk', True, -1, 2, 9, 1, 'akk']"
      ]
     },
     "execution_count": 99,
     "metadata": {},
     "output_type": "execute_result"
    }
   ],
   "source": [
    "l1 = ['akk',1,9,2,-1,True,'kk',100,90]\n",
    "l1.reverse()\n",
    "l1"
   ]
  },
  {
   "cell_type": "code",
   "execution_count": 117,
   "id": "e5cb879a-c3e3-4090-b8ee-580f10058f33",
   "metadata": {},
   "outputs": [
    {
     "data": {
      "text/plain": [
       "[2, 3, 5, 6, 7, 9]"
      ]
     },
     "execution_count": 117,
     "metadata": {},
     "output_type": "execute_result"
    }
   ],
   "source": [
    "l1 = [9,2,5,6,3,7]\n",
    "l1.sort()\n",
    "l1\n",
    "# Default is ascending"
   ]
  },
  {
   "cell_type": "code",
   "execution_count": 121,
   "id": "7c4912b5-a4b0-4327-83ea-df2cdc33d24d",
   "metadata": {},
   "outputs": [
    {
     "data": {
      "text/plain": [
       "[9, 7, 6, 5, 3, 2]"
      ]
     },
     "execution_count": 121,
     "metadata": {},
     "output_type": "execute_result"
    }
   ],
   "source": [
    "l1 = [9,2,5,6,3,7]\n",
    "l1.sort(reverse = True)\n",
    "l1\n",
    "# Use reverse = True to sort in descending order"
   ]
  },
  {
   "cell_type": "code",
   "execution_count": 125,
   "id": "bca2d960-76ea-4402-9726-7e3a19c7990c",
   "metadata": {},
   "outputs": [
    {
     "ename": "TypeError",
     "evalue": "'<' not supported between instances of 'int' and 'str'",
     "output_type": "error",
     "traceback": [
      "\u001b[1;31m---------------------------------------------------------------------------\u001b[0m",
      "\u001b[1;31mTypeError\u001b[0m                                 Traceback (most recent call last)",
      "Cell \u001b[1;32mIn[125], line 2\u001b[0m\n\u001b[0;32m      1\u001b[0m l1 \u001b[38;5;241m=\u001b[39m [\u001b[38;5;124m'\u001b[39m\u001b[38;5;124makk\u001b[39m\u001b[38;5;124m'\u001b[39m,\u001b[38;5;241m1\u001b[39m,\u001b[38;5;241m9\u001b[39m,\u001b[38;5;241m2\u001b[39m,\u001b[38;5;241m-\u001b[39m\u001b[38;5;241m1\u001b[39m,\u001b[38;5;28;01mTrue\u001b[39;00m,\u001b[38;5;124m'\u001b[39m\u001b[38;5;124mkk\u001b[39m\u001b[38;5;124m'\u001b[39m,\u001b[38;5;241m100\u001b[39m,\u001b[38;5;241m90\u001b[39m,\u001b[38;5;28;01mFalse\u001b[39;00m]\n\u001b[1;32m----> 2\u001b[0m l1\u001b[38;5;241m.\u001b[39msort()\n\u001b[0;32m      3\u001b[0m l1\n",
      "\u001b[1;31mTypeError\u001b[0m: '<' not supported between instances of 'int' and 'str'"
     ]
    }
   ],
   "source": [
    "l1 = ['akk',1,9,2,-1,True,'kk',100,90,False]\n",
    "l1.sort()\n",
    "l1"
   ]
  },
  {
   "cell_type": "code",
   "execution_count": 19,
   "id": "076603c1-8e7f-4068-8195-6f9804d6c52e",
   "metadata": {},
   "outputs": [
    {
     "data": {
      "text/plain": [
       "[-1, False, 1, True, 2, 9, 90, 100]"
      ]
     },
     "execution_count": 19,
     "metadata": {},
     "output_type": "execute_result"
    }
   ],
   "source": [
    "l1 = [1,9,2,-1,True,100,90,False]\n",
    "l1.sort()\n",
    "l1"
   ]
  },
  {
   "cell_type": "markdown",
   "id": "738b8011-3b74-431e-8cdc-1adc847be111",
   "metadata": {},
   "source": [
    "#### count function"
   ]
  },
  {
   "cell_type": "code",
   "execution_count": 36,
   "id": "5fd4df41-7860-4ccf-91f9-e65d8b87fd1e",
   "metadata": {},
   "outputs": [
    {
     "data": {
      "text/plain": [
       "1"
      ]
     },
     "execution_count": 36,
     "metadata": {},
     "output_type": "execute_result"
    }
   ],
   "source": [
    "l1 = [1,9,2,-1,True,100,90,False,90,True]\n",
    "l1.count(9)"
   ]
  },
  {
   "cell_type": "code",
   "execution_count": 86,
   "id": "4b986e22-f575-4a92-ae24-fb044f8bfee2",
   "metadata": {},
   "outputs": [
    {
     "data": {
      "text/plain": [
       "1"
      ]
     },
     "execution_count": 86,
     "metadata": {},
     "output_type": "execute_result"
    }
   ],
   "source": [
    "l1 = [9,2,-1,True]\n",
    "l1.count(9)"
   ]
  },
  {
   "cell_type": "code",
   "execution_count": 88,
   "id": "ac64f665-8a27-4167-ad76-dbafea529a29",
   "metadata": {},
   "outputs": [
    {
     "data": {
      "text/plain": [
       "1"
      ]
     },
     "execution_count": 88,
     "metadata": {},
     "output_type": "execute_result"
    }
   ],
   "source": [
    "l1 = [9,2,-1,True]\n",
    "l1.count(1)"
   ]
  },
  {
   "cell_type": "code",
   "execution_count": 90,
   "id": "ed86905a-ab7e-4320-8738-725418246245",
   "metadata": {},
   "outputs": [
    {
     "data": {
      "text/plain": [
       "2"
      ]
     },
     "execution_count": 90,
     "metadata": {},
     "output_type": "execute_result"
    }
   ],
   "source": [
    "l1 = [1,9,2,-1,True,100,90,False,90,True]\n",
    "l1.count(90)"
   ]
  },
  {
   "cell_type": "code",
   "execution_count": 66,
   "id": "ea3e1b08-6810-4f68-86cf-ac2f06124cf6",
   "metadata": {},
   "outputs": [
    {
     "data": {
      "text/plain": [
       "2"
      ]
     },
     "execution_count": 66,
     "metadata": {},
     "output_type": "execute_result"
    }
   ],
   "source": [
    "l1 = [9,2,-1,True,100,90,False,90,True]\n",
    "# 1,True,True\n",
    "l1.count(True)"
   ]
  },
  {
   "cell_type": "code",
   "execution_count": 68,
   "id": "88e7ad3d-8660-4aae-92b7-f2576b6b84a8",
   "metadata": {},
   "outputs": [
    {
     "data": {
      "text/plain": [
       "3"
      ]
     },
     "execution_count": 68,
     "metadata": {},
     "output_type": "execute_result"
    }
   ],
   "source": [
    "l1 = [1,9,2,-1,True,100,90,False,90,True]\n",
    "# 1,True,True\n",
    "l1.count(True)"
   ]
  },
  {
   "cell_type": "code",
   "execution_count": 78,
   "id": "3a2a739d-d446-4271-8c3f-614587475619",
   "metadata": {},
   "outputs": [
    {
     "data": {
      "text/plain": [
       "5"
      ]
     },
     "execution_count": 78,
     "metadata": {},
     "output_type": "execute_result"
    }
   ],
   "source": [
    "l1 = [1,9,2,-1,True,100,90,False,90,True,1,2,0,1]\n",
    "l1.count(True)\n",
    "l1.count(1)\n",
    "# 1,True,True,1,1\n",
    "# counts total number of 1s + True values"
   ]
  },
  {
   "cell_type": "code",
   "execution_count": 74,
   "id": "ee84a267-dbb2-4d9b-979c-9e4fd41c0338",
   "metadata": {},
   "outputs": [
    {
     "name": "stdout",
     "output_type": "stream",
     "text": [
      "2\n",
      "2\n"
     ]
    }
   ],
   "source": [
    "l1 = [1,9,2,-1,True,100,90,0,1,0]\n",
    "print(l1.count(False))\n",
    "print(l1.count(0))\n",
    "# counts total number of 1s + False values"
   ]
  },
  {
   "cell_type": "code",
   "execution_count": 82,
   "id": "d8f1dbfe-920f-4284-bdb7-21171c2a75d0",
   "metadata": {},
   "outputs": [
    {
     "name": "stdout",
     "output_type": "stream",
     "text": [
      "1\n"
     ]
    }
   ],
   "source": [
    "l1 = [1,100,90,False,1]\n",
    "print(l1.count(0))\n",
    "# counts total number of 1s + False values"
   ]
  },
  {
   "cell_type": "code",
   "execution_count": 84,
   "id": "c1eecec8-c833-42c0-be02-9061fd83e377",
   "metadata": {},
   "outputs": [
    {
     "name": "stdout",
     "output_type": "stream",
     "text": [
      "3\n",
      "3\n"
     ]
    }
   ],
   "source": [
    "l1 = [1,9,2,-1,True,100,90,False,90,True,1,2,0,1,0]\n",
    "print(l1.count(False))\n",
    "print(l1.count(0))\n",
    "# counts total number of 1s and True values"
   ]
  },
  {
   "cell_type": "markdown",
   "id": "e650995a-f2a4-4d1d-99fd-94e7b4878d22",
   "metadata": {},
   "source": [
    "#### index() function"
   ]
  },
  {
   "cell_type": "code",
   "execution_count": 94,
   "id": "883d3ea0-4008-4eae-80cc-67283b6a4612",
   "metadata": {},
   "outputs": [
    {
     "data": {
      "text/plain": [
       "7"
      ]
     },
     "execution_count": 94,
     "metadata": {},
     "output_type": "execute_result"
    }
   ],
   "source": [
    "l1 = [1,9,2,-1,True,100,90,False,90,True,1,2,0,1,0]\n",
    "l1.index(False)"
   ]
  },
  {
   "cell_type": "code",
   "execution_count": 106,
   "id": "ae824098-8503-4d94-9c6a-98c2646ee871",
   "metadata": {},
   "outputs": [
    {
     "data": {
      "text/plain": [
       "7"
      ]
     },
     "execution_count": 106,
     "metadata": {},
     "output_type": "execute_result"
    }
   ],
   "source": [
    "l1.index(0)"
   ]
  },
  {
   "cell_type": "code",
   "execution_count": 108,
   "id": "6489db77-e25e-4d89-9fd3-23e875a3cf30",
   "metadata": {},
   "outputs": [
    {
     "data": {
      "text/plain": [
       "7"
      ]
     },
     "execution_count": 108,
     "metadata": {},
     "output_type": "execute_result"
    }
   ],
   "source": [
    "l1 = [1,9,2,-1,True,100,90,0,90,True,1,2,0,1,False]\n",
    "l1.index(0)"
   ]
  },
  {
   "cell_type": "code",
   "execution_count": 110,
   "id": "c47f334e-7e8e-46e0-9313-9278fde48f01",
   "metadata": {},
   "outputs": [
    {
     "data": {
      "text/plain": [
       "7"
      ]
     },
     "execution_count": 110,
     "metadata": {},
     "output_type": "execute_result"
    }
   ],
   "source": [
    "l1 = [1,9,2,-1,True,100,90,False,90,True,1,2,0,1,0]\n",
    "l1.index(0)"
   ]
  },
  {
   "cell_type": "code",
   "execution_count": 121,
   "id": "aa43dfc2-4a8a-4537-9c46-c8c995dcd812",
   "metadata": {},
   "outputs": [
    {
     "data": {
      "text/plain": [
       "0"
      ]
     },
     "execution_count": 121,
     "metadata": {},
     "output_type": "execute_result"
    }
   ],
   "source": [
    "l1 = [False,9,2,-1,True,100,90,False,90,True,1,2,0,1,0]\n",
    "l1.index(0)"
   ]
  },
  {
   "cell_type": "code",
   "execution_count": 123,
   "id": "8e67e07f-4906-463b-8dd8-84edf4d163be",
   "metadata": {},
   "outputs": [
    {
     "data": {
      "text/plain": [
       "0"
      ]
     },
     "execution_count": 123,
     "metadata": {},
     "output_type": "execute_result"
    }
   ],
   "source": [
    "l1 = [0,9,2,-1,True,100,90,False,90,True,1,2,0,1,0]\n",
    "l1.index(0)"
   ]
  },
  {
   "cell_type": "code",
   "execution_count": 125,
   "id": "69e54e90-caf8-4c22-b537-133373c5cf98",
   "metadata": {},
   "outputs": [
    {
     "data": {
      "text/plain": [
       "0"
      ]
     },
     "execution_count": 125,
     "metadata": {},
     "output_type": "execute_result"
    }
   ],
   "source": [
    "l1 = [0,9,2,-1,True,100,90,False,90,True,1,2,0,1,0]\n",
    "l1.index(False)"
   ]
  }
 ],
 "metadata": {
  "kernelspec": {
   "display_name": "Python [conda env:base] *",
   "language": "python",
   "name": "conda-base-py"
  },
  "language_info": {
   "codemirror_mode": {
    "name": "ipython",
    "version": 3
   },
   "file_extension": ".py",
   "mimetype": "text/x-python",
   "name": "python",
   "nbconvert_exporter": "python",
   "pygments_lexer": "ipython3",
   "version": "3.12.7"
  }
 },
 "nbformat": 4,
 "nbformat_minor": 5
}
