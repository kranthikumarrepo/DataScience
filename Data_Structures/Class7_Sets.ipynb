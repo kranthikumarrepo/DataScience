{
 "cells": [
  {
   "cell_type": "code",
   "execution_count": 1,
   "id": "4818cefe-261c-43ad-a39f-9b8eaffb2f8b",
   "metadata": {},
   "outputs": [
    {
     "ename": "SyntaxError",
     "evalue": "invalid syntax (319453850.py, line 1)",
     "output_type": "error",
     "traceback": [
      "\u001b[1;36m  Cell \u001b[1;32mIn[1], line 1\u001b[1;36m\u001b[0m\n\u001b[1;33m    Some question related s1 = {8,4,2,14,23} >> np.array(s1)\u001b[0m\n\u001b[1;37m         ^\u001b[0m\n\u001b[1;31mSyntaxError\u001b[0m\u001b[1;31m:\u001b[0m invalid syntax\n"
     ]
    }
   ],
   "source": [
    "Some question related s1 = {8,4,2,14,23} >> np.array(s1)\n",
    "WHY DATA DOESNT GET SORTED IN A SPECIFIC ORDER - NEED TO CHECK WITH NUMPY ARRAY SORT AND THEN CONFIRM"
   ]
  },
  {
   "cell_type": "markdown",
   "id": "c0966d9d-957a-48db-8641-a927a0541108",
   "metadata": {},
   "source": [
    "### Sets\n",
    "- Sequence of elements, but irrespective of order we create or update sets, <b>it gets sorted in background by default</b>\n",
    "- Represented within { }\n",
    "- <b> Sets are Mutable, i.e. elements can be changed (added or removed) </b> after it has been created. <b>However, the elements within a set must be immutable</b> i.e. int, flot, complex, boolean, string, tuples. <b>set</b> inside set not allowed\n",
    "- <b>Note: </b> Though sets are mutable, it can be updated only using functions, not by indexing.\n",
    "- <b>Sets cannot contain</b> mutable elements like lists, sets, dictionary. So, set cannot contain another set.\n",
    "- <b>Un-indexed, we cannot access individual elements</b> of a set using indexes. i.e. we cannot use set[1], etc.\n",
    "- But we can access individual elements using iteration. Ex for loop\n",
    "- <b>Can contain heterogenous</b> data\n",
    "- <b>Does not allow duplicate values</b>, even though we can add duplicate values, set removes duplicates in background."
   ]
  },
  {
   "cell_type": "markdown",
   "id": "2a0769dc-e792-4c23-a63c-6e29e916c4d2",
   "metadata": {},
   "source": [
    "#### Functions on Set\n",
    "- Functions on set >>> add, update, remove, discard, clear, del, pop, len, all, any, in, not in, union, intersection, difference\n",
    "- The below functions <b>cannot </b> be used on set\n",
    "- count(as set cannot have duplicate values), index(as set values cannot be indexed), sort(set is sorted by default), reverse(set is always sorted), append, extend, insert(we have add functions for sets like add, update)"
   ]
  },
  {
   "cell_type": "code",
   "execution_count": 42,
   "id": "6dc58255-3c95-404e-b788-f4813283be4c",
   "metadata": {},
   "outputs": [
    {
     "name": "stdout",
     "output_type": "stream",
     "text": [
      "{}\n",
      "<class 'dict'>\n"
     ]
    }
   ],
   "source": [
    "# Create an empty set\n",
    "set1={}\n",
    "print(set1)\n",
    "print(type(set1))\n",
    "# This creates dictionary unless we explicitly mention it as an empty set"
   ]
  },
  {
   "cell_type": "code",
   "execution_count": 44,
   "id": "ff4fa9d3-6b50-4cf5-9ed9-11ce12044147",
   "metadata": {},
   "outputs": [
    {
     "data": {
      "text/plain": [
       "set"
      ]
     },
     "execution_count": 44,
     "metadata": {},
     "output_type": "execute_result"
    }
   ],
   "source": [
    "# Create an empty set - explicitly mention set() function\n",
    "s2 = set()\n",
    "type(s2)"
   ]
  },
  {
   "cell_type": "code",
   "execution_count": 48,
   "id": "d723f36f-d24f-4a2c-829f-675387896588",
   "metadata": {},
   "outputs": [
    {
     "data": {
      "text/plain": [
       "{(2, 5, 1), 2, 3.5, 4, 5, 8, 9, True, 'tt'}"
      ]
     },
     "execution_count": 48,
     "metadata": {},
     "output_type": "execute_result"
    }
   ],
   "source": [
    "# Create a heterogenus set, no need to mention set() if we are giving values while creating\n",
    "# Output is sorted\n",
    "\n",
    "set1 = {8, 4, 3.5, 2, 5, 4, 'tt',9,(2,5,1),8,True}\n",
    "set1"
   ]
  },
  {
   "cell_type": "code",
   "execution_count": 54,
   "id": "f1af0165-5a89-4343-9b42-4d165527a956",
   "metadata": {},
   "outputs": [
    {
     "data": {
      "text/plain": [
       "{(2, 3), (9+2j), 2, 3.5, 4, 5, 8, 9, True, 'tt'}"
      ]
     },
     "execution_count": 54,
     "metadata": {},
     "output_type": "execute_result"
    }
   ],
   "source": [
    "# A set can contain only immutable elements like int, float, complex, boolean, string, tuple\n",
    "\n",
    "set1 = {8, 4, 3.5, 2, 5, 4, 'tt',9,8,True,9+2j,(2,3)}\n",
    "set1"
   ]
  },
  {
   "cell_type": "code",
   "execution_count": 56,
   "id": "f833c405-3b3d-4e82-8cf6-6a791b5ee84b",
   "metadata": {},
   "outputs": [
    {
     "ename": "TypeError",
     "evalue": "unhashable type: 'list'",
     "output_type": "error",
     "traceback": [
      "\u001b[1;31m---------------------------------------------------------------------------\u001b[0m",
      "\u001b[1;31mTypeError\u001b[0m                                 Traceback (most recent call last)",
      "Cell \u001b[1;32mIn[56], line 4\u001b[0m\n\u001b[0;32m      1\u001b[0m \u001b[38;5;66;03m# A set cannot contain mutable elements like list, dictionary, sets\u001b[39;00m\n\u001b[0;32m      2\u001b[0m \n\u001b[0;32m      3\u001b[0m \u001b[38;5;66;03m# Below throws error as there is list data type\u001b[39;00m\n\u001b[1;32m----> 4\u001b[0m set1 \u001b[38;5;241m=\u001b[39m {\u001b[38;5;241m8\u001b[39m, \u001b[38;5;241m4\u001b[39m, \u001b[38;5;241m3.5\u001b[39m, \u001b[38;5;241m2\u001b[39m, \u001b[38;5;241m5\u001b[39m, \u001b[38;5;241m4\u001b[39m, \u001b[38;5;124m'\u001b[39m\u001b[38;5;124mtt\u001b[39m\u001b[38;5;124m'\u001b[39m,\u001b[38;5;241m9\u001b[39m,\u001b[38;5;241m8\u001b[39m,\u001b[38;5;28;01mTrue\u001b[39;00m,(\u001b[38;5;241m2\u001b[39m,\u001b[38;5;241m3\u001b[39m),\u001b[38;5;241m9\u001b[39m\u001b[38;5;241m+\u001b[39m\u001b[38;5;241m2\u001b[39mj,[\u001b[38;5;241m2\u001b[39m,\u001b[38;5;241m1\u001b[39m]}\n\u001b[0;32m      5\u001b[0m set1\n",
      "\u001b[1;31mTypeError\u001b[0m: unhashable type: 'list'"
     ]
    }
   ],
   "source": [
    "# A set cannot contain mutable elements like list, dictionary, sets\n",
    "\n",
    "# Below throws error as there is list data type\n",
    "set1 = {8, 4, 3.5, 2, 5, 4, 'tt',9,8,True,(2,3),9+2j,[2,1]}\n",
    "set1"
   ]
  },
  {
   "cell_type": "code",
   "execution_count": 58,
   "id": "8c4b0fa1-ad30-4efd-9fd5-8ea9a29f2eba",
   "metadata": {},
   "outputs": [
    {
     "ename": "TypeError",
     "evalue": "unhashable type: 'set'",
     "output_type": "error",
     "traceback": [
      "\u001b[1;31m---------------------------------------------------------------------------\u001b[0m",
      "\u001b[1;31mTypeError\u001b[0m                                 Traceback (most recent call last)",
      "Cell \u001b[1;32mIn[58], line 4\u001b[0m\n\u001b[0;32m      1\u001b[0m \u001b[38;5;66;03m# A set cannot contain mutable elements like list, dictionary, sets\u001b[39;00m\n\u001b[0;32m      2\u001b[0m \n\u001b[0;32m      3\u001b[0m \u001b[38;5;66;03m# Below throws error as there is set data type\u001b[39;00m\n\u001b[1;32m----> 4\u001b[0m set1 \u001b[38;5;241m=\u001b[39m {\u001b[38;5;241m8\u001b[39m, \u001b[38;5;241m4\u001b[39m, \u001b[38;5;241m3.5\u001b[39m, \u001b[38;5;241m2\u001b[39m, \u001b[38;5;241m5\u001b[39m, \u001b[38;5;241m4\u001b[39m, \u001b[38;5;124m'\u001b[39m\u001b[38;5;124mtt\u001b[39m\u001b[38;5;124m'\u001b[39m,\u001b[38;5;241m9\u001b[39m,\u001b[38;5;241m8\u001b[39m,\u001b[38;5;28;01mTrue\u001b[39;00m,(\u001b[38;5;241m2\u001b[39m,\u001b[38;5;241m3\u001b[39m),\u001b[38;5;241m9\u001b[39m\u001b[38;5;241m+\u001b[39m\u001b[38;5;241m2\u001b[39mj,{\u001b[38;5;241m2\u001b[39m,\u001b[38;5;241m1\u001b[39m}}\n\u001b[0;32m      5\u001b[0m set1\n",
      "\u001b[1;31mTypeError\u001b[0m: unhashable type: 'set'"
     ]
    }
   ],
   "source": [
    "# A set cannot contain mutable elements like list, dictionary, sets\n",
    "\n",
    "# Below throws error as there is set data type\n",
    "set1 = {8, 4, 3.5, 2, 5, 4, 'tt',9,8,True,(2,3),9+2j,{2,1}}\n",
    "set1"
   ]
  },
  {
   "cell_type": "code",
   "execution_count": 43,
   "id": "7af281bb-cec6-4891-b1ba-604a3961e86f",
   "metadata": {},
   "outputs": [
    {
     "ename": "TypeError",
     "evalue": "unhashable type: 'dict'",
     "output_type": "error",
     "traceback": [
      "\u001b[1;31m---------------------------------------------------------------------------\u001b[0m",
      "\u001b[1;31mTypeError\u001b[0m                                 Traceback (most recent call last)",
      "Cell \u001b[1;32mIn[43], line 4\u001b[0m\n\u001b[0;32m      1\u001b[0m \u001b[38;5;66;03m# A set cannot contain mutable elements like list, dictionary, sets\u001b[39;00m\n\u001b[0;32m      2\u001b[0m \n\u001b[0;32m      3\u001b[0m \u001b[38;5;66;03m# Below throws error as there is dictionary data type\u001b[39;00m\n\u001b[1;32m----> 4\u001b[0m set1 \u001b[38;5;241m=\u001b[39m {\u001b[38;5;241m8\u001b[39m, \u001b[38;5;241m4\u001b[39m, \u001b[38;5;241m3.5\u001b[39m, \u001b[38;5;241m2\u001b[39m, \u001b[38;5;241m5\u001b[39m, \u001b[38;5;241m4\u001b[39m, \u001b[38;5;124m'\u001b[39m\u001b[38;5;124mtt\u001b[39m\u001b[38;5;124m'\u001b[39m,\u001b[38;5;241m9\u001b[39m,\u001b[38;5;241m8\u001b[39m,\u001b[38;5;28;01mTrue\u001b[39;00m,(\u001b[38;5;241m2\u001b[39m,\u001b[38;5;241m3\u001b[39m),\u001b[38;5;241m9\u001b[39m\u001b[38;5;241m+\u001b[39m\u001b[38;5;241m2\u001b[39mj,{\u001b[38;5;241m1\u001b[39m:\u001b[38;5;124m'\u001b[39m\u001b[38;5;124mkranthi\u001b[39m\u001b[38;5;124m'\u001b[39m}}\n\u001b[0;32m      5\u001b[0m set1\n",
      "\u001b[1;31mTypeError\u001b[0m: unhashable type: 'dict'"
     ]
    }
   ],
   "source": [
    "# A set cannot contain mutable elements like list, dictionary, sets\n",
    "\n",
    "# Below throws error as there is dictionary data type\n",
    "set1 = {8, 4, 3.5, 2, 5, 4, 'tt',9,8,True,(2,3),9+2j,{1:'kranthi'}}\n",
    "set1"
   ]
  },
  {
   "cell_type": "code",
   "execution_count": 5,
   "id": "904cc032-d636-4603-81bf-fcfa4667f076",
   "metadata": {},
   "outputs": [
    {
     "data": {
      "text/plain": [
       "{(2, 5, 1), 2, 3.5, 4, 5, 8, 9, 'tt'}"
      ]
     },
     "execution_count": 5,
     "metadata": {},
     "output_type": "execute_result"
    }
   ],
   "source": [
    "# Create a heterogenus set, with duplicate values & tuple\n",
    "set1 = {8, 4, 3.5, 2, 5, 4, 'tt',9,(2,5,1),8}\n",
    "set1\n",
    "\n",
    "# even though set is created with duplicates and not in order, the output is without duplicates and in sorted order"
   ]
  },
  {
   "cell_type": "code",
   "execution_count": 18,
   "id": "d25ab38e-8b6a-4161-a80e-278635231abc",
   "metadata": {},
   "outputs": [
    {
     "ename": "TypeError",
     "evalue": "'set' object is not subscriptable",
     "output_type": "error",
     "traceback": [
      "\u001b[1;31m---------------------------------------------------------------------------\u001b[0m",
      "\u001b[1;31mTypeError\u001b[0m                                 Traceback (most recent call last)",
      "Cell \u001b[1;32mIn[18], line 2\u001b[0m\n\u001b[0;32m      1\u001b[0m \u001b[38;5;66;03m# Accessing individual elements of set using index is not allowed\u001b[39;00m\n\u001b[1;32m----> 2\u001b[0m set1[\u001b[38;5;241m-\u001b[39m\u001b[38;5;241m1\u001b[39m]\n",
      "\u001b[1;31mTypeError\u001b[0m: 'set' object is not subscriptable"
     ]
    }
   ],
   "source": [
    "# Accessing individual elements of set using index is not allowed\n",
    "set1[-1]"
   ]
  },
  {
   "cell_type": "code",
   "execution_count": 3,
   "id": "e81569ca-49f8-408d-b4eb-550b5ef69746",
   "metadata": {},
   "outputs": [
    {
     "name": "stdout",
     "output_type": "stream",
     "text": [
      "2\n",
      "3.5\n",
      "4\n",
      "5\n",
      "8\n",
      "9\n",
      "tt\n",
      "(2, 5, 1)\n"
     ]
    }
   ],
   "source": [
    "# Only way to access individual elements is using for loop\n",
    "set1 = {8, 4, 3.5, 2, 5, 4, 'tt',9,(2,5,1),8}\n",
    "for i in set1:\n",
    "    print(i)"
   ]
  },
  {
   "cell_type": "code",
   "execution_count": 65,
   "id": "fc062030-edf1-4079-adc8-ad88e564f742",
   "metadata": {},
   "outputs": [
    {
     "ename": "TypeError",
     "evalue": "'set' object does not support item assignment",
     "output_type": "error",
     "traceback": [
      "\u001b[1;31m---------------------------------------------------------------------------\u001b[0m",
      "\u001b[1;31mTypeError\u001b[0m                                 Traceback (most recent call last)",
      "Cell \u001b[1;32mIn[65], line 4\u001b[0m\n\u001b[0;32m      1\u001b[0m \u001b[38;5;66;03m# Cannot update values using indexing as indexing is not allowed.\u001b[39;00m\n\u001b[0;32m      2\u001b[0m \u001b[38;5;66;03m# We have to use functions to update values in set\u001b[39;00m\n\u001b[1;32m----> 4\u001b[0m set1[\u001b[38;5;241m-\u001b[39m\u001b[38;5;241m1\u001b[39m]\u001b[38;5;241m=\u001b[39m\u001b[38;5;124m'\u001b[39m\u001b[38;5;124mkk\u001b[39m\u001b[38;5;124m'\u001b[39m\n",
      "\u001b[1;31mTypeError\u001b[0m: 'set' object does not support item assignment"
     ]
    }
   ],
   "source": [
    "# Cannot update values using indexing as indexing is not allowed.\n",
    "# We have to use functions to update values in set.\n",
    "\n",
    "set1[-1]='kk'"
   ]
  },
  {
   "cell_type": "markdown",
   "id": "2e0ac7bc-c94f-41ae-917a-3ca920f82c94",
   "metadata": {},
   "source": [
    "### Set functions\n",
    "- The below functions <b>cannot </b> be used on set\n",
    "- count(as set cannot have duplicate values), index(as set values cannot be indexed), sort(set is sorted by default), reverse(set is always sorted), append, extend, insert(we have add functions for sets like add, update)\n",
    "-\n",
    "- <b>Below functions are used on set.</b>\n",
    "- \n",
    "- add() - We can add only one element at once. Once executed, set is sorted in ascending order.\n",
    "- Syntax - set_variable_name.add(value)\n",
    "- .\n",
    "- update() - We can add more than one element using update function. We have to give multiple values in either [] or {}\n",
    "- Syntax1 - set_variable_name.update([value1,value2,...]) <b>or</b> set_variable_name.update({value1,value2,...})\n",
    "- Syntax2 - set_variable_name1.update(set_variable_name2)\n",
    "- .\n",
    "- remove() - Only one element can be deleted at once, throws error if element is not present in the set\n",
    "- Syntax - set_variable_name.remove(value)\n",
    "- .\n",
    "- discard() - Only one element can be deleted at once, doesn't throw error if element is not present in the set.\n",
    "- Syntax - set_variable_name.discard(value)\n",
    "- \n",
    "- clear() - To clear (delete all the elements) of the set at one go. Does not accept any argument/value/index.\n",
    "- Syntax - set_variable_name.clear()\n",
    "- .\n",
    "- del() - To delete the set variable. Once deleted, the set variable cannot be accessed again.\n",
    "- Syntax - del set_variable_name\n",
    "- .\n",
    "- pop() - removes an item from the first position in the set. Doesn't take any arguments.\n",
    "- Syntax - set_variable_name.pop()\n",
    "- \n",
    "- len() - To count the total number of values in the set.\n",
    "- Syntax - len(set_variable_name)\n",
    "- \n",
    "- all() - returns True if all the elements of the set are ture (non zero)\n",
    "- Syntax - all(set_variable_name)\n",
    "- .\n",
    "- any() - returns True if any of the elements in the set are true (non zero)\n",
    "- Syntax - any(set_variable_name)\n",
    "- .\n",
    "- Membership >>> IN and NOT IN\n",
    "- Syntax - value in set_variable_name\n",
    "- .\n",
    "- union() - Combines all the elements from two or more sets into a new set & eleminates duplicate values.\n",
    "- Syntax1 - set_variable_name1.union(set_variable_name2, set_variable_name3, ...)\n",
    "- Syntax2 - set_variable_name1 | set_variable_name2 | set_variable_name3 | ...\n",
    "- It can be performed using either the union() method or the | operator. \n",
    "- can take any number of arguments\n",
    "- .\n",
    "- intersection() - Returns only those elements that exists in both the sets & eleminates duplicate values.\n",
    "- Syntax1 - set.intersection(set1, set2, ... etc.)\n",
    "- Syntax2 - set1 & set2 & set3\n",
    "- It can be performed using either the intersection() method or the & operator.\n",
    "- Can take any number of arguments- difference\n",
    "- .\n",
    "- difference() - Returns elements that only exists in first set and not in second set. Eleminates duplicate values.\n",
    "- Syntax1 - set1.difference(set1, set2, ... etc.)\n",
    "- Syntax2 - set1 - set2 - set3\n",
    "- It can be performed using either the difference() method or the - operator.\n",
    "- Can take any number of arguments\n",
    "- In case of multiple arguments, starts from L to R, calculates one by one\n",
    "- Example: set1 - set2 - set3 >>> first set1 - set2 then its result with - set3 "
   ]
  },
  {
   "cell_type": "code",
   "execution_count": 291,
   "id": "8dcc7b0f-5642-4f97-a7da-0fdd1a47a14f",
   "metadata": {},
   "outputs": [
    {
     "ename": "AttributeError",
     "evalue": "'set' object has no attribute 'count'",
     "output_type": "error",
     "traceback": [
      "\u001b[1;31m---------------------------------------------------------------------------\u001b[0m",
      "\u001b[1;31mAttributeError\u001b[0m                            Traceback (most recent call last)",
      "Cell \u001b[1;32mIn[291], line 5\u001b[0m\n\u001b[0;32m      1\u001b[0m \u001b[38;5;66;03m# count, index, sort, reverse, append, extend, insert are not available on sort\u001b[39;00m\n\u001b[0;32m      2\u001b[0m \u001b[38;5;66;03m# count throws error\u001b[39;00m\n\u001b[0;32m      4\u001b[0m s4 \u001b[38;5;241m=\u001b[39m {\u001b[38;5;241m5\u001b[39m,\u001b[38;5;241m9\u001b[39m,\u001b[38;5;241m2\u001b[39m,\u001b[38;5;241m1\u001b[39m,\u001b[38;5;124m'\u001b[39m\u001b[38;5;124mData\u001b[39m\u001b[38;5;124m'\u001b[39m,\u001b[38;5;124m'\u001b[39m\u001b[38;5;124mHTML\u001b[39m\u001b[38;5;124m'\u001b[39m}\n\u001b[1;32m----> 5\u001b[0m s4\u001b[38;5;241m.\u001b[39mcount()\n",
      "\u001b[1;31mAttributeError\u001b[0m: 'set' object has no attribute 'count'"
     ]
    }
   ],
   "source": [
    "# count, index, sort, reverse, append, extend, insert are not available on sort\n",
    "# count throws error\n",
    "\n",
    "s4 = {5,9,2,1,'Data','HTML'}\n",
    "s4.count()"
   ]
  },
  {
   "cell_type": "code",
   "execution_count": 70,
   "id": "35966688-18d0-4907-a93a-f8aea17a5c4c",
   "metadata": {},
   "outputs": [
    {
     "data": {
      "text/plain": [
       "{1, 2, 5, 9, 'Data', 'HTML'}"
      ]
     },
     "execution_count": 70,
     "metadata": {},
     "output_type": "execute_result"
    }
   ],
   "source": [
    "s4 = {5,9,2,1,'Data','HTML'}\n",
    "s4"
   ]
  },
  {
   "cell_type": "code",
   "execution_count": 74,
   "id": "8fe70483-8e59-4e26-9155-cd9905e58670",
   "metadata": {},
   "outputs": [
    {
     "name": "stdout",
     "output_type": "stream",
     "text": [
      "{1, 2, 3, 9}\n",
      "[9, 3, 2, 1]\n",
      "{1, 2, 3, 9}\n"
     ]
    }
   ],
   "source": [
    "s1={3,1,9,2}\n",
    "print(s1)\n",
    "\n",
    "# Once we use sorted on set, it becomes a list.\n",
    "print(sorted(s1,reverse = True))\n",
    "\n",
    "# Original set remains the same.\n",
    "print(s1)"
   ]
  },
  {
   "cell_type": "code",
   "execution_count": 36,
   "id": "0351e815-2fe1-4765-b420-c36c189696b1",
   "metadata": {},
   "outputs": [],
   "source": [
    "# add function\n",
    "\n",
    "s4 = {5,9,2,1,'Data','HTML'}\n",
    "s4\n",
    "\n",
    "# data 'css' will be added and also sorted in background.\n",
    "s4.add('CSS')"
   ]
  },
  {
   "cell_type": "code",
   "execution_count": 38,
   "id": "acdda830-f35d-4a48-b390-1473e54c9756",
   "metadata": {},
   "outputs": [
    {
     "data": {
      "text/plain": [
       "{1, 2, 5, 9, 'CSS', 'Data', 'HTML'}"
      ]
     },
     "execution_count": 38,
     "metadata": {},
     "output_type": "execute_result"
    }
   ],
   "source": [
    "s4"
   ]
  },
  {
   "cell_type": "code",
   "execution_count": 40,
   "id": "871d3988-5f66-4b27-b82a-a27af04beda4",
   "metadata": {},
   "outputs": [
    {
     "data": {
      "text/plain": [
       "{1, 2, 5, 9, 'CSS', 'Data', 'HTML'}"
      ]
     },
     "execution_count": 40,
     "metadata": {},
     "output_type": "execute_result"
    }
   ],
   "source": [
    "# add value 5\n",
    "\n",
    "s4.add(5)\n",
    "s4"
   ]
  },
  {
   "cell_type": "code",
   "execution_count": 77,
   "id": "8d3f85d7-1399-4dc8-8ea4-ffba78e1be02",
   "metadata": {},
   "outputs": [
    {
     "data": {
      "text/plain": [
       "{1, 2, 5, 9, 'Data', 'HTML'}"
      ]
     },
     "execution_count": 77,
     "metadata": {},
     "output_type": "execute_result"
    }
   ],
   "source": [
    "# add another value 5, but doesn't throw error as set removes duplicates and sorts in background.\n",
    "\n",
    "s4.add(5)\n",
    "s4"
   ]
  },
  {
   "cell_type": "code",
   "execution_count": 79,
   "id": "9c87e126-bb0a-4d76-974e-7bd26e4c44b8",
   "metadata": {},
   "outputs": [
    {
     "data": {
      "text/plain": [
       "{1, 2, 5, 9, 999, 'Data', 'HTML'}"
      ]
     },
     "execution_count": 79,
     "metadata": {},
     "output_type": "execute_result"
    }
   ],
   "source": [
    "s4.add(999)\n",
    "s4"
   ]
  },
  {
   "cell_type": "code",
   "execution_count": 83,
   "id": "e307d3d6-23ed-434d-9c32-9f94e43deb28",
   "metadata": {},
   "outputs": [
    {
     "ename": "TypeError",
     "evalue": "unhashable type: 'set'",
     "output_type": "error",
     "traceback": [
      "\u001b[1;31m---------------------------------------------------------------------------\u001b[0m",
      "\u001b[1;31mTypeError\u001b[0m                                 Traceback (most recent call last)",
      "Cell \u001b[1;32mIn[83], line 3\u001b[0m\n\u001b[0;32m      1\u001b[0m \u001b[38;5;66;03m# set cannot contain mutable objects, hence set cannot contain another set \u001b[39;00m\n\u001b[1;32m----> 3\u001b[0m s4\u001b[38;5;241m.\u001b[39madd({\u001b[38;5;241m3\u001b[39m,\u001b[38;5;241m2\u001b[39m})\n\u001b[0;32m      4\u001b[0m s4\n",
      "\u001b[1;31mTypeError\u001b[0m: unhashable type: 'set'"
     ]
    }
   ],
   "source": [
    "# set cannot contain mutable objects, hence set cannot contain another set \n",
    "\n",
    "s4.add({3,2})\n",
    "s4"
   ]
  },
  {
   "cell_type": "code",
   "execution_count": 85,
   "id": "de3e13c8-a3ff-4739-80e6-3b4f8d183326",
   "metadata": {},
   "outputs": [
    {
     "ename": "TypeError",
     "evalue": "set.add() takes exactly one argument (2 given)",
     "output_type": "error",
     "traceback": [
      "\u001b[1;31m---------------------------------------------------------------------------\u001b[0m",
      "\u001b[1;31mTypeError\u001b[0m                                 Traceback (most recent call last)",
      "Cell \u001b[1;32mIn[85], line 3\u001b[0m\n\u001b[0;32m      1\u001b[0m \u001b[38;5;66;03m# We cannot add more than 1 value at once to a set using add function\u001b[39;00m\n\u001b[1;32m----> 3\u001b[0m s4\u001b[38;5;241m.\u001b[39madd(\u001b[38;5;241m3\u001b[39m,\u001b[38;5;241m1\u001b[39m)\n",
      "\u001b[1;31mTypeError\u001b[0m: set.add() takes exactly one argument (2 given)"
     ]
    }
   ],
   "source": [
    "# We cannot add more than 1 value at once to a set using add function\n",
    "\n",
    "s4.add(3,1)"
   ]
  },
  {
   "cell_type": "code",
   "execution_count": 87,
   "id": "b9d109ea-c893-4b47-a012-1954117a013a",
   "metadata": {},
   "outputs": [
    {
     "ename": "TypeError",
     "evalue": "'int' object is not iterable",
     "output_type": "error",
     "traceback": [
      "\u001b[1;31m---------------------------------------------------------------------------\u001b[0m",
      "\u001b[1;31mTypeError\u001b[0m                                 Traceback (most recent call last)",
      "Cell \u001b[1;32mIn[87], line 3\u001b[0m\n\u001b[0;32m      1\u001b[0m \u001b[38;5;66;03m# update - to add multiple values\u001b[39;00m\n\u001b[1;32m----> 3\u001b[0m s4\u001b[38;5;241m.\u001b[39mupdate(\u001b[38;5;241m9999\u001b[39m,\u001b[38;5;241m33\u001b[39m,\u001b[38;5;241m11\u001b[39m)\n",
      "\u001b[1;31mTypeError\u001b[0m: 'int' object is not iterable"
     ]
    }
   ],
   "source": [
    "# update - to add multiple values\n",
    "\n",
    "s4.update(9999,33,11)\n",
    "# Throws error as we have to give values inside [] or {}"
   ]
  },
  {
   "cell_type": "code",
   "execution_count": 89,
   "id": "11190a75-0f1e-4266-9a4c-9959c139033c",
   "metadata": {},
   "outputs": [],
   "source": [
    "# When we want to update multiple values, give them within [] or {}\n",
    "s4.update([9999,33,11])"
   ]
  },
  {
   "cell_type": "code",
   "execution_count": 91,
   "id": "1165e1fa-7219-4011-9994-e480465c2894",
   "metadata": {},
   "outputs": [],
   "source": [
    "s4.update({123,345,11})"
   ]
  },
  {
   "cell_type": "code",
   "execution_count": 93,
   "id": "cfab55cc-e60a-4b42-b831-926a9b63cbce",
   "metadata": {},
   "outputs": [
    {
     "data": {
      "text/plain": [
       "{1, 11, 123, 2, 33, 345, 5, 9, 999, 9999, 'Data', 'HTML'}"
      ]
     },
     "execution_count": 93,
     "metadata": {},
     "output_type": "execute_result"
    }
   ],
   "source": [
    "s4"
   ]
  },
  {
   "cell_type": "code",
   "execution_count": 97,
   "id": "105904d3-b753-4647-822e-29043fa33008",
   "metadata": {},
   "outputs": [
    {
     "data": {
      "text/plain": [
       "{-1, 1, 2, 3, 99}"
      ]
     },
     "execution_count": 97,
     "metadata": {},
     "output_type": "execute_result"
    }
   ],
   "source": [
    "# update using variable names\n",
    "\n",
    "s1 = {3,2,-1}\n",
    "s2 = {99,1}\n",
    "s1.update(s2)\n",
    "s1"
   ]
  },
  {
   "cell_type": "code",
   "execution_count": 119,
   "id": "b51eef1a-1b53-4fbf-b3a3-d910af2f8d94",
   "metadata": {},
   "outputs": [
    {
     "name": "stdout",
     "output_type": "stream",
     "text": [
      "None\n"
     ]
    }
   ],
   "source": [
    "# update using variable names\n",
    "\n",
    "s9 = {3,2,-1}.update({5,2})\n",
    "print(s9)"
   ]
  },
  {
   "cell_type": "code",
   "execution_count": 143,
   "id": "727ffe27-3bed-4dca-8595-d852d0e4ec54",
   "metadata": {},
   "outputs": [
    {
     "data": {
      "text/plain": [
       "{1, 11, 111, 112, 2, 33, 333, 5, 9, 99, 999, 9999, 'CSS', 'Data', 'HTML'}"
      ]
     },
     "execution_count": 143,
     "metadata": {},
     "output_type": "execute_result"
    }
   ],
   "source": [
    "s4 = {1, 11, 111, 112, 2, 33, 333, 5, 9, 99, 999, 9999, 'CSS', 'Data', 'HTML'}\n",
    "s4"
   ]
  },
  {
   "cell_type": "code",
   "execution_count": 145,
   "id": "d22a0933-f1f5-4dfc-a36b-af3bfc76282c",
   "metadata": {},
   "outputs": [
    {
     "name": "stdout",
     "output_type": "stream",
     "text": [
      "{1, 2, 99, 33, 5, 999, 9, 11, 333, 111, 112, 9999, 'CSS', 'Data'}\n"
     ]
    }
   ],
   "source": [
    "# to remove one element at once, since HTML value is already present, it removes and doesn't throw error.\n",
    "\n",
    "s4.remove('HTML')\n",
    "print(s4)"
   ]
  },
  {
   "cell_type": "code",
   "execution_count": 147,
   "id": "0dce54ae-fcda-491e-b68e-77fe25c74177",
   "metadata": {},
   "outputs": [
    {
     "ename": "KeyError",
     "evalue": "4",
     "output_type": "error",
     "traceback": [
      "\u001b[1;31m---------------------------------------------------------------------------\u001b[0m",
      "\u001b[1;31mKeyError\u001b[0m                                  Traceback (most recent call last)",
      "Cell \u001b[1;32mIn[147], line 3\u001b[0m\n\u001b[0;32m      1\u001b[0m \u001b[38;5;66;03m# remove 4, since it is not present in the list, it throws error\u001b[39;00m\n\u001b[1;32m----> 3\u001b[0m s4\u001b[38;5;241m.\u001b[39mremove(\u001b[38;5;241m4\u001b[39m)\n",
      "\u001b[1;31mKeyError\u001b[0m: 4"
     ]
    }
   ],
   "source": [
    "# remove 4, since it is not present in the list, it throws error\n",
    "\n",
    "s4.remove(4)"
   ]
  },
  {
   "cell_type": "code",
   "execution_count": 149,
   "id": "70695a71-b7c2-49c3-a4bf-5dc9f46b82ef",
   "metadata": {},
   "outputs": [],
   "source": [
    "# since 4 is not present and to not throw error, use discard, instead of remove\n",
    "\n",
    "s4 = {1, 11, 111, 112, 2, 33, 333, 5, 9, 99, 999, 9999, 'CSS', 'Data', 'HTML'}\n",
    "s4.discard(4)"
   ]
  },
  {
   "cell_type": "code",
   "execution_count": 151,
   "id": "f564f358-a907-4966-99f3-50fa24c8f613",
   "metadata": {},
   "outputs": [
    {
     "data": {
      "text/plain": [
       "{1, 11, 111, 112, 2, 33, 333, 5, 9, 99, 999, 9999, 'CSS', 'Data', 'HTML'}"
      ]
     },
     "execution_count": 151,
     "metadata": {},
     "output_type": "execute_result"
    }
   ],
   "source": [
    "s4"
   ]
  },
  {
   "cell_type": "code",
   "execution_count": 157,
   "id": "1a47c179-3f3a-489f-8951-a3eb71a1b43d",
   "metadata": {},
   "outputs": [],
   "source": [
    "s4.discard('CSS')"
   ]
  },
  {
   "cell_type": "code",
   "execution_count": 159,
   "id": "f30a0d17-e897-4be6-9525-7c80a693f417",
   "metadata": {},
   "outputs": [
    {
     "data": {
      "text/plain": [
       "{1, 11, 111, 112, 2, 33, 333, 5, 9, 99, 999, 9999, 'Data', 'HTML'}"
      ]
     },
     "execution_count": 159,
     "metadata": {},
     "output_type": "execute_result"
    }
   ],
   "source": [
    "s4"
   ]
  },
  {
   "cell_type": "code",
   "execution_count": 161,
   "id": "9abd14c3-4fb1-4122-9db5-2c423ab6f7f0",
   "metadata": {},
   "outputs": [
    {
     "ename": "TypeError",
     "evalue": "set.discard() takes exactly one argument (2 given)",
     "output_type": "error",
     "traceback": [
      "\u001b[1;31m---------------------------------------------------------------------------\u001b[0m",
      "\u001b[1;31mTypeError\u001b[0m                                 Traceback (most recent call last)",
      "Cell \u001b[1;32mIn[161], line 1\u001b[0m\n\u001b[1;32m----> 1\u001b[0m s4\u001b[38;5;241m.\u001b[39mdiscard(\u001b[38;5;241m1\u001b[39m,\u001b[38;5;241m11\u001b[39m)\n",
      "\u001b[1;31mTypeError\u001b[0m: set.discard() takes exactly one argument (2 given)"
     ]
    }
   ],
   "source": [
    "s4.discard(1,11)"
   ]
  },
  {
   "cell_type": "code",
   "execution_count": 163,
   "id": "bd5a2bb3-222b-4a85-b586-0f05437cc369",
   "metadata": {},
   "outputs": [
    {
     "data": {
      "text/plain": [
       "{1, 11, 111, 112, 2, 33, 333, 5, 9, 99, 999, 9999, 'Data', 'HTML'}"
      ]
     },
     "execution_count": 163,
     "metadata": {},
     "output_type": "execute_result"
    }
   ],
   "source": [
    "s4"
   ]
  },
  {
   "cell_type": "code",
   "execution_count": 169,
   "id": "723c9cbf-4113-48c9-aabd-a5dbb2950c0f",
   "metadata": {},
   "outputs": [
    {
     "data": {
      "text/plain": [
       "set()"
      ]
     },
     "execution_count": 169,
     "metadata": {},
     "output_type": "execute_result"
    }
   ],
   "source": [
    "# To remove all the elements from the set.\n",
    "\n",
    "s4.clear()\n",
    "s4"
   ]
  },
  {
   "cell_type": "code",
   "execution_count": 171,
   "id": "30de3041-2066-4899-a941-af85014e4146",
   "metadata": {},
   "outputs": [],
   "source": [
    "# To delete set variable\n",
    "del s4"
   ]
  },
  {
   "cell_type": "code",
   "execution_count": 173,
   "id": "0cc07bcb-5c83-4944-bac4-9c7c09fc4fb9",
   "metadata": {},
   "outputs": [
    {
     "ename": "NameError",
     "evalue": "name 's4' is not defined",
     "output_type": "error",
     "traceback": [
      "\u001b[1;31m---------------------------------------------------------------------------\u001b[0m",
      "\u001b[1;31mNameError\u001b[0m                                 Traceback (most recent call last)",
      "Cell \u001b[1;32mIn[173], line 1\u001b[0m\n\u001b[1;32m----> 1\u001b[0m s4\n",
      "\u001b[1;31mNameError\u001b[0m: name 's4' is not defined"
     ]
    }
   ],
   "source": [
    "s4"
   ]
  },
  {
   "cell_type": "code",
   "execution_count": 189,
   "id": "5927c4ca-a5fe-4a45-a899-ab70cb6462b5",
   "metadata": {},
   "outputs": [
    {
     "name": "stdout",
     "output_type": "stream",
     "text": [
      "{1, 2, 99, 33, 5, 'HTML', 999, 9, 11, 333, 111, 112, 9999, 'CSS', 'Data'}\n",
      "{2, 99, 33, 5, 'HTML', 999, 9, 11, 333, 111, 112, 9999, 'CSS', 'Data'}\n",
      "{99, 33, 5, 'HTML', 999, 9, 11, 333, 111, 112, 9999, 'CSS', 'Data'}\n"
     ]
    }
   ],
   "source": [
    "# To remove an element from the first position - use pop\n",
    "\n",
    "s1 = {1, 11, 111, 112, 2, 33, 333, 5, 9, 99, 999, 9999, 'CSS', 'Data', 'HTML'}\n",
    "print(s1)\n",
    "s1.pop()\n",
    "print(s1)\n",
    "s1.pop()\n",
    "print(s1)"
   ]
  },
  {
   "cell_type": "code",
   "execution_count": 187,
   "id": "cedb4008-8ad8-4bb3-86d2-4c9905809d87",
   "metadata": {},
   "outputs": [
    {
     "ename": "TypeError",
     "evalue": "set.pop() takes no arguments (1 given)",
     "output_type": "error",
     "traceback": [
      "\u001b[1;31m---------------------------------------------------------------------------\u001b[0m",
      "\u001b[1;31mTypeError\u001b[0m                                 Traceback (most recent call last)",
      "Cell \u001b[1;32mIn[187], line 1\u001b[0m\n\u001b[1;32m----> 1\u001b[0m s1\u001b[38;5;241m.\u001b[39mpop(\u001b[38;5;241m5\u001b[39m)\n",
      "\u001b[1;31mTypeError\u001b[0m: set.pop() takes no arguments (1 given)"
     ]
    }
   ],
   "source": [
    "s1.pop(5)"
   ]
  },
  {
   "cell_type": "code",
   "execution_count": 195,
   "id": "f73fce4c-3533-490c-80c8-44647737ce9d",
   "metadata": {},
   "outputs": [
    {
     "data": {
      "text/plain": [
       "4"
      ]
     },
     "execution_count": 195,
     "metadata": {},
     "output_type": "execute_result"
    }
   ],
   "source": [
    "# To count the total number of elements in the set\n",
    "s1 = {1, 'CSS', 'Data', 'HTML'}\n",
    "len(s1)"
   ]
  },
  {
   "cell_type": "code",
   "execution_count": 197,
   "id": "127b8bbc-276b-4c74-9f90-fea39050f0ca",
   "metadata": {},
   "outputs": [
    {
     "name": "stdout",
     "output_type": "stream",
     "text": [
      "{1, 'HTML', 8, 'Data', 'CSS'}\n",
      "5\n"
     ]
    }
   ],
   "source": [
    "s1.add(8)\n",
    "print(s1)\n",
    "print(len(s1))"
   ]
  },
  {
   "cell_type": "code",
   "execution_count": 213,
   "id": "b234b9c3-2243-417b-93ad-2acbb30b73a8",
   "metadata": {},
   "outputs": [
    {
     "name": "stdout",
     "output_type": "stream",
     "text": [
      "False\n",
      "True\n"
     ]
    }
   ],
   "source": [
    "# all any functions\n",
    "\n",
    "s1 = {1, 'CSS', 'Data', 'HTML',False}\n",
    "print(all(s1))\n",
    "print(any(s1))"
   ]
  },
  {
   "cell_type": "code",
   "execution_count": 215,
   "id": "666d3251-5ae3-46d5-9034-44ce1339f2d8",
   "metadata": {},
   "outputs": [
    {
     "data": {
      "text/plain": [
       "True"
      ]
     },
     "execution_count": 215,
     "metadata": {},
     "output_type": "execute_result"
    }
   ],
   "source": [
    "# in and not in\n",
    "s1 = {1, 'CSS', 'Data', 'HTML',False}\n",
    "0 in s1"
   ]
  },
  {
   "cell_type": "code",
   "execution_count": 217,
   "id": "c26da983-603a-4ac4-8e67-9cadaf18e1be",
   "metadata": {},
   "outputs": [
    {
     "data": {
      "text/plain": [
       "True"
      ]
     },
     "execution_count": 217,
     "metadata": {},
     "output_type": "execute_result"
    }
   ],
   "source": [
    "# in and not in\n",
    "s1 = {1, 'CSS', 'Data', 'HTML',False}\n",
    "True in s1"
   ]
  },
  {
   "cell_type": "code",
   "execution_count": 219,
   "id": "50d5f25e-c874-4a11-b935-a1b4498cc249",
   "metadata": {},
   "outputs": [
    {
     "data": {
      "text/plain": [
       "True"
      ]
     },
     "execution_count": 219,
     "metadata": {},
     "output_type": "execute_result"
    }
   ],
   "source": [
    "# in and not in\n",
    "s1 = {1, 'CSS', 'Data', 'HTML',False}\n",
    "'CSS' in s1"
   ]
  },
  {
   "cell_type": "code",
   "execution_count": 223,
   "id": "ad358647-f0b7-461b-8166-cb94b6a90cdb",
   "metadata": {},
   "outputs": [
    {
     "data": {
      "text/plain": [
       "False"
      ]
     },
     "execution_count": 223,
     "metadata": {},
     "output_type": "execute_result"
    }
   ],
   "source": [
    "# in and not in\n",
    "s1 = {1, 'CSS', 'Data', 'HTML',False}\n",
    "'css' in s1"
   ]
  },
  {
   "cell_type": "code",
   "execution_count": 225,
   "id": "b4556a1e-1a90-4557-a299-23a8cfb10b4f",
   "metadata": {},
   "outputs": [
    {
     "data": {
      "text/plain": [
       "True"
      ]
     },
     "execution_count": 225,
     "metadata": {},
     "output_type": "execute_result"
    }
   ],
   "source": [
    "# in and not in\n",
    "s1 = {1, 'CSS', 'Data', 'HTML',False}\n",
    "'css' not in s1"
   ]
  },
  {
   "cell_type": "markdown",
   "id": "d4cf9953-d5b2-483b-bc3b-2df45af598cc",
   "metadata": {},
   "source": [
    "### set-union"
   ]
  },
  {
   "cell_type": "code",
   "execution_count": 275,
   "id": "e24677b5-b0fc-4336-92ec-28d22e6430c2",
   "metadata": {},
   "outputs": [
    {
     "name": "stdout",
     "output_type": "stream",
     "text": [
      "{1, 4, 5, 7, 9}\n",
      "{8, 1, 4, 5}\n",
      "{25, 1, 23}\n"
     ]
    }
   ],
   "source": [
    "# union\n",
    "\n",
    "a = {9,4,1,7,5}\n",
    "b = {4,8,1,5}\n",
    "c = {25,23,1}\n",
    "print(a)\n",
    "print(b)\n",
    "print(c)"
   ]
  },
  {
   "cell_type": "code",
   "execution_count": 265,
   "id": "38b00843-123d-4313-9d45-2092ecea0f69",
   "metadata": {},
   "outputs": [
    {
     "name": "stdout",
     "output_type": "stream",
     "text": [
      "Before union\n",
      "a  {1, 4, 5, 7, 9}\n",
      "b  {8, 1, 4, 5}\n",
      "c  {25, 1, 23}\n",
      "After union\n",
      "a  {1, 4, 5, 7, 9}\n",
      "b  {8, 1, 4, 5}\n",
      "c  {25, 1, 23}\n",
      "d  {1, 4, 5, 7, 8, 9}\n"
     ]
    }
   ],
   "source": [
    "### set-union\n",
    "\n",
    "# Before union\n",
    "print('Before union')\n",
    "print('a ',a)\n",
    "print('b ',b)\n",
    "print('c ',c)\n",
    "\n",
    "# Combines all the values from a and b, removes duplicates.\n",
    "d = a.union(b)\n",
    "print('After union')\n",
    "print('a ',a)\n",
    "print('b ',b)\n",
    "print('c ',c)\n",
    "print('d ',d)"
   ]
  },
  {
   "cell_type": "code",
   "execution_count": 269,
   "id": "ff2aff6c-28c8-4550-9cd0-e74f3f829b4e",
   "metadata": {},
   "outputs": [
    {
     "name": "stdout",
     "output_type": "stream",
     "text": [
      "Before union\n",
      "a  {1, 4, 5, 7, 9}\n",
      "b  {8, 1, 4, 5}\n",
      "c  {25, 1, 23}\n",
      "After union\n",
      "a  {1, 4, 5, 7, 9}\n",
      "b  {8, 1, 4, 5}\n",
      "c  {25, 1, 23}\n",
      "f  {1, 4, 5, 7, 8, 9, 23, 25}\n"
     ]
    }
   ],
   "source": [
    "### set-union\n",
    "\n",
    "### set-union\n",
    "\n",
    "# Before union\n",
    "print('Before union')\n",
    "print('a ',a)\n",
    "print('b ',b)\n",
    "print('c ',c)\n",
    "\n",
    "# Combines all the values from a, b & c, removes duplicates.\n",
    "# first does union on b and c then union on a\n",
    "f = a.union(b,c)\n",
    "print('After union')\n",
    "print('a ',a)\n",
    "print('b ',b)\n",
    "print('c ',c)\n",
    "print('f ',f)"
   ]
  },
  {
   "cell_type": "code",
   "execution_count": 286,
   "id": "12611401-6d38-4953-ab46-dec1ce42d6cf",
   "metadata": {},
   "outputs": [
    {
     "data": {
      "text/plain": [
       "{(2+3j), 1, 23, 25, 4, 5, 7, 8, 9, 'kk'}"
      ]
     },
     "execution_count": 286,
     "metadata": {},
     "output_type": "execute_result"
    }
   ],
   "source": [
    "# union using pipe operator\n",
    "\n",
    "a = {9,4,1,7,2+3j,5}\n",
    "b = {4,8,1,'kk',5}\n",
    "c = {25,23,1,2+3j}\n",
    "a | b | c"
   ]
  },
  {
   "cell_type": "code",
   "execution_count": 301,
   "id": "fe009b9b-2ec5-425b-ab53-8cfed6cd6229",
   "metadata": {},
   "outputs": [
    {
     "data": {
      "text/plain": [
       "{1, 4, 5}"
      ]
     },
     "execution_count": 301,
     "metadata": {},
     "output_type": "execute_result"
    }
   ],
   "source": [
    "# intersection\n",
    "\n",
    "a = {9,4,1,7,2+3j,5}\n",
    "b = {4,8,1,'kk',5}\n",
    "c = {25,23,1,2+3j}\n",
    "a.intersection(b)"
   ]
  },
  {
   "cell_type": "code",
   "execution_count": 305,
   "id": "0759b956-33bc-4890-9a02-8092ab63a5c0",
   "metadata": {},
   "outputs": [
    {
     "data": {
      "text/plain": [
       "{1}"
      ]
     },
     "execution_count": 305,
     "metadata": {},
     "output_type": "execute_result"
    }
   ],
   "source": [
    "# intersection of more than two sets\n",
    "\n",
    "a = {9,4,1,7,2+3j,5}\n",
    "b = {4,8,1,'kk',5}\n",
    "c = {25,23,1,2+3j}\n",
    "a.intersection(b,c)"
   ]
  },
  {
   "cell_type": "code",
   "execution_count": 309,
   "id": "35ad7e5d-1f94-4dec-9d97-b7924ea7245c",
   "metadata": {},
   "outputs": [
    {
     "data": {
      "text/plain": [
       "{1, 4, 5}"
      ]
     },
     "execution_count": 309,
     "metadata": {},
     "output_type": "execute_result"
    }
   ],
   "source": [
    "# intersection using & operator\n",
    "\n",
    "a & b"
   ]
  },
  {
   "cell_type": "code",
   "execution_count": 313,
   "id": "5141a61a-96b1-42bb-aaa7-e5e2540a293d",
   "metadata": {},
   "outputs": [
    {
     "data": {
      "text/plain": [
       "{1}"
      ]
     },
     "execution_count": 313,
     "metadata": {},
     "output_type": "execute_result"
    }
   ],
   "source": [
    "# intersection using & operator\n",
    "\n",
    "a & b & c"
   ]
  },
  {
   "cell_type": "code",
   "execution_count": 337,
   "id": "4b91f7b2-5bb0-4768-83d7-43d71135cdd2",
   "metadata": {},
   "outputs": [
    {
     "name": "stdout",
     "output_type": "stream",
     "text": [
      "{9, (2+3j), 7}\n",
      "{8, 'kk'}\n"
     ]
    }
   ],
   "source": [
    "# difference\n",
    "\n",
    "a = {9,4,1,7,2+3j,5}\n",
    "b = {4,8,1,'kk',5}\n",
    "c = {25,23,1,2+3j}\n",
    "print(a.difference(b))\n",
    "print(b.difference(a))"
   ]
  },
  {
   "cell_type": "code",
   "execution_count": 325,
   "id": "9ba0d190-d3ed-475c-a101-6f7a3701042b",
   "metadata": {},
   "outputs": [
    {
     "name": "stdout",
     "output_type": "stream",
     "text": [
      "{9, (2+3j), 7}\n",
      "{8, 'kk'}\n"
     ]
    }
   ],
   "source": [
    "# difference using - operator\n",
    "\n",
    "a = {9,4,1,7,2+3j,5}\n",
    "b = {4,8,1,'kk',5}\n",
    "c = {25,23,1,2+3j}\n",
    "print(a - b)\n",
    "print(b - a)"
   ]
  },
  {
   "cell_type": "code",
   "execution_count": 345,
   "id": "b9ce0cd3-eece-4d98-aa6b-69685764b3db",
   "metadata": {},
   "outputs": [
    {
     "data": {
      "text/plain": [
       "{7, 9}"
      ]
     },
     "execution_count": 345,
     "metadata": {},
     "output_type": "execute_result"
    }
   ],
   "source": [
    "# difference using more than two sets\n",
    "\n",
    "a = {9,4,1,7,2+3j,5}\n",
    "b = {4,8,1,'kk',5}\n",
    "c = {25,23,1,2+3j}\n",
    "a.difference(b,c)\n",
    "# first difference of a and b >>> {9,7,2+3j}- c >>> {9,7,2+3j} - {25,23,1,2+3j} = 9,7"
   ]
  },
  {
   "cell_type": "code",
   "execution_count": 341,
   "id": "788a2900-4d57-461d-b7b0-a1ab2417c4cf",
   "metadata": {},
   "outputs": [
    {
     "data": {
      "text/plain": [
       "{7, 9}"
      ]
     },
     "execution_count": 341,
     "metadata": {},
     "output_type": "execute_result"
    }
   ],
   "source": [
    "# difference using more than two sets\n",
    "\n",
    "a = {9,4,1,7,2+3j,5}\n",
    "b = {4,8,1,'kk',5}\n",
    "c = {25,23,1,2+3j}\n",
    "a - b - c\n",
    "# first difference of a and b >>> {9,7,2+3j} - {25,23,1,2+3j} = 9,7"
   ]
  },
  {
   "cell_type": "code",
   "execution_count": 329,
   "id": "3e5b5c8f-5d77-4d73-9637-800386b8593c",
   "metadata": {},
   "outputs": [
    {
     "data": {
      "text/plain": [
       "{7, 9}"
      ]
     },
     "execution_count": 329,
     "metadata": {},
     "output_type": "execute_result"
    }
   ],
   "source": [
    "# difference using more than two sets\n",
    "\n",
    "a = {9,4,1,7,2+3j,5}\n",
    "b = {4,8,1,'kk',5}\n",
    "c = {25,23,1,2+3j}\n",
    "a.difference(c,b)\n",
    "# first difference of a and c >>> {9,4,7,5} - {4,8,1,'kk',5} = 9,7"
   ]
  },
  {
   "cell_type": "code",
   "execution_count": 335,
   "id": "dc092054-670c-499c-8f58-15e937310d84",
   "metadata": {},
   "outputs": [
    {
     "data": {
      "text/plain": [
       "{23, 25}"
      ]
     },
     "execution_count": 335,
     "metadata": {},
     "output_type": "execute_result"
    }
   ],
   "source": [
    "# difference using more than two sets\n",
    "\n",
    "a = {9,4,1,7,2+3j,5}\n",
    "b = {4,8,1,'kk',5}\n",
    "c = {25,23,1,2+3j}\n",
    "c.difference(b,a)\n",
    "# first difference of c and a >>> {25,23,2+3j} - {9,4,1,7,2+3j,5} = 25,23"
   ]
  },
  {
   "cell_type": "code",
   "execution_count": 348,
   "id": "9d3e34e6-752a-49b7-9979-bf7b76c9a8a1",
   "metadata": {},
   "outputs": [
    {
     "data": {
      "text/plain": [
       "{23, 25}"
      ]
     },
     "execution_count": 348,
     "metadata": {},
     "output_type": "execute_result"
    }
   ],
   "source": [
    "# difference using more than two sets\n",
    "\n",
    "a = {9,4,1,7,2+3j,5}\n",
    "b = {4,8,1,'kk',5}\n",
    "c = {25,23,1,2+3j,25}\n",
    "c - b - a\n",
    "# first difference of a and c >>> {25,23,2+3j} - {9,4,1,7,2+3j,5} = 25,23"
   ]
  }
 ],
 "metadata": {
  "kernelspec": {
   "display_name": "Python [conda env:base] *",
   "language": "python",
   "name": "conda-base-py"
  },
  "language_info": {
   "codemirror_mode": {
    "name": "ipython",
    "version": 3
   },
   "file_extension": ".py",
   "mimetype": "text/x-python",
   "name": "python",
   "nbconvert_exporter": "python",
   "pygments_lexer": "ipython3",
   "version": "3.12.7"
  }
 },
 "nbformat": 4,
 "nbformat_minor": 5
}
