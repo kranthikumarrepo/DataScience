{
 "cells": [
  {
   "cell_type": "markdown",
   "id": "bd2ae57d-6b4e-4ed4-8529-3885181d6ecf",
   "metadata": {},
   "source": [
    "#### Map Reduce and Filter\n",
    "- map >>> To perform the same action on all the items one by one. Sends only one value at a time to the given function, output is always equal to the number of input values. Type is map, convert to list.\n",
    "- reduce >>> Sends two values at a time to the given function & iterate the same until the last value. Output is only one value of the given input type.\n",
    "- filter >>> To perform the same kind of filter on all the items. Sends only one value at a time to the given function, no. output values are always <= no. of input values. Type is filter, convert to list."
   ]
  },
  {
   "cell_type": "markdown",
   "id": "f79e000b-1414-4580-a9fa-217ade4bc00e",
   "metadata": {},
   "source": [
    "#### map() Function\n",
    "- Sends(Maps) each value to the given function and returns each output from the function seperately.\n",
    "- No of input values passed is equal to the output values.\n",
    "- Output is a map object(iterator), convert to list to see/use the output.\n",
    "- Sends only one value at once to the given function.\n",
    "- Returns a map object(which is an iterator) of the results, after applying the given function to each item of a given iterable (list, tuple, etc.).\n",
    "- .\n",
    "- Syntax - map(fun, iter) >>> fun: It is a function to which map passes each element of given iterable. iter:  iterable object to be mapped.\n",
    "-          map(Function_Name,EachValuesToPass)\n",
    "-          Function_Name >>> Any function we want to call\n",
    "-          Each Value To Pass >>> A set of values, like lists, tuples, etc. We can pass even one value"
   ]
  },
  {
   "cell_type": "code",
   "execution_count": 185,
   "id": "86e1d389-9cc6-4cc6-bd50-0a71c213ab81",
   "metadata": {},
   "outputs": [
    {
     "name": "stdout",
     "output_type": "stream",
     "text": [
      "<class 'map'>\n",
      "<map object at 0x000001B6B3C2CA90>\n",
      "[10, 12, 14, 16]\n",
      "()\n",
      "set()\n"
     ]
    }
   ],
   "source": [
    "# Use Map() Function to double the values\n",
    "# Function to return double of n\n",
    "def double(n):\n",
    "    return n * 2\n",
    "\n",
    "# Using map to double all numbers\n",
    "# Here double function is called for each value we pass\n",
    "# Pass values directly while using map\n",
    "\n",
    "result = map(double, [5, 6, 7, 8])\n",
    "\n",
    "print(type(result))\n",
    "print(result)\n",
    "print(list(result))\n",
    "print(tuple(result))\n",
    "print(set(result))"
   ]
  },
  {
   "cell_type": "code",
   "execution_count": 116,
   "id": "1930ffbc-160b-4430-9248-984e560e8438",
   "metadata": {},
   "outputs": [
    {
     "name": "stdout",
     "output_type": "stream",
     "text": [
      "[10, 12, 14, 16]\n"
     ]
    }
   ],
   "source": [
    "# Use Map() Function to double the values\n",
    "\n",
    "# Function to return double of n\n",
    "def double(n):\n",
    "    return n * 2\n",
    "\n",
    "# Using map to double all numbers\n",
    "# Here double function is called for each value we pass\n",
    "# Pass values using varibale that has list\n",
    "\n",
    "numbers = [5,6,7,8]\n",
    "result = map(double,numbers)\n",
    "print(list(result))"
   ]
  },
  {
   "cell_type": "code",
   "execution_count": 118,
   "id": "13647aca-982e-4384-bb4d-e1cd49a3bfc0",
   "metadata": {},
   "outputs": [
    {
     "name": "stdin",
     "output_type": "stream",
     "text": [
      "Enter numbers to be doubled, seperate them by space 2 3 4\n"
     ]
    },
    {
     "name": "stdout",
     "output_type": "stream",
     "text": [
      "[4, 6, 8]\n"
     ]
    }
   ],
   "source": [
    "# Use Map() Function to double the values\n",
    "\n",
    "# Function to return double of n\n",
    "def double(n):\n",
    "    return int(n) * 2\n",
    "\n",
    "# Using map to double all numbers\n",
    "# Here double function is called for each value we pass\n",
    "# Accept a list of number while running and pass them to the double function\n",
    "\n",
    "result = map(double,input(\"Enter numbers to be doubled, seperate them by space\").split())\n",
    "print(list(result))"
   ]
  },
  {
   "cell_type": "code",
   "execution_count": 124,
   "id": "063b9680-a475-468c-b062-044e23d11202",
   "metadata": {},
   "outputs": [
    {
     "name": "stdout",
     "output_type": "stream",
     "text": [
      "[2, 4, 6, 8]\n"
     ]
    }
   ],
   "source": [
    "# Use Map() function to double the values, use addition instead of multiplication\n",
    "\n",
    "def double(n):\n",
    "    d = n + n\n",
    "    return d\n",
    "\n",
    "seq = (1,2,3,4)\n",
    "double_result = map(double,seq)\n",
    "\n",
    "print(list(double_result))"
   ]
  },
  {
   "cell_type": "code",
   "execution_count": 130,
   "id": "868d987a-b3ab-4da3-b359-f98044dce696",
   "metadata": {},
   "outputs": [
    {
     "name": "stdout",
     "output_type": "stream",
     "text": [
      "[2, 4, 6, 24]\n"
     ]
    }
   ],
   "source": [
    "# Use Map() function to double the values, use addition instead of multiplication\n",
    "# Use lambda instead of creating a double function seperately\n",
    "\n",
    "seq = (1,2,3,12)\n",
    "double_result = map(lambda n: n+n,seq)\n",
    "\n",
    "print(list(double_result))"
   ]
  },
  {
   "cell_type": "code",
   "execution_count": 132,
   "id": "3197580d-9069-45eb-9dd5-0a5c6f2d0cc1",
   "metadata": {},
   "outputs": [
    {
     "name": "stdout",
     "output_type": "stream",
     "text": [
      "[2, 12, 6]\n"
     ]
    }
   ],
   "source": [
    "# One more example with lambda\n",
    "\n",
    "numbers = [1,6,3]\n",
    "double_numbers = map(lambda n: n*2,numbers)\n",
    "print(list(double_numbers))"
   ]
  },
  {
   "cell_type": "markdown",
   "id": "f7a622e1-6f83-4b4c-8026-2ef3e6977117",
   "metadata": {},
   "source": [
    "#### reduce() Function\n",
    "- Reduce takes two elements at once and passes the given function, the result is then taken along with the next value in the input and then sends it to the function, and so on, until the last item in the input. Finally, the single output is returned as per the data type we gave to the function.\n",
    "- Reduce takes two elements at once and sends to the given function.\n",
    "- Final output is only one value of the given input type.\n",
    "- Syntax - functools.reduce(Function_Name, ValuesToPass) >>> Returns a single value of the input type\n",
    "-          Function_Name >>> Any function we want to call\n",
    "-          Each Value To Pass >>> A set of values, like lists, tuples, etc. We can pass even one value"
   ]
  },
  {
   "cell_type": "code",
   "execution_count": 240,
   "id": "ac476f4e-a2f1-4596-8b56-fee4cbf0bc60",
   "metadata": {},
   "outputs": [
    {
     "name": "stdout",
     "output_type": "stream",
     "text": [
      "<class 'float'>\n",
      "12.2\n"
     ]
    }
   ],
   "source": [
    "# Use reduce() function to add multiple values\n",
    "\n",
    "import functools\n",
    "def addition(x,y):\n",
    "    return x + y\n",
    "\n",
    "numbers = [1,2,6.2,3]\n",
    "result = functools.reduce(addition,numbers)\n",
    "# Background >>> 1 & 2 are sent to addition function, the result 3 is then sent along \n",
    "# with 6 to the addition function, the result 9 is again sent with 3 to the addition function, the result is 12, since no values are\n",
    "# left, the output is returned. Type is same as the input we passed.\n",
    "\n",
    "print(type(result))\n",
    "print(result)"
   ]
  },
  {
   "cell_type": "code",
   "execution_count": 242,
   "id": "1da15a73-92b1-4852-9cc8-92ae75b0dc18",
   "metadata": {},
   "outputs": [
    {
     "name": "stdout",
     "output_type": "stream",
     "text": [
      "<class 'str'>\n",
      "kk akk sachin ten\n"
     ]
    }
   ],
   "source": [
    "# Use reduce() function to concatenate multiple names\n",
    "import functools\n",
    "def concat_names(x,y):\n",
    "    return x + ' ' + y\n",
    "\n",
    "names = ['kk','akk','sachin','ten']\n",
    "result = functools.reduce(concat_names,names)\n",
    "# kk and akk are sent to concat_names function, output is kk akk\n",
    "# kk akk and sachin are sent to concat_names function, output is kk akk sachin\n",
    "# kk akk sachin and ten are sent to concat_names function, output is kk akk sachin ten\n",
    "# Since all input elements are passed, final output is kk akk sachin ten\n",
    "\n",
    "print(type(result))\n",
    "print(result)"
   ]
  },
  {
   "cell_type": "code",
   "execution_count": 108,
   "id": "7731d05b-7fdb-4f00-836e-56591107d777",
   "metadata": {},
   "outputs": [
    {
     "name": "stdout",
     "output_type": "stream",
     "text": [
      "24\n"
     ]
    }
   ],
   "source": [
    "# Use reduce() function to multiply many values\n",
    "\n",
    "def red_double(x,y):\n",
    "    return x * y\n",
    "\n",
    "numbers = [1,2,3,4]\n",
    "result = functools.reduce(red_double,numbers)\n",
    "print(result)"
   ]
  },
  {
   "cell_type": "code",
   "execution_count": 216,
   "id": "a91bf412-db85-4d40-8fa0-97a2e737c630",
   "metadata": {},
   "outputs": [
    {
     "name": "stdout",
     "output_type": "stream",
     "text": [
      "Product of list elements: 24\n"
     ]
    }
   ],
   "source": [
    "# Convert the above function to use lambda instead of seperate function.\n",
    "import functools\n",
    "\n",
    "# Define a list of numbers\n",
    "numbers = [1, 2, 3, 4]\n",
    "\n",
    "# Use reduce to compute the product of list elements\n",
    "product = functools.reduce(lambda x, y: x * y, numbers)\n",
    "\n",
    "print(\"Product of list elements:\", product)"
   ]
  },
  {
   "cell_type": "code",
   "execution_count": 355,
   "id": "c434c74b-933f-4b12-a141-9e6f244fa3e8",
   "metadata": {},
   "outputs": [
    {
     "name": "stdout",
     "output_type": "stream",
     "text": [
      "9\n",
      "9\n",
      "9\n",
      "9\n",
      "9\n",
      "12\n",
      "12\n",
      "12\n",
      "12\n",
      "12\n",
      "12\n",
      "Max number among  [1, 9, 2, 3, 4, 5, 12, 6, 7, 8, 9, 10]  is  12\n"
     ]
    }
   ],
   "source": [
    "# Find a maximum number from the given list\n",
    "import functools\n",
    "def find_max(x,y):\n",
    "    if x > y:\n",
    "        print(x)\n",
    "        return x\n",
    "    else:\n",
    "        print(y)\n",
    "        return y\n",
    "\n",
    "inp_numbers = [1, 9,2, 3, 4, 5,12, 6, 7, 8, 9, 10]\n",
    "max_number = functools.reduce(find_max,inp_numbers)\n",
    "print('Max number among ',inp_numbers,' is ',max_number)"
   ]
  },
  {
   "cell_type": "code",
   "execution_count": 357,
   "id": "c12518bc-61c6-4845-a60d-3428fc42b7c9",
   "metadata": {},
   "outputs": [
    {
     "name": "stdout",
     "output_type": "stream",
     "text": [
      "Max number among  [1, 9, 2, 3, 4, 5, 12, 6, 7, 8, 9, 10]  is  12\n"
     ]
    }
   ],
   "source": [
    "# Convert the above function using lambda\n",
    "\n",
    "inp_numbers = [1, 9,2, 3, 4, 5,12, 6, 7, 8, 9, 10]\n",
    "max_number = functools.reduce(lambda x,y: x if x>y else y ,inp_numbers)\n",
    "print('Max number among ',inp_numbers,' is ',max_number)"
   ]
  },
  {
   "cell_type": "markdown",
   "id": "c25fdfac-66af-47b7-b399-05b18e3f6257",
   "metadata": {},
   "source": [
    "#### Filter() Function\n",
    "- Sends each value from the given input to the function and returns/takes only those values that meet the given condition(condition meets True)\n",
    "- Only those items are considerd where we return True or 1 or any non zero. False = 0\n",
    "- No of output values is always <= no of input values.\n",
    "- Output is a filter object(iterator), convert to list to see/use the output.\n",
    "- Sends only one value at once to the given function.\n",
    "- Returns a filter object(which is an iterator) of the results, after applying the given function to each item of a given iterable (list, tuple, etc.).\n",
    "- .\n",
    "- Syntax - filter(fun, iter) >>> fun: It is a function to which filter passes each element of given iterable. iter:  iterable object to be mapped.\n",
    "-            filter(Function_Name,EachValuesToPass)\n",
    "-            Function_Name >>> Any function we want to call\n",
    "-            Each Value To Pass >>> A set of values, like lists, tuples, etc. We can pass even one value"
   ]
  },
  {
   "cell_type": "code",
   "execution_count": 229,
   "id": "4835e3bf-6a88-4d85-a25c-0208c3796ae5",
   "metadata": {},
   "outputs": [
    {
     "name": "stdout",
     "output_type": "stream",
     "text": [
      "True\n",
      "True\n"
     ]
    }
   ],
   "source": [
    "# Use filter() function to check a set of values if they are even or not\n",
    "\n",
    "def is_even(n):\n",
    "    print(n % 2 == 0)\n",
    "    return n % 2 == 0\n",
    "\n",
    "print(is_even(2))"
   ]
  },
  {
   "cell_type": "code",
   "execution_count": 231,
   "id": "10a64e62-6411-47cf-a05b-57400ed4e654",
   "metadata": {},
   "outputs": [
    {
     "name": "stdout",
     "output_type": "stream",
     "text": [
      "<class 'filter'>\n",
      "<filter object at 0x000001B6B3B97F10>\n",
      "False\n",
      "True\n",
      "False\n",
      "True\n",
      "False\n",
      "True\n",
      "False\n",
      "True\n",
      "False\n",
      "True\n",
      "[2, 4, 6, 8, 10]\n"
     ]
    }
   ],
   "source": [
    "# Use filter() function to check a set of values if they are even or not\n",
    "\n",
    "def is_even(n):\n",
    "    print(n % 2 == 0)\n",
    "    return n % 2 == 0\n",
    "\n",
    "inp_numbers = [1, 2, 3, 4, 5, 6, 7, 8, 9, 10]\n",
    "\n",
    "even_numbers_list = filter(is_even,inp_numbers)\n",
    "\n",
    "print(type(even_numbers_list))\n",
    "print(even_numbers_list)\n",
    "print(list(even_numbers_list))"
   ]
  },
  {
   "cell_type": "code",
   "execution_count": 319,
   "id": "cd4cb1f8-2005-485a-a2c2-1c74529d5c6b",
   "metadata": {},
   "outputs": [
    {
     "name": "stdout",
     "output_type": "stream",
     "text": [
      "<class 'filter'>\n",
      "<filter object at 0x000001B6B303E0E0>\n",
      "[2, 4, 6, 8, 10]\n"
     ]
    }
   ],
   "source": [
    "# Use filter() function to check a set of values if they are even or not\n",
    "# Instead of filter function, use lambda.\n",
    "\n",
    "inp_numbers = [1, 2, 3, 4, 5, 6, 7, 8, 9, 10]\n",
    "\n",
    "even_numbers_list = filter(lambda n: n%2==0,inp_numbers)\n",
    "\n",
    "print(type(even_numbers_list))\n",
    "print(even_numbers_list)\n",
    "print(list(even_numbers_list))"
   ]
  },
  {
   "cell_type": "code",
   "execution_count": 321,
   "id": "07930af5-95db-47b8-86b9-05d2a9d1f42b",
   "metadata": {},
   "outputs": [
    {
     "name": "stdout",
     "output_type": "stream",
     "text": [
      "<class 'filter'>\n",
      "<filter object at 0x000001B6B3CB0BE0>\n",
      "n   False\n",
      "h   False\n",
      "a   True\n",
      "e   True\n",
      "q   False\n",
      "i   True\n",
      "r   False\n",
      "u   True\n",
      "['a', 'e', 'i', 'u']\n"
     ]
    }
   ],
   "source": [
    "# Filter out only Vowels from the given input list\n",
    "\n",
    "def vow_filter_fun(in_alpha):\n",
    "    vowels_list = ['a','e','i','o','u']\n",
    "    if in_alpha in vowels_list:\n",
    "        print(in_alpha,' ',True)\n",
    "        return True\n",
    "    else:\n",
    "        print(in_alpha,' ',False)\n",
    "        return False\n",
    "\n",
    "alphabets = ['n','h','a','e','q','i','r','u']\n",
    "vowels = filter(vow_filter_fun,alphabets)\n",
    "\n",
    "print(type(vowels))\n",
    "print(vowels)\n",
    "print(list(vowels))"
   ]
  },
  {
   "cell_type": "code",
   "execution_count": 341,
   "id": "614b691a-a99b-436d-8a47-a23198df8f98",
   "metadata": {},
   "outputs": [
    {
     "name": "stdout",
     "output_type": "stream",
     "text": [
      "<class 'filter'>\n",
      "<filter object at 0x000001B6B3CB1060>\n",
      "['a', 'e', 'i', 'u']\n"
     ]
    }
   ],
   "source": [
    "# Filter out only Vowels from the given input list, use lambda isntead of a function\n",
    "\n",
    "alphabets = ['n','h','a','e','q','i','r','u']\n",
    "vowels_list = ['a','e','i','o','u']\n",
    "\n",
    "# Since if and else both are True, all the values are returned to output.\n",
    "# vowels = filter(lambda in_alpha : True if in_alpha in vowels_list else 0,alphabets)\n",
    "#vowels = filter(lambda in_alpha : 1 if in_alpha in vowels_list else 1,alphabets)\n",
    "vowels = filter(lambda in_alpha : 1 if in_alpha in vowels_list else 0,alphabets)\n",
    "\n",
    "# vowels = filter(lambda in_alpha : True if in_alpha in vowels_list else False,alphabets)\n",
    "\n",
    "even_numbers_list = filter(lambda n: n%2==0,inp_numbers)\n",
    "\n",
    "print(type(vowels))\n",
    "print(vowels)\n",
    "print(list(vowels))"
   ]
  },
  {
   "cell_type": "code",
   "execution_count": 362,
   "id": "be131375-c7b3-4873-8e4d-89f1013fa462",
   "metadata": {},
   "outputs": [
    {
     "name": "stdout",
     "output_type": "stream",
     "text": [
      "['kranthi', 'akuhi', 'Delhi', 'Sachin']\n"
     ]
    }
   ],
   "source": [
    "# Return only those strings that has 'hi' in it\n",
    "\n",
    "names = ['kranthi','kumar','akuhi','Delhi','Sachin','hello']\n",
    "hi_names = filter(lambda name: 'hi' in name,names)\n",
    "print(list(hi_names))"
   ]
  },
  {
   "cell_type": "code",
   "execution_count": 368,
   "id": "4826fe3a-3c30-47ea-9ff9-43f84c7df7fc",
   "metadata": {},
   "outputs": [
    {
     "name": "stdout",
     "output_type": "stream",
     "text": [
      "['kranthi', 'akuhi', 'Delhi', 'Sachin']\n"
     ]
    }
   ],
   "source": [
    "# Return only those strings that has 'hi' in it\n",
    "\n",
    "names = ['kranthi','kumar','akuhi','Delhi','Sachin','hello']\n",
    "hi_names = filter(lambda name: True if 'hi' in name else False,names)\n",
    "print(list(hi_names))"
   ]
  },
  {
   "cell_type": "code",
   "execution_count": 379,
   "id": "639c586c-3811-40a5-8b13-9821197159bb",
   "metadata": {},
   "outputs": [
    {
     "name": "stdout",
     "output_type": "stream",
     "text": [
      "['sameer', 'cheater']\n"
     ]
    }
   ],
   "source": [
    "# Return only those strings that end with er\n",
    "\n",
    "names = ['kranthi','kumar','sameer','akuhi','Delhi','Sachin','hello','cheater']\n",
    "hi_names = filter(lambda name: True if name.endswith('er') else False,names)\n",
    "print(list(hi_names))"
   ]
  },
  {
   "cell_type": "code",
   "execution_count": 381,
   "id": "96a97231-2e6a-4169-a5b2-4799f3d79edd",
   "metadata": {},
   "outputs": [
    {
     "ename": "SyntaxError",
     "evalue": "expected 'else' after 'if' expression (2584797097.py, line 4)",
     "output_type": "error",
     "traceback": [
      "\u001b[1;36m  Cell \u001b[1;32mIn[381], line 4\u001b[1;36m\u001b[0m\n\u001b[1;33m    hi_names = filter(lambda name: True if name.endswith('er'),names)\u001b[0m\n\u001b[1;37m                                   ^\u001b[0m\n\u001b[1;31mSyntaxError\u001b[0m\u001b[1;31m:\u001b[0m expected 'else' after 'if' expression\n"
     ]
    }
   ],
   "source": [
    "# Return only those strings that end with ar\n",
    "\n",
    "names = ['kranthi','kumar','sameer','akuhi','Delhi','Sachin','hello','cheater']\n",
    "hi_names = filter(lambda name: True if name.endswith('er'),names)\n",
    "print(list(hi_names))"
   ]
  },
  {
   "cell_type": "code",
   "execution_count": null,
   "id": "4fbc3840-c909-4540-9f76-4cd2b8c87c54",
   "metadata": {},
   "outputs": [],
   "source": []
  }
 ],
 "metadata": {
  "kernelspec": {
   "display_name": "Python [conda env:base] *",
   "language": "python",
   "name": "conda-base-py"
  },
  "language_info": {
   "codemirror_mode": {
    "name": "ipython",
    "version": 3
   },
   "file_extension": ".py",
   "mimetype": "text/x-python",
   "name": "python",
   "nbconvert_exporter": "python",
   "pygments_lexer": "ipython3",
   "version": "3.12.7"
  }
 },
 "nbformat": 4,
 "nbformat_minor": 5
}
