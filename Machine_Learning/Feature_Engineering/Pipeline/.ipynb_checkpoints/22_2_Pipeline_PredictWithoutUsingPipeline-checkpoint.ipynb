{
 "cells": [
  {
   "cell_type": "markdown",
   "id": "c546d607-d78f-4ee8-92d8-36cfcc290181",
   "metadata": {},
   "source": [
    "#### This is like a Production code - A webpage that accepts the input Pclass, SibSp, Parch, Fare, Age, Sex, Embarked & predicts outcome\n",
    "- We need to again write the same series of steps that we wrote during training i.e. to do encode, scale, etc. that we did during the development.\n",
    "- If we make some change in development, again we need to make the same change in production."
   ]
  },
  {
   "cell_type": "code",
   "execution_count": 2,
   "id": "4e8dd3c2-24b9-4c30-adc4-9af5a35909b5",
   "metadata": {},
   "outputs": [],
   "source": [
    "import pickle\n",
    "import numpy as np\n",
    "\n",
    "OneHotEncoder_SexObj = pickle.load(open('models/OneHotEncoder_SexObj.pk1','rb'))\n",
    "OneHotEncoder_EmbarkedObj = pickle.load(open('models/OneHotEncoder_EmbarkedObj.pk1','rb'))\n",
    "DecisionTreeClassifierObj = pickle.load(open('models/DecisionTreeClassifierObj.pk1','rb'))\n",
    "\n",
    "MinMaxScaler_Pclass_Obj = pickle.load(open('models/MinMaxScaler_Pclass_Obj.pk1','rb'))\n",
    "MinMaxScaler_Age_Obj = pickle.load(open('models/MinMaxScaler_Age_Obj.pk1','rb'))\n",
    "MinMaxScaler_SibSp_Obj = pickle.load(open('models/MinMaxScaler_SibSp_Obj.pk1','rb'))\n",
    "MinMaxScaler_Parch_Obj = pickle.load(open('models/MinMaxScaler_Parch_Obj.pk1','rb'))\n",
    "MinMaxScaler_Fare_Obj = pickle.load(open('models/MinMaxScaler_Fare_Obj.pk1','rb'))"
   ]
  },
  {
   "cell_type": "code",
   "execution_count": 3,
   "id": "2ff39613-3736-4af3-ab02-e622f808adf6",
   "metadata": {},
   "outputs": [
    {
     "data": {
      "text/plain": [
       "array([[2, 0, 0, 10.5, 31.0, 'male', 'S']], dtype=object)"
      ]
     },
     "execution_count": 3,
     "metadata": {},
     "output_type": "execute_result"
    }
   ],
   "source": [
    "# Assume user input Pclass, SibSp, Parch, Fare, Age, Sex, Embarked\n",
    "\n",
    "test_input = np.array([2,0,0,10.5,31.0,'male','S'],dtype=object).reshape(1,7)\n",
    "test_input"
   ]
  },
  {
   "cell_type": "markdown",
   "id": "158d2ee1-add0-4e78-a712-d4d978c4f562",
   "metadata": {},
   "source": [
    "#### Perform the preprocessng steps"
   ]
  },
  {
   "cell_type": "code",
   "execution_count": 7,
   "id": "d7cd3f92-c6b6-414c-9035-84f4737c960b",
   "metadata": {},
   "outputs": [
    {
     "name": "stderr",
     "output_type": "stream",
     "text": [
      "C:\\Users\\ACER\\anaconda3\\Lib\\site-packages\\sklearn\\base.py:493: UserWarning: X does not have valid feature names, but MinMaxScaler was fitted with feature names\n",
      "  warnings.warn(\n",
      "C:\\Users\\ACER\\anaconda3\\Lib\\site-packages\\sklearn\\base.py:493: UserWarning: X does not have valid feature names, but MinMaxScaler was fitted with feature names\n",
      "  warnings.warn(\n",
      "C:\\Users\\ACER\\anaconda3\\Lib\\site-packages\\sklearn\\base.py:493: UserWarning: X does not have valid feature names, but MinMaxScaler was fitted with feature names\n",
      "  warnings.warn(\n",
      "C:\\Users\\ACER\\anaconda3\\Lib\\site-packages\\sklearn\\base.py:493: UserWarning: X does not have valid feature names, but MinMaxScaler was fitted with feature names\n",
      "  warnings.warn(\n",
      "C:\\Users\\ACER\\anaconda3\\Lib\\site-packages\\sklearn\\base.py:493: UserWarning: X does not have valid feature names, but OneHotEncoder was fitted with feature names\n",
      "  warnings.warn(\n"
     ]
    },
    {
     "data": {
      "text/plain": [
       "array([[0.5       , 0.        , 0.        , 0.02049464, 0.3842674 ,\n",
       "        0.        , 1.        , 0.        , 0.        , 1.        ]])"
      ]
     },
     "execution_count": 7,
     "metadata": {},
     "output_type": "execute_result"
    }
   ],
   "source": [
    "test_input_Pclass = MinMaxScaler_Pclass_Obj.transform(test_input[:,0].reshape(1,1))\n",
    "test_input_SibSp = MinMaxScaler_SibSp_Obj.transform(test_input[:,1].reshape(1,1))\n",
    "test_input_Parch = MinMaxScaler_Parch_Obj.transform(test_input[:,2].reshape(1,1))\n",
    "test_input_Fare = MinMaxScaler_Fare_Obj.transform(test_input[:,3].reshape(1,1))\n",
    "test_input_Age = MinMaxScaler_Age_Obj.transform(test_input[:,4].reshape(1,1))\n",
    "test_input_Sex = OneHotEncoder_SexObj.transform(test_input[:,5].reshape(1,1))\n",
    "test_input_Embarked = OneHotEncoder_EmbarkedObj.transform(test_input[:,6].reshape(1,1))\n",
    "\n",
    "test_input_transformed = np.concatenate((test_input_Pclass,test_input_SibSp,test_input_Parch,test_input_Fare,test_input_Age,test_input_Sex,\n",
    "                                        test_input_Embarked),axis=1)\n",
    "test_input_transformed"
   ]
  },
  {
   "cell_type": "code",
   "execution_count": 9,
   "id": "bc7269c7-692f-479a-8650-1fb1254d270b",
   "metadata": {},
   "outputs": [
    {
     "data": {
      "text/plain": [
       "array([1], dtype=int64)"
      ]
     },
     "execution_count": 9,
     "metadata": {},
     "output_type": "execute_result"
    }
   ],
   "source": [
    "# Predict the outcome\n",
    "\n",
    "DecisionTreeClassifierObj.predict(test_input_transformed)"
   ]
  },
  {
   "cell_type": "code",
   "execution_count": null,
   "id": "6cf68a8d-35a1-459e-a4da-1a14cd36c505",
   "metadata": {},
   "outputs": [],
   "source": []
  },
  {
   "cell_type": "code",
   "execution_count": null,
   "id": "db813ded-ef5e-43fa-aca6-928fdea0e154",
   "metadata": {},
   "outputs": [],
   "source": []
  },
  {
   "cell_type": "code",
   "execution_count": null,
   "id": "caba423e-46c0-4ef1-b01f-620808bb8752",
   "metadata": {},
   "outputs": [],
   "source": []
  }
 ],
 "metadata": {
  "kernelspec": {
   "display_name": "Python [conda env:base] *",
   "language": "python",
   "name": "conda-base-py"
  },
  "language_info": {
   "codemirror_mode": {
    "name": "ipython",
    "version": 3
   },
   "file_extension": ".py",
   "mimetype": "text/x-python",
   "name": "python",
   "nbconvert_exporter": "python",
   "pygments_lexer": "ipython3",
   "version": "3.12.7"
  }
 },
 "nbformat": 4,
 "nbformat_minor": 5
}
