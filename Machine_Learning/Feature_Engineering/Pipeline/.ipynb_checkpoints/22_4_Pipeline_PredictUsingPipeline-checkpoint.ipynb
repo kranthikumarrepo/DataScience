{
 "cells": [
  {
   "cell_type": "markdown",
   "id": "c546d607-d78f-4ee8-92d8-36cfcc290181",
   "metadata": {},
   "source": [
    "#### This is like a Production code - A webpage that accepts the input Pclass, SibSp, Parch, Fare, Age, Sex, Embarked & predicts outcome\n",
    "- We <B>need NOT</b> write the same series of steps that we wrote during training i.e. to do encode, scale, etc. that we did during the development as we used pipelne, which holds all the object.\n",
    "- So any change in development, doesn't impact the production code.\n",
    "- <b> If we make any change in development, just perform pickle.dump() in development."
   ]
  },
  {
   "cell_type": "code",
   "execution_count": 29,
   "id": "4e8dd3c2-24b9-4c30-adc4-9af5a35909b5",
   "metadata": {},
   "outputs": [],
   "source": [
    "import pickle\n",
    "import numpy as np\n",
    "\n",
    "Pipeline_Titanic_Obj = pickle.load(open('models/Pipeline_Titanic.pk1','rb'))"
   ]
  },
  {
   "cell_type": "code",
   "execution_count": 31,
   "id": "2ff39613-3736-4af3-ab02-e622f808adf6",
   "metadata": {},
   "outputs": [
    {
     "data": {
      "text/plain": [
       "array([[31.0, 'S', 2, 0, 10.5, 0, 'male']], dtype=object)"
      ]
     },
     "execution_count": 31,
     "metadata": {},
     "output_type": "execute_result"
    }
   ],
   "source": [
    "# Assume user input Pclass, SibSp, Parch, Fare, Age, Sex, Embarked\n",
    "# 0 - Age, \n",
    "# 1 - Embarked, \n",
    "# 2 - 1/2/3\n",
    "# 3 - Sex\n",
    "\n",
    "#test_input = np.array([2,0,0,10.5,31.0,'male','S'],dtype=object).reshape(1,7)\n",
    "\n",
    "test_input = np.array([31.0, 'S', 2, 0, 10.5, 0,'male'],dtype=object).reshape(1,7)\n",
    "test_input"
   ]
  },
  {
   "cell_type": "code",
   "execution_count": 33,
   "id": "bc7269c7-692f-479a-8650-1fb1254d270b",
   "metadata": {},
   "outputs": [
    {
     "name": "stderr",
     "output_type": "stream",
     "text": [
      "C:\\Users\\ACER\\anaconda3\\Lib\\site-packages\\sklearn\\base.py:493: UserWarning: X does not have valid feature names, but SimpleImputer was fitted with feature names\n",
      "  warnings.warn(\n",
      "C:\\Users\\ACER\\anaconda3\\Lib\\site-packages\\sklearn\\base.py:493: UserWarning: X does not have valid feature names, but SimpleImputer was fitted with feature names\n",
      "  warnings.warn(\n"
     ]
    },
    {
     "data": {
      "text/plain": [
       "array([0], dtype=int64)"
      ]
     },
     "execution_count": 33,
     "metadata": {},
     "output_type": "execute_result"
    }
   ],
   "source": [
    "# Predict the outcome\n",
    "\n",
    "Pipeline_Titanic_Obj.predict(test_input)"
   ]
  },
  {
   "cell_type": "code",
   "execution_count": null,
   "id": "6cf68a8d-35a1-459e-a4da-1a14cd36c505",
   "metadata": {},
   "outputs": [],
   "source": []
  },
  {
   "cell_type": "code",
   "execution_count": null,
   "id": "db813ded-ef5e-43fa-aca6-928fdea0e154",
   "metadata": {},
   "outputs": [],
   "source": []
  },
  {
   "cell_type": "code",
   "execution_count": null,
   "id": "caba423e-46c0-4ef1-b01f-620808bb8752",
   "metadata": {},
   "outputs": [],
   "source": []
  }
 ],
 "metadata": {
  "kernelspec": {
   "display_name": "Python [conda env:base] *",
   "language": "python",
   "name": "conda-base-py"
  },
  "language_info": {
   "codemirror_mode": {
    "name": "ipython",
    "version": 3
   },
   "file_extension": ".py",
   "mimetype": "text/x-python",
   "name": "python",
   "nbconvert_exporter": "python",
   "pygments_lexer": "ipython3",
   "version": "3.12.7"
  }
 },
 "nbformat": 4,
 "nbformat_minor": 5
}
