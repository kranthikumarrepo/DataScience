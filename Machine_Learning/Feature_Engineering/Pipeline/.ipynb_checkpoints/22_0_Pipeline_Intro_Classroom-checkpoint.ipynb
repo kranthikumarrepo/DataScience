{
 "cells": [
  {
   "cell_type": "markdown",
   "id": "625df481-63b3-4680-acb2-c9550c51c8d2",
   "metadata": {},
   "source": [
    "### Pipeline\n",
    "https://www.youtube.com/watch?v=xOccYkgRV4Q&t=2539s\n",
    "- Pipeline takes only two arguments, 1. pipeline name and 2. object name of any action like imputer, encoder, scaler, machine learning model, etc. We do not mention the column name or dataset names.\n",
    "- Pipeline takes two arguments, one is the pipeline name and the other is the object name of any class, like encoder, scaler, algorithm, etc. it could be any step.\n",
    "- .\n",
    "- Syntax:-\n",
    "- from sklearn.pipeline import Pipeline, make_pipeline\n",
    "- Pipeline_Titanic = Pipeline([\n",
    "- ('Trans_ColTrans_AgeEmbarked_SI',ColTrans_AgeEmbarked_SI),\n",
    "- ('Trans_ColTrans_SexEmbarked_OHE',ColTrans_SexEmbarked_OHE),\n",
    "- ('Trans_ColTrans_Embarked_OHE',ColTrans_Embarked_OHE)\n",
    "- ('Trans_ColTrans_ScaleAll_MMS',ColTrans_ScaleAll_MMS),\n",
    "- ('Trans_SelectKBest_Obj',SelectKBest_Obj),\n",
    "- ('Trans_DecisionTreeClassifierObj',DecisionTreeClassifierObj)\n",
    "- ])\n",
    "- .\n",
    "- Pipeline_Titanic.fit(x_train, y_train)\n",
    "- .\n",
    "- y_predict = Pipeline_Titanic.predict(x_test)\n",
    "- .\n",
    "- <b>Note:-\n",
    "- pipeline.fit(X, y):\n",
    "- <b>When you call fit on the Pipeline object, it sequentially calls the fit and transform methods on each intermediate step (transformers like encoders) in the pipeline, using the output of the previous step as the input for the next.\n",
    "- The final estimator in the pipeline will only have its fit method called.\n",
    "- <b>  All intermediate steps should be transformers and implement fit and transform.\n",
    "- <b>Column transformer can have a pipeline obj and pipeline obj can have column transformer. Ex: below.\n",
    "- .\n",
    "- Is a mechanism which chains together multiple steps so that the output of each step is used as input to the next step.\n",
    "- It makes it easy to apply the same processing to train and test.\n",
    "- In Column transformer, we apply only column related transformation like encoders, scalers, imputing, where as in pipeline, we can connect any kind of steps like encoders, scalers, machine learning algorithms.\n",
    "- We can create a pipeline for imputing, scaling, encoding and use that pipeline inside a column transformer."
   ]
  },
  {
   "cell_type": "code",
   "execution_count": 1,
   "id": "0ac4b3ef-e260-409a-abf6-609409f0c27d",
   "metadata": {},
   "outputs": [
    {
     "data": {
      "text/html": [
       "<div>\n",
       "<style scoped>\n",
       "    .dataframe tbody tr th:only-of-type {\n",
       "        vertical-align: middle;\n",
       "    }\n",
       "\n",
       "    .dataframe tbody tr th {\n",
       "        vertical-align: top;\n",
       "    }\n",
       "\n",
       "    .dataframe thead th {\n",
       "        text-align: right;\n",
       "    }\n",
       "</style>\n",
       "<table border=\"1\" class=\"dataframe\">\n",
       "  <thead>\n",
       "    <tr style=\"text-align: right;\">\n",
       "      <th></th>\n",
       "      <th>PassengerId</th>\n",
       "      <th>Survived</th>\n",
       "      <th>Pclass</th>\n",
       "      <th>Name</th>\n",
       "      <th>Sex</th>\n",
       "      <th>Age</th>\n",
       "      <th>SibSp</th>\n",
       "      <th>Parch</th>\n",
       "      <th>Ticket</th>\n",
       "      <th>Fare</th>\n",
       "      <th>Cabin</th>\n",
       "      <th>Embarked</th>\n",
       "    </tr>\n",
       "  </thead>\n",
       "  <tbody>\n",
       "    <tr>\n",
       "      <th>0</th>\n",
       "      <td>1</td>\n",
       "      <td>0</td>\n",
       "      <td>3</td>\n",
       "      <td>Braund, Mr. Owen Harris</td>\n",
       "      <td>male</td>\n",
       "      <td>22.0</td>\n",
       "      <td>1</td>\n",
       "      <td>0</td>\n",
       "      <td>A/5 21171</td>\n",
       "      <td>7.2500</td>\n",
       "      <td>NaN</td>\n",
       "      <td>S</td>\n",
       "    </tr>\n",
       "    <tr>\n",
       "      <th>1</th>\n",
       "      <td>2</td>\n",
       "      <td>1</td>\n",
       "      <td>1</td>\n",
       "      <td>Cumings, Mrs. John Bradley (Florence Briggs Th...</td>\n",
       "      <td>female</td>\n",
       "      <td>38.0</td>\n",
       "      <td>1</td>\n",
       "      <td>0</td>\n",
       "      <td>PC 17599</td>\n",
       "      <td>71.2833</td>\n",
       "      <td>C85</td>\n",
       "      <td>C</td>\n",
       "    </tr>\n",
       "  </tbody>\n",
       "</table>\n",
       "</div>"
      ],
      "text/plain": [
       "   PassengerId  Survived  Pclass  \\\n",
       "0            1         0       3   \n",
       "1            2         1       1   \n",
       "\n",
       "                                                Name     Sex   Age  SibSp  \\\n",
       "0                            Braund, Mr. Owen Harris    male  22.0      1   \n",
       "1  Cumings, Mrs. John Bradley (Florence Briggs Th...  female  38.0      1   \n",
       "\n",
       "   Parch     Ticket     Fare Cabin Embarked  \n",
       "0      0  A/5 21171   7.2500   NaN        S  \n",
       "1      0   PC 17599  71.2833   C85        C  "
      ]
     },
     "execution_count": 1,
     "metadata": {},
     "output_type": "execute_result"
    }
   ],
   "source": [
    "import pandas as pd\n",
    "\n",
    "Train_DF = pd.read_csv(r\"C:\\Users\\ACER\\Desktop\\Kranthi\\DataScience_Desktop\\MachineLearningFiles\\train.csv\")\n",
    "Train_DF.head(2)"
   ]
  },
  {
   "cell_type": "code",
   "execution_count": 3,
   "id": "7bc9034f-bff2-4392-9d3a-07362e63da14",
   "metadata": {},
   "outputs": [
    {
     "data": {
      "text/html": [
       "<div>\n",
       "<style scoped>\n",
       "    .dataframe tbody tr th:only-of-type {\n",
       "        vertical-align: middle;\n",
       "    }\n",
       "\n",
       "    .dataframe tbody tr th {\n",
       "        vertical-align: top;\n",
       "    }\n",
       "\n",
       "    .dataframe thead th {\n",
       "        text-align: right;\n",
       "    }\n",
       "</style>\n",
       "<table border=\"1\" class=\"dataframe\">\n",
       "  <thead>\n",
       "    <tr style=\"text-align: right;\">\n",
       "      <th></th>\n",
       "      <th>Survived</th>\n",
       "      <th>Pclass</th>\n",
       "      <th>Sex</th>\n",
       "      <th>Age</th>\n",
       "      <th>SibSp</th>\n",
       "      <th>Parch</th>\n",
       "      <th>Fare</th>\n",
       "      <th>Embarked</th>\n",
       "    </tr>\n",
       "  </thead>\n",
       "  <tbody>\n",
       "    <tr>\n",
       "      <th>0</th>\n",
       "      <td>0</td>\n",
       "      <td>3</td>\n",
       "      <td>male</td>\n",
       "      <td>22.0</td>\n",
       "      <td>1</td>\n",
       "      <td>0</td>\n",
       "      <td>7.2500</td>\n",
       "      <td>S</td>\n",
       "    </tr>\n",
       "    <tr>\n",
       "      <th>1</th>\n",
       "      <td>1</td>\n",
       "      <td>1</td>\n",
       "      <td>female</td>\n",
       "      <td>38.0</td>\n",
       "      <td>1</td>\n",
       "      <td>0</td>\n",
       "      <td>71.2833</td>\n",
       "      <td>C</td>\n",
       "    </tr>\n",
       "  </tbody>\n",
       "</table>\n",
       "</div>"
      ],
      "text/plain": [
       "   Survived  Pclass     Sex   Age  SibSp  Parch     Fare Embarked\n",
       "0         0       3    male  22.0      1      0   7.2500        S\n",
       "1         1       1  female  38.0      1      0  71.2833        C"
      ]
     },
     "execution_count": 3,
     "metadata": {},
     "output_type": "execute_result"
    }
   ],
   "source": [
    "Train_DF_New = Train_DF.drop(columns = ['PassengerId','Name','Ticket','Cabin'],axis=1)\n",
    "Train_DF_New.head(2)"
   ]
  },
  {
   "cell_type": "code",
   "execution_count": 5,
   "id": "3adac3db-b9a1-45d3-975a-5be45fcae55b",
   "metadata": {},
   "outputs": [
    {
     "data": {
      "text/html": [
       "<div>\n",
       "<style scoped>\n",
       "    .dataframe tbody tr th:only-of-type {\n",
       "        vertical-align: middle;\n",
       "    }\n",
       "\n",
       "    .dataframe tbody tr th {\n",
       "        vertical-align: top;\n",
       "    }\n",
       "\n",
       "    .dataframe thead th {\n",
       "        text-align: right;\n",
       "    }\n",
       "</style>\n",
       "<table border=\"1\" class=\"dataframe\">\n",
       "  <thead>\n",
       "    <tr style=\"text-align: right;\">\n",
       "      <th></th>\n",
       "      <th>Pclass</th>\n",
       "      <th>Sex</th>\n",
       "      <th>Age</th>\n",
       "      <th>SibSp</th>\n",
       "      <th>Parch</th>\n",
       "      <th>Fare</th>\n",
       "      <th>Embarked</th>\n",
       "    </tr>\n",
       "  </thead>\n",
       "  <tbody>\n",
       "    <tr>\n",
       "      <th>30</th>\n",
       "      <td>1</td>\n",
       "      <td>male</td>\n",
       "      <td>40.0</td>\n",
       "      <td>0</td>\n",
       "      <td>0</td>\n",
       "      <td>27.7208</td>\n",
       "      <td>C</td>\n",
       "    </tr>\n",
       "    <tr>\n",
       "      <th>10</th>\n",
       "      <td>3</td>\n",
       "      <td>female</td>\n",
       "      <td>4.0</td>\n",
       "      <td>1</td>\n",
       "      <td>1</td>\n",
       "      <td>16.7000</td>\n",
       "      <td>S</td>\n",
       "    </tr>\n",
       "  </tbody>\n",
       "</table>\n",
       "</div>"
      ],
      "text/plain": [
       "    Pclass     Sex   Age  SibSp  Parch     Fare Embarked\n",
       "30       1    male  40.0      0      0  27.7208        C\n",
       "10       3  female   4.0      1      1  16.7000        S"
      ]
     },
     "execution_count": 5,
     "metadata": {},
     "output_type": "execute_result"
    }
   ],
   "source": [
    "# Prepare the train and test data\n",
    "\n",
    "x = Train_DF_New.drop(columns = ['Survived'])\n",
    "y = Train_DF_New.Survived\n",
    "\n",
    "from sklearn.model_selection import train_test_split\n",
    "\n",
    "x_train, x_test, y_train, y_test  = train_test_split(x,y,test_size=0.2,random_state=2)\n",
    "x_train.head(2)"
   ]
  },
  {
   "cell_type": "code",
   "execution_count": 6,
   "id": "632559c9-c3b5-45b2-b227-626b404fab40",
   "metadata": {},
   "outputs": [],
   "source": [
    "from sklearn.compose import ColumnTransformer\n",
    "from sklearn.pipeline import Pipeline\n",
    "from sklearn.impute import SimpleImputer\n",
    "from sklearn.preprocessing import OneHotEncoder\n",
    "from sklearn.preprocessing import OrdinalEncoder\n",
    "from sklearn.preprocessing import MinMaxScaler\n",
    "from sklearn.tree import DecisionTreeClassifier"
   ]
  },
  {
   "cell_type": "code",
   "execution_count": 7,
   "id": "5dcafb86-75a9-4978-bb73-c048fbbc0a45",
   "metadata": {},
   "outputs": [],
   "source": [
    "# Categorical pipeline\n",
    "cat_pipe = Pipeline([\n",
    "    ('SI_Cat',SimpleImputer(strategy='most_frequent')),\n",
    "    ('OHE_Cat',OneHotEncoder(drop='first',sparse_output=False,handle_unknown='ignore'))\n",
    "])\n",
    "\n",
    "# Numerical pipeline\n",
    "num_pipe = Pipeline([\n",
    "    ('SI_Num',SimpleImputer(strategy='median')),\n",
    "    ('MMS_Num',MinMaxScaler())\n",
    "])\n",
    "\n",
    "# We are not mentioning the column names\n",
    "\n",
    "# Column Transformer\n",
    "\n",
    "ColumnTransformer_Obj = ColumnTransformer([\n",
    "    ('Cat',cat_pipe,['Sex','Embarked']),\n",
    "    ('Num',num_pipe,['Age','Fare'])\n",
    "],remainder='passthrough')"
   ]
  },
  {
   "cell_type": "code",
   "execution_count": 8,
   "id": "9fdcbec7-6363-4e13-b236-98ce9d8f5ad3",
   "metadata": {},
   "outputs": [],
   "source": [
    "# Pipeline\n",
    "\n",
    "Pipeline_Obj = Pipeline([\n",
    "    ('Preprocess',ColumnTransformer_Obj),\n",
    "    ('Model',DecisionTreeClassifier())\n",
    "])"
   ]
  },
  {
   "cell_type": "code",
   "execution_count": 13,
   "id": "f3b64606-69d7-4995-ae2e-eb4e258d59e1",
   "metadata": {},
   "outputs": [],
   "source": [
    "Pipeline_Obj.fit(x_train,y_train)\n",
    "y_predict = Pipeline_Obj.predict(x_test)"
   ]
  },
  {
   "cell_type": "code",
   "execution_count": 15,
   "id": "0f65b0ee-d921-47ba-82a7-8d4582e50091",
   "metadata": {},
   "outputs": [
    {
     "data": {
      "text/plain": [
       "0.7821229050279329"
      ]
     },
     "execution_count": 15,
     "metadata": {},
     "output_type": "execute_result"
    }
   ],
   "source": [
    "from sklearn.metrics import accuracy_score\n",
    "accuracy_score_before = accuracy_score(y_predict,y_test)"
   ]
  },
  {
   "cell_type": "code",
   "execution_count": null,
   "id": "cece34f4-67f5-48d2-a72d-24239e1e5ae9",
   "metadata": {},
   "outputs": [],
   "source": []
  }
 ],
 "metadata": {
  "kernelspec": {
   "display_name": "Python [conda env:base] *",
   "language": "python",
   "name": "conda-base-py"
  },
  "language_info": {
   "codemirror_mode": {
    "name": "ipython",
    "version": 3
   },
   "file_extension": ".py",
   "mimetype": "text/x-python",
   "name": "python",
   "nbconvert_exporter": "python",
   "pygments_lexer": "ipython3",
   "version": "3.12.7"
  }
 },
 "nbformat": 4,
 "nbformat_minor": 5
}
