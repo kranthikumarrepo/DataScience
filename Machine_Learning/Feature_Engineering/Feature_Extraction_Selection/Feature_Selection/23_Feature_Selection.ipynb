{
 "cells": [
  {
   "cell_type": "markdown",
   "id": "e8d301b0-eeda-4b71-9a83-2b954129b8c8",
   "metadata": {},
   "source": [
    "https://www.youtube.com/watch?v=hRTe7tSkR2k&t=6s - watch this \n",
    "\n",
    "https://www.youtube.com/watch?v=uMlU2JaiOd8&list=PLZoTAELRMXVPgjwJ8VyRoqmfNs2CJwhVH"
   ]
  },
  {
   "cell_type": "code",
   "execution_count": 2,
   "id": "32e7f4d5-99c8-4e0a-b008-8b97c61febfd",
   "metadata": {},
   "outputs": [],
   "source": [
    "from sklearn.feature_selection import SelectKBest, chi2\n"
   ]
  },
  {
   "cell_type": "code",
   "execution_count": null,
   "id": "4f461294-6536-468f-b4b2-fa721b01f51c",
   "metadata": {},
   "outputs": [],
   "source": []
  }
 ],
 "metadata": {
  "kernelspec": {
   "display_name": "Python [conda env:base] *",
   "language": "python",
   "name": "conda-base-py"
  },
  "language_info": {
   "codemirror_mode": {
    "name": "ipython",
    "version": 3
   },
   "file_extension": ".py",
   "mimetype": "text/x-python",
   "name": "python",
   "nbconvert_exporter": "python",
   "pygments_lexer": "ipython3",
   "version": "3.12.7"
  }
 },
 "nbformat": 4,
 "nbformat_minor": 5
}
