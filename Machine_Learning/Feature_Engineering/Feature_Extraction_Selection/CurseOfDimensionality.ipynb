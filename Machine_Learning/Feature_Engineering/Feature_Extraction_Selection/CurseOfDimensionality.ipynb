{
 "cells": [
  {
   "cell_type": "markdown",
   "id": "2da58a70-85e9-48ff-8172-b6d66012eace",
   "metadata": {},
   "source": [
    "https://www.youtube.com/watch?v=ToGuhynu-No"
   ]
  },
  {
   "cell_type": "markdown",
   "id": "dbc864cc-d959-46ea-a194-36cd98b31cae",
   "metadata": {},
   "source": [
    "### Curse Of Dimensionality\n",
    "- Problem of having to train the model with more columns/features/dimensions out of which majority of the columns have no significant impact on the outcome(Prediction)\n",
    "- Features - Columns - Dimensions >>> All are same.\n",
    "- There would be optimal number of features to predict outcome, beyond that there is no use of having more features.\n",
    "- Even though there are many columns, there is no significant use in the model - this is called as curse of dimensionality\n",
    "- Reduce the number of features that really have impact on the model using Feature Extraction\n",
    "- DisAdvantages\n",
    "- - Higher dimension increases sparsity - this would increase the area of search.\n",
    "  - Performance decreases\n",
    "  - Computation increases.\n",
    "- Solution for Curse of dimensionality\n",
    "- - Dimensionality Reduction\n",
    "  - A. Feature Selection - Col1, Col2, ... ColN >>> Take subset of the existing columns like Col2, Col3.\n",
    "  - - Using Forward Selection, Backword Elimation, Bi-direction elimination.\n",
    "  - B. Feature Extraction - Col1, Col2, ... ColN >>> Create completely new columns of existing columns like E1, E2, ... EN.\n",
    "  - - Using PCA, LDA, TSNE, etc."
   ]
  }
 ],
 "metadata": {
  "kernelspec": {
   "display_name": "Python [conda env:base] *",
   "language": "python",
   "name": "conda-base-py"
  },
  "language_info": {
   "codemirror_mode": {
    "name": "ipython",
    "version": 3
   },
   "file_extension": ".py",
   "mimetype": "text/x-python",
   "name": "python",
   "nbconvert_exporter": "python",
   "pygments_lexer": "ipython3",
   "version": "3.13.5"
  }
 },
 "nbformat": 4,
 "nbformat_minor": 5
}
