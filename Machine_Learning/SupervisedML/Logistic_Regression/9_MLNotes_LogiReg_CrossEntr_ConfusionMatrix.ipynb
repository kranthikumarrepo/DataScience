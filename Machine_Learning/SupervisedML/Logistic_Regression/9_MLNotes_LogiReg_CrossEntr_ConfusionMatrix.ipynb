{
 "cells": [
  {
   "cell_type": "markdown",
   "id": "07a34241-88a0-4d25-8c7e-c4e2a4004b0b",
   "metadata": {},
   "source": [
    "#### Cross entropy loss - Loss function of Logistic Regression\n",
    "https://www.youtube.com/watch?v=MztgenIfGgM\n",
    "\n",
    "Mean Square Error is a Loss function used in Linear Regression. This cannot be used in Logistic Regression.\n",
    "\n",
    "Cross Entropy Loss is a Loss function used in Logistic Regression"
   ]
  },
  {
   "cell_type": "markdown",
   "id": "194da089-7205-4ba7-adb0-5b247061b3e4",
   "metadata": {},
   "source": [
    "#### Confusion Matrix\n",
    "- Confusion matrix is a simple table used to measure how well a classification model is performing.\n",
    "- It compares the predictions made by the model with the actual results and shows where the model was right or wrong.\n",
    "- This helps you understand where the model is making mistakes so you can improve it.\n",
    "- It breaks down the predictions into four categories:\n",
    "- .\n",
    "- True Positive (TP): The model correctly predicted a positive outcome i.e the actual outcome was positive.\n",
    "- Actual 1 = Predict 1 = True Positive\n",
    "- .\n",
    "- True Negative (TN): The model correctly predicted a negative outcome i.e the actual outcome was negative.\n",
    "- Actual 0 = Predict 0 = True Negative\n",
    "- .\n",
    "- False Positive (FP): The model incorrectly predicted a positive outcome i.e the actual outcome was negative. It is also known as a Type I error\n",
    "- Actual 0 <> Predict 1 = False Positive\n",
    "- .\n",
    "- False Negative (FN): The model incorrectly predicted a negative outcome i.e the actual outcome was positive. It is also known as a Type II error.\n",
    "- Actual 1 <> Predict 0 = False Negative\n",
    "- .\n",
    "- Note:\n",
    "- True/False is always with respect to the predicted value. True means that the values were accurately predicted, False means that there was an error or wrong prediction.\n",
    "- The rows represent the actual classes the outcomes should have been. While the columns represent the predictions we have made. Using this table it is easy to see which predictions are wrong."
   ]
  },
  {
   "cell_type": "code",
   "execution_count": 92,
   "id": "f11fad5d-ea6e-4474-a5b9-666fa52bcd4b",
   "metadata": {},
   "outputs": [
    {
     "data": {
      "image/png": "[encoded data removed]",
      "text/plain": [
       "<Figure size 640x480 with 2 Axes>"
      ]
     },
     "metadata": {},
     "output_type": "display_data"
    },
    {
     "data": {
      "text/plain": [
       "array([[ 19,  89],\n",
       "       [ 83, 809]], dtype=int64)"
      ]
     },
     "execution_count": 92,
     "metadata": {},
     "output_type": "execute_result"
    }
   ],
   "source": [
    "import matplotlib.pyplot as plt\n",
    "import numpy\n",
    "from sklearn import metrics\n",
    "\n",
    "actual = numpy.random.binomial(1,.9,size = 1000)\n",
    "predicted = numpy.random.binomial(1,.9,size = 1000) # We can use my_model.predict(x_test) in real time.\n",
    "\n",
    "confusion_matrix = metrics.confusion_matrix(actual, predicted)\n",
    "\n",
    "cm_display = metrics.ConfusionMatrixDisplay(confusion_matrix = confusion_matrix, display_labels = [0, 1])\n",
    "\n",
    "cm_display.plot()\n",
    "plt.show()\n",
    "confusion_matrix"
   ]
  },
  {
   "cell_type": "code",
   "execution_count": 94,
   "id": "2e469ecf-d531-42f5-aea5-df4e9e6b8d17",
   "metadata": {},
   "outputs": [
    {
     "data": {
      "text/plain": [
       "array([[ 19,  89],\n",
       "       [ 83, 809]], dtype=int64)"
      ]
     },
     "execution_count": 94,
     "metadata": {},
     "output_type": "execute_result"
    }
   ],
   "source": [
    "# Confusion Matrix without graphs\n",
    "\n",
    "from sklearn.metrics import confusion_matrix\n",
    "confusion_matrix(actual, predicted)"
   ]
  },
  {
   "cell_type": "code",
   "execution_count": 211,
   "id": "f3c7e619-a1e6-4ff5-9c21-5bf383f53b9e",
   "metadata": {},
   "outputs": [
    {
     "name": "stdout",
     "output_type": "stream",
     "text": [
      "TN =  19\n",
      "FP =  89\n",
      "FN =  83\n",
      "TP =  809\n"
     ]
    }
   ],
   "source": [
    "# To understand the above matrix, use ravel() method\n",
    "\n",
    "from sklearn import metrics\n",
    "TN, FP, FN, TP = metrics.confusion_matrix(actual, predicted).ravel()\n",
    "print(\"TN = \", TN)\n",
    "print(\"FP = \", FP)\n",
    "print(\"FN = \", FN)\n",
    "print(\"TP = \", TP)"
   ]
  },
  {
   "cell_type": "markdown",
   "id": "2a92140e-d1e9-4eb5-9600-023fd9936eec",
   "metadata": {},
   "source": [
    "#### Above result explained\n",
    "\n",
    "- True Negative (Top-Left Quadrant)\n",
    "- False Positive (Top-Right Quadrant)\n",
    "- False Negative (Bottom-Left Quadrant)\n",
    "- True Positive (Bottom-Right Quadrant)\n",
    "- Note:- True means that the values were accurately predicted, False means that there was an error or wrong prediction."
   ]
  },
  {
   "cell_type": "markdown",
   "id": "693e74bd-558e-4b7e-9317-db5164dd32a5",
   "metadata": {},
   "source": [
    "### From Consufion Matrix we can calculate different measures to quantify the quality of the model.\n",
    "- The matrix provides us with many useful metrics that help us to evaluate our classification model.\n",
    "- The different measures include: Accuracy, Precision, Sensitivity (Recall), Specificity, and the F-score, explained below."
   ]
  },
  {
   "cell_type": "markdown",
   "id": "a9309c71-726a-4a8b-9430-c7bdf316ea12",
   "metadata": {},
   "source": [
    "#### 1. Accuracy\n",
    "- Accuracy measures how often the model is correct.\n",
    "- Total correct outcomes / all the outcomes.\n",
    "- (TP+TN)/(TP+TN+FP+FN)"
   ]
  },
  {
   "cell_type": "code",
   "execution_count": 169,
   "id": "28838d94-b50e-43c6-8932-539b5a5dadf3",
   "metadata": {},
   "outputs": [
    {
     "data": {
      "text/plain": [
       "0.828"
      ]
     },
     "execution_count": 169,
     "metadata": {},
     "output_type": "execute_result"
    }
   ],
   "source": [
    "from sklearn.metrics import accuracy_score\n",
    "Accuracy = accuracy_score(actual, predicted)\n",
    "Accuracy"
   ]
  },
  {
   "cell_type": "markdown",
   "id": "9006eb7b-d1da-4013-8279-488a70e1067c",
   "metadata": {},
   "source": [
    "#### 2. Precision\n",
    "- Focus is only on Positive.\n",
    "- Of the positives predicted, what percentage is truly positive?\n",
    "- Precision does not evaluate the correctly predicted negative cases.\n",
    "- (TP)/(TP+FP)"
   ]
  },
  {
   "cell_type": "code",
   "execution_count": 172,
   "id": "0d3992a4-aa36-4023-9560-30379962ace4",
   "metadata": {},
   "outputs": [
    {
     "data": {
      "text/plain": [
       "0.9008908685968819"
      ]
     },
     "execution_count": 172,
     "metadata": {},
     "output_type": "execute_result"
    }
   ],
   "source": [
    "from sklearn.metrics import precision_score\n",
    "Precision = precision_score(actual, predicted)\n",
    "Precision"
   ]
  },
  {
   "cell_type": "markdown",
   "id": "bdfa1bc4-936f-48c0-bb19-c5f3d8d45dde",
   "metadata": {},
   "source": [
    "#### 3. False Positive Ratio - FPR \n",
    "- The proportion of actual negative instances that are incorrectly classified as positive.\n",
    "- A lower FPR is generally desirable, as it indicates a more specific model that is less prone to misclassifying negative cases as positive. \n",
    "- FP / (TN + FP)"
   ]
  },
  {
   "cell_type": "code",
   "execution_count": 221,
   "id": "9f991f99-f5ab-4fac-9963-6e060f205334",
   "metadata": {},
   "outputs": [
    {
     "data": {
      "text/plain": [
       "0.8240740740740741"
      ]
     },
     "execution_count": 221,
     "metadata": {},
     "output_type": "execute_result"
    }
   ],
   "source": [
    "from sklearn import metrics\n",
    "\n",
    "TN, FP, FN, TP = metrics.confusion_matrix(actual, predicted).ravel()\n",
    "FPR = FP / (TN + FP)\n",
    "FPR"
   ]
  },
  {
   "cell_type": "markdown",
   "id": "2a60939f-ac9b-4005-ba89-3e9aeeda3d04",
   "metadata": {},
   "source": [
    "#### 4. Sensitivity (Recall) - True Positive Ratio(TPR)\n",
    "- Sensitivity (sometimes called Recall) measures how good the model is at predicting positives.\n",
    "- Sensitivity is good at understanding how well the model predicts something is positive. From prespective of Positive results.\n",
    "- Of all the positive cases, what percentage are predicted correctly positive?\n",
    "- This means it looks at true positives and false negatives (which are positives that have been incorrectly predicted as negative).\n",
    "- TP / (TP+FN)"
   ]
  },
  {
   "cell_type": "code",
   "execution_count": 224,
   "id": "205b6c8d-e1c4-42aa-aa37-c77ffccb56fd",
   "metadata": {},
   "outputs": [
    {
     "data": {
      "text/plain": [
       "0.9069506726457399"
      ]
     },
     "execution_count": 224,
     "metadata": {},
     "output_type": "execute_result"
    }
   ],
   "source": [
    "from sklearn.metrics import recall_score\n",
    "Sensitivity_recall = recall_score(actual, predicted)\n",
    "Sensitivity_recall"
   ]
  },
  {
   "cell_type": "markdown",
   "id": "d0605af7-6b99-42d7-8fcf-f29e7c18e7ea",
   "metadata": {},
   "source": [
    "#### 5. Specificity - True negative ratio\n",
    "- Specificity is good at understanding how well the model is at prediciting negative results?\n",
    "- Specificity is similar to sensitivity, but looks at it from the persepctive of negative results.\n",
    "- TN / (TN + FP)"
   ]
  },
  {
   "cell_type": "code",
   "execution_count": 227,
   "id": "3b1b2de0-392f-407e-a0b6-4dea070eaa7f",
   "metadata": {},
   "outputs": [
    {
     "data": {
      "text/plain": [
       "0.17592592592592593"
      ]
     },
     "execution_count": 227,
     "metadata": {},
     "output_type": "execute_result"
    }
   ],
   "source": [
    "# Since it is just the opposite of Recall, we use the recall_score function, taking the opposite position label.\n",
    "\n",
    "from sklearn.metrics import recall_score\n",
    "Specificity = metrics.recall_score(actual, predicted, pos_label=0)\n",
    "Specificity"
   ]
  },
  {
   "cell_type": "code",
   "execution_count": 1,
   "id": "b9918b3c-9f04-485a-880a-1b14e865069f",
   "metadata": {},
   "outputs": [
    {
     "ename": "NameError",
     "evalue": "name 'actual' is not defined",
     "output_type": "error",
     "traceback": [
      "\u001b[1;31m---------------------------------------------------------------------------\u001b[0m",
      "\u001b[1;31mNameError\u001b[0m                                 Traceback (most recent call last)",
      "Cell \u001b[1;32mIn[1], line 4\u001b[0m\n\u001b[0;32m      1\u001b[0m \u001b[38;5;66;03m# Or use the manual derivation.\u001b[39;00m\n\u001b[0;32m      2\u001b[0m \u001b[38;5;28;01mfrom\u001b[39;00m \u001b[38;5;21;01msklearn\u001b[39;00m\u001b[38;5;21;01m.\u001b[39;00m\u001b[38;5;21;01mmetrics\u001b[39;00m \u001b[38;5;28;01mimport\u001b[39;00m confusion_matrix\n\u001b[1;32m----> 4\u001b[0m tn, fp, fn, tp \u001b[38;5;241m=\u001b[39m confusion_matrix(actual, predicted)\u001b[38;5;241m.\u001b[39mravel()\n\u001b[0;32m      5\u001b[0m specificity \u001b[38;5;241m=\u001b[39m tn \u001b[38;5;241m/\u001b[39m (tn \u001b[38;5;241m+\u001b[39m fp)\n\u001b[0;32m      6\u001b[0m specificity\n",
      "\u001b[1;31mNameError\u001b[0m: name 'actual' is not defined"
     ]
    }
   ],
   "source": [
    "# Or use the manual derivation.\n",
    "from sklearn.metrics import confusion_matrix\n",
    "\n",
    "tn, fp, fn, tp = confusion_matrix(actual, predicted).ravel()\n",
    "specificity = tn / (tn + fp)\n",
    "specificity"
   ]
  },
  {
   "cell_type": "markdown",
   "id": "b9216e1b-35ab-4d08-b3c1-be5df9d435e1",
   "metadata": {},
   "source": [
    "#### 6. F1 Score\n",
    "- F-score is the \"harmonic mean\" of precision and sensitivity.\n",
    "- It considers both false positive and false negative cases and is good for imbalanced datasets.\n",
    "- This score does not take into consideration the True Negative values.\n",
    "- 2 * ((Precision * Sensitivity) / (Precision + Sensitivity))\n",
    "- or ???? check and confirm\n",
    "- (Precision * Recall) / (Precision + Recall)"
   ]
  },
  {
   "cell_type": "code",
   "execution_count": 232,
   "id": "95ede954-f507-47c7-afd1-79f09cd13041",
   "metadata": {},
   "outputs": [
    {
     "data": {
      "text/plain": [
       "0.9039106145251397"
      ]
     },
     "execution_count": 232,
     "metadata": {},
     "output_type": "execute_result"
    }
   ],
   "source": [
    "from sklearn.metrics import f1_score\n",
    "F1_score = f1_score(actual, predicted)\n",
    "F1_score"
   ]
  },
  {
   "cell_type": "markdown",
   "id": "31c704e6-f922-4d32-9013-5038d0c37468",
   "metadata": {},
   "source": [
    "#### 7. ROC AUC Curve\n",
    "\n",
    "https://www.w3schools.com/python/python_ml_auc_roc.asp"
   ]
  },
  {
   "cell_type": "markdown",
   "id": "17eba2f7-da32-4259-a133-3eff12c7ee00",
   "metadata": {},
   "source": [
    "AUC curve value close to 1 is a better model\n",
    "\n",
    "this can be calculated on any type of model, Linear R, Logistic Regre, etc.\n",
    "\n",
    "Used to determine the best threshold and how we want the TPR/FPR/etc.\n",
    "\n",
    "Where are we giving the threshold value\n",
    "\n",
    "what does below parameters signify"
   ]
  },
  {
   "cell_type": "code",
   "execution_count": 5,
   "id": "9505405a-c9ed-4dcf-8271-66e942996883",
   "metadata": {},
   "outputs": [
    {
     "ename": "NameError",
     "evalue": "name 'y_test' is not defined",
     "output_type": "error",
     "traceback": [
      "\u001b[1;31m---------------------------------------------------------------------------\u001b[0m",
      "\u001b[1;31mNameError\u001b[0m                                 Traceback (most recent call last)",
      "Cell \u001b[1;32mIn[5], line 3\u001b[0m\n\u001b[0;32m      1\u001b[0m \u001b[38;5;28;01mfrom\u001b[39;00m \u001b[38;5;21;01msklearn\u001b[39;00m\u001b[38;5;21;01m.\u001b[39;00m\u001b[38;5;21;01mmetrics\u001b[39;00m \u001b[38;5;28;01mimport\u001b[39;00m roc_curve\n\u001b[1;32m----> 3\u001b[0m roc_curve(y_test,y_predict)\n",
      "\u001b[1;31mNameError\u001b[0m: name 'y_test' is not defined"
     ]
    }
   ],
   "source": [
    "from sklearn.metrics import roc_curve\n",
    "\n",
    "roc_curve(y_test,y_predict)\n",
    "#fpr - false positive rate\n",
    "#tpr - true positive rate\n",
    "# threshold value\n",
    "#(array([0., 1.]), array([0., 1.]), array([inf,  0.]))\n",
    "#FPR/TPR/Threshold"
   ]
  },
  {
   "cell_type": "markdown",
   "id": "fc08b7fd-9a63-415e-b1d4-ff43ef8d0c86",
   "metadata": {},
   "source": [
    "#### roc_auc_score"
   ]
  },
  {
   "cell_type": "code",
   "execution_count": 262,
   "id": "4b1cd5c5-ceb4-4941-9dcb-8861e6adf3c2",
   "metadata": {},
   "outputs": [
    {
     "data": {
      "text/plain": [
       "1.0"
      ]
     },
     "execution_count": 262,
     "metadata": {},
     "output_type": "execute_result"
    }
   ],
   "source": [
    "from sklearn.metrics import roc_auc_score\n",
    "\n",
    "roc_auc_score(y_test,y_predict)\n",
    "#fpr,tpr,threshold"
   ]
  },
  {
   "cell_type": "code",
   "execution_count": 264,
   "id": "b45746a7-298c-4947-8260-02fd79cad93c",
   "metadata": {},
   "outputs": [
    {
     "name": "stdout",
     "output_type": "stream",
     "text": [
      "              precision    recall  f1-score   support\n",
      "\n",
      "           0       1.00      1.00      1.00        24\n",
      "           1       1.00      1.00      1.00        23\n",
      "\n",
      "    accuracy                           1.00        47\n",
      "   macro avg       1.00      1.00      1.00        47\n",
      "weighted avg       1.00      1.00      1.00        47\n",
      "\n"
     ]
    }
   ],
   "source": [
    "from sklearn.metrics import classification_report\n",
    "\n",
    "print(classification_report(y_test,y_predict))"
   ]
  },
  {
   "cell_type": "code",
   "execution_count": null,
   "id": "f10d4d07-6722-486e-8b2a-30e04d0369cd",
   "metadata": {},
   "outputs": [],
   "source": []
  }
 ],
 "metadata": {
  "kernelspec": {
   "display_name": "Python [conda env:base] *",
   "language": "python",
   "name": "conda-base-py"
  },
  "language_info": {
   "codemirror_mode": {
    "name": "ipython",
    "version": 3
   },
   "file_extension": ".py",
   "mimetype": "text/x-python",
   "name": "python",
   "nbconvert_exporter": "python",
   "pygments_lexer": "ipython3",
   "version": "3.12.7"
  }
 },
 "nbformat": 4,
 "nbformat_minor": 5
}
