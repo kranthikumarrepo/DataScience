{
 "cells": [
  {
   "cell_type": "markdown",
   "id": "791d4931-dd5e-4bd7-b452-5876105526ed",
   "metadata": {},
   "source": [
    "Imbalanced Dataset and SMOTE\n",
    "\n",
    "https://www.youtube.com/watch?v=yh2AKoJCV3k"
   ]
  },
  {
   "cell_type": "markdown",
   "id": "98fe8eae-16aa-4599-8f3e-48e6958b803f",
   "metadata": {},
   "source": [
    "Hyperparameter tuning\n",
    "\n",
    "using Optuna\n",
    "https://www.youtube.com/watch?v=E2b3SKMw934&t=29s\n",
    "\n",
    "Grid search CV and random search CV videos are also pending ."
   ]
  },
  {
   "cell_type": "code",
   "execution_count": 4,
   "id": "bdfc7401-eb98-45c7-bc3d-100fe7211d4f",
   "metadata": {},
   "outputs": [],
   "source": [
    "import pandas as pd\n",
    "import numpy as np\n",
    "import seaborn as sns\n",
    "import matplotlib.pyplot as plt"
   ]
  },
  {
   "cell_type": "code",
   "execution_count": 6,
   "id": "d6de2991-ddf8-4d6e-8be3-75072fc8d6f7",
   "metadata": {},
   "outputs": [
    {
     "data": {
      "text/html": [
       "<div>\n",
       "<style scoped>\n",
       "    .dataframe tbody tr th:only-of-type {\n",
       "        vertical-align: middle;\n",
       "    }\n",
       "\n",
       "    .dataframe tbody tr th {\n",
       "        vertical-align: top;\n",
       "    }\n",
       "\n",
       "    .dataframe thead th {\n",
       "        text-align: right;\n",
       "    }\n",
       "</style>\n",
       "<table border=\"1\" class=\"dataframe\">\n",
       "  <thead>\n",
       "    <tr style=\"text-align: right;\">\n",
       "      <th></th>\n",
       "      <th>feature_0</th>\n",
       "      <th>feature_1</th>\n",
       "      <th>feature_2</th>\n",
       "      <th>feature_3</th>\n",
       "      <th>feature_4</th>\n",
       "      <th>feature_5</th>\n",
       "      <th>feature_6</th>\n",
       "      <th>feature_7</th>\n",
       "      <th>feature_8</th>\n",
       "      <th>feature_9</th>\n",
       "      <th>...</th>\n",
       "      <th>feature_11</th>\n",
       "      <th>feature_12</th>\n",
       "      <th>feature_13</th>\n",
       "      <th>feature_14</th>\n",
       "      <th>feature_15</th>\n",
       "      <th>feature_16</th>\n",
       "      <th>feature_17</th>\n",
       "      <th>feature_18</th>\n",
       "      <th>feature_19</th>\n",
       "      <th>target</th>\n",
       "    </tr>\n",
       "  </thead>\n",
       "  <tbody>\n",
       "    <tr>\n",
       "      <th>0</th>\n",
       "      <td>1.634005</td>\n",
       "      <td>0.090678</td>\n",
       "      <td>-0.786953</td>\n",
       "      <td>1.172431</td>\n",
       "      <td>2.259654</td>\n",
       "      <td>1.065964</td>\n",
       "      <td>0.017832</td>\n",
       "      <td>-1.542546</td>\n",
       "      <td>-1.446147</td>\n",
       "      <td>0.234793</td>\n",
       "      <td>...</td>\n",
       "      <td>0.857126</td>\n",
       "      <td>0.144281</td>\n",
       "      <td>0.037567</td>\n",
       "      <td>-2.434007</td>\n",
       "      <td>-5.555509</td>\n",
       "      <td>-0.346671</td>\n",
       "      <td>-2.221558</td>\n",
       "      <td>-5.004515</td>\n",
       "      <td>-0.833142</td>\n",
       "      <td>0</td>\n",
       "    </tr>\n",
       "    <tr>\n",
       "      <th>1</th>\n",
       "      <td>1.789649</td>\n",
       "      <td>1.088372</td>\n",
       "      <td>-0.230989</td>\n",
       "      <td>2.214075</td>\n",
       "      <td>-2.127782</td>\n",
       "      <td>-0.497370</td>\n",
       "      <td>0.714550</td>\n",
       "      <td>0.066437</td>\n",
       "      <td>-4.808627</td>\n",
       "      <td>0.007713</td>\n",
       "      <td>...</td>\n",
       "      <td>0.694528</td>\n",
       "      <td>-1.436457</td>\n",
       "      <td>0.309054</td>\n",
       "      <td>2.169434</td>\n",
       "      <td>-1.552412</td>\n",
       "      <td>1.481881</td>\n",
       "      <td>-1.861189</td>\n",
       "      <td>-0.666689</td>\n",
       "      <td>0.574386</td>\n",
       "      <td>0</td>\n",
       "    </tr>\n",
       "    <tr>\n",
       "      <th>2</th>\n",
       "      <td>-2.355643</td>\n",
       "      <td>2.218601</td>\n",
       "      <td>-1.603269</td>\n",
       "      <td>0.873394</td>\n",
       "      <td>0.401483</td>\n",
       "      <td>0.717264</td>\n",
       "      <td>-0.859399</td>\n",
       "      <td>-1.042190</td>\n",
       "      <td>-2.175965</td>\n",
       "      <td>0.980231</td>\n",
       "      <td>...</td>\n",
       "      <td>0.544434</td>\n",
       "      <td>-2.466258</td>\n",
       "      <td>-0.470256</td>\n",
       "      <td>0.073018</td>\n",
       "      <td>-2.203531</td>\n",
       "      <td>-2.299263</td>\n",
       "      <td>-1.742761</td>\n",
       "      <td>-0.271579</td>\n",
       "      <td>-0.359285</td>\n",
       "      <td>0</td>\n",
       "    </tr>\n",
       "    <tr>\n",
       "      <th>3</th>\n",
       "      <td>-1.596198</td>\n",
       "      <td>-0.857427</td>\n",
       "      <td>1.772434</td>\n",
       "      <td>-0.639361</td>\n",
       "      <td>1.419409</td>\n",
       "      <td>-0.438525</td>\n",
       "      <td>0.281949</td>\n",
       "      <td>2.345145</td>\n",
       "      <td>1.006230</td>\n",
       "      <td>0.389135</td>\n",
       "      <td>...</td>\n",
       "      <td>-1.025051</td>\n",
       "      <td>-2.422975</td>\n",
       "      <td>1.579807</td>\n",
       "      <td>-0.300713</td>\n",
       "      <td>4.267120</td>\n",
       "      <td>2.893775</td>\n",
       "      <td>1.236697</td>\n",
       "      <td>6.034785</td>\n",
       "      <td>-0.045711</td>\n",
       "      <td>0</td>\n",
       "    </tr>\n",
       "    <tr>\n",
       "      <th>4</th>\n",
       "      <td>2.840049</td>\n",
       "      <td>-2.489600</td>\n",
       "      <td>-0.844902</td>\n",
       "      <td>-1.594362</td>\n",
       "      <td>-4.688517</td>\n",
       "      <td>0.459637</td>\n",
       "      <td>0.913607</td>\n",
       "      <td>-1.143505</td>\n",
       "      <td>1.263937</td>\n",
       "      <td>-2.040928</td>\n",
       "      <td>...</td>\n",
       "      <td>4.176424</td>\n",
       "      <td>1.341742</td>\n",
       "      <td>0.133565</td>\n",
       "      <td>1.743819</td>\n",
       "      <td>1.531188</td>\n",
       "      <td>2.269808</td>\n",
       "      <td>0.053489</td>\n",
       "      <td>-3.151109</td>\n",
       "      <td>1.603702</td>\n",
       "      <td>0</td>\n",
       "    </tr>\n",
       "  </tbody>\n",
       "</table>\n",
       "<p>5 rows × 21 columns</p>\n",
       "</div>"
      ],
      "text/plain": [
       "   feature_0  feature_1  feature_2  feature_3  feature_4  feature_5  \\\n",
       "0   1.634005   0.090678  -0.786953   1.172431   2.259654   1.065964   \n",
       "1   1.789649   1.088372  -0.230989   2.214075  -2.127782  -0.497370   \n",
       "2  -2.355643   2.218601  -1.603269   0.873394   0.401483   0.717264   \n",
       "3  -1.596198  -0.857427   1.772434  -0.639361   1.419409  -0.438525   \n",
       "4   2.840049  -2.489600  -0.844902  -1.594362  -4.688517   0.459637   \n",
       "\n",
       "   feature_6  feature_7  feature_8  feature_9  ...  feature_11  feature_12  \\\n",
       "0   0.017832  -1.542546  -1.446147   0.234793  ...    0.857126    0.144281   \n",
       "1   0.714550   0.066437  -4.808627   0.007713  ...    0.694528   -1.436457   \n",
       "2  -0.859399  -1.042190  -2.175965   0.980231  ...    0.544434   -2.466258   \n",
       "3   0.281949   2.345145   1.006230   0.389135  ...   -1.025051   -2.422975   \n",
       "4   0.913607  -1.143505   1.263937  -2.040928  ...    4.176424    1.341742   \n",
       "\n",
       "   feature_13  feature_14  feature_15  feature_16  feature_17  feature_18  \\\n",
       "0    0.037567   -2.434007   -5.555509   -0.346671   -2.221558   -5.004515   \n",
       "1    0.309054    2.169434   -1.552412    1.481881   -1.861189   -0.666689   \n",
       "2   -0.470256    0.073018   -2.203531   -2.299263   -1.742761   -0.271579   \n",
       "3    1.579807   -0.300713    4.267120    2.893775    1.236697    6.034785   \n",
       "4    0.133565    1.743819    1.531188    2.269808    0.053489   -3.151109   \n",
       "\n",
       "   feature_19  target  \n",
       "0   -0.833142       0  \n",
       "1    0.574386       0  \n",
       "2   -0.359285       0  \n",
       "3   -0.045711       0  \n",
       "4    1.603702       0  \n",
       "\n",
       "[5 rows x 21 columns]"
      ]
     },
     "execution_count": 6,
     "metadata": {},
     "output_type": "execute_result"
    }
   ],
   "source": [
    "df=pd.read_csv('synthetic_imbalanced_dataset.csv')\n",
    "df.head()"
   ]
  },
  {
   "cell_type": "code",
   "execution_count": 8,
   "id": "6e18a215-9fb3-4bf7-9789-d294c5f50c6c",
   "metadata": {},
   "outputs": [],
   "source": [
    "x=df.drop('target',axis=1)\n",
    "y=df['target']"
   ]
  },
  {
   "cell_type": "code",
   "execution_count": 10,
   "id": "636b5baa-d93f-4971-8295-155381bec8a5",
   "metadata": {},
   "outputs": [
    {
     "name": "stdout",
     "output_type": "stream",
     "text": [
      "Data shape: (1000, 20)\n",
      "Target distribution:\n",
      " target\n",
      "0    843\n",
      "1    157\n",
      "Name: count, dtype: int64\n"
     ]
    }
   ],
   "source": [
    "print('Data shape:',x.shape)\n",
    "print('Target distribution:\\n',y.value_counts())"
   ]
  },
  {
   "cell_type": "markdown",
   "id": "d1c66c1d-8874-40a0-92f8-655f0302d620",
   "metadata": {},
   "source": [
    "### Cross-Validation witth SVM"
   ]
  },
  {
   "cell_type": "code",
   "execution_count": 13,
   "id": "26ef0e01-5c02-4aad-9cac-86f8624aa9c2",
   "metadata": {},
   "outputs": [
    {
     "name": "stdout",
     "output_type": "stream",
     "text": [
      "F1 scores across folds: [0.80769231 0.87272727 0.84210526 0.79245283 0.70588235]\n",
      "Mean F1 score: 0.8041720053414663\n"
     ]
    }
   ],
   "source": [
    "from sklearn.model_selection import StratifiedKFold,cross_val_score\n",
    "from sklearn.svm import SVC\n",
    "\n",
    "# SVM with default parameter\n",
    "svm=SVC()\n",
    "\n",
    "# Stratified K-Fold\n",
    "cv=StratifiedKFold(n_splits=5,shuffle=True,random_state=42)\n",
    "scores=cross_val_score(svm,x,y,scoring='f1',cv=cv)\n",
    "\n",
    "print('F1 scores across folds:',scores)\n",
    "print('Mean F1 score:',scores.mean())\n",
    "                  "
   ]
  },
  {
   "cell_type": "code",
   "execution_count": 15,
   "id": "efb143eb-17e5-42b5-aac8-3999831ef882",
   "metadata": {},
   "outputs": [
    {
     "name": "stdout",
     "output_type": "stream",
     "text": [
      "Best parameters: {'C': 10, 'gamma': 'scale', 'kernel': 'rbf'}\n",
      "Best F1 score: 0.8749985132322331\n"
     ]
    }
   ],
   "source": [
    "from sklearn.model_selection import GridSearchCV\n",
    "\n",
    "param_grid={\n",
    "    'C':[0.1,1,10],\n",
    "    'kernel':['linear','rbf'],\n",
    "    'gamma':['scale','auto']\n",
    "}\n",
    "\n",
    "grid=GridSearchCV(SVC(),param_grid,scoring='f1',cv=cv,n_jobs=-1) \n",
    "grid.fit(x,y)\n",
    "\n",
    "print('Best parameters:',grid.best_params_)\n",
    "print('Best F1 score:',grid.best_score_)"
   ]
  },
  {
   "cell_type": "markdown",
   "id": "9a61f76e-6acc-4c0e-8b91-dd237203bfa4",
   "metadata": {},
   "source": [
    "#### SMOTE (Synthetic Minority Oversampling Technique)"
   ]
  },
  {
   "cell_type": "code",
   "execution_count": 17,
   "id": "36552290-0d06-46dc-b178-405c3c6fb1b1",
   "metadata": {},
   "outputs": [
    {
     "name": "stderr",
     "output_type": "stream",
     "text": [
      "C:\\Users\\ACER\\anaconda3\\Lib\\site-packages\\joblib\\externals\\loky\\backend\\context.py:136: UserWarning: Could not find the number of physical cores for the following reason:\n",
      "[WinError 2] The system cannot find the file specified\n",
      "Returning the number of logical cores instead. You can silence this warning by setting LOKY_MAX_CPU_COUNT to the number of cores you want to use.\n",
      "  warnings.warn(\n",
      "  File \"C:\\Users\\ACER\\anaconda3\\Lib\\site-packages\\joblib\\externals\\loky\\backend\\context.py\", line 257, in _count_physical_cores\n",
      "    cpu_info = subprocess.run(\n",
      "               ^^^^^^^^^^^^^^^\n",
      "  File \"C:\\Users\\ACER\\anaconda3\\Lib\\subprocess.py\", line 548, in run\n",
      "    with Popen(*popenargs, **kwargs) as process:\n",
      "         ^^^^^^^^^^^^^^^^^^^^^^^^^^^\n",
      "  File \"C:\\Users\\ACER\\anaconda3\\Lib\\subprocess.py\", line 1026, in __init__\n",
      "    self._execute_child(args, executable, preexec_fn, close_fds,\n",
      "  File \"C:\\Users\\ACER\\anaconda3\\Lib\\subprocess.py\", line 1538, in _execute_child\n",
      "    hp, ht, pid, tid = _winapi.CreateProcess(executable, args,\n",
      "                       ^^^^^^^^^^^^^^^^^^^^^^^^^^^^^^^^^^^^^^^\n"
     ]
    },
    {
     "data": {
      "text/plain": [
       "target\n",
       "0    843\n",
       "1    157\n",
       "Name: count, dtype: int64"
      ]
     },
     "execution_count": 17,
     "metadata": {},
     "output_type": "execute_result"
    }
   ],
   "source": [
    "from imblearn.over_sampling import SMOTE\n",
    "from collections import Counter\n",
    "\n",
    "smote=SMOTE(random_state=42)\n",
    "x_res,y_res=smote.fit_resample(x,y)\n",
    "y.value_counts()"
   ]
  },
  {
   "cell_type": "code",
   "execution_count": null,
   "id": "bc8b96f7-7792-4950-a3e1-0bcaa376cef5",
   "metadata": {},
   "outputs": [],
   "source": []
  }
 ],
 "metadata": {
  "kernelspec": {
   "display_name": "Python [conda env:base] *",
   "language": "python",
   "name": "conda-base-py"
  },
  "language_info": {
   "codemirror_mode": {
    "name": "ipython",
    "version": 3
   },
   "file_extension": ".py",
   "mimetype": "text/x-python",
   "name": "python",
   "nbconvert_exporter": "python",
   "pygments_lexer": "ipython3",
   "version": "3.13.5"
  }
 },
 "nbformat": 4,
 "nbformat_minor": 5
}
