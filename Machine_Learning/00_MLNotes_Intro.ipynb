{
 "cells": [
  {
   "cell_type": "markdown",
   "id": "730d7b25-e8ff-4c14-bd0d-fdfeed65ae7e",
   "metadata": {},
   "source": [
    "#### Terminology in ML"
   ]
  },
  {
   "cell_type": "raw",
   "id": "e71e37e3-751f-4985-984d-23f1b965fe7b",
   "metadata": {},
   "source": [
    "Variable = Column = Feature\n",
    "\n",
    "In machine learning models:-\n",
    "Independent Variable = Input Variable/ Column or a set of input variables/ columns\n",
    "Dependent variable = Output Variable"
   ]
  },
  {
   "cell_type": "markdown",
   "id": "3d866af6-eb69-4cee-84c8-d865c538bdd2",
   "metadata": {},
   "source": [
    "#### Machine Learning Types"
   ]
  },
  {
   "cell_type": "raw",
   "id": "cf9e3fd7-8736-4648-9faa-5112f5c7ed6b",
   "metadata": {},
   "source": [
    "There are 4 types of Machine Learning\n",
    "\n",
    "1. Supervised ML:- Input and output labels are given\n",
    "- The algorithm learns from a labeled dataset, meaning each data point has a corresponding correct output or label.\n",
    "- The goal is to learn a mapping function from inputs to outputs, enabling the algorithm to predict the correct output for new, unseen data\n",
    "- Examples include predicting house prices based on features like size, location, and number of bedrooms (Linear regression - For Numerical data) or classifying emails as spam or not spam (classification - for Categorical data)\n",
    "- Common algorithms: Linear regression, logistic regression, decision trees, support vector machines\n",
    "\n",
    "2. Unsupervised Learning:-\n",
    "- Unsupervised learning deals with unlabeled data, where the algorithm must discover patterns, structures, or relationships within the data without prior guidance.\n",
    "- It focuses on tasks like clustering, dimensionality reduction, and anomaly detection.\n",
    "- Examples include grouping customers into different segments based on their purchasing behavior or reducing the number of features in a dataset while preserving most of the information.\n",
    "- Common algorithms: K-means clustering, hierarchical clustering, principal component analysis\n",
    "\n",
    "3. Semi-Supervised Learning:-\n",
    "- Semi-supervised learning combines aspects of both supervised and unsupervised learning. \n",
    "- It uses a small amount of labeled data and a larger amount of unlabeled data to train the model. \n",
    "- This approach is useful when labeling data is expensive or time-consuming, but unlabeled data is readily available.\n",
    "\n",
    "4. Reinforcement Learning:-\n",
    "- Reinforcement learning is a type of machine learning where an agent learns to make decisions in an environment to maximize a reward. \n",
    "- The agent learns through trial and error, receiving feedback (rewards or penalties) for its actions.\n",
    "- It's particularly useful for tasks like game playing, robotics, and control systems. \n",
    "- Common algorithms: Q-learning, deep Q-networks. "
   ]
  },
  {
   "cell_type": "markdown",
   "id": "fbb68dd3-15ae-4d10-b6ff-3d303b86e754",
   "metadata": {},
   "source": [
    "#### Train, Test and Split"
   ]
  },
  {
   "cell_type": "raw",
   "id": "9bc8f45c-0570-40fc-848f-7005264a20f0",
   "metadata": {},
   "source": [
    "Train, Test and Split:-\n",
    "\n",
    "The train_test_split function from the sklearn.model_selection module in scikit-learn is a fundamental tool for evaluating machine learning models. It divides a dataset into two distinct subsets:\n",
    "\n",
    "Training Set:\n",
    "This subset is used to train the machine learning model. The model learns patterns and relationships from this data.\n",
    "\n",
    "Testing Set:\n",
    "This subset is used to evaluate the trained model's performance on unseen data. It helps assess how well the model generalizes to new examples.\n",
    "\n",
    "Purpose:\n",
    "The primary purpose of train_test_split is to prevent overfitting and provide an unbiased estimate of a model's performance. By training on one part of the data and testing on another, you can determine if your model has truly learned generalizable patterns or if it has simply memorized the training data.\n",
    "\n",
    "Data is divided into 4 parts:-\n",
    "Xtr = Training input data\n",
    "Xte = Test input data\n",
    "Ytr = Training output data\n",
    "Yte = Test output data\n",
    "\n",
    "Note: All the input columns are represented by x(Training data), output is represented by y(Prediction data)."
   ]
  },
  {
   "cell_type": "code",
   "execution_count": null,
   "id": "49ba98c8-4674-43e1-b169-a56400e135d9",
   "metadata": {},
   "outputs": [],
   "source": []
  }
 ],
 "metadata": {
  "kernelspec": {
   "display_name": "Python [conda env:base] *",
   "language": "python",
   "name": "conda-base-py"
  },
  "language_info": {
   "codemirror_mode": {
    "name": "ipython",
    "version": 3
   },
   "file_extension": ".py",
   "mimetype": "text/x-python",
   "name": "python",
   "nbconvert_exporter": "python",
   "pygments_lexer": "ipython3",
   "version": "3.12.7"
  }
 },
 "nbformat": 4,
 "nbformat_minor": 5
}
