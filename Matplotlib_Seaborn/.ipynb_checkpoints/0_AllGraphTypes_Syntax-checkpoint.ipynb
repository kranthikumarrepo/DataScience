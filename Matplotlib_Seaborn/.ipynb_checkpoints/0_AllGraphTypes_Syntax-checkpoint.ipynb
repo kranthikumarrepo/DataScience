{
 "cells": [
  {
   "cell_type": "markdown",
   "id": "4bc7c79f-b30b-4d01-bc94-6e4deb94c1cb",
   "metadata": {},
   "source": [
    "#### Required Libraries\n",
    "\n",
    "- Note:- univarient - Analysis or modelling involving a single variable at a time."
   ]
  },
  {
   "cell_type": "raw",
   "id": "b3320e39-280f-464a-9b3e-c4dfc8cef212",
   "metadata": {},
   "source": [
    "%matplotlib inline >>> The code %matplotlib inline is a \"magic command\" specific to IPython environments, such as Jupyter Notebooks and JupyterLab. It is not standard Python syntax. Its purpose is to configure Matplotlib, a popular Python plotting library, to display plots directly within the output cells of the notebook or shell, rather than opening them in a separate window.\n",
    "\n",
    "import matplotlib.pyplot as plt\n",
    "\n",
    "# Use seaborn plotting defaults.\n",
    "import seaborn as sns; sns.set() >>> provides a quick way to enhance the visual quality of your plots without manually configuring numerous Matplotlib parameters\n",
    "\n",
    "Company = ['Google','Amazon','Facebook','Microsoft']\n",
    "Revenue = [90,136,89,27]\n",
    "\n",
    "# Common attributes for matplotlib\n",
    "plt.xlabel(\"Year\")\n",
    "plt.ylabel(\"Sales\")\n",
    "plt.title(\"Year wise sales\")\n",
    "plt.legend('lower left') # Distingushes two plots\n",
    "plt.grid()"
   ]
  },
  {
   "cell_type": "markdown",
   "id": "54a0fcaf-cda3-481e-a31e-854e6fbd9284",
   "metadata": {},
   "source": [
    "#### Seaborn library - is built on top of matplotlib library\n",
    "- Has more graphs\n",
    "- Simple to implement\n",
    "- Better aesthetics\n",
    "- Automatically labels the x and y axis\n",
    "- Has inbuilt datasets >>> sns.get_dataset_names()"
   ]
  },
  {
   "cell_type": "markdown",
   "id": "0264f0d5-c149-4f01-9ef6-79452fa4c4dd",
   "metadata": {},
   "source": [
    "#### To load inbuilt datasets from Seaborn\n",
    "\n",
    "tips_data = sns.load_dataset(\"tips\") >>> To load default datasets from seaborn\n",
    "\n",
    "#### To load from our own dataset\n",
    "df_excel = pd.read_excel(r\"C:\\Users\\ACER\\Desktop\\Kranthi\\DataScience_Desktop\\Python\\Pandas_Files\\InputFiles\\data_excel_4.xlsx\") >>> To load our own dataset.\n",
    "\n"
   ]
  },
  {
   "cell_type": "markdown",
   "id": "8044108a-5f92-4ba7-ab2d-bf2e3e32575f",
   "metadata": {},
   "source": [
    "#### figure and subplot from matplotlib"
   ]
  },
  {
   "cell_type": "markdown",
   "id": "9fc22ecd-791c-4fb3-b61f-7630fc04f43d",
   "metadata": {},
   "source": [
    "- <b>In Matplotlib, plt.figure() </b>is a function within the pyplot module that creates a new Figure object. The Figure object serves as the top-level container for all elements of a plot or visualization. It is essentially the entire window or canvas upon which all other plot components, such as axes, titles, labels, legends, and subplots, are drawn.\n",
    "- .\n",
    "- Creating a Figure:\n",
    "- .\n",
    "- Calling plt.figure() without arguments creates an empty figure. You can also assign it to a variable, e.g., fig = plt.figure(), to gain more control over the figure object.\n",
    "- .\n",
    "- Customization:\n",
    "- plt.figure() accepts various parameters to customize the figure's appearance, including:\n",
    "- figsize: Sets the width and height of the figure in inches.\n",
    "- dpi: Controls the resolution of the figure in dots per inch.\n",
    "- facecolor and edgecolor: Define the background and border colors of the figure.\n",
    "- num: Assigns a unique identifier to the figure, allowing you to manage multiple figures.\n",
    "- Ex: plt.figure(figsize=(16,5))\n",
    "- .\n",
    "- <b>In Matplotlib, plt.subplot() </b>is a function used to create a single subplot within a figure, allowing you to arrange multiple plots in a grid-like structure within the same figure window.\n",
    "- .\n",
    "- plt.subplot(nrows, ncols, index)\n",
    "- Parameters:\n",
    "- nrows: The number of rows in the subplot grid.\n",
    "- ncols: The number of columns in the subplot grid.\n",
    "- index: The index of the specific subplot you want to create or activate within the grid. Subplot indexing starts from 1 and proceeds row by row, from left to right.\n",
    "- plt.subplot(1,2,1) > For plot1\n",
    "- plt.subplot(1,2,2) > For plot2\n",
    "- .\n",
    "- The below code will draw two sub charts\n",
    "- plt.figure(figsize=(15,5))\n",
    "- plt.subplot(1,2,1)\n",
    "- plt.subplot(1,2,2)"
   ]
  },
  {
   "cell_type": "markdown",
   "id": "1ad113ea-1efb-43ce-b2c8-048eedfc5c42",
   "metadata": {},
   "source": [
    "#### Column chart"
   ]
  },
  {
   "cell_type": "raw",
   "id": "b2c54b88-39ee-4852-88b4-2ff80148e9bc",
   "metadata": {},
   "source": [
    "plt.bar(Company,Revenue)\n",
    "\n",
    "sns.barplot(x = Company, y = Revenue) Or sns.barplot(x = 'Column1', y = 'Column2',data = dataset_name, color='skyblue')"
   ]
  },
  {
   "cell_type": "markdown",
   "id": "9c0c09d1-8269-493e-90da-488cb31eb4bd",
   "metadata": {},
   "source": [
    "#### Bar Chart (Horizontal)"
   ]
  },
  {
   "cell_type": "raw",
   "id": "a42e9f23-7db7-426f-a228-11b16deb985e",
   "metadata": {},
   "source": [
    "plt.barh(Company,Revenue)\n",
    "\n",
    "sns.barplot(y = Company,x = Revenue, orient = 'h')"
   ]
  },
  {
   "cell_type": "markdown",
   "id": "1757453f-b733-4f48-a3bb-f2d7fe7f8330",
   "metadata": {},
   "source": [
    "#### Stacked Column Chart"
   ]
  },
  {
   "cell_type": "raw",
   "id": "c4fbb4f9-95b1-4dfb-a341-928ac17ccb92",
   "metadata": {},
   "source": [
    "plt.bar(Company,Revenue, label = \"Revenue\")\n",
    "plt.bar(Company,Profit, label = \"Profit\")\n",
    "\n",
    "# To convert a company name(Categorical column) to number - This helps while converting the chart to clustered charts\n",
    "Company2Nums = np.arange(len(Company))\n",
    "# To convert back the numbers to Categorical column\n",
    "plt.xticks(Company2Nums,Company)\n",
    "plt.bar(Company2Nums,Revenue)\n",
    "\n",
    "sns.barplot(x= Company,y = Revenue,orient='v')\n",
    "sns.barplot(x = Company,y = Profit, orient='v')"
   ]
  },
  {
   "cell_type": "markdown",
   "id": "3b9cd5fe-784e-4871-b2bc-2a9706ca1a0b",
   "metadata": {},
   "source": [
    "#### Stacked Bar Chart"
   ]
  },
  {
   "cell_type": "raw",
   "id": "a4981280-af6d-4c12-9f60-77db0b94adc7",
   "metadata": {},
   "source": [
    "plt.barh(Company,Revenue, label = \"Revenue\")\n",
    "plt.barh(Company,Profit, label = \"Profit\")\n",
    "\n",
    "sns.barplot(y= Company,x= Revenue,orient='h')\n",
    "sns.barplot(y=Company,x= Profit,orient='h')"
   ]
  },
  {
   "cell_type": "markdown",
   "id": "362be6cf-7fc3-4124-a0fa-c83b6506568f",
   "metadata": {},
   "source": [
    "#### Clustered Column chart"
   ]
  },
  {
   "cell_type": "raw",
   "id": "d21cdfde-53fd-49aa-9b56-2c2920fb1460",
   "metadata": {},
   "source": [
    "plt.bar(Company2Nums-0.4,Revenue,width=0.4,label=\"Revenue\")\n",
    "plt.bar(Company2Nums,Profit,width=0.4,label=\"Profit\")\n",
    "\n",
    "dataset.sns.barplot(x=\"day\", y=\"tip\", hue=\"time\", data=tips_data/df_excel)"
   ]
  },
  {
   "cell_type": "markdown",
   "id": "57fa09b9-02ef-493d-a75e-fc5996e85f5d",
   "metadata": {},
   "source": [
    "#### Clustered Bar Chart"
   ]
  },
  {
   "cell_type": "raw",
   "id": "3ef8e4b7-23b2-4ca0-aed7-c78b6fd580ff",
   "metadata": {},
   "source": [
    "plt.barh(Company2Nums-0.4,Revenue,height=0.4,label=\"Revenue\")\n",
    "plt.barh(Company2Nums,Profit,height=0.4,label=\"Profit\")\n",
    "\n",
    "sns.barplot(y=\"day\", x=\"tip\", hue=\"time\", orient='h',data=tips/df_excel)"
   ]
  },
  {
   "cell_type": "markdown",
   "id": "3aac5f34-7ceb-4d26-96ef-0cee51252860",
   "metadata": {},
   "source": [
    "#### Pie Chart"
   ]
  },
  {
   "cell_type": "raw",
   "id": "a6a459e7-50cb-4ba3-9a2f-3e983a4979db",
   "metadata": {},
   "source": [
    "plt.pie(Revenue,labels=Company, \n",
    "explode = [0,0.08,0,0], colors=['r','b','g','y'], shadow = True, radius = 0.8, startangle = 280, autopct='%0.2f%%')\n",
    "\n",
    "sns.?"
   ]
  },
  {
   "cell_type": "markdown",
   "id": "00496b84-f299-4730-82d9-d26c7c7b6738",
   "metadata": {},
   "source": [
    "#### Donut Chart"
   ]
  },
  {
   "cell_type": "raw",
   "id": "df9e7d3b-f106-43c0-94cf-088a01c5627c",
   "metadata": {},
   "source": [
    "plt.\n",
    "\n",
    "sns."
   ]
  },
  {
   "cell_type": "markdown",
   "id": "a3374409-4bc7-4e43-b519-d5b0e44ae57d",
   "metadata": {},
   "source": [
    "#### Line Chart"
   ]
  },
  {
   "cell_type": "raw",
   "id": "b743a685-1ec1-4cf4-8d34-26baa32cc5a2",
   "metadata": {},
   "source": [
    "year = [2015,2016,2017,2018,2019,2020,2021,2022,2023]\n",
    "sales = [22000,23000,12000,43000,23900,34300,22000,12234,50000]\n",
    "sales2 = [24000,29000,20000,29000,20900,30300,25000,19234,45000] >>> To add one more line chart in the same graph\n",
    "\n",
    "plt.plot(year,sales,color='r',linewidth=1,marker='o',markerfacecolor='r',markersize=5,linestyle='dashed')\n",
    "plt.plot(year,sales2,color='b', marker='8',linewidth=1, markersize=5) >>> To draw one more line in the same graph...\n",
    "\n",
    "Simple Syntax:- \n",
    "sns.lineplot(x=days, y=numbers)\n",
    "While Using DataFrames Syntax:-\n",
    "sns.lineplot(x=tips_data.total_bill, y=tips_data.tip, data = tips_dataframe/df_excel)\n",
    "Alternate Syntax while using DataFrames: Giving data = dataframeName is mandatory\n",
    "sns.lineplot(x='total_bill', y='tip', hue='sex',data = tips_dataframe/df_excel)\n",
    "To Create Multiple Line Charts in the same Graph:- Use hue parameter\n",
    "sns.lineplot(x=tips_data.total_bill, y=tips_data.tip, data = tips_dataframe, hue=tips_data.sex) >>> hue - Creates another line for another data point. "
   ]
  },
  {
   "cell_type": "markdown",
   "id": "4a2733d1-b8b1-4a55-84f0-d2eb54755903",
   "metadata": {},
   "source": [
    "#### Area Chart"
   ]
  },
  {
   "cell_type": "raw",
   "id": "895b614b-3390-405e-985a-86d0ee8e8230",
   "metadata": {},
   "source": [
    "plt.fill_between(year,sales,color='r',linewidth=1,linestyle='dashed')\n",
    "\n",
    "sns.lineplot(x=days, y=numbers, fill=True) >>> Throwing error because of fill parameter"
   ]
  },
  {
   "cell_type": "markdown",
   "id": "8541e6ad-7634-4382-afd0-8e6db72880ca",
   "metadata": {},
   "source": [
    "#### Scattered Plot"
   ]
  },
  {
   "cell_type": "raw",
   "id": "44ac01c5-0d28-4fe1-bdac-c420715f4a45",
   "metadata": {},
   "source": [
    "plt.scatter(days,numbers,color='r')\n",
    "\n",
    "sns.scatterplot(x='ID', y='Value', data=df_excel) >>> Basic scatterplot\n",
    "sns.scatterplot(x='ID', y='Value', hue='Category', data=df_excel, size=99) >>> To create scatterplot with different categories with different colors"
   ]
  },
  {
   "cell_type": "markdown",
   "id": "14e0732a-5756-476f-853d-593673997997",
   "metadata": {},
   "source": [
    "#### Count Plot"
   ]
  },
  {
   "cell_type": "raw",
   "id": "144887a2-a5ee-4cac-b1c0-1883994701cd",
   "metadata": {},
   "source": [
    "Since there is no direct function to create a countplot using Matplotlib, first count and store the day wise values in a variable\n",
    "daywise_counts = tips_data.day.value_counts()\n",
    "plt.bar(daywise_counts.index, daywise_counts.values)\n",
    "\n",
    "sns.countplot(x='day',data=tips_data)\n",
    "sns.countplot(x='day', hue='sex', data=tips_data) >>> To create seperate count bars for male and female on the same graph"
   ]
  },
  {
   "cell_type": "markdown",
   "id": "7a445087-4c13-4a0c-a2b5-284de70fa515",
   "metadata": {},
   "source": [
    "####  Box Plot"
   ]
  },
  {
   "cell_type": "raw",
   "id": "dc3e91e0-14cd-4f6a-b990-8041b11dc700",
   "metadata": {},
   "source": [
    "plt.boxplot(tips_data.tip)\n",
    "\n",
    "sns.boxplot(x = tips_data.tip, data = tips_data)"
   ]
  },
  {
   "cell_type": "markdown",
   "id": "b18a6fde-6092-4062-8848-f1f3d8c5cae0",
   "metadata": {},
   "source": [
    "#### Violin Plot"
   ]
  },
  {
   "cell_type": "raw",
   "id": "e3098c1d-f513-4d33-a921-0d934f8be5b0",
   "metadata": {},
   "source": [
    "plt.violinplot(tips_data.tip)\n",
    "\n",
    "sns.violinplot(x = tips_data.tip, data = tips_data)"
   ]
  },
  {
   "cell_type": "markdown",
   "id": "51be53af-2b05-4c95-bed0-0a126a300bbd",
   "metadata": {},
   "source": [
    "#### Strip Plot"
   ]
  },
  {
   "cell_type": "raw",
   "id": "0f832eda-5aed-4142-978a-0f4fcc227412",
   "metadata": {},
   "source": [
    "sns.stripplot(x=tips_data.time,y=tips_data.total_bill,hue=tips_data.sex,data = tips_data)"
   ]
  },
  {
   "cell_type": "markdown",
   "id": "e2cdda88-0a10-4d22-91c3-aa7beb3dd0fa",
   "metadata": {},
   "source": [
    "#### Histogram\n",
    "- Note:- Only this graph can show the column we have on x axis and its count on y axis(Even though we do not have the counts)"
   ]
  },
  {
   "cell_type": "raw",
   "id": "fd82546b-4d63-4999-8452-910f930c7687",
   "metadata": {},
   "source": [
    "plt.hist(tips_data.total_bill, bins=10)\n",
    "\n",
    "sns.histplot(x=tips_data.total_bill,data=tips_data,bins=10)"
   ]
  },
  {
   "cell_type": "markdown",
   "id": "288eaa5a-5bfd-4038-b402-b3fd2e4c6890",
   "metadata": {},
   "source": [
    "#### KDE"
   ]
  },
  {
   "cell_type": "raw",
   "id": "d5d007b7-6137-465e-ba13-79f91c46a953",
   "metadata": {},
   "source": [
    "plt. not available\n",
    "\n",
    "sns.histplot(x=tips_data.total_bill,data=tips_data, bins = 10, kde=True) >>> Indrect way to create, both histogram and KDE are generated\n",
    "sns.kdeplot(x=tips_data.total_bill, levels=15,data=tips_data) >>> by using direct function, here histogram is not created"
   ]
  },
  {
   "cell_type": "markdown",
   "id": "882f5c98-c0f5-4dad-a7df-5cc0105d63a3",
   "metadata": {},
   "source": [
    "#### Distribution Plot"
   ]
  },
  {
   "cell_type": "raw",
   "id": "38caa297-9989-4b8e-96df-7030bcf5081b",
   "metadata": {},
   "source": [
    "sns.distplot(x = Placement_DF.cgpa) >>> Obsolete\n",
    "sns.displot(x = Placement_DF.cgpa, kind='kde')\n",
    "sns.histplot(x = Placement_DF.cgpa, kde=True)"
   ]
  },
  {
   "cell_type": "markdown",
   "id": "d8f22e35-1950-497d-9bde-5bfe34487bf1",
   "metadata": {},
   "source": [
    "#### Heat Map (On CoRelation)"
   ]
  },
  {
   "cell_type": "raw",
   "id": "47535ecd-e777-4c26-9b9c-e64a99d0892a",
   "metadata": {},
   "source": [
    "To Calculate CoRelation Matrix:-\n",
    "Any two columns - CoR_Distance_Total = np.corrcoef(taxis_data.distance,taxis_data.total)\n",
    "All numerica columns - CoR_All_Cols_taxis_data_numeric = taxis_data.corr(numeric_only=True)\n",
    "\n",
    "To Generate Heat Map:-\n",
    "sns.heatmap(CoR_Distance_Tip,annot=True)\n",
    "sns.heatmap(CoR_All_Cols_taxis_data_numeric,annot=True)\n",
    "\n",
    "https://www.youtube.com/watch?v=J5bXOOmkopc&t=2s >>> 13th Minute - Heat map for confusion matrix"
   ]
  },
  {
   "cell_type": "markdown",
   "id": "685ddd29-d0c1-40fc-a75b-c296f16b32e3",
   "metadata": {},
   "source": [
    "#### Regression Line Plot"
   ]
  },
  {
   "cell_type": "raw",
   "id": "44555861-b4ec-4cfe-9ea1-e9007accc7a1",
   "metadata": {},
   "source": [
    "sns.regplot(x='Feature', y='Target',data = pd_simple_linear_noisy_nodups_nonulls)"
   ]
  },
  {
   "cell_type": "markdown",
   "id": "1ac83733-c34f-4e7a-9a41-86b45711abac",
   "metadata": {},
   "source": [
    "#### Pair Plot"
   ]
  },
  {
   "cell_type": "raw",
   "id": "2d019806-727b-40f1-94b8-2be80a02bce5",
   "metadata": {},
   "source": [
    "sns.pairplot(tips_data)"
   ]
  },
  {
   "cell_type": "markdown",
   "id": "50fff52c-f8a1-4725-b249-a841bf33580e",
   "metadata": {},
   "source": [
    "#### Table Chart"
   ]
  },
  {
   "cell_type": "code",
   "execution_count": null,
   "id": "169fa42c-2e7c-41c8-aac2-d1258d67ed93",
   "metadata": {},
   "outputs": [],
   "source": []
  },
  {
   "cell_type": "markdown",
   "id": "31366c7f-fe0a-4b0b-8002-4b0166526e2d",
   "metadata": {},
   "source": [
    "#### CrossTab\n",
    "- pandas.crosstab(df.Col1,df.Col2)\n",
    "- More details in 8_Pandas_GraphsKind_Crosstab_HeatMap file"
   ]
  },
  {
   "cell_type": "markdown",
   "id": "058d21ce-545b-402b-ab47-9adb33eade95",
   "metadata": {},
   "source": [
    "#### Notes:- Graphs using Pandas Library\n",
    "- We can also draw graphs using Pandas library using the\n",
    "- Syntax:-\n",
    "- dataframe.plot(x= Col1, y = Col2, kind='...') >>> On multiple columns\n",
    "- dataframe.Column_Name.plot(kind='...') >>> On single column\n",
    "- More details in 8_Pandas_GraphsKind_Crosstab_HeatMap file"
   ]
  },
  {
   "cell_type": "code",
   "execution_count": null,
   "id": "6c4d6bb6-998c-43fe-855f-6ab385023eb1",
   "metadata": {},
   "outputs": [],
   "source": []
  }
 ],
 "metadata": {
  "kernelspec": {
   "display_name": "Python [conda env:base] *",
   "language": "python",
   "name": "conda-base-py"
  },
  "language_info": {
   "codemirror_mode": {
    "name": "ipython",
    "version": 3
   },
   "file_extension": ".py",
   "mimetype": "text/x-python",
   "name": "python",
   "nbconvert_exporter": "python",
   "pygments_lexer": "ipython3",
   "version": "3.12.7"
  }
 },
 "nbformat": 4,
 "nbformat_minor": 5
}
