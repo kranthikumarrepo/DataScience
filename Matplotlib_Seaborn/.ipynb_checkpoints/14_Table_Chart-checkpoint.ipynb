{
 "cells": [
  {
   "cell_type": "markdown",
   "id": "8f5531de-6371-4d6e-81ff-a8376d7c0109",
   "metadata": {},
   "source": [
    "### Pending\n",
    "- Table chart using matplotlib and seaborn\n",
    "- Also update in 0_AllGraphTypes_Syntax once all are done."
   ]
  },
  {
   "cell_type": "code",
   "execution_count": null,
   "id": "d6bf4efe-18a4-461e-8ea0-914957204028",
   "metadata": {},
   "outputs": [],
   "source": []
  }
 ],
 "metadata": {
  "kernelspec": {
   "display_name": "Python [conda env:base] *",
   "language": "python",
   "name": "conda-base-py"
  },
  "language_info": {
   "codemirror_mode": {
    "name": "ipython",
    "version": 3
   },
   "file_extension": ".py",
   "mimetype": "text/x-python",
   "name": "python",
   "nbconvert_exporter": "python",
   "pygments_lexer": "ipython3",
   "version": "3.12.7"
  }
 },
 "nbformat": 4,
 "nbformat_minor": 5
}
