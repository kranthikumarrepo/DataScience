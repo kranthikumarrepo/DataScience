{
 "cells": [
  {
   "cell_type": "markdown",
   "id": "179b74f2-3968-45ca-9645-e5f83c2e6739",
   "metadata": {},
   "source": [
    "### Functions\n",
    "- A function is a block of code which only runs when it is called.\n",
    "- You can pass data, known as parameters, into a function.\n",
    "- A function can return data as a result.\n",
    "- Block of code to perform a task (repeated task), hence it increases code reusability.\n",
    "- Tyes of functions:\n",
    "- 1. Built-in-functions      - these functions are pre-defined by python developers.\n",
    "- 2. User defined functions  - functions defined by the user.\n",
    "-          function is defined using the def keyword:\n",
    "-          Syntax - def function_name(arguments,.....):\n",
    "-                   set of statements\n",
    "-          Note: Argument need not have data type defined, it changes its data type as per the argument value we pass while calling.\n",
    "- 3. Anonymous functions     - nameless functoin, Lambda function\n",
    "-          Syntax - lambda arg1,arg2,.... : statement\n",
    "- By default, a function must be called with the correct number of arguments. Meaning that if your function expects 2 arguments, you have to call the function with 2 arguments, not more, and not less.\n",
    "- <b>*args</b> - Arbitrary arguments - Use when we do not know the number of arguments we pass while calling the function.\n",
    "- <b> kwargs </b> - Keyword arguments - Assign the values to the arguments, while passing the arguments.\n",
    "- <b> **kwargs </b> - Arbitrary Keyword Arguments - When we do not know the number of keyword arguments we pass with the values while calling the function.\n",
    "- <b> default parameter values </b>\n",
    "- Pass list, tuple, set, dictionary as arguments.\n",
    "- <b>Return values</b> from a function using return keyword.\n",
    "- <b>Recursion </b> A function calling itself."
   ]
  },
  {
   "cell_type": "markdown",
   "id": "a090e50a-69d7-45b8-9d6e-d0040dcf5671",
   "metadata": {},
   "source": [
    "#### Build-in Function"
   ]
  },
  {
   "cell_type": "code",
   "execution_count": 2,
   "id": "8cbea968-73b5-4536-b766-2f55728e3974",
   "metadata": {},
   "outputs": [
    {
     "name": "stdout",
     "output_type": "stream",
     "text": [
      "This is a built in function\n"
     ]
    }
   ],
   "source": [
    "# Built in functions, example print\n",
    "\n",
    "print('This is a built in function')"
   ]
  },
  {
   "cell_type": "markdown",
   "id": "9cfed2f0-231e-4da1-9a31-5fe43f0cdd72",
   "metadata": {},
   "source": [
    "#### User defined functions"
   ]
  },
  {
   "cell_type": "code",
   "execution_count": 5,
   "id": "7076d2ae-d8b6-413e-9fb3-da82320c1bb5",
   "metadata": {},
   "outputs": [
    {
     "name": "stdout",
     "output_type": "stream",
     "text": [
      "This is a function, name is func_name \n"
     ]
    }
   ],
   "source": [
    "# User defined function, name it as func_name\n",
    "\n",
    "# Defining a function\n",
    "def func_name():\n",
    "    print('This is a function, name is func_name ')\n",
    "func_name()"
   ]
  },
  {
   "cell_type": "code",
   "execution_count": 219,
   "id": "5a8d4dcb-efa1-418b-b5ca-0594f95a7458",
   "metadata": {},
   "outputs": [],
   "source": [
    "# Function with pass statement\n",
    "\n",
    "def dummy_fun():\n",
    "    pass\n",
    "\n",
    "dummy_fun()"
   ]
  },
  {
   "cell_type": "code",
   "execution_count": 7,
   "id": "3a0e668a-6b70-4ece-8dcb-42c329891e64",
   "metadata": {},
   "outputs": [
    {
     "name": "stdout",
     "output_type": "stream",
     "text": [
      "This is a function, name is func_name \n"
     ]
    }
   ],
   "source": [
    "# Calling the function \n",
    "func_name()"
   ]
  },
  {
   "cell_type": "code",
   "execution_count": 15,
   "id": "eccb0b98-e7c3-4691-b3ca-029b533bb5bd",
   "metadata": {},
   "outputs": [
    {
     "name": "stdout",
     "output_type": "stream",
     "text": [
      "This is a function, name is func_name \n"
     ]
    }
   ],
   "source": [
    "# User defined function, name it as func_name\n",
    "\n",
    "def func_name():\n",
    "    print('This is a function, name is func_name ')\n",
    "func_name()"
   ]
  },
  {
   "cell_type": "code",
   "execution_count": 5,
   "id": "2c1254ed-d8dc-49f2-80a6-2662f161c688",
   "metadata": {},
   "outputs": [
    {
     "name": "stdout",
     "output_type": "stream",
     "text": [
      "This is a Func with no argument and no return value\n"
     ]
    }
   ],
   "source": [
    "# Function with no argument and no return value\n",
    "def func():\n",
    "    print('This is a Func with no argument and no return value')\n",
    "func()"
   ]
  },
  {
   "cell_type": "code",
   "execution_count": 27,
   "id": "9110e9e6-8991-4cdb-86eb-1a063f752913",
   "metadata": {},
   "outputs": [
    {
     "name": "stdout",
     "output_type": "stream",
     "text": [
      "Given value is  1\n",
      "Given value is  kk\n",
      "Given value is  (2+3j)\n",
      "Given value is  {'a': 1, 'b': 2}\n"
     ]
    }
   ],
   "source": [
    "# Function with one argument and no return value\n",
    "\n",
    "def op_value(a):\n",
    "    print('Given value is ',a)\n",
    "op_value(1)\n",
    "op_value('kk')\n",
    "op_value(2+3j)\n",
    "op_value({'a':1,'b':2})"
   ]
  },
  {
   "cell_type": "code",
   "execution_count": 20,
   "id": "68407f25-a06d-4d57-969c-6b1c733a3eb7",
   "metadata": {},
   "outputs": [
    {
     "name": "stdout",
     "output_type": "stream",
     "text": [
      "Given a value is  1  Given b value is  kk\n",
      "Given a value is  (2, 3)  Given b value is  [2, 3]\n",
      "Given a value is  (2+3j)  Given b value is  True\n",
      "Given a value is  {'a': 1, 'b': 2}  Given b value is  {2, 3}\n"
     ]
    }
   ],
   "source": [
    "# Function with two arguments and no return value\n",
    "\n",
    "def op_values(a,b):\n",
    "    print('Given a value is ',a, ' Given b value is ',b)\n",
    "op_values(1,'kk')\n",
    "op_values((2,3),[2,3])\n",
    "op_values(2+3j,True)\n",
    "op_values({'a':1,'b':2},{2,3})"
   ]
  },
  {
   "cell_type": "code",
   "execution_count": 24,
   "id": "4db87388-ac56-4e24-bfcb-ac54a96217a5",
   "metadata": {},
   "outputs": [
    {
     "name": "stdout",
     "output_type": "stream",
     "text": [
      "Given a value is  1  its type is  <class 'int'>  Given b value is  kk  its type is  <class 'str'>\n",
      "Given a value is  (2, 3)  its type is  <class 'tuple'>  Given b value is  [2, 3]  its type is  <class 'list'>\n",
      "Given a value is  (2+3j)  its type is  <class 'complex'>  Given b value is  True  its type is  <class 'bool'>\n",
      "Given a value is  {'a': 1, 'b': 2}  its type is  <class 'dict'>  Given b value is  {2, 3}  its type is  <class 'set'>\n"
     ]
    }
   ],
   "source": [
    "# Function with two arguments and no return value. Print the data type of the values passed.\n",
    "\n",
    "def op_values(a,b):\n",
    "    print('Given a value is ',a, ' its type is ',type(a), ' Given b value is ',b,' its type is ',type(b))\n",
    "op_values(1,'kk')\n",
    "op_values((2,3),[2,3])\n",
    "op_values(2+3j,True)\n",
    "op_values({'a':1,'b':2},{2,3})"
   ]
  },
  {
   "cell_type": "code",
   "execution_count": 46,
   "id": "21b1a8c8-88cc-40ea-9ec8-0c176740e807",
   "metadata": {},
   "outputs": [
    {
     "name": "stdout",
     "output_type": "stream",
     "text": [
      "6\n"
     ]
    },
    {
     "data": {
      "text/plain": [
       "6"
      ]
     },
     "execution_count": 46,
     "metadata": {},
     "output_type": "execute_result"
    }
   ],
   "source": [
    "# Func with no input argument but return a value\n",
    "\n",
    "def func_a():\n",
    "    a = 3\n",
    "    return a*2\n",
    "\n",
    "# Since the function returns a value, store the value in b and print it.\n",
    "b = func_a()\n",
    "print(b)\n",
    "\n",
    "# We need not even store the return value, just callling is enough\n",
    "func_a()"
   ]
  },
  {
   "cell_type": "code",
   "execution_count": 48,
   "id": "970489c5-9911-4a97-9b62-b026042578db",
   "metadata": {},
   "outputs": [
    {
     "name": "stdin",
     "output_type": "stream",
     "text": [
      "Enter a number  7\n"
     ]
    },
    {
     "data": {
      "text/plain": [
       "14"
      ]
     },
     "execution_count": 48,
     "metadata": {},
     "output_type": "execute_result"
    }
   ],
   "source": [
    "# Function with no input argument, but return value. Accept number from the user and prints input value * 2\n",
    "\n",
    "def user_inp():\n",
    "    a = int(input('Enter a number '))\n",
    "    return a*2\n",
    "user_inp()"
   ]
  },
  {
   "cell_type": "code",
   "execution_count": 50,
   "id": "9c1cb017-d8e7-4c22-9cb6-8ae9f5dd6abd",
   "metadata": {},
   "outputs": [
    {
     "data": {
      "text/plain": [
       "81"
      ]
     },
     "execution_count": 50,
     "metadata": {},
     "output_type": "execute_result"
    }
   ],
   "source": [
    "# Function with input argument and return value. \n",
    "# Number as input argument, calculate its square and reutn the output.\n",
    "\n",
    "def fun_sqrt(a):\n",
    "    return a**2\n",
    "fun_sqrt(9)"
   ]
  },
  {
   "cell_type": "code",
   "execution_count": 78,
   "id": "0585cb63-2e77-459c-80a9-128a501d7bba",
   "metadata": {},
   "outputs": [
    {
     "name": "stdin",
     "output_type": "stream",
     "text": [
      "Enter the radius of the circle  2\n"
     ]
    },
    {
     "name": "stdout",
     "output_type": "stream",
     "text": [
      "Radius of the circle with input Radius of  2  is  12.56\n"
     ]
    }
   ],
   "source": [
    "# Write a function to calculate the area of the circle. Take radius as input\n",
    "# Return the area of the circle.\n",
    "# Accept the radius of the circle from the user in the main module.\n",
    "\n",
    "def fun_area_circle(r):\n",
    "    return 3.14*r*r\n",
    "\n",
    "rad = int(input(\"Enter the radius of the circle \"))\n",
    "area = fun_area_circle(rad)\n",
    "print(\"Radius of the circle with input Radius of \", rad, ' is ', area)"
   ]
  },
  {
   "cell_type": "code",
   "execution_count": 60,
   "id": "7bdeb209-8aa7-4cc9-a1d7-b5f47bd97fd5",
   "metadata": {},
   "outputs": [],
   "source": [
    "# Write a function to calculate the peremeter of the square. Take side as input\n",
    "# Return the peremeter of the square.\n",
    "\n",
    "def per_sq(s):\n",
    "    peremeter = 4*s\n",
    "    return peremeter"
   ]
  },
  {
   "cell_type": "code",
   "execution_count": 64,
   "id": "3ce20ee1-c5ab-4f76-98f8-a41c67bd6f04",
   "metadata": {},
   "outputs": [
    {
     "name": "stdin",
     "output_type": "stream",
     "text": [
      "Enter the side of the square  8\n"
     ]
    },
    {
     "name": "stdout",
     "output_type": "stream",
     "text": [
      "Perimeter of the square is  32\n"
     ]
    }
   ],
   "source": [
    "# Accept the side of the square from the user in the main module.\n",
    "\n",
    "side = int(input(\"Enter the side of the square \"))\n",
    "peremeter = per_sq(side)\n",
    "print(\"Perimeter of the square is \",peremeter)"
   ]
  },
  {
   "cell_type": "code",
   "execution_count": 68,
   "id": "fcd94d9b-aef2-42b3-ab9c-5381e54a798e",
   "metadata": {},
   "outputs": [
    {
     "name": "stdout",
     "output_type": "stream",
     "text": [
      "Name is  kk\n",
      "User id is  akk.yahoo\n",
      "Address is  5-4-655/1\n"
     ]
    }
   ],
   "source": [
    "# Write a function to print name, user id and address sent from the main module\n",
    "\n",
    "def print_values(name,uid,address):\n",
    "    print(\"Name is \" ,name)\n",
    "    print(\"User id is \",uid)\n",
    "    print(\"Address is \",address)\n",
    "\n",
    "print_values('kk','akk.yahoo','5-4-655/1')"
   ]
  },
  {
   "cell_type": "code",
   "execution_count": 76,
   "id": "c95d715b-7053-46ef-ac66-d4409ba3fa7d",
   "metadata": {},
   "outputs": [
    {
     "name": "stdin",
     "output_type": "stream",
     "text": [
      "Enter your age 18.1\n"
     ]
    },
    {
     "name": "stdout",
     "output_type": "stream",
     "text": [
      "Your age is  18.1  and you're eligible for voting\n"
     ]
    }
   ],
   "source": [
    "# Write a function to accept age from the user \n",
    "# If age >= 18, print eligible for voting, else print not eligible.\n",
    "\n",
    "def vote_qualified(inp_age):\n",
    "    if inp_age >= 18:\n",
    "        print(\"Your age is \",inp_age,\" and you're eligible for voting\")\n",
    "    else:\n",
    "        print(\"Your age is \",inp_age,\" so you're not eligible for voting\")\n",
    "\n",
    "age = float(input(\"Enter your age\"))\n",
    "vote_qualified(age)"
   ]
  },
  {
   "cell_type": "markdown",
   "id": "14e60d0c-2994-4bb8-92a7-1069e5803b6d",
   "metadata": {},
   "source": [
    "### *args - Arbitrary arguments\n",
    "- Syntax - *any_name\n",
    "- If you do not know how many arguments that will be passed into your function, add a * before the parameter name in the function definition.\n",
    "- This way the function will receive a tuple of arguments, and can access the items accordingly.\n",
    "- Arbitrary Arguments are often shortened to <b>*args</b> in Python documentations."
   ]
  },
  {
   "cell_type": "code",
   "execution_count": 72,
   "id": "9bcbba4c-9414-49c1-a929-0ca70f0de160",
   "metadata": {},
   "outputs": [
    {
     "name": "stdout",
     "output_type": "stream",
     "text": [
      "Argument at index 1 is Tobias and \n",
      " Argument at index 2 is Linus\n",
      "Argument at index 1 is Tobias and \n",
      " Argument at index 2 is Linus\n"
     ]
    },
    {
     "ename": "IndexError",
     "evalue": "tuple index out of range",
     "output_type": "error",
     "traceback": [
      "\u001b[1;31m---------------------------------------------------------------------------\u001b[0m",
      "\u001b[1;31mIndexError\u001b[0m                                Traceback (most recent call last)",
      "Cell \u001b[1;32mIn[72], line 6\u001b[0m\n\u001b[0;32m      4\u001b[0m my_function(\u001b[38;5;124m\"\u001b[39m\u001b[38;5;124mEmil\u001b[39m\u001b[38;5;124m\"\u001b[39m, \u001b[38;5;124m\"\u001b[39m\u001b[38;5;124mTobias\u001b[39m\u001b[38;5;124m\"\u001b[39m, \u001b[38;5;124m\"\u001b[39m\u001b[38;5;124mLinus\u001b[39m\u001b[38;5;124m\"\u001b[39m,\u001b[38;5;124m\"\u001b[39m\u001b[38;5;124mtest\u001b[39m\u001b[38;5;124m\"\u001b[39m)\n\u001b[0;32m      5\u001b[0m my_function(\u001b[38;5;124m\"\u001b[39m\u001b[38;5;124mEmil\u001b[39m\u001b[38;5;124m\"\u001b[39m, \u001b[38;5;124m\"\u001b[39m\u001b[38;5;124mTobias\u001b[39m\u001b[38;5;124m\"\u001b[39m, \u001b[38;5;124m\"\u001b[39m\u001b[38;5;124mLinus\u001b[39m\u001b[38;5;124m\"\u001b[39m)\n\u001b[1;32m----> 6\u001b[0m my_function(\u001b[38;5;124m\"\u001b[39m\u001b[38;5;124mEmil\u001b[39m\u001b[38;5;124m\"\u001b[39m)\n",
      "Cell \u001b[1;32mIn[72], line 2\u001b[0m, in \u001b[0;36mmy_function\u001b[1;34m(*kids)\u001b[0m\n\u001b[0;32m      1\u001b[0m \u001b[38;5;28;01mdef\u001b[39;00m \u001b[38;5;21mmy_function\u001b[39m(\u001b[38;5;241m*\u001b[39mkids):\n\u001b[1;32m----> 2\u001b[0m     \u001b[38;5;28mprint\u001b[39m(\u001b[38;5;124m\"\u001b[39m\u001b[38;5;124mArgument at index 1 is \u001b[39m\u001b[38;5;124m\"\u001b[39m \u001b[38;5;241m+\u001b[39m kids[\u001b[38;5;241m1\u001b[39m] \u001b[38;5;241m+\u001b[39m \u001b[38;5;124m\"\u001b[39m\u001b[38;5;124m and \u001b[39m\u001b[38;5;130;01m\\n\u001b[39;00m\u001b[38;5;124m Argument at index 2 is \u001b[39m\u001b[38;5;124m\"\u001b[39m \u001b[38;5;241m+\u001b[39m kids[\u001b[38;5;241m2\u001b[39m])\n",
      "\u001b[1;31mIndexError\u001b[0m: tuple index out of range"
     ]
    }
   ],
   "source": [
    "def my_function(*kids):\n",
    "    print(\"Argument at index 1 is \" + kids[1] + \" and \\n Argument at index 2 is \" + kids[2])\n",
    "\n",
    "my_function(\"Emil\", \"Tobias\", \"Linus\",\"test\")\n",
    "my_function(\"Emil\", \"Tobias\", \"Linus\")\n",
    "my_function(\"Emil\") # Error as my_function is expecting arguments at index 1 and 2, but we passed only 1 argument."
   ]
  },
  {
   "cell_type": "markdown",
   "id": "4f7e97d4-7d76-4420-a971-3a21631fa4c3",
   "metadata": {},
   "source": [
    "#### Count the arguments passed"
   ]
  },
  {
   "cell_type": "code",
   "execution_count": 84,
   "id": "b8cf9f8f-7f3c-4a86-a965-2d5979e08cff",
   "metadata": {},
   "outputs": [
    {
     "name": "stdout",
     "output_type": "stream",
     "text": [
      "Number of arguments passed is  4\n",
      "Argument at index 1 is Tobias and \n",
      " Argument at index 2 is Linus\n",
      "Number of arguments passed is  3\n",
      "Argument at index 1 is Tobias and \n",
      " Argument at index 2 is Linus\n",
      "Number of arguments passed is  1\n",
      "Argument at index 0 is Emil\n",
      "Number of arguments passed is  0\n",
      "No arguments passed\n"
     ]
    }
   ],
   "source": [
    "# Get the count of the arguments passed and then refer them \n",
    "\n",
    "def my_function(*kids):\n",
    "    no_of_args = len(kids)\n",
    "    print(\"Number of arguments passed is \", no_of_args)\n",
    "    if no_of_args >= 2:\n",
    "        print(\"Argument at index 1 is \" + kids[1] + \" and \\n Argument at index 2 is \" + kids[2])\n",
    "    elif no_of_args == 1:\n",
    "        print(\"Argument at index 0 is \" + kids[0])\n",
    "    else:\n",
    "        print(\"No arguments passed\")\n",
    "\n",
    "my_function(\"Emil\", \"Tobias\", \"Linus\",\"test\")\n",
    "my_function(\"Emil\", \"Tobias\", \"Linus\")\n",
    "my_function(\"Emil\")\n",
    "my_function()"
   ]
  },
  {
   "cell_type": "markdown",
   "id": "800922b9-6f9c-48a9-aac8-62520a16667e",
   "metadata": {},
   "source": [
    "#### kwargs - Keyword arguments - Assign the values while passing the arguments\n",
    "- You can also send arguments with the <b>key = value</b> syntax. This way the order of the arguments does not matter.\n",
    "- Positional argument - Parameter that is passed without the variable name\n",
    "- Keyword argument - Parameter that is passed with the variable name\n",
    "- The phrase Keyword Arguments are often shortened to <b>kwargs</b> in Python documentation"
   ]
  },
  {
   "cell_type": "code",
   "execution_count": 98,
   "id": "97eef120-9f8f-4b55-b06e-ab8150b9ce2f",
   "metadata": {},
   "outputs": [
    {
     "name": "stdout",
     "output_type": "stream",
     "text": [
      "The youngest child is Linus\n"
     ]
    }
   ],
   "source": [
    "def my_function(child3, child2, child1):\n",
    "  print(\"The youngest child is \" + child3)\n",
    "\n",
    "my_function(child1 = \"Emil\", child2 = \"Tobias\", child3 = \"Linus\")"
   ]
  },
  {
   "cell_type": "code",
   "execution_count": 108,
   "id": "5293c86f-9b12-45ce-9e96-cd193089cffb",
   "metadata": {},
   "outputs": [
    {
     "name": "stdout",
     "output_type": "stream",
     "text": [
      "The youngest child is Linus\n",
      "The youngest child is Emil\n"
     ]
    }
   ],
   "source": [
    "def my_function(child3, child2, child1):\n",
    "  print(\"The youngest child is \" + child3)\n",
    "\n",
    "my_function(child1 = \"Emil\", child2 = \"Tobias\", child3 = \"Linus\")\n",
    "my_function(\"Emil\", child1 = \"Lunus\", child2 = \"Tobias\")"
   ]
  },
  {
   "cell_type": "code",
   "execution_count": 110,
   "id": "196a74c7-ccfb-4602-b4d8-ecdc9c41e538",
   "metadata": {},
   "outputs": [
    {
     "name": "stdout",
     "output_type": "stream",
     "text": [
      "The youngest child is Linus\n",
      "The youngest child is Emil\n"
     ]
    },
    {
     "ename": "TypeError",
     "evalue": "my_function() got multiple values for argument 'child2'",
     "output_type": "error",
     "traceback": [
      "\u001b[1;31m---------------------------------------------------------------------------\u001b[0m",
      "\u001b[1;31mTypeError\u001b[0m                                 Traceback (most recent call last)",
      "Cell \u001b[1;32mIn[110], line 7\u001b[0m\n\u001b[0;32m      4\u001b[0m my_function(child1 \u001b[38;5;241m=\u001b[39m \u001b[38;5;124m\"\u001b[39m\u001b[38;5;124mEmil\u001b[39m\u001b[38;5;124m\"\u001b[39m, child2 \u001b[38;5;241m=\u001b[39m \u001b[38;5;124m\"\u001b[39m\u001b[38;5;124mTobias\u001b[39m\u001b[38;5;124m\"\u001b[39m, child3 \u001b[38;5;241m=\u001b[39m \u001b[38;5;124m\"\u001b[39m\u001b[38;5;124mLinus\u001b[39m\u001b[38;5;124m\"\u001b[39m)\n\u001b[0;32m      5\u001b[0m my_function(\u001b[38;5;124m\"\u001b[39m\u001b[38;5;124mEmil\u001b[39m\u001b[38;5;124m\"\u001b[39m, child1 \u001b[38;5;241m=\u001b[39m \u001b[38;5;124m\"\u001b[39m\u001b[38;5;124mLunus\u001b[39m\u001b[38;5;124m\"\u001b[39m, child2 \u001b[38;5;241m=\u001b[39m \u001b[38;5;124m\"\u001b[39m\u001b[38;5;124mTobias\u001b[39m\u001b[38;5;124m\"\u001b[39m)\n\u001b[1;32m----> 7\u001b[0m my_function(\u001b[38;5;124m\"\u001b[39m\u001b[38;5;124mEmil\u001b[39m\u001b[38;5;124m\"\u001b[39m, \u001b[38;5;124m\"\u001b[39m\u001b[38;5;124mLunus\u001b[39m\u001b[38;5;124m\"\u001b[39m,child2 \u001b[38;5;241m=\u001b[39m \u001b[38;5;124m\"\u001b[39m\u001b[38;5;124mTobias\u001b[39m\u001b[38;5;124m\"\u001b[39m)\n",
      "\u001b[1;31mTypeError\u001b[0m: my_function() got multiple values for argument 'child2'"
     ]
    }
   ],
   "source": [
    "def my_function(child3, child2, child1):\n",
    "  print(\"The youngest child is \" + child3)\n",
    "\n",
    "my_function(child1 = \"Emil\", child2 = \"Tobias\", child3 = \"Linus\")\n",
    "my_function(\"Emil\", child1 = \"Lunus\", child2 = \"Tobias\")\n",
    "\n",
    "my_function(\"Emil\", \"Lunus\",child2 = \"Tobias\")"
   ]
  },
  {
   "cell_type": "code",
   "execution_count": 112,
   "id": "ab037224-86b5-404a-8375-ea013763a3cc",
   "metadata": {},
   "outputs": [
    {
     "ename": "SyntaxError",
     "evalue": "positional argument follows keyword argument (2295428818.py, line 5)",
     "output_type": "error",
     "traceback": [
      "\u001b[1;36m  Cell \u001b[1;32mIn[112], line 5\u001b[1;36m\u001b[0m\n\u001b[1;33m    my_function(child1 = \"Emil\", child2 = \"Tobias\",\"Lunus\")\u001b[0m\n\u001b[1;37m                                                          ^\u001b[0m\n\u001b[1;31mSyntaxError\u001b[0m\u001b[1;31m:\u001b[0m positional argument follows keyword argument\n"
     ]
    }
   ],
   "source": [
    "def my_function(child3, child2, child1):\n",
    "  print(\"The youngest child is \" + child3)\n",
    "\n",
    "my_function(child1 = \"Emil\", child2 = \"Tobias\", child3 = \"Linus\")\n",
    "my_function(child1 = \"Emil\", child2 = \"Tobias\",\"Lunus\")"
   ]
  },
  {
   "cell_type": "markdown",
   "id": "1b6bea96-9e59-43b0-a8d1-35d7ff672270",
   "metadata": {},
   "source": [
    "#### **kwargs - Arbitrary Keyword Arguments\n",
    "- If you do not know how many keyword arguments that will be passed into your function, add two asterisk: ** before the parameter name in the function definition.\n",
    "- This way the function will receive a dictionary of arguments, and can access the items accordingly."
   ]
  },
  {
   "cell_type": "code",
   "execution_count": 132,
   "id": "d1c3ce2b-ee01-4dba-9a59-23635ad7bb0f",
   "metadata": {},
   "outputs": [
    {
     "name": "stdout",
     "output_type": "stream",
     "text": [
      "His last name is Refsnes Middle name is Mdase\n"
     ]
    }
   ],
   "source": [
    "def my_function(**kid):\n",
    "  print(\"His last name is \" + kid[\"lname\"] + ' Middle name is ' + kid[\"mname\"])\n",
    "\n",
    "my_function(fname = \"Tobias\", lname = \"Refsnes\", mname = 'Mdase')"
   ]
  },
  {
   "cell_type": "code",
   "execution_count": 154,
   "id": "2ccfb7f0-015e-48ba-8a56-40f20f7f2590",
   "metadata": {},
   "outputs": [
    {
     "name": "stdout",
     "output_type": "stream",
     "text": [
      "His last name is Refsnes Middle name is Mdase\n"
     ]
    }
   ],
   "source": [
    "def my_function(**kid):\n",
    "  print(\"His last name is \" + kid[\"lname\"] + ' Middle name is ' + kid[\"mname\"])\n",
    "\n",
    "my_function(name = 'fullname',fname = \"Tobias\", lname = \"Refsnes\", mname = 'Mdase')"
   ]
  },
  {
   "cell_type": "markdown",
   "id": "42aad283-d64f-4fa2-aa0f-4e61c1f3a7db",
   "metadata": {},
   "source": [
    "#### Positional-Only Arguments\n",
    "- You can specify that a function can have ONLY positional arguments, or ONLY keyword arguments.\n",
    "- To specify that a function can have only positional arguments, add , / after the arguments:"
   ]
  },
  {
   "cell_type": "code",
   "execution_count": 332,
   "id": "bf0f0def-55fb-4614-baac-f30661d2d5bf",
   "metadata": {},
   "outputs": [
    {
     "name": "stdout",
     "output_type": "stream",
     "text": [
      "3\n"
     ]
    }
   ],
   "source": [
    "def my_function(x, /):\n",
    "  print(x)\n",
    "\n",
    "my_function(3)"
   ]
  },
  {
   "cell_type": "code",
   "execution_count": 338,
   "id": "7533b613-2937-4331-a17b-a7e3d644f045",
   "metadata": {},
   "outputs": [
    {
     "ename": "TypeError",
     "evalue": "my_function() got some positional-only arguments passed as keyword arguments: 'x'",
     "output_type": "error",
     "traceback": [
      "\u001b[1;31m---------------------------------------------------------------------------\u001b[0m",
      "\u001b[1;31mTypeError\u001b[0m                                 Traceback (most recent call last)",
      "Cell \u001b[1;32mIn[338], line 6\u001b[0m\n\u001b[0;32m      3\u001b[0m \u001b[38;5;28;01mdef\u001b[39;00m \u001b[38;5;21mmy_function\u001b[39m(x, \u001b[38;5;241m/\u001b[39m):\n\u001b[0;32m      4\u001b[0m   \u001b[38;5;28mprint\u001b[39m(x)\n\u001b[1;32m----> 6\u001b[0m my_function(x\u001b[38;5;241m=\u001b[39m\u001b[38;5;241m3\u001b[39m)\n",
      "\u001b[1;31mTypeError\u001b[0m: my_function() got some positional-only arguments passed as keyword arguments: 'x'"
     ]
    }
   ],
   "source": [
    "# Since we explicitly mentioned , / we are unable able to give keyword argument\n",
    "\n",
    "def my_function(x, /):\n",
    "  print(x)\n",
    "\n",
    "my_function(x=3)"
   ]
  },
  {
   "cell_type": "code",
   "execution_count": 341,
   "id": "bde960f5-696c-4879-bc8b-fca304d383e3",
   "metadata": {},
   "outputs": [
    {
     "name": "stdout",
     "output_type": "stream",
     "text": [
      "3\n"
     ]
    }
   ],
   "source": [
    "# Since we did not give , / we were able to give keyword argument\n",
    "\n",
    "def my_function(x):\n",
    "  print(x)\n",
    "\n",
    "my_function(x=3)"
   ]
  },
  {
   "cell_type": "markdown",
   "id": "7614044f-62b3-4ba6-995f-2e54640391d2",
   "metadata": {},
   "source": [
    "#### Keyword-Only Arguments\n",
    "- To specify that a function can have only keyword arguments, add *, before the arguments:"
   ]
  },
  {
   "cell_type": "code",
   "execution_count": 344,
   "id": "fc27b9af-e34c-4f24-89c3-f01414a6a8a0",
   "metadata": {},
   "outputs": [
    {
     "name": "stdout",
     "output_type": "stream",
     "text": [
      "3\n"
     ]
    }
   ],
   "source": [
    "def my_function(*, x):\n",
    "  print(x)\n",
    "\n",
    "my_function(x = 3)"
   ]
  },
  {
   "cell_type": "code",
   "execution_count": 346,
   "id": "4c805eff-7a70-47db-b907-15120e2017ae",
   "metadata": {},
   "outputs": [
    {
     "ename": "TypeError",
     "evalue": "my_function() takes 0 positional arguments but 1 was given",
     "output_type": "error",
     "traceback": [
      "\u001b[1;31m---------------------------------------------------------------------------\u001b[0m",
      "\u001b[1;31mTypeError\u001b[0m                                 Traceback (most recent call last)",
      "Cell \u001b[1;32mIn[346], line 4\u001b[0m\n\u001b[0;32m      1\u001b[0m \u001b[38;5;28;01mdef\u001b[39;00m \u001b[38;5;21mmy_function\u001b[39m(\u001b[38;5;241m*\u001b[39m, x):\n\u001b[0;32m      2\u001b[0m   \u001b[38;5;28mprint\u001b[39m(x)\n\u001b[1;32m----> 4\u001b[0m my_function(\u001b[38;5;241m3\u001b[39m)\n",
      "\u001b[1;31mTypeError\u001b[0m: my_function() takes 0 positional arguments but 1 was given"
     ]
    }
   ],
   "source": [
    "def my_function(*, x):\n",
    "  print(x)\n",
    "\n",
    "my_function(3)"
   ]
  },
  {
   "cell_type": "code",
   "execution_count": 348,
   "id": "03c5394d-44f7-4770-9951-51c7e780ce6b",
   "metadata": {},
   "outputs": [
    {
     "name": "stdout",
     "output_type": "stream",
     "text": [
      "3\n"
     ]
    }
   ],
   "source": [
    "def my_function(x):\n",
    "  print(x)\n",
    "\n",
    "my_function(3)"
   ]
  },
  {
   "cell_type": "markdown",
   "id": "65e3ece1-2202-4b07-836c-f1033b05683a",
   "metadata": {},
   "source": [
    "#### Combine Positional-Only and Keyword-Only\n",
    "- You can combine the two argument types in the same function.\n",
    "- Any argument before the / , are positional-only, and any argument after the *, are keyword-only."
   ]
  },
  {
   "cell_type": "code",
   "execution_count": 355,
   "id": "950cb747-846b-4626-a987-5dc84f314f62",
   "metadata": {},
   "outputs": [
    {
     "name": "stdout",
     "output_type": "stream",
     "text": [
      "26\n"
     ]
    }
   ],
   "source": [
    "def my_function(a, b, /, *, c, d):\n",
    "  print(a + b + c + d)\n",
    "\n",
    "my_function(5, 6, d = 7, c = 8)"
   ]
  },
  {
   "cell_type": "markdown",
   "id": "41b2d77a-8ac5-4274-b87d-281df3e1d608",
   "metadata": {},
   "source": [
    "#### Default Parameter Value"
   ]
  },
  {
   "cell_type": "code",
   "execution_count": 171,
   "id": "9132f08e-ba1b-4cf8-961f-c71b7e27dad2",
   "metadata": {},
   "outputs": [
    {
     "name": "stdout",
     "output_type": "stream",
     "text": [
      "I am from Norway\n",
      "I am from Sweden\n",
      "I am from India\n",
      "I am from Brazil\n"
     ]
    }
   ],
   "source": [
    "def my_function(country = \"Norway\"):\n",
    "  print(\"I am from \" + country)\n",
    "\n",
    "my_function()\n",
    "my_function(\"Sweden\")\n",
    "my_function(\"India\")\n",
    "my_function(\"Brazil\")"
   ]
  },
  {
   "cell_type": "markdown",
   "id": "28a3f4df-2a74-424a-9949-ba29adf32488",
   "metadata": {},
   "source": [
    "#### Passing a List as an Argument"
   ]
  },
  {
   "cell_type": "code",
   "execution_count": 201,
   "id": "bca42de7-541f-486f-a778-f4127e8abd7b",
   "metadata": {},
   "outputs": [
    {
     "name": "stdout",
     "output_type": "stream",
     "text": [
      "apple\n",
      "banana\n",
      "cherry\n"
     ]
    }
   ],
   "source": [
    "# Passing a List as an Argument\n",
    "\n",
    "def my_function(food):\n",
    "  for x in food:\n",
    "    print(x)\n",
    "\n",
    "fruits = [\"apple\", \"banana\", \"cherry\"]\n",
    "\n",
    "my_function(fruits)"
   ]
  },
  {
   "cell_type": "markdown",
   "id": "5bc71ec6-a196-4187-b543-1239e08e6de5",
   "metadata": {},
   "source": [
    "#### Passing a Tuple as an Argument"
   ]
  },
  {
   "cell_type": "code",
   "execution_count": 179,
   "id": "aee55636-e6d1-4cc6-96db-51f3da332ae9",
   "metadata": {},
   "outputs": [
    {
     "name": "stdout",
     "output_type": "stream",
     "text": [
      "apple\n",
      "banana\n",
      "cherry\n"
     ]
    }
   ],
   "source": [
    "# Passing a Tuple as an Argument\n",
    "\n",
    "def my_function(food):\n",
    "  for x in food:\n",
    "    print(x)\n",
    "\n",
    "fruits = (\"apple\", \"banana\", \"cherry\")\n",
    "\n",
    "my_function(fruits)"
   ]
  },
  {
   "cell_type": "markdown",
   "id": "863ee329-35dd-4f93-aa69-ef4d9bfb837f",
   "metadata": {},
   "source": [
    "#### Passing a Set as an Argument"
   ]
  },
  {
   "cell_type": "code",
   "execution_count": 204,
   "id": "10718b5b-46cc-4378-a4de-78adbbe23e81",
   "metadata": {},
   "outputs": [
    {
     "name": "stdout",
     "output_type": "stream",
     "text": [
      "Received set: {1, 2, 3, 4, 5}\n",
      "Type of argument: <class 'set'>\n",
      "Number of elements: 5\n",
      "Elements of the set:\n",
      "1\n",
      "2\n",
      "3\n",
      "4\n",
      "5\n"
     ]
    }
   ],
   "source": [
    "def process_set(input_set):\n",
    "    print(\"Received set:\", input_set)\n",
    "    print(\"Type of argument:\", type(input_set))\n",
    "    print(\"Number of elements:\", len(input_set))\n",
    "    print(\"Elements of the set:\")\n",
    "    for element in input_set:\n",
    "        print(element)\n",
    "\n",
    "my_set = {1, 2, 3, 4, 5}\n",
    "#my_set[1] >>> 'set' object is not subscriptable\n",
    "#for element in my_set:\n",
    "#    print(element)\n",
    "process_set(my_set)"
   ]
  },
  {
   "cell_type": "markdown",
   "id": "0753eb0e-f8aa-41e6-b984-48e436bc0db2",
   "metadata": {},
   "source": [
    "#### Passing a Dictionary as an Argument"
   ]
  },
  {
   "cell_type": "code",
   "execution_count": 215,
   "id": "d5a3eb38-f98d-40b4-98f5-ba5d21521651",
   "metadata": {},
   "outputs": [
    {
     "name": "stdout",
     "output_type": "stream",
     "text": [
      "Value is  Kranthi  for the key  Name\n",
      "Value is  35  for the key  Age\n",
      "Value is  Hyderabad  for the key  Address\n"
     ]
    }
   ],
   "source": [
    "# Passing dictionary as an argument\n",
    "\n",
    "def print_details(dic_parm):\n",
    "    for key in dic_parm:\n",
    "        print('Value is ',dic_parm[key],' for the key ',key)\n",
    "\n",
    "dic1 = {'Name':'Kranthi','Age':35,'Address':'Hyderabad'}\n",
    "print_details(dic1)"
   ]
  },
  {
   "cell_type": "markdown",
   "id": "92533ddc-0919-4903-aeac-682ca0972d3f",
   "metadata": {},
   "source": [
    "#### Return Values\n",
    "- To let a function return a value, use the return statement"
   ]
  },
  {
   "cell_type": "code",
   "execution_count": 211,
   "id": "16b89141-74e5-44bf-ae62-6f1f88d0ee32",
   "metadata": {},
   "outputs": [
    {
     "name": "stdout",
     "output_type": "stream",
     "text": [
      "15\n",
      "25\n",
      "45\n"
     ]
    }
   ],
   "source": [
    "def my_function(x):\n",
    "  return 5 * x\n",
    "\n",
    "print(my_function(3))\n",
    "print(my_function(5))\n",
    "print(my_function(9))"
   ]
  },
  {
   "cell_type": "markdown",
   "id": "23988ea3-2321-431c-8211-e917764584dc",
   "metadata": {},
   "source": [
    "#### Recursion\n",
    "- It means that a function calls itself.\n",
    "- This has the benefit of meaning that you can loop through data to reach a result."
   ]
  },
  {
   "cell_type": "code",
   "execution_count": 307,
   "id": "cf836e18-5de9-465e-bee9-f97866bccd4f",
   "metadata": {},
   "outputs": [
    {
     "name": "stdout",
     "output_type": "stream",
     "text": [
      "5\n",
      "4\n",
      "3\n",
      "2\n",
      "1\n",
      "0\n",
      "120\n"
     ]
    }
   ],
   "source": [
    "# Calculate the factorial of a number using recusrion\n",
    "\n",
    "def factorial(n):\n",
    "  if n == 0:\n",
    "    print(n)\n",
    "    return 1\n",
    "    # When the value is 0, return 1 to the below factorial function in else part\n",
    "  else:\n",
    "    print(n)\n",
    "    return n * factorial(n-1)\n",
    "    # else part 5 * factorial(4)\n",
    "    # else part 5 * 4 * factorial(3)\n",
    "    # else part 5 * 4 * 3 * factorial(2)\n",
    "    # else part 5 * 4 * 3 * factorial(2)\n",
    "    # else part 5 * 4 * 3 * 2 * factorial(1)\n",
    "    # else part 5 * 4 * 3 * 2 * 1 * factorial(0)\n",
    "    # else part 5 * 4 * 3 * 2 * 1 * 1\n",
    "\n",
    "print(factorial(5)) # Output: 120"
   ]
  },
  {
   "cell_type": "code",
   "execution_count": 311,
   "id": "df50f49e-04df-4c61-b17b-5e9b9f0c2fbe",
   "metadata": {},
   "outputs": [
    {
     "name": "stdout",
     "output_type": "stream",
     "text": [
      "5\n",
      "4\n",
      "3\n",
      "2\n",
      "1\n",
      "0\n",
      "0\n"
     ]
    }
   ],
   "source": [
    "# Calculate the factorial of a number using recusrion\n",
    "\n",
    "def factorial(n):\n",
    "  if n == 0:\n",
    "    print(n)\n",
    "    return 0\n",
    "  else:\n",
    "    print(n)\n",
    "    return n * factorial(n-1)\n",
    "    # Since finally it returns 0 when the value is 0, total value becomes 0\n",
    "    # 5*4*3*2*1*0 = 0\n",
    "\n",
    "print(factorial(5)) # Output: 120"
   ]
  },
  {
   "cell_type": "code",
   "execution_count": 315,
   "id": "d221dcf2-7fec-45f1-9c59-69a29a304099",
   "metadata": {},
   "outputs": [
    {
     "name": "stdout",
     "output_type": "stream",
     "text": [
      "5\n",
      "4\n",
      "3\n",
      "2\n",
      "1\n",
      "0\n",
      "240\n"
     ]
    }
   ],
   "source": [
    "# Calculate the factorial of a number using recusrion\n",
    "\n",
    "def factorial(n):\n",
    "  if n == 0:\n",
    "    print(n)\n",
    "    return 2\n",
    "    # Since finally 2 is returned when the n = 0, total value becomes zero in the else part\n",
    "  else:\n",
    "    print(n)\n",
    "    return n * factorial(n-1)\n",
    "    # 5 * 4 * 3 * 2 * 1 * 1\n",
    "\n",
    "print(factorial(5)) # Output: 120"
   ]
  },
  {
   "cell_type": "code",
   "execution_count": 323,
   "id": "ceaaa7f9-41df-47ef-8d30-06dbad84026a",
   "metadata": {},
   "outputs": [
    {
     "name": "stdout",
     "output_type": "stream",
     "text": [
      "120\n"
     ]
    }
   ],
   "source": [
    "# Calculate the factorial of a number without using recusrion\n",
    "\n",
    "def fac_fun(n):\n",
    "    res = 1\n",
    "    for i in range(1,n+1):\n",
    "        res = res * i\n",
    "    return res\n",
    "\n",
    "result = fac_fun(5)\n",
    "print(result)"
   ]
  },
  {
   "cell_type": "code",
   "execution_count": 12,
   "id": "2a9eab17-ae42-4f22-8a86-c2b1d307acd2",
   "metadata": {},
   "outputs": [
    {
     "name": "stdout",
     "output_type": "stream",
     "text": [
      "Recursion Example Results:\n",
      "21\n"
     ]
    }
   ],
   "source": [
    "# Recursion example to perform cumulative sum of a given number till 0\n",
    "# if input is 6 >>> 6 + 5 + 4 + 3 + 2 + 1\n",
    "\n",
    "def tri_recursion(k):\n",
    "  if(k > 0):\n",
    "    result = k + tri_recursion(k - 1)\n",
    "  else:\n",
    "    result = 0\n",
    "  return result\n",
    "    \n",
    "print(\"Recursion Example Results:\")\n",
    "final_result = tri_recursion(6)\n",
    "print(final_result)"
   ]
  },
  {
   "cell_type": "markdown",
   "id": "7a501670-a82d-4afd-8186-970e22288b08",
   "metadata": {},
   "source": [
    "#### Anonymous function - Lambda function\n",
    "- Lambda is a small, anonymous function defined using the lambda keyword.\n",
    "- It can take <b>any number of arguments</b> but can <b>only have one </b>expression.\n",
    "- Lambda functions are often used for short, simple operations.\n",
    "- It serves as a single expression function\n",
    "- Improves readability\n",
    "- Syntax -\n",
    "-       lambda arguments: expression\n",
    "- Always store the return value of the lambda function in a variable.\n",
    "- Example: variable_name = lambda arg1,arg2,.... : single_Expression\n",
    "- "
   ]
  },
  {
   "cell_type": "code",
   "execution_count": 127,
   "id": "11362fd8-af0c-46f8-9e9b-c35d6acacb31",
   "metadata": {},
   "outputs": [
    {
     "name": "stdout",
     "output_type": "stream",
     "text": [
      "test 2\n"
     ]
    }
   ],
   "source": [
    "# Simple lambda function \n",
    "\n",
    "a = lambda a: print('test',a)\n",
    "a(2)"
   ]
  },
  {
   "cell_type": "code",
   "execution_count": 130,
   "id": "7ee069e1-0555-409a-bcf0-3606500737f7",
   "metadata": {},
   "outputs": [
    {
     "data": {
      "text/plain": [
       "<function __main__.<lambda>(a)>"
      ]
     },
     "execution_count": 130,
     "metadata": {},
     "output_type": "execute_result"
    }
   ],
   "source": [
    "# Lambda function without storing the return value\n",
    "\n",
    "lambda a: print('test',a)"
   ]
  },
  {
   "cell_type": "code",
   "execution_count": 132,
   "id": "85800793-b5af-4a0d-8289-8cc919df7ec8",
   "metadata": {},
   "outputs": [
    {
     "data": {
      "text/plain": [
       "5"
      ]
     },
     "execution_count": 132,
     "metadata": {},
     "output_type": "execute_result"
    }
   ],
   "source": [
    "# Simple lambda function to add two numbers.\n",
    "\n",
    "add = lambda a,b : a + b\n",
    "\n",
    "add(2,3)"
   ]
  },
  {
   "cell_type": "code",
   "execution_count": 99,
   "id": "4f020c42-783b-4560-83ca-929077aaa0b2",
   "metadata": {},
   "outputs": [],
   "source": [
    "# Write a simple user defined function and name it as add\n",
    "\n",
    "def add(x,y):\n",
    "    sum = x * y\n",
    "    print(sum)"
   ]
  },
  {
   "cell_type": "code",
   "execution_count": 101,
   "id": "1fd8279e-cb6d-4fcf-b187-9364518060ab",
   "metadata": {},
   "outputs": [
    {
     "name": "stdout",
     "output_type": "stream",
     "text": [
      "6\n"
     ]
    }
   ],
   "source": [
    "add(2,3)"
   ]
  },
  {
   "cell_type": "code",
   "execution_count": 109,
   "id": "a63c9db8-2464-48ba-9c7a-e4129faccd6a",
   "metadata": {},
   "outputs": [],
   "source": [
    "# Convert the above function to Anonymus function - lambda function\n",
    "\n",
    "multi = lambda x,y : print(x*y)"
   ]
  },
  {
   "cell_type": "code",
   "execution_count": 111,
   "id": "14713a6a-1e03-4152-84c9-1997d72b41f8",
   "metadata": {},
   "outputs": [
    {
     "name": "stdout",
     "output_type": "stream",
     "text": [
      "18\n"
     ]
    }
   ],
   "source": [
    "multi(9,2)"
   ]
  },
  {
   "cell_type": "code",
   "execution_count": 136,
   "id": "8512767a-e946-45d9-b503-bd35f3f66300",
   "metadata": {},
   "outputs": [
    {
     "data": {
      "text/plain": [
       "10"
      ]
     },
     "execution_count": 136,
     "metadata": {},
     "output_type": "execute_result"
    }
   ],
   "source": [
    "# Lambda function to double the input value\n",
    "\n",
    "double = lambda a : a*2\n",
    "\n",
    "double(5)"
   ]
  },
  {
   "cell_type": "raw",
   "id": "dd725497-220f-4d96-bb59-de9671ee6b6e",
   "metadata": {},
   "source": [
    "#### If else in Lambda\n",
    "\n",
    "- lambda <arguments> : <statement1> if <condition> else <statement2>"
   ]
  },
  {
   "cell_type": "code",
   "execution_count": 151,
   "id": "25466114-aa98-4fb4-9b9d-0e9e007b6da4",
   "metadata": {},
   "outputs": [],
   "source": [
    "# Lambda function to identify if a given number is even or odd\n",
    "\n",
    "even_odd = lambda inp_val : print(inp_val,' is even number ') if inp_val %2 == 0 else print(inp_val,\" is odd number\")"
   ]
  },
  {
   "cell_type": "code",
   "execution_count": 153,
   "id": "e04205d7-a52b-49d6-9ab0-b6fc916885ea",
   "metadata": {},
   "outputs": [
    {
     "name": "stdout",
     "output_type": "stream",
     "text": [
      "3  is odd number\n"
     ]
    }
   ],
   "source": [
    "even_odd(3)"
   ]
  },
  {
   "cell_type": "code",
   "execution_count": 157,
   "id": "50080251-d2e4-45ec-a8de-63294b14812f",
   "metadata": {},
   "outputs": [
    {
     "data": {
      "text/plain": [
       "\"You're eligible to vote\""
      ]
     },
     "execution_count": 157,
     "metadata": {},
     "output_type": "execute_result"
    }
   ],
   "source": [
    "# Lambda function to identify if a given voter age is eligible to vote or not. Age >= 18, eligible, else not\n",
    "\n",
    "check_eligible_vote = lambda inp_age : \"You're eligible to vote\" if inp_age >= 18 else \"You're not eligible to vote\"\n",
    "\n",
    "check_eligible_vote(20)"
   ]
  },
  {
   "cell_type": "code",
   "execution_count": 159,
   "id": "c881b3f8-9968-4bae-b440-e29cd8e0a033",
   "metadata": {},
   "outputs": [],
   "source": [
    "# Lambda function to return pass if the input marks are >= 35, else return false\n",
    "\n",
    "pass_fail = lambda inp_marks : print(\"Pass with marks \",inp_marks) if inp_marks >= 35 else print(\"Fail with marks \",inp_marks)"
   ]
  },
  {
   "cell_type": "code",
   "execution_count": 167,
   "id": "61e310c0-b115-4c58-907b-e0d8e8cfa2f2",
   "metadata": {},
   "outputs": [
    {
     "name": "stdin",
     "output_type": "stream",
     "text": [
      "Enter the marks  31\n"
     ]
    },
    {
     "name": "stdout",
     "output_type": "stream",
     "text": [
      "Fail with marks  31\n"
     ]
    }
   ],
   "source": [
    "# Accept the marks from the user and send to lambda function\n",
    "\n",
    "marks = int(input(\"Enter the marks \"))\n",
    "pass_fail(marks)"
   ]
  },
  {
   "cell_type": "code",
   "execution_count": 180,
   "id": "7e6fc1a6-4870-41ce-bc60-3f103c8a8572",
   "metadata": {},
   "outputs": [],
   "source": [
    "# Return the grade based on the marks\n",
    "# marks >= 90, return grade \"A\", else if marks >= 75 then grade \"B\" else return grade \"C\"\n",
    "# Using if else ifelse\n",
    "\n",
    "grade = lambda marks : 'Grade A' if marks >= 90  else ('Grade B' if marks >= 75 else \"Grade C\")"
   ]
  },
  {
   "cell_type": "code",
   "execution_count": 182,
   "id": "ff3631f4-462e-47df-bfb8-9dbf02e80727",
   "metadata": {},
   "outputs": [
    {
     "data": {
      "text/plain": [
       "'Grade C'"
      ]
     },
     "execution_count": 182,
     "metadata": {},
     "output_type": "execute_result"
    }
   ],
   "source": [
    "grade(9)"
   ]
  },
  {
   "cell_type": "code",
   "execution_count": 36,
   "id": "3560e4b7-d06d-4786-9d37-9776f72e6c68",
   "metadata": {},
   "outputs": [
    {
     "name": "stdout",
     "output_type": "stream",
     "text": [
      "22\n",
      "33\n"
     ]
    }
   ],
   "source": [
    "def myfunc(n):\n",
    "  return lambda a : a * n\n",
    "\n",
    "mydoubler = myfunc(2)\n",
    "mytripler = myfunc(3)\n",
    "\n",
    "print(mydoubler(11))\n",
    "print(mytripler(11))"
   ]
  },
  {
   "cell_type": "code",
   "execution_count": null,
   "id": "d25484d9-e8e0-494b-aa54-06f48b6494f2",
   "metadata": {},
   "outputs": [],
   "source": []
  }
 ],
 "metadata": {
  "kernelspec": {
   "display_name": "Python [conda env:base] *",
   "language": "python",
   "name": "conda-base-py"
  },
  "language_info": {
   "codemirror_mode": {
    "name": "ipython",
    "version": 3
   },
   "file_extension": ".py",
   "mimetype": "text/x-python",
   "name": "python",
   "nbconvert_exporter": "python",
   "pygments_lexer": "ipython3",
   "version": "3.12.7"
  }
 },
 "nbformat": 4,
 "nbformat_minor": 5
}
