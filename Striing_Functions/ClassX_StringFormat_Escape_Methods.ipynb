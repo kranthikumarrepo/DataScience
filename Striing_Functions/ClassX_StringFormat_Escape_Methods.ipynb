{
 "cells": [
  {
   "cell_type": "markdown",
   "id": "9cd64fd0-0da1-4843-8239-e9f157ad824d",
   "metadata": {},
   "source": [
    "#### f string - To format string\n",
    "- F-String was introduced in Python 3.6, and is now the preferred way of formatting strings.\n",
    "- To specify a string as an f-string, simply put an f in front of the string literal, and add curly brackets {} \n",
    "- as placeholders for variables and other operations.\n",
    "- Two ways to do this\n",
    "- Syntax1:- f\"My name is {variable_name} & age is {variable_age}\"\n",
    "- Syntax2:- \"My name is {} & age is {}\".format(variable_name,variable_age)"
   ]
  },
  {
   "cell_type": "code",
   "execution_count": 14,
   "id": "740b0d8a-7f63-4325-9e2c-9bde9f118e96",
   "metadata": {},
   "outputs": [
    {
     "ename": "TypeError",
     "evalue": "can only concatenate str (not \"int\") to str",
     "output_type": "error",
     "traceback": [
      "\u001b[1;31m---------------------------------------------------------------------------\u001b[0m",
      "\u001b[1;31mTypeError\u001b[0m                                 Traceback (most recent call last)",
      "Cell \u001b[1;32mIn[14], line 2\u001b[0m\n\u001b[0;32m      1\u001b[0m age \u001b[38;5;241m=\u001b[39m \u001b[38;5;241m36\u001b[39m\n\u001b[1;32m----> 2\u001b[0m txt \u001b[38;5;241m=\u001b[39m \u001b[38;5;124m\"\u001b[39m\u001b[38;5;124mMy name is John, I am \u001b[39m\u001b[38;5;124m\"\u001b[39m \u001b[38;5;241m+\u001b[39m age\n\u001b[0;32m      3\u001b[0m \u001b[38;5;28mprint\u001b[39m(txt)\n",
      "\u001b[1;31mTypeError\u001b[0m: can only concatenate str (not \"int\") to str"
     ]
    }
   ],
   "source": [
    "age = 36\n",
    "txt = \"My name is John, I am \" + age\n",
    "print(txt)"
   ]
  },
  {
   "cell_type": "code",
   "execution_count": 78,
   "id": "4b5bd8e6-9613-4d0e-a12c-894a6c148f1e",
   "metadata": {},
   "outputs": [
    {
     "name": "stdout",
     "output_type": "stream",
     "text": [
      "My name is Sachin, I am 36 years old\n",
      "My name is 36, I am Sachin years old\n",
      "My name is Sachin, I am 36 years old\n"
     ]
    }
   ],
   "source": [
    "name = 'Sachin'\n",
    "age = 36\n",
    "txt = f\"My name is {name}, I am {age} years old\"\n",
    "print(txt)\n",
    "\n",
    "txt = \"My name is {}, I am {} years old\".format(age,name)\n",
    "print(txt)\n",
    "\n",
    "txt = \"My name is {}, I am {} years old\".format(name,age)\n",
    "print(txt)"
   ]
  },
  {
   "cell_type": "code",
   "execution_count": 84,
   "id": "efe3ad9e-5a51-4a93-81c3-8f7395ec5958",
   "metadata": {},
   "outputs": [
    {
     "name": "stdout",
     "output_type": "stream",
     "text": [
      "The price is 59.00 dollars\n",
      "The price is 59 dollars\n"
     ]
    }
   ],
   "source": [
    "# A placeholder can include a modifier to format the value.\n",
    "# A modifier is included by adding a colon : followed by a legal formatting type, like .2f which means fixed point number with 2 decimals\n",
    "\n",
    "price = 59\n",
    "txt = f\"The price is {price:.2f} dollars\"\n",
    "print(txt)\n",
    "\n",
    "txt = \"The price is {} dollars\".format(price)\n",
    "# .2f doesn't work here...\n",
    "print(txt)"
   ]
  },
  {
   "cell_type": "code",
   "execution_count": 72,
   "id": "4d988588-ce28-4517-a877-1f68d0101a1f",
   "metadata": {},
   "outputs": [
    {
     "name": "stdout",
     "output_type": "stream",
     "text": [
      "The price is 1180 dollars\n",
      "The price is 1180 dollars\n"
     ]
    }
   ],
   "source": [
    "txt1 = f\"The price is {20 * 59} dollars\"\n",
    "print(txt1)\n",
    "\n",
    "txt2 = \"The price is {} dollars\".format(20 * 59)\n",
    "print(txt2)"
   ]
  },
  {
   "cell_type": "code",
   "execution_count": 86,
   "id": "2ce1ac79-6be5-4ebe-a65f-45ae907236b1",
   "metadata": {},
   "outputs": [
    {
     "name": "stdout",
     "output_type": "stream",
     "text": [
      "The price is 200 dollars\n",
      "The price is 200 dollars\n"
     ]
    }
   ],
   "source": [
    "# Perform a math operation in the placeholder, and return the result:\n",
    "\n",
    "x = 10\n",
    "y = 20\n",
    "txt = f\"The price is {x * y} dollars\"\n",
    "print(txt)\n",
    "\n",
    "txt = \"The price is {} dollars\".format(x * y)\n",
    "print(txt)"
   ]
  },
  {
   "cell_type": "code",
   "execution_count": 88,
   "id": "5d4a4095-94d1-4468-be00-f0a539c5a20a",
   "metadata": {},
   "outputs": [
    {
     "name": "stdin",
     "output_type": "stream",
     "text": [
      "Enter value of x  3\n",
      "Enter value of y  2\n"
     ]
    },
    {
     "name": "stdout",
     "output_type": "stream",
     "text": [
      "The price is 6 dollars\n",
      "The price is 6 dollars\n"
     ]
    }
   ],
   "source": [
    "x = int(input(\"Enter value of x \"))\n",
    "y = int(input(\"Enter value of y \"))\n",
    "txt = f\"The price is {x * y} dollars\"\n",
    "print(txt)\n",
    "\n",
    "txt = \"The price is {} dollars\".format(x * y)\n",
    "print(txt)"
   ]
  },
  {
   "cell_type": "code",
   "execution_count": 56,
   "id": "866df949-7370-48c4-8e9c-12c43168ee9b",
   "metadata": {},
   "outputs": [
    {
     "name": "stdout",
     "output_type": "stream",
     "text": [
      "Hello, Bob!\n"
     ]
    }
   ],
   "source": [
    "def greet(name):\n",
    "  return f\"Hello, {name}!\"\n",
    "\n",
    "print(greet(\"Bob\"))\n",
    "# Output: Hello, Bob!"
   ]
  },
  {
   "cell_type": "code",
   "execution_count": 90,
   "id": "48a5b61c-6b6c-432e-9d1d-f6448d72e7f0",
   "metadata": {},
   "outputs": [
    {
     "name": "stdout",
     "output_type": "stream",
     "text": [
      "Hello, Bob!\n"
     ]
    }
   ],
   "source": [
    "def greet(name):\n",
    "  return \"Hello, {}!\".format(name)\n",
    "\n",
    "print(greet(\"Bob\"))\n",
    "# Output: Hello, Bob!"
   ]
  },
  {
   "cell_type": "code",
   "execution_count": 98,
   "id": "53bbb1a6-03ca-4020-be35-7205940ca7c3",
   "metadata": {},
   "outputs": [
    {
     "name": "stdout",
     "output_type": "stream",
     "text": [
      "The square root of 10 is 3.16.\n",
      "The square root of 10 is 3.1622776601683795\n"
     ]
    }
   ],
   "source": [
    "import math\n",
    "x = 10\n",
    "print(f\"The square root of {x} is {math.sqrt(x):.2f}.\")\n",
    "# Output: The square root of 10 is 3.16.\n",
    "\n",
    "x = 10\n",
    "print(\"The square root of {} is {}\".format(x,math.sqrt(x)))"
   ]
  },
  {
   "cell_type": "code",
   "execution_count": 68,
   "id": "6f1fd575-522b-4e8f-a14f-55457e42dd62",
   "metadata": {},
   "outputs": [
    {
     "name": "stdout",
     "output_type": "stream",
     "text": [
      "Ram got total marks 219 out of 300\n",
      "Ram got total marks 219 out of 300\n"
     ]
    }
   ],
   "source": [
    "english = 78\n",
    "maths = 56\n",
    "hindi = 85\n",
    "\n",
    "print(f\"Ram got total marks {english + maths + hindi} out of 300\")\n",
    "\n",
    "print(\"Ram got total marks {} out of 300\".format(english + maths + hindi))"
   ]
  },
  {
   "cell_type": "code",
   "execution_count": 62,
   "id": "5155a5ad-9276-4c3a-99df-83ce83ce450e",
   "metadata": {},
   "outputs": [
    {
     "name": "stdout",
     "output_type": "stream",
     "text": [
      "My name is Alice and I'm 25 years old\n",
      "My name is Alice and I'm 25 years old\n",
      "My name is Alice and I'm 25 years old\n"
     ]
    }
   ],
   "source": [
    "name = \"Alice\"\n",
    "age = 25\n",
    "# Using % operator (old style)\n",
    "print(\"My name is %s and I'm %d years old\" % (name, age))\n",
    "# Using str.format()\n",
    "print(\"My name is {} and I'm {} years old\".format(name, age))\n",
    "# Using f-string\n",
    "print(f\"My name is {name} and I'm {age} years old\")"
   ]
  },
  {
   "cell_type": "markdown",
   "id": "7f11903b-ec59-403b-bb18-66178ea11a91",
   "metadata": {},
   "source": [
    "#### Escape Characters\n",
    "- An escape character is a backslash \\ followed by the character you want to insert."
   ]
  },
  {
   "cell_type": "code",
   "execution_count": 45,
   "id": "06185834-6d5d-48a6-9bba-806b8a151e3c",
   "metadata": {},
   "outputs": [
    {
     "ename": "SyntaxError",
     "evalue": "invalid syntax (4013392309.py, line 1)",
     "output_type": "error",
     "traceback": [
      "\u001b[1;36m  Cell \u001b[1;32mIn[45], line 1\u001b[1;36m\u001b[0m\n\u001b[1;33m    txt = \"We are the so-called \"Vikings\" from the north.\"\u001b[0m\n\u001b[1;37m                                 ^\u001b[0m\n\u001b[1;31mSyntaxError\u001b[0m\u001b[1;31m:\u001b[0m invalid syntax\n"
     ]
    }
   ],
   "source": [
    "txt = \"We are the so-called \"Vikings\" from the north.\"\n",
    "print(txt)"
   ]
  },
  {
   "cell_type": "code",
   "execution_count": 47,
   "id": "d5df4395-41bc-4a72-88b5-4b10c7adc683",
   "metadata": {},
   "outputs": [
    {
     "name": "stdout",
     "output_type": "stream",
     "text": [
      "We are the so-called \"Vikings\" from the north.\n"
     ]
    }
   ],
   "source": [
    "txt = \"We are the so-called \\\"Vikings\\\" from the north.\"\n",
    "print(txt)"
   ]
  },
  {
   "cell_type": "code",
   "execution_count": 49,
   "id": "ef32fbed-012a-4051-985a-c2b0fe292983",
   "metadata": {},
   "outputs": [
    {
     "name": "stdout",
     "output_type": "stream",
     "text": [
      "We are the so-called Viking's from the north.\n"
     ]
    }
   ],
   "source": [
    "txt = \"We are the so-called Viking\\'s from the north.\"\n",
    "print(txt)"
   ]
  },
  {
   "cell_type": "markdown",
   "id": "929ec81a-7dfc-4633-a8ac-74327cf910d3",
   "metadata": {},
   "source": [
    "#### String Methods"
   ]
  },
  {
   "cell_type": "markdown",
   "id": "529ca79a-64e8-4562-8b24-fb9621f9a989",
   "metadata": {},
   "source": [
    "https://www.w3schools.com/python/python_strings_methods.asp"
   ]
  },
  {
   "cell_type": "code",
   "execution_count": null,
   "id": "a27dc1dd-0c24-499b-bf49-010b0d57aa45",
   "metadata": {},
   "outputs": [],
   "source": []
  }
 ],
 "metadata": {
  "kernelspec": {
   "display_name": "Python [conda env:base] *",
   "language": "python",
   "name": "conda-base-py"
  },
  "language_info": {
   "codemirror_mode": {
    "name": "ipython",
    "version": 3
   },
   "file_extension": ".py",
   "mimetype": "text/x-python",
   "name": "python",
   "nbconvert_exporter": "python",
   "pygments_lexer": "ipython3",
   "version": "3.12.7"
  }
 },
 "nbformat": 4,
 "nbformat_minor": 5
}
