{
 "cells": [
  {
   "cell_type": "markdown",
   "id": "80fcab2d-326d-41e7-ac81-ece0de3d2c3c",
   "metadata": {},
   "source": [
    "### Strings\n",
    "- Collection of characters written inside single or double quotes for text in single line.\n",
    "- Can be written in single, double or triple quotes. Use triple quotes to write text in multiple lines."
   ]
  },
  {
   "cell_type": "code",
   "execution_count": 5,
   "id": "86aa1c15-e5fb-40f9-8891-9d3304c4ecfa",
   "metadata": {},
   "outputs": [
    {
     "name": "stdout",
     "output_type": "stream",
     "text": [
      "<class 'str'>\n",
      "He\n",
      "llo\n"
     ]
    }
   ],
   "source": [
    " # Double quotes\n",
    "str1 = \"Hello\"\n",
    "print(type(str1))\n",
    "print(str1) #Calling the variable"
   ]
  },
  {
   "cell_type": "code",
   "execution_count": 22,
   "id": "ba640055-447e-403d-8af0-3b00f0ca8071",
   "metadata": {},
   "outputs": [
    {
     "name": "stdout",
     "output_type": "stream",
     "text": [
      "<class 'str'>\n",
      "Hello\n"
     ]
    }
   ],
   "source": [
    "# Single quotes\n",
    "str1 = 'Hello'\n",
    "print(type(str1))\n",
    "print(str1)"
   ]
  },
  {
   "cell_type": "code",
   "execution_count": 14,
   "id": "5a035682-6faa-4825-acad-612faa3e6a8a",
   "metadata": {},
   "outputs": [
    {
     "name": "stdout",
     "output_type": "stream",
     "text": [
      "<class 'str'>\n",
      "Hello\n"
     ]
    }
   ],
   "source": [
    "# Triple single quotes\n",
    "str1 = '''Hello'''\n",
    "print(type(str1))\n",
    "print(str1)"
   ]
  },
  {
   "cell_type": "code",
   "execution_count": 26,
   "id": "9ee6931d-beeb-49bc-a44b-883895fc0aae",
   "metadata": {},
   "outputs": [
    {
     "name": "stdout",
     "output_type": "stream",
     "text": [
      "<class 'str'>\n",
      "Hell\n",
      "o\n"
     ]
    }
   ],
   "source": [
    "# Triple single quotes in multiple lines\n",
    "str1 = '''Hell\n",
    "o'''\n",
    "print(type(str1))\n",
    "print(str1)"
   ]
  },
  {
   "cell_type": "code",
   "execution_count": 28,
   "id": "01920060-d45a-4bf9-a94a-2509cada8303",
   "metadata": {},
   "outputs": [
    {
     "name": "stdout",
     "output_type": "stream",
     "text": [
      "<class 'str'>\n",
      "Hello\n"
     ]
    }
   ],
   "source": [
    "# Triple double quotes in single lines\n",
    "str1 = \"\"\"Hello\"\"\"\n",
    "print(type(str1))\n",
    "print(str1)"
   ]
  },
  {
   "cell_type": "code",
   "execution_count": 30,
   "id": "cf089b03-f1a4-4d07-8b65-d50b46cce7a7",
   "metadata": {},
   "outputs": [
    {
     "name": "stdout",
     "output_type": "stream",
     "text": [
      "<class 'str'>\n",
      "Hel\n",
      "lo\n"
     ]
    }
   ],
   "source": [
    "# Triple double quotes in multiple lines\n",
    "str1 = \"\"\"Hel\n",
    "lo\"\"\"\n",
    "print(type(str1))\n",
    "print(str1)"
   ]
  },
  {
   "cell_type": "code",
   "execution_count": 33,
   "id": "f7a3701f-b51b-420a-9521-ef5a0790374f",
   "metadata": {},
   "outputs": [
    {
     "ename": "SyntaxError",
     "evalue": "unterminated string literal (detected at line 1) (1325025059.py, line 1)",
     "output_type": "error",
     "traceback": [
      "\u001b[1;36m  Cell \u001b[1;32mIn[33], line 1\u001b[1;36m\u001b[0m\n\u001b[1;33m    str1 = ''''Hello''''\u001b[0m\n\u001b[1;37m                       ^\u001b[0m\n\u001b[1;31mSyntaxError\u001b[0m\u001b[1;31m:\u001b[0m unterminated string literal (detected at line 1)\n"
     ]
    }
   ],
   "source": [
    "str1 = ''''Hello''''\n",
    "print(type(str1))\n",
    "print(str1)"
   ]
  },
  {
   "cell_type": "markdown",
   "id": "83359cb3-d42d-488f-b31b-418c5b667656",
   "metadata": {},
   "source": [
    "### String Indexing - access using [index_number]\n",
    "- String indexing allows us to access individual characters in a string\n",
    "- Indexes starts from 0 (Positive indexing) > From L to R\n",
    "- Negative indexing starts from -1, from R to L\n",
    "- Example\n",
    "- H   e   l    l  o    P   y   t  h  o  n\n",
    "- 0   1   2    3  4  5 6   7  8  9  10 11\n",
    "- -12 -11 -10 -9 -8 -7 -6 -5 - 4 -3 -2 -1"
   ]
  },
  {
   "cell_type": "raw",
   "id": "112c1854-10ea-4d61-aef7-5fdbb630654a",
   "metadata": {},
   "source": [
    "H\t\t e\t\t l \t\t l \t\t o \t   space\t\tP \t\ty \t\tt \t\th \t\to \t\tn\n",
    "0 \t\t 1 \t\t 2 \t\t 3 \t\t 4 \t\t5 \t\t    6 \t\t7 \t\t8 \t\t9 \t\t10 \t\t11\n",
    "-12 \t-11 \t-10 \t-9 \t\t-8 \t\t-7 \t\t   -6\t\t-5\t\t-4\t\t-3\t\t-2\t\t-1"
   ]
  },
  {
   "cell_type": "code",
   "execution_count": 2,
   "id": "c734cbcd-36ea-4135-a9e5-5a660e573bff",
   "metadata": {},
   "outputs": [
    {
     "name": "stdout",
     "output_type": "stream",
     "text": [
      "Hello Python\n",
      "Hello Python\n"
     ]
    }
   ],
   "source": [
    "s1=\"Hello Python\"\n",
    "\n",
    "# Print entire string\n",
    "print(s1)\n",
    "#or\n",
    "print(s1[:])"
   ]
  },
  {
   "cell_type": "code",
   "execution_count": 4,
   "id": "f8ff7f8f-8bc7-41de-8f98-a73c55614a68",
   "metadata": {},
   "outputs": [
    {
     "name": "stdout",
     "output_type": "stream",
     "text": [
      "l\n",
      "e\n",
      "H\n",
      "P\n",
      "n\n",
      "n\n"
     ]
    }
   ],
   "source": [
    "# Print l\n",
    "print(s1[2])\n",
    "\n",
    "# Print e\n",
    "print(s1[1])\n",
    "\n",
    "# Print first characters H and P\n",
    "print(s1[0])\n",
    "print(s1[6])\n",
    "\n",
    "# Print the last character n\n",
    "print(s1[11])\n",
    "#or\n",
    "print(s1[-1])"
   ]
  },
  {
   "cell_type": "markdown",
   "id": "edb12da5-0bd9-47cc-aa0e-cdb6599288b6",
   "metadata": {},
   "source": [
    "### Length function\n",
    "- To count the number of characters in a string\n",
    "- len(string_Variable_name)"
   ]
  },
  {
   "cell_type": "code",
   "execution_count": 4,
   "id": "e6c601dd-5f07-4e1b-8259-6cfb053ff4bf",
   "metadata": {},
   "outputs": [
    {
     "name": "stdout",
     "output_type": "stream",
     "text": [
      "12\n",
      "n\n",
      "n\n",
      "h\n",
      "h\n"
     ]
    }
   ],
   "source": [
    "s1=\"Hello Python\"\n",
    "print(len(s1))\n",
    "\n",
    "# Get Last character of any given string, irrespective of the length\n",
    "print(s1[len(s1)-1])\n",
    "# Or\n",
    "print(s1[-1])\n",
    "\n",
    "# Always get the last 3rd character from the given input string\n",
    "print(s1[len(s1)-3])\n",
    "# Or\n",
    "print(s1[-3])"
   ]
  },
  {
   "cell_type": "code",
   "execution_count": 15,
   "id": "839af7ea-7a79-43f9-832f-9c01fdb9834a",
   "metadata": {},
   "outputs": [
    {
     "name": "stdout",
     "output_type": "stream",
     "text": [
      "P   l\n"
     ]
    }
   ],
   "source": [
    "# Negative indexing\n",
    "print(s1[-6], ' ', s1[-10])"
   ]
  },
  {
   "cell_type": "markdown",
   "id": "6972f37c-8591-414f-9f03-1cd87aa948ad",
   "metadata": {},
   "source": [
    "### String slicing\n",
    "- <b>Note:-</b> Python interpreter executes from left to right\n",
    "- Syntax:-\n",
    "- variable_name[start:stop:step]\n",
    "- <b>start value</b> is <b>inclusive</b> i.e. starting position = given value, if value is not given, consider from starting position.\n",
    "- <b>stop value</b> is <b>exclusive</b> i.e. stop position value-1, if value is not given, consider till end of string.\n",
    "- <b>Note:- </b> If end value is given more than the length of the string, it prints till the end.\n",
    "- <b>step value</b> is <b>increment</b> by value and also tells the <b>direction</b> of execution, +ve is forward direction and -ve is a backword direction. If step_value is +ve, end value = end value - 1 and if step_value is -ve, end value = end value + 1\n",
    "- <b>Execution order</b>:-\n",
    "- First take the slice, based on given start and stop positions and then take the direction to decide the output\n",
    "- <b>All possible ways</b> to write the syntax are mentioned below\n",
    "- variable_name[start:stop] >>> From start to stop value - 1\n",
    "- variable_name[start:] >>> From start value till end, as end value is not mentioned\n",
    "- variable_name[:stop]\n",
    "- since start value is null, it take from the begining of string till stop value -1\n",
    "- variable_name[start:stop:step]\n",
    "- from start value, till stop value-1, with increment of step value\n",
    "- if step value is positive, it takes from begining\n",
    "- if step value is negative, it takes from end\n",
    "- variable_name[::-1]\n",
    "- since start and stop are null, it takes from start to end, but in reverse\n",
    "- variable_name[:]\n",
    "- since nothing is mentioned, from start value to the end, form L to R"
   ]
  },
  {
   "cell_type": "code",
   "execution_count": 7,
   "id": "4cfe84bf-85e4-453f-b0d0-56c4b883a29a",
   "metadata": {},
   "outputs": [
    {
     "name": "stdout",
     "output_type": "stream",
     "text": [
      "Hello P\n"
     ]
    }
   ],
   "source": [
    "s1=\"Hello Python\"\n",
    "print(s1[0:7])\n",
    "# Execution in background \n",
    "# 0, 7-1, +ve = 0,6,1 >>> 0,1,2,3,4,5,6"
   ]
  },
  {
   "cell_type": "code",
   "execution_count": 25,
   "id": "6d983519-2b2e-40b4-a9a1-6f5e3c034e34",
   "metadata": {},
   "outputs": [
    {
     "name": "stdout",
     "output_type": "stream",
     "text": [
      "Hello Python\n",
      "nohtyP olleH\n",
      "nohty\n",
      "nohty\n"
     ]
    }
   ],
   "source": [
    "# End value greater than length of the string\n",
    "s1=\"Hello Python\"\n",
    "\n",
    "print(s1[0:25])\n",
    "# 0,25-1,+ve >>> 0 to 24...\n",
    "\n",
    "print(s1[-1:-25:-1])\n",
    "# -1, -25+1(since -ve increment, add one), -ve reverse >>> -1,-2,-3.... till -24\n",
    "\n",
    "print(s1[-1:-6:-1])\n",
    "# -1,-6+1 (since -ve increment),-ve >>> -1,to-5\n",
    "\n",
    "print(s1[-1:6:-1])\n",
    "# -1,6+1 (since -ve increment),-ve reverse >>> -1,to 7"
   ]
  },
  {
   "cell_type": "code",
   "execution_count": 26,
   "id": "0990fb4c-ef6e-46e0-9343-e0bd18a5f366",
   "metadata": {},
   "outputs": [
    {
     "name": "stdout",
     "output_type": "stream",
     "text": [
      "Hello Python\n"
     ]
    }
   ],
   "source": [
    "s1=\"Hello Python\"\n",
    "print(s1[0:])\n",
    "# Execution in background\n",
    "# 0,till end,+ve = 0,12-1,1"
   ]
  },
  {
   "cell_type": "code",
   "execution_count": 32,
   "id": "400733d8-c8e0-4ea5-addf-5c776330dcfe",
   "metadata": {},
   "outputs": [
    {
     "name": "stdout",
     "output_type": "stream",
     "text": [
      "Python\n",
      "Python\n"
     ]
    }
   ],
   "source": [
    "s1=\"Hello Python\"\n",
    "print(s1[6:])\n",
    "# Execution in background\n",
    "# 6,till end, +ve\n",
    "\n",
    "print(s1[6:12])\n",
    "# Execution in background\n",
    "# 6,12-1, +ve = 6,11,+ve"
   ]
  },
  {
   "cell_type": "code",
   "execution_count": 38,
   "id": "2083fdae-d8ea-4b9f-bbce-13096f768420",
   "metadata": {},
   "outputs": [
    {
     "name": "stdout",
     "output_type": "stream",
     "text": [
      "\n"
     ]
    }
   ],
   "source": [
    "s1=\"Hello Python\"\n",
    "print(s1[5:2]) #Executes from left to right\n",
    "# 5,2-1,+ve = 5,1,+ve >>> Since end position is given as 2, but increment is +ve, it has to go from 5,6,7,8,9,10,11 than .... it cannot reset to 0, the vallue is NULL"
   ]
  },
  {
   "cell_type": "code",
   "execution_count": 46,
   "id": "a5a3ead4-4ce3-4fff-a3bd-5d6c2be47938",
   "metadata": {},
   "outputs": [
    {
     "name": "stdout",
     "output_type": "stream",
     "text": [
      "Python\n",
      "\n",
      "\n"
     ]
    }
   ],
   "source": [
    "# Negative indexing\n",
    "s1=\"Hello Python\"\n",
    "print(s1[-6:])\n",
    "# -6,till end, +ve = Since end position is not given, it is till end of any side, and step value is +ve, it goes from -6,-5,-4,-3,-2,-1\n",
    "\n",
    "s1=\"Hello Python\"\n",
    "print(s1[-6:0])\n",
    "# -6,0,+ve >>> Since end value is given as 0, it has to print till 0, but since increment is +ve, it cannot reset back to zero, hence NULL\n",
    "# -6,-5,-4,-3,-2,-1,0\n",
    "\n",
    "s1=\"Hello Python\"\n",
    "print(s1[-6:1])\n",
    "# -6,0,+ve >>> Since end value is given as 0, it has to print till 0, but since increment is +ve, it cannot reset back to zero, hence NULL\n",
    "# -6,-5,-4,-3,-2,-1,0"
   ]
  },
  {
   "cell_type": "code",
   "execution_count": 129,
   "id": "1241cb39-53dd-423d-b654-8217da1724fb",
   "metadata": {},
   "outputs": [
    {
     "name": "stdout",
     "output_type": "stream",
     "text": [
      "[2.3, 6, 'kk']\n",
      "[99, [3], [3.3, 'akk', 5]]\n"
     ]
    }
   ],
   "source": [
    "l3=[2.3, 6, 'kk', 9, [3.3, 'akk', 5], [3], 99]\n",
    "print(l3[:-4:])\n",
    "# start till -4-1 >>> start till -5\n",
    "\n",
    "l3=[2.3, 6, 'kk', 9, [3.3, 'akk', 5], [3], 99]\n",
    "print(l3[:-4:-1])\n",
    "# in reverse start, -4+1 = reverse start till -3"
   ]
  },
  {
   "cell_type": "code",
   "execution_count": 44,
   "id": "1341ba3c-fed8-4c12-bb52-38027ee35604",
   "metadata": {},
   "outputs": [
    {
     "name": "stdout",
     "output_type": "stream",
     "text": [
      "\n",
      "Hello\n",
      " olle\n"
     ]
    }
   ],
   "source": [
    "# Negative indexing\n",
    "s1=\"Hello Python\"\n",
    "\n",
    "print(s1[5:3])\n",
    "# 5,3-1,+ve >>> since end value is 2, but start is 5,6,7... no reset, hence NULL\n",
    "\n",
    "print(s1[-12:-7])\n",
    "# -12, -7-1, +ve >>> -12,-11,-10,-9,-8\n",
    "\n",
    "print(s1[-7:-12:-1])\n",
    "# -7,-12+1,-ve >>> -7,-8,...,-11"
   ]
  },
  {
   "cell_type": "code",
   "execution_count": 48,
   "id": "4b68f0e2-8516-4d09-8a14-4501d5a3aedb",
   "metadata": {},
   "outputs": [
    {
     "name": "stdout",
     "output_type": "stream",
     "text": [
      "el yh\n"
     ]
    }
   ],
   "source": [
    "# Step value\n",
    "s1=\"Hello Python\"\n",
    "print(s1[1:10:2])\n",
    "# 1,10-1,+2 increment by 2 >>> 1,9,+2 >>> 1,3,5,7,9"
   ]
  },
  {
   "cell_type": "code",
   "execution_count": 50,
   "id": "f6cc7b37-c492-4651-ac69-675bf5f0eb90",
   "metadata": {},
   "outputs": [
    {
     "name": "stdout",
     "output_type": "stream",
     "text": [
      "nohtyP olleH\n"
     ]
    }
   ],
   "source": [
    "# -1 Reverse\n",
    "s1=\"Hello Python\"\n",
    "print(s1[::-1])\n",
    "# start any direction, till end any direction, -ve >>> Since -1 step hence backword direction >>> -1,-2,......-12"
   ]
  },
  {
   "cell_type": "code",
   "execution_count": 52,
   "id": "e615061a-0fd0-4bde-9d16-5b3973f9ca81",
   "metadata": {},
   "outputs": [
    {
     "name": "stdout",
     "output_type": "stream",
     "text": [
      "nohtyP olle\n",
      "nohtyP oll\n",
      "htyP oll\n"
     ]
    }
   ],
   "source": [
    "# -1 Reverse\n",
    "s1=\"Hello Python\"\n",
    "print(s1[-1:-12:-1])\n",
    "# -1,-12+1, - ve >>> -1,-11,-ve >>> -1,-2,-3....-11 reverse order\n",
    "\n",
    "print(s1[-1:-11:-1])\n",
    "# -1,-11+1, -ve >>> -1,-10, -ve >>> -1,-2,-3....-10 reverse order\n",
    "\n",
    "print(s1[-3:-11:-1])\n",
    "# -3, -11+1,-ve >>> -3, -10, -ve >>> -3,-4,-5....-10 reverse order"
   ]
  },
  {
   "cell_type": "code",
   "execution_count": 54,
   "id": "8a8ded20-b08f-4daf-9763-a638fe4cfda6",
   "metadata": {},
   "outputs": [
    {
     "name": "stdout",
     "output_type": "stream",
     "text": [
      "Python\n",
      " Pyth\n",
      "Hello Pyth\n",
      "HlP\n",
      "HloPt\n"
     ]
    }
   ],
   "source": [
    "s2=\"Hello Python\"\n",
    "\n",
    "print(s2[6:])\n",
    "# 6,till end, +ve >>> 6,7.... \n",
    "\n",
    "print(s2[5:10])\n",
    "# 5,10-1,+ve >>> 5,6,7,8,9\n",
    "\n",
    "print(s2[:10])\n",
    "# start, 10-1,+ve >>> Since positive start from L to R >>> 0,1,2,....9\n",
    "\n",
    "print(s2[0:9:3])\n",
    "# 0,9-1,+ve 3 >>> 0,8,3 >>> 0,3,6\n",
    "\n",
    "print(s2[0:9:2])\n",
    "# 0,9-1,2 >>> 0,2,4,6,8"
   ]
  },
  {
   "cell_type": "markdown",
   "id": "8ad85afc-a7b6-4728-9937-fa4f05cfd107",
   "metadata": {},
   "source": [
    "#### Copying "
   ]
  },
  {
   "cell_type": "code",
   "execution_count": 56,
   "id": "57818246-9e04-445c-b714-17b11229aadb",
   "metadata": {},
   "outputs": [
    {
     "name": "stdout",
     "output_type": "stream",
     "text": [
      "Hello Python\n",
      "Hello Python\n"
     ]
    }
   ],
   "source": [
    "# Copying\n",
    "s1=\"Hello Python\"\n",
    "s2=s1[:]\n",
    "print(s2)\n",
    "\n",
    "s3=s1[::]\n",
    "print(s3)"
   ]
  },
  {
   "cell_type": "code",
   "execution_count": 60,
   "id": "ed26613b-4a58-4118-a31d-88013cbcf73a",
   "metadata": {},
   "outputs": [
    {
     "name": "stdout",
     "output_type": "stream",
     "text": [
      "o\n",
      "on\n",
      " -2,till end, +ve forward direction >>> -2,-1\n"
     ]
    }
   ],
   "source": [
    "# Reverse\n",
    "s2=\"Hello Python\"\n",
    "\n",
    "print(s2[-2])\n",
    "\n",
    "print(s2[-2:])\n",
    "print(\"\"\" -2,till end, +ve forward direction >>> -2,-1\"\"\")"
   ]
  },
  {
   "cell_type": "code",
   "execution_count": 66,
   "id": "3d693d19-3d5e-4087-b3b1-6d0854a9e34d",
   "metadata": {},
   "outputs": [
    {
     "name": "stdout",
     "output_type": "stream",
     "text": [
      "o\n",
      "\n"
     ]
    }
   ],
   "source": [
    "# Reverse\n",
    "s2=\"Hello Python\"\n",
    "\n",
    "print(s2[-2:-1])\n",
    "# -2,-1-1,+ve >>> -2,-2 same position, only one value\n",
    "\n",
    "print(s2[-2:1])\n",
    "# -2, 1-1,+ve >>> -2,0 >>> Cannot reset, blank"
   ]
  },
  {
   "cell_type": "code",
   "execution_count": 72,
   "id": "45d19d51-0170-4edf-a942-46d6c3ecba13",
   "metadata": {},
   "outputs": [
    {
     "name": "stdout",
     "output_type": "stream",
     "text": [
      "nohtyP olleH\n",
      " start, till end, -ve >>> backword direction\n",
      "nohtyP olle\n",
      "start, -12+1,-ve reverse >>> -1,....-11\n",
      "nohtyP olleH\n",
      " # start, -13+1,-ve backword >>> -1,.....-12\n",
      "nohtyP olleH\n",
      "# -1,-13+1,-ve backword >>> -1,....,-12\n"
     ]
    }
   ],
   "source": [
    "# Reverse\n",
    "s2=\"Hello Python\"\n",
    "\n",
    "print(s2[::-1])\n",
    "print(\"\"\" start, till end, -ve >>> backword direction\"\"\")\n",
    "\n",
    "print(s2[:-12:-1])\n",
    "print(\"\"\"start, -12+1,-ve reverse >>> -1,....-11\"\"\")\n",
    "\n",
    "print(s2[:-13:-1])\n",
    "print(\"\"\" # start, -13+1,-ve backword >>> -1,.....-12\"\"\")\n",
    "\n",
    "print(s2[-1:-13:-1])\n",
    "print(\"\"\"# -1,-13+1,-ve backword >>> -1,....,-12\"\"\")"
   ]
  },
  {
   "cell_type": "code",
   "execution_count": 76,
   "id": "b94064c1-58a2-4132-81aa-2e8c75074e18",
   "metadata": {},
   "outputs": [
    {
     "name": "stdout",
     "output_type": "stream",
     "text": [
      "nhy le\n",
      "# start, end, -ve backword >>> -1,-3,-5,-7,-9,-11,-13\n",
      "ohtyP olleH\n",
      "# -2, till end, -ve backword >>> -2, -3, -4,....,-12\n",
      "htyP olleH\n",
      "# -3, till end, -ve backword >>> -3, -4, ...-12\n"
     ]
    }
   ],
   "source": [
    "# Reverse\n",
    "s2=\"Hello Python\"\n",
    "\n",
    "print(s2[::-2])\n",
    "print(\"\"\"# start, end, -ve backword >>> -1,-3,-5,-7,-9,-11,-13\"\"\")\n",
    "\n",
    "print(s2[-2::-1])\n",
    "print(\"\"\"# -2, till end, -ve backword >>> -2, -3, -4,....,-12\"\"\")\n",
    "\n",
    "print(s2[-3::-1])\n",
    "print(\"\"\"# -3, till end, -ve backword >>> -3, -4, ...-12\"\"\")"
   ]
  },
  {
   "cell_type": "code",
   "execution_count": 92,
   "id": "2c36df2f-b8ec-46a0-9695-a43a04ef9fbc",
   "metadata": {},
   "outputs": [
    {
     "name": "stdout",
     "output_type": "stream",
     "text": [
      "o\n",
      "\n",
      "\n",
      "\n",
      "\n",
      "\n"
     ]
    }
   ],
   "source": [
    "# Reverse\n",
    "s2=\"Hello Python\"\n",
    "\n",
    "print(s2[-2])\n",
    "# this is not slicing, only one value\n",
    "\n",
    "print(s1[-6:1])\n",
    "# -6, 1-1,+ve forward >>> -6,-5,...till 1, cannot reset NULL\n",
    "\n",
    "print(s1[-6:0])\n",
    "# -6,-5 till 0, cannot reset >>> null output\n",
    "\n",
    "print(s1[-6:1])\n",
    "# -6,-5 till 1, cannot reset >>> null output\n",
    "\n",
    "print(s1[5:3])\n",
    "# 5,6,7, till 3 cannot reset >>> null output\n",
    "\n",
    "print(s1[-2:-7])\n",
    "# -2,-1 till -8 cannot reset >>> null output"
   ]
  },
  {
   "cell_type": "code",
   "execution_count": 98,
   "id": "f4486097-d2b0-4c19-976c-cf10a2b03596",
   "metadata": {},
   "outputs": [
    {
     "data": {
      "text/plain": [
       "'llo Py'"
      ]
     },
     "execution_count": 98,
     "metadata": {},
     "output_type": "execute_result"
    }
   ],
   "source": [
    "# Negative indexing starts from -1\n",
    "s1[-10:-4]\n",
    "# -10,-4-1,+Ve >>> -10,-9,.....-5"
   ]
  },
  {
   "cell_type": "code",
   "execution_count": 100,
   "id": "94abc00e-886b-4c78-8f8a-b1fed347ee47",
   "metadata": {},
   "outputs": [
    {
     "data": {
      "text/plain": [
       "''"
      ]
     },
     "execution_count": 100,
     "metadata": {},
     "output_type": "execute_result"
    }
   ],
   "source": [
    "# Negative indexing starts from -1\n",
    "s1='Hello Python'\n",
    "\n",
    "s1[-12:-10:-1]\n",
    "# -12,-10+1,+Ve >>> -12,-13 till -9 >>> cant reset > null"
   ]
  },
  {
   "cell_type": "code",
   "execution_count": 102,
   "id": "60fe2477-0376-480a-b70d-bb6a3bfcdbcd",
   "metadata": {},
   "outputs": [
    {
     "data": {
      "text/plain": [
       "'llo Pyt'"
      ]
     },
     "execution_count": 102,
     "metadata": {},
     "output_type": "execute_result"
    }
   ],
   "source": [
    "s1[-10:-3]\n",
    "# -10,-3-1,+ve >>> -10,-4,+ve >>> -10,-9,...-4"
   ]
  },
  {
   "cell_type": "code",
   "execution_count": 106,
   "id": "38690da2-92ef-4f01-af89-83a18f77a6f7",
   "metadata": {},
   "outputs": [
    {
     "data": {
      "text/plain": [
       "'Hello Python'"
      ]
     },
     "execution_count": 106,
     "metadata": {},
     "output_type": "execute_result"
    }
   ],
   "source": [
    "s1[-12:]\n",
    "# -12, till end, +ve >>> -12,-11,....-1"
   ]
  },
  {
   "cell_type": "code",
   "execution_count": 108,
   "id": "b3d95c55-ae11-4496-8231-465b173168a1",
   "metadata": {},
   "outputs": [
    {
     "data": {
      "text/plain": [
       "'Python'"
      ]
     },
     "execution_count": 108,
     "metadata": {},
     "output_type": "execute_result"
    }
   ],
   "source": [
    "s1[-6:]\n",
    "# -6, till end, +Ve >>> -6,-5,....,-1"
   ]
  },
  {
   "cell_type": "code",
   "execution_count": 110,
   "id": "a733a8df-f28c-4463-8a86-4d37a04c54ed",
   "metadata": {},
   "outputs": [
    {
     "data": {
      "text/plain": [
       "'Hello'"
      ]
     },
     "execution_count": 110,
     "metadata": {},
     "output_type": "execute_result"
    }
   ],
   "source": [
    "s1=\"Hello Python\"\n",
    "s1[:-7]\n",
    "# start,-7-1,+ve >>> start to till -8"
   ]
  },
  {
   "cell_type": "markdown",
   "id": "ab4d603c-aed6-4347-b065-1cff666c7d6a",
   "metadata": {},
   "source": [
    "#### Start value also depends on end value when start value is null"
   ]
  },
  {
   "cell_type": "code",
   "execution_count": 112,
   "id": "8d782af2-1956-4792-ad9b-1cf0a0ca8b42",
   "metadata": {},
   "outputs": [
    {
     "data": {
      "text/plain": [
       "''"
      ]
     },
     "execution_count": 112,
     "metadata": {},
     "output_type": "execute_result"
    }
   ],
   "source": [
    "s1[-12:-7:-1]\n",
    "# -12,-7+1,-ve >>> -12,-13,.... till -6 cannot reset, null"
   ]
  },
  {
   "cell_type": "code",
   "execution_count": 114,
   "id": "27169985-d47d-454e-ba66-c0e0ef5d66a5",
   "metadata": {},
   "outputs": [
    {
     "data": {
      "text/plain": [
       "'Hlo'"
      ]
     },
     "execution_count": 114,
     "metadata": {},
     "output_type": "execute_result"
    }
   ],
   "source": [
    "s1[-12:-7:2]\n",
    "# -12,-7-1,+Ve >>> -12,-10,-8..."
   ]
  },
  {
   "cell_type": "code",
   "execution_count": 116,
   "id": "15d535a5-2152-4dcf-9089-63a6eb5dff84",
   "metadata": {},
   "outputs": [
    {
     "data": {
      "text/plain": [
       "'HlPh'"
      ]
     },
     "execution_count": 116,
     "metadata": {},
     "output_type": "execute_result"
    }
   ],
   "source": [
    "s1[::3]\n",
    "# 0,3,6,9,12"
   ]
  },
  {
   "cell_type": "code",
   "execution_count": 259,
   "id": "8c0f69a0-2a77-4a8e-a4f6-7f35156227ea",
   "metadata": {},
   "outputs": [],
   "source": [
    "s2=\"Data is the new fuel\"\n",
    "#Positive and negative indexing"
   ]
  },
  {
   "cell_type": "markdown",
   "id": "53b8e2de-9e18-4f31-b212-a27a8c9190a6",
   "metadata": {},
   "source": [
    "#### Update and Delete on Strings\n",
    "- Strings are Immutable, but update or delete can only be done using the functions\n",
    "- Update is done using <b>replace</b> function\n",
    "- Delete is done using <b>del</b> function"
   ]
  },
  {
   "cell_type": "code",
   "execution_count": 36,
   "id": "2964ac03-6f77-44b6-bfdb-ca6ff5142bd5",
   "metadata": {},
   "outputs": [
    {
     "ename": "TypeError",
     "evalue": "'str' object does not support item assignment",
     "output_type": "error",
     "traceback": [
      "\u001b[1;31m---------------------------------------------------------------------------\u001b[0m",
      "\u001b[1;31mTypeError\u001b[0m                                 Traceback (most recent call last)",
      "Cell \u001b[1;32mIn[36], line 1\u001b[0m\n\u001b[1;32m----> 1\u001b[0m str1[\u001b[38;5;241m0\u001b[39m]\u001b[38;5;241m=\u001b[39m\u001b[38;5;124m'\u001b[39m\u001b[38;5;124ma\u001b[39m\u001b[38;5;124m'\u001b[39m \u001b[38;5;66;03m# We can't use slicing method to update characters in a string \u001b[39;00m\n\u001b[0;32m      2\u001b[0m str1[\u001b[38;5;241m0\u001b[39m:\u001b[38;5;241m2\u001b[39m]\u001b[38;5;241m=\u001b[39m\u001b[38;5;124m'\u001b[39m\u001b[38;5;124mab\u001b[39m\u001b[38;5;124m'\u001b[39m\n",
      "\u001b[1;31mTypeError\u001b[0m: 'str' object does not support item assignment"
     ]
    }
   ],
   "source": [
    "str1[0]='a' # We can't use slicing method to update characters in a string \n",
    "str1[0:2]='ab'"
   ]
  },
  {
   "cell_type": "code",
   "execution_count": 28,
   "id": "908e48ab-d013-4da3-87a6-2b96381db91e",
   "metadata": {},
   "outputs": [
    {
     "name": "stdout",
     "output_type": "stream",
     "text": [
      "This is Python class \n",
      " This is Python theater\n",
      "This is Python kk\n",
      "Thwas was Python kk\n"
     ]
    }
   ],
   "source": [
    "str1=\"This is Python class\"\n",
    "str2=str1.replace('class','theater')\n",
    "print(str1,'\\n',str2)\n",
    "str1=str1.replace('class','kk')\n",
    "print(str1)\n",
    "print(str1.replace('is','was'))"
   ]
  },
  {
   "cell_type": "code",
   "execution_count": 52,
   "id": "c5bffa2f-da0a-4d78-af72-f63dfeedaa90",
   "metadata": {},
   "outputs": [
    {
     "name": "stdout",
     "output_type": "stream",
     "text": [
      "\n"
     ]
    }
   ],
   "source": [
    "# delete a string, string is not deleted, only made null\n",
    "str1=\"This is Python class\"\n",
    "str1=str1.replace(str1,'')\n",
    "print(str1)"
   ]
  },
  {
   "cell_type": "code",
   "execution_count": 50,
   "id": "d80aca4a-de7a-4eb1-8ba4-6ba7518c732d",
   "metadata": {},
   "outputs": [
    {
     "name": "stdout",
     "output_type": "stream",
     "text": [
      "This is Python class\n"
     ]
    },
    {
     "ename": "NameError",
     "evalue": "name 'str1' is not defined",
     "output_type": "error",
     "traceback": [
      "\u001b[1;31m---------------------------------------------------------------------------\u001b[0m",
      "\u001b[1;31mNameError\u001b[0m                                 Traceback (most recent call last)",
      "Cell \u001b[1;32mIn[50], line 5\u001b[0m\n\u001b[0;32m      3\u001b[0m \u001b[38;5;28mprint\u001b[39m(str1)\n\u001b[0;32m      4\u001b[0m \u001b[38;5;28;01mdel\u001b[39;00m str1\n\u001b[1;32m----> 5\u001b[0m \u001b[38;5;28mprint\u001b[39m(str1)\n",
      "\u001b[1;31mNameError\u001b[0m: name 'str1' is not defined"
     ]
    }
   ],
   "source": [
    "# Or delete using del method\n",
    "str1=\"This is Python class\"\n",
    "print(str1)\n",
    "del str1\n",
    "print(str1)"
   ]
  },
  {
   "cell_type": "markdown",
   "id": "d956d660-53f4-42b8-b90f-0490ccc471c4",
   "metadata": {},
   "source": [
    "#### String membership\n",
    "- IN and NOT IN"
   ]
  },
  {
   "cell_type": "code",
   "execution_count": 294,
   "id": "32ea2f3c-5008-4db6-abdb-11d03b524f4f",
   "metadata": {},
   "outputs": [
    {
     "data": {
      "text/plain": [
       "True"
      ]
     },
     "execution_count": 294,
     "metadata": {},
     "output_type": "execute_result"
    }
   ],
   "source": [
    "mystr = \"Hello Python\"\n",
    "'Hello' in mystr"
   ]
  },
  {
   "cell_type": "code",
   "execution_count": 298,
   "id": "784c19bd-7e50-432d-bac4-ee0a996d12c0",
   "metadata": {},
   "outputs": [
    {
     "data": {
      "text/plain": [
       "False"
      ]
     },
     "execution_count": 298,
     "metadata": {},
     "output_type": "execute_result"
    }
   ],
   "source": [
    "mystr = \"Hello Python\"\n",
    "'hello' in mystr"
   ]
  },
  {
   "cell_type": "code",
   "execution_count": 300,
   "id": "e889cf17-303c-496c-8eac-8a88673c741c",
   "metadata": {},
   "outputs": [
    {
     "data": {
      "text/plain": [
       "False"
      ]
     },
     "execution_count": 300,
     "metadata": {},
     "output_type": "execute_result"
    }
   ],
   "source": [
    "mystr = \"Hello Python\"\n",
    "'Hello' not in mystr"
   ]
  },
  {
   "cell_type": "code",
   "execution_count": 304,
   "id": "6a864f89-81a6-4750-81cb-fb144a71f447",
   "metadata": {},
   "outputs": [
    {
     "data": {
      "text/plain": [
       "True"
      ]
     },
     "execution_count": 304,
     "metadata": {},
     "output_type": "execute_result"
    }
   ],
   "source": [
    "mystr = \"Hello Python\"\n",
    "'kk' not in mystr"
   ]
  },
  {
   "cell_type": "markdown",
   "id": "472ee23d-a318-46ad-b29f-6a683a0211ba",
   "metadata": {},
   "source": [
    "#### String Concatenation\n",
    "- Done using + operator"
   ]
  },
  {
   "cell_type": "code",
   "execution_count": 320,
   "id": "307e9a32-215a-4111-a104-4d64345d2f24",
   "metadata": {},
   "outputs": [
    {
     "name": "stdout",
     "output_type": "stream",
     "text": [
      "datascience\n",
      "data science\n",
      "data science\n",
      "data \n",
      "science\n"
     ]
    }
   ],
   "source": [
    "s1 = \"data\"\n",
    "s2 = \"science\"\n",
    "print(s1+s2)\n",
    "print(s1+' '+s2)\n",
    "print(s1+\" \"+s2)\n",
    "print(s1+\"\"\" \n",
    "\"\"\"+s2)"
   ]
  },
  {
   "cell_type": "code",
   "execution_count": 50,
   "id": "d6848d4f-e253-4e36-a3eb-05c79fb27f90",
   "metadata": {},
   "outputs": [
    {
     "data": {
      "text/plain": [
       "'23'"
      ]
     },
     "execution_count": 50,
     "metadata": {},
     "output_type": "execute_result"
    }
   ],
   "source": [
    "'2'+'3'"
   ]
  },
  {
   "cell_type": "code",
   "execution_count": 55,
   "id": "c34ed295-a3ce-4754-aa5a-3483d41250d8",
   "metadata": {},
   "outputs": [
    {
     "name": "stdout",
     "output_type": "stream",
     "text": [
      "False\n",
      "True\n"
     ]
    }
   ],
   "source": [
    "s1='Kranthi'\n",
    "s2='kranthi'\n",
    "s3='Kranthi'\n",
    "print(s1==s2)\n",
    "print(s1==s3)"
   ]
  },
  {
   "cell_type": "code",
   "execution_count": 126,
   "id": "c443acaa-94d2-4e83-96f2-46919dd4a8ba",
   "metadata": {},
   "outputs": [
    {
     "name": "stdout",
     "output_type": "stream",
     "text": [
      "leuf wen eh\n",
      "leuf wen e\n",
      "uf wen e\n"
     ]
    }
   ],
   "source": [
    "s1='Data is the new fuel'\n",
    "# -1 Reverse\n",
    "print(s1[-1:-12:-1])\n",
    "print(s1[-1:-11:-1])\n",
    "print(s1[-3:-11:-1])"
   ]
  },
  {
   "cell_type": "code",
   "execution_count": 130,
   "id": "fb2976a4-1b20-459b-a7a4-15427964ee6d",
   "metadata": {},
   "outputs": [
    {
     "name": "stdout",
     "output_type": "stream",
     "text": [
      "leuf wen eht si ataD\n",
      "e\n",
      "leuf wen eh\n",
      "leuf wen eht\n",
      "leuf wen eht\n",
      "lu e h iaa\n",
      "euf wen eht si ataD\n",
      "uf wen eht si ataD\n",
      "e\n",
      "\n",
      "\n"
     ]
    }
   ],
   "source": [
    "# Reverse\n",
    "s2='Data is the new fuel'\n",
    "\n",
    "print(s2[::-1])\n",
    "\n",
    "print(s2[-2])\n",
    "\n",
    "print(s2[:-12:-1])\n",
    "\n",
    "print(s2[:-13:-1])\n",
    "\n",
    "print(s2[-1:-13:-1])\n",
    "\n",
    "print(s2[::-2])\n",
    "\n",
    "print(s2[-2::-1])\n",
    "\n",
    "print(s2[-3::-1])\n",
    "\n",
    "print(s2[-2])\n",
    "\n",
    "print(s1[-6:1])\n",
    "\n",
    "print(s1[-6:1])"
   ]
  },
  {
   "cell_type": "code",
   "execution_count": 14,
   "id": "23cf4206-47f1-43a9-831d-57b4c636759f",
   "metadata": {},
   "outputs": [
    {
     "name": "stdout",
     "output_type": "stream",
     "text": [
      "\n",
      "\n",
      "\n",
      "the n\n",
      "en eh\n"
     ]
    }
   ],
   "source": [
    "# Negative indexing\n",
    "s1='Data is the new fuel'\n",
    "\n",
    "print(s1[-6:0])\n",
    "\n",
    "print(s1[-6:1])\n",
    "\n",
    "print(s1[5:3])\n",
    "\n",
    "print(s1[-12:-7])\n",
    "\n",
    "print(s1[-7:-12:-1])"
   ]
  },
  {
   "cell_type": "code",
   "execution_count": null,
   "id": "f0571131-4735-4003-95a3-4f427af7945d",
   "metadata": {},
   "outputs": [],
   "source": []
  }
 ],
 "metadata": {
  "kernelspec": {
   "display_name": "Python [conda env:base] *",
   "language": "python",
   "name": "conda-base-py"
  },
  "language_info": {
   "codemirror_mode": {
    "name": "ipython",
    "version": 3
   },
   "file_extension": ".py",
   "mimetype": "text/x-python",
   "name": "python",
   "nbconvert_exporter": "python",
   "pygments_lexer": "ipython3",
   "version": "3.12.7"
  }
 },
 "nbformat": 4,
 "nbformat_minor": 5
}
