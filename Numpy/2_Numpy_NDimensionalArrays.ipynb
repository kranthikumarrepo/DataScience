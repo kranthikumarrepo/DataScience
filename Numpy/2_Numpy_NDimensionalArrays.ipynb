{
 "cells": [
  {
   "cell_type": "markdown",
   "id": "37f2cbb8-3821-41cf-852d-a954cdeed964",
   "metadata": {},
   "source": [
    "#### scalar and vector\n",
    "dist and displacement\n",
    "1d,2d,3d arrays\n",
    "\n",
    "all above are 1d arrays"
   ]
  },
  {
   "cell_type": "markdown",
   "id": "59c7352f-786a-4ab9-998f-0cdec659ea9d",
   "metadata": {},
   "source": [
    "#### N Dimensional arrays"
   ]
  },
  {
   "cell_type": "code",
   "execution_count": 12,
   "id": "275804af-83c7-4722-be95-3ee6e301eb38",
   "metadata": {},
   "outputs": [
    {
     "name": "stdout",
     "output_type": "stream",
     "text": [
      "[1 2 7 4 7]\n",
      "<class 'numpy.ndarray'>\n"
     ]
    }
   ],
   "source": [
    "import numpy as np\n",
    "list1 = [1,2,7,4,7]\n",
    "arr1 = np.array(list1)\n",
    "print(arr1)\n",
    "print(type(arr1))"
   ]
  },
  {
   "cell_type": "code",
   "execution_count": 14,
   "id": "75abedcf-ffaa-48b8-86a6-58783cbda010",
   "metadata": {},
   "outputs": [
    {
     "data": {
      "text/plain": [
       "1"
      ]
     },
     "execution_count": 14,
     "metadata": {},
     "output_type": "execute_result"
    }
   ],
   "source": [
    "# ndim >>> To get the dimention of the array\n",
    "\n",
    "arr1.ndim"
   ]
  },
  {
   "cell_type": "code",
   "execution_count": 28,
   "id": "a5ad7ffe-a1df-4ae5-b53b-da4eb82fff7a",
   "metadata": {},
   "outputs": [
    {
     "data": {
      "text/plain": [
       "(5,)"
      ]
     },
     "execution_count": 28,
     "metadata": {},
     "output_type": "execute_result"
    }
   ],
   "source": [
    "# shape >>> To get the shape of the array\n",
    "\n",
    "arr1.shape"
   ]
  },
  {
   "cell_type": "code",
   "execution_count": 30,
   "id": "b412f4f2-628a-40f2-97e9-816427570cc7",
   "metadata": {},
   "outputs": [
    {
     "data": {
      "text/plain": [
       "5"
      ]
     },
     "execution_count": 30,
     "metadata": {},
     "output_type": "execute_result"
    }
   ],
   "source": [
    "# size >>> To get the size of the array\n",
    "\n",
    "arr1.size"
   ]
  },
  {
   "cell_type": "code",
   "execution_count": 50,
   "id": "893dc276-2594-4422-b0ad-cd57f87d1062",
   "metadata": {},
   "outputs": [
    {
     "name": "stdout",
     "output_type": "stream",
     "text": [
      "Array is \n",
      " [[2 4 6 8]\n",
      " [1 2 3 4]]\n",
      "Type of the array is  <class 'numpy.ndarray'>\n",
      "Dimension of the array is  2\n",
      "Shape of the arrays is  (2, 4)\n",
      "Size of the array is  8\n"
     ]
    }
   ],
   "source": [
    "list2 = [[2,4,6,8],[1,2,3,4]]\n",
    "arr2 = np.array(list2)\n",
    "print(\"Array is \\n\",arr2)\n",
    "print(\"Type of the array is \",type(arr2))\n",
    "print(\"Dimension of the array is \",arr2.ndim)\n",
    "print(\"Shape of the arrays is \", arr2.shape)\n",
    "print(\"Size of the array is \",arr2.size)"
   ]
  },
  {
   "cell_type": "code",
   "execution_count": 54,
   "id": "938286ed-ce13-4235-a529-85b0ee682c6a",
   "metadata": {},
   "outputs": [
    {
     "name": "stdout",
     "output_type": "stream",
     "text": [
      "Array is \n",
      " [[2 4 6 8]\n",
      " [1 2 3 4]\n",
      " [1 3 5 7]]\n",
      "Type of the array is  <class 'numpy.ndarray'>\n",
      "Dimension of the array is  2\n",
      "Shape of the arrays is  (3, 4)\n",
      "Size of the array is  12\n"
     ]
    }
   ],
   "source": [
    "list3 = [[2, 4, 6, 8], [1, 2, 3, 4], [1, 3, 5, 7]]\n",
    "arr3 = np.array(list3)\n",
    "print(\"Array is \\n\",arr3)\n",
    "print(\"Type of the array is \",type(arr3))\n",
    "print(\"Dimension of the array is \",arr3.ndim)\n",
    "print(\"Shape of the arrays is \", arr3.shape)\n",
    "print(\"Size of the array is \",arr3.size)"
   ]
  },
  {
   "cell_type": "code",
   "execution_count": 56,
   "id": "6405c816-4ac4-4120-b414-d81d1ee383ec",
   "metadata": {},
   "outputs": [],
   "source": [
    "# Number of brackets = Number of dimentions of the array"
   ]
  },
  {
   "cell_type": "code",
   "execution_count": 58,
   "id": "2ffbe898-512f-4078-bc01-a85129d4028b",
   "metadata": {},
   "outputs": [
    {
     "name": "stdout",
     "output_type": "stream",
     "text": [
      "Array is \n",
      " [[[ 2  4  6  8]\n",
      "  [12 14 16 18]\n",
      "  [21 41 61 81]]\n",
      "\n",
      " [[ 2  4  6  8]\n",
      "  [12 14 16 18]\n",
      "  [21 41 61 81]]]\n",
      "Type of the array is  <class 'numpy.ndarray'>\n",
      "Dimension of the array is  3\n",
      "Shape of the arrays is  (2, 3, 4)\n",
      "Size of the array is  24\n"
     ]
    }
   ],
   "source": [
    "list4 = [[[2, 4, 6, 8],[12, 14, 16, 18],[21, 41, 61, 81]],[[2, 4, 6, 8],[12, 14, 16, 18],[21, 41, 61, 81]]]\n",
    "arr4 = np.array(list4)\n",
    "print(\"Array is \\n\",arr4)\n",
    "print(\"Type of the array is \",type(arr4))\n",
    "print(\"Dimension of the array is \",arr4.ndim)\n",
    "print(\"Shape of the arrays is \", arr4.shape)\n",
    "print(\"Size of the array is \",arr4.size)"
   ]
  },
  {
   "cell_type": "code",
   "execution_count": 64,
   "id": "431ffec9-1b4a-43f7-af89-d7f4935171f1",
   "metadata": {},
   "outputs": [
    {
     "name": "stdout",
     "output_type": "stream",
     "text": [
      "Array is \n",
      " [[[ 2  4  6]\n",
      "  [12 14 16]\n",
      "  [21 41 61]\n",
      "  [22 24 26]\n",
      "  [22 42 62]]\n",
      "\n",
      " [[ 2  4  6]\n",
      "  [12 14 16]\n",
      "  [21 41 61]\n",
      "  [22 24 26]\n",
      "  [22 42 62]]\n",
      "\n",
      " [[ 2  4  6]\n",
      "  [12 14 16]\n",
      "  [21 41 61]\n",
      "  [22 24 26]\n",
      "  [22 42 62]]]\n",
      "Type of the array is  <class 'numpy.ndarray'>\n",
      "Dimension of the array is  3\n",
      "Shape of the arrays is  (3, 5, 3)\n",
      "Size of the array is  45\n"
     ]
    }
   ],
   "source": [
    "list5 = [\n",
    "    [\n",
    "        [2, 4, 6],[12, 14, 16],[21, 41, 61],[22, 24, 26],[22, 42, 62]\n",
    "    ],\n",
    "    [\n",
    "        [2, 4, 6],[12, 14, 16],[21, 41, 61],[22, 24, 26],[22, 42, 62]\n",
    "    ],\n",
    "    [\n",
    "        [2, 4, 6],[12, 14, 16],[21, 41, 61],[22, 24, 26],[22, 42, 62]\n",
    "    ]\n",
    "]\n",
    "arr5 = np.array(list5)\n",
    "print(\"Array is \\n\",arr5)\n",
    "print(\"Type of the array is \",type(arr5))\n",
    "print(\"Dimension of the array is \",arr5.ndim)\n",
    "print(\"Shape of the arrays is \", arr5.shape)\n",
    "print(\"Size of the array is \",arr5.size)"
   ]
  },
  {
   "cell_type": "code",
   "execution_count": 68,
   "id": "0718fc45-f011-4146-9397-f6c388c1fe26",
   "metadata": {},
   "outputs": [
    {
     "name": "stdout",
     "output_type": "stream",
     "text": [
      "Array is \n",
      " [[[[ 2  4  6]\n",
      "   [12 14 16]\n",
      "   [21 41 61]\n",
      "   [22 24 26]\n",
      "   [22 42 62]]\n",
      "\n",
      "  [[ 2  4  6]\n",
      "   [12 14 16]\n",
      "   [21 41 61]\n",
      "   [22 24 26]\n",
      "   [22 42 62]]\n",
      "\n",
      "  [[ 2  4  6]\n",
      "   [12 14 16]\n",
      "   [21 41 61]\n",
      "   [22 24 26]\n",
      "   [22 42 62]]]\n",
      "\n",
      "\n",
      " [[[ 2  4  6]\n",
      "   [12 14 16]\n",
      "   [21 41 61]\n",
      "   [22 24 26]\n",
      "   [22 42 62]]\n",
      "\n",
      "  [[ 2  4  6]\n",
      "   [12 14 16]\n",
      "   [21 41 61]\n",
      "   [22 24 26]\n",
      "   [22 42 62]]\n",
      "\n",
      "  [[ 2  4  6]\n",
      "   [12 14 16]\n",
      "   [21 41 61]\n",
      "   [22 24 26]\n",
      "   [22 42 62]]]]\n",
      "Type of the array is  <class 'numpy.ndarray'>\n",
      "Dimension of the array is  4\n",
      "Shape of the arrays is  (2, 3, 5, 3)\n",
      "Size of the array is  90\n"
     ]
    }
   ],
   "source": [
    "# Create 2 3 5 3 matrix\n",
    "list6 = [\n",
    "[\n",
    "    [\n",
    "        [2, 4, 6],[12, 14, 16],[21, 41, 61],[22, 24, 26],[22, 42, 62]\n",
    "    ],\n",
    "    [\n",
    "        [2, 4, 6],[12, 14, 16],[21, 41, 61],[22, 24, 26],[22, 42, 62]\n",
    "    ],\n",
    "    [\n",
    "        [2, 4, 6],[12, 14, 16],[21, 41, 61],[22, 24, 26],[22, 42, 62]\n",
    "    ]\n",
    "],\n",
    "    [\n",
    "    [\n",
    "        [2, 4, 6],[12, 14, 16],[21, 41, 61],[22, 24, 26],[22, 42, 62]\n",
    "    ],\n",
    "    [\n",
    "        [2, 4, 6],[12, 14, 16],[21, 41, 61],[22, 24, 26],[22, 42, 62]\n",
    "    ],\n",
    "    [\n",
    "        [2, 4, 6],[12, 14, 16],[21, 41, 61],[22, 24, 26],[22, 42, 62]\n",
    "    ]\n",
    "]\n",
    "]\n",
    "arr6 = np.array(list6)\n",
    "print(\"Array is \\n\",arr6)\n",
    "print(\"Type of the array is \",type(arr6))\n",
    "print(\"Dimension of the array is \",arr6.ndim)\n",
    "print(\"Shape of the arrays is \", arr6.shape)\n",
    "print(\"Size of the array is \",arr6.size)"
   ]
  },
  {
   "cell_type": "code",
   "execution_count": null,
   "id": "753ae447-2252-40fd-8fb3-c761135c294f",
   "metadata": {},
   "outputs": [],
   "source": []
  }
 ],
 "metadata": {
  "kernelspec": {
   "display_name": "Python [conda env:base] *",
   "language": "python",
   "name": "conda-base-py"
  },
  "language_info": {
   "codemirror_mode": {
    "name": "ipython",
    "version": 3
   },
   "file_extension": ".py",
   "mimetype": "text/x-python",
   "name": "python",
   "nbconvert_exporter": "python",
   "pygments_lexer": "ipython3",
   "version": "3.12.7"
  }
 },
 "nbformat": 4,
 "nbformat_minor": 5
}
