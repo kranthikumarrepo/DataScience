{
 "cells": [
  {
   "cell_type": "code",
   "execution_count": 46,
   "id": "e1ebc824-9de3-460e-a260-efa980cd2390",
   "metadata": {},
   "outputs": [
    {
     "data": {
      "text/plain": [
       "array([ 1,  2,  3,  4,  5,  6,  7,  8,  9, 10, 11, 12, 13, 14, 15, 16, 17,\n",
       "       18, 19, 20, 21, 22])"
      ]
     },
     "execution_count": 46,
     "metadata": {},
     "output_type": "execute_result"
    }
   ],
   "source": [
    "# Create an array from 1 to 22 and then\n",
    "\n",
    "import numpy as np\n",
    "arr1 = np.arange(1,23,1)\n",
    "arr1"
   ]
  },
  {
   "cell_type": "markdown",
   "id": "af27e3e6-521b-48cd-9f1e-c20cc61bf048",
   "metadata": {},
   "source": [
    "#### Slicing from 1D array"
   ]
  },
  {
   "cell_type": "code",
   "execution_count": 48,
   "id": "383825f6-5eb7-4375-830e-85bb8ffa979b",
   "metadata": {},
   "outputs": [
    {
     "data": {
      "text/plain": [
       "10"
      ]
     },
     "execution_count": 48,
     "metadata": {},
     "output_type": "execute_result"
    }
   ],
   "source": [
    "# extract only 10\n",
    "\n",
    "arr1[9]"
   ]
  },
  {
   "cell_type": "code",
   "execution_count": 50,
   "id": "2e6cf4e2-4cc8-4d16-beea-416f2da57dde",
   "metadata": {},
   "outputs": [
    {
     "name": "stdout",
     "output_type": "stream",
     "text": [
      "[17 18 19 20 21 22]\n",
      "[17 18 19 20 21 22]\n",
      "[17 18 19 20 21 22]\n",
      "[17 18 19 20 21]\n"
     ]
    }
   ],
   "source": [
    "# extract 17 to 22\n",
    "\n",
    "print(arr1[16:])\n",
    "print(arr1[16:23])\n",
    "print(arr1[16:22])\n",
    "print(arr1[16:21])"
   ]
  },
  {
   "cell_type": "code",
   "execution_count": 66,
   "id": "0d71d4ff-af53-4f0c-9cb4-737c28cde3d7",
   "metadata": {},
   "outputs": [
    {
     "data": {
      "text/plain": [
       "array([ 0,  1,  2,  3,  4,  5,  6,  7,  8,  9, 10, 11, 12, 13, 14, 15, 16,\n",
       "       17, 18, 19, 20, 21, 22, 23])"
      ]
     },
     "execution_count": 66,
     "metadata": {},
     "output_type": "execute_result"
    }
   ],
   "source": [
    "# Create an array from 1 to 23 and then\n",
    "\n",
    "import numpy as np\n",
    "arr2 = np.arange(0,24,1)\n",
    "#arr2 = np.arange(24)\n",
    "arr2"
   ]
  },
  {
   "cell_type": "code",
   "execution_count": 54,
   "id": "8eb11149-30b8-48c8-afda-44e1ea989c66",
   "metadata": {},
   "outputs": [
    {
     "name": "stdout",
     "output_type": "stream",
     "text": [
      "16\n",
      "[16 17 18 19 20 21 22 23]\n",
      "[]\n",
      "[16 17 18 19 20 21 22]\n",
      "[16 17 18 19 20 21 22]\n",
      "[16 17 18 19 20 21]\n",
      "[16 17 18 19 20 21]\n"
     ]
    }
   ],
   "source": [
    "# get only 16\n",
    "print(arr2[16])\n",
    "\n",
    "# get from 16 tilll 23\n",
    "print(arr2[16:])\n",
    "\n",
    "# Guess the output\n",
    "print(arr2[16:1])\n",
    "\n",
    "# Get from 16 till 22\n",
    "print(arr2[16:-1])\n",
    "# from 16 till -1-1 = -2 i.e. 22\n",
    "print(arr2[16:23])\n",
    "\n",
    "# Get from 16 till 21\n",
    "print(arr2[16:-2])\n",
    "print(arr2[16:22])"
   ]
  },
  {
   "cell_type": "markdown",
   "id": "a0ba9655-909e-4ff8-a0d5-0c6d8d9bfc41",
   "metadata": {},
   "source": [
    "### Slicing from 2D array"
   ]
  },
  {
   "cell_type": "code",
   "execution_count": 76,
   "id": "701ed436-3174-43e3-9b9a-d539f9edad4f",
   "metadata": {},
   "outputs": [
    {
     "data": {
      "text/plain": [
       "array([[ 0,  1,  2,  3,  4,  5,  6,  7,  8,  9, 10, 11],\n",
       "       [12, 13, 14, 15, 16, 17, 18, 19, 20, 21, 22, 23]])"
      ]
     },
     "execution_count": 76,
     "metadata": {},
     "output_type": "execute_result"
    }
   ],
   "source": [
    "# Create an array with elements from 0 to 23 using arange and then convert it to 2*12 elements\n",
    "\n",
    "arr3 = np.arange(24).reshape(2,12)\n",
    "arr3"
   ]
  },
  {
   "cell_type": "code",
   "execution_count": 82,
   "id": "ead566fd-e056-4c40-a170-d139ab587f8d",
   "metadata": {},
   "outputs": [
    {
     "data": {
      "text/plain": [
       "array([ 0,  1,  2,  3,  4,  5,  6,  7,  8,  9, 10, 11])"
      ]
     },
     "execution_count": 82,
     "metadata": {},
     "output_type": "execute_result"
    }
   ],
   "source": [
    "# Get the 1st row completely\n",
    "arr3[0]"
   ]
  },
  {
   "cell_type": "code",
   "execution_count": 84,
   "id": "5dc33c05-8ca9-4832-a0b9-187597845028",
   "metadata": {},
   "outputs": [
    {
     "data": {
      "text/plain": [
       "array([12, 13, 14, 15, 16, 17, 18, 19, 20, 21, 22, 23])"
      ]
     },
     "execution_count": 84,
     "metadata": {},
     "output_type": "execute_result"
    }
   ],
   "source": [
    "# Get the 2nd row completely\n",
    "arr3[1]"
   ]
  },
  {
   "cell_type": "code",
   "execution_count": 86,
   "id": "5bc6fd91-52ba-4a45-9709-debb3b185a8d",
   "metadata": {},
   "outputs": [
    {
     "data": {
      "text/plain": [
       "array([12, 13, 14, 15, 16, 17])"
      ]
     },
     "execution_count": 86,
     "metadata": {},
     "output_type": "execute_result"
    }
   ],
   "source": [
    "# Get values from 12 to 17\n",
    "arr3[1][0:6]"
   ]
  },
  {
   "cell_type": "code",
   "execution_count": 90,
   "id": "e2eea82e-6dc0-448b-ac83-132907380957",
   "metadata": {},
   "outputs": [
    {
     "data": {
      "text/plain": [
       "21"
      ]
     },
     "execution_count": 90,
     "metadata": {},
     "output_type": "execute_result"
    }
   ],
   "source": [
    "# Get value 21\n",
    "arr3[1][9]"
   ]
  },
  {
   "cell_type": "code",
   "execution_count": 92,
   "id": "105d0981-22ff-4155-8df4-a9b25387c4a0",
   "metadata": {},
   "outputs": [
    {
     "data": {
      "text/plain": [
       "array([13, 14, 15, 16, 17, 18])"
      ]
     },
     "execution_count": 92,
     "metadata": {},
     "output_type": "execute_result"
    }
   ],
   "source": [
    "# Get values from 13 to 18\n",
    "arr3[1][1:7]"
   ]
  },
  {
   "cell_type": "markdown",
   "id": "e4e305d9-8eba-4c39-84d3-c93afa27313b",
   "metadata": {},
   "source": [
    "#### Slicing from 3D array"
   ]
  },
  {
   "cell_type": "code",
   "execution_count": 101,
   "id": "5b99c8fe-0ed0-4c0c-b232-5c3fc931a8b5",
   "metadata": {},
   "outputs": [
    {
     "data": {
      "text/plain": [
       "array([[[ 0,  1,  2],\n",
       "        [ 3,  4,  5]],\n",
       "\n",
       "       [[ 6,  7,  8],\n",
       "        [ 9, 10, 11]],\n",
       "\n",
       "       [[12, 13, 14],\n",
       "        [15, 16, 17]],\n",
       "\n",
       "       [[18, 19, 20],\n",
       "        [21, 22, 23]]])"
      ]
     },
     "execution_count": 101,
     "metadata": {},
     "output_type": "execute_result"
    }
   ],
   "source": [
    "# Create a 3D with values from 0 to 23 of size 4,2,3\n",
    "\n",
    "arr4 = np.arange(24).reshape(4,2,3)\n",
    "arr4"
   ]
  },
  {
   "cell_type": "code",
   "execution_count": 103,
   "id": "3b57bf23-e61f-4ad3-bb72-1e5014f6576b",
   "metadata": {},
   "outputs": [
    {
     "data": {
      "text/plain": [
       "array([[0, 1, 2],\n",
       "       [3, 4, 5]])"
      ]
     },
     "execution_count": 103,
     "metadata": {},
     "output_type": "execute_result"
    }
   ],
   "source": [
    "# Extract [[ 0,  1,  2],\n",
    "#        [ 3,  4,  5]]\n",
    "\n",
    "arr4[0]"
   ]
  },
  {
   "cell_type": "code",
   "execution_count": 105,
   "id": "76bdb570-df4c-4a59-b5c2-cc1b02882e0c",
   "metadata": {},
   "outputs": [
    {
     "data": {
      "text/plain": [
       "array([ 9, 10, 11])"
      ]
     },
     "execution_count": 105,
     "metadata": {},
     "output_type": "execute_result"
    }
   ],
   "source": [
    "# Extract [9 10 11]\n",
    "\n",
    "arr4[1][1]"
   ]
  },
  {
   "cell_type": "code",
   "execution_count": 107,
   "id": "7cf1988f-ecfc-4223-bcea-a4dcd4af2221",
   "metadata": {},
   "outputs": [
    {
     "data": {
      "text/plain": [
       "array([18, 19])"
      ]
     },
     "execution_count": 107,
     "metadata": {},
     "output_type": "execute_result"
    }
   ],
   "source": [
    "# Extract only 18 and 19\n",
    "arr4[3][0][0:2]"
   ]
  },
  {
   "cell_type": "code",
   "execution_count": 109,
   "id": "988e1dff-7248-4ff3-a198-9f1ea0075bd6",
   "metadata": {},
   "outputs": [
    {
     "data": {
      "text/plain": [
       "16"
      ]
     },
     "execution_count": 109,
     "metadata": {},
     "output_type": "execute_result"
    }
   ],
   "source": [
    "# Extract only 16\n",
    "arr4[2][1][1]"
   ]
  },
  {
   "cell_type": "code",
   "execution_count": 117,
   "id": "25e2e8a1-e08a-4be2-9457-7d0dbece4397",
   "metadata": {},
   "outputs": [
    {
     "name": "stdout",
     "output_type": "stream",
     "text": [
      "[13 14]\n",
      "[13 14]\n"
     ]
    }
   ],
   "source": [
    "# Extract only 13 and 14\n",
    "print(arr4[2][0][1:3])\n",
    "print(arr4[2][0][1:])"
   ]
  },
  {
   "cell_type": "code",
   "execution_count": 127,
   "id": "7c3d7428-9e37-453d-ac1b-86cdc91c7f51",
   "metadata": {},
   "outputs": [
    {
     "data": {
      "text/plain": [
       "array([ 0,  1,  2,  3,  4,  5,  6,  7,  8,  9, 10, 11, 12, 13, 14, 15])"
      ]
     },
     "execution_count": 127,
     "metadata": {},
     "output_type": "execute_result"
    }
   ],
   "source": [
    "# Create array from 0 to 15 and then extract values that are > 12\n",
    "arr5 = np.arange(16)\n",
    "arr5"
   ]
  },
  {
   "cell_type": "code",
   "execution_count": 131,
   "id": "a9956417-4e85-4225-b25f-0f972c43b46f",
   "metadata": {},
   "outputs": [
    {
     "name": "stdout",
     "output_type": "stream",
     "text": [
      "13\n",
      "14\n",
      "15\n"
     ]
    }
   ],
   "source": [
    "for i in arr5:\n",
    "    if i > 12:\n",
    "        print(i)"
   ]
  },
  {
   "cell_type": "markdown",
   "id": "410da98c-6d16-4f16-80f0-07eeb476fc99",
   "metadata": {},
   "source": [
    "#### boolean mask"
   ]
  },
  {
   "cell_type": "code",
   "execution_count": 143,
   "id": "87b2431d-b7cc-44ed-a0f6-d4ab479ed643",
   "metadata": {},
   "outputs": [
    {
     "data": {
      "text/plain": [
       "array([[ 0,  1,  2,  3,  4,  5,  6,  7,  8,  9, 10, 11, 12, 13, 14, 15]])"
      ]
     },
     "execution_count": 143,
     "metadata": {},
     "output_type": "execute_result"
    }
   ],
   "source": [
    "arr5[True]"
   ]
  },
  {
   "cell_type": "code",
   "execution_count": 145,
   "id": "1ec972fb-d890-4388-9b33-37eca47a2ea7",
   "metadata": {},
   "outputs": [
    {
     "data": {
      "text/plain": [
       "array([], shape=(0, 16), dtype=int32)"
      ]
     },
     "execution_count": 145,
     "metadata": {},
     "output_type": "execute_result"
    }
   ],
   "source": [
    "arr5[False]"
   ]
  },
  {
   "cell_type": "code",
   "execution_count": 147,
   "id": "0aece1c3-5f9d-4608-ad1a-20e9781ff515",
   "metadata": {},
   "outputs": [
    {
     "data": {
      "text/plain": [
       "array([False, False, False, False, False, False, False, False, False,\n",
       "       False, False, False, False,  True,  True,  True])"
      ]
     },
     "execution_count": 147,
     "metadata": {},
     "output_type": "execute_result"
    }
   ],
   "source": [
    "arr5 > 12"
   ]
  },
  {
   "cell_type": "code",
   "execution_count": 149,
   "id": "dc30cdb5-cdbb-401d-8b37-ed0982ee05f1",
   "metadata": {},
   "outputs": [
    {
     "data": {
      "text/plain": [
       "array([13, 14, 15])"
      ]
     },
     "execution_count": 149,
     "metadata": {},
     "output_type": "execute_result"
    }
   ],
   "source": [
    "arr5[arr5>12]"
   ]
  },
  {
   "cell_type": "markdown",
   "id": "113d49fe-e1ec-46a4-8bfa-d4ecfeb131c8",
   "metadata": {},
   "source": [
    "#### Slicing using for loop in 1D, 2D, 3D, etc. arrays"
   ]
  },
  {
   "cell_type": "code",
   "execution_count": 184,
   "id": "d34c3e3c-7d9a-410c-b124-c5815a03ebad",
   "metadata": {},
   "outputs": [
    {
     "data": {
      "text/plain": [
       "array([0, 1, 2, 3, 4, 5, 6, 7, 8])"
      ]
     },
     "execution_count": 184,
     "metadata": {},
     "output_type": "execute_result"
    }
   ],
   "source": [
    "# Create 1D array from 0 to 8 and then print values one by one\n",
    "arr1d = np.arange(9)\n",
    "arr1d"
   ]
  },
  {
   "cell_type": "code",
   "execution_count": 186,
   "id": "b76d225c-384d-4b27-99ec-982f3e7e7d69",
   "metadata": {},
   "outputs": [
    {
     "name": "stdout",
     "output_type": "stream",
     "text": [
      "0\n",
      "1\n",
      "2\n",
      "3\n",
      "4\n",
      "5\n",
      "6\n",
      "7\n",
      "8\n"
     ]
    }
   ],
   "source": [
    "for i in arr1d:\n",
    "    print(i)"
   ]
  },
  {
   "cell_type": "code",
   "execution_count": 196,
   "id": "6cd5016c-3da8-472e-a8bc-60e9ba73f0f5",
   "metadata": {},
   "outputs": [
    {
     "data": {
      "text/plain": [
       "array([[0, 1, 2],\n",
       "       [3, 4, 5],\n",
       "       [6, 7, 8]])"
      ]
     },
     "execution_count": 196,
     "metadata": {},
     "output_type": "execute_result"
    }
   ],
   "source": [
    "# Create 2D array from 0 to 9 of 3*3 and print each row\n",
    "arr2d = np.arange(9).reshape(3,3)\n",
    "arr2d"
   ]
  },
  {
   "cell_type": "code",
   "execution_count": 198,
   "id": "a2212a30-e00a-4950-ae6d-d0555d34f19e",
   "metadata": {},
   "outputs": [
    {
     "name": "stdout",
     "output_type": "stream",
     "text": [
      "[0 1 2]\n",
      "[3 4 5]\n",
      "[6 7 8]\n"
     ]
    }
   ],
   "source": [
    "# print each row separately\n",
    "for i in arr2d:\n",
    "    print(i)"
   ]
  },
  {
   "cell_type": "code",
   "execution_count": 200,
   "id": "76cb449b-c37f-4f53-8426-9b044f589e4e",
   "metadata": {},
   "outputs": [
    {
     "name": "stdout",
     "output_type": "stream",
     "text": [
      "0\n",
      "1\n",
      "2\n",
      "3\n",
      "4\n",
      "5\n",
      "6\n",
      "7\n",
      "8\n"
     ]
    }
   ],
   "source": [
    "# print each element separately from above 2D array\n",
    "for i in arr2d:\n",
    "    for j in i:\n",
    "        print(j)"
   ]
  },
  {
   "cell_type": "code",
   "execution_count": 202,
   "id": "740e9c7a-187a-450f-8647-a3fb735783f1",
   "metadata": {},
   "outputs": [
    {
     "name": "stdout",
     "output_type": "stream",
     "text": [
      "5\n"
     ]
    }
   ],
   "source": [
    "# Print only 5\n",
    "for i in arr2d:\n",
    "    for j in i:\n",
    "        if j == 5:\n",
    "            print(j)"
   ]
  },
  {
   "cell_type": "code",
   "execution_count": null,
   "id": "7e9817e7-2fc7-42bf-9dc0-8e9b435fbcbd",
   "metadata": {},
   "outputs": [],
   "source": []
  }
 ],
 "metadata": {
  "kernelspec": {
   "display_name": "Python [conda env:base] *",
   "language": "python",
   "name": "conda-base-py"
  },
  "language_info": {
   "codemirror_mode": {
    "name": "ipython",
    "version": 3
   },
   "file_extension": ".py",
   "mimetype": "text/x-python",
   "name": "python",
   "nbconvert_exporter": "python",
   "pygments_lexer": "ipython3",
   "version": "3.12.7"
  }
 },
 "nbformat": 4,
 "nbformat_minor": 5
}
