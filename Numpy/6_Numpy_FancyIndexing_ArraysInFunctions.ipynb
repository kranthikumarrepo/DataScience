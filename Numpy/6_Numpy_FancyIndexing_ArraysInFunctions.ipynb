{
 "cells": [
  {
   "cell_type": "code",
   "execution_count": 4,
   "id": "18fa53e2-26fa-40d8-bb4d-4db86533eaa6",
   "metadata": {},
   "outputs": [
    {
     "data": {
      "text/plain": [
       "array([[ 0,  1,  2,  3,  4],\n",
       "       [ 5,  6,  7,  8,  9],\n",
       "       [10, 11, 12, 13, 14],\n",
       "       [15, 16, 17, 18, 19],\n",
       "       [20, 21, 22, 23, 24],\n",
       "       [25, 26, 27, 28, 29]])"
      ]
     },
     "execution_count": 4,
     "metadata": {},
     "output_type": "execute_result"
    }
   ],
   "source": [
    "import numpy as np\n",
    "d = np.arange(30).reshape(6,5)\n",
    "d"
   ]
  },
  {
   "cell_type": "code",
   "execution_count": 36,
   "id": "1a1ae39d-d37d-499d-81a0-5340dd1ba1ae",
   "metadata": {},
   "outputs": [
    {
     "data": {
      "text/plain": [
       "array([ 1,  6, 11, 16, 21, 26])"
      ]
     },
     "execution_count": 36,
     "metadata": {},
     "output_type": "execute_result"
    }
   ],
   "source": [
    "# Get only 2nd column values\n",
    "d[:,1]"
   ]
  },
  {
   "cell_type": "code",
   "execution_count": 38,
   "id": "f8ca42b7-1064-431e-9c16-16c49afb91ef",
   "metadata": {},
   "outputs": [
    {
     "data": {
      "text/plain": [
       "array([ 3,  8, 13, 18, 23, 28])"
      ]
     },
     "execution_count": 38,
     "metadata": {},
     "output_type": "execute_result"
    }
   ],
   "source": [
    "# Get only 4th column values \n",
    "d[:,3]"
   ]
  },
  {
   "cell_type": "code",
   "execution_count": 40,
   "id": "3ef3cd60-0955-46eb-8d77-f761522fffc5",
   "metadata": {},
   "outputs": [
    {
     "data": {
      "text/plain": [
       "array([[ 1,  3,  4],\n",
       "       [ 6,  8,  9],\n",
       "       [11, 13, 14],\n",
       "       [16, 18, 19],\n",
       "       [21, 23, 24],\n",
       "       [26, 28, 29]])"
      ]
     },
     "execution_count": 40,
     "metadata": {},
     "output_type": "execute_result"
    }
   ],
   "source": [
    "# Get only 2nd, 4th and 5th column values\n",
    "d[:,[1,3,4]]"
   ]
  },
  {
   "cell_type": "code",
   "execution_count": 44,
   "id": "602ed758-40e8-48c4-b0f8-f9e7ddb6c2f6",
   "metadata": {},
   "outputs": [
    {
     "data": {
      "text/plain": [
       "array([[ 5,  6,  7,  8,  9],\n",
       "       [15, 16, 17, 18, 19],\n",
       "       [20, 21, 22, 23, 24]])"
      ]
     },
     "execution_count": 44,
     "metadata": {},
     "output_type": "execute_result"
    }
   ],
   "source": [
    "# Get only 2nd, 4th and 5th row values\n",
    "d[[1,3,4]]"
   ]
  },
  {
   "cell_type": "code",
   "execution_count": 54,
   "id": "36e9571d-e895-4cdf-925b-03ac170d0e9a",
   "metadata": {},
   "outputs": [
    {
     "data": {
      "text/plain": [
       "array([11, 16, 26])"
      ]
     },
     "execution_count": 54,
     "metadata": {},
     "output_type": "execute_result"
    }
   ],
   "source": [
    "# Extract only 11 16 and 26\n",
    "d[[2,3,5],[1]]"
   ]
  },
  {
   "cell_type": "markdown",
   "id": "a21aacba-6c59-435d-979f-a31c29084d6c",
   "metadata": {},
   "source": [
    "#### Pass Arrays to a function"
   ]
  },
  {
   "cell_type": "code",
   "execution_count": 63,
   "id": "541b5c28-79ab-4516-95f0-a64bb8be18c4",
   "metadata": {},
   "outputs": [
    {
     "data": {
      "text/plain": [
       "15"
      ]
     },
     "execution_count": 63,
     "metadata": {},
     "output_type": "execute_result"
    }
   ],
   "source": [
    "# Create a function to add 5 numbers\n",
    "add = lambda a,b,c,d,e : a+b+c+d+e\n",
    "add(1,2,3,4,5)"
   ]
  },
  {
   "cell_type": "code",
   "execution_count": 71,
   "id": "f37db8b3-6a77-40b8-9440-89bbb1ede572",
   "metadata": {},
   "outputs": [
    {
     "data": {
      "text/plain": [
       "array([0, 1, 2, 3, 4, 5])"
      ]
     },
     "execution_count": 71,
     "metadata": {},
     "output_type": "execute_result"
    }
   ],
   "source": [
    "# Create an array from 0 to 5 and find the square of each\n",
    "arr1 = np.arange(6)\n",
    "arr1"
   ]
  },
  {
   "cell_type": "code",
   "execution_count": 73,
   "id": "f3f8d23e-208c-454d-91ff-ef333d26efe1",
   "metadata": {},
   "outputs": [
    {
     "data": {
      "text/plain": [
       "array([ 0,  1,  4,  9, 16, 25])"
      ]
     },
     "execution_count": 73,
     "metadata": {},
     "output_type": "execute_result"
    }
   ],
   "source": [
    "sqr_arr1 = lambda a: a**2\n",
    "sqr_arr1(arr1)"
   ]
  },
  {
   "cell_type": "code",
   "execution_count": 77,
   "id": "f9899241-e423-4ef7-9d4b-82f66644676c",
   "metadata": {},
   "outputs": [
    {
     "data": {
      "text/plain": [
       "array([0.5       , 0.73105858, 0.88079708, 0.95257413, 0.98201379,\n",
       "       0.99330715])"
      ]
     },
     "execution_count": 77,
     "metadata": {},
     "output_type": "execute_result"
    }
   ],
   "source": [
    "# Sigmoid activation function using arrays and normal function\n",
    "# σ(x) = 1 / (1 + e^(-x)), where x is the input of arrays and e is Euler's number\n",
    "# Pass numbers from 0 to 5 to sigmoid function from an array\n",
    "\n",
    "def sigmoid(x):\n",
    "    return 1/(1 + np.exp(-x))\n",
    "\n",
    "nums = np.arange(6)\n",
    "sigmoid(nums)"
   ]
  },
  {
   "cell_type": "code",
   "execution_count": 85,
   "id": "ace56fd2-6d1f-42e7-b71b-a4448af5b2cd",
   "metadata": {},
   "outputs": [
    {
     "data": {
      "text/plain": [
       "array([0.5       , 0.73105858, 0.88079708, 0.95257413, 0.98201379,\n",
       "       0.99330715])"
      ]
     },
     "execution_count": 85,
     "metadata": {},
     "output_type": "execute_result"
    }
   ],
   "source": [
    "# Same function using lambda\n",
    "\n",
    "sigmoid = lambda x : 1/(1 + np.exp(-x))\n",
    "sigmoid(np.arange(6))"
   ]
  },
  {
   "cell_type": "code",
   "execution_count": null,
   "id": "c8bc1cd7-8f97-457b-92b6-d263a9c4b285",
   "metadata": {},
   "outputs": [],
   "source": []
  }
 ],
 "metadata": {
  "kernelspec": {
   "display_name": "Python [conda env:base] *",
   "language": "python",
   "name": "conda-base-py"
  },
  "language_info": {
   "codemirror_mode": {
    "name": "ipython",
    "version": 3
   },
   "file_extension": ".py",
   "mimetype": "text/x-python",
   "name": "python",
   "nbconvert_exporter": "python",
   "pygments_lexer": "ipython3",
   "version": "3.12.7"
  }
 },
 "nbformat": 4,
 "nbformat_minor": 5
}
