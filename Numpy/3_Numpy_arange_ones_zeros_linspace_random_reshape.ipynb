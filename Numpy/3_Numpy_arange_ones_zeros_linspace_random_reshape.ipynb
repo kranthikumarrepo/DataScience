{
 "cells": [
  {
   "cell_type": "code",
   "execution_count": 4,
   "id": "516866e8-a92e-493e-832c-bbf321445214",
   "metadata": {},
   "outputs": [
    {
     "data": {
      "text/plain": [
       "array([10, 12, 14, 16, 18])"
      ]
     },
     "execution_count": 4,
     "metadata": {},
     "output_type": "execute_result"
    }
   ],
   "source": [
    "# Arrange method - to create an array with the start value, end value(not included) and an increment\n",
    "\n",
    "import numpy as np\n",
    "np.arange(10,20,2)"
   ]
  },
  {
   "cell_type": "code",
   "execution_count": 10,
   "id": "6c6ddc4f-f77b-4523-b213-48c50849fd17",
   "metadata": {},
   "outputs": [
    {
     "data": {
      "text/plain": [
       "array([100, 150, 200, 250, 300, 350, 400, 450, 500, 550, 600, 650, 700,\n",
       "       750, 800, 850, 900, 950])"
      ]
     },
     "execution_count": 10,
     "metadata": {},
     "output_type": "execute_result"
    }
   ],
   "source": [
    "np.arange(100,1000,50)"
   ]
  },
  {
   "cell_type": "code",
   "execution_count": 12,
   "id": "1c330e43-8a79-4934-b76e-20e1a53c586e",
   "metadata": {},
   "outputs": [
    {
     "data": {
      "text/plain": [
       "array([0., 0., 0., 0., 0., 0., 0., 0., 0., 0., 0., 0.])"
      ]
     },
     "execution_count": 12,
     "metadata": {},
     "output_type": "execute_result"
    }
   ],
   "source": [
    "# Create an array with only zeros\n",
    "np.zeros(12)"
   ]
  },
  {
   "cell_type": "code",
   "execution_count": 14,
   "id": "29fc7294-26a7-4487-befc-3d1d24862642",
   "metadata": {},
   "outputs": [
    {
     "data": {
      "text/plain": [
       "array([1., 1., 1., 1., 1., 1., 1., 1.])"
      ]
     },
     "execution_count": 14,
     "metadata": {},
     "output_type": "execute_result"
    }
   ],
   "source": [
    "# Create an array with only one\n",
    "np.ones(8)"
   ]
  },
  {
   "cell_type": "code",
   "execution_count": 6,
   "id": "57380f7a-28e1-4a68-a936-2f82de1640c5",
   "metadata": {},
   "outputs": [
    {
     "data": {
      "text/plain": [
       "array([0.40847539, 0.44790949, 0.06957339, 0.21027855, 0.45374975,\n",
       "       0.85778831, 0.44319524, 0.56856955, 0.41045688, 0.21369682])"
      ]
     },
     "execution_count": 6,
     "metadata": {},
     "output_type": "execute_result"
    }
   ],
   "source": [
    "# Create an array with random numbers\n",
    "np.random.random(10)"
   ]
  },
  {
   "cell_type": "code",
   "execution_count": null,
   "id": "2aef22da-8912-4876-ae16-7cef938ab964",
   "metadata": {},
   "outputs": [],
   "source": [
    "# This does not create array, just a random number\n",
    "np.random.randint(10)"
   ]
  },
  {
   "cell_type": "code",
   "execution_count": 39,
   "id": "7b1f5647-30dd-4de6-a920-16d08001e94b",
   "metadata": {},
   "outputs": [
    {
     "data": {
      "text/plain": [
       "array([17, 45, 35, 97, 63, 48, 73, 13, 50, 17, 87, 16, 80, 28, 40, 10, 58,\n",
       "        3, 15, 42, 71, 42, 13, 45])"
      ]
     },
     "execution_count": 39,
     "metadata": {},
     "output_type": "execute_result"
    }
   ],
   "source": [
    "# Create an array with random integers\n",
    "np.random.randint(1,100,24)"
   ]
  },
  {
   "cell_type": "code",
   "execution_count": 32,
   "id": "6f8ddcdb-b62a-4ba1-ab30-4c4c7d56a950",
   "metadata": {},
   "outputs": [
    {
     "data": {
      "text/plain": [
       "array([ 10. ,  32.5,  55. ,  77.5, 100. ])"
      ]
     },
     "execution_count": 32,
     "metadata": {},
     "output_type": "execute_result"
    }
   ],
   "source": [
    "# Create an array starting with 10 and ending with 100 and with only 5 numbers with equal spacing\n",
    "np.linspace(10,100,5)"
   ]
  },
  {
   "cell_type": "code",
   "execution_count": 34,
   "id": "88b0ecb8-cf9e-41e2-be16-0b34723cf199",
   "metadata": {},
   "outputs": [
    {
     "data": {
      "text/plain": [
       "array([ 10.,  40.,  70., 100.])"
      ]
     },
     "execution_count": 34,
     "metadata": {},
     "output_type": "execute_result"
    }
   ],
   "source": [
    "np.linspace(10,100,4)"
   ]
  },
  {
   "cell_type": "code",
   "execution_count": 36,
   "id": "dc49bda0-9d24-4100-8d38-12910b7f283f",
   "metadata": {},
   "outputs": [
    {
     "data": {
      "text/plain": [
       "array([ 10.,  20.,  30.,  40.,  50.,  60.,  70.,  80.,  90., 100.])"
      ]
     },
     "execution_count": 36,
     "metadata": {},
     "output_type": "execute_result"
    }
   ],
   "source": [
    "np.linspace(10,100,10)"
   ]
  },
  {
   "cell_type": "code",
   "execution_count": 47,
   "id": "c2554406-b8ef-47a4-a7db-ec399bf4d724",
   "metadata": {},
   "outputs": [],
   "source": [
    "# Create an array with random integers\n",
    "arr1 = np.random.randint(1,100,24)"
   ]
  },
  {
   "cell_type": "code",
   "execution_count": 49,
   "id": "9b820f20-6092-444c-b0c0-d5937c4c5de7",
   "metadata": {},
   "outputs": [
    {
     "data": {
      "text/plain": [
       "array([[65, 27],\n",
       "       [43, 95],\n",
       "       [66, 23],\n",
       "       [87, 46],\n",
       "       [37, 24],\n",
       "       [97, 51],\n",
       "       [11, 46],\n",
       "       [86,  4],\n",
       "       [86,  5],\n",
       "       [30, 71],\n",
       "       [55,  2],\n",
       "       [40, 15]])"
      ]
     },
     "execution_count": 49,
     "metadata": {},
     "output_type": "execute_result"
    }
   ],
   "source": [
    "# Reshape the array to 12*2 >>> 2 elements * 12 rows\n",
    "\n",
    "arr1.reshape(12,2)"
   ]
  },
  {
   "cell_type": "code",
   "execution_count": 51,
   "id": "63e2b782-3c48-4ddb-ba76-c20f2335ca8d",
   "metadata": {},
   "outputs": [
    {
     "data": {
      "text/plain": [
       "array([[65, 27, 43, 95, 66, 23, 87, 46, 37, 24, 97, 51],\n",
       "       [11, 46, 86,  4, 86,  5, 30, 71, 55,  2, 40, 15]])"
      ]
     },
     "execution_count": 51,
     "metadata": {},
     "output_type": "execute_result"
    }
   ],
   "source": [
    "# Reshape the array to 12*2 >>> 12 elements * 2 rows\n",
    "\n",
    "arr1.reshape(2,12)"
   ]
  },
  {
   "cell_type": "code",
   "execution_count": 55,
   "id": "24840f6c-9c19-4e18-a72e-7ba61bdbd874",
   "metadata": {},
   "outputs": [
    {
     "data": {
      "text/plain": [
       "array([[[65, 27, 43, 95],\n",
       "        [66, 23, 87, 46],\n",
       "        [37, 24, 97, 51]],\n",
       "\n",
       "       [[11, 46, 86,  4],\n",
       "        [86,  5, 30, 71],\n",
       "        [55,  2, 40, 15]]])"
      ]
     },
     "execution_count": 55,
     "metadata": {},
     "output_type": "execute_result"
    }
   ],
   "source": [
    "# Reshape the array to 2*3*4 >>> Note that the total elements should match the multiplication value\n",
    "\n",
    "arr1.reshape(2,3,4)"
   ]
  },
  {
   "cell_type": "code",
   "execution_count": 59,
   "id": "a3848f97-813b-4b14-a41b-3f6bb2956935",
   "metadata": {},
   "outputs": [
    {
     "data": {
      "text/plain": [
       "array([ 0,  1,  2,  3,  4,  5,  6,  7,  8,  9, 10, 11, 12, 13, 14, 15, 16,\n",
       "       17, 18, 19, 20, 21, 22, 23])"
      ]
     },
     "execution_count": 59,
     "metadata": {},
     "output_type": "execute_result"
    }
   ],
   "source": [
    "# Create an array with 0 to 23 and reshape with 2 elements with 12 rows\n",
    "np.arange(24)\n",
    "#np.arange(24).reshape(12,2)"
   ]
  },
  {
   "cell_type": "code",
   "execution_count": 61,
   "id": "e3ee3b1e-8daa-4d6e-a7d2-d3013852a2a3",
   "metadata": {},
   "outputs": [
    {
     "data": {
      "text/plain": [
       "array([[ 0,  1],\n",
       "       [ 2,  3],\n",
       "       [ 4,  5],\n",
       "       [ 6,  7],\n",
       "       [ 8,  9],\n",
       "       [10, 11],\n",
       "       [12, 13],\n",
       "       [14, 15],\n",
       "       [16, 17],\n",
       "       [18, 19],\n",
       "       [20, 21],\n",
       "       [22, 23]])"
      ]
     },
     "execution_count": 61,
     "metadata": {},
     "output_type": "execute_result"
    }
   ],
   "source": [
    "np.arange(24).reshape(12,2)"
   ]
  },
  {
   "cell_type": "code",
   "execution_count": 63,
   "id": "3d096281-3d76-46ae-8bfd-f456bdbbe6ed",
   "metadata": {},
   "outputs": [
    {
     "data": {
      "text/plain": [
       "array([[ 0,  1],\n",
       "       [ 2,  3],\n",
       "       [ 4,  5],\n",
       "       [ 6,  7],\n",
       "       [ 8,  9],\n",
       "       [10, 11],\n",
       "       [12, 13],\n",
       "       [14, 15],\n",
       "       [16, 17],\n",
       "       [18, 19],\n",
       "       [20, 21],\n",
       "       [22, 23]])"
      ]
     },
     "execution_count": 63,
     "metadata": {},
     "output_type": "execute_result"
    }
   ],
   "source": [
    "np.arange(0,24,1).reshape(12,2)"
   ]
  },
  {
   "cell_type": "code",
   "execution_count": 65,
   "id": "74f5f749-776a-42c7-83fa-98e53b816af0",
   "metadata": {},
   "outputs": [
    {
     "data": {
      "text/plain": [
       "array([[[ 0,  1,  2,  3],\n",
       "        [ 4,  5,  6,  7],\n",
       "        [ 8,  9, 10, 11]],\n",
       "\n",
       "       [[12, 13, 14, 15],\n",
       "        [16, 17, 18, 19],\n",
       "        [20, 21, 22, 23]]])"
      ]
     },
     "execution_count": 65,
     "metadata": {},
     "output_type": "execute_result"
    }
   ],
   "source": [
    "np.arange(0,24,1).reshape(2,3,4)"
   ]
  }
 ],
 "metadata": {
  "kernelspec": {
   "display_name": "Python [conda env:base] *",
   "language": "python",
   "name": "conda-base-py"
  },
  "language_info": {
   "codemirror_mode": {
    "name": "ipython",
    "version": 3
   },
   "file_extension": ".py",
   "mimetype": "text/x-python",
   "name": "python",
   "nbconvert_exporter": "python",
   "pygments_lexer": "ipython3",
   "version": "3.12.7"
  }
 },
 "nbformat": 4,
 "nbformat_minor": 5
}
