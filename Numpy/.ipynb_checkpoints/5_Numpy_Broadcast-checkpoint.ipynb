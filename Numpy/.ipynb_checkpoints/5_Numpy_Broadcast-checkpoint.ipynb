{
 "cells": [
  {
   "cell_type": "code",
   "execution_count": 1,
   "id": "afde11e4-98d8-45be-b651-f61787b06030",
   "metadata": {},
   "outputs": [
    {
     "name": "stdout",
     "output_type": "stream",
     "text": [
      "[0 1 2 3 4 5 6 7]\n",
      "[ 8  9 10 11 12 13 14 15]\n"
     ]
    }
   ],
   "source": [
    "# Create two 1D arrays, one with numbers from 0 to 7 and the other from 8 to 15\n",
    "\n",
    "import numpy as np\n",
    "a1 = np.arange(8)\n",
    "a2 = np.arange(8,16)\n",
    "print(a1)\n",
    "print(a2)"
   ]
  },
  {
   "cell_type": "code",
   "execution_count": 3,
   "id": "3eaf036e-47d6-4da5-a685-7c7cebffd19e",
   "metadata": {},
   "outputs": [
    {
     "name": "stdout",
     "output_type": "stream",
     "text": [
      "[0 1 2 3 4 5 6 7]\n",
      "[ 8  9 10 11 12 13 14 15]\n",
      "Addition of array 1 and array 2 is  [ 8 10 12 14 16 18 20 22]\n"
     ]
    }
   ],
   "source": [
    "# Add both the arrays\n",
    "print(a1)\n",
    "print(a2)\n",
    "print(\"Addition of array 1 and array 2 is \",a1 + a2)"
   ]
  },
  {
   "cell_type": "code",
   "execution_count": 41,
   "id": "c0e7e258-1f8b-488d-a69b-b048a2891758",
   "metadata": {},
   "outputs": [
    {
     "name": "stdout",
     "output_type": "stream",
     "text": [
      "[[1 2 3]\n",
      " [4 5 6]]\n",
      "[[2 3 4]\n",
      " [5 6 7]]\n"
     ]
    }
   ],
   "source": [
    "arr1 = np.array([[1,2,3],[4,5,6]])\n",
    "print(arr1)\n",
    "\n",
    "arr2 = np.array([[2,3,4],[5,6,7]])\n",
    "print(arr2)"
   ]
  },
  {
   "cell_type": "code",
   "execution_count": 43,
   "id": "0e795498-501c-4ce4-84a7-61ca86978880",
   "metadata": {},
   "outputs": [
    {
     "data": {
      "text/plain": [
       "array([[ 3,  5,  7],\n",
       "       [ 9, 11, 13]])"
      ]
     },
     "execution_count": 43,
     "metadata": {},
     "output_type": "execute_result"
    }
   ],
   "source": [
    "arr1 + arr2"
   ]
  },
  {
   "cell_type": "markdown",
   "id": "500744ca-8e24-4387-a770-09806739631f",
   "metadata": {},
   "source": [
    "##### Note:- \n",
    "- For addition both the sizes/dimentions should be same\n",
    "- For multiplication (x,y) * (y,z) = (x,z), y should always match for both the arrays"
   ]
  },
  {
   "cell_type": "code",
   "execution_count": 7,
   "id": "c3129866-b643-4be4-9a10-38d3beafac41",
   "metadata": {},
   "outputs": [
    {
     "name": "stdout",
     "output_type": "stream",
     "text": [
      "[0 1 2 3 4 5 6 7]\n",
      "[ 8  9 10 11 12 13 14 15]\n",
      "Multiplication of array 1 and array 2 is  [  0   9  20  33  48  65  84 105]\n"
     ]
    }
   ],
   "source": [
    "# Multiplication of both the arrays\n",
    "print(a1)\n",
    "print(a2)\n",
    "print(\"Multiplication of array 1 and array 2 is \",a1 * a2)"
   ]
  },
  {
   "cell_type": "code",
   "execution_count": 9,
   "id": "5b28a3f9-5c01-4e82-893d-5e5e18af59f9",
   "metadata": {},
   "outputs": [
    {
     "name": "stdout",
     "output_type": "stream",
     "text": [
      "[0 1 2 3 4 5 6 7]\n",
      "Square of array 1 is  [ 0  1  4  9 16 25 36 49]\n",
      "[ 8  9 10 11 12 13 14 15]\n",
      "Square of array 2 is  [ 64  81 100 121 144 169 196 225]\n"
     ]
    }
   ],
   "source": [
    "# Square of the arrays\n",
    "print(a1)\n",
    "print(\"Square of array 1 is \",a1 ** 2)\n",
    "print(a2)\n",
    "print(\"Square of array 2 is \",a2 ** 2)"
   ]
  },
  {
   "cell_type": "code",
   "execution_count": 11,
   "id": "f56ee138-bf94-4a97-92aa-568a4e8e0df3",
   "metadata": {},
   "outputs": [
    {
     "name": "stdout",
     "output_type": "stream",
     "text": [
      "[0 1 2 3 4 5 6 7]\n",
      "Square root of array 1 is  [0.         1.         1.41421356 1.73205081 2.         2.23606798\n",
      " 2.44948974 2.64575131]\n"
     ]
    }
   ],
   "source": [
    "# Square root of array 1\n",
    "print(a1)\n",
    "print(\"Square root of array 1 is \",np.sqrt(a1))"
   ]
  },
  {
   "cell_type": "markdown",
   "id": "ae037cab-281d-4797-816a-56a8b089602b",
   "metadata": {},
   "source": [
    "#### dot product\n",
    "2\\*3\n",
    "3\\*4\n",
    "dot product = 2\\*4"
   ]
  },
  {
   "cell_type": "code",
   "execution_count": 17,
   "id": "355df587-6732-48d4-a0fc-0f6d907e3eda",
   "metadata": {},
   "outputs": [
    {
     "name": "stdout",
     "output_type": "stream",
     "text": [
      "[[ 0  1  2  3]\n",
      " [ 4  5  6  7]\n",
      " [ 8  9 10 11]]\n",
      "\n",
      "\n",
      "[[ 0  1  2]\n",
      " [ 3  4  5]\n",
      " [ 6  7  8]\n",
      " [ 9 10 11]]\n",
      "\n",
      "\n",
      "[[ 42  48  54]\n",
      " [114 136 158]\n",
      " [186 224 262]]\n"
     ]
    }
   ],
   "source": [
    "a = np.arange(12).reshape(3,4)\n",
    "b = np.arange(12).reshape(4,3)\n",
    "\n",
    "print(a)\n",
    "print(\"\\n\")\n",
    "print(b)\n",
    "print(\"\\n\")\n",
    "print(np.dot(a,b))"
   ]
  },
  {
   "cell_type": "code",
   "execution_count": 19,
   "id": "75872528-9694-4844-af0a-dce91f52be39",
   "metadata": {},
   "outputs": [
    {
     "data": {
      "text/plain": [
       "'\\nNote: Output of (x,y) * (y,z) = (x,z) size array. y should always match for multiplication\\n\\n[0 1 2 3] * \\n[\\n0\\n3\\n6\\n9\\n]\\n= 0*0 + 1*3 + 2*6 + 3*9 = 0 + 3 + 12 + 27 = 42\\n\\n[0  1  2  3]\\n[1 4 7 10]\\n= 0*1 + 1*4 + 2 * 7 + 3 * 10 = 0+4+14+30 = 48\\n\\nso on\\n\\nlast one\\n[ 8  9 10 11] * [2 5 8 11] = 8*2 + 9*5 + 10*8 + 11*11 = 16+45+80+121 = 262'"
      ]
     },
     "execution_count": 19,
     "metadata": {},
     "output_type": "execute_result"
    }
   ],
   "source": [
    "'''\n",
    "Note: Output of (x,y) * (y,z) = (x,z) size array. y should always match for multiplication\n",
    "\n",
    "[0 1 2 3] * \n",
    "[\n",
    "0\n",
    "3\n",
    "6\n",
    "9\n",
    "]\n",
    "= 0*0 + 1*3 + 2*6 + 3*9 = 0 + 3 + 12 + 27 = 42\n",
    "\n",
    "[0  1  2  3]\n",
    "[1 4 7 10]\n",
    "= 0*1 + 1*4 + 2 * 7 + 3 * 10 = 0+4+14+30 = 48\n",
    "\n",
    "so on\n",
    "\n",
    "last one\n",
    "[ 8  9 10 11] * [2 5 8 11] = 8*2 + 9*5 + 10*8 + 11*11 = 16+45+80+121 = 262'''"
   ]
  },
  {
   "cell_type": "markdown",
   "id": "7f694682-963d-4f57-818c-7769ba0538d2",
   "metadata": {},
   "source": [
    "### broadcasting\n",
    "- If addtion/substraction try to make both the arrays as same dimension\n",
    "- If multiplication try to make both the arrays as "
   ]
  },
  {
   "cell_type": "code",
   "execution_count": 49,
   "id": "c651379f-1b81-47c2-a892-da70c352ff7a",
   "metadata": {},
   "outputs": [
    {
     "name": "stdout",
     "output_type": "stream",
     "text": [
      "[1 2 3]\n",
      "[3 4 5]\n"
     ]
    }
   ],
   "source": [
    "# Add a scalar value (single value) to an vector (array)\n",
    "\n",
    "arr1 = np.array([1,2,3])\n",
    "print(arr1)\n",
    "print(arr1 + 2)"
   ]
  },
  {
   "cell_type": "code",
   "execution_count": 53,
   "id": "4695dc06-b4da-4f5e-bec7-edc00c499aae",
   "metadata": {},
   "outputs": [
    {
     "data": {
      "text/plain": [
       "'\\nIn background\\n[1 2 3] + 2 is getting added to each element.\\n= [1 2 3] + [2 2 2]\\n= [1+2 2+2 3+2]\\n= [3 4 5]\\n'"
      ]
     },
     "execution_count": 53,
     "metadata": {},
     "output_type": "execute_result"
    }
   ],
   "source": [
    "'''\n",
    "In background\n",
    "[1 2 3] + 2 is getting added to each element.\n",
    "= [1 2 3] + [2 2 2]\n",
    "= [1+2 2+2 3+2]\n",
    "= [3 4 5]\n",
    "'''"
   ]
  },
  {
   "cell_type": "code",
   "execution_count": 71,
   "id": "0f7901e8-a2bf-4aca-84ec-ef258bd45414",
   "metadata": {},
   "outputs": [
    {
     "name": "stdout",
     "output_type": "stream",
     "text": [
      "[1 2 3]\n",
      "[2]\n",
      "[3 4 5]\n"
     ]
    }
   ],
   "source": [
    "# Add a single value(1*1) array, to 1*3 array\n",
    "\n",
    "arr1 = np.array([1,2,3])\n",
    "print(arr1)\n",
    "arr2 = np.array([2])\n",
    "print(arr2)\n",
    "print(arr1 + arr2)"
   ]
  },
  {
   "cell_type": "code",
   "execution_count": 69,
   "id": "ab894e49-8ff3-42a7-bbe1-0e2de79d8a26",
   "metadata": {},
   "outputs": [
    {
     "name": "stdout",
     "output_type": "stream",
     "text": [
      "[1 2 3]\n",
      "[2 3]\n"
     ]
    },
    {
     "ename": "ValueError",
     "evalue": "operands could not be broadcast together with shapes (3,) (2,) ",
     "output_type": "error",
     "traceback": [
      "\u001b[1;31m---------------------------------------------------------------------------\u001b[0m",
      "\u001b[1;31mValueError\u001b[0m                                Traceback (most recent call last)",
      "Cell \u001b[1;32mIn[69], line 7\u001b[0m\n\u001b[0;32m      5\u001b[0m arr2 \u001b[38;5;241m=\u001b[39m np\u001b[38;5;241m.\u001b[39marray([\u001b[38;5;241m2\u001b[39m,\u001b[38;5;241m3\u001b[39m])\n\u001b[0;32m      6\u001b[0m \u001b[38;5;28mprint\u001b[39m(arr2)\n\u001b[1;32m----> 7\u001b[0m \u001b[38;5;28mprint\u001b[39m(arr1 \u001b[38;5;241m+\u001b[39m arr2)\n",
      "\u001b[1;31mValueError\u001b[0m: operands could not be broadcast together with shapes (3,) (2,) "
     ]
    }
   ],
   "source": [
    "# Add an array of 1*2, to 1*3 array\n",
    "\n",
    "arr1 = np.array([1,2,3])\n",
    "print(arr1)\n",
    "arr2 = np.array([2,3])\n",
    "print(arr2)\n",
    "print(arr1 + arr2)"
   ]
  },
  {
   "cell_type": "code",
   "execution_count": 75,
   "id": "4d920cfc-bda7-415a-93cb-4889345431b8",
   "metadata": {},
   "outputs": [
    {
     "name": "stdout",
     "output_type": "stream",
     "text": [
      "[1 2 3]\n",
      "[[2]\n",
      " [4]\n",
      " [6]]\n",
      "[[3 4 5]\n",
      " [5 6 7]\n",
      " [7 8 9]]\n"
     ]
    }
   ],
   "source": [
    "arr1 = np.array([1,2,3])\n",
    "print(arr1)\n",
    "arr2 = np.array([[2],[4],[6]])\n",
    "print(arr2)\n",
    "print(arr1 + arr2)"
   ]
  },
  {
   "cell_type": "code",
   "execution_count": 77,
   "id": "342b8c7a-85a8-45be-b1f2-ab2874aac42f",
   "metadata": {},
   "outputs": [
    {
     "data": {
      "text/plain": [
       "'\"\\n1 2 3\\n# 1*3\\n\\n2\\n4\\n6\\n# 3*1\\n\\n1 2 3\\n1 2 3\\n1 2 3\\n\\n2 2 2\\n4 4 4\\n6 6 6\\n'"
      ]
     },
     "execution_count": 77,
     "metadata": {},
     "output_type": "execute_result"
    }
   ],
   "source": [
    "\"\"\"\"\n",
    "1 2 3\n",
    "# 1*3\n",
    "# Since the dimension is 1, it will be changed to\n",
    "\n",
    "2\n",
    "4\n",
    "6\n",
    "# 3*1\n",
    "\n",
    "1 2 3\n",
    "1 2 3\n",
    "1 2 3\n",
    "# 3*3\n",
    "\n",
    "2 2 2\n",
    "4 4 4\n",
    "6 6 6\n",
    "# 3*3\n",
    "\"\"\""
   ]
  },
  {
   "cell_type": "code",
   "execution_count": 85,
   "id": "c832b2d8-8758-43a6-9421-0a295eca3219",
   "metadata": {},
   "outputs": [
    {
     "ename": "ValueError",
     "evalue": "operands could not be broadcast together with shapes (3,) (4,) ",
     "output_type": "error",
     "traceback": [
      "\u001b[1;31m---------------------------------------------------------------------------\u001b[0m",
      "\u001b[1;31mValueError\u001b[0m                                Traceback (most recent call last)",
      "Cell \u001b[1;32mIn[85], line 3\u001b[0m\n\u001b[0;32m      1\u001b[0m arr1 \u001b[38;5;241m=\u001b[39m np\u001b[38;5;241m.\u001b[39marray([\u001b[38;5;241m1\u001b[39m,\u001b[38;5;241m2\u001b[39m,\u001b[38;5;241m3\u001b[39m]) \u001b[38;5;66;03m#1*3\u001b[39;00m\n\u001b[0;32m      2\u001b[0m arr2 \u001b[38;5;241m=\u001b[39m np\u001b[38;5;241m.\u001b[39marray([\u001b[38;5;241m4\u001b[39m,\u001b[38;5;241m5\u001b[39m,\u001b[38;5;241m6\u001b[39m,\u001b[38;5;241m7\u001b[39m]) \u001b[38;5;66;03m#1*4\u001b[39;00m\n\u001b[1;32m----> 3\u001b[0m arr1\u001b[38;5;241m+\u001b[39marr2\n",
      "\u001b[1;31mValueError\u001b[0m: operands could not be broadcast together with shapes (3,) (4,) "
     ]
    }
   ],
   "source": [
    "arr1 = np.array([1,2,3]) #1*3\n",
    "arr2 = np.array([4,5,6,7]) #1*4\n",
    "arr1+arr2\n",
    "# Won't work as both cannot be converted to same shape/dimension"
   ]
  },
  {
   "cell_type": "code",
   "execution_count": 87,
   "id": "e3229ca4-53b9-4aa8-af82-db272340c799",
   "metadata": {},
   "outputs": [
    {
     "data": {
      "text/plain": [
       "array([[5, 4, 5],\n",
       "       [8, 7, 8]])"
      ]
     },
     "execution_count": 87,
     "metadata": {},
     "output_type": "execute_result"
    }
   ],
   "source": [
    "arr1 = np.array([[1,2,3],[4,5,6]]) #2*3 2D array\n",
    "arr2 = np.array([4,2,2]) #1*3 1D array\n",
    "arr1+arr2"
   ]
  },
  {
   "cell_type": "code",
   "execution_count": null,
   "id": "2652b3d7-c017-4a9b-b688-491ccab1d7d0",
   "metadata": {},
   "outputs": [],
   "source": [
    "\"\"\"\n",
    "1 2 3\n",
    "4 5 6\n",
    "#2*3\n",
    "\n",
    "4 2 2\n",
    "# 1*3\n",
    "Since one of the dimension is 1, it will be changed to \n",
    "\n",
    "1 2 3\n",
    "4 5 6\n",
    "\n",
    "4 2 2\n",
    "4 2 2"
   ]
  },
  {
   "cell_type": "code",
   "execution_count": 95,
   "id": "1a062aa9-9cd6-414c-9c08-c07d0595ab7c",
   "metadata": {},
   "outputs": [
    {
     "ename": "ValueError",
     "evalue": "operands could not be broadcast together with shapes (3,2) (3,) ",
     "output_type": "error",
     "traceback": [
      "\u001b[1;31m---------------------------------------------------------------------------\u001b[0m",
      "\u001b[1;31mValueError\u001b[0m                                Traceback (most recent call last)",
      "Cell \u001b[1;32mIn[95], line 3\u001b[0m\n\u001b[0;32m      1\u001b[0m arr1 \u001b[38;5;241m=\u001b[39m np\u001b[38;5;241m.\u001b[39marray([[\u001b[38;5;241m1\u001b[39m,\u001b[38;5;241m2\u001b[39m],[\u001b[38;5;241m3\u001b[39m,\u001b[38;5;241m4\u001b[39m],[\u001b[38;5;241m5\u001b[39m,\u001b[38;5;241m6\u001b[39m]]) \u001b[38;5;66;03m#3*2\u001b[39;00m\n\u001b[0;32m      2\u001b[0m arr2 \u001b[38;5;241m=\u001b[39m np\u001b[38;5;241m.\u001b[39marray([\u001b[38;5;241m2\u001b[39m,\u001b[38;5;241m2\u001b[39m,\u001b[38;5;241m2\u001b[39m]) \u001b[38;5;66;03m#3*1\u001b[39;00m\n\u001b[1;32m----> 3\u001b[0m arr1\u001b[38;5;241m+\u001b[39marr2\n",
      "\u001b[1;31mValueError\u001b[0m: operands could not be broadcast together with shapes (3,2) (3,) "
     ]
    }
   ],
   "source": [
    "arr1 = np.array([[1,2],[3,4],[5,6]]) #3*2\n",
    "arr2 = np.array([2,2,2]) #3*1\n",
    "arr1+arr2"
   ]
  },
  {
   "cell_type": "code",
   "execution_count": null,
   "id": "332f17da-b395-4a4f-8426-ce2b6cec9274",
   "metadata": {},
   "outputs": [],
   "source": [
    "'''\n",
    "1 2\n",
    "3 4\n",
    "5 6\n",
    "# 3*2\n",
    "\n",
    "2 2 2\n",
    "# 1*3\n",
    "# Since of the dimension is 1, it tries to convert this array to 3*2\n",
    "\n",
    "1 2\n",
    "3 4\n",
    "5 6\n",
    "# 3*2\n",
    "\n",
    "2 2 2\n",
    "2 2 2\n",
    "2 2 2\n",
    "# 3*3\n",
    "But still, it doesn't match after converting, hence broadcasting doesn't work here\n",
    "'''"
   ]
  },
  {
   "cell_type": "code",
   "execution_count": 97,
   "id": "640ff267-0b47-44a2-96d7-e0b2fa437909",
   "metadata": {},
   "outputs": [],
   "source": [
    "import numpy as np\n",
    "a = np.arange(12).reshape(3,4)"
   ]
  },
  {
   "cell_type": "code",
   "execution_count": 99,
   "id": "2659bad2-89eb-4255-9f51-e0a65b2e21a1",
   "metadata": {},
   "outputs": [
    {
     "data": {
      "text/plain": [
       "array([[ 0,  1,  2,  3],\n",
       "       [ 4,  5,  6,  7],\n",
       "       [ 8,  9, 10, 11]])"
      ]
     },
     "execution_count": 99,
     "metadata": {},
     "output_type": "execute_result"
    }
   ],
   "source": [
    "a"
   ]
  },
  {
   "cell_type": "code",
   "execution_count": 101,
   "id": "8f09734e-d3fc-47e7-b974-422045552a5d",
   "metadata": {},
   "outputs": [
    {
     "data": {
      "text/plain": [
       "array([[12, 13, 14],\n",
       "       [15, 16, 17],\n",
       "       [18, 19, 20],\n",
       "       [21, 22, 23]])"
      ]
     },
     "execution_count": 101,
     "metadata": {},
     "output_type": "execute_result"
    }
   ],
   "source": [
    "b = np.arange(12,24).reshape(4,3)\n",
    "b"
   ]
  },
  {
   "cell_type": "code",
   "execution_count": 103,
   "id": "980d5c9f-3d28-4a91-a7d0-f02478280128",
   "metadata": {},
   "outputs": [
    {
     "ename": "ValueError",
     "evalue": "operands could not be broadcast together with shapes (3,4) (4,3) ",
     "output_type": "error",
     "traceback": [
      "\u001b[1;31m---------------------------------------------------------------------------\u001b[0m",
      "\u001b[1;31mValueError\u001b[0m                                Traceback (most recent call last)",
      "Cell \u001b[1;32mIn[103], line 1\u001b[0m\n\u001b[1;32m----> 1\u001b[0m a \u001b[38;5;241m*\u001b[39m b\n",
      "\u001b[1;31mValueError\u001b[0m: operands could not be broadcast together with shapes (3,4) (4,3) "
     ]
    }
   ],
   "source": [
    "a * b"
   ]
  },
  {
   "cell_type": "code",
   "execution_count": 105,
   "id": "6fd29bc8-132d-402f-9f19-2e71c8ae39ff",
   "metadata": {},
   "outputs": [
    {
     "ename": "ValueError",
     "evalue": "operands could not be broadcast together with shapes (3,4) (4,3) ",
     "output_type": "error",
     "traceback": [
      "\u001b[1;31m---------------------------------------------------------------------------\u001b[0m",
      "\u001b[1;31mValueError\u001b[0m                                Traceback (most recent call last)",
      "Cell \u001b[1;32mIn[105], line 1\u001b[0m\n\u001b[1;32m----> 1\u001b[0m a \u001b[38;5;241m+\u001b[39m b\n",
      "\u001b[1;31mValueError\u001b[0m: operands could not be broadcast together with shapes (3,4) (4,3) "
     ]
    }
   ],
   "source": [
    "a + b"
   ]
  },
  {
   "cell_type": "code",
   "execution_count": 107,
   "id": "ab104adf-3771-4a9b-b4d2-092c1fde31f3",
   "metadata": {},
   "outputs": [],
   "source": [
    "c = np.arange(4)"
   ]
  },
  {
   "cell_type": "code",
   "execution_count": 109,
   "id": "b6f66967-6078-4273-a681-f76f59b9ed4f",
   "metadata": {},
   "outputs": [
    {
     "name": "stdout",
     "output_type": "stream",
     "text": [
      "[[ 0  1  2  3]\n",
      " [ 4  5  6  7]\n",
      " [ 8  9 10 11]]\n",
      "\n",
      "\n",
      "[0 1 2 3]\n"
     ]
    }
   ],
   "source": [
    "print(a)\n",
    "print(\"\\n\")\n",
    "print(c)"
   ]
  },
  {
   "cell_type": "code",
   "execution_count": null,
   "id": "b79fa1f5-80b4-491c-82c0-a88d5fd2ade6",
   "metadata": {},
   "outputs": [],
   "source": [
    "''''\n",
    "[ 0  1  2  3]\n",
    "[ 4  5  6  7]\n",
    "[ 8  9 10 11]\n",
    "\n",
    "[0 1 2 3]\n",
    "[0 1 2 3]\n",
    "[0 1 2 3]\n",
    "\n",
    "''''"
   ]
  },
  {
   "cell_type": "code",
   "execution_count": 111,
   "id": "d3833408-f5c1-4431-bf8d-9aa84ed4acf1",
   "metadata": {},
   "outputs": [
    {
     "data": {
      "text/plain": [
       "array([[ 0,  2,  4,  6],\n",
       "       [ 4,  6,  8, 10],\n",
       "       [ 8, 10, 12, 14]])"
      ]
     },
     "execution_count": 111,
     "metadata": {},
     "output_type": "execute_result"
    }
   ],
   "source": [
    "a+c"
   ]
  },
  {
   "cell_type": "code",
   "execution_count": 121,
   "id": "5d2a0211-9ad0-4447-8dfd-6034d987b197",
   "metadata": {},
   "outputs": [
    {
     "name": "stdout",
     "output_type": "stream",
     "text": [
      "[[ 0  1  2  3]\n",
      " [ 4  5  6  7]\n",
      " [ 8  9 10 11]\n",
      " [12 13 14 15]]\n",
      "\n",
      "\n",
      "[[[32 33]\n",
      "  [34 35]]\n",
      "\n",
      " [[36 37]\n",
      "  [38 39]]\n",
      "\n",
      " [[40 41]\n",
      "  [42 43]]\n",
      "\n",
      " [[44 45]\n",
      "  [46 47]]]\n"
     ]
    }
   ],
   "source": [
    "a = np.arange(16).reshape(4,4)\n",
    "b = np.arange(32,48).reshape(4,2,2)\n",
    "\n",
    "print(a)\n",
    "print(\"\\n\")\n",
    "print(b)"
   ]
  },
  {
   "cell_type": "code",
   "execution_count": 123,
   "id": "9b0b112e-56dc-47d8-818a-a2b5c016cd4b",
   "metadata": {},
   "outputs": [
    {
     "ename": "ValueError",
     "evalue": "operands could not be broadcast together with shapes (4,4) (4,2,2) ",
     "output_type": "error",
     "traceback": [
      "\u001b[1;31m---------------------------------------------------------------------------\u001b[0m",
      "\u001b[1;31mValueError\u001b[0m                                Traceback (most recent call last)",
      "Cell \u001b[1;32mIn[123], line 1\u001b[0m\n\u001b[1;32m----> 1\u001b[0m a\u001b[38;5;241m+\u001b[39mb\n",
      "\u001b[1;31mValueError\u001b[0m: operands could not be broadcast together with shapes (4,4) (4,2,2) "
     ]
    }
   ],
   "source": [
    "a+b"
   ]
  },
  {
   "cell_type": "code",
   "execution_count": 125,
   "id": "e1680ce6-e6ba-4ba1-817b-31eda1c58495",
   "metadata": {},
   "outputs": [
    {
     "name": "stdout",
     "output_type": "stream",
     "text": [
      "[[ 0  1]\n",
      " [ 2  3]\n",
      " [ 4  5]\n",
      " [ 6  7]\n",
      " [ 8  9]\n",
      " [10 11]\n",
      " [12 13]\n",
      " [14 15]]\n",
      "\n",
      "\n",
      "[32 33 34 35 36 37 38 39 40 41 42 43 44 45 46 47]\n"
     ]
    }
   ],
   "source": [
    "a = np.arange(16).reshape(8,2)\n",
    "b = np.arange(32,48)\n",
    "\n",
    "print(a)\n",
    "print(\"\\n\")\n",
    "print(b)"
   ]
  },
  {
   "cell_type": "code",
   "execution_count": 127,
   "id": "404dc9e9-3f20-4869-8996-434ea8c1b6d2",
   "metadata": {},
   "outputs": [
    {
     "ename": "ValueError",
     "evalue": "operands could not be broadcast together with shapes (8,2) (16,) ",
     "output_type": "error",
     "traceback": [
      "\u001b[1;31m---------------------------------------------------------------------------\u001b[0m",
      "\u001b[1;31mValueError\u001b[0m                                Traceback (most recent call last)",
      "Cell \u001b[1;32mIn[127], line 1\u001b[0m\n\u001b[1;32m----> 1\u001b[0m a \u001b[38;5;241m+\u001b[39m b\n",
      "\u001b[1;31mValueError\u001b[0m: operands could not be broadcast together with shapes (8,2) (16,) "
     ]
    }
   ],
   "source": [
    "a + b "
   ]
  },
  {
   "cell_type": "code",
   "execution_count": 129,
   "id": "a66f92a8-6e8d-409b-8518-4027ebd9039f",
   "metadata": {},
   "outputs": [
    {
     "name": "stdout",
     "output_type": "stream",
     "text": [
      "[[ 0  1  2  3]\n",
      " [ 4  5  6  7]\n",
      " [ 8  9 10 11]]\n",
      "\n",
      "\n",
      "[[ 0  1  2]\n",
      " [ 3  4  5]\n",
      " [ 6  7  8]\n",
      " [ 9 10 11]]\n"
     ]
    }
   ],
   "source": [
    "a = np.arange(12).reshape(3,4)\n",
    "b = np.arange(12).reshape(4,3)\n",
    "\n",
    "print(a)\n",
    "print(\"\\n\")\n",
    "print(b)"
   ]
  },
  {
   "cell_type": "code",
   "execution_count": 131,
   "id": "fc9f2143-e61e-4352-98b9-eac0447bea43",
   "metadata": {},
   "outputs": [
    {
     "ename": "ValueError",
     "evalue": "operands could not be broadcast together with shapes (3,4) (4,3) ",
     "output_type": "error",
     "traceback": [
      "\u001b[1;31m---------------------------------------------------------------------------\u001b[0m",
      "\u001b[1;31mValueError\u001b[0m                                Traceback (most recent call last)",
      "Cell \u001b[1;32mIn[131], line 1\u001b[0m\n\u001b[1;32m----> 1\u001b[0m a\u001b[38;5;241m+\u001b[39mb\n",
      "\u001b[1;31mValueError\u001b[0m: operands could not be broadcast together with shapes (3,4) (4,3) "
     ]
    }
   ],
   "source": [
    "a+b"
   ]
  },
  {
   "cell_type": "code",
   "execution_count": 147,
   "id": "e323ce2e-5c6c-4cc8-ab6f-2accafea9432",
   "metadata": {},
   "outputs": [
    {
     "name": "stdout",
     "output_type": "stream",
     "text": [
      "[[0 1 2]]\n",
      "\n",
      "\n",
      "[[0]\n",
      " [1]\n",
      " [2]]\n"
     ]
    }
   ],
   "source": [
    "a = np.arange(3).reshape(1,3)\n",
    "b = np.arange(3).reshape(3,1)\n",
    "\n",
    "print(a)\n",
    "print(\"\\n\")\n",
    "print(b)"
   ]
  },
  {
   "cell_type": "code",
   "execution_count": 153,
   "id": "d469cf32-753d-48b8-b50d-98c4955f62fc",
   "metadata": {},
   "outputs": [
    {
     "data": {
      "text/plain": [
       "'\\n0 1 2\\n#1*3\\n\\n0\\n1\\n2\\n#3*1\\n\\nboth the arrays can be converted to match the dimensions\\n0 1 2\\n0 1 2\\n0 1 2\\n\\n0 0 0\\n1 1 1\\n2 2 2\\n'"
      ]
     },
     "execution_count": 153,
     "metadata": {},
     "output_type": "execute_result"
    }
   ],
   "source": [
    "'''\n",
    "0 1 2\n",
    "#1*3\n",
    "\n",
    "0\n",
    "1\n",
    "2\n",
    "#3*1\n",
    "\n",
    "both the arrays can be converted to match the dimensions\n",
    "0 1 2\n",
    "0 1 2\n",
    "0 1 2\n",
    "\n",
    "0 0 0\n",
    "1 1 1\n",
    "2 2 2\n",
    "'''"
   ]
  },
  {
   "cell_type": "code",
   "execution_count": 155,
   "id": "70c139a9-3f0a-4b0d-9179-4b5bcacabb51",
   "metadata": {},
   "outputs": [
    {
     "data": {
      "text/plain": [
       "array([[0, 1, 2],\n",
       "       [1, 2, 3],\n",
       "       [2, 3, 4]])"
      ]
     },
     "execution_count": 155,
     "metadata": {},
     "output_type": "execute_result"
    }
   ],
   "source": [
    "a+b"
   ]
  },
  {
   "cell_type": "code",
   "execution_count": null,
   "id": "b5346a97-51c2-4636-915a-b0972448fbfd",
   "metadata": {},
   "outputs": [],
   "source": []
  }
 ],
 "metadata": {
  "kernelspec": {
   "display_name": "Python [conda env:base] *",
   "language": "python",
   "name": "conda-base-py"
  },
  "language_info": {
   "codemirror_mode": {
    "name": "ipython",
    "version": 3
   },
   "file_extension": ".py",
   "mimetype": "text/x-python",
   "name": "python",
   "nbconvert_exporter": "python",
   "pygments_lexer": "ipython3",
   "version": "3.12.7"
  }
 },
 "nbformat": 4,
 "nbformat_minor": 5
}
