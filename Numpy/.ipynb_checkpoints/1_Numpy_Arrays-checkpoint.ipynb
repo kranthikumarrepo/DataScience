{
 "cells": [
  {
   "cell_type": "markdown",
   "id": "537e6472-43d9-43b4-8f1f-53610fe03392",
   "metadata": {},
   "source": [
    "#### numpy - Numerical Python"
   ]
  },
  {
   "cell_type": "code",
   "execution_count": 5,
   "id": "0a5d4c9a-0d16-4699-b12c-cb6974cd6a0c",
   "metadata": {},
   "outputs": [],
   "source": [
    "# Hierarchy\n",
    "\n",
    "# library > packages > modules > sub module > function"
   ]
  },
  {
   "cell_type": "code",
   "execution_count": 7,
   "id": "8cf04556-4bdd-4025-b0ee-09d9cf6e868f",
   "metadata": {},
   "outputs": [
    {
     "ename": "SyntaxError",
     "evalue": "illegal target for annotation (613243891.py, line 2)",
     "output_type": "error",
     "traceback": [
      "\u001b[1;36m  Cell \u001b[1;32mIn[7], line 2\u001b[1;36m\u001b[0m\n\u001b[1;33m    - Syntax:- numpy.array(list/tuple/dictionary)\u001b[0m\n\u001b[1;37m    ^\u001b[0m\n\u001b[1;31mSyntaxError\u001b[0m\u001b[1;31m:\u001b[0m illegal target for annotation\n"
     ]
    }
   ],
   "source": [
    "# Datastructure used in numpy is array\n",
    "- Syntax:- numpy.array(list/tuple/dictionary)\n",
    "\n",
    "# Array is identified as array([])\n",
    "\n",
    "# string inside an array is called as object, all others are same, int, float, etc."
   ]
  },
  {
   "cell_type": "code",
   "execution_count": 9,
   "id": "79c95cc5-d6da-423f-86cb-e2cf8bb23721",
   "metadata": {},
   "outputs": [
    {
     "name": "stdout",
     "output_type": "stream",
     "text": [
      "[2 4 6 2 1]\n",
      "[12 13 11]\n"
     ]
    }
   ],
   "source": [
    "# List to array \n",
    "\n",
    "import numpy as np\n",
    "arr1 = np.array([2,4,6,2,1])\n",
    "print(arr1)\n",
    "\n",
    "mylist = [12,13,11]\n",
    "arr2 = np.array(mylist)\n",
    "print(arr2)"
   ]
  },
  {
   "cell_type": "code",
   "execution_count": 13,
   "id": "d810d005-57b2-4f1b-ad7c-30d2e5207f95",
   "metadata": {},
   "outputs": [
    {
     "name": "stdout",
     "output_type": "stream",
     "text": [
      "Type of arr1 is  <class 'numpy.ndarray'>\n",
      "Type of arr2 is  <class 'numpy.ndarray'>\n"
     ]
    }
   ],
   "source": [
    "print(\"Type of arr1 is \",type(arr1))\n",
    "print(\"Type of arr2 is \",type(arr2))"
   ]
  },
  {
   "cell_type": "code",
   "execution_count": 15,
   "id": "5a4c9cba-d39a-454e-bbdf-2cc483b92a08",
   "metadata": {},
   "outputs": [],
   "source": [
    "# ndarray refers to ndimensional array"
   ]
  },
  {
   "cell_type": "code",
   "execution_count": 17,
   "id": "acc633e3-28cc-4976-8ae9-cc5468826d78",
   "metadata": {},
   "outputs": [
    {
     "ename": "TypeError",
     "evalue": "array() takes from 1 to 2 positional arguments but 4 were given",
     "output_type": "error",
     "traceback": [
      "\u001b[1;31m---------------------------------------------------------------------------\u001b[0m",
      "\u001b[1;31mTypeError\u001b[0m                                 Traceback (most recent call last)",
      "Cell \u001b[1;32mIn[17], line 2\u001b[0m\n\u001b[0;32m      1\u001b[0m \u001b[38;5;66;03m# Array has to be created by using the list, tuple, set or dictionary \u001b[39;00m\n\u001b[1;32m----> 2\u001b[0m arr2 \u001b[38;5;241m=\u001b[39m np\u001b[38;5;241m.\u001b[39marray(\u001b[38;5;241m1\u001b[39m,\u001b[38;5;241m2\u001b[39m,\u001b[38;5;241m3\u001b[39m,\u001b[38;5;241m5\u001b[39m)\n",
      "\u001b[1;31mTypeError\u001b[0m: array() takes from 1 to 2 positional arguments but 4 were given"
     ]
    }
   ],
   "source": [
    "# Array has to be created by using the list, tuple, set or dictionary \n",
    "arr2 = np.array(1,2,3,5)"
   ]
  },
  {
   "cell_type": "code",
   "execution_count": 19,
   "id": "97c9d886-cbf8-4de5-b7ad-96a600e8286c",
   "metadata": {},
   "outputs": [],
   "source": [
    "arr2 = np.array([1,2,3,5])"
   ]
  },
  {
   "cell_type": "code",
   "execution_count": 21,
   "id": "6822f292-5c18-4c42-9030-ccf30badeaae",
   "metadata": {},
   "outputs": [
    {
     "data": {
      "text/plain": [
       "array([1, 2, 3, 5])"
      ]
     },
     "execution_count": 21,
     "metadata": {},
     "output_type": "execute_result"
    }
   ],
   "source": [
    "arr2"
   ]
  },
  {
   "cell_type": "code",
   "execution_count": 25,
   "id": "7dde6f74-a009-44a1-8d30-e49e56d6847e",
   "metadata": {},
   "outputs": [
    {
     "name": "stdout",
     "output_type": "stream",
     "text": [
      "[2 4 6 2 1]\n",
      "[12 13 11]\n"
     ]
    }
   ],
   "source": [
    "# Tuple to array \n",
    "\n",
    "import numpy as np\n",
    "arr1 = np.array((2,4,6,2,1))\n",
    "print(arr1)\n",
    "\n",
    "mylist = (12,13,11)\n",
    "arr2 = np.array(mylist)\n",
    "print(arr2)"
   ]
  },
  {
   "cell_type": "code",
   "execution_count": 29,
   "id": "bceb842d-926a-4e6c-9eb2-d579b4f2f6ab",
   "metadata": {},
   "outputs": [
    {
     "name": "stdout",
     "output_type": "stream",
     "text": [
      "Type of arr1 is  <class 'numpy.ndarray'>\n",
      "Type of arr2 is  <class 'numpy.ndarray'>\n"
     ]
    }
   ],
   "source": [
    "print(\"Type of arr1 is \",type(arr1))\n",
    "print(\"Type of arr2 is \",type(arr2))"
   ]
  },
  {
   "cell_type": "code",
   "execution_count": 31,
   "id": "11017950-fe2c-47be-a512-2082a1b9807e",
   "metadata": {},
   "outputs": [
    {
     "name": "stdout",
     "output_type": "stream",
     "text": [
      "{1, 2, 4, 6}\n",
      "{11, 12, 13}\n"
     ]
    }
   ],
   "source": [
    "# Set to array \n",
    "\n",
    "import numpy as np\n",
    "arr1 = np.array({2,4,6,2,1})\n",
    "print(arr1)\n",
    "\n",
    "mylist = {12,13,11}\n",
    "arr2 = np.array(mylist)\n",
    "print(arr2)"
   ]
  },
  {
   "cell_type": "code",
   "execution_count": 33,
   "id": "aca3d436-469a-452e-80d4-ac7a5d5a902a",
   "metadata": {},
   "outputs": [
    {
     "name": "stdout",
     "output_type": "stream",
     "text": [
      "Type of arr1 is  <class 'numpy.ndarray'>\n",
      "Type of arr2 is  <class 'numpy.ndarray'>\n"
     ]
    }
   ],
   "source": [
    "print(\"Type of arr1 is \",type(arr1))\n",
    "print(\"Type of arr2 is \",type(arr2))"
   ]
  },
  {
   "cell_type": "code",
   "execution_count": 35,
   "id": "f907ba35-aba2-4653-9564-1b82749c181b",
   "metadata": {},
   "outputs": [
    {
     "name": "stdout",
     "output_type": "stream",
     "text": [
      "{1: 'kk', 2: 'akk'}\n",
      "{1: 'akk', 3: 'akkaaa'}\n"
     ]
    }
   ],
   "source": [
    "# Dictionary to array \n",
    "\n",
    "import numpy as np\n",
    "arr1 = np.array({1:'kk',2:'akk'})\n",
    "print(arr1)\n",
    "\n",
    "mylist = {1:'akk',3:'akkaaa'}\n",
    "arr2 = np.array(mylist)\n",
    "print(arr2)"
   ]
  },
  {
   "cell_type": "code",
   "execution_count": 37,
   "id": "ebec8819-4965-4aaa-831d-0ea7a86ddd16",
   "metadata": {},
   "outputs": [
    {
     "name": "stdout",
     "output_type": "stream",
     "text": [
      "Type of arr1 is  <class 'numpy.ndarray'>\n",
      "Type of arr2 is  <class 'numpy.ndarray'>\n"
     ]
    }
   ],
   "source": [
    "print(\"Type of arr1 is \",type(arr1))\n",
    "print(\"Type of arr2 is \",type(arr2))"
   ]
  },
  {
   "cell_type": "markdown",
   "id": "428484d0-ee16-4df4-b681-ed4f3f35f2ed",
   "metadata": {},
   "source": [
    "##### Note:-\n",
    "- list/tuple/sets/dictionary - Can have heterogenus data\n",
    "- array - Can have only homogenus data, if differernt data types are given to convert to array, it converts all elements to the same data type as per  the hierarchy."
   ]
  },
  {
   "cell_type": "code",
   "execution_count": 46,
   "id": "3b0ca7c3-aa93-4387-bb4a-0e986576001b",
   "metadata": {},
   "outputs": [
    {
     "data": {
      "text/plain": [
       "[1, 2, 3, 6]"
      ]
     },
     "execution_count": 46,
     "metadata": {},
     "output_type": "execute_result"
    }
   ],
   "source": [
    "# Homogenus list\n",
    "\n",
    "list1 = [1,2,3,6]\n",
    "list1"
   ]
  },
  {
   "cell_type": "code",
   "execution_count": 48,
   "id": "e32d932b-17f0-4d3e-876d-87cbbc2c148e",
   "metadata": {},
   "outputs": [
    {
     "data": {
      "text/plain": [
       "array([1, 2, 3, 6])"
      ]
     },
     "execution_count": 48,
     "metadata": {},
     "output_type": "execute_result"
    }
   ],
   "source": [
    "# Homogenus list to array \n",
    "\n",
    "np.array(list1)"
   ]
  },
  {
   "cell_type": "code",
   "execution_count": 50,
   "id": "8d9b5ea3-4e56-4d3e-8c5b-447592455f00",
   "metadata": {},
   "outputs": [
    {
     "data": {
      "text/plain": [
       "[1, 2, 'kk', 2.3]"
      ]
     },
     "execution_count": 50,
     "metadata": {},
     "output_type": "execute_result"
    }
   ],
   "source": [
    "# Heterogenus list\n",
    "\n",
    "list2 = [1,2,'kk',2.3]\n",
    "list2"
   ]
  },
  {
   "cell_type": "code",
   "execution_count": 54,
   "id": "74298c97-c05b-493e-9187-aac498e56961",
   "metadata": {},
   "outputs": [
    {
     "data": {
      "text/plain": [
       "array(['1', '2', 'kk', '2.3'], dtype='<U32')"
      ]
     },
     "execution_count": 54,
     "metadata": {},
     "output_type": "execute_result"
    }
   ],
   "source": [
    "# Heterogenus list to array \n",
    "# Since string carries the highest hirearchy, all the elements are converted to string.\n",
    "\n",
    "np.array(list2)"
   ]
  },
  {
   "cell_type": "code",
   "execution_count": 56,
   "id": "ce870cc8-e61d-41a4-b165-758b3439b23d",
   "metadata": {},
   "outputs": [
    {
     "data": {
      "text/plain": [
       "array(['1', 'kk'], dtype='<U11')"
      ]
     },
     "execution_count": 56,
     "metadata": {},
     "output_type": "execute_result"
    }
   ],
   "source": [
    "np.array([1,'kk'])"
   ]
  },
  {
   "cell_type": "code",
   "execution_count": 58,
   "id": "04555e6a-fca9-4a51-b951-98589bb3ed98",
   "metadata": {},
   "outputs": [
    {
     "data": {
      "text/plain": [
       "[1, 2, 3.1, 3.3, 5]"
      ]
     },
     "execution_count": 58,
     "metadata": {},
     "output_type": "execute_result"
    }
   ],
   "source": [
    "list3 = [1,2,3.1,3.3,5]\n",
    "list3"
   ]
  },
  {
   "cell_type": "code",
   "execution_count": 60,
   "id": "0cdf6db2-a531-4bfb-bed7-01bc5d7f29e2",
   "metadata": {},
   "outputs": [
    {
     "data": {
      "text/plain": [
       "array([1. , 2. , 3.1, 3.3, 5. ])"
      ]
     },
     "execution_count": 60,
     "metadata": {},
     "output_type": "execute_result"
    }
   ],
   "source": [
    "np.array(list3)"
   ]
  },
  {
   "cell_type": "code",
   "execution_count": 78,
   "id": "de366544-d7d2-4863-8abe-695e0c0ffe19",
   "metadata": {},
   "outputs": [
    {
     "data": {
      "text/plain": [
       "(3, 'kk', 2.4)"
      ]
     },
     "execution_count": 78,
     "metadata": {},
     "output_type": "execute_result"
    }
   ],
   "source": [
    "tuple1 = (3,'kk',2.4)\n",
    "tuple1"
   ]
  },
  {
   "cell_type": "code",
   "execution_count": 80,
   "id": "a650cb8c-e268-4b4f-99f5-4e1240173d44",
   "metadata": {},
   "outputs": [
    {
     "data": {
      "text/plain": [
       "array(['3', 'kk', '2.4'], dtype='<U32')"
      ]
     },
     "execution_count": 80,
     "metadata": {},
     "output_type": "execute_result"
    }
   ],
   "source": [
    "np.array(tuple1)"
   ]
  },
  {
   "cell_type": "code",
   "execution_count": 82,
   "id": "0b149de6-b22c-4c99-abb1-d2bf4860e964",
   "metadata": {},
   "outputs": [
    {
     "data": {
      "text/plain": [
       "{2.4, 3, 'kk'}"
      ]
     },
     "execution_count": 82,
     "metadata": {},
     "output_type": "execute_result"
    }
   ],
   "source": [
    "set1 = {3,'kk',2.4}\n",
    "set1"
   ]
  },
  {
   "cell_type": "code",
   "execution_count": 84,
   "id": "c3d2915f-3064-4171-9427-a7f6c53d8d94",
   "metadata": {},
   "outputs": [
    {
     "data": {
      "text/plain": [
       "array({2.4, 3, 'kk'}, dtype=object)"
      ]
     },
     "execution_count": 84,
     "metadata": {},
     "output_type": "execute_result"
    }
   ],
   "source": [
    "np.array(set1)"
   ]
  },
  {
   "cell_type": "code",
   "execution_count": null,
   "id": "0faa70d7-9188-4e35-918b-19f32da997b7",
   "metadata": {},
   "outputs": [],
   "source": []
  }
 ],
 "metadata": {
  "kernelspec": {
   "display_name": "Python [conda env:base] *",
   "language": "python",
   "name": "conda-base-py"
  },
  "language_info": {
   "codemirror_mode": {
    "name": "ipython",
    "version": 3
   },
   "file_extension": ".py",
   "mimetype": "text/x-python",
   "name": "python",
   "nbconvert_exporter": "python",
   "pygments_lexer": "ipython3",
   "version": "3.12.7"
  }
 },
 "nbformat": 4,
 "nbformat_minor": 5
}
