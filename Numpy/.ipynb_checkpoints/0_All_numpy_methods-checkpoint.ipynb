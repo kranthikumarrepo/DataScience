{
 "cells": [
  {
   "cell_type": "markdown",
   "id": "a983279d-dd7b-44f7-9e4d-5163de2dc5ee",
   "metadata": {},
   "source": [
    "##### To install package\n",
    "- syntax:- pip install package_name\n",
    "- Ex: pip install numpy\n",
    "\n",
    "##### Datastructure used in numpy is array\n",
    "- Syntax:- numpy.array(list/tuple/dictionary)\n",
    "- Note: At the end, array is always identified as array( [] )\n",
    "\n",
    "##### To get the dimension of an array\n",
    "- array_obj.ndim\n",
    "\n",
    "##### To get the shape of an array ex: 2\\*3, 3\\*6, etc.\n",
    "- array_obj.shape\n",
    "\n",
    "##### To get the size of an array, Ex: 2\\*3 has size of 6\n",
    "- array_obj.size\n",
    "\n",
    "##### To create an array with start value, end value and increment value\n",
    "- numpy.arange(start_value,end_value(excluded),increment)\n",
    "\n",
    "##### To create an array with only zeros or only ones\n",
    "- np.zeros(size)\n",
    "- np.ones(size)\n",
    "\n",
    "##### To create an array with random numbers (Continues)\n",
    "- np.random.random(size)\n",
    "\n",
    "##### To create an array with random numbers (Only integers)\n",
    "- np.random.randint(start,end,number of values)\n",
    "\n",
    "##### To create an array with start and end values along with specified gap\n",
    "- np.linspace(startvalue,endvalue,no of values)\n",
    "\n",
    "##### To change the dimensions of the array\n",
    "- arr1.reshape(x,y) >>> x*y should be equal to the x*y of original array\n",
    "\n",
    "##### boolean mask\n",
    "- array_name[True]\n",
    "- array_name[False]\n",
    "\n",
    "##### To concatenate two or more arrays and store it in a new variable.\n",
    "x_train_transformed = np.concatenate((x_train_age,x_train_fever,x_train_gender_city,x_train_cough),axis=1) >>> axis = 1 > Columns\n",
    "\n",
    "##### Broadcast\n",
    "\n",
    "##### Fancy indexing"
   ]
  },
  {
   "cell_type": "code",
   "execution_count": null,
   "id": "7b5a2f16-925d-41bd-91b9-cce80775f5ea",
   "metadata": {},
   "outputs": [],
   "source": []
  }
 ],
 "metadata": {
  "kernelspec": {
   "display_name": "Python [conda env:base] *",
   "language": "python",
   "name": "conda-base-py"
  },
  "language_info": {
   "codemirror_mode": {
    "name": "ipython",
    "version": 3
   },
   "file_extension": ".py",
   "mimetype": "text/x-python",
   "name": "python",
   "nbconvert_exporter": "python",
   "pygments_lexer": "ipython3",
   "version": "3.12.7"
  }
 },
 "nbformat": 4,
 "nbformat_minor": 5
}
