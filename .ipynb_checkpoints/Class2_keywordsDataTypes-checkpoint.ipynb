{
 "cells": [
  {
   "cell_type": "markdown",
   "id": "1bcf6215-b66d-4b36-8cfe-67860412940d",
   "metadata": {},
   "source": [
    "## Keywords\n",
    "- Reserved words that have a predefined meaning and these cannot be used as a variable name.\n",
    "- <b>kwlist</b> is an attribute in <b>keyword</b> module\n",
    "- to use kwlist, we must import keyword module\n",
    "- keywords cannot be used as a variable name\n",
    "\n",
    "<b>Note: Module vs Library</b> >>> A module in Python is a single file containing Python code, which can define functions, classes, and variables. It serves as a way to organize and reuse code. Example keyword. Whereas a library in Python is a collection of related modules and packages that provide a set of functionalities for a specific purpose. It is a broader term encompassing multiple modules working together. For example, NumPy"
   ]
  },
  {
   "cell_type": "markdown",
   "id": "56f9c475-b954-4dd6-989e-ea0807842f90",
   "metadata": {},
   "source": [
    "### Python Libraries, Modules, Functions, Attributes\n",
    "- If we want to use a functions/modules, we need to import the libraries"
   ]
  },
  {
   "cell_type": "markdown",
   "id": "a1f085ab-cef0-4054-a72c-17acc6682b9b",
   "metadata": {},
   "source": [
    "#### To know all the attributes in a module or package - use dir(module_name/package_name)\n",
    "- If we know module or package name, but do not know the attributes/functions inside it, use dir(module_name/package_name)\n",
    "- For Ex: To know list of all the attributes in keyword module or datetime module, see below example\n",
    "- dir(modulename) i.e. dir(keyword)\n",
    "- or\n",
    "- modulename.underscoreallunderscore(__all__) >>> One more option to know the attributes,  but does not work for some modules/package"
   ]
  },
  {
   "cell_type": "code",
   "execution_count": 122,
   "id": "11addef8-4f6e-4713-939c-aec9aea837b6",
   "metadata": {},
   "outputs": [
    {
     "name": "stdout",
     "output_type": "stream",
     "text": [
      "['ALLOW_THREADS', 'BUFSIZE', 'CLIP', 'DataSource', 'ERR_CALL', 'ERR_DEFAULT', 'ERR_IGNORE', 'ERR_LOG', 'ERR_PRINT', 'ERR_RAISE', 'ERR_WARN', 'FLOATING_POINT_SUPPORT', 'FPE_DIVIDEBYZERO', 'FPE_INVALID', 'FPE_OVERFLOW', 'FPE_UNDERFLOW', 'False_', 'Inf', 'Infinity', 'MAXDIMS', 'MAY_SHARE_BOUNDS', 'MAY_SHARE_EXACT', 'NAN', 'NINF', 'NZERO', 'NaN', 'PINF', 'PZERO', 'RAISE', 'RankWarning', 'SHIFT_DIVIDEBYZERO', 'SHIFT_INVALID', 'SHIFT_OVERFLOW', 'SHIFT_UNDERFLOW', 'ScalarType', 'True_', 'UFUNC_BUFSIZE_DEFAULT', 'UFUNC_PYVALS_NAME', 'WRAP', '_CopyMode', '_NoValue', '_UFUNC_API', '__NUMPY_SETUP__', '__all__', '__builtins__', '__cached__', '__config__', '__deprecated_attrs__', '__dir__', '__doc__', '__expired_functions__', '__file__', '__former_attrs__', '__future_scalars__', '__getattr__', '__loader__', '__name__', '__package__', '__path__', '__spec__', '__version__', '_add_newdoc_ufunc', '_builtins', '_distributor_init', '_financial_names', '_get_promotion_state', '_globals', '_int_extended_msg', '_mat', '_no_nep50_warning', '_pyinstaller_hooks_dir', '_pytesttester', '_set_promotion_state', '_specific_msg', '_typing', '_using_numpy2_behavior', '_utils', 'abs', 'absolute', 'add', 'add_docstring', 'add_newdoc', 'add_newdoc_ufunc', 'all', 'allclose', 'alltrue', 'amax', 'amin', 'angle', 'any', 'append', 'apply_along_axis', 'apply_over_axes', 'arange', 'arccos', 'arccosh', 'arcsin', 'arcsinh', 'arctan', 'arctan2', 'arctanh', 'argmax', 'argmin', 'argpartition', 'argsort', 'argwhere', 'around', 'array', 'array2string', 'array_equal', 'array_equiv', 'array_repr', 'array_split', 'array_str', 'asanyarray', 'asarray', 'asarray_chkfinite', 'ascontiguousarray', 'asfarray', 'asfortranarray', 'asmatrix', 'atleast_1d', 'atleast_2d', 'atleast_3d', 'average', 'bartlett', 'base_repr', 'binary_repr', 'bincount', 'bitwise_and', 'bitwise_not', 'bitwise_or', 'bitwise_xor', 'blackman', 'block', 'bmat', 'bool_', 'broadcast', 'broadcast_arrays', 'broadcast_shapes', 'broadcast_to', 'busday_count', 'busday_offset', 'busdaycalendar', 'byte', 'byte_bounds', 'bytes_', 'c_', 'can_cast', 'cast', 'cbrt', 'cdouble', 'ceil', 'cfloat', 'char', 'character', 'chararray', 'choose', 'clip', 'clongdouble', 'clongfloat', 'column_stack', 'common_type', 'compare_chararrays', 'compat', 'complex128', 'complex64', 'complex_', 'complexfloating', 'compress', 'concatenate', 'conj', 'conjugate', 'convolve', 'copy', 'copysign', 'copyto', 'corrcoef', 'correlate', 'cos', 'cosh', 'count_nonzero', 'cov', 'cross', 'csingle', 'ctypeslib', 'cumprod', 'cumproduct', 'cumsum', 'datetime64', 'datetime_as_string', 'datetime_data', 'deg2rad', 'degrees', 'delete', 'deprecate', 'deprecate_with_doc', 'diag', 'diag_indices', 'diag_indices_from', 'diagflat', 'diagonal', 'diff', 'digitize', 'disp', 'divide', 'divmod', 'dot', 'double', 'dsplit', 'dstack', 'dtype', 'dtypes', 'e', 'ediff1d', 'einsum', 'einsum_path', 'emath', 'empty', 'empty_like', 'equal', 'errstate', 'euler_gamma', 'exceptions', 'exp', 'exp2', 'expand_dims', 'expm1', 'expm1x', 'extract', 'eye', 'fabs', 'fastCopyAndTranspose', 'fft', 'fill_diagonal', 'find_common_type', 'finfo', 'fix', 'flatiter', 'flatnonzero', 'flexible', 'flip', 'fliplr', 'flipud', 'float16', 'float32', 'float64', 'float_', 'float_power', 'floating', 'floor', 'floor_divide', 'fmax', 'fmin', 'fmod', 'format_float_positional', 'format_float_scientific', 'format_parser', 'frexp', 'from_dlpack', 'frombuffer', 'fromfile', 'fromfunction', 'fromiter', 'frompyfunc', 'fromregex', 'fromstring', 'full', 'full_like', 'gcd', 'generic', 'genfromtxt', 'geomspace', 'get_array_wrap', 'get_include', 'get_printoptions', 'getbufsize', 'geterr', 'geterrcall', 'geterrobj', 'gradient', 'greater', 'greater_equal', 'half', 'hamming', 'hanning', 'heaviside', 'histogram', 'histogram2d', 'histogram_bin_edges', 'histogramdd', 'hsplit', 'hstack', 'hypot', 'i0', 'identity', 'iinfo', 'imag', 'in1d', 'index_exp', 'indices', 'inexact', 'inf', 'info', 'infty', 'inner', 'insert', 'int16', 'int32', 'int64', 'int8', 'int_', 'intc', 'integer', 'interp', 'intersect1d', 'intp', 'invert', 'is_busday', 'isclose', 'iscomplex', 'iscomplexobj', 'isfinite', 'isfortran', 'isin', 'isinf', 'isnan', 'isnat', 'isneginf', 'isposinf', 'isreal', 'isrealobj', 'isscalar', 'issctype', 'issubclass_', 'issubdtype', 'issubsctype', 'iterable', 'ix_', 'kaiser', 'kron', 'lcm', 'ldexp', 'left_shift', 'less', 'less_equal', 'lexsort', 'lib', 'linalg', 'linspace', 'little_endian', 'load', 'loadtxt', 'log', 'log10', 'log1p', 'log2', 'logaddexp', 'logaddexp2', 'logical_and', 'logical_not', 'logical_or', 'logical_xor', 'logspace', 'longcomplex', 'longdouble', 'longfloat', 'longlong', 'lookfor', 'ma', 'mask_indices', 'mat', 'matmul', 'matrix', 'max', 'maximum', 'maximum_sctype', 'may_share_memory', 'mean', 'median', 'memmap', 'meshgrid', 'mgrid', 'min', 'min_scalar_type', 'minimum', 'mintypecode', 'mod', 'modf', 'moveaxis', 'msort', 'multiply', 'nan', 'nan_to_num', 'nanargmax', 'nanargmin', 'nancumprod', 'nancumsum', 'nanmax', 'nanmean', 'nanmedian', 'nanmin', 'nanpercentile', 'nanprod', 'nanquantile', 'nanstd', 'nansum', 'nanvar', 'nbytes', 'ndarray', 'ndenumerate', 'ndim', 'ndindex', 'nditer', 'negative', 'nested_iters', 'newaxis', 'nextafter', 'nonzero', 'not_equal', 'numarray', 'number', 'obj2sctype', 'object_', 'ogrid', 'oldnumeric', 'ones', 'ones_like', 'outer', 'packbits', 'pad', 'partition', 'percentile', 'pi', 'piecewise', 'place', 'poly', 'poly1d', 'polyadd', 'polyder', 'polydiv', 'polyfit', 'polyint', 'polymul', 'polynomial', 'polysub', 'polyval', 'positive', 'power', 'printoptions', 'prod', 'product', 'promote_types', 'ptp', 'put', 'put_along_axis', 'putmask', 'quantile', 'r_', 'rad2deg', 'radians', 'random', 'ravel', 'ravel_multi_index', 'real', 'real_if_close', 'rec', 'recarray', 'recfromcsv', 'recfromtxt', 'reciprocal', 'record', 'remainder', 'repeat', 'require', 'reshape', 'resize', 'result_type', 'right_shift', 'rint', 'roll', 'rollaxis', 'roots', 'rot90', 'round', 'round_', 'row_stack', 's_', 'safe_eval', 'save', 'savetxt', 'savez', 'savez_compressed', 'sctype2char', 'sctypeDict', 'sctypes', 'searchsorted', 'select', 'set_numeric_ops', 'set_printoptions', 'set_string_function', 'setbufsize', 'setdiff1d', 'seterr', 'seterrcall', 'seterrobj', 'setxor1d', 'shape', 'shares_memory', 'short', 'show_config', 'show_runtime', 'sign', 'signbit', 'signedinteger', 'sin', 'sinc', 'single', 'singlecomplex', 'sinh', 'size', 'sometrue', 'sort', 'sort_complex', 'source', 'spacing', 'split', 'sqrt', 'square', 'squeeze', 'stack', 'std', 'str_', 'string_', 'subtract', 'sum', 'swapaxes', 'take', 'take_along_axis', 'tan', 'tanh', 'tensordot', 'test', 'testing', 'tile', 'timedelta64', 'trace', 'tracemalloc_domain', 'transpose', 'trapz', 'tri', 'tril', 'tril_indices', 'tril_indices_from', 'trim_zeros', 'triu', 'triu_indices', 'triu_indices_from', 'true_divide', 'trunc', 'typecodes', 'typename', 'ubyte', 'ufunc', 'uint', 'uint16', 'uint32', 'uint64', 'uint8', 'uintc', 'uintp', 'ulonglong', 'unicode_', 'union1d', 'unique', 'unpackbits', 'unravel_index', 'unsignedinteger', 'unwrap', 'ushort', 'vander', 'var', 'vdot', 'vectorize', 'version', 'void', 'vsplit', 'vstack', 'where', 'who', 'zeros', 'zeros_like']\n",
      "True\n",
      "3.0\n",
      "\n",
      "['__all__', '__builtins__', '__cached__', '__doc__', '__file__', '__loader__', '__name__', '__package__', '__spec__', 'iskeyword', 'issoftkeyword', 'kwlist', 'softkwlist']\n",
      "\n",
      "['False', 'None', 'True', 'and', 'as', 'assert', 'async', 'await', 'break', 'class', 'continue', 'def', 'del', 'elif', 'else', 'except', 'finally', 'for', 'from', 'global', 'if', 'import', 'in', 'is', 'lambda', 'nonlocal', 'not', 'or', 'pass', 'raise', 'return', 'try', 'while', 'with', 'yield']\n"
     ]
    }
   ],
   "source": [
    "# Find if attribute or function exists in a library or not'\n",
    "# Example - check if mean attribute exists in numpy or not\n",
    "\n",
    "import keyword\n",
    "import datetime\n",
    "import pandas\n",
    "import numpy\n",
    "\n",
    "print(dir(numpy)) #>>> Lists all the functions/attributes of numpy package, mean is one of the functions.\n",
    "print('mean' in dir(numpy)) # To check if a function exists in a package/module or not >>> Returns True\n",
    "\n",
    "numbers = [1, 2, 3, 4, 5]\n",
    "mean = numpy.mean(numbers)\n",
    "print(mean) # Output: 3.0\n",
    "print('')\n",
    "\n",
    "print(dir(keyword)) # Displays all the attributes of keyword module''' >>> kwlist is the attribute that shows all the key words in python\n",
    "print('')\n",
    "print(keyword.kwlist)"
   ]
  },
  {
   "cell_type": "markdown",
   "id": "3dceba77-db4c-497c-bd18-b2e9aacebf5e",
   "metadata": {},
   "source": [
    "#### To know the syntax, background program for a function, module, package\n",
    "- Use help() function\n",
    "- Example: help(package_name.function_name)\n",
    "- Ex : help(builtins.print)\n",
    "- Ex : help(keyword.kwlist)\n",
    "\n",
    "#### To know list of built in function\n",
    "- Use builtins"
   ]
  },
  {
   "cell_type": "code",
   "execution_count": 40,
   "id": "4b266103-1eba-42a6-a8b6-28d26e492142",
   "metadata": {},
   "outputs": [
    {
     "name": "stdout",
     "output_type": "stream",
     "text": [
      "['ArithmeticError', 'AssertionError', 'AttributeError', 'BaseException', 'BaseExceptionGroup', 'BlockingIOError', 'BrokenPipeError', 'BufferError', 'BytesWarning', 'ChildProcessError', 'ConnectionAbortedError', 'ConnectionError', 'ConnectionRefusedError', 'ConnectionResetError', 'DeprecationWarning', 'EOFError', 'Ellipsis', 'EncodingWarning', 'EnvironmentError', 'Exception', 'ExceptionGroup', 'False', 'FileExistsError', 'FileNotFoundError', 'FloatingPointError', 'FutureWarning', 'GeneratorExit', 'IOError', 'ImportError', 'ImportWarning', 'IndentationError', 'IndexError', 'InterruptedError', 'IsADirectoryError', 'KeyError', 'KeyboardInterrupt', 'LookupError', 'MemoryError', 'ModuleNotFoundError', 'NameError', 'None', 'NotADirectoryError', 'NotImplemented', 'NotImplementedError', 'OSError', 'OverflowError', 'PendingDeprecationWarning', 'PermissionError', 'ProcessLookupError', 'RecursionError', 'ReferenceError', 'ResourceWarning', 'RuntimeError', 'RuntimeWarning', 'StopAsyncIteration', 'StopIteration', 'SyntaxError', 'SyntaxWarning', 'SystemError', 'SystemExit', 'TabError', 'TimeoutError', 'True', 'TypeError', 'UnboundLocalError', 'UnicodeDecodeError', 'UnicodeEncodeError', 'UnicodeError', 'UnicodeTranslateError', 'UnicodeWarning', 'UserWarning', 'ValueError', 'Warning', 'WindowsError', 'ZeroDivisionError', '__IPYTHON__', '__build_class__', '__debug__', '__doc__', '__import__', '__loader__', '__name__', '__package__', '__spec__', 'abs', 'aiter', 'all', 'anext', 'any', 'ascii', 'bin', 'bool', 'breakpoint', 'bytearray', 'bytes', 'callable', 'chr', 'classmethod', 'compile', 'complex', 'copyright', 'credits', 'delattr', 'dict', 'dir', 'display', 'divmod', 'enumerate', 'eval', 'exec', 'execfile', 'filter', 'float', 'format', 'frozenset', 'get_ipython', 'getattr', 'globals', 'hasattr', 'hash', 'help', 'hex', 'id', 'input', 'int', 'isinstance', 'issubclass', 'iter', 'len', 'license', 'list', 'locals', 'map', 'max', 'memoryview', 'min', 'next', 'object', 'oct', 'open', 'ord', 'pow', 'print', 'property', 'range', 'repr', 'reversed', 'round', 'runfile', 'set', 'setattr', 'slice', 'sorted', 'staticmethod', 'str', 'sum', 'super', 'tuple', 'type', 'vars', 'zip']\n",
      "Help on built-in function print in module builtins:\n",
      "\n",
      "print(*args, sep=' ', end='\\n', file=None, flush=False)\n",
      "    Prints the values to a stream, or to sys.stdout by default.\n",
      "\n",
      "    sep\n",
      "      string inserted between values, default a space.\n",
      "    end\n",
      "      string appended after the last value, default a newline.\n",
      "    file\n",
      "      a file-like object (stream); defaults to the current sys.stdout.\n",
      "    flush\n",
      "      whether to forcibly flush the stream.\n",
      "\n",
      "None\n",
      "Help on list object:\n",
      "\n",
      "class list(object)\n",
      " |  list(iterable=(), /)\n",
      " |\n",
      " |  Built-in mutable sequence.\n",
      " |\n",
      " |  If no argument is given, the constructor creates a new empty list.\n",
      " |  The argument must be an iterable if specified.\n",
      " |\n",
      " |  Methods defined here:\n",
      " |\n",
      " |  __add__(self, value, /)\n",
      " |      Return self+value.\n",
      " |\n",
      " |  __contains__(self, key, /)\n",
      " |      Return bool(key in self).\n",
      " |\n",
      " |  __delitem__(self, key, /)\n",
      " |      Delete self[key].\n",
      " |\n",
      " |  __eq__(self, value, /)\n",
      " |      Return self==value.\n",
      " |\n",
      " |  __ge__(self, value, /)\n",
      " |      Return self>=value.\n",
      " |\n",
      " |  __getattribute__(self, name, /)\n",
      " |      Return getattr(self, name).\n",
      " |\n",
      " |  __getitem__(self, index, /)\n",
      " |      Return self[index].\n",
      " |\n",
      " |  __gt__(self, value, /)\n",
      " |      Return self>value.\n",
      " |\n",
      " |  __iadd__(self, value, /)\n",
      " |      Implement self+=value.\n",
      " |\n",
      " |  __imul__(self, value, /)\n",
      " |      Implement self*=value.\n",
      " |\n",
      " |  __init__(self, /, *args, **kwargs)\n",
      " |      Initialize self.  See help(type(self)) for accurate signature.\n",
      " |\n",
      " |  __iter__(self, /)\n",
      " |      Implement iter(self).\n",
      " |\n",
      " |  __le__(self, value, /)\n",
      " |      Return self<=value.\n",
      " |\n",
      " |  __len__(self, /)\n",
      " |      Return len(self).\n",
      " |\n",
      " |  __lt__(self, value, /)\n",
      " |      Return self<value.\n",
      " |\n",
      " |  __mul__(self, value, /)\n",
      " |      Return self*value.\n",
      " |\n",
      " |  __ne__(self, value, /)\n",
      " |      Return self!=value.\n",
      " |\n",
      " |  __repr__(self, /)\n",
      " |      Return repr(self).\n",
      " |\n",
      " |  __reversed__(self, /)\n",
      " |      Return a reverse iterator over the list.\n",
      " |\n",
      " |  __rmul__(self, value, /)\n",
      " |      Return value*self.\n",
      " |\n",
      " |  __setitem__(self, key, value, /)\n",
      " |      Set self[key] to value.\n",
      " |\n",
      " |  __sizeof__(self, /)\n",
      " |      Return the size of the list in memory, in bytes.\n",
      " |\n",
      " |  append(self, object, /)\n",
      " |      Append object to the end of the list.\n",
      " |\n",
      " |  clear(self, /)\n",
      " |      Remove all items from list.\n",
      " |\n",
      " |  copy(self, /)\n",
      " |      Return a shallow copy of the list.\n",
      " |\n",
      " |  count(self, value, /)\n",
      " |      Return number of occurrences of value.\n",
      " |\n",
      " |  extend(self, iterable, /)\n",
      " |      Extend list by appending elements from the iterable.\n",
      " |\n",
      " |  index(self, value, start=0, stop=9223372036854775807, /)\n",
      " |      Return first index of value.\n",
      " |\n",
      " |      Raises ValueError if the value is not present.\n",
      " |\n",
      " |  insert(self, index, object, /)\n",
      " |      Insert object before index.\n",
      " |\n",
      " |  pop(self, index=-1, /)\n",
      " |      Remove and return item at index (default last).\n",
      " |\n",
      " |      Raises IndexError if list is empty or index is out of range.\n",
      " |\n",
      " |  remove(self, value, /)\n",
      " |      Remove first occurrence of value.\n",
      " |\n",
      " |      Raises ValueError if the value is not present.\n",
      " |\n",
      " |  reverse(self, /)\n",
      " |      Reverse *IN PLACE*.\n",
      " |\n",
      " |  sort(self, /, *, key=None, reverse=False)\n",
      " |      Sort the list in ascending order and return None.\n",
      " |\n",
      " |      The sort is in-place (i.e. the list itself is modified) and stable (i.e. the\n",
      " |      order of two equal elements is maintained).\n",
      " |\n",
      " |      If a key function is given, apply it once to each list item and sort them,\n",
      " |      ascending or descending, according to their function values.\n",
      " |\n",
      " |      The reverse flag can be set to sort in descending order.\n",
      " |\n",
      " |  ----------------------------------------------------------------------\n",
      " |  Class methods defined here:\n",
      " |\n",
      " |  __class_getitem__(...)\n",
      " |      See PEP 585\n",
      " |\n",
      " |  ----------------------------------------------------------------------\n",
      " |  Static methods defined here:\n",
      " |\n",
      " |  __new__(*args, **kwargs)\n",
      " |      Create and return a new object.  See help(type) for accurate signature.\n",
      " |\n",
      " |  ----------------------------------------------------------------------\n",
      " |  Data and other attributes defined here:\n",
      " |\n",
      " |  __hash__ = None\n",
      "\n",
      "None\n"
     ]
    }
   ],
   "source": [
    "import keyword\n",
    "import builtins\n",
    "\n",
    "print(dir(builtins)) #>>> print is one such built in function\n",
    "# To see the syntax of a function, example: print in this case\n",
    "print(help(builtins.print)) # >>> Shows the syntax of print function\n",
    "\n",
    "print(help(keyword.kwlist))"
   ]
  },
  {
   "cell_type": "code",
   "execution_count": 2,
   "id": "d0bcebaa-2bdc-4277-950d-847d88596842",
   "metadata": {},
   "outputs": [
    {
     "name": "stdout",
     "output_type": "stream",
     "text": [
      "['__all__', '__builtins__', '__cached__', '__doc__', '__file__', '__loader__', '__name__', '__package__', '__spec__', 'iskeyword', 'issoftkeyword', 'kwlist', 'softkwlist']\n",
      "\n",
      "\n",
      "['iskeyword', 'issoftkeyword', 'kwlist', 'softkwlist']\n",
      "\n",
      "\n",
      "C:\\Users\\ACER\\anaconda3\\Lib\\keyword.py\n",
      "\n",
      "\n",
      "ModuleSpec(name='keyword', loader=<_frozen_importlib_external.SourceFileLoader object at 0x0000021C611E8320>, origin='C:\\\\Users\\\\ACER\\\\anaconda3\\\\Lib\\\\keyword.py')\n",
      "\n",
      "\n",
      "('date', 'datetime', 'time', 'timedelta', 'timezone', 'tzinfo', 'MINYEAR', 'MAXYEAR', 'UTC')\n",
      "\n",
      "\n",
      "<class 'datetime.date'>\n",
      "\n",
      "\n",
      "['MAXYEAR', 'MINYEAR', 'UTC', '__all__', '__builtins__', '__cached__', '__doc__', '__file__', '__loader__', '__name__', '__package__', '__spec__', 'date', 'datetime', 'datetime_CAPI', 'time', 'timedelta', 'timezone', 'tzinfo']\n",
      "n\n",
      "['ArrowDtype', 'BooleanDtype', 'Categorical', 'CategoricalDtype', 'CategoricalIndex', 'DataFrame', 'DateOffset', 'DatetimeIndex', 'DatetimeTZDtype', 'ExcelFile', 'ExcelWriter', 'Flags', 'Float32Dtype', 'Float64Dtype', 'Grouper', 'HDFStore', 'Index', 'IndexSlice', 'Int16Dtype', 'Int32Dtype', 'Int64Dtype', 'Int8Dtype', 'Interval', 'IntervalDtype', 'IntervalIndex', 'MultiIndex', 'NA', 'NaT', 'NamedAgg', 'Period', 'PeriodDtype', 'PeriodIndex', 'RangeIndex', 'Series', 'SparseDtype', 'StringDtype', 'Timedelta', 'TimedeltaIndex', 'Timestamp', 'UInt16Dtype', 'UInt32Dtype', 'UInt64Dtype', 'UInt8Dtype', '__all__', '__builtins__', '__cached__', '__doc__', '__docformat__', '__file__', '__git_version__', '__loader__', '__name__', '__package__', '__path__', '__spec__', '__version__', '_built_with_meson', '_config', '_is_numpy_dev', '_libs', '_pandas_datetime_CAPI', '_pandas_parser_CAPI', '_testing', '_typing', '_version_meson', 'annotations', 'api', 'array', 'arrays', 'bdate_range', 'compat', 'concat', 'core', 'crosstab', 'cut', 'date_range', 'describe_option', 'errors', 'eval', 'factorize', 'from_dummies', 'get_dummies', 'get_option', 'infer_freq', 'interval_range', 'io', 'isna', 'isnull', 'json_normalize', 'lreshape', 'melt', 'merge', 'merge_asof', 'merge_ordered', 'notna', 'notnull', 'offsets', 'option_context', 'options', 'pandas', 'period_range', 'pivot', 'pivot_table', 'plotting', 'qcut', 'read_clipboard', 'read_csv', 'read_excel', 'read_feather', 'read_fwf', 'read_gbq', 'read_hdf', 'read_html', 'read_json', 'read_orc', 'read_parquet', 'read_pickle', 'read_sas', 'read_spss', 'read_sql', 'read_sql_query', 'read_sql_table', 'read_stata', 'read_table', 'read_xml', 'reset_option', 'set_eng_float_format', 'set_option', 'show_versions', 'test', 'testing', 'timedelta_range', 'to_datetime', 'to_numeric', 'to_pickle', 'to_timedelta', 'tseries', 'unique', 'util', 'value_counts', 'wide_to_long']\n"
     ]
    }
   ],
   "source": [
    "import keyword\n",
    "import datetime\n",
    "import pandas\n",
    "print(dir(keyword)) # To find the attributes in this module, this lists ALL the attributes.\n",
    "print('\\n')\n",
    "print(keyword.__all__) # One more way to find all the attributes, __all__ is one of the attributes in keyword module, Tells all the important attributes in this module\n",
    "print('\\n')\n",
    "print(keyword.__file__) # Tells where the keyword.py file is located\n",
    "print('\\n')\n",
    "print(keyword.__spec__) # Tells full path of the file\n",
    "print('\\n')\n",
    "print(datetime.__all__)\n",
    "print('\\n')\n",
    "print(datetime.date)\n",
    "print('\\n')\n",
    "print(dir(datetime))\n",
    "print('n')\n",
    "print(dir(pandas))\n",
    "\n",
    "#attributes = dir(math)\n",
    "#print(attributes)\n",
    "#print(math.pi(3))\n",
    "\n",
    "# import math attributes_dict = math.__dict__ print(attributes_dict)"
   ]
  },
  {
   "cell_type": "code",
   "execution_count": 144,
   "id": "1cc5052d-b2af-472e-add4-1a07b951e69f",
   "metadata": {},
   "outputs": [
    {
     "name": "stdout",
     "output_type": "stream",
     "text": [
      "['iskeyword', 'issoftkeyword', 'kwlist', 'softkwlist']\n",
      "\n",
      "\n",
      "['__all__', '__builtins__', '__cached__', '__doc__', '__file__', '__loader__', '__name__', '__package__', '__spec__', 'iskeyword', 'issoftkeyword', 'kwlist', 'softkwlist']\n",
      "\n",
      "\n",
      "['ArrowDtype', 'BooleanDtype', 'Categorical', 'CategoricalDtype', 'CategoricalIndex', 'DataFrame', 'DateOffset', 'DatetimeIndex', 'DatetimeTZDtype', 'ExcelFile', 'ExcelWriter', 'Flags', 'Float32Dtype', 'Float64Dtype', 'Grouper', 'HDFStore', 'Index', 'IndexSlice', 'Int16Dtype', 'Int32Dtype', 'Int64Dtype', 'Int8Dtype', 'Interval', 'IntervalDtype', 'IntervalIndex', 'MultiIndex', 'NA', 'NaT', 'NamedAgg', 'Period', 'PeriodDtype', 'PeriodIndex', 'RangeIndex', 'Series', 'SparseDtype', 'StringDtype', 'Timedelta', 'TimedeltaIndex', 'Timestamp', 'UInt16Dtype', 'UInt32Dtype', 'UInt64Dtype', 'UInt8Dtype', 'api', 'array', 'arrays', 'bdate_range', 'concat', 'crosstab', 'cut', 'date_range', 'describe_option', 'errors', 'eval', 'factorize', 'get_dummies', 'from_dummies', 'get_option', 'infer_freq', 'interval_range', 'io', 'isna', 'isnull', 'json_normalize', 'lreshape', 'melt', 'merge', 'merge_asof', 'merge_ordered', 'notna', 'notnull', 'offsets', 'option_context', 'options', 'period_range', 'pivot', 'pivot_table', 'plotting', 'qcut', 'read_clipboard', 'read_csv', 'read_excel', 'read_feather', 'read_fwf', 'read_gbq', 'read_hdf', 'read_html', 'read_json', 'read_orc', 'read_parquet', 'read_pickle', 'read_sas', 'read_spss', 'read_sql', 'read_sql_query', 'read_sql_table', 'read_stata', 'read_table', 'read_xml', 'reset_option', 'set_eng_float_format', 'set_option', 'show_versions', 'test', 'testing', 'timedelta_range', 'to_datetime', 'to_numeric', 'to_pickle', 'to_timedelta', 'tseries', 'unique', 'value_counts', 'wide_to_long']\n",
      "\n",
      "\n",
      "['ArrowDtype', 'BooleanDtype', 'Categorical', 'CategoricalDtype', 'CategoricalIndex', 'DataFrame', 'DateOffset', 'DatetimeIndex', 'DatetimeTZDtype', 'ExcelFile', 'ExcelWriter', 'Flags', 'Float32Dtype', 'Float64Dtype', 'Grouper', 'HDFStore', 'Index', 'IndexSlice', 'Int16Dtype', 'Int32Dtype', 'Int64Dtype', 'Int8Dtype', 'Interval', 'IntervalDtype', 'IntervalIndex', 'MultiIndex', 'NA', 'NaT', 'NamedAgg', 'Period', 'PeriodDtype', 'PeriodIndex', 'RangeIndex', 'Series', 'SparseDtype', 'StringDtype', 'Timedelta', 'TimedeltaIndex', 'Timestamp', 'UInt16Dtype', 'UInt32Dtype', 'UInt64Dtype', 'UInt8Dtype', '__all__', '__builtins__', '__cached__', '__doc__', '__docformat__', '__file__', '__git_version__', '__loader__', '__name__', '__package__', '__path__', '__spec__', '__version__', '_built_with_meson', '_config', '_is_numpy_dev', '_libs', '_pandas_datetime_CAPI', '_pandas_parser_CAPI', '_testing', '_typing', '_version_meson', 'annotations', 'api', 'array', 'arrays', 'bdate_range', 'compat', 'concat', 'core', 'crosstab', 'cut', 'date_range', 'describe_option', 'errors', 'eval', 'factorize', 'from_dummies', 'get_dummies', 'get_option', 'infer_freq', 'interval_range', 'io', 'isna', 'isnull', 'json_normalize', 'lreshape', 'melt', 'merge', 'merge_asof', 'merge_ordered', 'notna', 'notnull', 'offsets', 'option_context', 'options', 'pandas', 'period_range', 'pivot', 'pivot_table', 'plotting', 'qcut', 'read_clipboard', 'read_csv', 'read_excel', 'read_feather', 'read_fwf', 'read_gbq', 'read_hdf', 'read_html', 'read_json', 'read_orc', 'read_parquet', 'read_pickle', 'read_sas', 'read_spss', 'read_sql', 'read_sql_query', 'read_sql_table', 'read_stata', 'read_table', 'read_xml', 'reset_option', 'set_eng_float_format', 'set_option', 'show_versions', 'test', 'testing', 'timedelta_range', 'to_datetime', 'to_numeric', 'to_pickle', 'to_timedelta', 'tseries', 'unique', 'util', 'value_counts', 'wide_to_long']\n"
     ]
    }
   ],
   "source": [
    "import keyword\n",
    "import datetime\n",
    "import pandas\n",
    "print(keyword.__all__) # Tells all the important attributes in this module\n",
    "print('\\n')\n",
    "print(dir(keyword)) # One more way to find the attributes in this module, this lists ALL the attributes.\n",
    "print('\\n')\n",
    "print(pandas.__all__)\n",
    "print('\\n')\n",
    "print(dir(pandas))\n",
    "\n",
    "#attributes = dir(math)\n",
    "#print(attributes)\n",
    "#print(math.pi(3))\n",
    "\n",
    "# import math attributes_dict = math.__dict__ print(attributes_dict)"
   ]
  },
  {
   "cell_type": "markdown",
   "id": "60db875f-34a1-40aa-8a58-c57bc2b7b2ed",
   "metadata": {},
   "source": [
    "## Data Types\n",
    "- Numeric - int, float, complex\n",
    "- Boolean - True(anything other than 0) and False(0)\n",
    "- String - Text data and it is given inside single or double quotes"
   ]
  },
  {
   "cell_type": "markdown",
   "id": "06e4bd02-bd8b-446e-af0a-21dc9fca618c",
   "metadata": {},
   "source": [
    "##### Numeric Data Types\n",
    "- integer >>> Whole numbers including +ve, -ve values. Ex: 0,-3,3\n",
    "- float >>> consists of decimal values. Ex: 2.3\n",
    "- complex >>> consists of real and imaginary part (x+yj) >>> Ex: 1+3y"
   ]
  },
  {
   "cell_type": "code",
   "execution_count": 43,
   "id": "1a0f8977-e7a1-4784-ae86-7089aa535701",
   "metadata": {},
   "outputs": [
    {
     "name": "stdout",
     "output_type": "stream",
     "text": [
      "0 <class 'int'> \n",
      " 1 <class 'int'> \n",
      " -9 <class 'int'> \n",
      " 2.3 <class 'float'> \n",
      " 2.0 <class 'float'> \n",
      " (2+5j) <class 'complex'>\n"
     ]
    }
   ],
   "source": [
    "a,b,c,d,e,f=0,1,-9,2.3,2.0,2+5j\n",
    "print(a,type(a),'\\n',b,type(b),'\\n',c,type(c),'\\n',d,type(d),'\\n',e,type(e),'\\n',f,type(f))"
   ]
  },
  {
   "cell_type": "code",
   "execution_count": 88,
   "id": "d18055c0-b1a6-4565-a729-725f547c95fc",
   "metadata": {},
   "outputs": [
    {
     "data": {
      "text/plain": [
       "int"
      ]
     },
     "execution_count": 88,
     "metadata": {},
     "output_type": "execute_result"
    }
   ],
   "source": [
    "# integer\n",
    "x=10\n",
    "type(x) #Type function returns the datatype of the variable"
   ]
  },
  {
   "cell_type": "markdown",
   "id": "191e0f53-e168-4d68-a7ee-231d943bae9f",
   "metadata": {},
   "source": [
    "##### Find the size of a varible in bytes\n",
    "- getsizeof() function returns the size of a given value in bytes. This is present in sys module\n",
    "\n",
    "##### Size of float is 24 bytes in Python\n",
    "##### Size of integer is not fixed in Python, it starts from 28 bytes for a small value and it allocates more memory depending on the value of the integer\n",
    "##### Size of Boolean data type is 28 bytes in Python\n",
    "##### Size of Complex number is 32 bytes in Python\n",
    "##### Size of string is not fixed in Python, it starts from 41 bytes for a small value and it allocates more memory depending on the value of the integer"
   ]
  },
  {
   "cell_type": "code",
   "execution_count": 154,
   "id": "a19ceb7f-c90c-4180-9aa0-20fac92f71af",
   "metadata": {},
   "outputs": [
    {
     "name": "stdout",
     "output_type": "stream",
     "text": [
      "44\n",
      "28\n"
     ]
    }
   ],
   "source": [
    "import sys\n",
    "print(sys.getsizeof(12555454654856458654865486548547854785478510))\n",
    "#print(dir(sys))\n",
    "x=10\n",
    "print(sys.getsizeof(x)) #retuns the memory allocated to a variable in bytes"
   ]
  },
  {
   "cell_type": "code",
   "execution_count": 171,
   "id": "cc756da0-f54d-4def-8a73-b91e4719f227",
   "metadata": {},
   "outputs": [
    {
     "name": "stdout",
     "output_type": "stream",
     "text": [
      "28\n"
     ]
    }
   ],
   "source": [
    "import sys\n",
    "x=0\n",
    "print(sys.getsizeof(x)) #retuns the memory allocated to a variable in bytes"
   ]
  },
  {
   "cell_type": "code",
   "execution_count": 173,
   "id": "84f7f067-cd6b-4efb-8447-0b8768f2c8e8",
   "metadata": {},
   "outputs": [
    {
     "name": "stdout",
     "output_type": "stream",
     "text": [
      "32\n"
     ]
    }
   ],
   "source": [
    "import sys\n",
    "x=109090292939\n",
    "print(sys.getsizeof(x)) #retuns the memory allocated to a variable in bytes"
   ]
  },
  {
   "cell_type": "code",
   "execution_count": 204,
   "id": "dd902d44-a4f4-444c-8a60-2ec5eed514ef",
   "metadata": {},
   "outputs": [
    {
     "name": "stdout",
     "output_type": "stream",
     "text": [
      "48\n"
     ]
    }
   ],
   "source": [
    "import sys\n",
    "x=1090902929399382292482492483402483403482402484202478240\n",
    "print(sys.getsizeof(x)) #retuns the memory allocated to a variable in bytes"
   ]
  },
  {
   "cell_type": "markdown",
   "id": "06b6acd2-6ff2-4e60-a0bc-f039a05b727f",
   "metadata": {},
   "source": [
    "#### Size of integer is not fixed in Python, it starts from 28 bytes for a small value and it allocates more memory depending on the value of the integer"
   ]
  },
  {
   "cell_type": "code",
   "execution_count": 177,
   "id": "93353d98-8465-480d-a617-5576b9f6fcda",
   "metadata": {},
   "outputs": [
    {
     "name": "stdout",
     "output_type": "stream",
     "text": [
      "24\n"
     ]
    }
   ],
   "source": [
    "import sys\n",
    "y=2.1\n",
    "print(sys.getsizeof(y)) #retuns the memory allocated to a variable in bytes"
   ]
  },
  {
   "cell_type": "code",
   "execution_count": 210,
   "id": "247aa403-d764-440a-818f-ba8de67bf1c8",
   "metadata": {},
   "outputs": [
    {
     "name": "stdout",
     "output_type": "stream",
     "text": [
      "<class 'float'>\n",
      "24\n"
     ]
    }
   ],
   "source": [
    "import sys\n",
    "y=212123324242242442222225566243435355355212123324242242442222225566243435355355.142\n",
    "print(type(y))\n",
    "print(sys.getsizeof(y)) #retuns the memory allocated to a variable in bytes"
   ]
  },
  {
   "cell_type": "markdown",
   "id": "c62f3afe-ef02-4ab7-84e3-5c3dd0805b48",
   "metadata": {},
   "source": [
    "#### Size of float is 24 bytes in Python"
   ]
  },
  {
   "cell_type": "code",
   "execution_count": 240,
   "id": "3fa9e2fd-33c6-4501-a4ed-1e5e30d62d63",
   "metadata": {},
   "outputs": [
    {
     "name": "stdout",
     "output_type": "stream",
     "text": [
      "41\n",
      "0\n"
     ]
    }
   ],
   "source": [
    "import sys\n",
    "z=''\n",
    "print(sys.getsizeof(z)) #retuns the memory allocated to a variable in bytes\n",
    "print(len(z))"
   ]
  },
  {
   "cell_type": "code",
   "execution_count": 242,
   "id": "211afe14-d7da-468e-88d3-b252f9da903c",
   "metadata": {},
   "outputs": [
    {
     "name": "stdout",
     "output_type": "stream",
     "text": [
      "42\n",
      "1\n"
     ]
    }
   ],
   "source": [
    "import sys\n",
    "z='a'\n",
    "print(sys.getsizeof(z)) #retuns the memory allocated to a variable in bytes\n",
    "print(len(z))"
   ]
  },
  {
   "cell_type": "code",
   "execution_count": 217,
   "id": "2155acae-63b3-4e91-b201-1ea520b2f178",
   "metadata": {},
   "outputs": [
    {
     "name": "stdout",
     "output_type": "stream",
     "text": [
      "44\n"
     ]
    }
   ],
   "source": [
    "import sys\n",
    "z='AKK'\n",
    "print(sys.getsizeof(z)) #retuns the memory allocated to a variable in bytes"
   ]
  },
  {
   "cell_type": "code",
   "execution_count": 191,
   "id": "ab2e7c3e-81b1-4dd0-a7e9-352a9b9d4f6d",
   "metadata": {},
   "outputs": [
    {
     "name": "stdout",
     "output_type": "stream",
     "text": [
      "60\n"
     ]
    }
   ],
   "source": [
    "import sys\n",
    "z='Kranthi Kumar Akula'\n",
    "print(sys.getsizeof(z)) #retuns the memory allocated to a variable in bytes"
   ]
  },
  {
   "cell_type": "code",
   "execution_count": 193,
   "id": "ed8bece2-dbf4-4c9f-9e08-7e896516f5f1",
   "metadata": {},
   "outputs": [
    {
     "name": "stdout",
     "output_type": "stream",
     "text": [
      "65\n"
     ]
    }
   ],
   "source": [
    "import sys\n",
    "z='Kranthi Kumar Akula Name'\n",
    "print(sys.getsizeof(z)) #retuns the memory allocated to a variable in bytes"
   ]
  },
  {
   "cell_type": "code",
   "execution_count": 238,
   "id": "1f7e5b88-dc19-4447-ad47-8f78f744894f",
   "metadata": {},
   "outputs": [
    {
     "name": "stdout",
     "output_type": "stream",
     "text": [
      "84\n",
      "43\n"
     ]
    }
   ],
   "source": [
    "import sys\n",
    "z='Sachin Chiranjeevi Kranthi Kumar Akula Name'\n",
    "print(sys.getsizeof(z)) #retuns the memory allocated to a variable in bytes\n",
    "print(len(z))"
   ]
  },
  {
   "cell_type": "markdown",
   "id": "4e488611-0d47-4ee9-be41-ffa51a271c34",
   "metadata": {},
   "source": [
    "#### Size of string is not fixed in Python, it starts from 41 bytes for a small value and it allocates more memory depending on the value of the integer"
   ]
  },
  {
   "cell_type": "markdown",
   "id": "65c71933-5b3a-4942-81f8-bf6b0738ce53",
   "metadata": {},
   "source": [
    "#### isinstance() function \n",
    "- Commonly used for type checking\n",
    "- checks whether the variable belongs to the given datatype or not. Returns True if same datatype, False if different datatype"
   ]
  },
  {
   "cell_type": "code",
   "execution_count": 14,
   "id": "0f036880-eb12-4895-98ec-df36d1ef2b15",
   "metadata": {},
   "outputs": [
    {
     "name": "stdout",
     "output_type": "stream",
     "text": [
      "False\n",
      "True\n"
     ]
    }
   ],
   "source": [
    "x=2.5\n",
    "print(isinstance(x,int))\n",
    "print(isinstance(x,float))"
   ]
  },
  {
   "cell_type": "code",
   "execution_count": 114,
   "id": "cca56783-9e97-4789-bfe0-d2cbe978223b",
   "metadata": {},
   "outputs": [
    {
     "name": "stdout",
     "output_type": "stream",
     "text": [
      "<class 'float'>\n",
      "24  bytes\n",
      "False\n",
      "True\n"
     ]
    }
   ],
   "source": [
    "# Float\n",
    "y=2.5\n",
    "print(type(y))\n",
    "print(sys.getsizeof(y),' bytes')\n",
    "print(isinstance(y,int))\n",
    "print(isinstance(y,float))"
   ]
  },
  {
   "cell_type": "code",
   "execution_count": 16,
   "id": "c8e0eee4-64f3-4e22-a0eb-bb5e4655ef13",
   "metadata": {},
   "outputs": [
    {
     "name": "stdout",
     "output_type": "stream",
     "text": [
      "<class 'complex'>\n",
      "32  bytes\n",
      "<class 'complex'>\n",
      "32  bytes\n",
      "False\n",
      "False\n",
      "True\n"
     ]
    }
   ],
   "source": [
    "# Complex\n",
    "z=2+3j\n",
    "y=999999999999999999999999+9999999999999999j\n",
    "print(type(z))\n",
    "print(sys.getsizeof(z),' bytes')\n",
    "print(type(y))\n",
    "print(sys.getsizeof(y),' bytes')\n",
    "print(isinstance(z,int))\n",
    "print(isinstance(z,float))\n",
    "print(isinstance(z,complex))"
   ]
  },
  {
   "cell_type": "markdown",
   "id": "56c9ad8b-6196-4cbd-a5c2-afefc7700ad3",
   "metadata": {},
   "source": [
    "#### Size of Complex number is 32 bytes in Python"
   ]
  },
  {
   "cell_type": "code",
   "execution_count": 23,
   "id": "bd464a70-b2b9-4aca-b6ae-9b7cc337f212",
   "metadata": {},
   "outputs": [
    {
     "name": "stdout",
     "output_type": "stream",
     "text": [
      "28\n",
      "<class 'bool'>\n",
      "True\n"
     ]
    }
   ],
   "source": [
    "# boolean\n",
    "bool1 = True\n",
    "print(sys.getsizeof(bool1))\n",
    "print(type(bool1))\n",
    "print(isinstance(bool1,bool))"
   ]
  },
  {
   "cell_type": "code",
   "execution_count": 25,
   "id": "4a471689-06fb-4e63-b76c-782ee44ddb0b",
   "metadata": {},
   "outputs": [
    {
     "name": "stdout",
     "output_type": "stream",
     "text": [
      "28\n",
      "<class 'bool'>\n",
      "True\n"
     ]
    }
   ],
   "source": [
    "# boolean\n",
    "bool1 = False\n",
    "print(sys.getsizeof(bool1))\n",
    "print(type(bool1))\n",
    "print(isinstance(bool1,bool))"
   ]
  },
  {
   "cell_type": "code",
   "execution_count": 3,
   "id": "2c053895-1ccc-4626-a06e-41006fc3a3ac",
   "metadata": {},
   "outputs": [
    {
     "name": "stdout",
     "output_type": "stream",
     "text": [
      "True\n",
      "True\n"
     ]
    }
   ],
   "source": [
    "print(bool(\"Hello\"))\n",
    "print(bool(15))"
   ]
  },
  {
   "cell_type": "code",
   "execution_count": 5,
   "id": "88bc7ed7-90cc-47c5-b38b-0b73971dab00",
   "metadata": {},
   "outputs": [
    {
     "name": "stdout",
     "output_type": "stream",
     "text": [
      "True\n",
      "False\n"
     ]
    }
   ],
   "source": [
    "x = \"Hello\"\n",
    "y = 0\n",
    "\n",
    "print(bool(x))\n",
    "print(bool(y))"
   ]
  },
  {
   "cell_type": "markdown",
   "id": "dff96fd5-d649-48f7-8fde-361bb9d73940",
   "metadata": {},
   "source": [
    "#### Size of Boolean data type is 28 bytes in Python"
   ]
  },
  {
   "cell_type": "code",
   "execution_count": 1,
   "id": "e5547e9e-8d77-4254-b54c-4a8fdb259b74",
   "metadata": {},
   "outputs": [
    {
     "name": "stdout",
     "output_type": "stream",
     "text": [
      "<class 'str'>\n",
      "True\n",
      "<class 'str'>\n",
      "True\n"
     ]
    }
   ],
   "source": [
    "# String\n",
    "name = 'Hello'\n",
    "name2 = \"Hello2\"\n",
    "print(type(name))\n",
    "print(isinstance(name,str))\n",
    "print(type(name2))\n",
    "print(isinstance(name2,str))"
   ]
  },
  {
   "cell_type": "code",
   "execution_count": 11,
   "id": "447e740e-846e-4374-935e-0bbb5bf1cc2a",
   "metadata": {},
   "outputs": [
    {
     "ename": "SyntaxError",
     "evalue": "unterminated string literal (detected at line 1) (2993192395.py, line 1)",
     "output_type": "error",
     "traceback": [
      "\u001b[1;36m  Cell \u001b[1;32mIn[11], line 1\u001b[1;36m\u001b[0m\n\u001b[1;33m    name = \"Testing the name in\u001b[0m\n\u001b[1;37m           ^\u001b[0m\n\u001b[1;31mSyntaxError\u001b[0m\u001b[1;31m:\u001b[0m unterminated string literal (detected at line 1)\n"
     ]
    }
   ],
   "source": [
    "name = \"Testing the name in \n",
    "multiple lines\"\n",
    "print(name)"
   ]
  },
  {
   "cell_type": "code",
   "execution_count": 3,
   "id": "3f197329-16dc-4793-bc24-197e8e4d3bf5",
   "metadata": {},
   "outputs": [
    {
     "name": "stdout",
     "output_type": "stream",
     "text": [
      "Testing the name in mul\n",
      "tiple lines\n"
     ]
    }
   ],
   "source": [
    "name = '''Testing the name in mul\n",
    "tiple lines'''\n",
    "print(name)"
   ]
  },
  {
   "cell_type": "code",
   "execution_count": 35,
   "id": "8a0ef7cc-d8c4-4ade-a7a3-229d8c2f506b",
   "metadata": {},
   "outputs": [
    {
     "name": "stdout",
     "output_type": "stream",
     "text": [
      "Testing the name in multiple lines\n",
      "__main__\n"
     ]
    }
   ],
   "source": [
    "import sys\n",
    "name = \"Testing the name in \\\n",
    "multiple lines\"\n",
    "print(name)\n",
    "print(__name__)"
   ]
  },
  {
   "cell_type": "code",
   "execution_count": 31,
   "id": "b2b572d0-2a16-4ead-b4b7-80024f260c2c",
   "metadata": {},
   "outputs": [
    {
     "name": "stdout",
     "output_type": "stream",
     "text": [
      "72\n",
      "__main__\n"
     ]
    }
   ],
   "source": [
    "import sys\n",
    "name = \"Testing the name in single line\"\n",
    "print(sys.getsizeof(name))\n",
    "print(__name__)"
   ]
  }
 ],
 "metadata": {
  "kernelspec": {
   "display_name": "Python [conda env:base] *",
   "language": "python",
   "name": "conda-base-py"
  },
  "language_info": {
   "codemirror_mode": {
    "name": "ipython",
    "version": 3
   },
   "file_extension": ".py",
   "mimetype": "text/x-python",
   "name": "python",
   "nbconvert_exporter": "python",
   "pygments_lexer": "ipython3",
   "version": "3.12.7"
  }
 },
 "nbformat": 4,
 "nbformat_minor": 5
}
