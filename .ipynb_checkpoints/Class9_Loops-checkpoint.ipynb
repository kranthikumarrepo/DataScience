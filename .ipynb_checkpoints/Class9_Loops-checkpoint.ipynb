{
 "cells": [
  {
   "cell_type": "markdown",
   "id": "38530437-80bc-499f-b726-1f7c96c5c847",
   "metadata": {},
   "source": [
    "#### Iteration - to execute the same set of statements(block of code) multiple times\n",
    "- while loop >>> To execute until a condition is met\n",
    "- for loop >>> To execute certain number of times, we can use numbers, lists, tuples, strings for indexing\n",
    "- <b>do while - Python does not have</b> a built-in do-while loop like some other programming languages. However, its functionality can be emulated using a while loop with a break statement.\n",
    "- Loop control statements - <b>continue</b> and <b>break</b>\n",
    "- <b>Note:</b> remember to increment the incrementer/counter manually, or else the loop will continue forever.\n",
    "- <b>range</b> - To loop through a set of code a specified number of times, we can use the range() function. The range() function returns a sequence of numbers, starting from 0 by default, and increments by 1 (by default), and ends at a specified number-1."
   ]
  },
  {
   "cell_type": "markdown",
   "id": "494053a4-c2aa-404b-a8f0-4df316a4b782",
   "metadata": {},
   "source": [
    "#### while loop\n",
    "- Syntax\n",
    "- while condition:\n",
    "-       statements\n",
    "-       counter = counter + 1 or counter += 1\n",
    "- else: (optional, if given, executes at the end)\n",
    "-       statements"
   ]
  },
  {
   "cell_type": "code",
   "execution_count": 41,
   "id": "7eef8218-9839-49f7-8be1-b242d7cdd8b6",
   "metadata": {},
   "outputs": [
    {
     "name": "stdout",
     "output_type": "stream",
     "text": [
      "Data Science  0\n",
      "Data Science  1\n",
      "Data Science  2\n",
      "Data Science  3\n",
      "Data Science  4\n",
      "Data Science  5\n",
      "Data Science  6\n",
      "Data Science  7\n",
      "Data Science  8\n",
      "Data Science  9\n",
      "Data Science  10\n"
     ]
    }
   ],
   "source": [
    "i = 0\n",
    "while i <= 10:\n",
    "    print('Data Science ',i)\n",
    "    i = i + 1"
   ]
  },
  {
   "cell_type": "code",
   "execution_count": 28,
   "id": "e2f823d0-3013-4843-b8a5-41050daee75e",
   "metadata": {},
   "outputs": [
    {
     "name": "stdout",
     "output_type": "stream",
     "text": [
      "Data Science  0\n",
      "Data Science  1\n",
      "Data Science  2\n",
      "Data Science  3\n",
      "Data Science  4\n",
      "Data Science  5\n",
      "Data Science  6\n",
      "Data Science  7\n",
      "Data Science  8\n",
      "Data Science  9\n",
      "Data Science  10\n",
      "Completed while\n"
     ]
    }
   ],
   "source": [
    "i = 0\n",
    "while i <= 10:\n",
    "    print('Data Science ',i)\n",
    "    i = i + 1\n",
    "else:\n",
    "    print(\"Completed while\")"
   ]
  },
  {
   "cell_type": "code",
   "execution_count": 42,
   "id": "9bf4af38-b9f1-41be-9a21-ec948c0ce163",
   "metadata": {},
   "outputs": [
    {
     "name": "stdout",
     "output_type": "stream",
     "text": [
      "Data Science  0\n",
      "Data Science  1\n",
      "Data Science  2\n",
      "Data Science  3\n",
      "Data Science  4\n",
      "Data Science  5\n",
      "Data Science  6\n",
      "Data Science  7\n",
      "Data Science  8\n",
      "Data Science  9\n",
      "Data Science  10\n"
     ]
    }
   ],
   "source": [
    "i = 0\n",
    "while i <= 10:\n",
    "    print('Data Science ',i)\n",
    "    i += 1"
   ]
  },
  {
   "cell_type": "code",
   "execution_count": 43,
   "id": "c958ad07-57e4-4716-82b7-a36d9b867003",
   "metadata": {},
   "outputs": [
    {
     "name": "stdout",
     "output_type": "stream",
     "text": [
      "Data Science  1\n",
      "Data Science  2\n",
      "Data Science  3\n",
      "Data Science  4\n",
      "Data Science  5\n",
      "Data Science  6\n",
      "Data Science  7\n",
      "Data Science  8\n",
      "Data Science  9\n",
      "Data Science  10\n",
      "Data Science  11\n"
     ]
    }
   ],
   "source": [
    "i = 0\n",
    "while i <= 10:\n",
    "    i += 1\n",
    "    print('Data Science ',i)"
   ]
  },
  {
   "cell_type": "code",
   "execution_count": 44,
   "id": "a7915929-8c1e-495c-9e81-744456f7ace7",
   "metadata": {},
   "outputs": [
    {
     "name": "stdout",
     "output_type": "stream",
     "text": [
      "Data Science  1\n",
      "Data Science  2\n",
      "Data Science  3\n",
      "Data Science  4\n",
      "Data Science  5\n",
      "Data Science  6\n",
      "Data Science  7\n",
      "Data Science  8\n",
      "Data Science  9\n",
      "Data Science  10\n",
      "Data Science  11\n"
     ]
    }
   ],
   "source": [
    "i = 0\n",
    "while i <= 10:\n",
    "    i += 1\n",
    "    print('Data Science ',i)"
   ]
  },
  {
   "cell_type": "code",
   "execution_count": 52,
   "id": "f95cc35c-7a15-4460-b3ad-620eef8c44fd",
   "metadata": {},
   "outputs": [
    {
     "name": "stdout",
     "output_type": "stream",
     "text": [
      "Even number  0\n",
      "Even number  2\n",
      "Even number  4\n",
      "Even number  6\n",
      "Even number  8\n",
      "Even number  10\n",
      "Even number  12\n",
      "Even number  14\n",
      "Even number  16\n",
      "Even number  18\n",
      "Even number  20\n"
     ]
    }
   ],
   "source": [
    "i = 0\n",
    "while i <= 20:\n",
    "    print('Even number ',i)\n",
    "    i += 2"
   ]
  },
  {
   "cell_type": "code",
   "execution_count": 56,
   "id": "6bd45b97-3d07-45fd-ae5c-6e677822c68b",
   "metadata": {},
   "outputs": [
    {
     "name": "stdout",
     "output_type": "stream",
     "text": [
      "Odd number  1\n",
      "Odd number  3\n",
      "Odd number  5\n",
      "Odd number  7\n",
      "Odd number  9\n",
      "Odd number  11\n",
      "Odd number  13\n",
      "Odd number  15\n",
      "Odd number  17\n",
      "Odd number  19\n"
     ]
    }
   ],
   "source": [
    "i = 1\n",
    "while i <= 20:\n",
    "    print('Odd number ',i)\n",
    "    i += 2"
   ]
  },
  {
   "cell_type": "markdown",
   "id": "738a1cf5-6c96-4fc3-9637-bff53fbe78a0",
   "metadata": {},
   "source": [
    "#### Loop control statements\n",
    "- <b>break</b> - Stops the execution and comes out of the loop\n",
    "- <b>continue</b> - skip execution below continue statement and go back to start of loop"
   ]
  },
  {
   "cell_type": "code",
   "execution_count": 70,
   "id": "4b3daf91-3a6b-40b8-aad5-564cf357dc76",
   "metadata": {},
   "outputs": [
    {
     "name": "stdout",
     "output_type": "stream",
     "text": [
      "0\n",
      "1\n",
      "2\n",
      "3\n",
      "4\n"
     ]
    }
   ],
   "source": [
    "# while with break statement\n",
    "i = 0\n",
    "while i <= 10:\n",
    "    if i == 5:\n",
    "        break\n",
    "    print(i)\n",
    "    i += 1"
   ]
  },
  {
   "cell_type": "code",
   "execution_count": 5,
   "id": "572b2550-6219-4f68-b133-e6fd79e2ecfa",
   "metadata": {},
   "outputs": [
    {
     "name": "stdout",
     "output_type": "stream",
     "text": [
      "1\n",
      "2\n",
      "3\n",
      "4\n",
      "6\n",
      "7\n",
      "8\n",
      "9\n",
      "10\n",
      "11\n"
     ]
    }
   ],
   "source": [
    "# while with continue statement\n",
    "i = 0\n",
    "while i <= 10:\n",
    "    i += 1\n",
    "    if i == 5:\n",
    "        continue\n",
    "    print(i)"
   ]
  },
  {
   "cell_type": "code",
   "execution_count": null,
   "id": "a711a41c-1648-4375-841f-724b628d4508",
   "metadata": {},
   "outputs": [
    {
     "name": "stdout",
     "output_type": "stream",
     "text": [
      "0\n",
      "1\n",
      "2\n",
      "3\n",
      "4\n"
     ]
    }
   ],
   "source": [
    "# while with continue statement\n",
    "# executes infinite times.\n",
    "\n",
    "i = 0\n",
    "while i <= 10:\n",
    "    if i == 5:\n",
    "        continue\n",
    "    print(i)\n",
    "    i += 1"
   ]
  },
  {
   "cell_type": "code",
   "execution_count": 4,
   "id": "75f0f410-5373-435f-b920-f488e8e740b0",
   "metadata": {},
   "outputs": [
    {
     "name": "stdout",
     "output_type": "stream",
     "text": [
      "0\n",
      "1\n",
      "2\n",
      "3\n",
      "4\n",
      "5\n",
      "6\n",
      "7\n",
      "8\n",
      "9\n",
      "10\n",
      "came to end\n"
     ]
    }
   ],
   "source": [
    "### while with else\n",
    "i = 0\n",
    "while i <= 10:\n",
    "    print(i)\n",
    "    i += 1\n",
    "else:\n",
    "    print('came to end')"
   ]
  },
  {
   "cell_type": "markdown",
   "id": "ad9953a6-bcf0-4df2-8d7f-0471e6b6364e",
   "metadata": {},
   "source": [
    "### For loop\n",
    "#### while loop\n",
    "- Syntax\n",
    "- for i in values(values can be literal, list,etc.)\n",
    "-       statements\n",
    "-       counter = counter + 1 or counter += 1\n",
    "- else: (optional, if given, executes at the end)\n",
    "-       statements"
   ]
  },
  {
   "cell_type": "code",
   "execution_count": 38,
   "id": "f1c11ac3-8303-47a1-9b05-ebbb3db3c131",
   "metadata": {},
   "outputs": [
    {
     "name": "stdout",
     "output_type": "stream",
     "text": [
      "i value is  1\n",
      "i value is  11\n",
      "i value is  15\n"
     ]
    }
   ],
   "source": [
    "# For loop with selected values\n",
    "i =1\n",
    "for i in (1,11,15):\n",
    "    print(\"i value is \",i)\n",
    "    i += 1"
   ]
  },
  {
   "cell_type": "code",
   "execution_count": 40,
   "id": "a6bcec74-987a-4479-8ea7-99fe55244b16",
   "metadata": {},
   "outputs": [
    {
     "name": "stdout",
     "output_type": "stream",
     "text": [
      "i value is  1\n",
      "i value is  2\n",
      "i value is  3\n",
      "i value is  4\n",
      "i value is  5\n",
      "i value is  6\n",
      "i value is  7\n",
      "i value is  8\n",
      "i value is  9\n",
      "i value is  10\n"
     ]
    }
   ],
   "source": [
    "# For loop with range\n",
    "i =1\n",
    "for i in range(1,11):\n",
    "    print(\"i value is \",i)\n",
    "    #i += 1"
   ]
  },
  {
   "cell_type": "code",
   "execution_count": 8,
   "id": "d90d19f4-d46a-4aa1-812c-19a207b5fab6",
   "metadata": {},
   "outputs": [
    {
     "name": "stdout",
     "output_type": "stream",
     "text": [
      "P\n",
      "y\n",
      "t\n",
      "h\n",
      "o\n",
      "n\n"
     ]
    }
   ],
   "source": [
    "# For loops\n",
    "str1 = 'Python'\n",
    "for i in str1:\n",
    "    print(i)"
   ]
  },
  {
   "cell_type": "code",
   "execution_count": 16,
   "id": "ce4bc612-4307-43d6-ae96-c66dc2a68bbf",
   "metadata": {},
   "outputs": [
    {
     "name": "stdout",
     "output_type": "stream",
     "text": [
      "Value  P  is at  1  position\n",
      "Value  y  is at  2  position\n",
      "Value  t  is at  3  position\n",
      "Value  h  is at  4  position\n",
      "Value  o  is at  5  position\n",
      "Value  n  is at  6  position\n"
     ]
    }
   ],
   "source": [
    "# For loops\n",
    "str1 = 'Python'\n",
    "j = 1\n",
    "for i in str1:\n",
    "    print('Value ',i,' is at ',j,' position')\n",
    "    j += 1"
   ]
  },
  {
   "cell_type": "code",
   "execution_count": 24,
   "id": "f94f3e09-42f3-4728-a265-567e439eaad9",
   "metadata": {},
   "outputs": [
    {
     "name": "stdout",
     "output_type": "stream",
     "text": [
      "Value  P  is at  1 st  position\n",
      "Value  y  is at  2 nd  position\n",
      "Value  t  is at  3 rd  position\n",
      "Value  h  is at  4 th  position\n",
      "Value  o  is at  5 th  position\n",
      "Value  n  is at  6 th  position\n"
     ]
    }
   ],
   "source": [
    "# For loops\n",
    "str1 = 'Python'\n",
    "j = 1\n",
    "\n",
    "for i in str1:\n",
    "    if 10 <= j % 100 <= 20:\n",
    "        suffix = 'th'\n",
    "    else:\n",
    "        suffix = {1: 'st', 2: 'nd', 3: 'rd'}.get(j % 10, 'th')\n",
    "    print('Value ',i,' is at ',j,suffix,' position')\n",
    "    j += 1"
   ]
  },
  {
   "cell_type": "code",
   "execution_count": 20,
   "id": "16d42f79-a92d-458c-ad7d-b07631400a14",
   "metadata": {},
   "outputs": [
    {
     "name": "stdout",
     "output_type": "stream",
     "text": [
      "2\n",
      "5\n",
      "7\n",
      "9\n",
      "11\n"
     ]
    }
   ],
   "source": [
    "l = [2,5,7,9,11]\n",
    "for i in l:\n",
    "    print(i)"
   ]
  },
  {
   "cell_type": "code",
   "execution_count": 26,
   "id": "f249b710-3ab3-4875-8cd0-d38462238943",
   "metadata": {},
   "outputs": [
    {
     "name": "stdout",
     "output_type": "stream",
     "text": [
      "2\n",
      "5\n",
      "7\n",
      "9\n",
      "11\n"
     ]
    }
   ],
   "source": [
    "t = (2,5,7,9,11)\n",
    "for i in t:\n",
    "    print(i)"
   ]
  },
  {
   "cell_type": "markdown",
   "id": "005219a8-04c2-441c-b71b-42b61f91c501",
   "metadata": {},
   "source": [
    "#### Range function in for loop\n",
    "\n",
    "- Range(start,stop,step)\n",
    "- start is inclusive (Starts from 0)\n",
    "- stop is exclusive\n",
    "- .\n",
    "- If only one value is given, then value-1\n",
    "- Ex: range(4) >>> 0,1,2,3\n"
   ]
  },
  {
   "cell_type": "code",
   "execution_count": 24,
   "id": "7263a934-b680-41a4-9c57-015cfe34580c",
   "metadata": {},
   "outputs": [
    {
     "name": "stdout",
     "output_type": "stream",
     "text": [
      "0\n",
      "1\n",
      "2\n",
      "3\n",
      "4\n",
      "5\n",
      "Finally finished!\n"
     ]
    }
   ],
   "source": [
    "for x in range(6):\n",
    "  print(x)\n",
    "else:\n",
    "  print(\"Finally finished!\")"
   ]
  },
  {
   "cell_type": "code",
   "execution_count": 15,
   "id": "9a88ea9c-d482-41df-acce-fece706220fe",
   "metadata": {},
   "outputs": [
    {
     "name": "stdout",
     "output_type": "stream",
     "text": [
      "0\n",
      "1\n",
      "2\n",
      "3\n",
      "4\n",
      "5\n"
     ]
    }
   ],
   "source": [
    "for x in range(6):\n",
    "  print(x)"
   ]
  },
  {
   "cell_type": "code",
   "execution_count": 18,
   "id": "b751ad12-a5ba-42c8-b541-7ab1d087b88c",
   "metadata": {},
   "outputs": [
    {
     "name": "stdout",
     "output_type": "stream",
     "text": [
      "2\n",
      "3\n",
      "4\n",
      "5\n"
     ]
    }
   ],
   "source": [
    "for x in range(2, 6):\n",
    "  print(x)"
   ]
  },
  {
   "cell_type": "code",
   "execution_count": 20,
   "id": "410d3228-4147-4c11-bb74-14a00049cbe2",
   "metadata": {},
   "outputs": [
    {
     "name": "stdout",
     "output_type": "stream",
     "text": [
      "2\n",
      "5\n",
      "8\n",
      "11\n",
      "14\n",
      "17\n",
      "20\n",
      "23\n",
      "26\n",
      "29\n"
     ]
    }
   ],
   "source": [
    "for x in range(2, 30, 3):\n",
    "  print(x)"
   ]
  },
  {
   "cell_type": "code",
   "execution_count": 30,
   "id": "a36e3fb3-3b66-4007-918f-6d17e2b102df",
   "metadata": {},
   "outputs": [
    {
     "name": "stdout",
     "output_type": "stream",
     "text": [
      "1\n",
      "2\n",
      "3\n",
      "4\n",
      "5\n",
      "6\n",
      "7\n",
      "8\n",
      "9\n",
      "10\n"
     ]
    }
   ],
   "source": [
    "for i in range(1,11):\n",
    "    print(i)"
   ]
  },
  {
   "cell_type": "code",
   "execution_count": 38,
   "id": "8ab921f8-8c32-44e3-8537-fb0af1f3a78c",
   "metadata": {},
   "outputs": [
    {
     "name": "stdout",
     "output_type": "stream",
     "text": [
      "1\n",
      "2\n",
      "3\n",
      "4\n",
      "5\n",
      "6\n",
      "7\n",
      "8\n",
      "9\n",
      "10\n"
     ]
    }
   ],
   "source": [
    "for i in range(1,11,1):\n",
    "    print(i)"
   ]
  },
  {
   "cell_type": "code",
   "execution_count": 48,
   "id": "6dadfe85-702e-4a07-93f9-866f09f80ae6",
   "metadata": {},
   "outputs": [
    {
     "data": {
      "text/plain": [
       "[1, 2, 3, 4, 5, 6, 7, 8, 9, 10]"
      ]
     },
     "execution_count": 48,
     "metadata": {},
     "output_type": "execute_result"
    }
   ],
   "source": [
    "l1 = []\n",
    "for i in range(1,11):\n",
    "    l1.insert(i,i)\n",
    "l1"
   ]
  },
  {
   "cell_type": "code",
   "execution_count": 54,
   "id": "cd173b1d-7083-42cb-bfaf-a69eb3bdaf57",
   "metadata": {},
   "outputs": [
    {
     "data": {
      "text/plain": [
       "[1, 2, 3, 4, 5, 6, 7, 8, 9, 10]"
      ]
     },
     "execution_count": 54,
     "metadata": {},
     "output_type": "execute_result"
    }
   ],
   "source": [
    "l1 = []\n",
    "for i in range(1,11):\n",
    "    l1.append(i)\n",
    "l1"
   ]
  },
  {
   "cell_type": "code",
   "execution_count": 64,
   "id": "b378631b-c686-4866-b74c-5cdc9f735cdd",
   "metadata": {},
   "outputs": [
    {
     "name": "stdout",
     "output_type": "stream",
     "text": [
      "0\n",
      "2\n",
      "4\n",
      "6\n",
      "8\n",
      "10\n",
      "12\n",
      "14\n",
      "16\n",
      "18\n"
     ]
    }
   ],
   "source": [
    "for i in range(0,20,2):\n",
    "    print(i)"
   ]
  },
  {
   "cell_type": "code",
   "execution_count": 70,
   "id": "2775d4ae-ccbb-4928-a9b7-914a85f15f58",
   "metadata": {},
   "outputs": [
    {
     "name": "stdout",
     "output_type": "stream",
     "text": [
      "10\n",
      "9\n",
      "8\n",
      "7\n",
      "6\n"
     ]
    }
   ],
   "source": [
    "for i in range(10,5,-1):\n",
    "    print(i)"
   ]
  },
  {
   "cell_type": "code",
   "execution_count": 42,
   "id": "4a3a0e00-72a6-45eb-960e-f6eca78638ce",
   "metadata": {},
   "outputs": [
    {
     "name": "stdout",
     "output_type": "stream",
     "text": [
      "red apple\n",
      "red banana\n",
      "red cherry\n",
      "big apple\n",
      "big banana\n",
      "big cherry\n",
      "tasty apple\n",
      "tasty banana\n",
      "tasty cherry\n"
     ]
    }
   ],
   "source": [
    "#Nested Loops\n",
    "\n",
    "adj = [\"red\", \"big\", \"tasty\"]\n",
    "fruits = [\"apple\", \"banana\", \"cherry\"]\n",
    "\n",
    "for x in adj:\n",
    "  for y in fruits:\n",
    "    print(x, y)"
   ]
  },
  {
   "cell_type": "markdown",
   "id": "98382234-6ad0-473c-90a6-1b6ca54605fe",
   "metadata": {},
   "source": [
    "#### Nested loops"
   ]
  },
  {
   "cell_type": "code",
   "execution_count": 13,
   "id": "5e15960a-0c8d-4d91-b339-debcffd7de80",
   "metadata": {},
   "outputs": [
    {
     "name": "stdout",
     "output_type": "stream",
     "text": [
      "Maths\n",
      "90\n",
      "88\n",
      "76\n",
      "21\n",
      "Eco\n"
     ]
    },
    {
     "ename": "IndexError",
     "evalue": "list index out of range",
     "output_type": "error",
     "traceback": [
      "\u001b[1;31m---------------------------------------------------------------------------\u001b[0m",
      "\u001b[1;31mIndexError\u001b[0m                                Traceback (most recent call last)",
      "Cell \u001b[1;32mIn[13], line 8\u001b[0m\n\u001b[0;32m      6\u001b[0m \u001b[38;5;28mprint\u001b[39m(i)\n\u001b[0;32m      7\u001b[0m \u001b[38;5;28;01mfor\u001b[39;00m j \u001b[38;5;129;01min\u001b[39;00m l2:\n\u001b[1;32m----> 8\u001b[0m     \u001b[38;5;28mprint\u001b[39m(l2[k])\n\u001b[0;32m      9\u001b[0m     k\u001b[38;5;241m+\u001b[39m\u001b[38;5;241m=\u001b[39m\u001b[38;5;241m1\u001b[39m\n",
      "\u001b[1;31mIndexError\u001b[0m: list index out of range"
     ]
    }
   ],
   "source": [
    "# Nested loops\n",
    "l1 = ['Maths','Eco','Science','English']\n",
    "l2 = [90,88,76,21]\n",
    "k = 0\n",
    "for i in l1:\n",
    "    print(i)\n",
    "    for j in l2:\n",
    "        print(l2[k])\n",
    "        k+=1"
   ]
  },
  {
   "cell_type": "code",
   "execution_count": 9,
   "id": "bf08144f-9921-4e53-a0a0-a1d504492895",
   "metadata": {},
   "outputs": [
    {
     "name": "stdout",
     "output_type": "stream",
     "text": [
      "red apple\n",
      "red banana\n",
      "red kiwi\n",
      "blue apple\n",
      "blue banana\n",
      "blue kiwi\n",
      "green apple\n",
      "green banana\n",
      "green kiwi\n"
     ]
    }
   ],
   "source": [
    "a = ['red','blue','green']\n",
    "b = ['apple','banana','kiwi']\n",
    "for i in a: # outer loop\n",
    "    for j in b: # inner loop\n",
    "        print(i,j)"
   ]
  },
  {
   "cell_type": "code",
   "execution_count": 27,
   "id": "d0cc0fdf-3183-495f-843f-9cd54e8c36a7",
   "metadata": {},
   "outputs": [
    {
     "name": "stdout",
     "output_type": "stream",
     "text": [
      "Even number  98\n",
      "Even number  90\n",
      "Even number  76\n",
      "Odd number  3\n"
     ]
    }
   ],
   "source": [
    "# Nested loops\n",
    "l1 = [98,90,76,3]\n",
    "\n",
    "for i in l1:\n",
    "    if i%2 == 0:\n",
    "        print('Even number ',i)\n",
    "    else:\n",
    "        print('Odd number ',i)"
   ]
  },
  {
   "cell_type": "code",
   "execution_count": 3,
   "id": "17db5f9d-91ba-469d-b3bd-75faac099415",
   "metadata": {},
   "outputs": [
    {
     "name": "stdout",
     "output_type": "stream",
     "text": [
      "0\n",
      "1\n",
      "2\n",
      "3\n"
     ]
    }
   ],
   "source": [
    "for i in range(4):\n",
    "    print(i)"
   ]
  },
  {
   "cell_type": "code",
   "execution_count": 9,
   "id": "889d49c9-e2a6-4f41-8ac4-3884710eb214",
   "metadata": {},
   "outputs": [
    {
     "name": "stdout",
     "output_type": "stream",
     "text": [
      "3\n",
      "0\n",
      "bangalore\n",
      "1\n",
      "chennai\n",
      "2\n",
      "mumbai\n"
     ]
    }
   ],
   "source": [
    "city = ['bangalore','chennai','mumbai']\n",
    "print(len(city))\n",
    "\n",
    "for i in range(len(city)):\n",
    "    print(i)\n",
    "    print(city[i])"
   ]
  },
  {
   "cell_type": "code",
   "execution_count": 7,
   "id": "21223e67-0045-4cf4-9cd7-c0cfa30f2cd2",
   "metadata": {},
   "outputs": [
    {
     "name": "stdout",
     "output_type": "stream",
     "text": [
      "3\n",
      "0\n",
      "bangalore\n",
      "1\n",
      "chennai\n",
      "2\n",
      "mumbai\n"
     ]
    }
   ],
   "source": [
    "city = ('bangalore','chennai','mumbai')\n",
    "print(len(city))\n",
    "\n",
    "for i in range(len(city)):\n",
    "    print(i)\n",
    "    print(city[i])"
   ]
  },
  {
   "cell_type": "code",
   "execution_count": null,
   "id": "240a5e90-a072-4df1-a7c6-5d8f2c291960",
   "metadata": {},
   "outputs": [],
   "source": []
  }
 ],
 "metadata": {
  "kernelspec": {
   "display_name": "Python [conda env:base] *",
   "language": "python",
   "name": "conda-base-py"
  },
  "language_info": {
   "codemirror_mode": {
    "name": "ipython",
    "version": 3
   },
   "file_extension": ".py",
   "mimetype": "text/x-python",
   "name": "python",
   "nbconvert_exporter": "python",
   "pygments_lexer": "ipython3",
   "version": "3.12.7"
  }
 },
 "nbformat": 4,
 "nbformat_minor": 5
}
