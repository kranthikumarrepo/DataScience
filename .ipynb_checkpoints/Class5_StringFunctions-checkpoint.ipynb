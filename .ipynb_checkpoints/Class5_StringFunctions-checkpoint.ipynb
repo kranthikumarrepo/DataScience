{
 "cells": [
  {
   "cell_type": "markdown",
   "id": "a8ff2cd4-e634-4a1d-a706-6d3bde337812",
   "metadata": {},
   "source": [
    "### Input Function\n",
    "- To take dynamic input i.e. during the execution of the program\n",
    "- Always input is considered as string, need explicit typecasting"
   ]
  },
  {
   "cell_type": "code",
   "execution_count": 141,
   "id": "3835e473-00b5-42a5-9386-b8740f547733",
   "metadata": {},
   "outputs": [
    {
     "name": "stdin",
     "output_type": "stream",
     "text": [
      " 'kk'\n"
     ]
    },
    {
     "name": "stdout",
     "output_type": "stream",
     "text": [
      "'kk'\n"
     ]
    }
   ],
   "source": [
    "a=input()\n",
    "print(a)"
   ]
  },
  {
   "cell_type": "code",
   "execution_count": 162,
   "id": "6c07c936-6c2c-4205-af31-6eaf31cfd3c0",
   "metadata": {},
   "outputs": [
    {
     "name": "stdin",
     "output_type": "stream",
     "text": [
      "Enter name :  kk\n",
      "Enter age :  33\n"
     ]
    },
    {
     "name": "stdout",
     "output_type": "stream",
     "text": [
      "kk   33\n",
      "<class 'str'>\n"
     ]
    }
   ],
   "source": [
    "name = input(\"Enter name : \")\n",
    "age = input(\"Enter age : \")\n",
    "print(name,' ',age)\n",
    "print(type(age))"
   ]
  },
  {
   "cell_type": "code",
   "execution_count": 176,
   "id": "7bfb07fd-5c8d-4aab-ae9e-19ed1e0b5860",
   "metadata": {},
   "outputs": [
    {
     "name": "stdin",
     "output_type": "stream",
     "text": [
      "Enter name :  kk\n",
      "Enter age :  333\n"
     ]
    },
    {
     "name": "stdout",
     "output_type": "stream",
     "text": [
      "kk   333\n",
      "<class 'int'>\n"
     ]
    }
   ],
   "source": [
    "name = input(\"Enter name : \")\n",
    "age = int(input(\"Enter age : \")) # Forced typecasting\n",
    "print(name,' ',age)\n",
    "print(type(age))"
   ]
  },
  {
   "cell_type": "code",
   "execution_count": 178,
   "id": "7e46c855-b92f-4e16-9e20-b7f15bf8bfb9",
   "metadata": {},
   "outputs": [
    {
     "name": "stdin",
     "output_type": "stream",
     "text": [
      "Enter name :  kk\n",
      "Enter age :  w3\n"
     ]
    },
    {
     "ename": "ValueError",
     "evalue": "invalid literal for int() with base 10: 'w3'",
     "output_type": "error",
     "traceback": [
      "\u001b[1;31m---------------------------------------------------------------------------\u001b[0m",
      "\u001b[1;31mValueError\u001b[0m                                Traceback (most recent call last)",
      "Cell \u001b[1;32mIn[178], line 2\u001b[0m\n\u001b[0;32m      1\u001b[0m name \u001b[38;5;241m=\u001b[39m \u001b[38;5;28minput\u001b[39m(\u001b[38;5;124m\"\u001b[39m\u001b[38;5;124mEnter name : \u001b[39m\u001b[38;5;124m\"\u001b[39m)\n\u001b[1;32m----> 2\u001b[0m age \u001b[38;5;241m=\u001b[39m \u001b[38;5;28mint\u001b[39m(\u001b[38;5;28minput\u001b[39m(\u001b[38;5;124m\"\u001b[39m\u001b[38;5;124mEnter age : \u001b[39m\u001b[38;5;124m\"\u001b[39m)) \u001b[38;5;66;03m# Forced typecasting\u001b[39;00m\n\u001b[0;32m      3\u001b[0m \u001b[38;5;28mprint\u001b[39m(name,\u001b[38;5;124m'\u001b[39m\u001b[38;5;124m \u001b[39m\u001b[38;5;124m'\u001b[39m,age)\n\u001b[0;32m      4\u001b[0m \u001b[38;5;28mprint\u001b[39m(\u001b[38;5;28mtype\u001b[39m(age))\n",
      "\u001b[1;31mValueError\u001b[0m: invalid literal for int() with base 10: 'w3'"
     ]
    }
   ],
   "source": [
    "name = input(\"Enter name : \")\n",
    "age = int(input(\"Enter age : \")) # Forced typecasting\n",
    "print(name,' ',age)\n",
    "print(type(age))"
   ]
  },
  {
   "cell_type": "code",
   "execution_count": 168,
   "id": "ab0d3a04-5736-40ad-b8bb-0cf2baa8f114",
   "metadata": {},
   "outputs": [
    {
     "name": "stdin",
     "output_type": "stream",
     "text": [
      "Enter name :  kk\n",
      "Enter age :  33\n"
     ]
    },
    {
     "name": "stdout",
     "output_type": "stream",
     "text": [
      "kk   33.0\n",
      "<class 'float'>\n"
     ]
    }
   ],
   "source": [
    "name = input(\"Enter name : \")\n",
    "age = float(input(\"Enter age : \"))\n",
    "print(name,' ',age)\n",
    "print(type(age))"
   ]
  },
  {
   "cell_type": "markdown",
   "id": "cb0e6087-32bf-4e4e-a891-21b2b6461b9e",
   "metadata": {},
   "source": [
    "### String Functions\n",
    "- count()   - counts the number of occurences of the given substring\n",
    "- if count('') is given >>> then prints no of characters+1, if count(' ') is given, then prints number of spaces.\n",
    "- strip()   - by default, removes the whitespaces from the beggining and from the end. Default is spaces. if we give our input, all those set of characters if present at the beggining or end are removed.\n",
    "- rstrip()  - same but only from right side\n",
    "- lstrip()  - same but only from left side\n",
    "- split() - splits the given input string based on the character(s) given, default is space. If no character is presnet before or after the given split character(s), thna '' is returned. The input string is split at every occurance of the given input string.\n",
    "- partition() - split the given input string into three parts, based on the character(s) given. One part before the string, one after the string, and one is the given input string itself. if the given input string repeats, the input is split only at the first occurance of the given input string.\n",
    "- lower()\n",
    "- upper()\n",
    "- startswith() - checks if the substring is present at the beggining of the input string\n",
    "- endswith()   - checks if the substring is present at the end of the input string\n",
    "- format() - "
   ]
  },
  {
   "cell_type": "code",
   "execution_count": 3,
   "id": "c2286f8a-f624-4c9f-86c8-eb1271952a6f",
   "metadata": {},
   "outputs": [
    {
     "name": "stdout",
     "output_type": "stream",
     "text": [
      "23\n",
      "2\n"
     ]
    }
   ],
   "source": [
    "# Count function\n",
    "\n",
    "mystr = \"   Hello  Everyone     \"\n",
    "print(len(mystr))\n",
    "\n",
    "print(mystr.count('l'))"
   ]
  },
  {
   "cell_type": "code",
   "execution_count": 21,
   "id": "a6998a05-cfca-4020-b173-aa0ff3011a11",
   "metadata": {},
   "outputs": [
    {
     "data": {
      "text/plain": [
       "1"
      ]
     },
     "execution_count": 21,
     "metadata": {},
     "output_type": "execute_result"
    }
   ],
   "source": [
    "mystr.count('one')"
   ]
  },
  {
   "cell_type": "code",
   "execution_count": 6,
   "id": "2abdca18-9308-4877-9bb1-a54308f78a64",
   "metadata": {},
   "outputs": [
    {
     "data": {
      "text/plain": [
       "24"
      ]
     },
     "execution_count": 6,
     "metadata": {},
     "output_type": "execute_result"
    }
   ],
   "source": [
    "mystr.count('')"
   ]
  },
  {
   "cell_type": "code",
   "execution_count": 4,
   "id": "c9c1539c-ffce-4899-959e-c6a473782ec1",
   "metadata": {},
   "outputs": [
    {
     "data": {
      "text/plain": [
       "10"
      ]
     },
     "execution_count": 4,
     "metadata": {},
     "output_type": "execute_result"
    }
   ],
   "source": [
    "mystr.count(' ')"
   ]
  },
  {
   "cell_type": "code",
   "execution_count": 7,
   "id": "16b5b423-3f3b-4d44-8937-91bd688cb175",
   "metadata": {},
   "outputs": [
    {
     "data": {
      "text/plain": [
       "'Hello  Everyone'"
      ]
     },
     "execution_count": 7,
     "metadata": {},
     "output_type": "execute_result"
    }
   ],
   "source": [
    "# Strip function > strip, lstrip, rstrip\n",
    "\n",
    "mystr = \"   Hello  Everyone     \"\n",
    "mystr1 = mystr.strip()\n",
    "mystr1"
   ]
  },
  {
   "cell_type": "code",
   "execution_count": 35,
   "id": "ef9c698c-de38-49f9-822c-88a637eab5d5",
   "metadata": {},
   "outputs": [
    {
     "data": {
      "text/plain": [
       "'Hello  Everyone     '"
      ]
     },
     "execution_count": 35,
     "metadata": {},
     "output_type": "execute_result"
    }
   ],
   "source": [
    "mystr1 = mystr.lstrip()\n",
    "mystr1"
   ]
  },
  {
   "cell_type": "code",
   "execution_count": 37,
   "id": "c0b404d9-fc87-4cf3-a236-46024b18a069",
   "metadata": {},
   "outputs": [
    {
     "data": {
      "text/plain": [
       "'   Hello  Everyone'"
      ]
     },
     "execution_count": 37,
     "metadata": {},
     "output_type": "execute_result"
    }
   ],
   "source": [
    "mystr1 = mystr.rstrip()\n",
    "mystr1"
   ]
  },
  {
   "cell_type": "code",
   "execution_count": 45,
   "id": "fbdec8a1-9653-4427-9bcc-a04d6d60befb",
   "metadata": {},
   "outputs": [
    {
     "data": {
      "text/plain": [
       "'   Hello  Everyone'"
      ]
     },
     "execution_count": 45,
     "metadata": {},
     "output_type": "execute_result"
    }
   ],
   "source": [
    "mystr1 = mystr.rstrip(' ')\n",
    "mystr1"
   ]
  },
  {
   "cell_type": "code",
   "execution_count": 51,
   "id": "bcadb7f3-a091-4b99-9ad5-adcc4ae770fd",
   "metadata": {},
   "outputs": [
    {
     "data": {
      "text/plain": [
       "'  Hello everyon'"
      ]
     },
     "execution_count": 51,
     "metadata": {},
     "output_type": "execute_result"
    }
   ],
   "source": [
    "mystr=\"  Hello everyone\"\n",
    "mystr1 = mystr.rstrip('e')\n",
    "mystr1"
   ]
  },
  {
   "cell_type": "code",
   "execution_count": 53,
   "id": "297fd0a8-a8d0-4b3e-83df-d2dda427eb65",
   "metadata": {},
   "outputs": [
    {
     "data": {
      "text/plain": [
       "'  Hello every'"
      ]
     },
     "execution_count": 53,
     "metadata": {},
     "output_type": "execute_result"
    }
   ],
   "source": [
    "mystr=\"  Hello everyone\"\n",
    "mystr1 = mystr.rstrip('one')\n",
    "mystr1"
   ]
  },
  {
   "cell_type": "code",
   "execution_count": 59,
   "id": "3b07b8f2-4299-46ef-9f1d-cd1293fa7f30",
   "metadata": {},
   "outputs": [
    {
     "data": {
      "text/plain": [
       "'***Hello everyone'"
      ]
     },
     "execution_count": 59,
     "metadata": {},
     "output_type": "execute_result"
    }
   ],
   "source": [
    "mystr=\"***Hello everyone***\"\n",
    "mystr1 = mystr.rstrip('*')\n",
    "mystr1"
   ]
  },
  {
   "cell_type": "code",
   "execution_count": 72,
   "id": "567a08e2-f538-4305-8ac4-08d6fec6eff6",
   "metadata": {},
   "outputs": [
    {
     "data": {
      "text/plain": [
       "'Hello everyone***'"
      ]
     },
     "execution_count": 72,
     "metadata": {},
     "output_type": "execute_result"
    }
   ],
   "source": [
    "mystr=\"***Hello everyone***\"\n",
    "mystr1 = mystr.lstrip('*')\n",
    "mystr1"
   ]
  },
  {
   "cell_type": "code",
   "execution_count": 11,
   "id": "271b4b1e-ba33-4fa1-872e-1ce39cbf0e1a",
   "metadata": {},
   "outputs": [
    {
     "data": {
      "text/plain": [
       "'***Hello everyone***'"
      ]
     },
     "execution_count": 11,
     "metadata": {},
     "output_type": "execute_result"
    }
   ],
   "source": [
    "mystr=\"***Hello everyone***\"\n",
    "mystr1 = mystr.rstrip('e')\n",
    "mystr1"
   ]
  },
  {
   "cell_type": "code",
   "execution_count": 21,
   "id": "71aef2b6-b9fb-4bde-9d09-a9f59d75314f",
   "metadata": {},
   "outputs": [
    {
     "data": {
      "text/plain": [
       "'***Hello everyon'"
      ]
     },
     "execution_count": 21,
     "metadata": {},
     "output_type": "execute_result"
    }
   ],
   "source": [
    "mystr=\"***Hello everyonee***\"\n",
    "mystr1 = mystr.rstrip('e*')\n",
    "mystr1"
   ]
  },
  {
   "cell_type": "code",
   "execution_count": 38,
   "id": "64fc10ac-c26c-4620-8fdf-dc939b6dba7d",
   "metadata": {},
   "outputs": [
    {
     "data": {
      "text/plain": [
       "'***Hello everyon'"
      ]
     },
     "execution_count": 38,
     "metadata": {},
     "output_type": "execute_result"
    }
   ],
   "source": [
    "mystr=\"***Hello everyonee***\"\n",
    "mystr1 = mystr.rstrip('*e')\n",
    "mystr1"
   ]
  },
  {
   "cell_type": "code",
   "execution_count": 44,
   "id": "52138c59-abd9-46cb-8698-e94d4b4e2c89",
   "metadata": {},
   "outputs": [
    {
     "data": {
      "text/plain": [
       "'Hello everyon'"
      ]
     },
     "execution_count": 44,
     "metadata": {},
     "output_type": "execute_result"
    }
   ],
   "source": [
    "mystr=\"***Hello everyonee***\"\n",
    "mystr1 = mystr.strip('*eh')\n",
    "mystr1"
   ]
  },
  {
   "cell_type": "code",
   "execution_count": 42,
   "id": "724c4ae2-a57e-420f-8431-92b26fcf4080",
   "metadata": {},
   "outputs": [
    {
     "data": {
      "text/plain": [
       "'llo everyon'"
      ]
     },
     "execution_count": 42,
     "metadata": {},
     "output_type": "execute_result"
    }
   ],
   "source": [
    "mystr=\"***Hello everyonee***\"\n",
    "mystr1 = mystr.strip('*eH')\n",
    "mystr1"
   ]
  },
  {
   "cell_type": "code",
   "execution_count": 25,
   "id": "ee599563-72d8-4418-85ce-b42cf504ce93",
   "metadata": {},
   "outputs": [
    {
     "data": {
      "text/plain": [
       "'***Hello everyon'"
      ]
     },
     "execution_count": 25,
     "metadata": {},
     "output_type": "execute_result"
    }
   ],
   "source": [
    "mystr=\"***Hello everyone***\"\n",
    "mystr1 = mystr.rstrip('hye*')\n",
    "mystr1"
   ]
  },
  {
   "cell_type": "code",
   "execution_count": 50,
   "id": "11a167d8-068f-4e21-a09e-4b0f4a5ae5ff",
   "metadata": {},
   "outputs": [
    {
     "data": {
      "text/plain": [
       "'llo everyon'"
      ]
     },
     "execution_count": 50,
     "metadata": {},
     "output_type": "execute_result"
    }
   ],
   "source": [
    "mystr=\"***Hello everyone***\"\n",
    "mystr1 = mystr.strip('Hye*')\n",
    "mystr1"
   ]
  },
  {
   "cell_type": "code",
   "execution_count": 54,
   "id": "53e04c71-94fc-4c63-8f30-3189d6baa697",
   "metadata": {},
   "outputs": [
    {
     "data": {
      "text/plain": [
       "'ello everyone'"
      ]
     },
     "execution_count": 54,
     "metadata": {},
     "output_type": "execute_result"
    }
   ],
   "source": [
    "mystr=\"***Hello everyone***\"\n",
    "mystr1 = mystr.strip('*Hy')\n",
    "mystr1"
   ]
  },
  {
   "cell_type": "code",
   "execution_count": 58,
   "id": "c7d147dc-9568-4c97-aab9-e62ca8853567",
   "metadata": {},
   "outputs": [
    {
     "data": {
      "text/plain": [
       "'***Hello everyone***'"
      ]
     },
     "execution_count": 58,
     "metadata": {},
     "output_type": "execute_result"
    }
   ],
   "source": [
    "mystr=\"***Hello everyone***\"\n",
    "mystr1 = mystr.rstrip('everyon')\n",
    "mystr1"
   ]
  },
  {
   "cell_type": "code",
   "execution_count": 60,
   "id": "b3a257fc-09b3-4927-b30d-c1d7d1c7fa3a",
   "metadata": {},
   "outputs": [
    {
     "data": {
      "text/plain": [
       "'***Hello '"
      ]
     },
     "execution_count": 60,
     "metadata": {},
     "output_type": "execute_result"
    }
   ],
   "source": [
    "mystr=\"***Hello everyone***\"\n",
    "mystr1 = mystr.rstrip('*everyone')\n",
    "mystr1"
   ]
  },
  {
   "cell_type": "code",
   "execution_count": 68,
   "id": "d1b3207e-7c30-4c20-8318-f21a50cb1fd8",
   "metadata": {},
   "outputs": [
    {
     "data": {
      "text/plain": [
       "'Hello '"
      ]
     },
     "execution_count": 68,
     "metadata": {},
     "output_type": "execute_result"
    }
   ],
   "source": [
    "mystr=\"***Hello everyone***\"\n",
    "mystr1 = mystr.strip('t*everyone')\n",
    "mystr1"
   ]
  },
  {
   "cell_type": "code",
   "execution_count": 70,
   "id": "0adcf5c6-4e09-4e54-ab0b-567a69c6bcf8",
   "metadata": {},
   "outputs": [
    {
     "data": {
      "text/plain": [
       "'Hello everyoa'"
      ]
     },
     "execution_count": 70,
     "metadata": {},
     "output_type": "execute_result"
    }
   ],
   "source": [
    "mystr=\"***Hello everyoane***\"\n",
    "mystr1 = mystr.strip('*teveryone')\n",
    "mystr1"
   ]
  },
  {
   "cell_type": "code",
   "execution_count": 72,
   "id": "2bee3aeb-b680-42b3-8ab6-d526274d97fc",
   "metadata": {},
   "outputs": [
    {
     "data": {
      "text/plain": [
       "'***Hello ev'"
      ]
     },
     "execution_count": 72,
     "metadata": {},
     "output_type": "execute_result"
    }
   ],
   "source": [
    "mystr=\"***Hello everyone***\"\n",
    "mystr1 = mystr.rstrip('eeryone*')\n",
    "mystr1"
   ]
  },
  {
   "cell_type": "code",
   "execution_count": 74,
   "id": "f37197df-def7-4c66-a9a8-ff66072e6b1e",
   "metadata": {},
   "outputs": [
    {
     "data": {
      "text/plain": [
       "'***Hello ev'"
      ]
     },
     "execution_count": 74,
     "metadata": {},
     "output_type": "execute_result"
    }
   ],
   "source": [
    "mystr=\"***Hello everyone***\"\n",
    "mystr1 = mystr.rstrip('*eeryone')\n",
    "mystr1"
   ]
  },
  {
   "cell_type": "code",
   "execution_count": 76,
   "id": "cba4ee4b-65e4-4b54-b568-024dae905970",
   "metadata": {},
   "outputs": [
    {
     "data": {
      "text/plain": [
       "'***Hello everyone***'"
      ]
     },
     "execution_count": 76,
     "metadata": {},
     "output_type": "execute_result"
    }
   ],
   "source": [
    "mystr=\"***Hello everyone***\"\n",
    "mystr1 = mystr.rstrip('eeryone')\n",
    "mystr1"
   ]
  },
  {
   "cell_type": "code",
   "execution_count": 78,
   "id": "33962946-bcfa-4976-a0fb-7e2894380ace",
   "metadata": {},
   "outputs": [
    {
     "data": {
      "text/plain": [
       "'Hello everyone'"
      ]
     },
     "execution_count": 78,
     "metadata": {},
     "output_type": "execute_result"
    }
   ],
   "source": [
    "mystr=\"***Hello everyone***\"\n",
    "mystr1 = mystr.strip('*')\n",
    "mystr1"
   ]
  },
  {
   "cell_type": "code",
   "execution_count": 80,
   "id": "3510a26b-a950-42e7-bb0c-90d5310e17e0",
   "metadata": {},
   "outputs": [
    {
     "data": {
      "text/plain": [
       "'Hello everyon'"
      ]
     },
     "execution_count": 80,
     "metadata": {},
     "output_type": "execute_result"
    }
   ],
   "source": [
    "mystr=\"e***eHello everyone***\"\n",
    "mystr1 = mystr.strip('*e')\n",
    "mystr1"
   ]
  },
  {
   "cell_type": "code",
   "execution_count": 82,
   "id": "8a3e4e22-e1ed-4ee0-b6ee-d83fd733f8db",
   "metadata": {},
   "outputs": [
    {
     "data": {
      "text/plain": [
       "'Hello everyon'"
      ]
     },
     "execution_count": 82,
     "metadata": {},
     "output_type": "execute_result"
    }
   ],
   "source": [
    "mystr=\"***eHello everyone***\"\n",
    "mystr1 = mystr.strip('e*')\n",
    "mystr1"
   ]
  },
  {
   "cell_type": "code",
   "execution_count": 84,
   "id": "74e54c2b-2830-4f56-97ac-e36ae53b9951",
   "metadata": {},
   "outputs": [
    {
     "data": {
      "text/plain": [
       "'Hello everyon'"
      ]
     },
     "execution_count": 84,
     "metadata": {},
     "output_type": "execute_result"
    }
   ],
   "source": [
    "mystr=\"***eHello everyone***\"\n",
    "mystr1 = mystr.strip('e*')\n",
    "mystr1"
   ]
  },
  {
   "cell_type": "markdown",
   "id": "19be7d95-0a03-4400-8893-17e92b88a78f",
   "metadata": {},
   "source": [
    "### split() function\n",
    "- splits the given input string based on the character(s) given, default is space. If no character is presnet before or after the given split character(s), then '' is returned.\n",
    "- The input string is split into multiple parts if the input argument occurs at multiple places. i.e. number of splits is the number of times the given argument occurs."
   ]
  },
  {
   "cell_type": "code",
   "execution_count": 10,
   "id": "831b639b-9309-4048-84e9-bfc53a8319a5",
   "metadata": {},
   "outputs": [],
   "source": [
    "# Split function\n",
    "\n",
    "str2 = \"one two three four five six seven_eight nine ten\""
   ]
  },
  {
   "cell_type": "code",
   "execution_count": 12,
   "id": "9bc9d27a-a9a9-4ab8-bbe5-8017287c201f",
   "metadata": {},
   "outputs": [
    {
     "data": {
      "text/plain": [
       "['one', 'two', 'three', 'four', 'five', 'six', 'seven_eight', 'nine', 'ten']"
      ]
     },
     "execution_count": 12,
     "metadata": {},
     "output_type": "execute_result"
    }
   ],
   "source": [
    "str2.split()"
   ]
  },
  {
   "cell_type": "code",
   "execution_count": 95,
   "id": "c65cf89d-ed5f-40f3-ac66-c0ffc9c15de7",
   "metadata": {},
   "outputs": [
    {
     "data": {
      "text/plain": [
       "['one two three four five six seven', 'eight nine ten']"
      ]
     },
     "execution_count": 95,
     "metadata": {},
     "output_type": "execute_result"
    }
   ],
   "source": [
    "str2.split('_')"
   ]
  },
  {
   "cell_type": "code",
   "execution_count": 97,
   "id": "1eba5143-8840-47bb-a6f4-c25b9bb43458",
   "metadata": {},
   "outputs": [
    {
     "data": {
      "text/plain": [
       "['', 'ne tw', ' three f', 'ur five six seven_eight nine ten']"
      ]
     },
     "execution_count": 97,
     "metadata": {},
     "output_type": "execute_result"
    }
   ],
   "source": [
    "str2.split('o')"
   ]
  },
  {
   "cell_type": "code",
   "execution_count": 102,
   "id": "14693ca5-7f22-4cf2-8c6d-8ea419fd8b8b",
   "metadata": {},
   "outputs": [
    {
     "data": {
      "text/plain": [
       "['on',\n",
       " ' two thr',\n",
       " '',\n",
       " ' four fiv',\n",
       " ' six s',\n",
       " 'v',\n",
       " 'n ',\n",
       " 'ight nin',\n",
       " '',\n",
       " ' t',\n",
       " 'n']"
      ]
     },
     "execution_count": 102,
     "metadata": {},
     "output_type": "execute_result"
    }
   ],
   "source": [
    "str2 = \"one two three four five six seven eight ninee ten\"\n",
    "str2.split('e')"
   ]
  },
  {
   "cell_type": "markdown",
   "id": "e4baf223-5a60-42ae-a34f-e7ef6fd84c74",
   "metadata": {},
   "source": [
    "### partition() function - String partitioning\n",
    "- Partition method searches for a specific string and splits the string into\n",
    "- The first element, that contains the part before the argument string\n",
    "- The second element, that contains the argument string that was given as input (input that was given to do partition)\n",
    "- The third element, contains the part after the argument string\n",
    "- If the given input string/character repeats, the input is split only at the first occurance of the given input string."
   ]
  },
  {
   "cell_type": "code",
   "execution_count": 21,
   "id": "8be887a5-400c-4e1c-96ae-885c359f7cd9",
   "metadata": {},
   "outputs": [
    {
     "name": "stdout",
     "output_type": "stream",
     "text": [
      "C and R and Java and Python\n",
      "('C and R and ', 'Java', ' and Python')\n"
     ]
    }
   ],
   "source": [
    "str = \"C and R and Java and Python\"\n",
    "str2 = str.partition('Java')\n",
    "print(str)\n",
    "print(str2)"
   ]
  },
  {
   "cell_type": "code",
   "execution_count": 28,
   "id": "afdf60ad-2ba2-4e89-8b14-89bf03bcaad9",
   "metadata": {},
   "outputs": [
    {
     "name": "stdout",
     "output_type": "stream",
     "text": [
      "C and R and Java and Python\n",
      "('C', ' ', 'and R and Java and Python')\n"
     ]
    }
   ],
   "source": [
    "str = \"C and R and Java and Python\"\n",
    "str2 = str.partition(' ')\n",
    "print(str)\n",
    "print(str2)"
   ]
  },
  {
   "cell_type": "code",
   "execution_count": 30,
   "id": "2e488e7a-129c-4907-97c4-dcca2960d4d0",
   "metadata": {},
   "outputs": [
    {
     "name": "stdout",
     "output_type": "stream",
     "text": [
      "C and R and Java and Python\n",
      "('C a', 'n', 'd R and Java and Python')\n"
     ]
    }
   ],
   "source": [
    "str = \"C and R and Java and Python\"\n",
    "str2 = str.partition('n')\n",
    "print(str)\n",
    "print(str2)"
   ]
  },
  {
   "cell_type": "code",
   "execution_count": 14,
   "id": "32c78613-fc09-40bc-ac3f-cf46b1767fab",
   "metadata": {},
   "outputs": [
    {
     "data": {
      "text/plain": [
       "'PYTHON'"
      ]
     },
     "execution_count": 14,
     "metadata": {},
     "output_type": "execute_result"
    }
   ],
   "source": [
    "# Upper and Lower functions\n",
    "\n",
    "str2 = \"Python\"\n",
    "str2.upper()"
   ]
  },
  {
   "cell_type": "code",
   "execution_count": 102,
   "id": "dfee1242-45e5-490f-9837-8f60176eead0",
   "metadata": {},
   "outputs": [
    {
     "data": {
      "text/plain": [
       "'python'"
      ]
     },
     "execution_count": 102,
     "metadata": {},
     "output_type": "execute_result"
    }
   ],
   "source": [
    "str2 = \"Python\"\n",
    "str2.lower()"
   ]
  },
  {
   "cell_type": "code",
   "execution_count": 104,
   "id": "7f002bf8-d261-44ac-8a14-1fad88ad685f",
   "metadata": {},
   "outputs": [
    {
     "data": {
      "text/plain": [
       "'akkr'"
      ]
     },
     "execution_count": 104,
     "metadata": {},
     "output_type": "execute_result"
    }
   ],
   "source": [
    "\"akkR\".lower()"
   ]
  },
  {
   "cell_type": "code",
   "execution_count": 18,
   "id": "f6f55cbf-84cd-4aac-a177-87f711b2f20a",
   "metadata": {},
   "outputs": [
    {
     "name": "stdout",
     "output_type": "stream",
     "text": [
      "True\n",
      "False\n",
      "True\n",
      "False\n",
      "True\n",
      "True\n",
      "False\n"
     ]
    }
   ],
   "source": [
    "# Startswith function\n",
    "\n",
    "str2=\"Python\"\n",
    "print(str2.startswith(\"P\"))\n",
    "print(str2.startswith(\"p\"))\n",
    "print(str2.startswith(\"Py\"))\n",
    "print(str2.startswith(\"Pt\"))\n",
    "\n",
    "# Endswith function\n",
    "\n",
    "print(str2.endswith(\"n\"))\n",
    "print(str2.endswith(\"on\"))\n",
    "print(str2.endswith(\" n\"))"
   ]
  },
  {
   "cell_type": "markdown",
   "id": "df588a2c-8988-4ada-bb7f-14d0f72ff7d7",
   "metadata": {},
   "source": [
    "### format() function\n",
    "- To combine string and numbers\n",
    "- To keep a placeholder in the statement that would be calculated during the execution"
   ]
  },
  {
   "cell_type": "code",
   "execution_count": 55,
   "id": "e8722cfc-84ed-4653-a619-e76102c1a6e4",
   "metadata": {},
   "outputs": [
    {
     "name": "stdout",
     "output_type": "stream",
     "text": [
      "Cost of one item is 49\n",
      "Cost of one item is 49\n",
      "Value of item soap is 3 and value of b is 2\n"
     ]
    }
   ],
   "source": [
    "print(\"Cost of one item is {}\".format(49))\n",
    "print(\"Cost of one item is\", 49)\n",
    "print(\"Value of item {} is {} and value of b is {}\".format('soap',3,2))"
   ]
  },
  {
   "cell_type": "code",
   "execution_count": null,
   "id": "2aa842ec-9b11-458d-a5e2-28e8a37245bb",
   "metadata": {},
   "outputs": [],
   "source": []
  }
 ],
 "metadata": {
  "kernelspec": {
   "display_name": "Python [conda env:base] *",
   "language": "python",
   "name": "conda-base-py"
  },
  "language_info": {
   "codemirror_mode": {
    "name": "ipython",
    "version": 3
   },
   "file_extension": ".py",
   "mimetype": "text/x-python",
   "name": "python",
   "nbconvert_exporter": "python",
   "pygments_lexer": "ipython3",
   "version": "3.12.7"
  }
 },
 "nbformat": 4,
 "nbformat_minor": 5
}
