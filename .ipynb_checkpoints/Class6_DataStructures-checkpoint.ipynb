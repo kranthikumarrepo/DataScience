{
 "cells": [
  {
   "cell_type": "markdown",
   "id": "87bb5ab7-2429-4580-bb53-18c240d7fe06",
   "metadata": {},
   "source": [
    "## Data Structures - how data is organized, stored, and retrieved in a computer.\n",
    "- List - []\n",
    "- Tuple - ()\n",
    "- Set - {}\n",
    "- Dictionary - {}"
   ]
  },
  {
   "cell_type": "markdown",
   "id": "859901ae-12d0-4b8f-8fa1-68656150a8ab",
   "metadata": {},
   "source": [
    "#### Functions on various types\n",
    "- Lists - append, extend, insert, pop, remove, clear, del, len, count, index, all, any, in, not in, sort, reverse\n",
    "- Tuple - del, count, len, index, all, any, in, not in, sorted\n",
    "- Set - add, update, remove, discard, clear, del, pop, len, all, any, in, not in, union, intersection, difference\n",
    "- Dictionary - get, keys, values, update, pop, popitem, clear, del, len, in, not in, all, any"
   ]
  },
  {
   "cell_type": "code",
   "execution_count": null,
   "id": "505a4e89-9e05-4a15-87a3-01a3fde435ca",
   "metadata": {},
   "outputs": [],
   "source": []
  }
 ],
 "metadata": {
  "kernelspec": {
   "display_name": "Python [conda env:base] *",
   "language": "python",
   "name": "conda-base-py"
  },
  "language_info": {
   "codemirror_mode": {
    "name": "ipython",
    "version": 3
   },
   "file_extension": ".py",
   "mimetype": "text/x-python",
   "name": "python",
   "nbconvert_exporter": "python",
   "pygments_lexer": "ipython3",
   "version": "3.12.7"
  }
 },
 "nbformat": 4,
 "nbformat_minor": 5
}
