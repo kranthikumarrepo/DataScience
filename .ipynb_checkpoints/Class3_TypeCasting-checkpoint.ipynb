{
 "cells": [
  {
   "cell_type": "markdown",
   "id": "59e4fcf6-667b-4285-b10e-70fc581584c7",
   "metadata": {},
   "source": [
    "### Typecasting Or Type Conversion\n",
    "- Converting one data type to another data type.\n",
    "- Two types of Typecasting.\n",
    "-  \n",
    "- Auto Typecasting - Converting one datatype to another without human intervention, Python interpreter does in background.\n",
    "- Auto Typecasting follows a hirearchy while converting, below is the hirearchy followed\n",
    "- String(Highest) > Complex > Float > Int > Bool(Lowest)\n",
    "- Conversion happens from least priority data type to highest priority data type\n",
    "-  \n",
    "- Forced Type Casting - Converting explicity by the user using the predefined built-in functions like int(), float(), complex(), bool(), str(), list(), tuple(), set(), dict()\n",
    "\n",
    "#### Note: Any value other than 0 in Python boolean is True, 0 is False"
   ]
  },
  {
   "cell_type": "code",
   "execution_count": 34,
   "id": "f259ffbf-4151-4672-8b50-55606be2a498",
   "metadata": {},
   "outputs": [
    {
     "data": {
      "text/plain": [
       "6.5"
      ]
     },
     "execution_count": 34,
     "metadata": {},
     "output_type": "execute_result"
    }
   ],
   "source": [
    "# Autotypecasting Examples\n",
    "2.5 + 3 + True\n",
    "# 2.5 = 2.5 + 3 = 3.0 + True = 1"
   ]
  },
  {
   "cell_type": "code",
   "execution_count": 36,
   "id": "2b80b805-2389-4a8f-b833-72bbe5cff62e",
   "metadata": {},
   "outputs": [
    {
     "data": {
      "text/plain": [
       "5.5"
      ]
     },
     "execution_count": 36,
     "metadata": {},
     "output_type": "execute_result"
    }
   ],
   "source": [
    "# Autotypecasting Examples\n",
    "2.5 + 3 + False\n",
    "# 2.5 = 2.5 + 3 = 3.0 + False = 0"
   ]
  },
  {
   "cell_type": "code",
   "execution_count": 46,
   "id": "cc2dd99a-9784-469d-b2f2-1bde338f8412",
   "metadata": {},
   "outputs": [
    {
     "data": {
      "text/plain": [
       "(5.5+4j)"
      ]
     },
     "execution_count": 46,
     "metadata": {},
     "output_type": "execute_result"
    }
   ],
   "source": [
    "# Autotypecasting Examples\n",
    "2.5 + 3+4j + False\n",
    "# 2.5 = 2.5 + 3+4j = 3.0 + 4j + False = 0\n",
    "# 5.5+4j"
   ]
  },
  {
   "cell_type": "code",
   "execution_count": 42,
   "id": "5bc40698-f3cc-4736-a922-8b351da5f368",
   "metadata": {},
   "outputs": [
    {
     "data": {
      "text/plain": [
       "(6.5+4j)"
      ]
     },
     "execution_count": 42,
     "metadata": {},
     "output_type": "execute_result"
    }
   ],
   "source": [
    "# Autotypecasting Examples\n",
    "2.5 + (3+4j) + True\n",
    "# 2.5 = 2.5 + 3 = 3.0 + False = 0"
   ]
  },
  {
   "cell_type": "code",
   "execution_count": 48,
   "id": "f12ddfc5-346c-48bf-9a4a-78804b346a6e",
   "metadata": {},
   "outputs": [
    {
     "data": {
      "text/plain": [
       "(4+4j)"
      ]
     },
     "execution_count": 48,
     "metadata": {},
     "output_type": "execute_result"
    }
   ],
   "source": [
    "# Autotypecasting Examples\n",
    "(3+4j) + True\n",
    "# 2.5 = 2.5 + 3 = 3.0 + False = 0"
   ]
  },
  {
   "cell_type": "code",
   "execution_count": 52,
   "id": "346546f1-231a-48a6-a8f1-5a59fefb42eb",
   "metadata": {},
   "outputs": [
    {
     "data": {
      "text/plain": [
       "(13.5+2j)"
      ]
     },
     "execution_count": 52,
     "metadata": {},
     "output_type": "execute_result"
    }
   ],
   "source": [
    "# Autotypecasting Examples\n",
    "(3+2j) + 2.5 + False + 8\n",
    "# (3+2j) + (2.5+0j) + (0+0j) + (8+0j)"
   ]
  },
  {
   "cell_type": "code",
   "execution_count": 54,
   "id": "a73e854e-edf9-46f9-94b0-e54bb2b8e94d",
   "metadata": {},
   "outputs": [
    {
     "data": {
      "text/plain": [
       "(14.5+2j)"
      ]
     },
     "execution_count": 54,
     "metadata": {},
     "output_type": "execute_result"
    }
   ],
   "source": [
    "# Autotypecasting Examples\n",
    "(3+2j) + 2.5 + True + 8\n",
    "# (3+2j) + (2.5+0j) + (1+0j) + (8+0j)"
   ]
  },
  {
   "cell_type": "code",
   "execution_count": 58,
   "id": "0f32cab3-040e-43f8-b4da-16b439b248ed",
   "metadata": {},
   "outputs": [
    {
     "data": {
      "text/plain": [
       "(47.5+9j)"
      ]
     },
     "execution_count": 58,
     "metadata": {},
     "output_type": "execute_result"
    }
   ],
   "source": [
    "# Autotypecasting Examples\n",
    "15 + True + (8+9j) + 23.5\n",
    "#(15+0j) + (1+0j) + (8+9j) + (23.5+0j)"
   ]
  },
  {
   "cell_type": "code",
   "execution_count": 64,
   "id": "7dffb001-1c0f-4ec7-91b4-ea1d93113590",
   "metadata": {},
   "outputs": [
    {
     "data": {
      "text/plain": [
       "(49.5+14j)"
      ]
     },
     "execution_count": 64,
     "metadata": {},
     "output_type": "execute_result"
    }
   ],
   "source": [
    "# Autotypecasting Examples\n",
    "15 + True + (8+9j) + 23.5 + (2+5j)\n",
    "#(15+0j) + (1+0j) + (8+9j) + (23.5+0j) + (2+5j)"
   ]
  },
  {
   "cell_type": "code",
   "execution_count": 68,
   "id": "7f360ee7-2430-42bb-ad01-2e1243a98d09",
   "metadata": {},
   "outputs": [
    {
     "ename": "TypeError",
     "evalue": "unsupported operand type(s) for +: 'complex' and 'str'",
     "output_type": "error",
     "traceback": [
      "\u001b[1;31m---------------------------------------------------------------------------\u001b[0m",
      "\u001b[1;31mTypeError\u001b[0m                                 Traceback (most recent call last)",
      "Cell \u001b[1;32mIn[68], line 2\u001b[0m\n\u001b[0;32m      1\u001b[0m \u001b[38;5;66;03m# Autotypecasting Examples With Strings\u001b[39;00m\n\u001b[1;32m----> 2\u001b[0m \u001b[38;5;241m15\u001b[39m \u001b[38;5;241m+\u001b[39m \u001b[38;5;28;01mTrue\u001b[39;00m \u001b[38;5;241m+\u001b[39m (\u001b[38;5;241m8\u001b[39m\u001b[38;5;241m+\u001b[39m\u001b[38;5;241m9\u001b[39mj) \u001b[38;5;241m+\u001b[39m \u001b[38;5;241m23.5\u001b[39m \u001b[38;5;241m+\u001b[39m \u001b[38;5;124m'\u001b[39m\u001b[38;5;124mname\u001b[39m\u001b[38;5;124m'\u001b[39m\n",
      "\u001b[1;31mTypeError\u001b[0m: unsupported operand type(s) for +: 'complex' and 'str'"
     ]
    }
   ],
   "source": [
    "# Autotypecasting Examples With Strings\n",
    "15 + True + (8+9j) + 23.5 + 'name'\n",
    "#(15+0j) + (1+0j) + (8+9j) + (23.5+0j) + (2+5j)"
   ]
  },
  {
   "cell_type": "code",
   "execution_count": 72,
   "id": "4dde6b92-728b-437f-8e4c-044bbfa69aee",
   "metadata": {},
   "outputs": [
    {
     "name": "stdout",
     "output_type": "stream",
     "text": [
      "10\n",
      "10.0\n"
     ]
    }
   ],
   "source": [
    "# Forced Typecasting\n",
    "a=10\n",
    "print(a)\n",
    "a=float(a)\n",
    "print(a)"
   ]
  },
  {
   "cell_type": "code",
   "execution_count": 94,
   "id": "7d7aca04-403b-4a6f-a4ae-7d1f99cbe7a2",
   "metadata": {},
   "outputs": [
    {
     "name": "stdout",
     "output_type": "stream",
     "text": [
      "10\n",
      "10.0\n",
      "True\n",
      "True\n",
      "10\n"
     ]
    }
   ],
   "source": [
    "# Forced Typecasting\n",
    "a=10\n",
    "print(a)\n",
    "a=float(a)\n",
    "print(a)\n",
    "a=bool(a) #Any value other than 0 is True in Python\n",
    "print(a)\n",
    "#a=10\n",
    "a=str(a)\n",
    "print(a)\n",
    "a=10\n",
    "print(str(a))"
   ]
  },
  {
   "cell_type": "code",
   "execution_count": 106,
   "id": "a8e1f19a-09ab-415a-8009-9f28f694b9f6",
   "metadata": {},
   "outputs": [
    {
     "name": "stdout",
     "output_type": "stream",
     "text": [
      "12\n",
      "True\n",
      "12.5\n",
      "(12.5+0j)\n",
      "<class 'complex'>\n"
     ]
    }
   ],
   "source": [
    "b=12.5\n",
    "print(int(b))\n",
    "print(bool(b))\n",
    "print(str(b))\n",
    "c=complex(b)\n",
    "print(complex(c))\n",
    "print(type(c))"
   ]
  },
  {
   "cell_type": "code",
   "execution_count": 108,
   "id": "9f4bfdd9-0fe8-488d-a3c6-cf833594ea1a",
   "metadata": {},
   "outputs": [
    {
     "name": "stdout",
     "output_type": "stream",
     "text": [
      "12\n",
      "True\n",
      "12\n",
      "(12+0j)\n"
     ]
    }
   ],
   "source": [
    "b=12\n",
    "print(int(b))\n",
    "print(bool(b))\n",
    "print(str(b))\n",
    "print(complex(b))"
   ]
  },
  {
   "cell_type": "code",
   "execution_count": 118,
   "id": "86d16611-bf36-4574-8014-ebd6bdb3691e",
   "metadata": {},
   "outputs": [
    {
     "name": "stdout",
     "output_type": "stream",
     "text": [
      "True\n",
      "False\n",
      "True\n"
     ]
    }
   ],
   "source": [
    "print(bool(-12)) # Boolean of any value is True other than 0\n",
    "print(bool(0))\n",
    "print(bool(2/1))"
   ]
  },
  {
   "cell_type": "code",
   "execution_count": 132,
   "id": "428e5cba-6aff-4f80-abab-772fcfffb41d",
   "metadata": {},
   "outputs": [
    {
     "name": "stdout",
     "output_type": "stream",
     "text": [
      "True\n"
     ]
    }
   ],
   "source": [
    "c = 3 + 5j\n",
    "print(bool(c))"
   ]
  },
  {
   "cell_type": "code",
   "execution_count": 5,
   "id": "114eecad-d88e-4ca2-868e-903894ef95fc",
   "metadata": {},
   "outputs": [
    {
     "name": "stdout",
     "output_type": "stream",
     "text": [
      "(3+5j)\n"
     ]
    }
   ],
   "source": [
    "c = 3 + 5j\n",
    "print(str(c))"
   ]
  },
  {
   "cell_type": "code",
   "execution_count": 136,
   "id": "d8e55433-bffd-4eb7-99cf-88e5a55864c7",
   "metadata": {},
   "outputs": [
    {
     "ename": "TypeError",
     "evalue": "float() argument must be a string or a real number, not 'complex'",
     "output_type": "error",
     "traceback": [
      "\u001b[1;31m---------------------------------------------------------------------------\u001b[0m",
      "\u001b[1;31mTypeError\u001b[0m                                 Traceback (most recent call last)",
      "Cell \u001b[1;32mIn[136], line 2\u001b[0m\n\u001b[0;32m      1\u001b[0m c \u001b[38;5;241m=\u001b[39m \u001b[38;5;241m3\u001b[39m \u001b[38;5;241m+\u001b[39m \u001b[38;5;241m5\u001b[39mj\n\u001b[1;32m----> 2\u001b[0m \u001b[38;5;28mprint\u001b[39m(\u001b[38;5;28mfloat\u001b[39m(c))\n",
      "\u001b[1;31mTypeError\u001b[0m: float() argument must be a string or a real number, not 'complex'"
     ]
    }
   ],
   "source": [
    "c = 3 + 5j\n",
    "print(float(c))"
   ]
  },
  {
   "cell_type": "code",
   "execution_count": 138,
   "id": "ffffe408-1e23-4d55-bf7c-9be7d06bcee2",
   "metadata": {},
   "outputs": [
    {
     "ename": "TypeError",
     "evalue": "int() argument must be a string, a bytes-like object or a real number, not 'complex'",
     "output_type": "error",
     "traceback": [
      "\u001b[1;31m---------------------------------------------------------------------------\u001b[0m",
      "\u001b[1;31mTypeError\u001b[0m                                 Traceback (most recent call last)",
      "Cell \u001b[1;32mIn[138], line 2\u001b[0m\n\u001b[0;32m      1\u001b[0m c \u001b[38;5;241m=\u001b[39m \u001b[38;5;241m3\u001b[39m \u001b[38;5;241m+\u001b[39m \u001b[38;5;241m5\u001b[39mj\n\u001b[1;32m----> 2\u001b[0m \u001b[38;5;28mprint\u001b[39m(\u001b[38;5;28mint\u001b[39m(c))\n",
      "\u001b[1;31mTypeError\u001b[0m: int() argument must be a string, a bytes-like object or a real number, not 'complex'"
     ]
    }
   ],
   "source": [
    "c = 3 + 5j\n",
    "print(int(c))"
   ]
  },
  {
   "cell_type": "code",
   "execution_count": 140,
   "id": "abbf9d46-4009-47c5-95f7-7072a5ded6fe",
   "metadata": {},
   "outputs": [
    {
     "name": "stdout",
     "output_type": "stream",
     "text": [
      "1\n"
     ]
    }
   ],
   "source": [
    "d = True\n",
    "print(int(d))"
   ]
  },
  {
   "cell_type": "code",
   "execution_count": 142,
   "id": "f664a4e2-f303-448f-8a75-63d05401ba21",
   "metadata": {},
   "outputs": [
    {
     "name": "stdout",
     "output_type": "stream",
     "text": [
      "1.0\n"
     ]
    }
   ],
   "source": [
    "d = True\n",
    "print(float(d))"
   ]
  },
  {
   "cell_type": "code",
   "execution_count": 144,
   "id": "616762d1-f657-4896-ac4a-6c9163e950f4",
   "metadata": {},
   "outputs": [
    {
     "name": "stdout",
     "output_type": "stream",
     "text": [
      "(1+0j)\n"
     ]
    }
   ],
   "source": [
    "d = True\n",
    "print(complex(d))"
   ]
  },
  {
   "cell_type": "code",
   "execution_count": 146,
   "id": "3673e93d-51c8-40e1-bc8d-8783f7b960d4",
   "metadata": {},
   "outputs": [
    {
     "name": "stdout",
     "output_type": "stream",
     "text": [
      "True\n"
     ]
    }
   ],
   "source": [
    "d = True\n",
    "print(str(d))"
   ]
  },
  {
   "cell_type": "code",
   "execution_count": 148,
   "id": "ac77714f-aa1d-44f5-8fcb-d7f0dcc83474",
   "metadata": {},
   "outputs": [
    {
     "ename": "ValueError",
     "evalue": "invalid literal for int() with base 10: 'Python'",
     "output_type": "error",
     "traceback": [
      "\u001b[1;31m---------------------------------------------------------------------------\u001b[0m",
      "\u001b[1;31mValueError\u001b[0m                                Traceback (most recent call last)",
      "Cell \u001b[1;32mIn[148], line 2\u001b[0m\n\u001b[0;32m      1\u001b[0m e \u001b[38;5;241m=\u001b[39m \u001b[38;5;124m\"\u001b[39m\u001b[38;5;124mPython\u001b[39m\u001b[38;5;124m\"\u001b[39m\n\u001b[1;32m----> 2\u001b[0m \u001b[38;5;28mprint\u001b[39m(\u001b[38;5;28mint\u001b[39m(e))\n",
      "\u001b[1;31mValueError\u001b[0m: invalid literal for int() with base 10: 'Python'"
     ]
    }
   ],
   "source": [
    "e = \"Python\"\n",
    "print(int(e))"
   ]
  },
  {
   "cell_type": "code",
   "execution_count": 150,
   "id": "60f2ec8b-fa71-4699-9cd2-ed3b813fa668",
   "metadata": {},
   "outputs": [
    {
     "ename": "ValueError",
     "evalue": "could not convert string to float: 'Python'",
     "output_type": "error",
     "traceback": [
      "\u001b[1;31m---------------------------------------------------------------------------\u001b[0m",
      "\u001b[1;31mValueError\u001b[0m                                Traceback (most recent call last)",
      "Cell \u001b[1;32mIn[150], line 2\u001b[0m\n\u001b[0;32m      1\u001b[0m e \u001b[38;5;241m=\u001b[39m \u001b[38;5;124m\"\u001b[39m\u001b[38;5;124mPython\u001b[39m\u001b[38;5;124m\"\u001b[39m\n\u001b[1;32m----> 2\u001b[0m \u001b[38;5;28mprint\u001b[39m(\u001b[38;5;28mfloat\u001b[39m(e))\n",
      "\u001b[1;31mValueError\u001b[0m: could not convert string to float: 'Python'"
     ]
    }
   ],
   "source": [
    "e = \"Python\"\n",
    "print(float(e))"
   ]
  },
  {
   "cell_type": "code",
   "execution_count": 152,
   "id": "01cbcb35-4c1f-43cd-aadb-3c4cec57c6b7",
   "metadata": {},
   "outputs": [
    {
     "ename": "ValueError",
     "evalue": "complex() arg is a malformed string",
     "output_type": "error",
     "traceback": [
      "\u001b[1;31m---------------------------------------------------------------------------\u001b[0m",
      "\u001b[1;31mValueError\u001b[0m                                Traceback (most recent call last)",
      "Cell \u001b[1;32mIn[152], line 2\u001b[0m\n\u001b[0;32m      1\u001b[0m e \u001b[38;5;241m=\u001b[39m \u001b[38;5;124m\"\u001b[39m\u001b[38;5;124mPython\u001b[39m\u001b[38;5;124m\"\u001b[39m\n\u001b[1;32m----> 2\u001b[0m \u001b[38;5;28mprint\u001b[39m(\u001b[38;5;28mcomplex\u001b[39m(e))\n",
      "\u001b[1;31mValueError\u001b[0m: complex() arg is a malformed string"
     ]
    }
   ],
   "source": [
    "e = \"Python\"\n",
    "print(complex(e))"
   ]
  },
  {
   "cell_type": "code",
   "execution_count": 156,
   "id": "68a832ab-ad65-4f98-9b52-c357ba1f8635",
   "metadata": {},
   "outputs": [
    {
     "name": "stdout",
     "output_type": "stream",
     "text": [
      "True\n"
     ]
    }
   ],
   "source": [
    "e = \"Python\"\n",
    "print(bool(e))"
   ]
  },
  {
   "cell_type": "code",
   "execution_count": 158,
   "id": "a18ceb88-44af-4026-9749-1a0433220fb8",
   "metadata": {},
   "outputs": [
    {
     "name": "stdout",
     "output_type": "stream",
     "text": [
      "False\n"
     ]
    }
   ],
   "source": [
    "f=''\n",
    "print(bool(f))"
   ]
  },
  {
   "cell_type": "code",
   "execution_count": 160,
   "id": "ac55dfbb-0988-4ec6-a12e-fc0457c06b03",
   "metadata": {},
   "outputs": [
    {
     "name": "stdout",
     "output_type": "stream",
     "text": [
      "<class 'str'>\n"
     ]
    }
   ],
   "source": [
    "Str1 = \"2\"\n",
    "print(type(Str1))"
   ]
  },
  {
   "cell_type": "code",
   "execution_count": 166,
   "id": "4a5aaf76-8d77-4676-a567-7f1214de2290",
   "metadata": {},
   "outputs": [
    {
     "name": "stdout",
     "output_type": "stream",
     "text": [
      "2\n",
      "<class 'int'>\n"
     ]
    }
   ],
   "source": [
    "Str1 = \"2\"\n",
    "Str1 = int(Str1)\n",
    "print(Str1)\n",
    "print(type(Str1))"
   ]
  },
  {
   "cell_type": "code",
   "execution_count": 168,
   "id": "4cde10a4-d1e5-4948-8e38-9f0e149e3091",
   "metadata": {},
   "outputs": [
    {
     "name": "stdout",
     "output_type": "stream",
     "text": [
      "2.0\n",
      "<class 'float'>\n"
     ]
    }
   ],
   "source": [
    "Str1 = \"2\"\n",
    "Str1 = float(Str1)\n",
    "print(Str1)\n",
    "print(type(Str1))"
   ]
  },
  {
   "cell_type": "code",
   "execution_count": 172,
   "id": "84264b9d-b155-4fd6-b933-a85acad8820a",
   "metadata": {},
   "outputs": [
    {
     "ename": "ValueError",
     "evalue": "invalid literal for int() with base 10: '2.5'",
     "output_type": "error",
     "traceback": [
      "\u001b[1;31m---------------------------------------------------------------------------\u001b[0m",
      "\u001b[1;31mValueError\u001b[0m                                Traceback (most recent call last)",
      "Cell \u001b[1;32mIn[172], line 2\u001b[0m\n\u001b[0;32m      1\u001b[0m s2 \u001b[38;5;241m=\u001b[39m \u001b[38;5;124m\"\u001b[39m\u001b[38;5;124m2.5\u001b[39m\u001b[38;5;124m\"\u001b[39m\n\u001b[1;32m----> 2\u001b[0m \u001b[38;5;28mprint\u001b[39m(\u001b[38;5;28mint\u001b[39m(s2))\n",
      "\u001b[1;31mValueError\u001b[0m: invalid literal for int() with base 10: '2.5'"
     ]
    }
   ],
   "source": [
    "s2 = \"2.5\"\n",
    "print(int(s2))"
   ]
  },
  {
   "cell_type": "code",
   "execution_count": 184,
   "id": "53c4e426-7b07-45a7-a1b8-2bc710b5f2a8",
   "metadata": {},
   "outputs": [
    {
     "name": "stdout",
     "output_type": "stream",
     "text": [
      "2\n"
     ]
    }
   ],
   "source": [
    "s2 = \"2.5\"\n",
    "s3 = float(s2)\n",
    "print(int(s3))"
   ]
  },
  {
   "cell_type": "code",
   "execution_count": 174,
   "id": "fc1fef82-3edd-479d-8bb9-dcf1fe4c233e",
   "metadata": {
    "scrolled": true
   },
   "outputs": [
    {
     "name": "stdout",
     "output_type": "stream",
     "text": [
      "2\n"
     ]
    }
   ],
   "source": [
    "s2 = 2.5\n",
    "print(int(s2))"
   ]
  },
  {
   "cell_type": "code",
   "execution_count": 174,
   "id": "8c430656-e0e2-4cfb-be43-ce1c4882cd4b",
   "metadata": {},
   "outputs": [
    {
     "name": "stdout",
     "output_type": "stream",
     "text": [
      "2\n"
     ]
    }
   ],
   "source": [
    "s2 = 2.5\n",
    "print(int(s2))"
   ]
  },
  {
   "cell_type": "code",
   "execution_count": 188,
   "id": "0d9642e6-54f1-4078-815a-57dbf2e31911",
   "metadata": {},
   "outputs": [
    {
     "ename": "TypeError",
     "evalue": "unsupported operand type(s) for +: 'complex' and 'str'",
     "output_type": "error",
     "traceback": [
      "\u001b[1;31m---------------------------------------------------------------------------\u001b[0m",
      "\u001b[1;31mTypeError\u001b[0m                                 Traceback (most recent call last)",
      "Cell \u001b[1;32mIn[188], line 1\u001b[0m\n\u001b[1;32m----> 1\u001b[0m \u001b[38;5;241m2\u001b[39m \u001b[38;5;241m+\u001b[39m \u001b[38;5;241m4.5\u001b[39m \u001b[38;5;241m+\u001b[39m (\u001b[38;5;241m1\u001b[39m\u001b[38;5;241m+\u001b[39m\u001b[38;5;241m3\u001b[39mj) \u001b[38;5;241m+\u001b[39m \u001b[38;5;124m\"\u001b[39m\u001b[38;5;124mPython\u001b[39m\u001b[38;5;124m\"\u001b[39m\n",
      "\u001b[1;31mTypeError\u001b[0m: unsupported operand type(s) for +: 'complex' and 'str'"
     ]
    }
   ],
   "source": [
    "2 + 4.5 + (1+3j) + \"Python\"\n",
    "# Numeric and Categorical data cannot be added"
   ]
  },
  {
   "cell_type": "code",
   "execution_count": 192,
   "id": "d870a807-0fbc-41a1-85f2-1c4f4dfa51f8",
   "metadata": {},
   "outputs": [
    {
     "data": {
      "text/plain": [
       "(22.5+2j)"
      ]
     },
     "execution_count": 192,
     "metadata": {},
     "output_type": "execute_result"
    }
   ],
   "source": [
    "3.5 + bool(10) + 15 + (3+2j)\n",
    "# (3.5+0j) + (1+0j) + (15+0j) + (3+2j)"
   ]
  },
  {
   "cell_type": "code",
   "execution_count": 2,
   "id": "128bd277-fecb-47dc-978e-cd8c4eb0c189",
   "metadata": {},
   "outputs": [
    {
     "data": {
      "text/plain": [
       "(32+5j)"
      ]
     },
     "execution_count": 2,
     "metadata": {},
     "output_type": "execute_result"
    }
   ],
   "source": [
    "# Forced and implicit typecasting\n",
    "\n",
    "int(5.6) + float(10) + 15 + (2+5j)\n",
    "# 5 + 10.0 + 15 + (2+5j)\n",
    "# (5+0j) + (10.0+0j) + (15.0+0j) + (2.0+5j)"
   ]
  },
  {
   "cell_type": "code",
   "execution_count": 2,
   "id": "812b9d7c-4c78-4ad3-8e90-eaf70093fb1e",
   "metadata": {},
   "outputs": [
    {
     "data": {
      "text/plain": [
       "31.5"
      ]
     },
     "execution_count": 2,
     "metadata": {},
     "output_type": "execute_result"
    }
   ],
   "source": [
    "float(5) + bool(10) + 25.5\n",
    "# 5.0 + 1 + 25.5\n",
    "# 5.0 + 1.0 + 25.5\n",
    "\n",
    "# First forced and then auto type casting"
   ]
  }
 ],
 "metadata": {
  "kernelspec": {
   "display_name": "Python [conda env:base] *",
   "language": "python",
   "name": "conda-base-py"
  },
  "language_info": {
   "codemirror_mode": {
    "name": "ipython",
    "version": 3
   },
   "file_extension": ".py",
   "mimetype": "text/x-python",
   "name": "python",
   "nbconvert_exporter": "python",
   "pygments_lexer": "ipython3",
   "version": "3.12.7"
  }
 },
 "nbformat": 4,
 "nbformat_minor": 5
}
