{
 "cells": [
  {
   "cell_type": "markdown",
   "id": "00c7485b-c8a4-43f5-a627-5a7fbcbd5ae8",
   "metadata": {},
   "source": [
    "### Conditional Statements\n",
    "- if\n",
    "- if else\n",
    "- if elif\n",
    "- nested if\n",
    "- Indentation (tab space) indicates a block of code\n",
    "- if condition is true, block of statement is executed\n",
    "- <b>pass</b> statement - if statements cannot be empty, but if you for some reason have an if statement with no content, put in the pass statement to avoid getting an error\n",
    "- <b>Match</b> Statement\n",
    "- Usage of and or in the conditional statements"
   ]
  },
  {
   "cell_type": "markdown",
   "id": "d23e998a-69b7-4466-b606-367caada84f7",
   "metadata": {},
   "source": [
    "#### If statement - Single line"
   ]
  },
  {
   "cell_type": "code",
   "execution_count": 91,
   "id": "8108eba8-6958-4e1d-8271-2428e948205c",
   "metadata": {},
   "outputs": [
    {
     "name": "stdout",
     "output_type": "stream",
     "text": [
      "a is greater than b\n"
     ]
    }
   ],
   "source": [
    "# Single line if statement\n",
    "if 6 > 5: print(\"a is greater than b\")"
   ]
  },
  {
   "cell_type": "code",
   "execution_count": 89,
   "id": "0d164968-8be1-4f61-8c9a-febcaa43424a",
   "metadata": {},
   "outputs": [
    {
     "ename": "SyntaxError",
     "evalue": "invalid syntax (3983056323.py, line 2)",
     "output_type": "error",
     "traceback": [
      "\u001b[1;36m  Cell \u001b[1;32mIn[89], line 2\u001b[1;36m\u001b[0m\n\u001b[1;33m    if 6 > 5: print(\"a is greater than b\") else print('nothing')\u001b[0m\n\u001b[1;37m                                           ^\u001b[0m\n\u001b[1;31mSyntaxError\u001b[0m\u001b[1;31m:\u001b[0m invalid syntax\n"
     ]
    }
   ],
   "source": [
    "# Incorrect way to write if else \n",
    "if 6 > 5: print(\"a is greater than b\") else print('nothing')"
   ]
  },
  {
   "cell_type": "code",
   "execution_count": 93,
   "id": "fe6eeae8-a86f-4c38-8539-85c406b324f1",
   "metadata": {},
   "outputs": [
    {
     "name": "stdout",
     "output_type": "stream",
     "text": [
      "B > A \n"
     ]
    }
   ],
   "source": [
    "# Correct way to write single line if else statement\n",
    "\n",
    "a = 5\n",
    "b = 55\n",
    "print(\"A > B \") if a > b else print(\"B > A \")"
   ]
  },
  {
   "cell_type": "code",
   "execution_count": 53,
   "id": "7b2312c0-af05-4491-a461-85c3c947cfd6",
   "metadata": {},
   "outputs": [
    {
     "name": "stdout",
     "output_type": "stream",
     "text": [
      "B 330 > A 5\n",
      "None\n"
     ]
    }
   ],
   "source": [
    "# To write entire if else in a single line\n",
    "# Nested if else\n",
    "\n",
    "a = 5\n",
    "b = 330\n",
    "print(\"A {} > B {}\".format(a,b) if a > b else print(\"A {} = B {}\".format(a,b)) if a == b else print(\"B {} > A {}\".format(b,a)))"
   ]
  },
  {
   "cell_type": "markdown",
   "id": "b5f2b033-ad23-41b9-8b8c-d36122e5e1e8",
   "metadata": {},
   "source": [
    "#### If statement"
   ]
  },
  {
   "cell_type": "code",
   "execution_count": 55,
   "id": "19700370-6661-42c9-b6b9-f9bd0ad9156a",
   "metadata": {},
   "outputs": [
    {
     "name": "stdout",
     "output_type": "stream",
     "text": [
      "5\n"
     ]
    }
   ],
   "source": [
    "if 5>3:\n",
    "    print(5)"
   ]
  },
  {
   "cell_type": "code",
   "execution_count": 34,
   "id": "18f57701-2b77-45a9-acf0-ba8800881664",
   "metadata": {},
   "outputs": [
    {
     "name": "stdin",
     "output_type": "stream",
     "text": [
      "Enter a number :  99\n"
     ]
    },
    {
     "name": "stdout",
     "output_type": "stream",
     "text": [
      "99\n",
      "99 is greater than 10\n",
      "outside the if block\n"
     ]
    }
   ],
   "source": [
    "a = int(input('Enter a number : '))\n",
    "if a > 10:\n",
    "    print(a)\n",
    "    print(a, 'is greater than 10')\n",
    "print('outside the if block')"
   ]
  },
  {
   "cell_type": "code",
   "execution_count": 81,
   "id": "b7907f91-7d8c-460f-bf3f-735ed4c54f05",
   "metadata": {},
   "outputs": [
    {
     "name": "stdin",
     "output_type": "stream",
     "text": [
      "Enter the marks :  5\n"
     ]
    },
    {
     "name": "stdout",
     "output_type": "stream",
     "text": [
      "Outside of the block\n"
     ]
    }
   ],
   "source": [
    "marks = int(input('Enter the marks : '))\n",
    "\n",
    "if marks >= 50:\n",
    "    print('Pass')\n",
    "    print('Marks are ',marks)\n",
    "print('Outside of the block')"
   ]
  },
  {
   "cell_type": "code",
   "execution_count": 65,
   "id": "92a9dbe6-f19f-4afd-ac3e-588edc7ad36f",
   "metadata": {},
   "outputs": [
    {
     "name": "stdin",
     "output_type": "stream",
     "text": [
      "Enter the marks :  9\n"
     ]
    },
    {
     "name": "stdout",
     "output_type": "stream",
     "text": [
      "Outside of the block\n"
     ]
    }
   ],
   "source": [
    "marks = int(input('Enter the marks : '))\n",
    "\n",
    "if marks > 50:\n",
    "    print('Pass')\n",
    "    \n",
    "    print('Marks are ',marks)\n",
    "    \n",
    "print('Outside of the block')"
   ]
  },
  {
   "cell_type": "markdown",
   "id": "c8d380f0-880d-49d8-a659-781a04fbf0ec",
   "metadata": {},
   "source": [
    "#### If Else"
   ]
  },
  {
   "cell_type": "code",
   "execution_count": 75,
   "id": "82354cbf-7ae1-47a4-ac39-0349b8d79b6e",
   "metadata": {},
   "outputs": [
    {
     "name": "stdin",
     "output_type": "stream",
     "text": [
      "Enter the marks :  99\n"
     ]
    },
    {
     "name": "stdout",
     "output_type": "stream",
     "text": [
      "Pass - Marks are  99\n",
      "Outside of the if else block\n"
     ]
    }
   ],
   "source": [
    "marks = int(input('Enter the marks : '))\n",
    "\n",
    "if marks > 50:\n",
    "    print('Pass - Marks are ',marks)\n",
    "else:\n",
    "    print('Fail - Marks are ',marks)\n",
    "    \n",
    "print('Outside of the if else block')"
   ]
  },
  {
   "cell_type": "markdown",
   "id": "f1b57746-6a66-4021-ba21-80555983d572",
   "metadata": {},
   "source": [
    "#### If Elif Else"
   ]
  },
  {
   "cell_type": "code",
   "execution_count": 79,
   "id": "09b737ee-b601-4c2a-a483-b8454b99fa4f",
   "metadata": {},
   "outputs": [
    {
     "name": "stdin",
     "output_type": "stream",
     "text": [
      "Enter marks :  9\n"
     ]
    },
    {
     "name": "stdout",
     "output_type": "stream",
     "text": [
      "Grade D\n"
     ]
    }
   ],
   "source": [
    "# Check multiple conditions if the previous conditions are not true\n",
    "# if elif\n",
    "marks = int(input('Enter marks : '))\n",
    "\n",
    "if marks >= 90:\n",
    "    print('Grade A')\n",
    "elif marks >= 80:\n",
    "    print('Grade B')\n",
    "elif marks >= 60:\n",
    "    print('Grade C')\n",
    "else:\n",
    "    print('Grade D')"
   ]
  },
  {
   "cell_type": "markdown",
   "id": "aa28aead-2899-4264-97c6-6c4f0916ee08",
   "metadata": {},
   "source": [
    "#### Nested If"
   ]
  },
  {
   "cell_type": "code",
   "execution_count": 93,
   "id": "43b18748-85d2-4888-927a-c57c6ed28816",
   "metadata": {},
   "outputs": [
    {
     "name": "stdin",
     "output_type": "stream",
     "text": [
      "Enter the Gender  Male\n",
      "Enter the Age  33\n"
     ]
    },
    {
     "name": "stdout",
     "output_type": "stream",
     "text": [
      "Considered for football\n"
     ]
    }
   ],
   "source": [
    "# Nested if > IF within another if\n",
    "gender = input('Enter the Gender ')\n",
    "age = int(input('Enter the Age '))\n",
    "\n",
    "if gender.lower() == 'male':\n",
    "    if age >= 18:\n",
    "        print('Considered for football')\n",
    "    else:\n",
    "        print('male not considered for football')\n",
    "if gender.lower() == 'female':\n",
    "    if age >= 18:\n",
    "        print('Considered for quiz')\n",
    "    else:\n",
    "        print('Female not considered for quiz')"
   ]
  },
  {
   "cell_type": "markdown",
   "id": "4a2d0605-6449-45b6-a49b-a98743b3a32f",
   "metadata": {},
   "source": [
    "#### If with \\'and' \\'or' conditions"
   ]
  },
  {
   "cell_type": "code",
   "execution_count": 45,
   "id": "d6885d1b-c395-484b-8c7c-56bc0099e079",
   "metadata": {},
   "outputs": [
    {
     "name": "stdout",
     "output_type": "stream",
     "text": [
      "Both conditions are True\n"
     ]
    }
   ],
   "source": [
    "a = 200\n",
    "b = 33\n",
    "c = 500\n",
    "if a > b and c > a:\n",
    "  print(\"Both conditions are True\")"
   ]
  },
  {
   "cell_type": "code",
   "execution_count": 43,
   "id": "d078106b-9df0-49bd-91cd-66e97d3effe5",
   "metadata": {},
   "outputs": [
    {
     "name": "stdout",
     "output_type": "stream",
     "text": [
      "At least one of the conditions is True\n"
     ]
    }
   ],
   "source": [
    "a = 200\n",
    "b = 33\n",
    "c = 500\n",
    "if a > b or a > c:\n",
    "  print(\"At least one of the conditions is True\")"
   ]
  },
  {
   "cell_type": "code",
   "execution_count": 75,
   "id": "26e8027a-f23a-4227-b354-48d7a7dab3cb",
   "metadata": {},
   "outputs": [
    {
     "name": "stdout",
     "output_type": "stream",
     "text": [
      "a is NOT equal to b\n"
     ]
    }
   ],
   "source": [
    "a = 33\n",
    "b = 200\n",
    "if a != b:\n",
    "  print(\"a is NOT equal to b\")"
   ]
  },
  {
   "cell_type": "code",
   "execution_count": 79,
   "id": "9e79d63d-6631-4a55-bc7f-dab7deab9ef4",
   "metadata": {},
   "outputs": [
    {
     "name": "stdout",
     "output_type": "stream",
     "text": [
      "a is NOT equal to b\n"
     ]
    }
   ],
   "source": [
    "a = 33\n",
    "b = 200\n",
    "if not a == b:\n",
    "  print(\"a is NOT equal to b\")"
   ]
  },
  {
   "cell_type": "code",
   "execution_count": 109,
   "id": "9af08a6c-7388-4f01-96b4-48dc691cf14e",
   "metadata": {},
   "outputs": [
    {
     "name": "stdin",
     "output_type": "stream",
     "text": [
      "Enter a number a  2\n",
      "Enter a number b  3\n"
     ]
    }
   ],
   "source": [
    "# pass is used to keep a dummy execution line \n",
    "\n",
    "a = int(input(\"Enter a number a \"))\n",
    "b = int(input(\"Enter a number b \"))\n",
    "\n",
    "if a > b:\n",
    "    print(\"Came to pass statement\")\n",
    "    pass\n",
    "    print(\"After pass statement\")\n",
    "else:\n",
    "    pass"
   ]
  },
  {
   "cell_type": "markdown",
   "id": "1057f03b-f97e-4707-a568-658daef529a7",
   "metadata": {},
   "source": [
    "#### Match Statement\n",
    "- The match statement is used to perform different actions based on different conditions.\n",
    "- Instead of writing many if..else statements, you can use the match statement.\n",
    "- The match statement selects one of many code blocks to be executed.\n",
    "- Syntax\n",
    "- match expression:\n",
    "- case x:\n",
    "-    code block\n",
    "- case y:\n",
    "-    code block\n",
    "- case z:\n",
    "-    code block\n",
    "- case _:\n",
    "-    code default\n",
    "- Use the underscore character _ as the last case value if you want a code block to execute when there are not other matches. We cannot give it in other places as it throws error."
   ]
  },
  {
   "cell_type": "code",
   "execution_count": 120,
   "id": "1a843133-98c0-4cac-9a6b-c76aa516e84f",
   "metadata": {},
   "outputs": [
    {
     "name": "stdin",
     "output_type": "stream",
     "text": [
      "Enter the week number  8\n"
     ]
    },
    {
     "name": "stdout",
     "output_type": "stream",
     "text": [
      "Enter a correct value\n"
     ]
    }
   ],
   "source": [
    "day = int(input(\"Enter the week number \"))\n",
    "match day:\n",
    "  case 1:\n",
    "    print(\"Monday\")\n",
    "  case 2:\n",
    "    print(\"Tuesday\")\n",
    "  case 3:\n",
    "    print(\"Wednesday\")\n",
    "  case 4:\n",
    "    print(\"Thursday\")\n",
    "  case 5:\n",
    "    print(\"Friday\")\n",
    "  case 6:\n",
    "    print(\"Saturday\")\n",
    "  case 7:\n",
    "    print(\"Sunday\")\n",
    "  case _:\n",
    "    print(\"Enter a correct value\")"
   ]
  },
  {
   "cell_type": "code",
   "execution_count": 124,
   "id": "9702f6e9-7659-4cda-84cc-5f9e2288f166",
   "metadata": {},
   "outputs": [
    {
     "name": "stdin",
     "output_type": "stream",
     "text": [
      "Enter the week number  3\n"
     ]
    },
    {
     "ename": "SyntaxError",
     "evalue": "wildcard makes remaining patterns unreachable (1047193848.py, line 3)",
     "output_type": "error",
     "traceback": [
      "\u001b[1;36m  Cell \u001b[1;32mIn[124], line 3\u001b[1;36m\u001b[0m\n\u001b[1;33m    case _:\u001b[0m\n\u001b[1;37m         ^\u001b[0m\n\u001b[1;31mSyntaxError\u001b[0m\u001b[1;31m:\u001b[0m wildcard makes remaining patterns unreachable\n"
     ]
    }
   ],
   "source": [
    "day = int(input(\"Enter the week number \"))\n",
    "match day:\n",
    "  case _:\n",
    "    print(\"Enter a correct value\")\n",
    "  case 1:\n",
    "    print(\"Monday\")\n",
    "  case 2:\n",
    "    print(\"Tuesday\")\n",
    "  case 3:\n",
    "    print(\"Wednesday\")\n",
    "  case 4:\n",
    "    print(\"Thursday\")\n",
    "  case 5:\n",
    "    print(\"Friday\")\n",
    "  case 6:\n",
    "    print(\"Saturday\")\n",
    "  case 7:\n",
    "    print(\"Sunday\")"
   ]
  },
  {
   "cell_type": "code",
   "execution_count": 137,
   "id": "9b4e6b50-154d-4dfa-957c-d484fbd92fed",
   "metadata": {},
   "outputs": [
    {
     "name": "stdin",
     "output_type": "stream",
     "text": [
      "Enter the week number to see the output, enter 0 to exit the execution  3\n"
     ]
    },
    {
     "name": "stdout",
     "output_type": "stream",
     "text": [
      "Wednesday\n"
     ]
    },
    {
     "name": "stdin",
     "output_type": "stream",
     "text": [
      "Enter the week number to see the output, enter 0 to exit the execution  1\n"
     ]
    },
    {
     "name": "stdout",
     "output_type": "stream",
     "text": [
      "Monday\n"
     ]
    },
    {
     "name": "stdin",
     "output_type": "stream",
     "text": [
      "Enter the week number to see the output, enter 0 to exit the execution  2\n"
     ]
    },
    {
     "name": "stdout",
     "output_type": "stream",
     "text": [
      "Tuesday\n"
     ]
    },
    {
     "name": "stdin",
     "output_type": "stream",
     "text": [
      "Enter the week number to see the output, enter 0 to exit the execution  5\n"
     ]
    },
    {
     "name": "stdout",
     "output_type": "stream",
     "text": [
      "Enter a correct value\n"
     ]
    },
    {
     "name": "stdin",
     "output_type": "stream",
     "text": [
      "Enter the week number to see the output, enter 0 to exit the execution  7\n"
     ]
    },
    {
     "name": "stdout",
     "output_type": "stream",
     "text": [
      "Enter a correct value\n"
     ]
    },
    {
     "name": "stdin",
     "output_type": "stream",
     "text": [
      "Enter the week number to see the output, enter 0 to exit the execution  3\n"
     ]
    },
    {
     "name": "stdout",
     "output_type": "stream",
     "text": [
      "Wednesday\n"
     ]
    },
    {
     "name": "stdin",
     "output_type": "stream",
     "text": [
      "Enter the week number to see the output, enter 0 to exit the execution  0\n"
     ]
    },
    {
     "name": "stdout",
     "output_type": "stream",
     "text": [
      "Exiting the program\n"
     ]
    }
   ],
   "source": [
    "# Same code, just make it execute until the user enters 0\n",
    "\n",
    "day = 1\n",
    "while day != 0:\n",
    "    day = int(input(\"Enter the week number to see the output, enter 0 to exit the execution \"))\n",
    "    match day:\n",
    "       case 1:\n",
    "           print(\"Monday\")\n",
    "       case 2:\n",
    "           print(\"Tuesday\")\n",
    "       case 3:\n",
    "           print(\"Wednesday\")\n",
    "       case 0:\n",
    "           print(\"Exiting the program\")\n",
    "       case _:\n",
    "           print(\"Enter a correct value\")"
   ]
  },
  {
   "cell_type": "code",
   "execution_count": 143,
   "id": "7db21c1f-78f0-4877-9f69-1fb9c27eae5c",
   "metadata": {},
   "outputs": [
    {
     "name": "stdin",
     "output_type": "stream",
     "text": [
      "Enter a value 7\n"
     ]
    },
    {
     "name": "stdout",
     "output_type": "stream",
     "text": [
      "I love weekends!\n"
     ]
    }
   ],
   "source": [
    "# Combine more than one value\n",
    "day = int(input(\"Enter a value\"))\n",
    "match day:\n",
    "  case 1 | 2 | 3 | 4 | 5:\n",
    "    print(\"Today is a weekday\")\n",
    "  case 6 | 7:\n",
    "    print(\"I love weekends!\")"
   ]
  },
  {
   "cell_type": "code",
   "execution_count": 151,
   "id": "b9767ce6-0ab4-4b55-adb6-414743b02d0c",
   "metadata": {},
   "outputs": [
    {
     "name": "stdout",
     "output_type": "stream",
     "text": [
      "No match\n"
     ]
    }
   ],
   "source": [
    "# Additional condition using if statement\n",
    "\n",
    "month = 4\n",
    "day = 6\n",
    "match day:\n",
    "  case 1 | 2 | 3 | 4 | 5 if month == 4:\n",
    "    print(\"A weekday in April\")\n",
    "  case 1 | 2 | 3 | 4 | 5 if month == 5:\n",
    "    print(\"A weekday in May\")\n",
    "  case _:\n",
    "    print(\"No match\")"
   ]
  },
  {
   "cell_type": "code",
   "execution_count": null,
   "id": "94471333-aed2-4e49-b844-00f72f5502ea",
   "metadata": {},
   "outputs": [],
   "source": []
  }
 ],
 "metadata": {
  "kernelspec": {
   "display_name": "Python [conda env:base] *",
   "language": "python",
   "name": "conda-base-py"
  },
  "language_info": {
   "codemirror_mode": {
    "name": "ipython",
    "version": 3
   },
   "file_extension": ".py",
   "mimetype": "text/x-python",
   "name": "python",
   "nbconvert_exporter": "python",
   "pygments_lexer": "ipython3",
   "version": "3.12.7"
  }
 },
 "nbformat": 4,
 "nbformat_minor": 5
}
