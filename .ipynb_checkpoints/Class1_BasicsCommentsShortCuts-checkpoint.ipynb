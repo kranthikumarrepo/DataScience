{
 "cells": [
  {
   "cell_type": "markdown",
   "id": "6b1d52e9-b3aa-4443-810c-861a2ccf0794",
   "metadata": {},
   "source": [
    "### Python Introduction - All about Python\n",
    "- Python is open source language - i.e. source code is freely available for anyone to use, modify, and distribute.\n",
    "- Python is high level language\n",
    "- Python is a general purpose programming language i.e. It can be used for Scientific calculations, Visualization, Web based, GUI Apps, Desktop, Machine learning, Mobile, Data analytics, Data modelling, Data cleaning.\n",
    "- Python interpreter executes a statement from L to R\n",
    "- IDE > Mainly 3 types of IDEs are used for Python development. jupyter, spyder and pycharm\n"
   ]
  },
  {
   "cell_type": "markdown",
   "id": "2fbe8e6c-14d8-4293-8598-3b7fb69f2258",
   "metadata": {},
   "source": [
    "# Markdown Cells\n",
    "By default all the cells are code cells > To convert any cell to Markdown cell >>> Esc + M"
   ]
  },
  {
   "cell_type": "markdown",
   "id": "ef481247-ba33-41ca-b5ca-d7d8f8b3764c",
   "metadata": {},
   "source": [
    "#### Uses of Markdown cells\n",
    "- Use # space Text to create heading in a markdown cell. Heading size depends on the number of \"#\" used before the text.\n",
    "- Use \"-\" to create bullet points in a markdown cell\n",
    "- Once we convert a cell to markdown cell, it recognizes \"#\" and creates heading, \"-\" converts to bullet points, etc.\n",
    "- Markdown cells also recognize html code(html tags) and does formatting, include images, URL, etc."
   ]
  },
  {
   "cell_type": "markdown",
   "id": "73b68b9c-0c98-4d5a-a422-5749e9a55a4e",
   "metadata": {},
   "source": [
    "#### Markdown cell - Heading Examples \n",
    "- Size depends on the number of # we use before the text.\n",
    "# Heading size1\n",
    "## Heading size2\n",
    "### Heading size3\n",
    "#### Heading size4\n",
    "##### Heading size5\n",
    "###### Heading size6\n",
    "####### Heading size7 >>> Works only till 6 #. i.e. only 6 different heading sizes"
   ]
  },
  {
   "cell_type": "markdown",
   "id": "336e06cb-ca89-46f7-9f3e-25a194a165e4",
   "metadata": {},
   "source": [
    "#### Markdown cell - HTML Examples\n",
    "\n",
    "- <b>Example of writing bold text</b>\n",
    "\n",
    "- <u>Example of underline text using html </u>\n",
    "\n",
    "- <a href=\"http://localhost:8888/tree/PythonEssentials\"> This is a link to Python Programs </a>"
   ]
  },
  {
   "cell_type": "markdown",
   "id": "3631c1d9-7c88-42b7-952d-75d41416c1ba",
   "metadata": {},
   "source": [
    "# Code Cells\n",
    "- By default all the cells are code cells\n",
    "- These cells are executable cells by default\n",
    "- We write python code here\n",
    "- We can also include comments in the code cell using # or triple quotes\n",
    "- Example of a code cell below"
   ]
  },
  {
   "cell_type": "code",
   "execution_count": 43,
   "id": "22e8c288-4d9c-4cd9-9ff5-a1094cd21470",
   "metadata": {},
   "outputs": [
    {
     "data": {
      "text/plain": [
       "5"
      ]
     },
     "execution_count": 43,
     "metadata": {},
     "output_type": "execute_result"
    }
   ],
   "source": [
    "2+3"
   ]
  },
  {
   "cell_type": "code",
   "execution_count": 45,
   "id": "4db6a642-f663-482d-b551-8c1b36ceeaad",
   "metadata": {},
   "outputs": [
    {
     "data": {
      "text/plain": [
       "5"
      ]
     },
     "execution_count": 45,
     "metadata": {},
     "output_type": "execute_result"
    }
   ],
   "source": [
    "2 + 3"
   ]
  },
  {
   "cell_type": "markdown",
   "id": "d5902cfc-c8a2-4458-bbae-2a022fad5150",
   "metadata": {},
   "source": [
    "# Raw Cells"
   ]
  },
  {
   "cell_type": "raw",
   "id": "c032c4cc-c926-48e6-a89f-d1042efd5be7",
   "metadata": {},
   "source": [
    "# Raw cell\n",
    "- To convert cell to Raw cell >>> Esc + R\n",
    "- Becomes non-executable cell\n",
    "- We can write plain text here\n",
    "<b> bold example </b>\n",
    "- even though we write \"#\", \"-\" or html tags, they work here as everything here becomes non-executable."
   ]
  },
  {
   "cell_type": "markdown",
   "id": "a1eafc42-afc2-4ed2-9c03-572437bf69f4",
   "metadata": {},
   "source": [
    "# Shortcuts\n",
    "- To know how a function works >>> shift + tab\n",
    "- To code cell >>> Esc + Y or Esc + y\n",
    "- To insert cell below current cell >>> Esc + b\n",
    "- To insert cell above current cell >>> Esc + a\n",
    "- To delete the current cell >>> Esc + dd\n",
    "- To undo operation >>> Esc + z\n",
    "- To copy entire cell >>> Esc + c\n",
    "- To cut entire cell >>> Esc + x\n",
    "- To paste entire cell >>> Esc + v\n",
    "- To copy, cut and paste the text inside a cell >>> Cntrl + c/x/v\n",
    "- To run the code > Shift + Enter\n"
   ]
  },
  {
   "cell_type": "markdown",
   "id": "489a8772-420d-4dd2-880b-774124ffdd9d",
   "metadata": {},
   "source": [
    "# Comments\n",
    "- Comments are used to describe the code, they increase readability\n",
    "- Comments are two types. Single line and Multi line comments\n",
    "- Comments are always written in a code cell\n",
    "- Use \"#\" (hash) to write single line comment. If \"#\" (hash) is used in Markdown cell, it becomes a heading\n",
    "- Use ''' or \"\"\" (Triple quotes) to write multi line comment"
   ]
  },
  {
   "cell_type": "markdown",
   "id": "b0d7e0af-bc1e-4940-9b29-3c1f192566ca",
   "metadata": {},
   "source": [
    "#### Examples of Single and Multi Line Comments"
   ]
  },
  {
   "cell_type": "code",
   "execution_count": 79,
   "id": "b41bc830-87d3-4cd1-b01b-db404861f6cb",
   "metadata": {},
   "outputs": [
    {
     "data": {
      "text/plain": [
       "5"
      ]
     },
     "execution_count": 79,
     "metadata": {},
     "output_type": "execute_result"
    }
   ],
   "source": [
    "# Single line comment example\n",
    "2+3"
   ]
  },
  {
   "cell_type": "code",
   "execution_count": 81,
   "id": "ddc31181-7e9f-49f0-ac34-306ec1b71b7d",
   "metadata": {},
   "outputs": [
    {
     "data": {
      "text/plain": [
       "5"
      ]
     },
     "execution_count": 81,
     "metadata": {},
     "output_type": "execute_result"
    }
   ],
   "source": [
    "# Single line comment\n",
    "# Example2\n",
    "2 + 3"
   ]
  },
  {
   "cell_type": "code",
   "execution_count": 83,
   "id": "7961d576-74f4-4772-9ec0-939f1d47daaa",
   "metadata": {},
   "outputs": [
    {
     "data": {
      "text/plain": [
       "5"
      ]
     },
     "execution_count": 83,
     "metadata": {},
     "output_type": "execute_result"
    }
   ],
   "source": [
    "''' Multi line comment\n",
    "example1 '''\n",
    "2+3"
   ]
  },
  {
   "cell_type": "code",
   "execution_count": 85,
   "id": "4925c645-a36e-4400-8e4b-6d4f5a7bea52",
   "metadata": {},
   "outputs": [
    {
     "data": {
      "text/plain": [
       "5"
      ]
     },
     "execution_count": 85,
     "metadata": {},
     "output_type": "execute_result"
    }
   ],
   "source": [
    "\"\"\" Multi line comment\n",
    "example2 \"\"\"\n",
    "2 + 3"
   ]
  },
  {
   "cell_type": "markdown",
   "id": "ad3c279e-5b9c-49c1-9a71-5237806c7c8d",
   "metadata": {},
   "source": [
    "# Statements\n",
    "- A unit or a piece of code that can be executed\n",
    "- Statement can be in a 1. single line or 2. multi line\n",
    "- 1. Single Line Statement > Code is written in a single line\n",
    "- 2. Multi Line Statement > Code is written in multiple lines, backslash \\ is used to indicate continuation. "
   ]
  },
  {
   "cell_type": "code",
   "execution_count": 1,
   "id": "d6972ca6-8484-4e54-bc3b-7f850e3180a2",
   "metadata": {},
   "outputs": [],
   "source": [
    "# Single line statement\n",
    "a=2+3+3+5"
   ]
  },
  {
   "cell_type": "code",
   "execution_count": 13,
   "id": "824eb2ca-295c-4af9-87ef-a2bb9f838cf5",
   "metadata": {},
   "outputs": [
    {
     "data": {
      "text/plain": [
       "13"
      ]
     },
     "execution_count": 13,
     "metadata": {},
     "output_type": "execute_result"
    }
   ],
   "source": [
    "# Single line statement\n",
    "a"
   ]
  },
  {
   "cell_type": "code",
   "execution_count": 129,
   "id": "25fdd176-c4ac-47c5-8e4f-5f003103b8d6",
   "metadata": {},
   "outputs": [
    {
     "data": {
      "text/plain": [
       "13"
      ]
     },
     "execution_count": 129,
     "metadata": {},
     "output_type": "execute_result"
    }
   ],
   "source": [
    "# Single line statements - each line is separate single line statement\n",
    "a=2+3+3+5\n",
    "a"
   ]
  },
  {
   "cell_type": "code",
   "execution_count": 93,
   "id": "77ab9a46-2eec-41da-95d7-277ec38fe7e1",
   "metadata": {},
   "outputs": [
    {
     "data": {
      "text/plain": [
       "3"
      ]
     },
     "execution_count": 93,
     "metadata": {},
     "output_type": "execute_result"
    }
   ],
   "source": [
    "# Single line statements - each line is separate single line statement\n",
    "2+3\n",
    "2+1"
   ]
  },
  {
   "cell_type": "code",
   "execution_count": 131,
   "id": "ca8d876d-385e-4224-8741-7734e4e474d7",
   "metadata": {},
   "outputs": [
    {
     "data": {
      "text/plain": [
       "5"
      ]
     },
     "execution_count": 131,
     "metadata": {},
     "output_type": "execute_result"
    }
   ],
   "source": [
    "# Single line statements - each line is separate single line statement\n",
    "a=2+3\n",
    "3+3\n",
    "a"
   ]
  },
  {
   "cell_type": "code",
   "execution_count": 135,
   "id": "f9f06878-733f-4df0-b0c7-5aebfca10c9d",
   "metadata": {},
   "outputs": [
    {
     "data": {
      "text/plain": [
       "6"
      ]
     },
     "execution_count": 135,
     "metadata": {},
     "output_type": "execute_result"
    }
   ],
   "source": [
    "# Single line statements - each line is separate single line statement\n",
    "a=2+3\n",
    "a\n",
    "3+3"
   ]
  },
  {
   "cell_type": "code",
   "execution_count": 137,
   "id": "94f84f4a-3ce9-41fc-804a-0855d92b10f6",
   "metadata": {},
   "outputs": [
    {
     "data": {
      "text/plain": [
       "4"
      ]
     },
     "execution_count": 137,
     "metadata": {},
     "output_type": "execute_result"
    }
   ],
   "source": [
    "# Single line statements - each line is separate single line statement\n",
    "a=2+3\n",
    "3+1"
   ]
  },
  {
   "cell_type": "code",
   "execution_count": 143,
   "id": "c3bdd880-d97a-4fd4-9185-0901e6b2e27a",
   "metadata": {},
   "outputs": [
    {
     "data": {
      "text/plain": [
       "22"
      ]
     },
     "execution_count": 143,
     "metadata": {},
     "output_type": "execute_result"
    }
   ],
   "source": [
    "# Multi line statement >>> Below is still single line statement\n",
    "b = 1 + 2 + 3 + 4 + 5\n",
    "6 + 7 + 8 + 1"
   ]
  },
  {
   "cell_type": "code",
   "execution_count": 145,
   "id": "843b6020-999b-44bf-9f4b-77f6b779dc4b",
   "metadata": {},
   "outputs": [
    {
     "data": {
      "text/plain": [
       "3"
      ]
     },
     "execution_count": 145,
     "metadata": {},
     "output_type": "execute_result"
    }
   ],
   "source": [
    "# Multi line statement >>> Below is still single line statement\n",
    "b = 1 + 2 + 3 + 4 + 5\n",
    "6 + 7 + 8 + 1\n",
    "1+2"
   ]
  },
  {
   "cell_type": "code",
   "execution_count": 147,
   "id": "9514c7dc-dae2-42d5-8733-88af22a5295a",
   "metadata": {},
   "outputs": [
    {
     "data": {
      "text/plain": [
       "15"
      ]
     },
     "execution_count": 147,
     "metadata": {},
     "output_type": "execute_result"
    }
   ],
   "source": [
    "b"
   ]
  },
  {
   "cell_type": "code",
   "execution_count": 141,
   "id": "a79b884f-cc83-4cf7-a08d-e2fb0779835f",
   "metadata": {},
   "outputs": [
    {
     "data": {
      "text/plain": [
       "15"
      ]
     },
     "execution_count": 141,
     "metadata": {},
     "output_type": "execute_result"
    }
   ],
   "source": [
    "# Multi line statement >>> Below is still single line statement\n",
    "b = 1 + 2 + 3 + 4 + 5\n",
    "6 + 7 + 8 + 1\n",
    "b"
   ]
  },
  {
   "cell_type": "code",
   "execution_count": 151,
   "id": "9e27b7fb-2691-4be5-8b89-5f87faf9405a",
   "metadata": {},
   "outputs": [
    {
     "ename": "SyntaxError",
     "evalue": "invalid syntax (4041124918.py, line 2)",
     "output_type": "error",
     "traceback": [
      "\u001b[1;36m  Cell \u001b[1;32mIn[151], line 2\u001b[1;36m\u001b[0m\n\u001b[1;33m    b = 1 + 2 + 3 + 4 + 5 +\u001b[0m\n\u001b[1;37m                           ^\u001b[0m\n\u001b[1;31mSyntaxError\u001b[0m\u001b[1;31m:\u001b[0m invalid syntax\n"
     ]
    }
   ],
   "source": [
    "# Multi line statement - error as there is no continuation\n",
    "b = 1 + 2 + 3 + 4 + 5 +\n",
    "6 + 7 + 8 + 1\n",
    "b"
   ]
  },
  {
   "cell_type": "code",
   "execution_count": 19,
   "id": "5394e1e2-8374-4234-be04-f6368a871911",
   "metadata": {},
   "outputs": [
    {
     "data": {
      "text/plain": [
       "37"
      ]
     },
     "execution_count": 19,
     "metadata": {},
     "output_type": "execute_result"
    }
   ],
   "source": [
    "# Multi line statement - no error as there is continuation with backslash\n",
    "b = 1 + 2 + 3 + 4 + 5 + \\\n",
    "6 + 7 + 8 + 1\n",
    "b"
   ]
  },
  {
   "cell_type": "code",
   "execution_count": 21,
   "id": "8c666980-b634-4b3c-aa34-e7e76da8d25e",
   "metadata": {},
   "outputs": [
    {
     "data": {
      "text/plain": [
       "10"
      ]
     },
     "execution_count": 21,
     "metadata": {},
     "output_type": "execute_result"
    }
   ],
   "source": [
    "a=10\n",
    "a"
   ]
  }
 ],
 "metadata": {
  "kernelspec": {
   "display_name": "Python [conda env:base] *",
   "language": "python",
   "name": "conda-base-py"
  },
  "language_info": {
   "codemirror_mode": {
    "name": "ipython",
    "version": 3
   },
   "file_extension": ".py",
   "mimetype": "text/x-python",
   "name": "python",
   "nbconvert_exporter": "python",
   "pygments_lexer": "ipython3",
   "version": "3.12.7"
  }
 },
 "nbformat": 4,
 "nbformat_minor": 5
}
