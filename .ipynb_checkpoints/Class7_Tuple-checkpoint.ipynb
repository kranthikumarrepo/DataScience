{
 "cells": [
  {
   "cell_type": "markdown",
   "id": "9fb123cb-7414-49bc-8562-347b5dd5674d",
   "metadata": {},
   "source": [
    "### Tuple\n",
    "- Sequence of elements, <b> not sorted by default</b>. Data remains in the same order as we enter, we need to use sorted function.\n",
    "- Represented within ()\n",
    "- <b>Immutable</b>, elements <b>cannot</b> be changed(add or remove) once tuple is created.\n",
    "- <b>Indexed </b> i.e. We can access individual elements using <b>indexes, starts from 0</b>. \n",
    "- <b>Can contain heterogenous</b> data\n",
    "- Can contain list, tuple, set, dictionary\n",
    "- <b>Allows duplicate</b> values\n",
    "- <b> Exactly same as Lists </b> >>> Only difference is <b>list is mutable, tuple is immutable</b>"
   ]
  },
  {
   "cell_type": "markdown",
   "id": "726d6aa1-3328-483f-8eb3-5c7de986f7f0",
   "metadata": {},
   "source": [
    "#### Functions on Tuple\n",
    "##### Except del, count, len, index, all, any, in, not in, sorted(use sorted instead of sort) \n",
    "<b>all the other functions cannot be used on the tuple as it is immutable</b>\n",
    "\n",
    "(Functions not on Tuple - append, extend, insert, pop, remove, clear, del, len, count, index, all, any, in, not in, sort, reverse)"
   ]
  },
  {
   "cell_type": "code",
   "execution_count": 2,
   "id": "73ae0e70-6dab-4415-b093-eba94fb06f63",
   "metadata": {},
   "outputs": [
    {
     "data": {
      "text/plain": [
       "()"
      ]
     },
     "execution_count": 2,
     "metadata": {},
     "output_type": "execute_result"
    }
   ],
   "source": [
    "# Create an empty tuple\n",
    "tuple = ()\n",
    "tuple"
   ]
  },
  {
   "cell_type": "markdown",
   "id": "fdb65cd9-eba3-41b6-9706-bb84bed3d7ff",
   "metadata": {},
   "source": [
    "#### Immutabale"
   ]
  },
  {
   "cell_type": "code",
   "execution_count": 3,
   "id": "f967d72a-169e-41e5-a9a1-9bbb286080fe",
   "metadata": {},
   "outputs": [
    {
     "name": "stdout",
     "output_type": "stream",
     "text": [
      "(1, 9, 2, -1, True, 'kk')\n"
     ]
    },
    {
     "ename": "TypeError",
     "evalue": "'tuple' object does not support item assignment",
     "output_type": "error",
     "traceback": [
      "\u001b[1;31m---------------------------------------------------------------------------\u001b[0m",
      "\u001b[1;31mTypeError\u001b[0m                                 Traceback (most recent call last)",
      "Cell \u001b[1;32mIn[3], line 3\u001b[0m\n\u001b[0;32m      1\u001b[0m tuple1 \u001b[38;5;241m=\u001b[39m (\u001b[38;5;241m1\u001b[39m,\u001b[38;5;241m9\u001b[39m,\u001b[38;5;241m2\u001b[39m,\u001b[38;5;241m-\u001b[39m\u001b[38;5;241m1\u001b[39m,\u001b[38;5;28;01mTrue\u001b[39;00m,\u001b[38;5;124m'\u001b[39m\u001b[38;5;124mkk\u001b[39m\u001b[38;5;124m'\u001b[39m)\n\u001b[0;32m      2\u001b[0m \u001b[38;5;28mprint\u001b[39m(tuple1)\n\u001b[1;32m----> 3\u001b[0m tuple1[\u001b[38;5;241m2\u001b[39m]\u001b[38;5;241m=\u001b[39m\u001b[38;5;241m3\u001b[39m\n\u001b[0;32m      4\u001b[0m \u001b[38;5;28mprint\u001b[39m(tuple1)\n",
      "\u001b[1;31mTypeError\u001b[0m: 'tuple' object does not support item assignment"
     ]
    }
   ],
   "source": [
    "tuple1 = (1,9,2,-1,True,'kk')\n",
    "print(tuple1)\n",
    "tuple1[2]=3\n",
    "print(tuple1)"
   ]
  },
  {
   "cell_type": "code",
   "execution_count": 3,
   "id": "62098b0f-ac48-43cc-96b9-135d92eb07eb",
   "metadata": {},
   "outputs": [],
   "source": [
    "# Create heterogenus tuple\n",
    "tuple1 = (8, 4, 3.5, 2, 5, 4, 'tt', (2+3j), [2,4],(9,11),{'A':1})"
   ]
  },
  {
   "cell_type": "code",
   "execution_count": 5,
   "id": "24cf32b2-b509-4446-abcd-b70677686dde",
   "metadata": {},
   "outputs": [
    {
     "data": {
      "text/plain": [
       "(8, 4, 3.5, 2, 5, 4, 'tt', (2+3j), [2, 4], (9, 11), {'A': 1})"
      ]
     },
     "execution_count": 5,
     "metadata": {},
     "output_type": "execute_result"
    }
   ],
   "source": [
    "tuple1"
   ]
  },
  {
   "cell_type": "code",
   "execution_count": 5,
   "id": "284f657c-0123-4c98-a72c-037073c08e00",
   "metadata": {},
   "outputs": [],
   "source": [
    "# Create heterogenus tuple\n",
    "tuple1 = (8, 4, 3.5, 2, 5, 4, 'tt', (2+3j), 9)"
   ]
  },
  {
   "cell_type": "code",
   "execution_count": 10,
   "id": "a86401bd-07df-43b8-a338-100c23fe3320",
   "metadata": {},
   "outputs": [
    {
     "data": {
      "text/plain": [
       "(8, 4, 3.5, 2, 5, 4, 'tt', (2+3j), 9)"
      ]
     },
     "execution_count": 10,
     "metadata": {},
     "output_type": "execute_result"
    }
   ],
   "source": [
    "tuple1"
   ]
  },
  {
   "cell_type": "code",
   "execution_count": 12,
   "id": "9e743583-1581-45c2-871c-cd4ab142f594",
   "metadata": {},
   "outputs": [
    {
     "data": {
      "text/plain": [
       "tuple"
      ]
     },
     "execution_count": 12,
     "metadata": {},
     "output_type": "execute_result"
    }
   ],
   "source": [
    "type(tuple1)"
   ]
  },
  {
   "cell_type": "code",
   "execution_count": 14,
   "id": "5480edb0-8e78-4109-ab9e-cbbcb09d85ca",
   "metadata": {},
   "outputs": [
    {
     "data": {
      "text/plain": [
       "9"
      ]
     },
     "execution_count": 14,
     "metadata": {},
     "output_type": "execute_result"
    }
   ],
   "source": [
    "tuple1[-1]"
   ]
  },
  {
   "cell_type": "code",
   "execution_count": 27,
   "id": "50ac4f54-ec90-4083-be1d-b7ff59cb870b",
   "metadata": {},
   "outputs": [
    {
     "name": "stdout",
     "output_type": "stream",
     "text": [
      "9 8\n"
     ]
    }
   ],
   "source": [
    "print(tuple1[-1],tuple1[0])"
   ]
  },
  {
   "cell_type": "code",
   "execution_count": 16,
   "id": "30f0e41f-1cec-4f69-9a35-60846825b389",
   "metadata": {},
   "outputs": [
    {
     "name": "stdout",
     "output_type": "stream",
     "text": [
      "[2.5, 9.2]\n"
     ]
    }
   ],
   "source": [
    "t1 = [2.5,9.2]\n",
    "print(t1)"
   ]
  },
  {
   "cell_type": "code",
   "execution_count": 34,
   "id": "8e4aeca9-d5eb-4cf6-afae-e079d0d255c7",
   "metadata": {},
   "outputs": [],
   "source": [
    "# Duplicate values in the tuple and tuple within the tuple\n",
    "tuple1 = (8, 4, 3.5, 2, 5, 4, 'tt', 2+3j, 9,(2,5,1),8)"
   ]
  },
  {
   "cell_type": "code",
   "execution_count": 38,
   "id": "4e013ce5-5860-4f2b-9613-188996c75cc6",
   "metadata": {},
   "outputs": [
    {
     "data": {
      "text/plain": [
       "(2+3j)"
      ]
     },
     "execution_count": 38,
     "metadata": {},
     "output_type": "execute_result"
    }
   ],
   "source": [
    "tuple1[-4]"
   ]
  },
  {
   "cell_type": "code",
   "execution_count": 50,
   "id": "da748005-47c0-4c32-b121-1b913c5818c8",
   "metadata": {},
   "outputs": [],
   "source": [
    "# Duplicate values and nested tuple with list\n",
    "tuple1 = (8, 4, 3.5, 2,[2.5,'kk'], 5, 4, 'tt', (2+3j), 9,(2,5,1),8)"
   ]
  },
  {
   "cell_type": "code",
   "execution_count": 52,
   "id": "d9b684d5-81bb-4a17-a4f8-b4f52858ebe6",
   "metadata": {},
   "outputs": [
    {
     "data": {
      "text/plain": [
       "(2+3j)"
      ]
     },
     "execution_count": 52,
     "metadata": {},
     "output_type": "execute_result"
    }
   ],
   "source": [
    "tuple1[-4]"
   ]
  },
  {
   "cell_type": "code",
   "execution_count": 54,
   "id": "19719d74-e091-46a1-bbf7-6f0ccddcd588",
   "metadata": {},
   "outputs": [
    {
     "data": {
      "text/plain": [
       "[2.5, 'kk']"
      ]
     },
     "execution_count": 54,
     "metadata": {},
     "output_type": "execute_result"
    }
   ],
   "source": [
    "tuple1[4]"
   ]
  },
  {
   "cell_type": "code",
   "execution_count": 56,
   "id": "090aece3-ea3f-4cac-bf44-36127b4edf0a",
   "metadata": {},
   "outputs": [
    {
     "data": {
      "text/plain": [
       "list"
      ]
     },
     "execution_count": 56,
     "metadata": {},
     "output_type": "execute_result"
    }
   ],
   "source": [
    "type(tuple1[4])"
   ]
  },
  {
   "cell_type": "code",
   "execution_count": 58,
   "id": "9373e8fa-b733-4e61-8c8b-5456f9d9556a",
   "metadata": {},
   "outputs": [
    {
     "data": {
      "text/plain": [
       "(2, 5, 1)"
      ]
     },
     "execution_count": 58,
     "metadata": {},
     "output_type": "execute_result"
    }
   ],
   "source": [
    "tuple1[-2]"
   ]
  },
  {
   "cell_type": "code",
   "execution_count": 60,
   "id": "a2e58b10-7daa-4ccf-809a-adbab17c5cc3",
   "metadata": {},
   "outputs": [
    {
     "data": {
      "text/plain": [
       "tuple"
      ]
     },
     "execution_count": 60,
     "metadata": {},
     "output_type": "execute_result"
    }
   ],
   "source": [
    "type(tuple1[-2])"
   ]
  },
  {
   "cell_type": "code",
   "execution_count": 40,
   "id": "7de9fcb6-e4dd-40d2-aa2f-07d20aa2a511",
   "metadata": {},
   "outputs": [
    {
     "ename": "TypeError",
     "evalue": "'tuple' object does not support item assignment",
     "output_type": "error",
     "traceback": [
      "\u001b[1;31m---------------------------------------------------------------------------\u001b[0m",
      "\u001b[1;31mTypeError\u001b[0m                                 Traceback (most recent call last)",
      "Cell \u001b[1;32mIn[40], line 3\u001b[0m\n\u001b[0;32m      1\u001b[0m \u001b[38;5;66;03m# Immutable - we cannot update values in tuple\u001b[39;00m\n\u001b[0;32m      2\u001b[0m \u001b[38;5;66;03m# update value 8 in last to 90\u001b[39;00m\n\u001b[1;32m----> 3\u001b[0m tuple1[\u001b[38;5;241m-\u001b[39m\u001b[38;5;241m1\u001b[39m]\u001b[38;5;241m=\u001b[39m\u001b[38;5;241m90\u001b[39m\n",
      "\u001b[1;31mTypeError\u001b[0m: 'tuple' object does not support item assignment"
     ]
    }
   ],
   "source": [
    "# Immutable - we cannot update values in tuple\n",
    "# update value 8 in last to 90\n",
    "tuple1[-1]=90"
   ]
  },
  {
   "cell_type": "code",
   "execution_count": 44,
   "id": "5bd55bb1-fbe8-41f5-ab73-c64df1f11448",
   "metadata": {},
   "outputs": [
    {
     "ename": "AttributeError",
     "evalue": "'tuple' object has no attribute 'append'",
     "output_type": "error",
     "traceback": [
      "\u001b[1;31m---------------------------------------------------------------------------\u001b[0m",
      "\u001b[1;31mAttributeError\u001b[0m                            Traceback (most recent call last)",
      "Cell \u001b[1;32mIn[44], line 4\u001b[0m\n\u001b[0;32m      2\u001b[0m t1\u001b[38;5;241m=\u001b[39m(\u001b[38;5;241m2\u001b[39m,\u001b[38;5;241m5\u001b[39m)\n\u001b[0;32m      3\u001b[0m t2\u001b[38;5;241m=\u001b[39m(\u001b[38;5;241m99\u001b[39m,\u001b[38;5;241m2.5\u001b[39m)\n\u001b[1;32m----> 4\u001b[0m t1\u001b[38;5;241m.\u001b[39mappend(t2)\n",
      "\u001b[1;31mAttributeError\u001b[0m: 'tuple' object has no attribute 'append'"
     ]
    }
   ],
   "source": [
    "# immutable \n",
    "t1=(2,5)\n",
    "t2=(99,2.5)\n",
    "t1.append(t2)"
   ]
  },
  {
   "cell_type": "code",
   "execution_count": 66,
   "id": "f9124935-a2aa-4007-9a93-d849cfc08be6",
   "metadata": {},
   "outputs": [
    {
     "name": "stdout",
     "output_type": "stream",
     "text": [
      "[4, 5, 6]\n",
      "<class 'list'>\n"
     ]
    }
   ],
   "source": [
    "# Tuple indexing and slicing\n",
    "t1 = (1,2,3,[4,5,6],(7,8,9))\n",
    "print(t1[3])\n",
    "print(type(t1[3]))"
   ]
  },
  {
   "cell_type": "code",
   "execution_count": 68,
   "id": "bd135d21-d593-4802-9201-b4dcf6839d01",
   "metadata": {},
   "outputs": [
    {
     "name": "stdout",
     "output_type": "stream",
     "text": [
      "(7, 8, 9)\n",
      "<class 'tuple'>\n"
     ]
    }
   ],
   "source": [
    "print(t1[-1])\n",
    "print(type(t1[-1]))"
   ]
  },
  {
   "cell_type": "code",
   "execution_count": 70,
   "id": "0a016d78-1e87-4399-8b12-f82604fefd86",
   "metadata": {},
   "outputs": [
    {
     "data": {
      "text/plain": [
       "5"
      ]
     },
     "execution_count": 70,
     "metadata": {},
     "output_type": "execute_result"
    }
   ],
   "source": [
    "# Retrieve value 5 from the list\n",
    "t1[3][1]"
   ]
  },
  {
   "cell_type": "code",
   "execution_count": 72,
   "id": "49cf38a9-b660-4f57-b7a0-ff2380c9349b",
   "metadata": {},
   "outputs": [
    {
     "data": {
      "text/plain": [
       "7"
      ]
     },
     "execution_count": 72,
     "metadata": {},
     "output_type": "execute_result"
    }
   ],
   "source": [
    "# Retrieve value 7 from the tuple using negative indexing\n",
    "t1[-1][-3]"
   ]
  },
  {
   "cell_type": "code",
   "execution_count": 74,
   "id": "8bda23ef-88f5-47a1-8389-bc46f45f413b",
   "metadata": {},
   "outputs": [
    {
     "data": {
      "text/plain": [
       "(1, 2, 3, [4, 5, 6])"
      ]
     },
     "execution_count": 74,
     "metadata": {},
     "output_type": "execute_result"
    }
   ],
   "source": [
    "# Slicing\n",
    "t1[0:4]"
   ]
  },
  {
   "cell_type": "code",
   "execution_count": 76,
   "id": "9d1cef3f-7ece-4f1e-876e-4f9619a66e32",
   "metadata": {},
   "outputs": [
    {
     "data": {
      "text/plain": [
       "(1, 3)"
      ]
     },
     "execution_count": 76,
     "metadata": {},
     "output_type": "execute_result"
    }
   ],
   "source": [
    "t1[0:4:2]"
   ]
  },
  {
   "cell_type": "code",
   "execution_count": 82,
   "id": "aa8528ec-d6ea-4042-b471-81c274af5c5e",
   "metadata": {},
   "outputs": [
    {
     "data": {
      "text/plain": [
       "(1, 2)"
      ]
     },
     "execution_count": 82,
     "metadata": {},
     "output_type": "execute_result"
    }
   ],
   "source": [
    "t1 = (1,2,3,[4,5,6],(7,8,9))\n",
    "t1[0:-3]"
   ]
  },
  {
   "cell_type": "code",
   "execution_count": 90,
   "id": "058fe177-7443-4bf0-8bc8-d268eed83fe8",
   "metadata": {},
   "outputs": [
    {
     "data": {
      "text/plain": [
       "(1,)"
      ]
     },
     "execution_count": 90,
     "metadata": {},
     "output_type": "execute_result"
    }
   ],
   "source": [
    "t1 = (1,2,3,[4,5,6],(7,8,9))\n",
    "t1[0:-4]"
   ]
  },
  {
   "cell_type": "code",
   "execution_count": 92,
   "id": "a0242251-7ce2-4964-9372-18a4aa06a680",
   "metadata": {},
   "outputs": [
    {
     "data": {
      "text/plain": [
       "()"
      ]
     },
     "execution_count": 92,
     "metadata": {},
     "output_type": "execute_result"
    }
   ],
   "source": [
    "t1 = (1,2,3,[4,5,6],(7,8,9))\n",
    "t1[-1:-4]\n",
    "# -1 to -4-1 >>> -1 till -5 with +ve increment >>> -1,0 till -5 cant reset"
   ]
  },
  {
   "cell_type": "code",
   "execution_count": 96,
   "id": "1fadf8de-832f-426c-bbc5-2c582b7d0a77",
   "metadata": {},
   "outputs": [
    {
     "data": {
      "text/plain": [
       "(1, 2)"
      ]
     },
     "execution_count": 96,
     "metadata": {},
     "output_type": "execute_result"
    }
   ],
   "source": [
    "t1 = (1,2,3,[4,5,6],(7,8,9))\n",
    "t1[-5:-3]\n",
    "# -5 till -3-1 >>> -5 till -4"
   ]
  },
  {
   "cell_type": "markdown",
   "id": "b8bc8626-ba28-4ddd-8200-f8404d6fc2c4",
   "metadata": {},
   "source": [
    "#### membership"
   ]
  },
  {
   "cell_type": "code",
   "execution_count": 99,
   "id": "6b07c277-79f6-4392-9c70-738c15bd1fdc",
   "metadata": {},
   "outputs": [],
   "source": [
    "t1 = (1,'kk',True,2+3j,99)"
   ]
  },
  {
   "cell_type": "code",
   "execution_count": 101,
   "id": "fed42613-1b1c-4d42-b98e-70a914c486f6",
   "metadata": {},
   "outputs": [
    {
     "data": {
      "text/plain": [
       "False"
      ]
     },
     "execution_count": 101,
     "metadata": {},
     "output_type": "execute_result"
    }
   ],
   "source": [
    "'kk' not in t1"
   ]
  },
  {
   "cell_type": "code",
   "execution_count": 103,
   "id": "2b3c847d-1335-442f-8dae-d40a92798afc",
   "metadata": {},
   "outputs": [
    {
     "data": {
      "text/plain": [
       "True"
      ]
     },
     "execution_count": 103,
     "metadata": {},
     "output_type": "execute_result"
    }
   ],
   "source": [
    "2+3j in t1"
   ]
  },
  {
   "cell_type": "code",
   "execution_count": 105,
   "id": "096a8a70-6264-4c19-9a04-fe37da90ba75",
   "metadata": {},
   "outputs": [
    {
     "data": {
      "text/plain": [
       "True"
      ]
     },
     "execution_count": 105,
     "metadata": {},
     "output_type": "execute_result"
    }
   ],
   "source": [
    "99 in t1"
   ]
  },
  {
   "cell_type": "code",
   "execution_count": 121,
   "id": "7e4dfaf2-3814-4bdd-a4fb-abf40dcb9956",
   "metadata": {},
   "outputs": [
    {
     "data": {
      "text/plain": [
       "[1, 2, 3, 4, 5]"
      ]
     },
     "execution_count": 121,
     "metadata": {},
     "output_type": "execute_result"
    }
   ],
   "source": [
    "# Create a list of 5 integers and add 3 integers to the list, remove the last element\n",
    "l1 = [1,2,3,4,5]\n",
    "l1"
   ]
  },
  {
   "cell_type": "code",
   "execution_count": 123,
   "id": "c04c1664-2b34-432b-aa8c-55e744556884",
   "metadata": {},
   "outputs": [
    {
     "data": {
      "text/plain": [
       "[1, 2, 3, 4, 5, 9, 11, 12]"
      ]
     },
     "execution_count": 123,
     "metadata": {},
     "output_type": "execute_result"
    }
   ],
   "source": [
    "l1.extend([9,11,12])\n",
    "l1"
   ]
  },
  {
   "cell_type": "code",
   "execution_count": 127,
   "id": "00a7a604-15b8-4913-8ad0-77aa74a5a039",
   "metadata": {},
   "outputs": [
    {
     "data": {
      "text/plain": [
       "12"
      ]
     },
     "execution_count": 127,
     "metadata": {},
     "output_type": "execute_result"
    }
   ],
   "source": [
    "l1.pop()"
   ]
  },
  {
   "cell_type": "code",
   "execution_count": 34,
   "id": "a6202958-78a3-46f1-9d9f-f698a93add33",
   "metadata": {},
   "outputs": [
    {
     "ename": "AttributeError",
     "evalue": "'tuple' object has no attribute 'append'",
     "output_type": "error",
     "traceback": [
      "\u001b[1;31m---------------------------------------------------------------------------\u001b[0m",
      "\u001b[1;31mAttributeError\u001b[0m                            Traceback (most recent call last)",
      "Cell \u001b[1;32mIn[34], line 2\u001b[0m\n\u001b[0;32m      1\u001b[0m t1 \u001b[38;5;241m=\u001b[39m (\u001b[38;5;241m1\u001b[39m,\u001b[38;5;241m2\u001b[39m,\u001b[38;5;241m4\u001b[39m,\u001b[38;5;241m1\u001b[39m,\u001b[38;5;241m5\u001b[39m,\u001b[38;5;28;01mTrue\u001b[39;00m)\n\u001b[1;32m----> 2\u001b[0m t1\u001b[38;5;241m.\u001b[39mappend(\u001b[38;5;241m9\u001b[39m)\n",
      "\u001b[1;31mAttributeError\u001b[0m: 'tuple' object has no attribute 'append'"
     ]
    }
   ],
   "source": [
    "t1 = (1,2,4,1,5,True)\n",
    "t1.append(9)"
   ]
  },
  {
   "cell_type": "code",
   "execution_count": 36,
   "id": "2164b928-b3e2-4704-83cc-5f4f3f439534",
   "metadata": {},
   "outputs": [
    {
     "ename": "AttributeError",
     "evalue": "'tuple' object has no attribute 'extend'",
     "output_type": "error",
     "traceback": [
      "\u001b[1;31m---------------------------------------------------------------------------\u001b[0m",
      "\u001b[1;31mAttributeError\u001b[0m                            Traceback (most recent call last)",
      "Cell \u001b[1;32mIn[36], line 2\u001b[0m\n\u001b[0;32m      1\u001b[0m t1 \u001b[38;5;241m=\u001b[39m (\u001b[38;5;241m1\u001b[39m,\u001b[38;5;241m2\u001b[39m,\u001b[38;5;241m4\u001b[39m,\u001b[38;5;241m1\u001b[39m,\u001b[38;5;241m5\u001b[39m,\u001b[38;5;28;01mTrue\u001b[39;00m)\n\u001b[1;32m----> 2\u001b[0m t1\u001b[38;5;241m.\u001b[39mextend(\u001b[38;5;241m9\u001b[39m)\n",
      "\u001b[1;31mAttributeError\u001b[0m: 'tuple' object has no attribute 'extend'"
     ]
    }
   ],
   "source": [
    "t1 = (1,2,4,1,5,True)\n",
    "t1.extend(9)"
   ]
  },
  {
   "cell_type": "code",
   "execution_count": 38,
   "id": "c123e365-2e8b-4a6c-8dcb-d4179e725591",
   "metadata": {},
   "outputs": [
    {
     "ename": "AttributeError",
     "evalue": "'tuple' object has no attribute 'insert'",
     "output_type": "error",
     "traceback": [
      "\u001b[1;31m---------------------------------------------------------------------------\u001b[0m",
      "\u001b[1;31mAttributeError\u001b[0m                            Traceback (most recent call last)",
      "Cell \u001b[1;32mIn[38], line 2\u001b[0m\n\u001b[0;32m      1\u001b[0m t1 \u001b[38;5;241m=\u001b[39m (\u001b[38;5;241m1\u001b[39m,\u001b[38;5;241m2\u001b[39m,\u001b[38;5;241m4\u001b[39m,\u001b[38;5;241m1\u001b[39m,\u001b[38;5;241m5\u001b[39m,\u001b[38;5;28;01mTrue\u001b[39;00m)\n\u001b[1;32m----> 2\u001b[0m t1\u001b[38;5;241m.\u001b[39minsert(\u001b[38;5;241m1\u001b[39m,\u001b[38;5;241m9\u001b[39m)\n",
      "\u001b[1;31mAttributeError\u001b[0m: 'tuple' object has no attribute 'insert'"
     ]
    }
   ],
   "source": [
    "t1 = (1,2,4,1,5,True)\n",
    "t1.insert(1,9)"
   ]
  },
  {
   "cell_type": "code",
   "execution_count": 40,
   "id": "762e8fd0-705c-456e-a18e-011ea044e6c9",
   "metadata": {},
   "outputs": [
    {
     "ename": "AttributeError",
     "evalue": "'tuple' object has no attribute 'pop'",
     "output_type": "error",
     "traceback": [
      "\u001b[1;31m---------------------------------------------------------------------------\u001b[0m",
      "\u001b[1;31mAttributeError\u001b[0m                            Traceback (most recent call last)",
      "Cell \u001b[1;32mIn[40], line 1\u001b[0m\n\u001b[1;32m----> 1\u001b[0m t1\u001b[38;5;241m.\u001b[39mpop()\n",
      "\u001b[1;31mAttributeError\u001b[0m: 'tuple' object has no attribute 'pop'"
     ]
    }
   ],
   "source": [
    "t1.pop()"
   ]
  },
  {
   "cell_type": "code",
   "execution_count": 42,
   "id": "f99f75d9-fa35-48e6-ac09-355fe36237fb",
   "metadata": {},
   "outputs": [
    {
     "ename": "AttributeError",
     "evalue": "'tuple' object has no attribute 'remove'",
     "output_type": "error",
     "traceback": [
      "\u001b[1;31m---------------------------------------------------------------------------\u001b[0m",
      "\u001b[1;31mAttributeError\u001b[0m                            Traceback (most recent call last)",
      "Cell \u001b[1;32mIn[42], line 1\u001b[0m\n\u001b[1;32m----> 1\u001b[0m t1\u001b[38;5;241m.\u001b[39mremove(\u001b[38;5;241m1\u001b[39m)\n",
      "\u001b[1;31mAttributeError\u001b[0m: 'tuple' object has no attribute 'remove'"
     ]
    }
   ],
   "source": [
    "t1.remove(1)"
   ]
  },
  {
   "cell_type": "code",
   "execution_count": 44,
   "id": "93ab56b5-61ef-418e-b5e4-2155f17dc154",
   "metadata": {},
   "outputs": [
    {
     "ename": "AttributeError",
     "evalue": "'tuple' object has no attribute 'clear'",
     "output_type": "error",
     "traceback": [
      "\u001b[1;31m---------------------------------------------------------------------------\u001b[0m",
      "\u001b[1;31mAttributeError\u001b[0m                            Traceback (most recent call last)",
      "Cell \u001b[1;32mIn[44], line 1\u001b[0m\n\u001b[1;32m----> 1\u001b[0m t1\u001b[38;5;241m.\u001b[39mclear()\n",
      "\u001b[1;31mAttributeError\u001b[0m: 'tuple' object has no attribute 'clear'"
     ]
    }
   ],
   "source": [
    "t1.clear()"
   ]
  },
  {
   "cell_type": "code",
   "execution_count": 50,
   "id": "f6b7b456-3a4a-4105-9192-9e76a38ddfb4",
   "metadata": {},
   "outputs": [],
   "source": [
    "t1 = (1,2,4,1,5,True)\n",
    "del t1"
   ]
  },
  {
   "cell_type": "code",
   "execution_count": 53,
   "id": "341ffc49-2896-4c4d-9c13-621fb5c8fa8b",
   "metadata": {},
   "outputs": [
    {
     "ename": "NameError",
     "evalue": "name 't1' is not defined",
     "output_type": "error",
     "traceback": [
      "\u001b[1;31m---------------------------------------------------------------------------\u001b[0m",
      "\u001b[1;31mNameError\u001b[0m                                 Traceback (most recent call last)",
      "Cell \u001b[1;32mIn[53], line 1\u001b[0m\n\u001b[1;32m----> 1\u001b[0m t1\n",
      "\u001b[1;31mNameError\u001b[0m: name 't1' is not defined"
     ]
    }
   ],
   "source": [
    "t1"
   ]
  },
  {
   "cell_type": "markdown",
   "id": "a0d31281-d87f-46b3-abca-bbfa8d6be873",
   "metadata": {},
   "source": [
    "t1"
   ]
  },
  {
   "cell_type": "code",
   "execution_count": 62,
   "id": "d01da9a1-12f3-420f-a754-dbf602091d12",
   "metadata": {},
   "outputs": [
    {
     "data": {
      "text/plain": [
       "2"
      ]
     },
     "execution_count": 62,
     "metadata": {},
     "output_type": "execute_result"
    }
   ],
   "source": [
    "t1 = (1,2,3,4,5,1,'kk','kumar','kk')\n",
    "t1.count(1)"
   ]
  },
  {
   "cell_type": "code",
   "execution_count": 64,
   "id": "d6bf7c26-8fd9-476b-83c0-5247a6f9ce60",
   "metadata": {},
   "outputs": [
    {
     "data": {
      "text/plain": [
       "9"
      ]
     },
     "execution_count": 64,
     "metadata": {},
     "output_type": "execute_result"
    }
   ],
   "source": [
    "len(t1)"
   ]
  },
  {
   "cell_type": "code",
   "execution_count": 66,
   "id": "83f163a2-c007-48a0-8620-172ddca4365a",
   "metadata": {},
   "outputs": [
    {
     "data": {
      "text/plain": [
       "1"
      ]
     },
     "execution_count": 66,
     "metadata": {},
     "output_type": "execute_result"
    }
   ],
   "source": [
    "t1.count(2)"
   ]
  },
  {
   "cell_type": "code",
   "execution_count": 70,
   "id": "76b53624-433b-4633-8337-329ce8d8afdd",
   "metadata": {},
   "outputs": [
    {
     "data": {
      "text/plain": [
       "2"
      ]
     },
     "execution_count": 70,
     "metadata": {},
     "output_type": "execute_result"
    }
   ],
   "source": [
    "t1.count('kk')"
   ]
  },
  {
   "cell_type": "code",
   "execution_count": 72,
   "id": "6c95d5a0-28c4-4e8b-afd0-f78ba0c0a095",
   "metadata": {},
   "outputs": [
    {
     "data": {
      "text/plain": [
       "6"
      ]
     },
     "execution_count": 72,
     "metadata": {},
     "output_type": "execute_result"
    }
   ],
   "source": [
    "t1.index('kk')"
   ]
  },
  {
   "cell_type": "code",
   "execution_count": 91,
   "id": "02ebdbf6-59e2-4d30-aee0-b1edcf22957f",
   "metadata": {},
   "outputs": [
    {
     "name": "stdout",
     "output_type": "stream",
     "text": [
      "False\n",
      "True\n"
     ]
    }
   ],
   "source": [
    "t1 = (1,2,3,4,5,1,'kk','kumar','kk',False)\n",
    "\n",
    "print(all(t1))\n",
    "print(any(t1))"
   ]
  },
  {
   "cell_type": "markdown",
   "id": "e760e34b-bc2b-4f30-ae5f-3ad6a52ae90a",
   "metadata": {},
   "source": [
    "### sorted function"
   ]
  },
  {
   "cell_type": "code",
   "execution_count": 96,
   "id": "daccfec9-8bac-4bb2-8c15-1ce8cc60f040",
   "metadata": {},
   "outputs": [
    {
     "data": {
      "text/plain": [
       "[-1, 0, 2.5, 4, 9]"
      ]
     },
     "execution_count": 96,
     "metadata": {},
     "output_type": "execute_result"
    }
   ],
   "source": [
    "t1 = (4,2.5,9,-1,0)\n",
    "sorted(t1)"
   ]
  },
  {
   "cell_type": "code",
   "execution_count": 98,
   "id": "d62e94df-9411-43f1-9527-0b1ea0fb5185",
   "metadata": {},
   "outputs": [
    {
     "data": {
      "text/plain": [
       "[9, 4, 2.5, 0, -1]"
      ]
     },
     "execution_count": 98,
     "metadata": {},
     "output_type": "execute_result"
    }
   ],
   "source": [
    "sorted(t1,reverse=True)"
   ]
  },
  {
   "cell_type": "code",
   "execution_count": 100,
   "id": "de68b228-a259-41d5-a5c9-cdf3ee69cd37",
   "metadata": {},
   "outputs": [
    {
     "ename": "AttributeError",
     "evalue": "'tuple' object has no attribute 'sort'",
     "output_type": "error",
     "traceback": [
      "\u001b[1;31m---------------------------------------------------------------------------\u001b[0m",
      "\u001b[1;31mAttributeError\u001b[0m                            Traceback (most recent call last)",
      "Cell \u001b[1;32mIn[100], line 1\u001b[0m\n\u001b[1;32m----> 1\u001b[0m t1\u001b[38;5;241m.\u001b[39msort()\n",
      "\u001b[1;31mAttributeError\u001b[0m: 'tuple' object has no attribute 'sort'"
     ]
    }
   ],
   "source": [
    "t1.sort()"
   ]
  },
  {
   "cell_type": "code",
   "execution_count": 102,
   "id": "afe0755d-5e26-43f0-939d-7f4a18080a73",
   "metadata": {},
   "outputs": [
    {
     "ename": "AttributeError",
     "evalue": "'tuple' object has no attribute 'reverse'",
     "output_type": "error",
     "traceback": [
      "\u001b[1;31m---------------------------------------------------------------------------\u001b[0m",
      "\u001b[1;31mAttributeError\u001b[0m                            Traceback (most recent call last)",
      "Cell \u001b[1;32mIn[102], line 1\u001b[0m\n\u001b[1;32m----> 1\u001b[0m t1\u001b[38;5;241m.\u001b[39mreverse()\n",
      "\u001b[1;31mAttributeError\u001b[0m: 'tuple' object has no attribute 'reverse'"
     ]
    }
   ],
   "source": [
    "t1.reverse()"
   ]
  },
  {
   "cell_type": "code",
   "execution_count": null,
   "id": "3819ffc5-ca3b-481b-ae54-f0fd43b8e884",
   "metadata": {},
   "outputs": [],
   "source": []
  }
 ],
 "metadata": {
  "kernelspec": {
   "display_name": "Python [conda env:base] *",
   "language": "python",
   "name": "conda-base-py"
  },
  "language_info": {
   "codemirror_mode": {
    "name": "ipython",
    "version": 3
   },
   "file_extension": ".py",
   "mimetype": "text/x-python",
   "name": "python",
   "nbconvert_exporter": "python",
   "pygments_lexer": "ipython3",
   "version": "3.12.7"
  }
 },
 "nbformat": 4,
 "nbformat_minor": 5
}
