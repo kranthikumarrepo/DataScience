{
 "cells": [
  {
   "cell_type": "markdown",
   "id": "d6837c83-600b-4f32-b447-eaa289366c6b",
   "metadata": {},
   "source": [
    "#### Dictionary\n",
    "- Elements containing <b>key-value pair</b>. Data remains in the same order as we enter.\n",
    "- Represented within {}\n",
    "- <b>Syntax:</b> {key1:value1,key2:value2}\n",
    "- <b>Indexed </b> i.e. We can access individual elements using <b>keys.\n",
    "- <b>Can contain heterogenous</b> data, can have all types in both keys and values. <b>Note: </b> in case of True/1 or False/0 as key, there might be ambiguity, preference is given to boolean i.e. True/False. Example: if key is 1/True and while indexing if we give [1] or [True] >>> value is taken from boolean key\n",
    "- Dictionary can contain lists, tuple, set, dictionary\n",
    "- <b>Allows duplicate</b> values, but with different keys. i.e. dictionary can have duplicate elements in values, but not in keys.\n",
    "- <b>Mutable</b> - values <b>can</b> be updated (added or removed) after it has been created. We can use indexing by using keys to update the values.\n",
    "- Example: dict_var_name[key] = new_value"
   ]
  },
  {
   "cell_type": "markdown",
   "id": "0a147fc4-ca45-428f-8a21-ba06c205a259",
   "metadata": {},
   "source": [
    "#### Functions on Dictionary\n",
    "- Functions on dictionary >>> get, keys, values, update, pop, popitem, clear, del, len, in, not in, all, any\n",
    "- Cannot be used >>> append, extend, insert, remove, count, index, sort, reverse"
   ]
  },
  {
   "cell_type": "code",
   "execution_count": 19,
   "id": "ff4fbf03-05c1-493e-9651-ce6cc7b17389",
   "metadata": {},
   "outputs": [],
   "source": [
    "# Create empty dictionary \n",
    "d1={}"
   ]
  },
  {
   "cell_type": "code",
   "execution_count": 21,
   "id": "4707c16d-7c31-4d72-aa9c-900f7c3f36ce",
   "metadata": {},
   "outputs": [
    {
     "data": {
      "text/plain": [
       "{}"
      ]
     },
     "execution_count": 21,
     "metadata": {},
     "output_type": "execute_result"
    }
   ],
   "source": [
    "d1"
   ]
  },
  {
   "cell_type": "code",
   "execution_count": 23,
   "id": "e3b61230-4eb2-4a6a-a8f0-ebc6aefdc0a6",
   "metadata": {},
   "outputs": [
    {
     "data": {
      "text/plain": [
       "dict"
      ]
     },
     "execution_count": 23,
     "metadata": {},
     "output_type": "execute_result"
    }
   ],
   "source": [
    "type(d1)"
   ]
  },
  {
   "cell_type": "code",
   "execution_count": 54,
   "id": "870a161e-6ab5-4990-9b0c-4289dac57fb3",
   "metadata": {},
   "outputs": [],
   "source": [
    "# Simple key value dictionary \n",
    "\n",
    "d2={1:'one',2:'two',3:'three'}"
   ]
  },
  {
   "cell_type": "code",
   "execution_count": 27,
   "id": "9ca9268c-3253-4d06-a13b-f13cc6efce21",
   "metadata": {},
   "outputs": [
    {
     "data": {
      "text/plain": [
       "{1: 'one', 2: 'two', 3: 'three'}"
      ]
     },
     "execution_count": 27,
     "metadata": {},
     "output_type": "execute_result"
    }
   ],
   "source": [
    "d2"
   ]
  },
  {
   "cell_type": "code",
   "execution_count": 79,
   "id": "0f2b851a-d3b3-465b-be9e-d0a78169818b",
   "metadata": {},
   "outputs": [],
   "source": [
    "# Create heterogenus dictionary with different combinations of keys and values\n",
    "\n",
    "d3={1:'one',2:'two',-1:'negative',1.4:'float','six':200,2+3j:'complex',True:'booleanTrue',0:'Zero','complex':3+1j,'boolean':False,False:'Falseboolean'}"
   ]
  },
  {
   "cell_type": "code",
   "execution_count": 81,
   "id": "4ac5f88b-8caa-4102-95dd-ca46be5579da",
   "metadata": {},
   "outputs": [
    {
     "name": "stdout",
     "output_type": "stream",
     "text": [
      "booleanTrue\n",
      "negative\n",
      "float\n",
      "200\n",
      "complex\n",
      "booleanTrue\n",
      "(3+1j)\n",
      "False\n",
      "Falseboolean\n"
     ]
    }
   ],
   "source": [
    "print(d3[1])\n",
    "print(d3[-1])\n",
    "print(d3[1.4])\n",
    "print(d3['six'])\n",
    "print(d3[2+3j])\n",
    "print(d3[True])\n",
    "print(d3['complex'])\n",
    "print(d3['boolean'])\n",
    "print(d3[False])"
   ]
  },
  {
   "cell_type": "code",
   "execution_count": 149,
   "id": "15608cfb-25b1-4b0e-9094-181b4c8b7d09",
   "metadata": {},
   "outputs": [],
   "source": [
    "# Create heterogenus dictionary with lists, tuple, set, dictionary\n",
    "\n",
    "d4={1:'one',2:'two','L':[9,1,0],'T':(3,2,0),'S':{3,2,99},'D':{99:'NineNine',1:'One'}}"
   ]
  },
  {
   "cell_type": "code",
   "execution_count": 105,
   "id": "80cf58e1-9ecd-499d-b5fe-3ac92fb1ed22",
   "metadata": {},
   "outputs": [
    {
     "name": "stdout",
     "output_type": "stream",
     "text": [
      "Normal key value pair  two\n",
      "List key value pair  [9, 1, 0]\n",
      "Tuple key value pair  (3, 2, 0)\n",
      "Set key value pair  {3, 2, 99}\n",
      "Dictionary key value pair  {99: 'NineNine', 1: 'One'}\n"
     ]
    }
   ],
   "source": [
    "print('Normal key value pair ', d4[2])\n",
    "print('List key value pair ', d4['L'])\n",
    "print('Tuple key value pair ', d4['T'])\n",
    "print('Set key value pair ', d4['S'])\n",
    "print('Dictionary key value pair ', d4['D'])"
   ]
  },
  {
   "cell_type": "code",
   "execution_count": 109,
   "id": "3f0c7322-8be1-4489-90c0-17c9cdf1aaa3",
   "metadata": {},
   "outputs": [
    {
     "data": {
      "text/plain": [
       "1"
      ]
     },
     "execution_count": 109,
     "metadata": {},
     "output_type": "execute_result"
    }
   ],
   "source": [
    "d4['L'][1]"
   ]
  },
  {
   "cell_type": "code",
   "execution_count": 111,
   "id": "0c684d68-2c77-4e4a-abf1-c62c0c4b4294",
   "metadata": {},
   "outputs": [
    {
     "data": {
      "text/plain": [
       "3"
      ]
     },
     "execution_count": 111,
     "metadata": {},
     "output_type": "execute_result"
    }
   ],
   "source": [
    "d4['T'][0]"
   ]
  },
  {
   "cell_type": "code",
   "execution_count": 113,
   "id": "0f2faeb1-cbd5-408e-b9bc-7f71393c61e5",
   "metadata": {},
   "outputs": [
    {
     "data": {
      "text/plain": [
       "{2, 3, 99}"
      ]
     },
     "execution_count": 113,
     "metadata": {},
     "output_type": "execute_result"
    }
   ],
   "source": [
    "d4['S']"
   ]
  },
  {
   "cell_type": "code",
   "execution_count": 115,
   "id": "d13d8119-0815-4056-bba3-b9e3fad49d7c",
   "metadata": {},
   "outputs": [
    {
     "ename": "TypeError",
     "evalue": "'set' object is not subscriptable",
     "output_type": "error",
     "traceback": [
      "\u001b[1;31m---------------------------------------------------------------------------\u001b[0m",
      "\u001b[1;31mTypeError\u001b[0m                                 Traceback (most recent call last)",
      "Cell \u001b[1;32mIn[115], line 3\u001b[0m\n\u001b[0;32m      1\u001b[0m \u001b[38;5;66;03m# Error as we cannot access individual elements of a set\u001b[39;00m\n\u001b[1;32m----> 3\u001b[0m d4[\u001b[38;5;124m'\u001b[39m\u001b[38;5;124mS\u001b[39m\u001b[38;5;124m'\u001b[39m][\u001b[38;5;241m2\u001b[39m]\n",
      "\u001b[1;31mTypeError\u001b[0m: 'set' object is not subscriptable"
     ]
    }
   ],
   "source": [
    "# Error as we cannot access individual elements of a set\n",
    "\n",
    "d4['S'][2]"
   ]
  },
  {
   "cell_type": "code",
   "execution_count": 153,
   "id": "f0abb56c-09a9-4209-a3e8-ae910e7c7b0e",
   "metadata": {},
   "outputs": [],
   "source": [
    "# Create dictionary inside a list\n",
    "# Access Hyderabad using nested indexing\n",
    "\n",
    "d4=[0,1,2,3,[5,6,{'B':'Bangalore','H':'Hyderabad'}]]"
   ]
  },
  {
   "cell_type": "code",
   "execution_count": 155,
   "id": "2f682ef6-0f8e-4b13-b556-5556eb637f09",
   "metadata": {},
   "outputs": [
    {
     "name": "stdout",
     "output_type": "stream",
     "text": [
      "[0, 1, 2, 3, [5, 6, {'B': 'Bangalore', 'H': 'Hyderabad'}]]\n",
      "[5, 6, {'B': 'Bangalore', 'H': 'Hyderabad'}]\n",
      "{'B': 'Bangalore', 'H': 'Hyderabad'}\n",
      "Hyderabad\n"
     ]
    }
   ],
   "source": [
    "print(d4)\n",
    "print(d4[4])\n",
    "print(d4[4][2])\n",
    "print(d4[4][2]['H'])"
   ]
  },
  {
   "cell_type": "markdown",
   "id": "cccdd311-e3be-448e-83b3-be6764973625",
   "metadata": {},
   "source": [
    "#### Dictionary functions\n",
    "- Functions like append, extend, insert, remove, count, index, sort, reverse cannot be used on dictionary\n",
    "- \n",
    "- get() - Returns the value given for a specific key, if the key is not present in dictionary, returns the default value given in second argument.\n",
    "- Syntax1 - dictionary_var_name.get(key)\n",
    "- Syntax2 - dictionary_var_name.get(key,default_value)\n",
    "- .\n",
    "- keys() - Returns all the keys of the dictionary\n",
    "- Synatx - dictionary_var_name.keys()\n",
    "- .\n",
    "- values() - Returns all the values of the dictionary\n",
    "- Syntax - dictionary_var_name.values()\n",
    "- .\n",
    "- update() - Used to add a new key value pair or update existing value in dictionary. We also add or update using indexing. We can update multiple key value pairs at once.\n",
    "- Syntax - dictionary_var_name.update(key1:value1,key2:value2,....)\n",
    "- Note: Using indexing, we can only add or update one key/value at a time, hence use update() function for adding/updating multiple elements.\n",
    "- \n",
    "- pop() - removes specified key and returns its value. If the given key is not present, throws error.\n",
    "- At least one key (argument) must be given, otherwise throws error.\n",
    "- We can give multiple keys, but only the first key value pair is deleted.\n",
    "- Synatx - dictionary_var_name.pop(key)\n",
    "- \n",
    "- popitem() - removes and returns the most recently inserted key-value pair as a tuple. It operates on a Last-In-First-Out (LIFO) principle. \n",
    "-     If the dictionary is empty, calling popitem() raises a KeyError\n",
    "- Synatx - dictionary_var_name.popitem()\n",
    "- Note:- It doesn't take any arguments. i.e. dictionary_var_name.popitem('key') >>> Throws error.\n",
    "- \n",
    "- clear() - To clear (delete all the elements) of the dictionary at one go. Does not accept any argument/value/index.\n",
    "- Syntax - dictionary_var_name.clear()\n",
    "- .\n",
    "- del() - To delete the dictionary variable. Once deleted, the dictionary variable cannot be accessed again.\n",
    "- Syntax - del dictionary_var_name\n",
    "- \n",
    "- len() - To count the total number of key/values in the dictionary.\n",
    "- Syntax - len(dictionary_var_name)\n",
    "- \n",
    "- Membership >>> IN and NOT IN >>> We can check only if for keys. i.e. key is present or not in the dictionary, cannot check for values.\n",
    "- Syntax - key in dictionary_var_name\n",
    "- \n",
    "- all and any are not throwing error, but always returning True\n",
    "- all() - returns True if all the elements of the dictionary are ture (non zero)\n",
    "- Syntax - all(dictionary_var_name)\n",
    "- \n",
    "- any() - returns True if any of the elements in the dictionary are true (non zero)\n",
    "- Syntax - any(list_variable_name)"
   ]
  },
  {
   "cell_type": "code",
   "execution_count": 356,
   "id": "bb553bcf-48f2-4cc9-9fe0-d5904253700b",
   "metadata": {},
   "outputs": [
    {
     "ename": "AttributeError",
     "evalue": "'dict' object has no attribute 'remove'",
     "output_type": "error",
     "traceback": [
      "\u001b[1;31m---------------------------------------------------------------------------\u001b[0m",
      "\u001b[1;31mAttributeError\u001b[0m                            Traceback (most recent call last)",
      "Cell \u001b[1;32mIn[356], line 4\u001b[0m\n\u001b[0;32m      1\u001b[0m \u001b[38;5;66;03m# Functions like append, extend, insert, remove, count, index, sort, reverse cannot be used on dictionary\u001b[39;00m\n\u001b[0;32m      3\u001b[0m car \u001b[38;5;241m=\u001b[39m {\u001b[38;5;124m\"\u001b[39m\u001b[38;5;124mbrand\u001b[39m\u001b[38;5;124m\"\u001b[39m: \u001b[38;5;124m\"\u001b[39m\u001b[38;5;124mFord\u001b[39m\u001b[38;5;124m\"\u001b[39m, \u001b[38;5;124m\"\u001b[39m\u001b[38;5;124mmodel\u001b[39m\u001b[38;5;124m\"\u001b[39m: \u001b[38;5;124m\"\u001b[39m\u001b[38;5;124mMustang\u001b[39m\u001b[38;5;124m\"\u001b[39m, \u001b[38;5;124m\"\u001b[39m\u001b[38;5;124myear\u001b[39m\u001b[38;5;124m\"\u001b[39m: \u001b[38;5;241m1964\u001b[39m}\n\u001b[1;32m----> 4\u001b[0m car\u001b[38;5;241m.\u001b[39mremove(\u001b[38;5;124m'\u001b[39m\u001b[38;5;124mtest\u001b[39m\u001b[38;5;124m'\u001b[39m)\n",
      "\u001b[1;31mAttributeError\u001b[0m: 'dict' object has no attribute 'remove'"
     ]
    }
   ],
   "source": [
    "# Functions like append, extend, insert, remove, count, index, sort, reverse cannot be used on dictionary\n",
    "\n",
    "car = {\"brand\": \"Ford\", \"model\": \"Mustang\", \"year\": 1964}\n",
    "car.remove('test')"
   ]
  },
  {
   "cell_type": "code",
   "execution_count": 306,
   "id": "1b431163-513b-4111-b2d4-61f57748f894",
   "metadata": {},
   "outputs": [
    {
     "data": {
      "text/plain": [
       "3"
      ]
     },
     "execution_count": 306,
     "metadata": {},
     "output_type": "execute_result"
    }
   ],
   "source": [
    "# len() function \n",
    "# Calculate total key/value pairs in the below dictionary \n",
    "\n",
    "car = {\"brand\": \"Ford\", \"model\": \"Mustang\", \"year\": 1964}\n",
    "len(car)"
   ]
  },
  {
   "cell_type": "code",
   "execution_count": 338,
   "id": "066337bf-a1b2-49d7-9cf8-96942ed844d3",
   "metadata": {},
   "outputs": [
    {
     "data": {
      "text/plain": [
       "True"
      ]
     },
     "execution_count": 338,
     "metadata": {},
     "output_type": "execute_result"
    }
   ],
   "source": [
    "car = {\"brand\": \"Ford\", \"model\": \"Mustang\", \"year\": 1964}\n",
    "\"model\" in car"
   ]
  },
  {
   "cell_type": "code",
   "execution_count": 340,
   "id": "0a2fa057-e9f5-471d-870b-6447f411bc1f",
   "metadata": {},
   "outputs": [
    {
     "data": {
      "text/plain": [
       "False"
      ]
     },
     "execution_count": 340,
     "metadata": {},
     "output_type": "execute_result"
    }
   ],
   "source": [
    "car = {\"brand\": \"Ford\", \"model\": \"Mustang\", \"year\": 1964}\n",
    "\"simple\" in car"
   ]
  },
  {
   "cell_type": "code",
   "execution_count": 342,
   "id": "70a75988-c8c4-4812-a5fb-6d3a809e3eec",
   "metadata": {},
   "outputs": [
    {
     "data": {
      "text/plain": [
       "False"
      ]
     },
     "execution_count": 342,
     "metadata": {},
     "output_type": "execute_result"
    }
   ],
   "source": [
    "car = {\"brand\": \"Ford\", \"model\": \"Mustang\", \"year\": 1964}\n",
    "\"Ford\" in car"
   ]
  },
  {
   "cell_type": "code",
   "execution_count": 346,
   "id": "031e0390-52cf-4aa1-a7ba-97945adee2d4",
   "metadata": {},
   "outputs": [
    {
     "data": {
      "text/plain": [
       "False"
      ]
     },
     "execution_count": 346,
     "metadata": {},
     "output_type": "execute_result"
    }
   ],
   "source": [
    "car = {\"brand\": \"Ford\", \"model\": \"Mustang\", \"year\": 1964}\n",
    "1964 in car"
   ]
  },
  {
   "cell_type": "code",
   "execution_count": 348,
   "id": "92d4360d-b53a-40e7-b14d-673e2cfe08ab",
   "metadata": {},
   "outputs": [
    {
     "data": {
      "text/plain": [
       "False"
      ]
     },
     "execution_count": 348,
     "metadata": {},
     "output_type": "execute_result"
    }
   ],
   "source": [
    "car = {\"brand\": \"Ford\", \"model\": \"Mustang\", \"year\": 1964}\n",
    "\"year\" not in car"
   ]
  },
  {
   "cell_type": "code",
   "execution_count": 350,
   "id": "4f65aee5-50fc-4ff2-818d-60ce1bfea215",
   "metadata": {},
   "outputs": [
    {
     "data": {
      "text/plain": [
       "True"
      ]
     },
     "execution_count": 350,
     "metadata": {},
     "output_type": "execute_result"
    }
   ],
   "source": [
    "car = {\"brand\": \"Ford\", \"model\": \"Mustang\", \"year\": 1964}\n",
    "\"year\" in car"
   ]
  },
  {
   "cell_type": "code",
   "execution_count": 334,
   "id": "89d6b230-ebfc-41e0-9aef-9c24e5715f92",
   "metadata": {},
   "outputs": [
    {
     "name": "stdout",
     "output_type": "stream",
     "text": [
      "True\n",
      "True\n",
      "True\n",
      "True\n"
     ]
    }
   ],
   "source": [
    "# all and any functions.\n",
    "\n",
    "car1 = {\"brand\": \"Ford\", \"model\": \"Mustang\", \"year\": 1964,\"dt\":0}\n",
    "print(all(car))\n",
    "print(any(car))\n",
    "\n",
    "car2 = {}\n",
    "print(all(car))\n",
    "print(any(car))"
   ]
  },
  {
   "cell_type": "code",
   "execution_count": 312,
   "id": "5eb0b89a-4255-4c58-afa9-211940f0b1fb",
   "metadata": {},
   "outputs": [
    {
     "name": "stdout",
     "output_type": "stream",
     "text": [
      "Mustang\n",
      "1964\n",
      "None\n",
      "10000\n"
     ]
    }
   ],
   "source": [
    "# get() function in dictionary, with default return value in case of no matching key\n",
    "\n",
    "car = {\"brand\": \"Ford\", \"model\": \"Mustang\", \"year\": 1964}\n",
    "x = car.get(\"model\")\n",
    "print(x)\n",
    "print(car.get(\"year\"))\n",
    "\n",
    "# since price key is not present, it returns None\n",
    "print(car.get(\"price\"))\n",
    "\n",
    "# Since price key is not present and since we gave default value as 10000, it returns default value\n",
    "print(car.get(\"price\",10000))"
   ]
  },
  {
   "cell_type": "code",
   "execution_count": 173,
   "id": "dd715c0b-f2bf-4ad7-86c5-13722f6c966b",
   "metadata": {},
   "outputs": [],
   "source": [
    "d5={'name':'riya','id':12345,'dob':1998,'address':'hyderabad'}"
   ]
  },
  {
   "cell_type": "code",
   "execution_count": 175,
   "id": "29878042-8a67-43e7-964b-271628d60a16",
   "metadata": {},
   "outputs": [
    {
     "name": "stdout",
     "output_type": "stream",
     "text": [
      "{'name': 'riya', 'id': 12345, 'dob': 1998, 'address': 'hyderabad'}\n",
      "riya\n"
     ]
    }
   ],
   "source": [
    "print(d5)\n",
    "print(d5['name'])"
   ]
  },
  {
   "cell_type": "code",
   "execution_count": 200,
   "id": "5d34ad02-43ff-44e9-a9e2-f68da1ccd834",
   "metadata": {},
   "outputs": [
    {
     "name": "stdout",
     "output_type": "stream",
     "text": [
      "{'name': 'raju', 'id': 12345, 'dob': 1998, 'address': 'hyderabad', 'gender': 'female', 'favcolor': 'green'}\n"
     ]
    }
   ],
   "source": [
    "# Update value from riya to raju, we can use indexing or we can also use update() function\n",
    "\n",
    "d5['name']='raju'\n",
    "print(d5)"
   ]
  },
  {
   "cell_type": "code",
   "execution_count": 202,
   "id": "4334100b-1a54-45ec-91da-0b8c3102d35f",
   "metadata": {},
   "outputs": [
    {
     "name": "stdout",
     "output_type": "stream",
     "text": [
      "{'name': 'raju', 'id': 12345, 'dob': 1998, 'address': 'raju', 'gender': 'female', 'favcolor': 'green'}\n"
     ]
    }
   ],
   "source": [
    "# Update value of address to raju\n",
    "# duplicate raju value in the dictionary, allowed\n",
    "\n",
    "d5['address']='raju'\n",
    "print(d5)"
   ]
  },
  {
   "cell_type": "code",
   "execution_count": 218,
   "id": "83ccf7c2-af24-46f9-b818-a0b816815ae1",
   "metadata": {},
   "outputs": [
    {
     "data": {
      "text/plain": [
       "{'name': 'raju',\n",
       " 'id': 12345,\n",
       " 'dob': 1992,\n",
       " 'address': 'hyderabad',\n",
       " 'gender': 'female',\n",
       " 'favcolor': 'green',\n",
       " 'country': 'India'}"
      ]
     },
     "execution_count": 218,
     "metadata": {},
     "output_type": "execute_result"
    }
   ],
   "source": [
    "# We can add a new key value pair using indexing, no need to use update() function\n",
    "d5['country']='India'\n",
    "d5"
   ]
  },
  {
   "cell_type": "code",
   "execution_count": 204,
   "id": "bec22daa-9421-44b9-9d82-3ac9e8158eae",
   "metadata": {},
   "outputs": [
    {
     "data": {
      "text/plain": [
       "dict_keys(['name', 'id', 'dob', 'address', 'gender', 'favcolor'])"
      ]
     },
     "execution_count": 204,
     "metadata": {},
     "output_type": "execute_result"
    }
   ],
   "source": [
    "d5.keys()"
   ]
  },
  {
   "cell_type": "code",
   "execution_count": 206,
   "id": "b6494a41-1d53-42f9-846d-424523bdd020",
   "metadata": {},
   "outputs": [
    {
     "data": {
      "text/plain": [
       "dict_values(['raju', 12345, 1998, 'raju', 'female', 'green'])"
      ]
     },
     "execution_count": 206,
     "metadata": {},
     "output_type": "execute_result"
    }
   ],
   "source": [
    "d5.values()"
   ]
  },
  {
   "cell_type": "code",
   "execution_count": 208,
   "id": "83f1d6bf-fcee-4e21-81cc-558b171d04da",
   "metadata": {},
   "outputs": [
    {
     "name": "stdout",
     "output_type": "stream",
     "text": [
      "{'name': 'riya', 'id': 12345, 'dob': 1998, 'address': 'hyderabad'}\n",
      "{'name': 'raju', 'id': 12345, 'dob': 1998, 'address': 'hyderabad', 'gender': 'female', 'favcolor': 'green'}\n"
     ]
    }
   ],
   "source": [
    "# Update() function is used to add new key value pair in dictionary \n",
    "# It can also be used to update existing key value pair to new value\n",
    "# We can add/update multiple key value pair at once.\n",
    "\n",
    "d5={'name':'riya','id':12345,'dob':1998,'address':'hyderabad'}\n",
    "print(d5)\n",
    "d5.update({'gender':'female','name':'raju','favcolor':'green'})\n",
    "print(d5)"
   ]
  },
  {
   "cell_type": "code",
   "execution_count": 210,
   "id": "d64757d2-375b-4f0e-9273-6c02100c3e96",
   "metadata": {},
   "outputs": [
    {
     "data": {
      "text/plain": [
       "{'name': 'raju',\n",
       " 'id': 12345,\n",
       " 'dob': 1998,\n",
       " 'address': 'hyderabad',\n",
       " 'gender': 'female',\n",
       " 'favcolor': 'green'}"
      ]
     },
     "execution_count": 210,
     "metadata": {},
     "output_type": "execute_result"
    }
   ],
   "source": [
    "d5"
   ]
  },
  {
   "cell_type": "code",
   "execution_count": 212,
   "id": "58b0bb8a-d4da-471a-9bb5-696da1e1d8a1",
   "metadata": {},
   "outputs": [],
   "source": [
    "d5.update({'dob':1992})"
   ]
  },
  {
   "cell_type": "code",
   "execution_count": 214,
   "id": "7bb5f48e-30e2-4ac0-987e-2af242ce79b3",
   "metadata": {},
   "outputs": [
    {
     "data": {
      "text/plain": [
       "{'name': 'raju',\n",
       " 'id': 12345,\n",
       " 'dob': 1992,\n",
       " 'address': 'hyderabad',\n",
       " 'gender': 'female',\n",
       " 'favcolor': 'green'}"
      ]
     },
     "execution_count": 214,
     "metadata": {},
     "output_type": "execute_result"
    }
   ],
   "source": [
    "d5"
   ]
  },
  {
   "cell_type": "code",
   "execution_count": 33,
   "id": "bf9408b5-4b73-45a3-adfc-757944dfe20c",
   "metadata": {},
   "outputs": [],
   "source": [
    "d5['job']='analyst'"
   ]
  },
  {
   "cell_type": "code",
   "execution_count": 222,
   "id": "fad28d13-3c8d-442f-b8d8-60b335b9be86",
   "metadata": {},
   "outputs": [
    {
     "data": {
      "text/plain": [
       "{'name': 'raju',\n",
       " 'id': 12345,\n",
       " 'dob': 1992,\n",
       " 'address': 'hyderabad',\n",
       " 'gender': 'female',\n",
       " 'favcolor': 'green'}"
      ]
     },
     "execution_count": 222,
     "metadata": {},
     "output_type": "execute_result"
    }
   ],
   "source": [
    "d5"
   ]
  },
  {
   "cell_type": "code",
   "execution_count": 224,
   "id": "e02ee891-d266-4224-9749-d7d8ef36d8f8",
   "metadata": {},
   "outputs": [
    {
     "data": {
      "text/plain": [
       "('favcolor', 'green')"
      ]
     },
     "execution_count": 224,
     "metadata": {},
     "output_type": "execute_result"
    }
   ],
   "source": [
    "# popitem() function - removes the last element from the dictionary\n",
    "\n",
    "d5.popitem()"
   ]
  },
  {
   "cell_type": "code",
   "execution_count": 228,
   "id": "4b0c7b0b-61fb-4e0d-940e-3069fe902703",
   "metadata": {},
   "outputs": [
    {
     "ename": "TypeError",
     "evalue": "dict.popitem() takes no arguments (1 given)",
     "output_type": "error",
     "traceback": [
      "\u001b[1;31m---------------------------------------------------------------------------\u001b[0m",
      "\u001b[1;31mTypeError\u001b[0m                                 Traceback (most recent call last)",
      "Cell \u001b[1;32mIn[228], line 3\u001b[0m\n\u001b[0;32m      1\u001b[0m \u001b[38;5;66;03m# pop() function - doesn't take any arguments.\u001b[39;00m\n\u001b[1;32m----> 3\u001b[0m d5\u001b[38;5;241m.\u001b[39mpopitem(\u001b[38;5;124m'\u001b[39m\u001b[38;5;124mdob\u001b[39m\u001b[38;5;124m'\u001b[39m)\n",
      "\u001b[1;31mTypeError\u001b[0m: dict.popitem() takes no arguments (1 given)"
     ]
    }
   ],
   "source": [
    "# pop() function - doesn't take any arguments.\n",
    "\n",
    "d5.popitem('dob')"
   ]
  },
  {
   "cell_type": "code",
   "execution_count": 240,
   "id": "2093f00a-b757-4531-8e9f-2d234a4bce4d",
   "metadata": {},
   "outputs": [],
   "source": [
    "d5 = {'name': 'raju',\n",
    " 'id': 12345,\n",
    " 'dob': 1992,\n",
    " 'address': 'hyderabad',\n",
    " 'gender': 'female'}"
   ]
  },
  {
   "cell_type": "code",
   "execution_count": 242,
   "id": "6b1cf3b6-dfee-44f9-aef8-5bfb0ac2a7cd",
   "metadata": {},
   "outputs": [
    {
     "data": {
      "text/plain": [
       "1992"
      ]
     },
     "execution_count": 242,
     "metadata": {},
     "output_type": "execute_result"
    }
   ],
   "source": [
    "# pop() function \n",
    "\n",
    "d5.pop('dob')"
   ]
  },
  {
   "cell_type": "code",
   "execution_count": 244,
   "id": "37ec6d0f-3367-4148-ae22-4695041f234d",
   "metadata": {},
   "outputs": [
    {
     "ename": "KeyError",
     "evalue": "'dob'",
     "output_type": "error",
     "traceback": [
      "\u001b[1;31m---------------------------------------------------------------------------\u001b[0m",
      "\u001b[1;31mKeyError\u001b[0m                                  Traceback (most recent call last)",
      "Cell \u001b[1;32mIn[244], line 1\u001b[0m\n\u001b[1;32m----> 1\u001b[0m d5\u001b[38;5;241m.\u001b[39mpop(\u001b[38;5;124m'\u001b[39m\u001b[38;5;124mdob\u001b[39m\u001b[38;5;124m'\u001b[39m)\n",
      "\u001b[1;31mKeyError\u001b[0m: 'dob'"
     ]
    }
   ],
   "source": [
    "d5.pop('dob')"
   ]
  },
  {
   "cell_type": "code",
   "execution_count": 246,
   "id": "bb1c0068-4e0c-4a61-8a6b-f0a8a83f191c",
   "metadata": {},
   "outputs": [
    {
     "ename": "TypeError",
     "evalue": "pop expected at least 1 argument, got 0",
     "output_type": "error",
     "traceback": [
      "\u001b[1;31m---------------------------------------------------------------------------\u001b[0m",
      "\u001b[1;31mTypeError\u001b[0m                                 Traceback (most recent call last)",
      "Cell \u001b[1;32mIn[246], line 1\u001b[0m\n\u001b[1;32m----> 1\u001b[0m d5\u001b[38;5;241m.\u001b[39mpop()\n",
      "\u001b[1;31mTypeError\u001b[0m: pop expected at least 1 argument, got 0"
     ]
    }
   ],
   "source": [
    "d5.pop()"
   ]
  },
  {
   "cell_type": "code",
   "execution_count": 256,
   "id": "18cec917-b95e-489c-9638-e3711d3df187",
   "metadata": {},
   "outputs": [
    {
     "data": {
      "text/plain": [
       "{'name': 'raju',\n",
       " 'id': 12345,\n",
       " 'dob': 1992,\n",
       " 'address': 'hyderabad',\n",
       " 'gender': 'female'}"
      ]
     },
     "execution_count": 256,
     "metadata": {},
     "output_type": "execute_result"
    }
   ],
   "source": [
    "d5 = {'name': 'raju',\n",
    " 'id': 12345,\n",
    " 'dob': 1992,\n",
    " 'address': 'hyderabad',\n",
    " 'gender': 'female'}\n",
    "d5"
   ]
  },
  {
   "cell_type": "code",
   "execution_count": 258,
   "id": "78f719ed-0364-476a-a846-1727b6a24a40",
   "metadata": {},
   "outputs": [
    {
     "data": {
      "text/plain": [
       "'raju'"
      ]
     },
     "execution_count": 258,
     "metadata": {},
     "output_type": "execute_result"
    }
   ],
   "source": [
    "d5.pop('name','gender')"
   ]
  },
  {
   "cell_type": "code",
   "execution_count": 260,
   "id": "763b5e7f-8b5f-4818-9085-0e63bd735f9b",
   "metadata": {},
   "outputs": [
    {
     "data": {
      "text/plain": [
       "{'id': 12345, 'dob': 1992, 'address': 'hyderabad', 'gender': 'female'}"
      ]
     },
     "execution_count": 260,
     "metadata": {},
     "output_type": "execute_result"
    }
   ],
   "source": [
    "d5"
   ]
  },
  {
   "cell_type": "code",
   "execution_count": 262,
   "id": "8800488c-9ea6-43b9-a8fd-f8b7590fedf7",
   "metadata": {},
   "outputs": [],
   "source": [
    "d5.clear()"
   ]
  },
  {
   "cell_type": "code",
   "execution_count": 264,
   "id": "73a4190d-cadb-458f-b060-d21044f59fe3",
   "metadata": {},
   "outputs": [
    {
     "data": {
      "text/plain": [
       "{}"
      ]
     },
     "execution_count": 264,
     "metadata": {},
     "output_type": "execute_result"
    }
   ],
   "source": [
    "d5"
   ]
  },
  {
   "cell_type": "code",
   "execution_count": 274,
   "id": "623b6b5a-245b-4871-9e28-fbaa3aa942b5",
   "metadata": {},
   "outputs": [],
   "source": [
    "d6={'name':'riya','id':12345,'dob':1998,'address':'hyderabad'}"
   ]
  },
  {
   "cell_type": "code",
   "execution_count": 276,
   "id": "b574e61f-0613-470c-a0c0-e39a264a691f",
   "metadata": {},
   "outputs": [
    {
     "data": {
      "text/plain": [
       "{'name': 'riya', 'id': 12345, 'dob': 1998, 'address': 'hyderabad'}"
      ]
     },
     "execution_count": 276,
     "metadata": {},
     "output_type": "execute_result"
    }
   ],
   "source": [
    "d6"
   ]
  },
  {
   "cell_type": "code",
   "execution_count": 278,
   "id": "8c45ffd4-fee8-4d79-a771-d7632c2d7573",
   "metadata": {},
   "outputs": [],
   "source": [
    "del d6"
   ]
  },
  {
   "cell_type": "code",
   "execution_count": 280,
   "id": "dfb12d7f-e70a-4eb9-892e-0e1fa917a3d0",
   "metadata": {},
   "outputs": [
    {
     "ename": "NameError",
     "evalue": "name 'd6' is not defined",
     "output_type": "error",
     "traceback": [
      "\u001b[1;31m---------------------------------------------------------------------------\u001b[0m",
      "\u001b[1;31mNameError\u001b[0m                                 Traceback (most recent call last)",
      "Cell \u001b[1;32mIn[280], line 1\u001b[0m\n\u001b[1;32m----> 1\u001b[0m d6\n",
      "\u001b[1;31mNameError\u001b[0m: name 'd6' is not defined"
     ]
    }
   ],
   "source": [
    "d6"
   ]
  },
  {
   "cell_type": "code",
   "execution_count": 367,
   "id": "566e18b7-c3b2-4132-b6e6-54992f554854",
   "metadata": {},
   "outputs": [],
   "source": [
    "# Nested dictionary\n",
    "d2={0:{'name':'naresh','dob':1995,'job':'ai'},1:{'name':'riya','dob':1997,'job':'ds'},3:{'name':'priya','dob':1998,'job':'da'}}"
   ]
  },
  {
   "cell_type": "code",
   "execution_count": 369,
   "id": "c60ae697-9e7c-4674-9ef6-7ffd1f4ff656",
   "metadata": {},
   "outputs": [
    {
     "data": {
      "text/plain": [
       "{0: {'name': 'naresh', 'dob': 1995, 'job': 'ai'},\n",
       " 1: {'name': 'riya', 'dob': 1997, 'job': 'ds'},\n",
       " 3: {'name': 'priya', 'dob': 1998, 'job': 'da'}}"
      ]
     },
     "execution_count": 369,
     "metadata": {},
     "output_type": "execute_result"
    }
   ],
   "source": [
    "d2"
   ]
  },
  {
   "cell_type": "code",
   "execution_count": 371,
   "id": "3a5d2466-cc2c-4049-9ba8-9ab993bdb797",
   "metadata": {},
   "outputs": [
    {
     "data": {
      "text/plain": [
       "1997"
      ]
     },
     "execution_count": 371,
     "metadata": {},
     "output_type": "execute_result"
    }
   ],
   "source": [
    "d2[1]['dob']"
   ]
  },
  {
   "cell_type": "code",
   "execution_count": null,
   "id": "ac469bf7-3452-4ce5-b126-d1f5eec88aaa",
   "metadata": {},
   "outputs": [],
   "source": []
  }
 ],
 "metadata": {
  "kernelspec": {
   "display_name": "Python [conda env:base] *",
   "language": "python",
   "name": "conda-base-py"
  },
  "language_info": {
   "codemirror_mode": {
    "name": "ipython",
    "version": 3
   },
   "file_extension": ".py",
   "mimetype": "text/x-python",
   "name": "python",
   "nbconvert_exporter": "python",
   "pygments_lexer": "ipython3",
   "version": "3.12.7"
  }
 },
 "nbformat": 4,
 "nbformat_minor": 5
}
