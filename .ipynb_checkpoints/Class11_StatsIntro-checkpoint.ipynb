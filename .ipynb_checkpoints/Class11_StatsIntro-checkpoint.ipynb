{
 "cells": [
  {
   "cell_type": "markdown",
   "id": "46aa8347-1eda-4279-a562-9a42b14a5cb4",
   "metadata": {},
   "source": [
    "#### Statistics\n",
    "- Descriptive >>> Collect the data - census & survey, present data using graphs and, summarize the data like mean, median >>> descriptive value is parameter\n",
    "- Ex: mean is population parameter\n",
    "- Inferential >>> Using sample data >>> Estimation - estimate mean weight using sample mean weight and Hypothesis testing >>> descriptive value is statistic\n",
    "- Ex: For instance, calculating the average height of students in a class is a statistic, and it's used to estimate the average height of all students in the school. "
   ]
  },
  {
   "cell_type": "markdown",
   "id": "ae95d2bc-67e2-4e8e-aac8-6aa7f42b805c",
   "metadata": {},
   "source": [
    "### Basic Terms\n",
    "-"
   ]
  },
  {
   "cell_type": "markdown",
   "id": "b8b5c1ae-2b20-4011-a343-0afd9bd4e87f",
   "metadata": {},
   "source": [
    "variable name = attributes = column name"
   ]
  },
  {
   "cell_type": "markdown",
   "id": "62ca8f94-821d-4229-a471-4886e2c1095e",
   "metadata": {},
   "source": [
    "data singlar = single value in a cell\n",
    "random variable = variable to stpre values"
   ]
  },
  {
   "cell_type": "markdown",
   "id": "f09d695e-f7ce-4563-b145-3fe89c05d47c",
   "metadata": {},
   "source": [
    "data - numerical - continues and discrete\n",
    "data - categorical - ordinal and nominal"
   ]
  },
  {
   "cell_type": "markdown",
   "id": "7f4bd401-7cce-4904-80d8-f93433ce5542",
   "metadata": {},
   "source": [
    "collection of data using various methods"
   ]
  },
  {
   "cell_type": "markdown",
   "id": "540afeed-424c-45e0-a007-5030f885564d",
   "metadata": {},
   "source": [
    "\n",
    "types of sampling\n",
    "probability sampleing (Probability sampling in statistics is a method where each member of a population has a known and equal chance of being selected for a sample) and non probablity sampling"
   ]
  },
  {
   "cell_type": "code",
   "execution_count": null,
   "id": "0188a496-df8e-4bf3-a669-e98583c16447",
   "metadata": {},
   "outputs": [],
   "source": []
  }
 ],
 "metadata": {
  "kernelspec": {
   "display_name": "Python [conda env:base] *",
   "language": "python",
   "name": "conda-base-py"
  },
  "language_info": {
   "codemirror_mode": {
    "name": "ipython",
    "version": 3
   },
   "file_extension": ".py",
   "mimetype": "text/x-python",
   "name": "python",
   "nbconvert_exporter": "python",
   "pygments_lexer": "ipython3",
   "version": "3.12.7"
  }
 },
 "nbformat": 4,
 "nbformat_minor": 5
}
