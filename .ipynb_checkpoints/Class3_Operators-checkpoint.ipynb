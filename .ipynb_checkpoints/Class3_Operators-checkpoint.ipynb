{
 "cells": [
  {
   "cell_type": "markdown",
   "id": "40c1f038-e61a-442e-939e-aa7ffb588860",
   "metadata": {
    "panel-layout": {
     "height": 112.4749984741211,
     "visible": true,
     "width": 100
    }
   },
   "source": [
    "### Operators\n",
    "- Arithmetic Operators >>> Addition(+), Substraction(-), Multiplication(*), Division(/), Modulus(%) > Reminder, Floor(//) > Quotient, Power(**)\n",
    "- Comparison Operators >>> To compare the values > , < , <= , >= , ==, !=\n",
    "- Logical Operators >>> AND, OR, NOT, IS, IS NOT\n",
    "- Membership Operators >>> IN, NOT IN\n",
    "- Bitwise operators >>> AND(&), OR(|), ^(XOR), ~(NOT),<<(Zero fill left shift), >>(Signed right shift)\n",
    "- https://www.w3schools.com/python/python_operators.asp"
   ]
  },
  {
   "cell_type": "code",
   "execution_count": 31,
   "id": "9a834754-a298-4db4-b827-610a4b07c908",
   "metadata": {},
   "outputs": [
    {
     "name": "stdout",
     "output_type": "stream",
     "text": [
      "8\n"
     ]
    }
   ],
   "source": [
    "# <<=\n",
    "x = 2\n",
    "y = 3\n",
    "\n",
    "x **= y\n",
    "#x = x ** y\n",
    "print(x)"
   ]
  },
  {
   "cell_type": "code",
   "execution_count": 29,
   "id": "f2b9a8b6-a50c-4ae6-bc84-30b6838fa5be",
   "metadata": {},
   "outputs": [
    {
     "name": "stdout",
     "output_type": "stream",
     "text": [
      "7\n"
     ]
    }
   ],
   "source": [
    "a = 5  # Binary: 0101\n",
    "b = 3  # Binary: 0011\n",
    "\n",
    "a |= b  # a = a | b\n",
    "# 0101 | 0011 = 0111 (7)\n",
    "print(a)  # Output: 7"
   ]
  },
  {
   "cell_type": "code",
   "execution_count": 21,
   "id": "3b996fa1-2eaa-43d5-b311-2710e006f1f3",
   "metadata": {},
   "outputs": [
    {
     "name": "stdout",
     "output_type": "stream",
     "text": [
      "1.6666666666666667\n",
      "2\n",
      "1\n"
     ]
    }
   ],
   "source": [
    "a=5\n",
    "b=3\n",
    "print(a/b) # >>> Final value\n",
    "print(a%b) # >>> Reminder\n",
    "print(a//b) # >>> quotient "
   ]
  },
  {
   "cell_type": "code",
   "execution_count": 27,
   "id": "c8af1947-a3b7-4d56-89a5-ee09293fc287",
   "metadata": {},
   "outputs": [
    {
     "name": "stdout",
     "output_type": "stream",
     "text": [
      "2.0\n",
      "0\n",
      "2\n"
     ]
    }
   ],
   "source": [
    "a=6\n",
    "b=3\n",
    "print(a/b) # >>> Final value\n",
    "print(a%b) # >>> Reminder\n",
    "print(a//b) # >>> Quotient"
   ]
  },
  {
   "cell_type": "code",
   "execution_count": 34,
   "id": "d4b27879-47f6-4eee-8e12-3e86609143e0",
   "metadata": {},
   "outputs": [
    {
     "name": "stdout",
     "output_type": "stream",
     "text": [
      "2.5\n",
      "1\n",
      "2\n",
      "25\n"
     ]
    }
   ],
   "source": [
    "a=5\n",
    "b=2\n",
    "print(a/b) # >>> Final value\n",
    "print(a%b) # >>> Reminder\n",
    "print(a//b) # >>> Quotient\n",
    "print(a**b) # >>> Power"
   ]
  },
  {
   "cell_type": "code",
   "execution_count": 47,
   "id": "719c3183-abe9-4523-8c9f-4cc58a8fd7d6",
   "metadata": {},
   "outputs": [
    {
     "name": "stdout",
     "output_type": "stream",
     "text": [
      "True\n",
      "Is x greater than y: False\n"
     ]
    }
   ],
   "source": [
    "x=45\n",
    "y=-45\n",
    "print(x>y)\n",
    "print('''Is x greater than y:''',x<y)"
   ]
  },
  {
   "cell_type": "code",
   "execution_count": 57,
   "id": "2edc037c-2f91-464b-a0e0-5cfffa6daea3",
   "metadata": {},
   "outputs": [
    {
     "name": "stdout",
     "output_type": "stream",
     "text": [
      "Is x not equal to y: True\n",
      "Is x equal to y: False\n"
     ]
    }
   ],
   "source": [
    "x=45\n",
    "y=-45\n",
    "print('''Is x not equal to y:''',x!=y)\n",
    "print('''Is x equal to y:''',x==y)\n",
    "#print('''Is x not equal to y:''',x<>y) <> Operater doesnt work"
   ]
  },
  {
   "cell_type": "code",
   "execution_count": 61,
   "id": "ce9037db-7128-41a1-aa70-e78780fc2c0b",
   "metadata": {},
   "outputs": [
    {
     "name": "stdout",
     "output_type": "stream",
     "text": [
      "False\n",
      "False\n"
     ]
    }
   ],
   "source": [
    "a='akk'\n",
    "b='kk'\n",
    "print(a==b)\n",
    "print(a>b)"
   ]
  },
  {
   "cell_type": "markdown",
   "id": "548a70a7-ad57-4fef-9203-0639c27981df",
   "metadata": {},
   "source": [
    "##### Logical Operators\n",
    "- AND, OR, NOT, IS, IS NOT"
   ]
  },
  {
   "cell_type": "code",
   "execution_count": 67,
   "id": "4282b875-f7d1-437a-8a00-5d98d914b4c9",
   "metadata": {},
   "outputs": [
    {
     "name": "stdout",
     "output_type": "stream",
     "text": [
      "False\n",
      "True\n",
      "False\n"
     ]
    }
   ],
   "source": [
    "x=True\n",
    "y=False\n",
    "print(x and y)\n",
    "print(x or y)\n",
    "print(not x)"
   ]
  },
  {
   "cell_type": "code",
   "execution_count": 4,
   "id": "6f97729c-ca66-46f6-9457-b5121b95370f",
   "metadata": {},
   "outputs": [
    {
     "name": "stdout",
     "output_type": "stream",
     "text": [
      "True\n"
     ]
    }
   ],
   "source": [
    "print(3<5 and 6<9)"
   ]
  },
  {
   "cell_type": "code",
   "execution_count": 6,
   "id": "2b3ebd4c-c760-4ffe-b33e-9eb4e5091154",
   "metadata": {},
   "outputs": [
    {
     "name": "stdout",
     "output_type": "stream",
     "text": [
      "False\n"
     ]
    }
   ],
   "source": [
    "print(3<5 and 11<9)"
   ]
  },
  {
   "cell_type": "code",
   "execution_count": 10,
   "id": "dc4019ec-4fb0-482c-8513-fb50c829e5ec",
   "metadata": {},
   "outputs": [
    {
     "name": "stdout",
     "output_type": "stream",
     "text": [
      "True\n"
     ]
    }
   ],
   "source": [
    "print(3<5 or 11<9)"
   ]
  },
  {
   "cell_type": "code",
   "execution_count": 12,
   "id": "5643c587-e4f0-4767-9af7-a47a5706f4ad",
   "metadata": {},
   "outputs": [
    {
     "name": "stdout",
     "output_type": "stream",
     "text": [
      "True\n"
     ]
    }
   ],
   "source": [
    "print(not 9<2)"
   ]
  },
  {
   "cell_type": "code",
   "execution_count": 40,
   "id": "4fc13c47-1e34-4864-861c-4e6e518622df",
   "metadata": {},
   "outputs": [
    {
     "name": "stdout",
     "output_type": "stream",
     "text": [
      "True\n",
      "False\n",
      "True\n",
      "True\n"
     ]
    }
   ],
   "source": [
    "# is, is not >>> To compare the objects, not the values in it\n",
    "x = [\"apple\", \"banana\"]\n",
    "y = [\"apple\", \"banana\"]\n",
    "z = x\n",
    "\n",
    "print(x is z)\n",
    "# returns True because z is the same object as x\n",
    "\n",
    "print(x is y)\n",
    "# returns False because x is not the same object as y, even if they have the same content\n",
    "\n",
    "print(x is not y)\n",
    "# returns True because x is not the same object as y, even if they have the same content\n",
    "\n",
    "print(x == y)\n",
    "# to demonstrate the difference betweeen \"is\" and \"==\": this comparison returns True because x is equal to y"
   ]
  },
  {
   "cell_type": "markdown",
   "id": "ced562c5-055e-4693-aafb-a0e6c9a40541",
   "metadata": {},
   "source": [
    "##### Membership Operators \n",
    "- IN, NOT IN"
   ]
  },
  {
   "cell_type": "code",
   "execution_count": 47,
   "id": "f6b26750-b51c-4371-80b4-0509987c08d7",
   "metadata": {},
   "outputs": [
    {
     "name": "stdout",
     "output_type": "stream",
     "text": [
      "True\n"
     ]
    }
   ],
   "source": [
    "x = [\"apple\", \"banana\"]\n",
    "\n",
    "print(\"banana\" in x)\n",
    "# returns True because a sequence with the value \"banana\" is in the list"
   ]
  },
  {
   "cell_type": "code",
   "execution_count": 49,
   "id": "41f8de99-c369-4fb0-a08c-64429373e16e",
   "metadata": {},
   "outputs": [
    {
     "name": "stdout",
     "output_type": "stream",
     "text": [
      "True\n"
     ]
    }
   ],
   "source": [
    "name = \"kranthi kumar\"\n",
    "print('an' in name)"
   ]
  },
  {
   "cell_type": "code",
   "execution_count": 51,
   "id": "87235d55-153f-4b17-bbf7-ead1098d8c91",
   "metadata": {},
   "outputs": [
    {
     "name": "stdout",
     "output_type": "stream",
     "text": [
      "True\n"
     ]
    }
   ],
   "source": [
    "name = \"kranthi kumar\"\n",
    "print('en' not in name)"
   ]
  },
  {
   "cell_type": "markdown",
   "id": "def11c90-23ea-49c3-916a-229e133e4a35",
   "metadata": {},
   "source": [
    "#### Bitwise operators\n",
    "- Operator\tName\tDescription\tExample\tTry it\n",
    "- & \t   AND\t    Sets each bit to 1 if both bits are 1\tx & y\t\n",
    "- |\t       OR\t    Sets each bit to 1 if one of two bits is 1\tx | y\t\n",
    "- ^\t       XOR\t    Sets each bit to 1 if only one of two bits is 1\tx ^ y\t\n",
    "- ~\t       NOT\t    Inverts all the bits\t~x\t\n",
    "- <<\t            Zero fill left shift\tShift left by pushing zeros in from the right and let the leftmost bits fall off. x << 2\t\n",
    "- \\>>\t            Signed right shift\tShift right by pushing copies of the leftmost bit in from the left, and let the rightmost bits fall off\tx >> 2"
   ]
  },
  {
   "cell_type": "code",
   "execution_count": 60,
   "id": "f873e016-5784-445e-a755-8c9921e23ed4",
   "metadata": {},
   "outputs": [
    {
     "name": "stdout",
     "output_type": "stream",
     "text": [
      "0\n"
     ]
    }
   ],
   "source": [
    "### Operator precedence\n",
    "print((6 + 3) - (6 + 3))"
   ]
  },
  {
   "cell_type": "code",
   "execution_count": 62,
   "id": "7633dba1-6154-4f6c-8d16-5d6cedf79c35",
   "metadata": {},
   "outputs": [
    {
     "name": "stdout",
     "output_type": "stream",
     "text": [
      "115\n"
     ]
    }
   ],
   "source": [
    "print(100 + 5 * 3)"
   ]
  },
  {
   "cell_type": "code",
   "execution_count": null,
   "id": "80f96167-292b-49f7-9789-b7b5e2acbc3a",
   "metadata": {},
   "outputs": [],
   "source": []
  }
 ],
 "metadata": {
  "kernelspec": {
   "display_name": "Python [conda env:base] *",
   "language": "python",
   "name": "conda-base-py"
  },
  "language_info": {
   "codemirror_mode": {
    "name": "ipython",
    "version": 3
   },
   "file_extension": ".py",
   "mimetype": "text/x-python",
   "name": "python",
   "nbconvert_exporter": "python",
   "pygments_lexer": "ipython3",
   "version": "3.12.7"
  },
  "panel-cell-order": [
   "40c1f038-e61a-442e-939e-aa7ffb588860"
  ]
 },
 "nbformat": 4,
 "nbformat_minor": 5
}
