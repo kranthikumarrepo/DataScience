{
 "cells": [
  {
   "cell_type": "markdown",
   "id": "87db0ca2-0e4a-4839-a0af-9fa19d1ece2a",
   "metadata": {},
   "source": [
    "### Python Class and Objects\n",
    "\n",
    "- Python is an object oriented programming language.\n",
    "- Almost everything in Python is an object, with its properties and methods.\n",
    "- A Class is like an object constructor, or a \"blueprint\" for creating objects\n",
    "- To create a class, use the keyword class\n",
    "- In Python, self is used as the first argument in instance methods within a class to represent the current instance of the class itself. It allows access to the attributes and methods of that instance. When a method is called on an object, Python automatically passes the instance as the first argument, which is conventionally named self. This mechanism enables methods to operate on the specific data associated with each object. "
   ]
  },
  {
   "cell_type": "code",
   "execution_count": 8,
   "id": "888a90b7-311b-4bfc-8de9-25038d3fb855",
   "metadata": {},
   "outputs": [],
   "source": [
    "# Create a class by name MyClass and with a property named x\n",
    "\n",
    "class MyClass:\n",
    "  x = 5"
   ]
  },
  {
   "cell_type": "code",
   "execution_count": 12,
   "id": "25c2a57a-5b3d-4986-a889-af98564b132a",
   "metadata": {},
   "outputs": [
    {
     "name": "stdout",
     "output_type": "stream",
     "text": [
      "5\n"
     ]
    }
   ],
   "source": [
    "# Now we can use the class named MyClass to create objects:\n",
    "\n",
    "p1 = MyClass()\n",
    "\n",
    "# Access the property in MyClass\n",
    "print(p1.x)"
   ]
  },
  {
   "cell_type": "code",
   "execution_count": 66,
   "id": "7067776b-c772-4e02-afe0-2563ac7a8b71",
   "metadata": {},
   "outputs": [
    {
     "ename": "TypeError",
     "evalue": "MyClass.printName() takes 1 positional argument but 2 were given",
     "output_type": "error",
     "traceback": [
      "\u001b[1;31m---------------------------------------------------------------------------\u001b[0m",
      "\u001b[1;31mTypeError\u001b[0m                                 Traceback (most recent call last)",
      "Cell \u001b[1;32mIn[66], line 6\u001b[0m\n\u001b[0;32m      3\u001b[0m         name \u001b[38;5;241m=\u001b[39m name\n\u001b[0;32m      5\u001b[0m m1 \u001b[38;5;241m=\u001b[39m MyClass()\n\u001b[1;32m----> 6\u001b[0m m1\u001b[38;5;241m.\u001b[39mprintName(\u001b[38;5;124m'\u001b[39m\u001b[38;5;124mkk\u001b[39m\u001b[38;5;124m'\u001b[39m)\n\u001b[0;32m      7\u001b[0m \u001b[38;5;28mprint\u001b[39m(m1\u001b[38;5;241m.\u001b[39mname)\n",
      "\u001b[1;31mTypeError\u001b[0m: MyClass.printName() takes 1 positional argument but 2 were given"
     ]
    }
   ],
   "source": [
    "class MyClass:\n",
    "    def printName(name):\n",
    "        name = name\n",
    "\n",
    "m1 = MyClass()\n",
    "m1.printName('kk')\n",
    "print(m1.name)"
   ]
  },
  {
   "cell_type": "code",
   "execution_count": 68,
   "id": "b9efed09-0138-454e-a586-55e6494ecb9a",
   "metadata": {},
   "outputs": [
    {
     "name": "stdout",
     "output_type": "stream",
     "text": [
      "kk\n"
     ]
    }
   ],
   "source": [
    "# In Python, self is used as the first argument in instance methods within a class to represent the instance of \n",
    "# the class itself. It allows access to the attributes and methods of that instance. When a method is called on \n",
    "# an object, Python automatically passes the instance as the first argument, which is conventionally named self. \n",
    "# This mechanism enables methods to operate on the specific data associated with each object.\n",
    "\n",
    "class MyClass:\n",
    "    def printName(self,name):\n",
    "        self.name = name\n",
    "\n",
    "m1 = MyClass()\n",
    "m1.printName('kk')\n",
    "print(m1.name)"
   ]
  },
  {
   "cell_type": "markdown",
   "id": "d5fdd5a9-bbea-4291-bde8-9682bb5198ec",
   "metadata": {},
   "source": [
    "### __init__() Function"
   ]
  },
  {
   "cell_type": "raw",
   "id": "07eec101-0122-498f-96dc-22fb36e9f233",
   "metadata": {},
   "source": [
    "__init__() Function\n",
    "- All classes have a function called __init__(), which is always executed when the class is being initiated.\n",
    "- Use the __init__() function to assign values to object properties, or other operations that are necessary to do when the object is being created."
   ]
  },
  {
   "cell_type": "code",
   "execution_count": 27,
   "id": "a4383f3f-2e38-4d69-9d5e-3b3d9deb100e",
   "metadata": {},
   "outputs": [
    {
     "name": "stdout",
     "output_type": "stream",
     "text": [
      "kranthi\n",
      "25\n"
     ]
    }
   ],
   "source": [
    "# Create a class named Person, use the __init__() function to assign values for name and age:\n",
    "\n",
    "class Person:\n",
    "    def __init__(self, name, age):\n",
    "        self.name = name\n",
    "        self.age = age\n",
    "\n",
    "p1 = Person('kranthi',25)\n",
    "\n",
    "print(p1.name)\n",
    "print(p1.age)"
   ]
  },
  {
   "cell_type": "code",
   "execution_count": 43,
   "id": "cb954780-f67a-471f-9a6a-e2dfebf22470",
   "metadata": {},
   "outputs": [
    {
     "name": "stdout",
     "output_type": "stream",
     "text": [
      "kranthi\n",
      "25\n",
      "kranthi\n",
      "20\n"
     ]
    }
   ],
   "source": [
    "# Create a class named Person, use the __init__() function to assign values for name and age:\n",
    "# Create another function just to update age\n",
    "\n",
    "class Person:\n",
    "    def __init__(self, name, age):\n",
    "        self.name = name\n",
    "        self.age = age\n",
    "\n",
    "    def update_age(self,age):\n",
    "        self.age = age\n",
    "\n",
    "p1 = Person('kranthi',25)\n",
    "\n",
    "print(p1.name)\n",
    "print(p1.age)\n",
    "\n",
    "p1.update_age(20)\n",
    "\n",
    "print(p1.name)\n",
    "print(p1.age)"
   ]
  },
  {
   "cell_type": "code",
   "execution_count": 47,
   "id": "3ddb1800-931c-47b9-afea-702d35797657",
   "metadata": {},
   "outputs": [
    {
     "name": "stdout",
     "output_type": "stream",
     "text": [
      "<__main__.Person object at 0x00000171CAEDBA10>\n",
      "John\n",
      "36\n"
     ]
    }
   ],
   "source": [
    "class Person:\n",
    "  def __init__(self, name, age):\n",
    "    self.name = name\n",
    "    self.age = age\n",
    "\n",
    "p1 = Person(\"John\", 36)\n",
    "\n",
    "print(p1)\n",
    "print(p1.name)\n",
    "print(p1.age)"
   ]
  },
  {
   "cell_type": "code",
   "execution_count": 70,
   "id": "84711502-beb4-4625-85dc-082c3dd0182c",
   "metadata": {},
   "outputs": [
    {
     "name": "stdout",
     "output_type": "stream",
     "text": [
      "John(36)\n"
     ]
    }
   ],
   "source": [
    "# The __str__() function controls what should be returned when the class object is represented as a string.\n",
    "\n",
    "class Person:\n",
    "  def __init__(self, name, age):\n",
    "    self.name = name\n",
    "    self.age = age\n",
    "\n",
    "  def __str__(self):\n",
    "    return f\"{self.name}({self.age})\"\n",
    "\n",
    "p1 = Person(\"John\", 36)\n",
    "\n",
    "print(p1)"
   ]
  },
  {
   "cell_type": "code",
   "execution_count": 113,
   "id": "bed84469-8043-43e9-8668-6f4c9f27217e",
   "metadata": {},
   "outputs": [
    {
     "name": "stdout",
     "output_type": "stream",
     "text": [
      "Hello my name is John\n",
      "Hello my age is  36\n",
      "Most important person  Chiranjeevi\n",
      "Sachin\n",
      "<__main__.Person object at 0x00000171CB6AEF60>\n",
      "New name is  Sachin  Age is  36\n",
      "Hello my name is Sachin\n",
      "Hello my age is  36\n",
      "Most important person  Chiranjeevi\n",
      "Hello my name is John\n",
      "Hello my age is  36\n",
      "Most important person  Chiranjeevi\n"
     ]
    },
    {
     "ename": "NameError",
     "evalue": "name 'p2' is not defined",
     "output_type": "error",
     "traceback": [
      "\u001b[1;31m---------------------------------------------------------------------------\u001b[0m",
      "\u001b[1;31mNameError\u001b[0m                                 Traceback (most recent call last)",
      "Cell \u001b[1;32mIn[113], line 32\u001b[0m\n\u001b[0;32m     30\u001b[0m \u001b[38;5;66;03m# Delete objects\u001b[39;00m\n\u001b[0;32m     31\u001b[0m \u001b[38;5;28;01mdel\u001b[39;00m p2\n\u001b[1;32m---> 32\u001b[0m p2\u001b[38;5;241m.\u001b[39mmyfunc()\n",
      "\u001b[1;31mNameError\u001b[0m: name 'p2' is not defined"
     ]
    }
   ],
   "source": [
    "# Global Variable\n",
    "# The self parameter is a reference to the current instance of the class, and is used to access variables that belong to the class.\n",
    "# It does not have to be named self, it can be any name\n",
    "\n",
    "# Global Variable\n",
    "g_var = 'Chiranjeevi'\n",
    "\n",
    "class Person:\n",
    "  def __init__(ohifhwrifhwrfiowr, name, age):\n",
    "    ohifhwrifhwrfiowr.name = name\n",
    "    ohifhwrifhwrfiowr.age = age\n",
    "\n",
    "  def myfunc(sapota):\n",
    "    print(\"Hello my name is \" + sapota.name)\n",
    "    print(\"Hello my age is \", sapota.age)\n",
    "    print(\"Most important person \",g_var)\n",
    "\n",
    "p1 = Person(\"John\", 36)\n",
    "p1.myfunc()\n",
    "p2 = Person(\"John\",36)\n",
    "\n",
    "# Modify object property\n",
    "p1.name = 'Sachin'\n",
    "print(p1.name)\n",
    "print(p1)\n",
    "print(\"New name is \", p1.name, \" Age is \", p1.age)\n",
    "p1.myfunc()\n",
    "p2.myfunc()\n",
    "\n",
    "# Delete objects\n",
    "del p2\n",
    "p2.myfunc()"
   ]
  },
  {
   "cell_type": "code",
   "execution_count": 107,
   "id": "8bcd5070-6001-4289-aa79-8234933e09b7",
   "metadata": {},
   "outputs": [],
   "source": [
    "# class definitions cannot be empty, but if you for some reason have a class definition with no content, \n",
    "# put in the pass statement to avoid getting an error.\n",
    "\n",
    "class Person:\n",
    "  pass"
   ]
  },
  {
   "cell_type": "code",
   "execution_count": null,
   "id": "bb51faed-e1c8-4e95-9cfd-6be495ee605f",
   "metadata": {},
   "outputs": [],
   "source": [
    "    "
   ]
  }
 ],
 "metadata": {
  "kernelspec": {
   "display_name": "Python [conda env:base] *",
   "language": "python",
   "name": "conda-base-py"
  },
  "language_info": {
   "codemirror_mode": {
    "name": "ipython",
    "version": 3
   },
   "file_extension": ".py",
   "mimetype": "text/x-python",
   "name": "python",
   "nbconvert_exporter": "python",
   "pygments_lexer": "ipython3",
   "version": "3.12.7"
  }
 },
 "nbformat": 4,
 "nbformat_minor": 5
}
