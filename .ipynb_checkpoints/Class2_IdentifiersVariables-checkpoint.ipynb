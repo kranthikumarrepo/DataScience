{
 "cells": [
  {
   "cell_type": "markdown",
   "id": "20c065ba-7c58-47e1-82de-290f7b8bb4b8",
   "metadata": {},
   "source": [
    "## Identifiers\n",
    "- Identifier is a name given to a variable/entity/function, which helps in identifying and differentiating one entity from another.\n",
    "\n",
    "#### Rules for identifiers or variable names\n",
    "- Name should not start with a digit, but can be present in other places.\n",
    "- Ex: 1a = 10 > Incorrect, a1b = 10 > Allowed\n",
    "- Special characters not allowed other than underscore( _ )\n",
    "- Ex: name_val1\n",
    "- keywords cannot be used as identifier or variable name\n",
    "- Ex: print/import, etc. cannot be used\n",
    "- Identifier can be a combination of lowercase, uppercase, underscore and digit\n",
    "- Ex: Var_1 = 20\n",
    "- Identifiers or variable names are case sensitive, python is not case sensitive\n",
    "- Ex: var1 is not same as Var1, variable name a is not same as A"
   ]
  },
  {
   "cell_type": "markdown",
   "id": "58e5a979-41ae-4571-bbb0-40505315cbb0",
   "metadata": {},
   "source": [
    "## Variables\n",
    "- A variable is a place holder or a container to store values\n",
    "- A variable allots a memory location to the values."
   ]
  },
  {
   "cell_type": "code",
   "execution_count": 65,
   "id": "fee678e3-2cff-4e06-8bb5-930d753ae8b8",
   "metadata": {},
   "outputs": [],
   "source": [
    "a = 10 # assigning value to the variable a, memory is allocated\n",
    "# here variable a holds value 10\n",
    "# Python is dynamically typed language, i.e. data type is assigned as soon as a value is assigned"
   ]
  },
  {
   "cell_type": "code",
   "execution_count": 115,
   "id": "644aa99f-1893-473a-acb8-3da0011966fb",
   "metadata": {},
   "outputs": [
    {
     "data": {
      "text/plain": [
       "10"
      ]
     },
     "execution_count": 115,
     "metadata": {},
     "output_type": "execute_result"
    }
   ],
   "source": [
    "a # Calling the variable"
   ]
  },
  {
   "cell_type": "code",
   "execution_count": 117,
   "id": "bf22137c-50bb-47f5-ab98-fd47cb22964c",
   "metadata": {},
   "outputs": [
    {
     "name": "stdout",
     "output_type": "stream",
     "text": [
      "10\n"
     ]
    }
   ],
   "source": [
    "print(a) # Calling the variable"
   ]
  },
  {
   "cell_type": "code",
   "execution_count": 119,
   "id": "2df77f1b-f7e9-4b38-935e-8eac9146660a",
   "metadata": {},
   "outputs": [],
   "source": [
    "# Multi line assignment\n",
    "a,b,c = 1,2,3"
   ]
  },
  {
   "cell_type": "code",
   "execution_count": 22,
   "id": "e862a987-1afa-4ef1-9726-cc314b3af96e",
   "metadata": {},
   "outputs": [
    {
     "data": {
      "text/plain": [
       "1"
      ]
     },
     "execution_count": 22,
     "metadata": {},
     "output_type": "execute_result"
    }
   ],
   "source": [
    "a"
   ]
  },
  {
   "cell_type": "code",
   "execution_count": 24,
   "id": "f10c5ab0-63ea-4156-bb78-b755dd5d2227",
   "metadata": {},
   "outputs": [
    {
     "data": {
      "text/plain": [
       "2"
      ]
     },
     "execution_count": 24,
     "metadata": {},
     "output_type": "execute_result"
    }
   ],
   "source": [
    "b"
   ]
  },
  {
   "cell_type": "code",
   "execution_count": 99,
   "id": "debc12fb-6c8d-4cad-8055-c2d82a1c3b14",
   "metadata": {},
   "outputs": [
    {
     "data": {
      "text/plain": [
       "3"
      ]
     },
     "execution_count": 99,
     "metadata": {},
     "output_type": "execute_result"
    }
   ],
   "source": [
    "c"
   ]
  },
  {
   "cell_type": "code",
   "execution_count": 103,
   "id": "349e30ef-530e-4576-85b6-4b1ae8bdb921",
   "metadata": {},
   "outputs": [],
   "source": [
    "### Case sensitive"
   ]
  },
  {
   "cell_type": "code",
   "execution_count": 112,
   "id": "a3c772d6-a1e6-4a3f-a69b-63420c338e96",
   "metadata": {},
   "outputs": [
    {
     "name": "stdout",
     "output_type": "stream",
     "text": [
      "10\n",
      "30\n"
     ]
    }
   ],
   "source": [
    "z=10\n",
    "Z=20\n",
    "Z=30\n",
    "print(z)\n",
    "print(Z)"
   ]
  },
  {
   "cell_type": "code",
   "execution_count": 87,
   "id": "54dc6ca2-45fa-483c-b780-407a1a9b38f9",
   "metadata": {},
   "outputs": [],
   "source": [
    "Var1 = 70"
   ]
  },
  {
   "cell_type": "code",
   "execution_count": 93,
   "id": "5af43b16-e51d-46ed-a619-41efb8e8eb51",
   "metadata": {},
   "outputs": [],
   "source": [
    "var1 = 80"
   ]
  },
  {
   "cell_type": "code",
   "execution_count": 95,
   "id": "2304a182-ca79-4790-ab7b-5b3a9cd35324",
   "metadata": {},
   "outputs": [],
   "source": [
    "var1 = 100"
   ]
  },
  {
   "cell_type": "code",
   "execution_count": 97,
   "id": "790f8c43-555e-4904-9e96-dd107536e946",
   "metadata": {},
   "outputs": [
    {
     "name": "stdout",
     "output_type": "stream",
     "text": [
      "70 100\n"
     ]
    }
   ],
   "source": [
    "print(Var1,var1)"
   ]
  },
  {
   "cell_type": "markdown",
   "id": "23cf8dbb-abcf-4402-94c2-89f0f59f40ae",
   "metadata": {},
   "source": [
    "## Print() function\n",
    "- print()\n",
    "- Built-in function to display output on the screen\n",
    "- Can display multiple variables at oncem"
   ]
  },
  {
   "cell_type": "code",
   "execution_count": 36,
   "id": "e2b153eb-ced7-4bba-9c57-6b3095cec6e0",
   "metadata": {},
   "outputs": [
    {
     "name": "stdout",
     "output_type": "stream",
     "text": [
      "1 2 3\n"
     ]
    }
   ],
   "source": [
    "print(a,b,c)"
   ]
  },
  {
   "cell_type": "code",
   "execution_count": 6,
   "id": "a60bef5c-8e9a-42e0-938e-752a1873d18a",
   "metadata": {},
   "outputs": [],
   "source": [
    "p1 = p2 = p3 = p4 = 50\n",
    "p5=111 # All the variables are pointing to a single variable"
   ]
  },
  {
   "cell_type": "code",
   "execution_count": 8,
   "id": "ace59e4c-fe70-49bf-83a0-0a87d202fe24",
   "metadata": {},
   "outputs": [
    {
     "name": "stdout",
     "output_type": "stream",
     "text": [
      "50 50 50 50\n"
     ]
    }
   ],
   "source": [
    "print(p1,p2,p3,p4)"
   ]
  },
  {
   "cell_type": "code",
   "execution_count": 10,
   "id": "48579e24-94bd-4602-ab37-4b6d8964e890",
   "metadata": {},
   "outputs": [],
   "source": [
    "p2=200"
   ]
  },
  {
   "cell_type": "code",
   "execution_count": 12,
   "id": "5e7d5b27-3092-4f89-8cca-bc7868d8c63c",
   "metadata": {},
   "outputs": [
    {
     "name": "stdout",
     "output_type": "stream",
     "text": [
      "50 200 50 50 111\n"
     ]
    }
   ],
   "source": [
    "print(p1,p2,p3,p4,p5)"
   ]
  }
 ],
 "metadata": {
  "kernelspec": {
   "display_name": "Python [conda env:base] *",
   "language": "python",
   "name": "conda-base-py"
  },
  "language_info": {
   "codemirror_mode": {
    "name": "ipython",
    "version": 3
   },
   "file_extension": ".py",
   "mimetype": "text/x-python",
   "name": "python",
   "nbconvert_exporter": "python",
   "pygments_lexer": "ipython3",
   "version": "3.12.7"
  }
 },
 "nbformat": 4,
 "nbformat_minor": 5
}
