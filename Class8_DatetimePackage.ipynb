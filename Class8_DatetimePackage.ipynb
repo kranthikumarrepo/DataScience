{
 "cells": [
  {
   "cell_type": "markdown",
   "id": "e27fc833-26a3-4834-9392-dae61f5dbc12",
   "metadata": {},
   "source": [
    "### Datetime package\n",
    "- This has modules to work with basic date and time data types.\n",
    "- to get system date, system time using date & time functions.\n",
    "- We can also work with user given date and time values.\n",
    "- Various modules in datetime package\n",
    "- >>> date, datetime, time, timedelta, timezone, tzinfo"
   ]
  },
  {
   "cell_type": "markdown",
   "id": "f10c8926-6d50-46bb-891c-82bb3d28eda2",
   "metadata": {},
   "source": [
    "#### Various modules in datetime package\n",
    "\n",
    "- datetime.date\n",
    "- Syntax - date(year,month,day)\n",
    "- .\n",
    "- datetime.time\n",
    "- Syntax - time(h,m,s,micsec,tzinfo)\n",
    "- .\n",
    "- datetime.datetime\n",
    "- Syntax - datetime(year,month,date,h,m,s,micsec,tzinfo)\n",
    "- .\n",
    "- datetime.timedelta\n",
    "- Syntax - timedelta(difference between two datetime or date)\n",
    "- .\n",
    "- datetime.tzinfo\n",
    "- datetime.timezone"
   ]
  },
  {
   "cell_type": "markdown",
   "id": "78a7f8e9-ff47-4671-bc0b-03fd7821a1d0",
   "metadata": {},
   "source": [
    "#### date() module - To work with date from the user/system\n",
    "- Syntax - date(year,month,day)\n",
    "- Functions\n",
    "- date_var_name.year - returns the year part.\n",
    "- date_var_name.month - returns the month number\n",
    "- date_var_name.day - returns the day part\n",
    "- To get system date >>> date.today()\n",
    "- date_var_name.weekday() >>> To get weekday number\n",
    "- date_var_name.isoweekday() >>> To get weekday number"
   ]
  },
  {
   "cell_type": "code",
   "execution_count": 86,
   "id": "bc0c2155-bd77-4cdc-9e7c-14dace908fab",
   "metadata": {},
   "outputs": [],
   "source": [
    "# date function examples\n",
    "\n",
    "# First import the date module from datetime package\n",
    "from datetime import date\n",
    "\n",
    "# User input date\n",
    "date1 = date(1998,10,2)\n",
    "date2 = date(98,10,2)\n",
    "date3 = date(1988,10,2)\n",
    "\n",
    "# To get system date\n",
    "date4 = date.today()\n",
    "# date5 = date.now() >>> now is not available.\n",
    "\n",
    "# To get the weekday number - Monday =0 and Sunday = 6\n",
    "weekday_number1 = date4.weekday()\n",
    "\n",
    "# To get the weekday number - Monday =1 and Sunday = 7\n",
    "weekday_number2 = date4.isoweekday()"
   ]
  },
  {
   "cell_type": "code",
   "execution_count": 90,
   "id": "fe3f08c9-9009-4314-a6cf-032a1681da00",
   "metadata": {},
   "outputs": [
    {
     "name": "stdout",
     "output_type": "stream",
     "text": [
      "1998-10-02\n",
      "0098-10-02\n",
      "1988-10-02\n",
      "2025-05-23\n",
      "4\n",
      "5\n"
     ]
    }
   ],
   "source": [
    "print(date1)\n",
    "print(date2)\n",
    "print(date3)\n",
    "print(date4)\n",
    "print(weekday_number1)\n",
    "print(weekday_number2)"
   ]
  },
  {
   "cell_type": "code",
   "execution_count": 141,
   "id": "1c2a2167-3316-4f4d-8e1e-de46c67e1296",
   "metadata": {},
   "outputs": [
    {
     "data": {
      "text/plain": [
       "datetime.date"
      ]
     },
     "execution_count": 141,
     "metadata": {},
     "output_type": "execute_result"
    }
   ],
   "source": [
    "type(date1)"
   ]
  },
  {
   "cell_type": "code",
   "execution_count": 142,
   "id": "3658601a-b2a4-4a4e-8c01-f92ed69349d9",
   "metadata": {},
   "outputs": [
    {
     "data": {
      "text/plain": [
       "datetime.date"
      ]
     },
     "execution_count": 142,
     "metadata": {},
     "output_type": "execute_result"
    }
   ],
   "source": [
    "type(date4)"
   ]
  },
  {
   "cell_type": "code",
   "execution_count": 143,
   "id": "1ba87dce-0fec-4ea6-880b-54a32abf5fa3",
   "metadata": {},
   "outputs": [
    {
     "name": "stdout",
     "output_type": "stream",
     "text": [
      "1998-10-02 --- 0098-10-02 --- 1988-10-02 --- 2025-05-23\n",
      "1998\n",
      "10\n",
      "2\n",
      "2025\n"
     ]
    }
   ],
   "source": [
    "# From the date, get year, month and day \n",
    "# month,year,day - attributes\n",
    "\n",
    "print(date1, \"---\",date2, \"---\", date3,\"---\",date4)\n",
    "print(date1.year)\n",
    "print(date2.month)\n",
    "print(date3.day)\n",
    "print(date4.year)"
   ]
  },
  {
   "cell_type": "markdown",
   "id": "df4efe8f-d656-4b21-a1f7-98417d07a0ff",
   "metadata": {},
   "source": [
    "#### time() module - To work with input time from the user\n",
    "- Syntax - time(h,m,s,micsec)\n",
    "- Functions\n",
    "- time_var_name.hour\n",
    "- time_var_name.minute\n",
    "- time_var_name.second\n",
    "- time_var_name.microsecond"
   ]
  },
  {
   "cell_type": "code",
   "execution_count": 162,
   "id": "f0192739-f25b-4267-90f9-60de18b5739c",
   "metadata": {},
   "outputs": [
    {
     "name": "stdout",
     "output_type": "stream",
     "text": [
      "2025-05-23 20:38:22.122420\n",
      "07:15:35.012345\n",
      "20:38:22.122420\n"
     ]
    }
   ],
   "source": [
    "# Import time module from datetime package\n",
    "# Give some input time\n",
    "\n",
    "from datetime import time\n",
    "from datetime import datetime\n",
    "from datetime import date\n",
    "\n",
    "# User input time\n",
    "time1 = time(7,15,35,12345)\n",
    "#time2 = time.today() >>> not available.\n",
    "#time2 = time.now() >>> not available.\n",
    "\n",
    "# To get system time, first get today which has date and time, then extract only time\n",
    "print(datetime.today())\n",
    "time2 = datetime.time(datetime.today())\n",
    "print(time1)\n",
    "print(time2)"
   ]
  },
  {
   "cell_type": "code",
   "execution_count": 147,
   "id": "aab0061a-a47c-49b1-a5db-ea9f379d13e2",
   "metadata": {},
   "outputs": [
    {
     "data": {
      "text/plain": [
       "datetime.time"
      ]
     },
     "execution_count": 147,
     "metadata": {},
     "output_type": "execute_result"
    }
   ],
   "source": [
    "type(time1)"
   ]
  },
  {
   "cell_type": "code",
   "execution_count": 148,
   "id": "5dbf738d-d573-4a86-87c9-d5ff91910767",
   "metadata": {},
   "outputs": [
    {
     "data": {
      "text/plain": [
       "7"
      ]
     },
     "execution_count": 148,
     "metadata": {},
     "output_type": "execute_result"
    }
   ],
   "source": [
    "time1.hour"
   ]
  },
  {
   "cell_type": "code",
   "execution_count": 149,
   "id": "ff9cde2f-6742-4b89-9fd4-598cb4294dce",
   "metadata": {},
   "outputs": [
    {
     "data": {
      "text/plain": [
       "15"
      ]
     },
     "execution_count": 149,
     "metadata": {},
     "output_type": "execute_result"
    }
   ],
   "source": [
    "time1.minute"
   ]
  },
  {
   "cell_type": "code",
   "execution_count": 150,
   "id": "6ef97f82-1779-4cc6-8a86-135e03af4c3b",
   "metadata": {},
   "outputs": [
    {
     "data": {
      "text/plain": [
       "35"
      ]
     },
     "execution_count": 150,
     "metadata": {},
     "output_type": "execute_result"
    }
   ],
   "source": [
    "time1.second"
   ]
  },
  {
   "cell_type": "code",
   "execution_count": 151,
   "id": "c3c04937-bfa5-4918-aba4-db7770041b62",
   "metadata": {},
   "outputs": [
    {
     "data": {
      "text/plain": [
       "12345"
      ]
     },
     "execution_count": 151,
     "metadata": {},
     "output_type": "execute_result"
    }
   ],
   "source": [
    "time1.microsecond"
   ]
  },
  {
   "cell_type": "code",
   "execution_count": 58,
   "id": "8b1b28fb-d49f-4967-8da5-9c8a53607223",
   "metadata": {},
   "outputs": [
    {
     "name": "stdout",
     "output_type": "stream",
     "text": [
      "03:15:00\n"
     ]
    }
   ],
   "source": [
    "# We need not give all the numbers, just hours and minutes is also enough\n",
    "\n",
    "t2=time(3,15)\n",
    "print(t2)"
   ]
  },
  {
   "cell_type": "code",
   "execution_count": 60,
   "id": "8cf95dac-8782-4ee3-8f95-6463d8ae136e",
   "metadata": {},
   "outputs": [
    {
     "name": "stdout",
     "output_type": "stream",
     "text": [
      "03:00:00\n"
     ]
    }
   ],
   "source": [
    "t2=time(3)\n",
    "print(t2)"
   ]
  },
  {
   "cell_type": "markdown",
   "id": "6704a8f7-2ad5-4d1d-9fac-9a29e72403db",
   "metadata": {},
   "source": [
    "#### datetime() module - To work with both date and time generated by system & user input\n",
    "- Syntax - datetime(year,month,date,h,m,s,micsec,tzinfo)\n",
    "- Functions\n",
    "- datetime_var_name.now() >>> To get the system date and time along with micsec\n",
    "- datetime_var_name.today() >>> To get the system date and time along with micsec\n",
    "- datetime_var_name.date() >>> To extract only date from the datetime.\n",
    "- datetime_var_name.time() >>> To extract only time from the datetime.\n",
    "- datetime_var_name.hour\n",
    "- datetime_var_name.minute\n",
    "- datetime_var_name.second\n",
    "- datetime_var_name.microsecond\n",
    "- datetime_var_name.day\n",
    "- datetime_var_name.month\n",
    "- datetime_var_name.year\n",
    "- datetime_var_name.isoweekday() >>> To get the day number of the current week, starts from Monday(1)\n",
    "- datetime_var_name.weekday >>> >>> To get the day number of the current week, starts from Monday(0)"
   ]
  },
  {
   "cell_type": "code",
   "execution_count": 166,
   "id": "092ffa2f-f629-49a2-90ca-8f72372c9513",
   "metadata": {},
   "outputs": [
    {
     "name": "stdout",
     "output_type": "stream",
     "text": [
      "2025-05-21 10:01:21.039383\n",
      "2025-05-23 20:39:38.263139\n",
      "2025-05-23 20:39:38.263139\n",
      "20:39:38.263139\n",
      "2025-05-23\n"
     ]
    }
   ],
   "source": [
    "# import datetime module from datetime package\n",
    "from datetime import datetime\n",
    "\n",
    "# Accept datetime from user\n",
    "dt_user = datetime(2025,5,21,10,1,21,39383)\n",
    "\n",
    "# Take datetime from system using now() function\n",
    "dt_system1 = datetime.now()\n",
    "dt_system2 = datetime.today()\n",
    "\n",
    "# To get only time from datetime\n",
    "dt_system3 = datetime.time(dt_system2)\n",
    "\n",
    "# To get only date from datetime\n",
    "dt_system4 = datetime.date(dt_system2)\n",
    "\n",
    "print(dt_user)\n",
    "print(dt_system1)\n",
    "print(dt_system2)\n",
    "print(dt_system3)\n",
    "print(dt_system4)"
   ]
  },
  {
   "cell_type": "code",
   "execution_count": 110,
   "id": "a9623220-4a6b-4ca4-8841-cc12b63bd9b3",
   "metadata": {},
   "outputs": [
    {
     "name": "stdout",
     "output_type": "stream",
     "text": [
      "2025-05-23 08:12:10.010245\n",
      "2025-05-23 20:32:34.173892\n"
     ]
    }
   ],
   "source": [
    "# import datetime module from datetime package and give alias name to datetime module.\n",
    "from datetime import datetime as dt\n",
    "\n",
    "dt_user = dt(2025,5,23,8,12,10,10245)\n",
    "dt_system = dt.now()\n",
    "\n",
    "print(dt_user)\n",
    "print(dt_system)"
   ]
  },
  {
   "cell_type": "code",
   "execution_count": 112,
   "id": "32bf915b-4ed9-43df-8788-7c729fc15bbd",
   "metadata": {},
   "outputs": [
    {
     "name": "stdout",
     "output_type": "stream",
     "text": [
      "5\n",
      "5\n"
     ]
    }
   ],
   "source": [
    "# To get the day number of the current week, Monday = 1 and Sunday = 7\n",
    "\n",
    "print(dt_user.isoweekday())\n",
    "print(dt_system.isoweekday())"
   ]
  },
  {
   "cell_type": "code",
   "execution_count": 114,
   "id": "08898fa0-a7b8-4bce-8716-dc4ec0fe1796",
   "metadata": {},
   "outputs": [
    {
     "name": "stdout",
     "output_type": "stream",
     "text": [
      "8\n",
      "20\n"
     ]
    }
   ],
   "source": [
    "print(dt_user.hour)\n",
    "print(dt_system.hour)"
   ]
  },
  {
   "cell_type": "code",
   "execution_count": 116,
   "id": "c9d2b376-6ace-4a6f-aafa-624030fd602c",
   "metadata": {},
   "outputs": [
    {
     "name": "stdout",
     "output_type": "stream",
     "text": [
      "12\n",
      "32\n"
     ]
    }
   ],
   "source": [
    "print(dt_user.minute)\n",
    "print(dt_system.minute)"
   ]
  },
  {
   "cell_type": "code",
   "execution_count": 118,
   "id": "dcddfca9-029e-4952-b74d-bf2989c5783f",
   "metadata": {},
   "outputs": [
    {
     "name": "stdout",
     "output_type": "stream",
     "text": [
      "10\n",
      "34\n"
     ]
    }
   ],
   "source": [
    "print(dt_user.second)\n",
    "print(dt_system.second)"
   ]
  },
  {
   "cell_type": "code",
   "execution_count": 120,
   "id": "13927528-85dc-4d11-9480-2956ae3a6b2b",
   "metadata": {},
   "outputs": [
    {
     "name": "stdout",
     "output_type": "stream",
     "text": [
      "10245\n",
      "173892\n"
     ]
    }
   ],
   "source": [
    "print(dt_user.microsecond)\n",
    "print(dt_system.microsecond)"
   ]
  },
  {
   "cell_type": "code",
   "execution_count": 122,
   "id": "1d67463c-9db4-4151-8c8e-fe3f9daf2219",
   "metadata": {},
   "outputs": [
    {
     "name": "stdout",
     "output_type": "stream",
     "text": [
      "23\n",
      "23\n"
     ]
    }
   ],
   "source": [
    "print(dt_user.day)\n",
    "print(dt_system.day)"
   ]
  },
  {
   "cell_type": "code",
   "execution_count": 124,
   "id": "25ec9447-4c42-4d28-842f-b65f8e77b769",
   "metadata": {},
   "outputs": [
    {
     "name": "stdout",
     "output_type": "stream",
     "text": [
      "5\n",
      "5\n"
     ]
    }
   ],
   "source": [
    "print(dt_user.month)\n",
    "print(dt_system.month)"
   ]
  },
  {
   "cell_type": "code",
   "execution_count": 126,
   "id": "aaf58f45-842f-48bb-8f34-7159bf966793",
   "metadata": {},
   "outputs": [
    {
     "name": "stdout",
     "output_type": "stream",
     "text": [
      "2025\n",
      "2025\n"
     ]
    }
   ],
   "source": [
    "print(dt_user.year)\n",
    "print(dt_system.year)"
   ]
  },
  {
   "cell_type": "code",
   "execution_count": 171,
   "id": "1d779e64-9ac5-4d4e-bfb0-15e36e251b24",
   "metadata": {},
   "outputs": [
    {
     "name": "stdout",
     "output_type": "stream",
     "text": [
      "4\n",
      "5\n"
     ]
    }
   ],
   "source": [
    "print(dt_system.weekday()) # Monday = 0\n",
    "print(dt_system.isoweekday()) # Monday = 1"
   ]
  },
  {
   "cell_type": "markdown",
   "id": "c9ad4f1a-5730-4605-a88e-23ae673a8e18",
   "metadata": {},
   "source": [
    "#### timedelta() module - To work with calculations on time\n",
    "- Syntax - timedelta(days=0, seconds=0, microseconds=0, milliseconds=0, minutes=0, hours=0, weeks=0)\n",
    "- Functions\n",
    "- time_var_name.now() >>> To get the system date and time along with micsec\n",
    "- time_var_name.isoweekday() >>> To get the day number of the current week, starts from Sunday(0)\n",
    "- time_var_name.hour\n",
    "- time_var_name.minute\n",
    "- time_var_name.second\n",
    "- time_var_name.microsecond\n",
    "- time_var_name.day\n",
    "- time_var_name.month\n",
    "- time_var_name.year"
   ]
  },
  {
   "cell_type": "code",
   "execution_count": 199,
   "id": "a0b97fd8-9e1a-40d1-af7b-6af57d28b3e5",
   "metadata": {},
   "outputs": [
    {
     "name": "stdout",
     "output_type": "stream",
     "text": [
      "2025-05-23 20:57:05.085110\n",
      "2025-05-23 23:57:05.085110\n",
      "2025-06-02 20:57:05.085110\n",
      "2025-05-13 20:57:05.085110\n",
      "2025-05-13 20:57:05.085110\n",
      "2025-05-26 22:57:05.085110\n"
     ]
    }
   ],
   "source": [
    "# import timedelta module from datetime package\n",
    "# Get todays date and Add 3 hours to todays date\n",
    "# Get todays date and add 10 days to todays date\n",
    "# Get todays date and minus 10 days to todays date\n",
    "# Get todays date and add 3 days and 2 hours to todays date\n",
    "\n",
    "from datetime import timedelta \n",
    "from datetime import datetime\n",
    "\n",
    "# Get todays date\n",
    "todays_date = datetime.today()\n",
    "#todays_date = datetime.now() >>> today() and now() both are same.\n",
    "print(todays_date)\n",
    "\n",
    "# Add 3 hours to todays date\n",
    "todays_date_add3hours = todays_date + timedelta(hours=3)\n",
    "print(todays_date_add3hours)\n",
    "\n",
    "# Add 10 days to todays date\n",
    "todays_date_Plus10days = todays_date + timedelta(days=10)\n",
    "print(todays_date_Plus10days)\n",
    "\n",
    "# Minus 10 days to todays date\n",
    "todays_date_Minus10days1 = todays_date - timedelta(days=10)\n",
    "print(todays_date_Minus10days1)\n",
    "\n",
    "# Minus 10 days to todays date\n",
    "todays_date_Minus10days2 = todays_date + timedelta(days=-10)\n",
    "print(todays_date_Minus10days2)\n",
    "\n",
    "# Add 3 days and 2 hours to todays date\n",
    "todays_date_add3d2h = todays_date + timedelta(days=3,hours=2)\n",
    "print(todays_date_add3d2h)"
   ]
  },
  {
   "cell_type": "code",
   "execution_count": 213,
   "id": "fa2ca815-7512-4d18-8015-f53fef892da0",
   "metadata": {},
   "outputs": [
    {
     "name": "stdout",
     "output_type": "stream",
     "text": [
      "2025-05-23 21:13:53.314147\n",
      "2025-05-30 21:13:53.314147\n"
     ]
    }
   ],
   "source": [
    "# Add one week to todays date\n",
    "from datetime import datetime\n",
    "from datetime import timedelta\n",
    "\n",
    "# Get todays date\n",
    "#todays_date = datetime.today()\n",
    "todays_date = datetime.now()\n",
    "print(todays_date)\n",
    "\n",
    "# Add one week to todays date\n",
    "todays_date_Add1W = todays_date + timedelta(weeks=1)\n",
    "print(todays_date_Add1W)"
   ]
  },
  {
   "cell_type": "code",
   "execution_count": 265,
   "id": "02ddbbd4-a4d5-45a3-be0b-cc6f49a47945",
   "metadata": {},
   "outputs": [
    {
     "name": "stdout",
     "output_type": "stream",
     "text": [
      "1988-12-14\n",
      "2025-05-23\n",
      "13309 days, 0:00:00\n",
      "36 days, 11:06:44.383562\n",
      "2025\n",
      "1988\n",
      "37\n"
     ]
    }
   ],
   "source": [
    "# Get DoB and todays date\n",
    "# Calculate the age\n",
    "\n",
    "from datetime import date\n",
    "\n",
    "# Get dob from the user\n",
    "dob = date(1988,12,14)\n",
    "print(dob)\n",
    "\n",
    "# Get todays date\n",
    "todays_date = date.today()\n",
    "print(todays_date)\n",
    "\n",
    "# Calculate the age\n",
    "age = todays_date - dob\n",
    "\n",
    "# no of days\n",
    "print(age)\n",
    "\n",
    "# no. of days divide by 365 gives the years\n",
    "print(age/365)\n",
    "\n",
    "# Or one more way to directly get the age\n",
    "todays_date_year = todays_date.year\n",
    "print(todays_date_year)\n",
    "dob_year = dob.year\n",
    "print(dob_year)\n",
    "age = todays_date_year - dob_year\n",
    "print(age)"
   ]
  },
  {
   "cell_type": "code",
   "execution_count": 301,
   "id": "0cae3d75-5e2b-4ff1-a71c-d6fdb0512d62",
   "metadata": {},
   "outputs": [
    {
     "name": "stdout",
     "output_type": "stream",
     "text": [
      "DoB  1992-12-14\n",
      "todays date  2025-05-23\n",
      "todays age  33\n",
      "DoB plus 1000 days  2028-02-17\n",
      "Age after 1000 days from today  36\n"
     ]
    }
   ],
   "source": [
    "# Calculate the age after 1000 days from today of a person with dob = date(1992,12,14)\n",
    "\n",
    "# Assign the age\n",
    "sachinDoB = date(1992,12,14)\n",
    "print('DoB ',sachinDoB)\n",
    "\n",
    "# Get todays date\n",
    "todays_date = date.today()\n",
    "print('todays date ',todays_date)\n",
    "\n",
    "# Get todays age\n",
    "todays_age = todays_date.year - sachinDoB.year\n",
    "print(\"todays age \",todays_age)\n",
    "\n",
    "# Add 1000 days to todays date\n",
    "sachinDoB_Add1000days = todays_date + timedelta(days=1000)\n",
    "print('DoB plus 1000 days ',sachinDoB_Add1000days)\n",
    "\n",
    "# Calculate the age of the person after 1000 days from today\n",
    "age_after1000daysfromtoday = sachinDoB_Add1000days.year - sachinDoB.year\n",
    "print(\"Age after 1000 days from today \",age_after1000daysfromtoday)"
   ]
  },
  {
   "cell_type": "code",
   "execution_count": null,
   "id": "df129c4a-0786-496b-9f67-850eda9bafdb",
   "metadata": {},
   "outputs": [],
   "source": []
  }
 ],
 "metadata": {
  "kernelspec": {
   "display_name": "Python [conda env:base] *",
   "language": "python",
   "name": "conda-base-py"
  },
  "language_info": {
   "codemirror_mode": {
    "name": "ipython",
    "version": 3
   },
   "file_extension": ".py",
   "mimetype": "text/x-python",
   "name": "python",
   "nbconvert_exporter": "python",
   "pygments_lexer": "ipython3",
   "version": "3.12.7"
  }
 },
 "nbformat": 4,
 "nbformat_minor": 5
}
