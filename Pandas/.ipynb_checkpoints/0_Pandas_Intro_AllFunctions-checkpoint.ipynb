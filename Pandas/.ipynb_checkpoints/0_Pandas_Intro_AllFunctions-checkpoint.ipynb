{
 "cells": [
  {
   "cell_type": "markdown",
   "id": "51842b0e-12cb-424f-85bb-468bf25ec438",
   "metadata": {},
   "source": [
    "- Pandas is a Python library used for data manipulation and analysis.\n",
    "- It provides data structures and operations for working with numerical tables and time series.\n",
    "- The library is built on top of NumPy and is designed to work with tabular data, similar to a spreadsheet or SQL table.\n",
    "- <b>Update:-</b> We can upadte an individual value in Pandas Series by using normal indexing.\n",
    "- .\n",
    "- Here are some of the key features of Pandas:\n",
    "- .\n",
    "- Data Structures:\n",
    "- Pandas provides two main data structures:\n",
    "- <b>Series:</b> A one-dimensional labeled array capable of holding any data type.\n",
    "- <b>DataFrame:</b> A two-dimensional table-like structure with labeled rows and columns.\n",
    "- .\n",
    "- Data Manipulation:\n",
    "- Pandas offers a wide range of functions for manipulating data, including:\n",
    "- Filtering, sorting, grouping, joining, merging, and reshaping data.\n",
    "- Handling missing data (represented as NaN, NA, or NaT).\n",
    "- Selecting specific columns and rows.\n",
    "- Renaming columns.\n",
    "- Aggregating and transforming data.\n",
    "- .\n",
    "- Data Input/Output:\n",
    "- Pandas supports reading and writing data from various formats, including:\n",
    "- CSV files, Excel files, Databases, HDF5 files.\n",
    "- .\n",
    "- Time Series Functionality:\n",
    "- Pandas provides tools for working with time series data, such as:\n",
    "- Generating date ranges.\n",
    "- Converting frequencies.\n",
    "- Calculating moving window statistics.\n",
    "- Shifting and lagging data.\n",
    "- .\n",
    "- Integration:\n",
    "- Pandas integrates well with other Python data science libraries, such as:\n",
    "- NumPy, Matplotlib, Seaborn, Scikit-learn, TensorFlow.\n",
    "- .\n",
    "- Pandas is widely used in various fields, including finance, neuroscience, economics, statistics, advertising, and web analytics. It is a powerful tool for data analysis, allowing users to clean, explore, and manipulate data efficiently."
   ]
  },
  {
   "cell_type": "markdown",
   "id": "75868486-51ee-4d5f-9d49-c6fafdc8d6fd",
   "metadata": {},
   "source": [
    "##### data structure used in pandas\n",
    "- Series - as 1DA\n",
    "- Dataframe - 2DA"
   ]
  },
  {
   "cell_type": "code",
   "execution_count": null,
   "id": "0697b3d1-d177-426f-98db-f232b87007c8",
   "metadata": {},
   "outputs": [],
   "source": []
  }
 ],
 "metadata": {
  "kernelspec": {
   "display_name": "Python [conda env:base] *",
   "language": "python",
   "name": "conda-base-py"
  },
  "language_info": {
   "codemirror_mode": {
    "name": "ipython",
    "version": 3
   },
   "file_extension": ".py",
   "mimetype": "text/x-python",
   "name": "python",
   "nbconvert_exporter": "python",
   "pygments_lexer": "ipython3",
   "version": "3.12.7"
  }
 },
 "nbformat": 4,
 "nbformat_minor": 5
}
