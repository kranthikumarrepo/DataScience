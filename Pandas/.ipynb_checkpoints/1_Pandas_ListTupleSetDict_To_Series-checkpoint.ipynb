{
 "cells": [
  {
   "cell_type": "markdown",
   "id": "35be7976-0d6c-4644-ab79-ce890d5d04b8",
   "metadata": {},
   "source": [
    "#### Pandas Series\n",
    "- Has one index/key and value\n",
    "- Default indexing by pandas starts with 0,1,2,...\n",
    "- We can convert list/tuple/series/dictionary to Pandas Series\n",
    "- Example\n",
    "- 0   kranthi\n",
    "- 1   kumar\n",
    "- 2   akk\n",
    "- Syntax:-\n",
    "- pandas.Series(List/Tuple/Set/Dict/Values,index=index_Variable)"
   ]
  },
  {
   "cell_type": "markdown",
   "id": "8e936920-5c8e-4c5b-a85e-d8f2c60c6d40",
   "metadata": {},
   "source": [
    "#### Note\n",
    "- The keys in dictionary gets converted to index in Series\n",
    "- Note that the index is not 0, 1, 2, etc. Pandas Series has converted dictionary keys to indexes.\n",
    "- Best way to create a Series is from dictionary"
   ]
  },
  {
   "cell_type": "code",
   "execution_count": 92,
   "id": "a289454b-62c7-4861-bb4b-3c03c308385b",
   "metadata": {},
   "outputs": [
    {
     "data": {
      "text/plain": [
       "'\\n                        chiru     akk     sachin      kk\\nDefault key/index         0         1        2         3\\nDictionarys key/indxe    key1      key2     key3      key4\\n\\nWe can give our own key/index\\n'"
      ]
     },
     "execution_count": 92,
     "metadata": {},
     "output_type": "execute_result"
    }
   ],
   "source": [
    "\"\"\"\n",
    "                        chiru     akk     sachin      kk\n",
    "Default key/index         0         1        2         3\n",
    "Dictionarys key/indxe    key1      key2     key3      key4\n",
    "\n",
    "We can give our own key/index\n",
    "\"\"\""
   ]
  },
  {
   "cell_type": "code",
   "execution_count": 41,
   "id": "74ea6178-c485-4bf0-a491-2008a87ae0ea",
   "metadata": {},
   "outputs": [],
   "source": [
    "import pandas as pd"
   ]
  },
  {
   "cell_type": "code",
   "execution_count": 43,
   "id": "dbb21a0b-bd99-4a23-a74d-f5792242690d",
   "metadata": {},
   "outputs": [
    {
     "data": {
      "text/plain": [
       "['akk', 'kk', 'sachin', 'chiru']"
      ]
     },
     "execution_count": 43,
     "metadata": {},
     "output_type": "execute_result"
    }
   ],
   "source": [
    "# Create a list of names \n",
    "namesL = ['akk','kk','sachin','chiru']\n",
    "namesL"
   ]
  },
  {
   "cell_type": "code",
   "execution_count": 45,
   "id": "c672e102-4152-4a5c-861d-e096656ec789",
   "metadata": {},
   "outputs": [
    {
     "data": {
      "text/plain": [
       "0       akk\n",
       "1        kk\n",
       "2    sachin\n",
       "3     chiru\n",
       "dtype: object"
      ]
     },
     "execution_count": 45,
     "metadata": {},
     "output_type": "execute_result"
    }
   ],
   "source": [
    "# List to Pandas Series\n",
    "pdsL = pd.Series(namesL)\n",
    "pdsL"
   ]
  },
  {
   "cell_type": "code",
   "execution_count": 108,
   "id": "a9036296-c49f-4868-83ec-4be7ecb19102",
   "metadata": {},
   "outputs": [
    {
     "data": {
      "text/plain": [
       "0       akk\n",
       "1        kk\n",
       "2    sachin\n",
       "3     chiru\n",
       "dtype: object"
      ]
     },
     "execution_count": 108,
     "metadata": {},
     "output_type": "execute_result"
    }
   ],
   "source": [
    "# Directly create Series\n",
    "namesS = pd.Series(['akk','kk','sachin','chiru'])\n",
    "namesS"
   ]
  },
  {
   "cell_type": "code",
   "execution_count": 47,
   "id": "bcb1f9d0-da19-4e33-b0b6-9543ab42d069",
   "metadata": {},
   "outputs": [
    {
     "data": {
      "text/plain": [
       "pandas.core.series.Series"
      ]
     },
     "execution_count": 47,
     "metadata": {},
     "output_type": "execute_result"
    }
   ],
   "source": [
    "type(pdsL)"
   ]
  },
  {
   "cell_type": "code",
   "execution_count": 129,
   "id": "055bd737-cf86-4e03-9866-cf4a4a91eb6f",
   "metadata": {},
   "outputs": [
    {
     "data": {
      "text/plain": [
       "a       akk\n",
       "k        kk\n",
       "s    sachin\n",
       "c     chiru\n",
       "dtype: object"
      ]
     },
     "execution_count": 129,
     "metadata": {},
     "output_type": "execute_result"
    }
   ],
   "source": [
    "# Directly create Series with our own keys\n",
    "namesS = pd.Series(['akk','kk','sachin','chiru'],index=['a','k','s','c'])\n",
    "namesS"
   ]
  },
  {
   "cell_type": "code",
   "execution_count": 62,
   "id": "883f372f-e54f-48aa-9cb5-4f4380d4f702",
   "metadata": {},
   "outputs": [
    {
     "data": {
      "text/plain": [
       "('akk', 'kk', 'sachin', 'chiru')"
      ]
     },
     "execution_count": 62,
     "metadata": {},
     "output_type": "execute_result"
    }
   ],
   "source": [
    "# Create a Tuple of names\n",
    "namesT = ('akk','kk','sachin','chiru')\n",
    "namesT"
   ]
  },
  {
   "cell_type": "code",
   "execution_count": 64,
   "id": "bdceada5-61d1-4ecb-911e-1d8ea4e0a27e",
   "metadata": {},
   "outputs": [
    {
     "data": {
      "text/plain": [
       "0       akk\n",
       "1        kk\n",
       "2    sachin\n",
       "3     chiru\n",
       "dtype: object"
      ]
     },
     "execution_count": 64,
     "metadata": {},
     "output_type": "execute_result"
    }
   ],
   "source": [
    "# Tuple to Pandas Series\n",
    "pdsT = pd.Series(namesT)\n",
    "pdsT"
   ]
  },
  {
   "cell_type": "code",
   "execution_count": 110,
   "id": "60c3bc37-f8cb-479e-9ce9-df1e54aec42a",
   "metadata": {},
   "outputs": [
    {
     "data": {
      "text/plain": [
       "0       akk\n",
       "1        kk\n",
       "2    sachin\n",
       "3     chiru\n",
       "dtype: object"
      ]
     },
     "execution_count": 110,
     "metadata": {},
     "output_type": "execute_result"
    }
   ],
   "source": [
    "# Directly create Series\n",
    "namesS = pd.Series(('akk','kk','sachin','chiru'))\n",
    "namesS"
   ]
  },
  {
   "cell_type": "code",
   "execution_count": 66,
   "id": "289c07cf-9d87-4a4f-b513-a2ba97a3e37e",
   "metadata": {},
   "outputs": [
    {
     "data": {
      "text/plain": [
       "{'akk', 'chiru', 'kk', 'sachin'}"
      ]
     },
     "execution_count": 66,
     "metadata": {},
     "output_type": "execute_result"
    }
   ],
   "source": [
    "# Create a set of names\n",
    "namesS = {'akk','kk','sachin','chiru'}\n",
    "namesS"
   ]
  },
  {
   "cell_type": "code",
   "execution_count": 68,
   "id": "1f0be0c8-55f1-4db0-ba76-4a35368bb5d8",
   "metadata": {},
   "outputs": [
    {
     "ename": "TypeError",
     "evalue": "'set' type is unordered",
     "output_type": "error",
     "traceback": [
      "\u001b[1;31m---------------------------------------------------------------------------\u001b[0m",
      "\u001b[1;31mTypeError\u001b[0m                                 Traceback (most recent call last)",
      "Cell \u001b[1;32mIn[68], line 2\u001b[0m\n\u001b[0;32m      1\u001b[0m \u001b[38;5;66;03m# Set to Pandas Series\u001b[39;00m\n\u001b[1;32m----> 2\u001b[0m pdsS \u001b[38;5;241m=\u001b[39m pd\u001b[38;5;241m.\u001b[39mSeries(namesS)\n",
      "File \u001b[1;32m~\\anaconda3\\Lib\\site-packages\\pandas\\core\\series.py:584\u001b[0m, in \u001b[0;36mSeries.__init__\u001b[1;34m(self, data, index, dtype, name, copy, fastpath)\u001b[0m\n\u001b[0;32m    582\u001b[0m         data \u001b[38;5;241m=\u001b[39m data\u001b[38;5;241m.\u001b[39mcopy()\n\u001b[0;32m    583\u001b[0m \u001b[38;5;28;01melse\u001b[39;00m:\n\u001b[1;32m--> 584\u001b[0m     data \u001b[38;5;241m=\u001b[39m sanitize_array(data, index, dtype, copy)\n\u001b[0;32m    586\u001b[0m     manager \u001b[38;5;241m=\u001b[39m _get_option(\u001b[38;5;124m\"\u001b[39m\u001b[38;5;124mmode.data_manager\u001b[39m\u001b[38;5;124m\"\u001b[39m, silent\u001b[38;5;241m=\u001b[39m\u001b[38;5;28;01mTrue\u001b[39;00m)\n\u001b[0;32m    587\u001b[0m     \u001b[38;5;28;01mif\u001b[39;00m manager \u001b[38;5;241m==\u001b[39m \u001b[38;5;124m\"\u001b[39m\u001b[38;5;124mblock\u001b[39m\u001b[38;5;124m\"\u001b[39m:\n",
      "File \u001b[1;32m~\\anaconda3\\Lib\\site-packages\\pandas\\core\\construction.py:642\u001b[0m, in \u001b[0;36msanitize_array\u001b[1;34m(data, index, dtype, copy, allow_2d)\u001b[0m\n\u001b[0;32m    633\u001b[0m     \u001b[38;5;28;01mreturn\u001b[39;00m sanitize_array(\n\u001b[0;32m    634\u001b[0m         data,\n\u001b[0;32m    635\u001b[0m         index\u001b[38;5;241m=\u001b[39mindex,\n\u001b[1;32m   (...)\u001b[0m\n\u001b[0;32m    638\u001b[0m         allow_2d\u001b[38;5;241m=\u001b[39mallow_2d,\n\u001b[0;32m    639\u001b[0m     )\n\u001b[0;32m    641\u001b[0m \u001b[38;5;28;01melse\u001b[39;00m:\n\u001b[1;32m--> 642\u001b[0m     _sanitize_non_ordered(data)\n\u001b[0;32m    643\u001b[0m     \u001b[38;5;66;03m# materialize e.g. generators, convert e.g. tuples, abc.ValueView\u001b[39;00m\n\u001b[0;32m    644\u001b[0m     data \u001b[38;5;241m=\u001b[39m \u001b[38;5;28mlist\u001b[39m(data)\n",
      "File \u001b[1;32m~\\anaconda3\\Lib\\site-packages\\pandas\\core\\construction.py:693\u001b[0m, in \u001b[0;36m_sanitize_non_ordered\u001b[1;34m(data)\u001b[0m\n\u001b[0;32m    689\u001b[0m \u001b[38;5;250m\u001b[39m\u001b[38;5;124;03m\"\"\"\u001b[39;00m\n\u001b[0;32m    690\u001b[0m \u001b[38;5;124;03mRaise only for unordered sets, e.g., not for dict_keys\u001b[39;00m\n\u001b[0;32m    691\u001b[0m \u001b[38;5;124;03m\"\"\"\u001b[39;00m\n\u001b[0;32m    692\u001b[0m \u001b[38;5;28;01mif\u001b[39;00m \u001b[38;5;28misinstance\u001b[39m(data, (\u001b[38;5;28mset\u001b[39m, \u001b[38;5;28mfrozenset\u001b[39m)):\n\u001b[1;32m--> 693\u001b[0m     \u001b[38;5;28;01mraise\u001b[39;00m \u001b[38;5;167;01mTypeError\u001b[39;00m(\u001b[38;5;124mf\u001b[39m\u001b[38;5;124m\"\u001b[39m\u001b[38;5;124m'\u001b[39m\u001b[38;5;132;01m{\u001b[39;00m\u001b[38;5;28mtype\u001b[39m(data)\u001b[38;5;241m.\u001b[39m\u001b[38;5;18m__name__\u001b[39m\u001b[38;5;132;01m}\u001b[39;00m\u001b[38;5;124m'\u001b[39m\u001b[38;5;124m type is unordered\u001b[39m\u001b[38;5;124m\"\u001b[39m)\n",
      "\u001b[1;31mTypeError\u001b[0m: 'set' type is unordered"
     ]
    }
   ],
   "source": [
    "# Set to Pandas Series\n",
    "pdsS = pd.Series(namesS)\n",
    "\n",
    "# Error as data in set is sorted everytime and duplicates are removed. First convert set to list and then to pandas series"
   ]
  },
  {
   "cell_type": "code",
   "execution_count": 70,
   "id": "53946a05-2317-4911-a2e1-435b3e21e1ab",
   "metadata": {},
   "outputs": [
    {
     "data": {
      "text/plain": [
       "0     chiru\n",
       "1       akk\n",
       "2    sachin\n",
       "3        kk\n",
       "dtype: object"
      ]
     },
     "execution_count": 70,
     "metadata": {},
     "output_type": "execute_result"
    }
   ],
   "source": [
    "# Set to Pandas Series\n",
    "\n",
    "namesS = {'akk','kk','sachin','chiru'}\n",
    "\n",
    "# Convert Set to List as Set cannot be converted to Series directly.\n",
    "namesS2L = list(namesS)\n",
    "\n",
    "pdsS2L = pd.Series(namesS2L)\n",
    "pdsS2L"
   ]
  },
  {
   "cell_type": "code",
   "execution_count": 116,
   "id": "898b6e61-0b07-4427-9d6c-452c1e9db0df",
   "metadata": {},
   "outputs": [
    {
     "name": "stdout",
     "output_type": "stream",
     "text": [
      "{'name1': 'chiru', 'name2': 'akk', 'name3': 'sachin', 'name4': 'kk'}\n"
     ]
    }
   ],
   "source": [
    "# Create Dictionary of names\n",
    "\n",
    "namesD = {\n",
    "    'name1':'chiru',\n",
    "    'name2':'akk',\n",
    "    'name3':'sachin',\n",
    "    'name4':'kk'\n",
    "}\n",
    "print(namesD)"
   ]
  },
  {
   "cell_type": "code",
   "execution_count": 74,
   "id": "1e85fb51-3352-485e-9295-e0f8d01a99a6",
   "metadata": {},
   "outputs": [
    {
     "data": {
      "text/plain": [
       "name1     chiru\n",
       "name2       akk\n",
       "name3    sachin\n",
       "name4        kk\n",
       "dtype: object"
      ]
     },
     "execution_count": 74,
     "metadata": {},
     "output_type": "execute_result"
    }
   ],
   "source": [
    "# Dictionary to Series\n",
    "pd.Series(namesD)"
   ]
  },
  {
   "cell_type": "code",
   "execution_count": 114,
   "id": "35427309-80ba-4367-a4ae-f606985c018d",
   "metadata": {},
   "outputs": [
    {
     "data": {
      "text/plain": [
       "name1     chiru\n",
       "name2       akk\n",
       "name3    sachin\n",
       "name4        kk\n",
       "dtype: object"
      ]
     },
     "execution_count": 114,
     "metadata": {},
     "output_type": "execute_result"
    }
   ],
   "source": [
    "# Directly create Series\n",
    "namesS = pd.Series({'name1':'chiru','name2':'akk','name3':'sachin','name4':'kk'})\n",
    "namesS"
   ]
  },
  {
   "cell_type": "markdown",
   "id": "4f5cb94c-685e-4727-87d8-5747c84e2720",
   "metadata": {},
   "source": [
    "#### Changing the default index (0 1 2)"
   ]
  },
  {
   "cell_type": "code",
   "execution_count": 98,
   "id": "016d8d9c-3bb2-44a9-828d-1b87af78b8f3",
   "metadata": {},
   "outputs": [
    {
     "name": "stdout",
     "output_type": "stream",
     "text": [
      "0        akk\n",
      "1         kk\n",
      "2     sachin\n",
      "3      chiru\n",
      "4    kranthi\n",
      "5      kumar\n",
      "dtype: object\n",
      "\n",
      "\n",
      "0     10\n",
      "1     20\n",
      "2     80\n",
      "3     90\n",
      "4    100\n",
      "5    100\n",
      "dtype: int64\n"
     ]
    }
   ],
   "source": [
    "namesL = ['akk','kk','sachin','chiru','kranthi','kumar']\n",
    "namesS = pd.Series(namesL)\n",
    "\n",
    "marksL = [10,20,80,90,100,100]\n",
    "marksS = pd.Series(marksL)\n",
    "\n",
    "print(namesS)\n",
    "print('\\n')\n",
    "print(marksS)"
   ]
  },
  {
   "cell_type": "code",
   "execution_count": 102,
   "id": "ced45f40-4fc7-46e0-8a90-04597f8a1b5f",
   "metadata": {},
   "outputs": [
    {
     "name": "stdout",
     "output_type": "stream",
     "text": [
      "akk         10\n",
      "kk          20\n",
      "sachin      80\n",
      "chiru       90\n",
      "kranthi    100\n",
      "kumar      100\n",
      "dtype: int64\n"
     ]
    }
   ],
   "source": [
    "# Create marks Series with index as names instead of 0,1,...\n",
    "\n",
    "marksS = pd.Series(marksL,index=namesS)\n",
    "print(marksS)"
   ]
  },
  {
   "cell_type": "code",
   "execution_count": 124,
   "id": "dc4418a0-ec00-41df-ad02-9f2dd32d6f46",
   "metadata": {},
   "outputs": [
    {
     "data": {
      "text/plain": [
       "chiru      10\n",
       "akk        90\n",
       "sachin    100\n",
       "kk        100\n",
       "dtype: int64"
      ]
     },
     "execution_count": 124,
     "metadata": {},
     "output_type": "execute_result"
    }
   ],
   "source": [
    "# Give Series values directly while creating a series\n",
    "\n",
    "namesS = pd.Series({'name1':'chiru','name2':'akk','name3':'sachin','name4':'kk'})\n",
    "\n",
    "pd.Series([10,90,100,100],index=namesS)"
   ]
  }
 ],
 "metadata": {
  "kernelspec": {
   "display_name": "Python [conda env:base] *",
   "language": "python",
   "name": "conda-base-py"
  },
  "language_info": {
   "codemirror_mode": {
    "name": "ipython",
    "version": 3
   },
   "file_extension": ".py",
   "mimetype": "text/x-python",
   "name": "python",
   "nbconvert_exporter": "python",
   "pygments_lexer": "ipython3",
   "version": "3.12.7"
  }
 },
 "nbformat": 4,
 "nbformat_minor": 5
}
