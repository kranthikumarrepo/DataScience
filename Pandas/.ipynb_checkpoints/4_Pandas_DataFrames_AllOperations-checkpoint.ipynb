{
 "cells": [
  {
   "cell_type": "markdown",
   "id": "eb8cb3f8-8b8f-4946-a6a9-affb7048bf38",
   "metadata": {},
   "source": [
    "- To create a DataFrame\n",
    "- Syntax:-\n",
    "- df_obj_name = pd.DataFrame(2Ddata)\n",
    "- .\n",
    "- To create our own indexing\n",
    "- Syntax:-\n",
    "- df_obj_name = pd.DataFrame(2Ddata,index = [])\n",
    "- .\n",
    "- To get the data type of the DataFrame\n",
    "- Syntax:-\n",
    "- type(df_obj_name)\n",
    "- .\n",
    "- To get the data type of the column in a DataFrame\n",
    "- Syntax:-\n",
    "- type(df_obj_name).column_name\n",
    "- .\n",
    "- To get the index values only\n",
    "- Syntax:-\n",
    "- df_obj_name.index\n",
    "- .\n",
    "- To select one column records and filter records from that column.\n",
    "- Syntax:-\n",
    "- Titanic_DF_Copy['Age_Inputed'][Titanic_DF_Copy.Age_Inputed.isnull()].head(3)\n",
    "- Or\n",
    "- Titanic_DF_Copy.Age_Inputed[Titanic_DF_Copy.Age_Inputed.isnull()].head(3)\n",
    "- .\n",
    "- To get only the values from a dataframe\n",
    "- Syntax:-\n",
    "- df_obj_name.values\n",
    "- .\n",
    "- To convert numpy array to pandas dataframes\n",
    "- Syntax:-\n",
    "- data_df = pd.DataFrame(data_array) >>> If we do not specify column name, it gives col names as 0,1,2,....\n",
    "- data_df = pd.DataFrame(data_array, columns = ['col1','col2',.......])\n",
    "- data_df = pd.DataFrame(data_array, columns = x_train.columns) >>> Copy column names from an existing dataframe, x_train here.\n",
    "- data_df = pd.DataFrame(data_array, columns = x_train.columns + ' some_name_to_append') >>> Copy column names from an existing dataframe, x_train here.\n",
    "- Ex: x_train_trasf_SI_F_DF = pd.DataFrame(x_train_trasf_SI_F, columns=x_train.columns + ' Imputed')\n",
    "- More examples of this are in Machine Learning file 13_Feature_Scaling\n",
    "- .\n",
    "- To calculate skewness, average, etc. on a specific column in a dataframe\n",
    "- Syntax:-\n",
    "- df_obj_name.Column_Name.skew() / mean() / median() / etc.\n",
    "- .\n",
    "- To check on entire dataframe\n",
    "- Syntax:-\n",
    "- df_obj_name.isnull().sum()\n",
    "- .\n",
    "- To get index and column values in dataframe format\n",
    "- df_obj_name[['Column_Name']]\n",
    "- .\n",
    "- To get index and column values but not in dataframe format\n",
    "- df_obj_name.Column_Name\n",
    "- .\n",
    "- To get the data type of the values in a column in a DataFrame\n",
    "- Syntax:-\n",
    "- df_obj_name.dtypes\n",
    "- .\n",
    "- To access individual columns in a DataFrame\n",
    "- Syntax:-\n",
    "- df_obj_name.column_name or df_obj_name['column_name']\n",
    "- .\n",
    "- To know overall idea like count, mean, sd, etc.\n",
    "- Syntax:-\n",
    "- df_obj_name.describe() >>> This takes only numerical values into consideration. Data like min, max, mean, median, std, q1, q2, q3.\n",
    "- .\n",
    "- To know overall idea like count, unique, top, frequency of categorical columns\n",
    "- Syntax:-\n",
    "- df_obj_name.describe(include='O') >>> This takes only categorical columns into consideration. O = Objects\n",
    "- .\n",
    "- To get the summary of only one column instead of entire data frame object/all columns.\n",
    "- Syntax:-\n",
    "- df_obj_name['Column_Name'].describe() Or df_obj_name.ColumnName.describe()\n",
    "- .\n",
    "- To access an entire row of a DataFrame\n",
    "- Syntax:-\n",
    "- df_obj_name[index:] or df_obj_name.iloc[index] or df_obj_name.loc[index]\n",
    "- .\n",
    "- To access a specific element from a DataFrame\n",
    "- Syntax:-\n",
    "- df_obj_name.column_name[index]\n",
    "- .\n",
    "- To get Size, Dimensions and Shape of the dataframe\n",
    "- Syntax:-\n",
    "- df_obj_name.size/ndim/shape\n",
    "- .\n",
    "- To get the count of each value(number of occurances of each category) in a column\n",
    "- Syntax:-\n",
    "- df_obj_name.Column_Name.value_counts() >>>  gives category wise counts in the given column\n",
    "- .\n",
    "- To get the count of total categories in a column\n",
    "- Syntax:-\n",
    "- len(df_obj_name.Column_Name.value_counts())\n",
    "- OR\n",
    "- df_obj_name.Column_Name.nunique())\n",
    "- .\n",
    "- To get sum and mode of the DataFrame\n",
    "- Syntax:-\n",
    "- df_obj_name.sum()/mode()\n",
    "- .\n",
    "- To concatenate or join a sequence of arrays along the exsiting axis.\n",
    "- Syntax:-\n",
    "- x_test_final = np.concatenate((x_test_final,x_test_AgeImputed,x_test_SexEncoded,x_test_EmbarkedEncoded),axis=1)\n",
    "- .\n",
    "- To display first/last rows from the dataframe\n",
    "- Syntax:-\n",
    "- df_obj_name.head() or df_obj_name.tail()\n",
    "- .\n",
    "- To add a new column to the dataframe\n",
    "- Syntax:-\n",
    "- df_obj_name[['New Column Name']] = df_obj_name[[column_name]]\n",
    "- .\n",
    "- To display random rows from a DataFrame\n",
    "- Syntax:-\n",
    "- df_obj_name.sample()\n",
    "- .\n",
    "- To horizontally stack all the columns of an array using Pandas\n",
    "- Syntax:-\n",
    "- np.hstack((x_train[['brand','km_driven']].values,x_train_encoded))\n",
    "- .\n",
    "- To draw a cross tab\n",
    "- crosstab is a function used to compute a simple cross-tabulation of two or more factors (categorical variables).\n",
    "- By default, it generates a frequency table, showing how often different combinations of these factors appear in the dataset.\n",
    "- Syntax:-\n",
    "- pandas.crosstab(df_obj_name.Col1,df_obj_name.Col2)\n",
    "- .\n",
    "- To find the duplicate rows in a DataFrame\n",
    "- Syntax:-\n",
    "- df_obj_name.duplicated() >>> Shows duplicate records 0/1\n",
    "- df_obj_name.duplicated().sum() >>> Get the count of duplicate records\n",
    "- .\n",
    "- To get the count of nulls in each columns - column wise nulls count\n",
    "- Syntax:-\n",
    "- df_obj_name.isnull() >>> Columnwise shows False - not null /True - null\n",
    "- df_obj_name.isnull().sum() >>> Columnwise count of nulls in each column\n",
    "- .\n",
    "- To Reset Index of a dataframe, i.e. if the indexes are 0,2,5 after train test split >>> To change indexes to 0,1,2...\n",
    "- Syntax:-\n",
    "- df_obj_name2 = df_obj_name1.reset_index(drop=True)\n",
    "- .\n",
    "- Rename column name\n",
    "- Syntax:-\n",
    "- df_obj_name.rename(columns={'predict': 'y_predict_pkg'}, inplace=True)\n",
    "- .\n",
    "- To give column name while creating a dataframe itself.\n",
    "- Syntax:-\n",
    "- y_train_encoded_DF = pd.DataFrame(y_train_encoded, columns=y_train.columns)\n",
    "- .\n",
    "- Conditional output, if condition on dataframe, filter values in dataframe\n",
    "- Syntax:- Ex: To filter students who got cgpa > 9\n",
    "- df_obj_name[df_obj_name.cgpa > 9]\n",
    "- df_obj_name[df_obj_name.cgpa.isin([9,10])] >>> To check for multiple values. To filter on multiple values\n",
    "- .\n",
    "- To sort the values in the dataframe\n",
    "- Syntax:-\n",
    "- df_student.sort_values(by='Name',ascending=False)\n",
    "- .\n",
    "- To sort the records based on the index in the dataframe\n",
    "- Syntax:-\n",
    "- df_student.sort_index(ascending=False)\n",
    "- .\n",
    "- Create a new dataframe from existing datafram after filtering the values in the existing dataframe\n",
    "- Syntax:- Ex: To create a new dataframe with students whose cgpa is > 9\n",
    "- cgps_df_gt9 = df_obj_name[df_obj_name.cgpa > 9]\n",
    "- .\n",
    "- To update a value in a DataFrame\n",
    "- Syntax:-\n",
    "- df_obj_name.column_name[index] = new_value\n",
    "- .\n",
    "- To drop a column in a dataframe\n",
    "- Syntax:-\n",
    "- df_obj_name2 = df_obj_name1.drop('Column_Name_To_Drop',axis=1)\n",
    "- Or\n",
    "- df_obj_name2 = df_obj_name1.drop(columns=['Name','Sex','Ticket','Cabin','Embarked','PassengerId'])\n",
    "- axis = 1 >>> Column\n",
    "- axis = 0 >>> Row\n",
    "- .\n",
    "- To drop rows with a null value in any of the columns in a dataframe\n",
    "- Syntax:-\n",
    "- df_obj_nam.dropna() >>> Even if one column has a null value, it drops that record\n",
    "- df_obj_nam_New = df_obj_nam.dropna() # ignore_index=False > Default is False, if True is given, resets all the indexes from 0 to n--1\n",
    "- .\n",
    "- To drop rows with a null value in a particular column in a dataframe\n",
    "- Syntax:-\n",
    "- df_obj_nam.dropna(subset=['ColName']) >>> Only those records where the given column value is null are dropped.\n",
    "- df_obj_nam_New = df_obj_nam.dropna(subset=['Col1']) # ignore_index=False > Default is False, if True is given, resets all the indexes from 0 to n--1\n",
    "- .\n",
    "- To drop rows if there are nulls in a specific column\n",
    "- Syntax:-\n",
    "- Titanic_DF['Age'].dropna() >>> Drop a record if there are nulls only in Age column.\n",
    "- .\n",
    "- To replace a null in a specific column with any value\n",
    "- Syntax:-\n",
    "- df_obj_nam['Age'] = df_obj_nam['Age'].fillna(MeanOfAge)\n",
    "- \n",
    "- To draw a plot / graphs using pandas kind\n",
    "- Syntax:-\n",
    "- dataframe.plot(x= Col1, y = Col2, kind='...') >>> On multiple columns\n",
    "- dataframe.Column_Name.plot(kind='...') >>> On single column\n",
    "- kind = bar, line, hist, kde, etc.\n",
    "- .\n",
    "- To remove duplicates from the dataframe\n",
    "- Syntax:-\n",
    "- DataFrame = DataFrame.drop_duplicates(keep = 'first',inplace=False, ignore_index=True) >>> To drop duplicates and store in a new dataframe\n",
    "- DataFrame.drop_duplicates(subset=None, *, keep='first', inplace=False, ignore_index=False)\n",
    "- subsetcolumn label or sequence of labels, optional\n",
    "- keep{‘first’, ‘last’, False}, default ‘first’\n",
    "- Determines which duplicates (if any) to keep.\n",
    "- ‘first’ : Drop duplicates except for the first occurrence.\n",
    "- ‘last’ : Drop duplicates except for the last occurrence.\n",
    "- False : Drop all duplicates.\n",
    "- inplacebool, default False\n",
    "- Whether to modify the DataFrame rather than creating a new one.\n",
    "- ignore_indexbool, default False\n",
    "- If True, the resulting axis will be labeled 0, 1, …, n - 1."
   ]
  },
  {
   "cell_type": "code",
   "execution_count": 2,
   "id": "c2fb5d3c-7da4-414c-b397-8ce16416ffcb",
   "metadata": {},
   "outputs": [],
   "source": [
    "# Create a 2D Dataset\n",
    "\n",
    "import pandas as pd\n",
    "\n",
    "student = {\n",
    "    'Name':['Sunny','Nasir','Balram','Smiriddi','Astha','NaN','Balram'],\n",
    "    'Marks':[100,20,100,34,22,100,100],\n",
    "    'cgpa':[10,2.0,10,3.4,2.2,10,10]\n",
    "}"
   ]
  },
  {
   "cell_type": "code",
   "execution_count": 3,
   "id": "8a9a9abe-144c-4d15-8c6e-58b1a89d022f",
   "metadata": {},
   "outputs": [
    {
     "data": {
      "text/plain": [
       "{'Name': ['Sunny', 'Nasir', 'Balram', 'Smiriddi', 'Astha', 'NaN', 'Balram'],\n",
       " 'Marks': [100, 20, 100, 34, 22, 100, 100],\n",
       " 'cgpa': [10, 2.0, 10, 3.4, 2.2, 10, 10]}"
      ]
     },
     "execution_count": 3,
     "metadata": {},
     "output_type": "execute_result"
    }
   ],
   "source": [
    "student"
   ]
  },
  {
   "cell_type": "code",
   "execution_count": 4,
   "id": "ff94f3da-3ff4-4d10-b82d-f570b0cf341d",
   "metadata": {},
   "outputs": [
    {
     "data": {
      "text/html": [
       "<div>\n",
       "<style scoped>\n",
       "    .dataframe tbody tr th:only-of-type {\n",
       "        vertical-align: middle;\n",
       "    }\n",
       "\n",
       "    .dataframe tbody tr th {\n",
       "        vertical-align: top;\n",
       "    }\n",
       "\n",
       "    .dataframe thead th {\n",
       "        text-align: right;\n",
       "    }\n",
       "</style>\n",
       "<table border=\"1\" class=\"dataframe\">\n",
       "  <thead>\n",
       "    <tr style=\"text-align: right;\">\n",
       "      <th></th>\n",
       "      <th>Name</th>\n",
       "      <th>Marks</th>\n",
       "      <th>cgpa</th>\n",
       "    </tr>\n",
       "  </thead>\n",
       "  <tbody>\n",
       "    <tr>\n",
       "      <th>0</th>\n",
       "      <td>Sunny</td>\n",
       "      <td>100</td>\n",
       "      <td>10.0</td>\n",
       "    </tr>\n",
       "    <tr>\n",
       "      <th>1</th>\n",
       "      <td>Nasir</td>\n",
       "      <td>20</td>\n",
       "      <td>2.0</td>\n",
       "    </tr>\n",
       "    <tr>\n",
       "      <th>2</th>\n",
       "      <td>Balram</td>\n",
       "      <td>100</td>\n",
       "      <td>10.0</td>\n",
       "    </tr>\n",
       "    <tr>\n",
       "      <th>3</th>\n",
       "      <td>Smiriddi</td>\n",
       "      <td>34</td>\n",
       "      <td>3.4</td>\n",
       "    </tr>\n",
       "    <tr>\n",
       "      <th>4</th>\n",
       "      <td>Astha</td>\n",
       "      <td>22</td>\n",
       "      <td>2.2</td>\n",
       "    </tr>\n",
       "    <tr>\n",
       "      <th>5</th>\n",
       "      <td>NaN</td>\n",
       "      <td>100</td>\n",
       "      <td>10.0</td>\n",
       "    </tr>\n",
       "    <tr>\n",
       "      <th>6</th>\n",
       "      <td>Balram</td>\n",
       "      <td>100</td>\n",
       "      <td>10.0</td>\n",
       "    </tr>\n",
       "  </tbody>\n",
       "</table>\n",
       "</div>"
      ],
      "text/plain": [
       "       Name  Marks  cgpa\n",
       "0     Sunny    100  10.0\n",
       "1     Nasir     20   2.0\n",
       "2    Balram    100  10.0\n",
       "3  Smiriddi     34   3.4\n",
       "4     Astha     22   2.2\n",
       "5       NaN    100  10.0\n",
       "6    Balram    100  10.0"
      ]
     },
     "execution_count": 4,
     "metadata": {},
     "output_type": "execute_result"
    }
   ],
   "source": [
    "# Create a dataframe\n",
    "\n",
    "df_student = pd.DataFrame(student)\n",
    "df_student"
   ]
  },
  {
   "cell_type": "code",
   "execution_count": 5,
   "id": "a07ef541-ff0f-4eba-a377-3905f18697cb",
   "metadata": {},
   "outputs": [
    {
     "data": {
      "text/html": [
       "<div>\n",
       "<style scoped>\n",
       "    .dataframe tbody tr th:only-of-type {\n",
       "        vertical-align: middle;\n",
       "    }\n",
       "\n",
       "    .dataframe tbody tr th {\n",
       "        vertical-align: top;\n",
       "    }\n",
       "\n",
       "    .dataframe thead th {\n",
       "        text-align: right;\n",
       "    }\n",
       "</style>\n",
       "<table border=\"1\" class=\"dataframe\">\n",
       "  <thead>\n",
       "    <tr style=\"text-align: right;\">\n",
       "      <th></th>\n",
       "      <th>Name</th>\n",
       "      <th>Marks</th>\n",
       "      <th>cgpa</th>\n",
       "    </tr>\n",
       "  </thead>\n",
       "  <tbody>\n",
       "    <tr>\n",
       "      <th>9</th>\n",
       "      <td>Sunny</td>\n",
       "      <td>100</td>\n",
       "      <td>10.0</td>\n",
       "    </tr>\n",
       "    <tr>\n",
       "      <th>8</th>\n",
       "      <td>Nasir</td>\n",
       "      <td>20</td>\n",
       "      <td>2.0</td>\n",
       "    </tr>\n",
       "    <tr>\n",
       "      <th>7</th>\n",
       "      <td>Balram</td>\n",
       "      <td>100</td>\n",
       "      <td>10.0</td>\n",
       "    </tr>\n",
       "    <tr>\n",
       "      <th>6</th>\n",
       "      <td>Smiriddi</td>\n",
       "      <td>34</td>\n",
       "      <td>3.4</td>\n",
       "    </tr>\n",
       "    <tr>\n",
       "      <th>5</th>\n",
       "      <td>Astha</td>\n",
       "      <td>22</td>\n",
       "      <td>2.2</td>\n",
       "    </tr>\n",
       "    <tr>\n",
       "      <th>4</th>\n",
       "      <td>NaN</td>\n",
       "      <td>100</td>\n",
       "      <td>10.0</td>\n",
       "    </tr>\n",
       "    <tr>\n",
       "      <th>2</th>\n",
       "      <td>Balram</td>\n",
       "      <td>100</td>\n",
       "      <td>10.0</td>\n",
       "    </tr>\n",
       "  </tbody>\n",
       "</table>\n",
       "</div>"
      ],
      "text/plain": [
       "       Name  Marks  cgpa\n",
       "9     Sunny    100  10.0\n",
       "8     Nasir     20   2.0\n",
       "7    Balram    100  10.0\n",
       "6  Smiriddi     34   3.4\n",
       "5     Astha     22   2.2\n",
       "4       NaN    100  10.0\n",
       "2    Balram    100  10.0"
      ]
     },
     "execution_count": 5,
     "metadata": {},
     "output_type": "execute_result"
    }
   ],
   "source": [
    "# Or we can given our own indexing\n",
    "\n",
    "df_student2 = pd.DataFrame(student,index=[9,8,7,6,5,4,2])\n",
    "df_student2"
   ]
  },
  {
   "cell_type": "code",
   "execution_count": 6,
   "id": "4aa743c0-22d0-4653-8db8-3ece143953de",
   "metadata": {},
   "outputs": [
    {
     "data": {
      "text/plain": [
       "pandas.core.frame.DataFrame"
      ]
     },
     "execution_count": 6,
     "metadata": {},
     "output_type": "execute_result"
    }
   ],
   "source": [
    "# To get the data type of the dataframe\n",
    "\n",
    "type(df_student)"
   ]
  },
  {
   "cell_type": "markdown",
   "id": "d131e7f1-0360-415b-bab7-9e475fd83473",
   "metadata": {},
   "source": [
    "##### A DataFrams is collection of Series, hence we can see datatype of individual columns is Series."
   ]
  },
  {
   "cell_type": "code",
   "execution_count": 13,
   "id": "de9b7035-f773-49bf-af0a-e34d883de454",
   "metadata": {},
   "outputs": [
    {
     "data": {
      "text/plain": [
       "pandas.core.series.Series"
      ]
     },
     "execution_count": 13,
     "metadata": {},
     "output_type": "execute_result"
    }
   ],
   "source": [
    "type(df_student.Name)"
   ]
  },
  {
   "cell_type": "code",
   "execution_count": 15,
   "id": "48e223c9-ec3b-4d53-9db4-a25a3558b701",
   "metadata": {},
   "outputs": [
    {
     "data": {
      "text/plain": [
       "pandas.core.series.Series"
      ]
     },
     "execution_count": 15,
     "metadata": {},
     "output_type": "execute_result"
    }
   ],
   "source": [
    "type(df_student.Marks)"
   ]
  },
  {
   "cell_type": "code",
   "execution_count": 17,
   "id": "472be927-d18c-4a63-8613-78efe9fdcaca",
   "metadata": {},
   "outputs": [
    {
     "data": {
      "text/plain": [
       "pandas.core.series.Series"
      ]
     },
     "execution_count": 17,
     "metadata": {},
     "output_type": "execute_result"
    }
   ],
   "source": [
    "type(df_student.cgpa)"
   ]
  },
  {
   "cell_type": "code",
   "execution_count": 19,
   "id": "b1a5047c-a747-4b7e-8019-dd1adaa7b882",
   "metadata": {},
   "outputs": [
    {
     "data": {
      "text/plain": [
       "Name      object\n",
       "Marks      int64\n",
       "cgpa     float64\n",
       "dtype: object"
      ]
     },
     "execution_count": 19,
     "metadata": {},
     "output_type": "execute_result"
    }
   ],
   "source": [
    "# To get the data type of the individual column values in the dataframe\n",
    "\n",
    "df_student.dtypes"
   ]
  },
  {
   "cell_type": "markdown",
   "id": "ec7b40ee-48af-4fdf-8845-f5622c057ce0",
   "metadata": {},
   "source": [
    "##### To access individual columns in the dataframe"
   ]
  },
  {
   "cell_type": "code",
   "execution_count": 22,
   "id": "f2099305-49a7-4179-a50d-ba63c34afeae",
   "metadata": {},
   "outputs": [
    {
     "data": {
      "text/html": [
       "<div>\n",
       "<style scoped>\n",
       "    .dataframe tbody tr th:only-of-type {\n",
       "        vertical-align: middle;\n",
       "    }\n",
       "\n",
       "    .dataframe tbody tr th {\n",
       "        vertical-align: top;\n",
       "    }\n",
       "\n",
       "    .dataframe thead th {\n",
       "        text-align: right;\n",
       "    }\n",
       "</style>\n",
       "<table border=\"1\" class=\"dataframe\">\n",
       "  <thead>\n",
       "    <tr style=\"text-align: right;\">\n",
       "      <th></th>\n",
       "      <th>Name</th>\n",
       "      <th>Marks</th>\n",
       "      <th>cgpa</th>\n",
       "    </tr>\n",
       "  </thead>\n",
       "  <tbody>\n",
       "    <tr>\n",
       "      <th>0</th>\n",
       "      <td>Sunny</td>\n",
       "      <td>100</td>\n",
       "      <td>10.0</td>\n",
       "    </tr>\n",
       "    <tr>\n",
       "      <th>1</th>\n",
       "      <td>Nasir</td>\n",
       "      <td>20</td>\n",
       "      <td>2.0</td>\n",
       "    </tr>\n",
       "    <tr>\n",
       "      <th>2</th>\n",
       "      <td>Balram</td>\n",
       "      <td>100</td>\n",
       "      <td>10.0</td>\n",
       "    </tr>\n",
       "    <tr>\n",
       "      <th>3</th>\n",
       "      <td>Smiriddi</td>\n",
       "      <td>34</td>\n",
       "      <td>3.4</td>\n",
       "    </tr>\n",
       "    <tr>\n",
       "      <th>4</th>\n",
       "      <td>Astha</td>\n",
       "      <td>22</td>\n",
       "      <td>2.2</td>\n",
       "    </tr>\n",
       "    <tr>\n",
       "      <th>5</th>\n",
       "      <td>NaN</td>\n",
       "      <td>100</td>\n",
       "      <td>10.0</td>\n",
       "    </tr>\n",
       "    <tr>\n",
       "      <th>6</th>\n",
       "      <td>Balram</td>\n",
       "      <td>100</td>\n",
       "      <td>10.0</td>\n",
       "    </tr>\n",
       "  </tbody>\n",
       "</table>\n",
       "</div>"
      ],
      "text/plain": [
       "       Name  Marks  cgpa\n",
       "0     Sunny    100  10.0\n",
       "1     Nasir     20   2.0\n",
       "2    Balram    100  10.0\n",
       "3  Smiriddi     34   3.4\n",
       "4     Astha     22   2.2\n",
       "5       NaN    100  10.0\n",
       "6    Balram    100  10.0"
      ]
     },
     "execution_count": 22,
     "metadata": {},
     "output_type": "execute_result"
    }
   ],
   "source": [
    "df_student"
   ]
  },
  {
   "cell_type": "code",
   "execution_count": 24,
   "id": "e297c5ca-76e8-4862-bc4e-79d63e69847b",
   "metadata": {},
   "outputs": [
    {
     "data": {
      "text/plain": [
       "RangeIndex(start=0, stop=7, step=1)"
      ]
     },
     "execution_count": 24,
     "metadata": {},
     "output_type": "execute_result"
    }
   ],
   "source": [
    "df_student.index"
   ]
  },
  {
   "cell_type": "code",
   "execution_count": 26,
   "id": "b0b1ee66-66b5-40da-a8ab-712c46473d80",
   "metadata": {},
   "outputs": [
    {
     "data": {
      "text/plain": [
       "array([['Sunny', 100, 10.0],\n",
       "       ['Nasir', 20, 2.0],\n",
       "       ['Balram', 100, 10.0],\n",
       "       ['Smiriddi', 34, 3.4],\n",
       "       ['Astha', 22, 2.2],\n",
       "       ['NaN', 100, 10.0],\n",
       "       ['Balram', 100, 10.0]], dtype=object)"
      ]
     },
     "execution_count": 26,
     "metadata": {},
     "output_type": "execute_result"
    }
   ],
   "source": [
    "df_student.values"
   ]
  },
  {
   "cell_type": "code",
   "execution_count": 28,
   "id": "2fda8e5c-9c9b-4f8a-ac00-c14ed64d7764",
   "metadata": {},
   "outputs": [
    {
     "data": {
      "text/plain": [
       "0       Sunny\n",
       "1       Nasir\n",
       "2      Balram\n",
       "3    Smiriddi\n",
       "4       Astha\n",
       "5         NaN\n",
       "6      Balram\n",
       "Name: Name, dtype: object"
      ]
     },
     "execution_count": 28,
     "metadata": {},
     "output_type": "execute_result"
    }
   ],
   "source": [
    "df_student.Name"
   ]
  },
  {
   "cell_type": "code",
   "execution_count": 30,
   "id": "d885ff63-ebe9-478f-8626-9e5a7524b0c1",
   "metadata": {},
   "outputs": [
    {
     "data": {
      "text/plain": [
       "0       Sunny\n",
       "1       Nasir\n",
       "2      Balram\n",
       "3    Smiriddi\n",
       "4       Astha\n",
       "5         NaN\n",
       "6      Balram\n",
       "Name: Name, dtype: object"
      ]
     },
     "execution_count": 30,
     "metadata": {},
     "output_type": "execute_result"
    }
   ],
   "source": [
    "df_student['Name']"
   ]
  },
  {
   "cell_type": "code",
   "execution_count": 32,
   "id": "87129071-f1da-4bcc-b93c-a56712740ba5",
   "metadata": {},
   "outputs": [
    {
     "data": {
      "text/plain": [
       "0    100\n",
       "1     20\n",
       "2    100\n",
       "3     34\n",
       "4     22\n",
       "5    100\n",
       "6    100\n",
       "Name: Marks, dtype: int64"
      ]
     },
     "execution_count": 32,
     "metadata": {},
     "output_type": "execute_result"
    }
   ],
   "source": [
    "df_student.Marks"
   ]
  },
  {
   "cell_type": "code",
   "execution_count": 34,
   "id": "5db5e706-491f-4b41-b1c9-e7a81488b18a",
   "metadata": {},
   "outputs": [
    {
     "data": {
      "text/plain": [
       "0    100\n",
       "1     20\n",
       "2    100\n",
       "3     34\n",
       "4     22\n",
       "5    100\n",
       "6    100\n",
       "Name: Marks, dtype: int64"
      ]
     },
     "execution_count": 34,
     "metadata": {},
     "output_type": "execute_result"
    }
   ],
   "source": [
    "df_student['Marks']"
   ]
  },
  {
   "cell_type": "code",
   "execution_count": 36,
   "id": "053ac85b-ac9f-4894-908b-0a1315f1023f",
   "metadata": {},
   "outputs": [
    {
     "data": {
      "text/plain": [
       "0    10.0\n",
       "1     2.0\n",
       "2    10.0\n",
       "3     3.4\n",
       "4     2.2\n",
       "5    10.0\n",
       "6    10.0\n",
       "Name: cgpa, dtype: float64"
      ]
     },
     "execution_count": 36,
     "metadata": {},
     "output_type": "execute_result"
    }
   ],
   "source": [
    "df_student.cgpa"
   ]
  },
  {
   "cell_type": "code",
   "execution_count": 38,
   "id": "44df9bb2-7377-4df8-b746-b2df90df8c4b",
   "metadata": {},
   "outputs": [
    {
     "data": {
      "text/plain": [
       "0    10.0\n",
       "1     2.0\n",
       "2    10.0\n",
       "3     3.4\n",
       "4     2.2\n",
       "5    10.0\n",
       "6    10.0\n",
       "Name: cgpa, dtype: float64"
      ]
     },
     "execution_count": 38,
     "metadata": {},
     "output_type": "execute_result"
    }
   ],
   "source": [
    "df_student['cgpa']"
   ]
  },
  {
   "cell_type": "markdown",
   "id": "6eb80662-7854-46e6-8ee8-a66f28e67083",
   "metadata": {},
   "source": [
    "#### To access a particular index entire row"
   ]
  },
  {
   "cell_type": "code",
   "execution_count": 41,
   "id": "446bf40b-ad5c-4c36-af49-c5d53c1cc53d",
   "metadata": {},
   "outputs": [
    {
     "data": {
      "text/html": [
       "<div>\n",
       "<style scoped>\n",
       "    .dataframe tbody tr th:only-of-type {\n",
       "        vertical-align: middle;\n",
       "    }\n",
       "\n",
       "    .dataframe tbody tr th {\n",
       "        vertical-align: top;\n",
       "    }\n",
       "\n",
       "    .dataframe thead th {\n",
       "        text-align: right;\n",
       "    }\n",
       "</style>\n",
       "<table border=\"1\" class=\"dataframe\">\n",
       "  <thead>\n",
       "    <tr style=\"text-align: right;\">\n",
       "      <th></th>\n",
       "      <th>Name</th>\n",
       "      <th>Marks</th>\n",
       "      <th>cgpa</th>\n",
       "    </tr>\n",
       "  </thead>\n",
       "  <tbody>\n",
       "    <tr>\n",
       "      <th>0</th>\n",
       "      <td>Sunny</td>\n",
       "      <td>100</td>\n",
       "      <td>10.0</td>\n",
       "    </tr>\n",
       "  </tbody>\n",
       "</table>\n",
       "</div>"
      ],
      "text/plain": [
       "    Name  Marks  cgpa\n",
       "0  Sunny    100  10.0"
      ]
     },
     "execution_count": 41,
     "metadata": {},
     "output_type": "execute_result"
    }
   ],
   "source": [
    "# Access only first row\n",
    "\n",
    "df_student[0:1]"
   ]
  },
  {
   "cell_type": "code",
   "execution_count": 43,
   "id": "3af114f8-502f-47f2-afe6-b32c6916eda6",
   "metadata": {},
   "outputs": [
    {
     "data": {
      "text/plain": [
       "Name     Sunny\n",
       "Marks      100\n",
       "cgpa      10.0\n",
       "Name: 0, dtype: object"
      ]
     },
     "execution_count": 43,
     "metadata": {},
     "output_type": "execute_result"
    }
   ],
   "source": [
    "df_student.iloc[0]"
   ]
  },
  {
   "cell_type": "code",
   "execution_count": 45,
   "id": "232cb7b4-3111-4b37-840f-3723b5d03894",
   "metadata": {},
   "outputs": [
    {
     "data": {
      "text/plain": [
       "Name     Sunny\n",
       "Marks      100\n",
       "cgpa      10.0\n",
       "Name: 0, dtype: object"
      ]
     },
     "execution_count": 45,
     "metadata": {},
     "output_type": "execute_result"
    }
   ],
   "source": [
    "df_student.loc[0]"
   ]
  },
  {
   "cell_type": "code",
   "execution_count": 47,
   "id": "ad570bc1-6074-44be-8281-5d7fa88d1d03",
   "metadata": {},
   "outputs": [
    {
     "data": {
      "text/html": [
       "<div>\n",
       "<style scoped>\n",
       "    .dataframe tbody tr th:only-of-type {\n",
       "        vertical-align: middle;\n",
       "    }\n",
       "\n",
       "    .dataframe tbody tr th {\n",
       "        vertical-align: top;\n",
       "    }\n",
       "\n",
       "    .dataframe thead th {\n",
       "        text-align: right;\n",
       "    }\n",
       "</style>\n",
       "<table border=\"1\" class=\"dataframe\">\n",
       "  <thead>\n",
       "    <tr style=\"text-align: right;\">\n",
       "      <th></th>\n",
       "      <th>Name</th>\n",
       "      <th>Marks</th>\n",
       "      <th>cgpa</th>\n",
       "    </tr>\n",
       "  </thead>\n",
       "  <tbody>\n",
       "    <tr>\n",
       "      <th>0</th>\n",
       "      <td>Sunny</td>\n",
       "      <td>100</td>\n",
       "      <td>10.0</td>\n",
       "    </tr>\n",
       "    <tr>\n",
       "      <th>1</th>\n",
       "      <td>Nasir</td>\n",
       "      <td>20</td>\n",
       "      <td>2.0</td>\n",
       "    </tr>\n",
       "    <tr>\n",
       "      <th>2</th>\n",
       "      <td>Balram</td>\n",
       "      <td>100</td>\n",
       "      <td>10.0</td>\n",
       "    </tr>\n",
       "  </tbody>\n",
       "</table>\n",
       "</div>"
      ],
      "text/plain": [
       "     Name  Marks  cgpa\n",
       "0   Sunny    100  10.0\n",
       "1   Nasir     20   2.0\n",
       "2  Balram    100  10.0"
      ]
     },
     "execution_count": 47,
     "metadata": {},
     "output_type": "execute_result"
    }
   ],
   "source": [
    "# Access first 3 rows row\n",
    "\n",
    "df_student[0:3]"
   ]
  },
  {
   "cell_type": "code",
   "execution_count": 49,
   "id": "0bfd0ed6-ac29-4ff4-a879-ae39a2250682",
   "metadata": {},
   "outputs": [
    {
     "data": {
      "text/html": [
       "<div>\n",
       "<style scoped>\n",
       "    .dataframe tbody tr th:only-of-type {\n",
       "        vertical-align: middle;\n",
       "    }\n",
       "\n",
       "    .dataframe tbody tr th {\n",
       "        vertical-align: top;\n",
       "    }\n",
       "\n",
       "    .dataframe thead th {\n",
       "        text-align: right;\n",
       "    }\n",
       "</style>\n",
       "<table border=\"1\" class=\"dataframe\">\n",
       "  <thead>\n",
       "    <tr style=\"text-align: right;\">\n",
       "      <th></th>\n",
       "      <th>Name</th>\n",
       "      <th>Marks</th>\n",
       "      <th>cgpa</th>\n",
       "    </tr>\n",
       "  </thead>\n",
       "  <tbody>\n",
       "    <tr>\n",
       "      <th>6</th>\n",
       "      <td>Balram</td>\n",
       "      <td>100</td>\n",
       "      <td>10.0</td>\n",
       "    </tr>\n",
       "  </tbody>\n",
       "</table>\n",
       "</div>"
      ],
      "text/plain": [
       "     Name  Marks  cgpa\n",
       "6  Balram    100  10.0"
      ]
     },
     "execution_count": 49,
     "metadata": {},
     "output_type": "execute_result"
    }
   ],
   "source": [
    "# Access last one row\n",
    "\n",
    "df_student[-1:]"
   ]
  },
  {
   "cell_type": "markdown",
   "id": "f45a83c9-8387-44b2-ad58-64d465d921a7",
   "metadata": {},
   "source": [
    "#### Slicing"
   ]
  },
  {
   "cell_type": "code",
   "execution_count": 52,
   "id": "a18c30c4-e8bf-4f7f-813c-bf7503d32c10",
   "metadata": {},
   "outputs": [
    {
     "data": {
      "text/html": [
       "<div>\n",
       "<style scoped>\n",
       "    .dataframe tbody tr th:only-of-type {\n",
       "        vertical-align: middle;\n",
       "    }\n",
       "\n",
       "    .dataframe tbody tr th {\n",
       "        vertical-align: top;\n",
       "    }\n",
       "\n",
       "    .dataframe thead th {\n",
       "        text-align: right;\n",
       "    }\n",
       "</style>\n",
       "<table border=\"1\" class=\"dataframe\">\n",
       "  <thead>\n",
       "    <tr style=\"text-align: right;\">\n",
       "      <th></th>\n",
       "      <th>Name</th>\n",
       "      <th>Marks</th>\n",
       "      <th>cgpa</th>\n",
       "    </tr>\n",
       "  </thead>\n",
       "  <tbody>\n",
       "    <tr>\n",
       "      <th>2</th>\n",
       "      <td>Balram</td>\n",
       "      <td>100</td>\n",
       "      <td>10.0</td>\n",
       "    </tr>\n",
       "    <tr>\n",
       "      <th>3</th>\n",
       "      <td>Smiriddi</td>\n",
       "      <td>34</td>\n",
       "      <td>3.4</td>\n",
       "    </tr>\n",
       "    <tr>\n",
       "      <th>4</th>\n",
       "      <td>Astha</td>\n",
       "      <td>22</td>\n",
       "      <td>2.2</td>\n",
       "    </tr>\n",
       "  </tbody>\n",
       "</table>\n",
       "</div>"
      ],
      "text/plain": [
       "       Name  Marks  cgpa\n",
       "2    Balram    100  10.0\n",
       "3  Smiriddi     34   3.4\n",
       "4     Astha     22   2.2"
      ]
     },
     "execution_count": 52,
     "metadata": {},
     "output_type": "execute_result"
    }
   ],
   "source": [
    "df_student[2:5]"
   ]
  },
  {
   "cell_type": "code",
   "execution_count": 54,
   "id": "270e8450-4076-4ea7-b4b2-55ba004186f9",
   "metadata": {},
   "outputs": [
    {
     "data": {
      "text/html": [
       "<div>\n",
       "<style scoped>\n",
       "    .dataframe tbody tr th:only-of-type {\n",
       "        vertical-align: middle;\n",
       "    }\n",
       "\n",
       "    .dataframe tbody tr th {\n",
       "        vertical-align: top;\n",
       "    }\n",
       "\n",
       "    .dataframe thead th {\n",
       "        text-align: right;\n",
       "    }\n",
       "</style>\n",
       "<table border=\"1\" class=\"dataframe\">\n",
       "  <thead>\n",
       "    <tr style=\"text-align: right;\">\n",
       "      <th></th>\n",
       "      <th>Name</th>\n",
       "      <th>Marks</th>\n",
       "      <th>cgpa</th>\n",
       "    </tr>\n",
       "  </thead>\n",
       "  <tbody>\n",
       "    <tr>\n",
       "      <th>3</th>\n",
       "      <td>Smiriddi</td>\n",
       "      <td>34</td>\n",
       "      <td>3.4</td>\n",
       "    </tr>\n",
       "  </tbody>\n",
       "</table>\n",
       "</div>"
      ],
      "text/plain": [
       "       Name  Marks  cgpa\n",
       "3  Smiriddi     34   3.4"
      ]
     },
     "execution_count": 54,
     "metadata": {},
     "output_type": "execute_result"
    }
   ],
   "source": [
    "df_student[2:5][1:2]"
   ]
  },
  {
   "cell_type": "markdown",
   "id": "71a28126-9061-4d60-9083-178a73832492",
   "metadata": {},
   "source": [
    "#### To access an individual element from a dataframe"
   ]
  },
  {
   "cell_type": "code",
   "execution_count": 57,
   "id": "60ae075c-e12c-44cc-be33-44534460fd17",
   "metadata": {},
   "outputs": [
    {
     "data": {
      "text/plain": [
       "'Nasir'"
      ]
     },
     "execution_count": 57,
     "metadata": {},
     "output_type": "execute_result"
    }
   ],
   "source": [
    "df_student.Name[1]"
   ]
  },
  {
   "cell_type": "code",
   "execution_count": 59,
   "id": "27278f6c-d1ff-4b15-bc94-aae02b07ad45",
   "metadata": {},
   "outputs": [
    {
     "data": {
      "text/plain": [
       "34"
      ]
     },
     "execution_count": 59,
     "metadata": {},
     "output_type": "execute_result"
    }
   ],
   "source": [
    "df_student.Marks[3]"
   ]
  },
  {
   "cell_type": "code",
   "execution_count": 61,
   "id": "8f1a551d-af78-468d-b3a8-e017afd4e417",
   "metadata": {},
   "outputs": [
    {
     "data": {
      "text/plain": [
       "10.0"
      ]
     },
     "execution_count": 61,
     "metadata": {},
     "output_type": "execute_result"
    }
   ],
   "source": [
    "df_student.cgpa[0]"
   ]
  },
  {
   "cell_type": "code",
   "execution_count": 63,
   "id": "eb671f5f-b979-4a33-ba98-f791d37475e0",
   "metadata": {},
   "outputs": [
    {
     "data": {
      "text/html": [
       "<div>\n",
       "<style scoped>\n",
       "    .dataframe tbody tr th:only-of-type {\n",
       "        vertical-align: middle;\n",
       "    }\n",
       "\n",
       "    .dataframe tbody tr th {\n",
       "        vertical-align: top;\n",
       "    }\n",
       "\n",
       "    .dataframe thead th {\n",
       "        text-align: right;\n",
       "    }\n",
       "</style>\n",
       "<table border=\"1\" class=\"dataframe\">\n",
       "  <thead>\n",
       "    <tr style=\"text-align: right;\">\n",
       "      <th></th>\n",
       "      <th>Name</th>\n",
       "      <th>Marks</th>\n",
       "      <th>cgpa</th>\n",
       "    </tr>\n",
       "  </thead>\n",
       "  <tbody>\n",
       "    <tr>\n",
       "      <th>0</th>\n",
       "      <td>Sunny</td>\n",
       "      <td>100</td>\n",
       "      <td>10.0</td>\n",
       "    </tr>\n",
       "    <tr>\n",
       "      <th>1</th>\n",
       "      <td>Nasir</td>\n",
       "      <td>20</td>\n",
       "      <td>2.0</td>\n",
       "    </tr>\n",
       "    <tr>\n",
       "      <th>2</th>\n",
       "      <td>Balram</td>\n",
       "      <td>100</td>\n",
       "      <td>10.0</td>\n",
       "    </tr>\n",
       "  </tbody>\n",
       "</table>\n",
       "</div>"
      ],
      "text/plain": [
       "     Name  Marks  cgpa\n",
       "0   Sunny    100  10.0\n",
       "1   Nasir     20   2.0\n",
       "2  Balram    100  10.0"
      ]
     },
     "execution_count": 63,
     "metadata": {},
     "output_type": "execute_result"
    }
   ],
   "source": [
    "df_student[0:3]"
   ]
  },
  {
   "cell_type": "code",
   "execution_count": 64,
   "id": "a9b55fcf-87af-4b68-b69c-21eb1e256804",
   "metadata": {},
   "outputs": [
    {
     "data": {
      "text/plain": [
       "0    100\n",
       "1     20\n",
       "2    100\n",
       "Name: Marks, dtype: int64"
      ]
     },
     "execution_count": 64,
     "metadata": {},
     "output_type": "execute_result"
    }
   ],
   "source": [
    "df_student[0:3].Marks"
   ]
  },
  {
   "cell_type": "code",
   "execution_count": 65,
   "id": "d345c15b-4c11-4f17-9db9-08e542f9f42c",
   "metadata": {},
   "outputs": [
    {
     "data": {
      "text/plain": [
       "20"
      ]
     },
     "execution_count": 65,
     "metadata": {},
     "output_type": "execute_result"
    }
   ],
   "source": [
    "df_student[0:3].Marks[1]"
   ]
  },
  {
   "cell_type": "code",
   "execution_count": 66,
   "id": "10a7cf44-95e6-469f-a9d4-a9d6b32906f4",
   "metadata": {},
   "outputs": [
    {
     "data": {
      "text/plain": [
       "20"
      ]
     },
     "execution_count": 66,
     "metadata": {},
     "output_type": "execute_result"
    }
   ],
   "source": [
    "df_student.Marks[1]"
   ]
  },
  {
   "cell_type": "markdown",
   "id": "09520e5b-2d07-4313-a212-ca7dfb166fc5",
   "metadata": {},
   "source": [
    "#### Size, Dimensions and Shape of the dataframe"
   ]
  },
  {
   "cell_type": "code",
   "execution_count": 68,
   "id": "25274a60-10c7-49b7-b5bf-29e543e40ae9",
   "metadata": {},
   "outputs": [
    {
     "name": "stdout",
     "output_type": "stream",
     "text": [
      "DataFrame is \n",
      "        Name  Marks  cgpa\n",
      "0     Sunny    100  10.0\n",
      "1     Nasir     20   2.0\n",
      "2    Balram    100  10.0\n",
      "3  Smiriddi     34   3.4\n",
      "4     Astha     22   2.2\n",
      "5       NaN    100  10.0\n",
      "6    Balram    100  10.0\n",
      "\n",
      "Size of the student dataframe is  21\n",
      "Dimension of the student dataframe is  2\n",
      "Shape of the student dataframe is  (7, 3)\n"
     ]
    }
   ],
   "source": [
    "# Get the size, shape and dimensions of the dataframe\n",
    "\n",
    "print(\"DataFrame is \\n\",df_student)\n",
    "print(\"\\nSize of the student dataframe is \",df_student.size)\n",
    "print(\"Dimension of the student dataframe is \",df_student.ndim)\n",
    "print(\"Shape of the student dataframe is \",df_student.shape)"
   ]
  },
  {
   "cell_type": "code",
   "execution_count": 69,
   "id": "3d5d7529-ae7c-4d78-8409-a5a4a8f683cb",
   "metadata": {},
   "outputs": [
    {
     "name": "stdout",
     "output_type": "stream",
     "text": [
      "Shape of the student dataframe is  Name     SunnyNasirBalramSmiriddiAsthaNaNBalram\n",
      "Marks                                       476\n",
      "cgpa                                       47.6\n",
      "dtype: object\n"
     ]
    }
   ],
   "source": [
    "print(\"Shape of the student dataframe is \",df_student.sum())"
   ]
  },
  {
   "cell_type": "code",
   "execution_count": 70,
   "id": "f1440049-93f2-4fb6-b065-e1afa48a1ec1",
   "metadata": {},
   "outputs": [
    {
     "name": "stdout",
     "output_type": "stream",
     "text": [
      "Shape of the student dataframe is       Name  Marks  cgpa\n",
      "0  Balram    100  10.0\n"
     ]
    }
   ],
   "source": [
    "print(\"Shape of the student dataframe is \",df_student.mode())"
   ]
  },
  {
   "cell_type": "markdown",
   "id": "edbbc2e0-5687-47fb-81e0-e3e709085994",
   "metadata": {},
   "source": [
    "#### To display first/last rows from the dataframe"
   ]
  },
  {
   "cell_type": "code",
   "execution_count": 72,
   "id": "b30fdd1a-7c96-478b-a364-8800f9359a9e",
   "metadata": {},
   "outputs": [
    {
     "data": {
      "text/html": [
       "<div>\n",
       "<style scoped>\n",
       "    .dataframe tbody tr th:only-of-type {\n",
       "        vertical-align: middle;\n",
       "    }\n",
       "\n",
       "    .dataframe tbody tr th {\n",
       "        vertical-align: top;\n",
       "    }\n",
       "\n",
       "    .dataframe thead th {\n",
       "        text-align: right;\n",
       "    }\n",
       "</style>\n",
       "<table border=\"1\" class=\"dataframe\">\n",
       "  <thead>\n",
       "    <tr style=\"text-align: right;\">\n",
       "      <th></th>\n",
       "      <th>Name</th>\n",
       "      <th>Marks</th>\n",
       "      <th>cgpa</th>\n",
       "    </tr>\n",
       "  </thead>\n",
       "  <tbody>\n",
       "    <tr>\n",
       "      <th>0</th>\n",
       "      <td>Sunny</td>\n",
       "      <td>100</td>\n",
       "      <td>10.0</td>\n",
       "    </tr>\n",
       "    <tr>\n",
       "      <th>1</th>\n",
       "      <td>Nasir</td>\n",
       "      <td>20</td>\n",
       "      <td>2.0</td>\n",
       "    </tr>\n",
       "    <tr>\n",
       "      <th>2</th>\n",
       "      <td>Balram</td>\n",
       "      <td>100</td>\n",
       "      <td>10.0</td>\n",
       "    </tr>\n",
       "    <tr>\n",
       "      <th>3</th>\n",
       "      <td>Smiriddi</td>\n",
       "      <td>34</td>\n",
       "      <td>3.4</td>\n",
       "    </tr>\n",
       "    <tr>\n",
       "      <th>4</th>\n",
       "      <td>Astha</td>\n",
       "      <td>22</td>\n",
       "      <td>2.2</td>\n",
       "    </tr>\n",
       "    <tr>\n",
       "      <th>5</th>\n",
       "      <td>NaN</td>\n",
       "      <td>100</td>\n",
       "      <td>10.0</td>\n",
       "    </tr>\n",
       "    <tr>\n",
       "      <th>6</th>\n",
       "      <td>Balram</td>\n",
       "      <td>100</td>\n",
       "      <td>10.0</td>\n",
       "    </tr>\n",
       "  </tbody>\n",
       "</table>\n",
       "</div>"
      ],
      "text/plain": [
       "       Name  Marks  cgpa\n",
       "0     Sunny    100  10.0\n",
       "1     Nasir     20   2.0\n",
       "2    Balram    100  10.0\n",
       "3  Smiriddi     34   3.4\n",
       "4     Astha     22   2.2\n",
       "5       NaN    100  10.0\n",
       "6    Balram    100  10.0"
      ]
     },
     "execution_count": 72,
     "metadata": {},
     "output_type": "execute_result"
    }
   ],
   "source": [
    "df_student"
   ]
  },
  {
   "cell_type": "code",
   "execution_count": 73,
   "id": "e2acc067-84dc-4b7e-b0cd-6292b15767fa",
   "metadata": {},
   "outputs": [
    {
     "data": {
      "text/html": [
       "<div>\n",
       "<style scoped>\n",
       "    .dataframe tbody tr th:only-of-type {\n",
       "        vertical-align: middle;\n",
       "    }\n",
       "\n",
       "    .dataframe tbody tr th {\n",
       "        vertical-align: top;\n",
       "    }\n",
       "\n",
       "    .dataframe thead th {\n",
       "        text-align: right;\n",
       "    }\n",
       "</style>\n",
       "<table border=\"1\" class=\"dataframe\">\n",
       "  <thead>\n",
       "    <tr style=\"text-align: right;\">\n",
       "      <th></th>\n",
       "      <th>Name</th>\n",
       "      <th>Marks</th>\n",
       "      <th>cgpa</th>\n",
       "    </tr>\n",
       "  </thead>\n",
       "  <tbody>\n",
       "    <tr>\n",
       "      <th>0</th>\n",
       "      <td>Sunny</td>\n",
       "      <td>100</td>\n",
       "      <td>10.0</td>\n",
       "    </tr>\n",
       "    <tr>\n",
       "      <th>1</th>\n",
       "      <td>Nasir</td>\n",
       "      <td>20</td>\n",
       "      <td>2.0</td>\n",
       "    </tr>\n",
       "    <tr>\n",
       "      <th>2</th>\n",
       "      <td>Balram</td>\n",
       "      <td>100</td>\n",
       "      <td>10.0</td>\n",
       "    </tr>\n",
       "    <tr>\n",
       "      <th>3</th>\n",
       "      <td>Smiriddi</td>\n",
       "      <td>34</td>\n",
       "      <td>3.4</td>\n",
       "    </tr>\n",
       "    <tr>\n",
       "      <th>4</th>\n",
       "      <td>Astha</td>\n",
       "      <td>22</td>\n",
       "      <td>2.2</td>\n",
       "    </tr>\n",
       "  </tbody>\n",
       "</table>\n",
       "</div>"
      ],
      "text/plain": [
       "       Name  Marks  cgpa\n",
       "0     Sunny    100  10.0\n",
       "1     Nasir     20   2.0\n",
       "2    Balram    100  10.0\n",
       "3  Smiriddi     34   3.4\n",
       "4     Astha     22   2.2"
      ]
     },
     "execution_count": 73,
     "metadata": {},
     "output_type": "execute_result"
    }
   ],
   "source": [
    "# Default is first 5\n",
    "\n",
    "df_student.head()"
   ]
  },
  {
   "cell_type": "code",
   "execution_count": 74,
   "id": "b95830b7-83f1-4265-92b8-31619242221a",
   "metadata": {},
   "outputs": [
    {
     "data": {
      "text/html": [
       "<div>\n",
       "<style scoped>\n",
       "    .dataframe tbody tr th:only-of-type {\n",
       "        vertical-align: middle;\n",
       "    }\n",
       "\n",
       "    .dataframe tbody tr th {\n",
       "        vertical-align: top;\n",
       "    }\n",
       "\n",
       "    .dataframe thead th {\n",
       "        text-align: right;\n",
       "    }\n",
       "</style>\n",
       "<table border=\"1\" class=\"dataframe\">\n",
       "  <thead>\n",
       "    <tr style=\"text-align: right;\">\n",
       "      <th></th>\n",
       "      <th>Name</th>\n",
       "      <th>Marks</th>\n",
       "      <th>cgpa</th>\n",
       "    </tr>\n",
       "  </thead>\n",
       "  <tbody>\n",
       "    <tr>\n",
       "      <th>0</th>\n",
       "      <td>Sunny</td>\n",
       "      <td>100</td>\n",
       "      <td>10.0</td>\n",
       "    </tr>\n",
       "  </tbody>\n",
       "</table>\n",
       "</div>"
      ],
      "text/plain": [
       "    Name  Marks  cgpa\n",
       "0  Sunny    100  10.0"
      ]
     },
     "execution_count": 74,
     "metadata": {},
     "output_type": "execute_result"
    }
   ],
   "source": [
    "df_student.head(1)"
   ]
  },
  {
   "cell_type": "code",
   "execution_count": 75,
   "id": "cd815fbc-38a0-472f-a68e-cb178f371037",
   "metadata": {},
   "outputs": [
    {
     "data": {
      "text/html": [
       "<div>\n",
       "<style scoped>\n",
       "    .dataframe tbody tr th:only-of-type {\n",
       "        vertical-align: middle;\n",
       "    }\n",
       "\n",
       "    .dataframe tbody tr th {\n",
       "        vertical-align: top;\n",
       "    }\n",
       "\n",
       "    .dataframe thead th {\n",
       "        text-align: right;\n",
       "    }\n",
       "</style>\n",
       "<table border=\"1\" class=\"dataframe\">\n",
       "  <thead>\n",
       "    <tr style=\"text-align: right;\">\n",
       "      <th></th>\n",
       "      <th>Name</th>\n",
       "      <th>Marks</th>\n",
       "      <th>cgpa</th>\n",
       "    </tr>\n",
       "  </thead>\n",
       "  <tbody>\n",
       "    <tr>\n",
       "      <th>0</th>\n",
       "      <td>Sunny</td>\n",
       "      <td>100</td>\n",
       "      <td>10.0</td>\n",
       "    </tr>\n",
       "    <tr>\n",
       "      <th>1</th>\n",
       "      <td>Nasir</td>\n",
       "      <td>20</td>\n",
       "      <td>2.0</td>\n",
       "    </tr>\n",
       "    <tr>\n",
       "      <th>2</th>\n",
       "      <td>Balram</td>\n",
       "      <td>100</td>\n",
       "      <td>10.0</td>\n",
       "    </tr>\n",
       "    <tr>\n",
       "      <th>3</th>\n",
       "      <td>Smiriddi</td>\n",
       "      <td>34</td>\n",
       "      <td>3.4</td>\n",
       "    </tr>\n",
       "    <tr>\n",
       "      <th>4</th>\n",
       "      <td>Astha</td>\n",
       "      <td>22</td>\n",
       "      <td>2.2</td>\n",
       "    </tr>\n",
       "    <tr>\n",
       "      <th>5</th>\n",
       "      <td>NaN</td>\n",
       "      <td>100</td>\n",
       "      <td>10.0</td>\n",
       "    </tr>\n",
       "  </tbody>\n",
       "</table>\n",
       "</div>"
      ],
      "text/plain": [
       "       Name  Marks  cgpa\n",
       "0     Sunny    100  10.0\n",
       "1     Nasir     20   2.0\n",
       "2    Balram    100  10.0\n",
       "3  Smiriddi     34   3.4\n",
       "4     Astha     22   2.2\n",
       "5       NaN    100  10.0"
      ]
     },
     "execution_count": 75,
     "metadata": {},
     "output_type": "execute_result"
    }
   ],
   "source": [
    "df_student.head(-1)"
   ]
  },
  {
   "cell_type": "code",
   "execution_count": 76,
   "id": "536b3528-be38-4c69-bd55-d0a266f029a9",
   "metadata": {},
   "outputs": [
    {
     "data": {
      "text/html": [
       "<div>\n",
       "<style scoped>\n",
       "    .dataframe tbody tr th:only-of-type {\n",
       "        vertical-align: middle;\n",
       "    }\n",
       "\n",
       "    .dataframe tbody tr th {\n",
       "        vertical-align: top;\n",
       "    }\n",
       "\n",
       "    .dataframe thead th {\n",
       "        text-align: right;\n",
       "    }\n",
       "</style>\n",
       "<table border=\"1\" class=\"dataframe\">\n",
       "  <thead>\n",
       "    <tr style=\"text-align: right;\">\n",
       "      <th></th>\n",
       "      <th>Name</th>\n",
       "      <th>Marks</th>\n",
       "      <th>cgpa</th>\n",
       "    </tr>\n",
       "  </thead>\n",
       "  <tbody>\n",
       "    <tr>\n",
       "      <th>6</th>\n",
       "      <td>Balram</td>\n",
       "      <td>100</td>\n",
       "      <td>10.0</td>\n",
       "    </tr>\n",
       "  </tbody>\n",
       "</table>\n",
       "</div>"
      ],
      "text/plain": [
       "     Name  Marks  cgpa\n",
       "6  Balram    100  10.0"
      ]
     },
     "execution_count": 76,
     "metadata": {},
     "output_type": "execute_result"
    }
   ],
   "source": [
    "df_student.tail(1)"
   ]
  },
  {
   "cell_type": "code",
   "execution_count": 77,
   "id": "954a3bfc-20fb-40a8-a889-5c11b469f6c4",
   "metadata": {},
   "outputs": [
    {
     "data": {
      "text/html": [
       "<div>\n",
       "<style scoped>\n",
       "    .dataframe tbody tr th:only-of-type {\n",
       "        vertical-align: middle;\n",
       "    }\n",
       "\n",
       "    .dataframe tbody tr th {\n",
       "        vertical-align: top;\n",
       "    }\n",
       "\n",
       "    .dataframe thead th {\n",
       "        text-align: right;\n",
       "    }\n",
       "</style>\n",
       "<table border=\"1\" class=\"dataframe\">\n",
       "  <thead>\n",
       "    <tr style=\"text-align: right;\">\n",
       "      <th></th>\n",
       "      <th>Name</th>\n",
       "      <th>Marks</th>\n",
       "      <th>cgpa</th>\n",
       "    </tr>\n",
       "  </thead>\n",
       "  <tbody>\n",
       "    <tr>\n",
       "      <th>1</th>\n",
       "      <td>Nasir</td>\n",
       "      <td>20</td>\n",
       "      <td>2.0</td>\n",
       "    </tr>\n",
       "    <tr>\n",
       "      <th>2</th>\n",
       "      <td>Balram</td>\n",
       "      <td>100</td>\n",
       "      <td>10.0</td>\n",
       "    </tr>\n",
       "    <tr>\n",
       "      <th>3</th>\n",
       "      <td>Smiriddi</td>\n",
       "      <td>34</td>\n",
       "      <td>3.4</td>\n",
       "    </tr>\n",
       "    <tr>\n",
       "      <th>4</th>\n",
       "      <td>Astha</td>\n",
       "      <td>22</td>\n",
       "      <td>2.2</td>\n",
       "    </tr>\n",
       "    <tr>\n",
       "      <th>5</th>\n",
       "      <td>NaN</td>\n",
       "      <td>100</td>\n",
       "      <td>10.0</td>\n",
       "    </tr>\n",
       "    <tr>\n",
       "      <th>6</th>\n",
       "      <td>Balram</td>\n",
       "      <td>100</td>\n",
       "      <td>10.0</td>\n",
       "    </tr>\n",
       "  </tbody>\n",
       "</table>\n",
       "</div>"
      ],
      "text/plain": [
       "       Name  Marks  cgpa\n",
       "1     Nasir     20   2.0\n",
       "2    Balram    100  10.0\n",
       "3  Smiriddi     34   3.4\n",
       "4     Astha     22   2.2\n",
       "5       NaN    100  10.0\n",
       "6    Balram    100  10.0"
      ]
     },
     "execution_count": 77,
     "metadata": {},
     "output_type": "execute_result"
    }
   ],
   "source": [
    "df_student.tail(-1)"
   ]
  },
  {
   "cell_type": "markdown",
   "id": "2286d873-0a37-4109-a977-310fd1419d64",
   "metadata": {},
   "source": [
    "#### Select random rows from the dataframe"
   ]
  },
  {
   "cell_type": "code",
   "execution_count": 79,
   "id": "6eda696c-f4fe-4447-a66f-b5312ba5fce5",
   "metadata": {},
   "outputs": [
    {
     "data": {
      "text/html": [
       "<div>\n",
       "<style scoped>\n",
       "    .dataframe tbody tr th:only-of-type {\n",
       "        vertical-align: middle;\n",
       "    }\n",
       "\n",
       "    .dataframe tbody tr th {\n",
       "        vertical-align: top;\n",
       "    }\n",
       "\n",
       "    .dataframe thead th {\n",
       "        text-align: right;\n",
       "    }\n",
       "</style>\n",
       "<table border=\"1\" class=\"dataframe\">\n",
       "  <thead>\n",
       "    <tr style=\"text-align: right;\">\n",
       "      <th></th>\n",
       "      <th>Name</th>\n",
       "      <th>Marks</th>\n",
       "      <th>cgpa</th>\n",
       "    </tr>\n",
       "  </thead>\n",
       "  <tbody>\n",
       "    <tr>\n",
       "      <th>6</th>\n",
       "      <td>Balram</td>\n",
       "      <td>100</td>\n",
       "      <td>10.0</td>\n",
       "    </tr>\n",
       "  </tbody>\n",
       "</table>\n",
       "</div>"
      ],
      "text/plain": [
       "     Name  Marks  cgpa\n",
       "6  Balram    100  10.0"
      ]
     },
     "execution_count": 79,
     "metadata": {},
     "output_type": "execute_result"
    }
   ],
   "source": [
    "df_student.sample()"
   ]
  },
  {
   "cell_type": "code",
   "execution_count": 80,
   "id": "b24ec454-e157-4f1d-9312-97e8ff04cdb8",
   "metadata": {},
   "outputs": [
    {
     "data": {
      "text/html": [
       "<div>\n",
       "<style scoped>\n",
       "    .dataframe tbody tr th:only-of-type {\n",
       "        vertical-align: middle;\n",
       "    }\n",
       "\n",
       "    .dataframe tbody tr th {\n",
       "        vertical-align: top;\n",
       "    }\n",
       "\n",
       "    .dataframe thead th {\n",
       "        text-align: right;\n",
       "    }\n",
       "</style>\n",
       "<table border=\"1\" class=\"dataframe\">\n",
       "  <thead>\n",
       "    <tr style=\"text-align: right;\">\n",
       "      <th></th>\n",
       "      <th>Name</th>\n",
       "      <th>Marks</th>\n",
       "      <th>cgpa</th>\n",
       "    </tr>\n",
       "  </thead>\n",
       "  <tbody>\n",
       "    <tr>\n",
       "      <th>1</th>\n",
       "      <td>Nasir</td>\n",
       "      <td>20</td>\n",
       "      <td>2.0</td>\n",
       "    </tr>\n",
       "    <tr>\n",
       "      <th>4</th>\n",
       "      <td>Astha</td>\n",
       "      <td>22</td>\n",
       "      <td>2.2</td>\n",
       "    </tr>\n",
       "    <tr>\n",
       "      <th>6</th>\n",
       "      <td>Balram</td>\n",
       "      <td>100</td>\n",
       "      <td>10.0</td>\n",
       "    </tr>\n",
       "  </tbody>\n",
       "</table>\n",
       "</div>"
      ],
      "text/plain": [
       "     Name  Marks  cgpa\n",
       "1   Nasir     20   2.0\n",
       "4   Astha     22   2.2\n",
       "6  Balram    100  10.0"
      ]
     },
     "execution_count": 80,
     "metadata": {},
     "output_type": "execute_result"
    }
   ],
   "source": [
    "df_student.sample(3)"
   ]
  },
  {
   "cell_type": "code",
   "execution_count": 82,
   "id": "c2f09110-ac0e-45ff-8ff4-ab8654308241",
   "metadata": {},
   "outputs": [
    {
     "data": {
      "text/html": [
       "<div>\n",
       "<style scoped>\n",
       "    .dataframe tbody tr th:only-of-type {\n",
       "        vertical-align: middle;\n",
       "    }\n",
       "\n",
       "    .dataframe tbody tr th {\n",
       "        vertical-align: top;\n",
       "    }\n",
       "\n",
       "    .dataframe thead th {\n",
       "        text-align: right;\n",
       "    }\n",
       "</style>\n",
       "<table border=\"1\" class=\"dataframe\">\n",
       "  <thead>\n",
       "    <tr style=\"text-align: right;\">\n",
       "      <th></th>\n",
       "      <th>Name</th>\n",
       "      <th>Marks</th>\n",
       "      <th>cgpa</th>\n",
       "    </tr>\n",
       "  </thead>\n",
       "  <tbody>\n",
       "    <tr>\n",
       "      <th>0</th>\n",
       "      <td>Sunny</td>\n",
       "      <td>100</td>\n",
       "      <td>10.0</td>\n",
       "    </tr>\n",
       "    <tr>\n",
       "      <th>1</th>\n",
       "      <td>Nasir</td>\n",
       "      <td>20</td>\n",
       "      <td>2.0</td>\n",
       "    </tr>\n",
       "    <tr>\n",
       "      <th>2</th>\n",
       "      <td>Balram</td>\n",
       "      <td>100</td>\n",
       "      <td>10.0</td>\n",
       "    </tr>\n",
       "    <tr>\n",
       "      <th>3</th>\n",
       "      <td>Smiriddi</td>\n",
       "      <td>34</td>\n",
       "      <td>3.4</td>\n",
       "    </tr>\n",
       "    <tr>\n",
       "      <th>4</th>\n",
       "      <td>Astha</td>\n",
       "      <td>22</td>\n",
       "      <td>2.2</td>\n",
       "    </tr>\n",
       "    <tr>\n",
       "      <th>5</th>\n",
       "      <td>NaN</td>\n",
       "      <td>100</td>\n",
       "      <td>10.0</td>\n",
       "    </tr>\n",
       "    <tr>\n",
       "      <th>6</th>\n",
       "      <td>Balram</td>\n",
       "      <td>100</td>\n",
       "      <td>10.0</td>\n",
       "    </tr>\n",
       "  </tbody>\n",
       "</table>\n",
       "</div>"
      ],
      "text/plain": [
       "       Name  Marks  cgpa\n",
       "0     Sunny    100  10.0\n",
       "1     Nasir     20   2.0\n",
       "2    Balram    100  10.0\n",
       "3  Smiriddi     34   3.4\n",
       "4     Astha     22   2.2\n",
       "5       NaN    100  10.0\n",
       "6    Balram    100  10.0"
      ]
     },
     "execution_count": 82,
     "metadata": {},
     "output_type": "execute_result"
    }
   ],
   "source": [
    "df_student"
   ]
  },
  {
   "cell_type": "markdown",
   "id": "6d8922c4-621f-4a3c-9d28-d57515a035bc",
   "metadata": {},
   "source": [
    "#### To find the duplicate values"
   ]
  },
  {
   "cell_type": "code",
   "execution_count": 84,
   "id": "d417cc7b-21fe-428b-b046-7d0bfbfdcf82",
   "metadata": {},
   "outputs": [
    {
     "data": {
      "text/plain": [
       "0    False\n",
       "1    False\n",
       "2    False\n",
       "3    False\n",
       "4    False\n",
       "5    False\n",
       "6     True\n",
       "dtype: bool"
      ]
     },
     "execution_count": 84,
     "metadata": {},
     "output_type": "execute_result"
    }
   ],
   "source": [
    "df_student.duplicated()"
   ]
  },
  {
   "cell_type": "code",
   "execution_count": 85,
   "id": "1b725111-389f-4053-8c45-cb1b1ca45c62",
   "metadata": {},
   "outputs": [
    {
     "data": {
      "text/plain": [
       "1"
      ]
     },
     "execution_count": 85,
     "metadata": {},
     "output_type": "execute_result"
    }
   ],
   "source": [
    "df_student.duplicated().sum()"
   ]
  },
  {
   "cell_type": "code",
   "execution_count": 86,
   "id": "ac37cfe4-d203-41e9-b10a-6f024e8c1133",
   "metadata": {},
   "outputs": [
    {
     "data": {
      "text/plain": [
       "7"
      ]
     },
     "execution_count": 86,
     "metadata": {},
     "output_type": "execute_result"
    }
   ],
   "source": [
    "df_student.duplicated().count()"
   ]
  },
  {
   "cell_type": "markdown",
   "id": "b995185f-f230-4224-9447-e71c66aba6e4",
   "metadata": {},
   "source": [
    "#### Update the dataframe"
   ]
  },
  {
   "cell_type": "code",
   "execution_count": 88,
   "id": "c0f9f7a8-bc0b-4155-a0b3-6bbe9147e2bc",
   "metadata": {},
   "outputs": [
    {
     "data": {
      "text/html": [
       "<div>\n",
       "<style scoped>\n",
       "    .dataframe tbody tr th:only-of-type {\n",
       "        vertical-align: middle;\n",
       "    }\n",
       "\n",
       "    .dataframe tbody tr th {\n",
       "        vertical-align: top;\n",
       "    }\n",
       "\n",
       "    .dataframe thead th {\n",
       "        text-align: right;\n",
       "    }\n",
       "</style>\n",
       "<table border=\"1\" class=\"dataframe\">\n",
       "  <thead>\n",
       "    <tr style=\"text-align: right;\">\n",
       "      <th></th>\n",
       "      <th>Name</th>\n",
       "      <th>Marks</th>\n",
       "      <th>cgpa</th>\n",
       "    </tr>\n",
       "  </thead>\n",
       "  <tbody>\n",
       "    <tr>\n",
       "      <th>0</th>\n",
       "      <td>Sunny</td>\n",
       "      <td>100</td>\n",
       "      <td>10.0</td>\n",
       "    </tr>\n",
       "    <tr>\n",
       "      <th>1</th>\n",
       "      <td>Nasir</td>\n",
       "      <td>20</td>\n",
       "      <td>2.0</td>\n",
       "    </tr>\n",
       "    <tr>\n",
       "      <th>2</th>\n",
       "      <td>Balram</td>\n",
       "      <td>100</td>\n",
       "      <td>10.0</td>\n",
       "    </tr>\n",
       "    <tr>\n",
       "      <th>3</th>\n",
       "      <td>Smiriddi</td>\n",
       "      <td>34</td>\n",
       "      <td>3.4</td>\n",
       "    </tr>\n",
       "    <tr>\n",
       "      <th>4</th>\n",
       "      <td>Astha</td>\n",
       "      <td>22</td>\n",
       "      <td>2.2</td>\n",
       "    </tr>\n",
       "    <tr>\n",
       "      <th>5</th>\n",
       "      <td>NaN</td>\n",
       "      <td>100</td>\n",
       "      <td>10.0</td>\n",
       "    </tr>\n",
       "    <tr>\n",
       "      <th>6</th>\n",
       "      <td>Balram</td>\n",
       "      <td>100</td>\n",
       "      <td>10.0</td>\n",
       "    </tr>\n",
       "  </tbody>\n",
       "</table>\n",
       "</div>"
      ],
      "text/plain": [
       "       Name  Marks  cgpa\n",
       "0     Sunny    100  10.0\n",
       "1     Nasir     20   2.0\n",
       "2    Balram    100  10.0\n",
       "3  Smiriddi     34   3.4\n",
       "4     Astha     22   2.2\n",
       "5       NaN    100  10.0\n",
       "6    Balram    100  10.0"
      ]
     },
     "execution_count": 88,
     "metadata": {},
     "output_type": "execute_result"
    }
   ],
   "source": [
    "df_student"
   ]
  },
  {
   "cell_type": "code",
   "execution_count": 114,
   "id": "9b2b898d-54de-47e3-b44c-eea7cd00dd10",
   "metadata": {},
   "outputs": [
    {
     "data": {
      "text/html": [
       "<div>\n",
       "<style scoped>\n",
       "    .dataframe tbody tr th:only-of-type {\n",
       "        vertical-align: middle;\n",
       "    }\n",
       "\n",
       "    .dataframe tbody tr th {\n",
       "        vertical-align: top;\n",
       "    }\n",
       "\n",
       "    .dataframe thead th {\n",
       "        text-align: right;\n",
       "    }\n",
       "</style>\n",
       "<table border=\"1\" class=\"dataframe\">\n",
       "  <thead>\n",
       "    <tr style=\"text-align: right;\">\n",
       "      <th></th>\n",
       "      <th>Name</th>\n",
       "      <th>Marks</th>\n",
       "      <th>cgpa</th>\n",
       "    </tr>\n",
       "  </thead>\n",
       "  <tbody>\n",
       "    <tr>\n",
       "      <th>6</th>\n",
       "      <td>Balram</td>\n",
       "      <td>100</td>\n",
       "      <td>10.0</td>\n",
       "    </tr>\n",
       "    <tr>\n",
       "      <th>5</th>\n",
       "      <td>NaN</td>\n",
       "      <td>100</td>\n",
       "      <td>10.0</td>\n",
       "    </tr>\n",
       "    <tr>\n",
       "      <th>4</th>\n",
       "      <td>Astha</td>\n",
       "      <td>22</td>\n",
       "      <td>2.2</td>\n",
       "    </tr>\n",
       "    <tr>\n",
       "      <th>3</th>\n",
       "      <td>Smiriddi</td>\n",
       "      <td>34</td>\n",
       "      <td>3.4</td>\n",
       "    </tr>\n",
       "    <tr>\n",
       "      <th>2</th>\n",
       "      <td>Balram</td>\n",
       "      <td>100</td>\n",
       "      <td>10.0</td>\n",
       "    </tr>\n",
       "    <tr>\n",
       "      <th>1</th>\n",
       "      <td>Nasir</td>\n",
       "      <td>20</td>\n",
       "      <td>2.0</td>\n",
       "    </tr>\n",
       "    <tr>\n",
       "      <th>0</th>\n",
       "      <td>Sunny</td>\n",
       "      <td>100</td>\n",
       "      <td>10.0</td>\n",
       "    </tr>\n",
       "  </tbody>\n",
       "</table>\n",
       "</div>"
      ],
      "text/plain": [
       "       Name  Marks  cgpa\n",
       "6    Balram    100  10.0\n",
       "5       NaN    100  10.0\n",
       "4     Astha     22   2.2\n",
       "3  Smiriddi     34   3.4\n",
       "2    Balram    100  10.0\n",
       "1     Nasir     20   2.0\n",
       "0     Sunny    100  10.0"
      ]
     },
     "execution_count": 114,
     "metadata": {},
     "output_type": "execute_result"
    }
   ],
   "source": [
    "df_student.sort_index(ascending=False)"
   ]
  },
  {
   "cell_type": "code",
   "execution_count": 112,
   "id": "56510947-16ea-4a33-a91a-b32223c42e6c",
   "metadata": {},
   "outputs": [
    {
     "data": {
      "text/html": [
       "<div>\n",
       "<style scoped>\n",
       "    .dataframe tbody tr th:only-of-type {\n",
       "        vertical-align: middle;\n",
       "    }\n",
       "\n",
       "    .dataframe tbody tr th {\n",
       "        vertical-align: top;\n",
       "    }\n",
       "\n",
       "    .dataframe thead th {\n",
       "        text-align: right;\n",
       "    }\n",
       "</style>\n",
       "<table border=\"1\" class=\"dataframe\">\n",
       "  <thead>\n",
       "    <tr style=\"text-align: right;\">\n",
       "      <th></th>\n",
       "      <th>Name</th>\n",
       "      <th>Marks</th>\n",
       "      <th>cgpa</th>\n",
       "    </tr>\n",
       "  </thead>\n",
       "  <tbody>\n",
       "    <tr>\n",
       "      <th>0</th>\n",
       "      <td>Sunny</td>\n",
       "      <td>100</td>\n",
       "      <td>10.0</td>\n",
       "    </tr>\n",
       "    <tr>\n",
       "      <th>3</th>\n",
       "      <td>Smiriddi</td>\n",
       "      <td>34</td>\n",
       "      <td>3.4</td>\n",
       "    </tr>\n",
       "    <tr>\n",
       "      <th>1</th>\n",
       "      <td>Nasir</td>\n",
       "      <td>20</td>\n",
       "      <td>2.0</td>\n",
       "    </tr>\n",
       "    <tr>\n",
       "      <th>5</th>\n",
       "      <td>NaN</td>\n",
       "      <td>100</td>\n",
       "      <td>10.0</td>\n",
       "    </tr>\n",
       "    <tr>\n",
       "      <th>2</th>\n",
       "      <td>Balram</td>\n",
       "      <td>100</td>\n",
       "      <td>10.0</td>\n",
       "    </tr>\n",
       "    <tr>\n",
       "      <th>6</th>\n",
       "      <td>Balram</td>\n",
       "      <td>100</td>\n",
       "      <td>10.0</td>\n",
       "    </tr>\n",
       "    <tr>\n",
       "      <th>4</th>\n",
       "      <td>Astha</td>\n",
       "      <td>22</td>\n",
       "      <td>2.2</td>\n",
       "    </tr>\n",
       "  </tbody>\n",
       "</table>\n",
       "</div>"
      ],
      "text/plain": [
       "       Name  Marks  cgpa\n",
       "0     Sunny    100  10.0\n",
       "3  Smiriddi     34   3.4\n",
       "1     Nasir     20   2.0\n",
       "5       NaN    100  10.0\n",
       "2    Balram    100  10.0\n",
       "6    Balram    100  10.0\n",
       "4     Astha     22   2.2"
      ]
     },
     "execution_count": 112,
     "metadata": {},
     "output_type": "execute_result"
    }
   ],
   "source": [
    "df_student.sort_values(by='Name',ascending=False)"
   ]
  },
  {
   "cell_type": "code",
   "execution_count": 113,
   "id": "85e4cfbd-51ca-48d5-866a-268181cb90cb",
   "metadata": {},
   "outputs": [
    {
     "name": "stderr",
     "output_type": "stream",
     "text": [
      "C:\\Users\\ACER\\AppData\\Local\\Temp\\ipykernel_8832\\4287027846.py:3: SettingWithCopyWarning: \n",
      "A value is trying to be set on a copy of a slice from a DataFrame\n",
      "\n",
      "See the caveats in the documentation: https://pandas.pydata.org/pandas-docs/stable/user_guide/indexing.html#returning-a-view-versus-a-copy\n",
      "  df_student.Marks[1] = 30\n"
     ]
    }
   ],
   "source": [
    "# Update marks of Nasir from 20 to 30\n",
    "\n",
    "df_student.Marks[1] = 30"
   ]
  },
  {
   "cell_type": "code",
   "execution_count": 117,
   "id": "4ace5ce7-9e1d-46c8-bbbd-f2c6ec1eeb30",
   "metadata": {},
   "outputs": [
    {
     "name": "stderr",
     "output_type": "stream",
     "text": [
      "C:\\Users\\ACER\\AppData\\Local\\Temp\\ipykernel_8832\\1216722550.py:3: SettingWithCopyWarning: \n",
      "A value is trying to be set on a copy of a slice from a DataFrame\n",
      "\n",
      "See the caveats in the documentation: https://pandas.pydata.org/pandas-docs/stable/user_guide/indexing.html#returning-a-view-versus-a-copy\n",
      "  df_student.cgpa[5]=0\n"
     ]
    }
   ],
   "source": [
    "# Update cgpa of NaN from 10 to 0\n",
    "\n",
    "df_student.cgpa[5]=0"
   ]
  },
  {
   "cell_type": "code",
   "execution_count": 119,
   "id": "2dc2b986-a71b-470f-b54e-b9ed44036e74",
   "metadata": {},
   "outputs": [
    {
     "data": {
      "text/html": [
       "<div>\n",
       "<style scoped>\n",
       "    .dataframe tbody tr th:only-of-type {\n",
       "        vertical-align: middle;\n",
       "    }\n",
       "\n",
       "    .dataframe tbody tr th {\n",
       "        vertical-align: top;\n",
       "    }\n",
       "\n",
       "    .dataframe thead th {\n",
       "        text-align: right;\n",
       "    }\n",
       "</style>\n",
       "<table border=\"1\" class=\"dataframe\">\n",
       "  <thead>\n",
       "    <tr style=\"text-align: right;\">\n",
       "      <th></th>\n",
       "      <th>Name</th>\n",
       "      <th>Marks</th>\n",
       "      <th>cgpa</th>\n",
       "    </tr>\n",
       "  </thead>\n",
       "  <tbody>\n",
       "    <tr>\n",
       "      <th>0</th>\n",
       "      <td>Sunny</td>\n",
       "      <td>100</td>\n",
       "      <td>10.0</td>\n",
       "    </tr>\n",
       "    <tr>\n",
       "      <th>1</th>\n",
       "      <td>Nasir</td>\n",
       "      <td>30</td>\n",
       "      <td>2.0</td>\n",
       "    </tr>\n",
       "    <tr>\n",
       "      <th>2</th>\n",
       "      <td>Balram</td>\n",
       "      <td>100</td>\n",
       "      <td>10.0</td>\n",
       "    </tr>\n",
       "    <tr>\n",
       "      <th>3</th>\n",
       "      <td>Smiriddi</td>\n",
       "      <td>34</td>\n",
       "      <td>3.4</td>\n",
       "    </tr>\n",
       "    <tr>\n",
       "      <th>4</th>\n",
       "      <td>Astha</td>\n",
       "      <td>22</td>\n",
       "      <td>2.2</td>\n",
       "    </tr>\n",
       "    <tr>\n",
       "      <th>5</th>\n",
       "      <td>NaN</td>\n",
       "      <td>100</td>\n",
       "      <td>0.0</td>\n",
       "    </tr>\n",
       "    <tr>\n",
       "      <th>6</th>\n",
       "      <td>Balram</td>\n",
       "      <td>100</td>\n",
       "      <td>10.0</td>\n",
       "    </tr>\n",
       "  </tbody>\n",
       "</table>\n",
       "</div>"
      ],
      "text/plain": [
       "       Name  Marks  cgpa\n",
       "0     Sunny    100  10.0\n",
       "1     Nasir     30   2.0\n",
       "2    Balram    100  10.0\n",
       "3  Smiriddi     34   3.4\n",
       "4     Astha     22   2.2\n",
       "5       NaN    100   0.0\n",
       "6    Balram    100  10.0"
      ]
     },
     "execution_count": 119,
     "metadata": {},
     "output_type": "execute_result"
    }
   ],
   "source": [
    "df_student"
   ]
  },
  {
   "cell_type": "code",
   "execution_count": null,
   "id": "90612c0a-2933-432e-8957-af1231d99a90",
   "metadata": {},
   "outputs": [],
   "source": []
  }
 ],
 "metadata": {
  "kernelspec": {
   "display_name": "Python [conda env:base] *",
   "language": "python",
   "name": "conda-base-py"
  },
  "language_info": {
   "codemirror_mode": {
    "name": "ipython",
    "version": 3
   },
   "file_extension": ".py",
   "mimetype": "text/x-python",
   "name": "python",
   "nbconvert_exporter": "python",
   "pygments_lexer": "ipython3",
   "version": "3.12.7"
  }
 },
 "nbformat": 4,
 "nbformat_minor": 5
}
