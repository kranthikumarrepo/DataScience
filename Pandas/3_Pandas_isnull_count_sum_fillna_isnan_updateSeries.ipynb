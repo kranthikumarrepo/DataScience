{
 "cells": [
  {
   "cell_type": "markdown",
   "id": "0815ce03-989b-461d-b8f1-2f7cdc0c2303",
   "metadata": {},
   "source": [
    "#### Various functions on pandas objects\n",
    "- To find if a value is null or not\n",
    "- Syntax:-\n",
    "- Series_obj_name.isnull()\n",
    "- .\n",
    "- To filter only null values\n",
    "- Syntax:-\n",
    "- Series_obj_name[Series_obj_name.isnull()]\n",
    "- .\n",
    "- To get the total number of values in a Series\n",
    "- len(Series_obj_name)\n",
    "- or\n",
    "- Series_obj_name.count()\n",
    "- .\n",
    "- To get the sum of all the values in a Series\n",
    "- Series_obj_name.sum()\n",
    "- .\n",
    "- To replace null values with user given value\n",
    "- Syntax:-\n",
    "- Series_obj_name.fillna()\n",
    "- .\n",
    "- To check for null value of an individual element of a pandas Series\n",
    "- for i in Series_obj_name:\n",
    "- np.isnan(i) >>> Returns True or False\n",
    "- .\n",
    "- To update a specific value in a pandas Series\n",
    "- Syntax:-\n",
    "- Series_obj_name[index] = new_value"
   ]
  },
  {
   "cell_type": "code",
   "execution_count": 63,
   "id": "0f2d348e-556c-427a-a610-3d303639b5f3",
   "metadata": {},
   "outputs": [
    {
     "data": {
      "text/plain": [
       "0       1.0\n",
       "1       2.0\n",
       "2       3.0\n",
       "3       4.0\n",
       "4       NaN\n",
       "5       5.0\n",
       "6       6.0\n",
       "7       7.0\n",
       "8     893.0\n",
       "9      34.0\n",
       "10     22.0\n",
       "11      2.0\n",
       "12      9.0\n",
       "13      NaN\n",
       "14    100.0\n",
       "dtype: float64"
      ]
     },
     "execution_count": 63,
     "metadata": {},
     "output_type": "execute_result"
    }
   ],
   "source": [
    "import pandas as pd \n",
    "import numpy as np\n",
    "numS = pd.Series([1,2,3,4,np.nan,5,6,7,893,34,22,2,9,np.nan,100])\n",
    "numS"
   ]
  },
  {
   "cell_type": "code",
   "execution_count": 65,
   "id": "d541f6cb-2be1-496d-aea0-81b14b924d13",
   "metadata": {},
   "outputs": [
    {
     "data": {
      "text/plain": [
       "0     False\n",
       "1     False\n",
       "2     False\n",
       "3     False\n",
       "4      True\n",
       "5     False\n",
       "6     False\n",
       "7     False\n",
       "8     False\n",
       "9     False\n",
       "10    False\n",
       "11    False\n",
       "12    False\n",
       "13     True\n",
       "14    False\n",
       "dtype: bool"
      ]
     },
     "execution_count": 65,
     "metadata": {},
     "output_type": "execute_result"
    }
   ],
   "source": [
    "# To find if a value in Series is null or not\n",
    "\n",
    "numS.isnull()"
   ]
  },
  {
   "cell_type": "code",
   "execution_count": 67,
   "id": "11205bc2-6b39-4472-acfc-6de467a41e89",
   "metadata": {},
   "outputs": [
    {
     "data": {
      "text/plain": [
       "4    NaN\n",
       "13   NaN\n",
       "dtype: float64"
      ]
     },
     "execution_count": 67,
     "metadata": {},
     "output_type": "execute_result"
    }
   ],
   "source": [
    "# To filter only null values\n",
    "\n",
    "numS[numS.isnull()]"
   ]
  },
  {
   "cell_type": "code",
   "execution_count": 69,
   "id": "36180a46-df4b-478e-8d59-5a59b9d85d93",
   "metadata": {},
   "outputs": [
    {
     "data": {
      "text/plain": [
       "15"
      ]
     },
     "execution_count": 69,
     "metadata": {},
     "output_type": "execute_result"
    }
   ],
   "source": [
    "# To get total number of values in a Series\n",
    "\n",
    "len(numS)"
   ]
  },
  {
   "cell_type": "code",
   "execution_count": 71,
   "id": "43f948af-45dd-4580-bdbe-97d6d1e8c575",
   "metadata": {},
   "outputs": [
    {
     "data": {
      "text/plain": [
       "2"
      ]
     },
     "execution_count": 71,
     "metadata": {},
     "output_type": "execute_result"
    }
   ],
   "source": [
    "# To get total number of null values in a Series\n",
    "\n",
    "len(numS[numS.isnull()])"
   ]
  },
  {
   "cell_type": "code",
   "execution_count": 73,
   "id": "064ccf94-2aca-4746-9457-28a0a19b6374",
   "metadata": {},
   "outputs": [
    {
     "data": {
      "text/plain": [
       "1088.0"
      ]
     },
     "execution_count": 73,
     "metadata": {},
     "output_type": "execute_result"
    }
   ],
   "source": [
    "numS.sum()"
   ]
  },
  {
   "cell_type": "code",
   "execution_count": 75,
   "id": "de3c4647-714b-44ad-9399-31a41e60f58c",
   "metadata": {},
   "outputs": [
    {
     "data": {
      "text/plain": [
       "13"
      ]
     },
     "execution_count": 75,
     "metadata": {},
     "output_type": "execute_result"
    }
   ],
   "source": [
    "numS.count()"
   ]
  },
  {
   "cell_type": "code",
   "execution_count": 77,
   "id": "1ac75f83-d6af-4c43-9c8b-1b53a63da448",
   "metadata": {},
   "outputs": [
    {
     "data": {
      "text/plain": [
       "2"
      ]
     },
     "execution_count": 77,
     "metadata": {},
     "output_type": "execute_result"
    }
   ],
   "source": [
    "numS.isnull().sum()"
   ]
  },
  {
   "cell_type": "code",
   "execution_count": 79,
   "id": "6cbdf83c-810b-4aa2-92f1-c8c9ebdcbd78",
   "metadata": {},
   "outputs": [
    {
     "data": {
      "text/plain": [
       "15"
      ]
     },
     "execution_count": 79,
     "metadata": {},
     "output_type": "execute_result"
    }
   ],
   "source": [
    "numS.isnull().count()"
   ]
  },
  {
   "cell_type": "markdown",
   "id": "294b7723-eb42-4063-adb3-92c8f7cd518c",
   "metadata": {},
   "source": [
    "##### fillna()\n",
    "- Used to replace null values with the given value"
   ]
  },
  {
   "cell_type": "code",
   "execution_count": 105,
   "id": "6bea2bb3-fbf9-4976-bf0f-1d41061ef978",
   "metadata": {},
   "outputs": [
    {
     "name": "stdout",
     "output_type": "stream",
     "text": [
      "Number series is \n",
      " 0     1.0\n",
      "1     2.0\n",
      "2     NaN\n",
      "3     9.0\n",
      "4     NaN\n",
      "5    10.0\n",
      "dtype: float64\n",
      "\n",
      "\n",
      "Number series after replacing nulls with 999 is \n",
      " 0      1.0\n",
      "1      2.0\n",
      "2    999.0\n",
      "3      9.0\n",
      "4    999.0\n",
      "5     10.0\n",
      "dtype: float64\n"
     ]
    }
   ],
   "source": [
    "# Fill 999 whenever there is a null value\n",
    "\n",
    "numS = pd.Series([1,2,np.nan,9,np.nan,10])\n",
    "\n",
    "print(\"Number series is \\n\",numS)\n",
    "print('\\n')\n",
    "numS999 = numS.fillna(999)\n",
    "print(\"Number series after replacing nulls with 999 is \\n\", numS999)"
   ]
  },
  {
   "cell_type": "code",
   "execution_count": 125,
   "id": "a83fe85c-99ab-460f-8d1b-88ae65b53f61",
   "metadata": {},
   "outputs": [
    {
     "name": "stdout",
     "output_type": "stream",
     "text": [
      "Number series is \n",
      " 0     1.0\n",
      "1     2.0\n",
      "2     NaN\n",
      "3     9.0\n",
      "4     NaN\n",
      "5    10.0\n",
      "6    11.0\n",
      "7     2.0\n",
      "dtype: float64\n",
      "\n",
      "\n",
      "Mean of numS is  5.833333333333333\n",
      "Number series after replacing nulls with mean value of the series is \n",
      " 0     1.000000\n",
      "1     2.000000\n",
      "2     5.833333\n",
      "3     9.000000\n",
      "4     5.833333\n",
      "5    10.000000\n",
      "6    11.000000\n",
      "7     2.000000\n",
      "dtype: float64\n"
     ]
    }
   ],
   "source": [
    "# Replace null values with the mean value of the series\n",
    "\n",
    "numS = pd.Series([1,2,np.nan,9,np.nan,10,11,2])\n",
    "\n",
    "print(\"Number series is \\n\",numS)\n",
    "print('\\n')\n",
    "numS999 = numS.fillna(numS.mean())\n",
    "print(\"Mean of numS is \",numS.mean())\n",
    "print(\"Number series after replacing nulls with mean value of the series is \\n\", numS999)"
   ]
  },
  {
   "cell_type": "code",
   "execution_count": 127,
   "id": "f1f43794-fcb3-4593-ba03-002363c8d6c5",
   "metadata": {},
   "outputs": [
    {
     "name": "stdout",
     "output_type": "stream",
     "text": [
      "Number series is \n",
      " 0     1.0\n",
      "1     2.0\n",
      "2     NaN\n",
      "3     9.0\n",
      "4     NaN\n",
      "5    10.0\n",
      "6    11.0\n",
      "7     2.0\n",
      "dtype: float64\n",
      "\n",
      "\n",
      "Median of numS is  5.5\n",
      "Number series after replacing nulls with median value of the series is \n",
      " 0     1.0\n",
      "1     2.0\n",
      "2     5.5\n",
      "3     9.0\n",
      "4     5.5\n",
      "5    10.0\n",
      "6    11.0\n",
      "7     2.0\n",
      "dtype: float64\n"
     ]
    }
   ],
   "source": [
    "# Replace null values with the median value of the series\n",
    "\n",
    "numS = pd.Series([1,2,np.nan,9,np.nan,10,11,2])\n",
    "\n",
    "print(\"Number series is \\n\",numS)\n",
    "print('\\n')\n",
    "numS999 = numS.fillna(numS.median())\n",
    "print(\"Median of numS is \",numS.median())\n",
    "print(\"Number series after replacing nulls with median value of the series is \\n\", numS999)"
   ]
  },
  {
   "cell_type": "code",
   "execution_count": 129,
   "id": "0e75421c-8950-4953-b004-454a79afd6ff",
   "metadata": {},
   "outputs": [
    {
     "data": {
      "text/plain": [
       "0    2.0\n",
       "dtype: float64"
      ]
     },
     "execution_count": 129,
     "metadata": {},
     "output_type": "execute_result"
    }
   ],
   "source": [
    "numS.mode()"
   ]
  },
  {
   "cell_type": "code",
   "execution_count": 135,
   "id": "242db19d-a765-451a-b5d6-bdf6b29f2483",
   "metadata": {},
   "outputs": [
    {
     "data": {
      "text/plain": [
       "2.0"
      ]
     },
     "execution_count": 135,
     "metadata": {},
     "output_type": "execute_result"
    }
   ],
   "source": [
    "numS.mode()[0]"
   ]
  },
  {
   "cell_type": "code",
   "execution_count": 133,
   "id": "094a2515-c878-418d-b27f-1af0712d6d07",
   "metadata": {},
   "outputs": [
    {
     "name": "stdout",
     "output_type": "stream",
     "text": [
      "Number series is \n",
      " 0     1.0\n",
      "1     2.0\n",
      "2     NaN\n",
      "3     9.0\n",
      "4     NaN\n",
      "5    10.0\n",
      "6    11.0\n",
      "7     2.0\n",
      "dtype: float64\n",
      "\n",
      "\n",
      "Median of numS is  2.0\n",
      "Number series after replacing nulls with median value of the series is \n",
      " 0     1.0\n",
      "1     2.0\n",
      "2     2.0\n",
      "3     9.0\n",
      "4     2.0\n",
      "5    10.0\n",
      "6    11.0\n",
      "7     2.0\n",
      "dtype: float64\n"
     ]
    }
   ],
   "source": [
    "# Replace null values with the mode value of the series\n",
    "\n",
    "numS = pd.Series([1,2,np.nan,9,np.nan,10,11,2])\n",
    "\n",
    "print(\"Number series is \\n\",numS)\n",
    "print('\\n')\n",
    "numS999 = numS.fillna(numS.mode()[0])\n",
    "print(\"Median of numS is \",numS.mode()[0])\n",
    "print(\"Number series after replacing nulls with median value of the series is \\n\", numS999)"
   ]
  },
  {
   "cell_type": "markdown",
   "id": "a71860ec-f7ee-4673-abac-bce1fa92f14c",
   "metadata": {},
   "source": [
    "#### Update a value in Pandas Series"
   ]
  },
  {
   "cell_type": "code",
   "execution_count": 47,
   "id": "aeb086f5-1a14-4430-80b2-0a58a2ddcf48",
   "metadata": {},
   "outputs": [
    {
     "name": "stdout",
     "output_type": "stream",
     "text": [
      "Before update \n",
      " 0     1.0\n",
      "1     2.0\n",
      "2     NaN\n",
      "3     9.0\n",
      "4     NaN\n",
      "5    10.0\n",
      "6    11.0\n",
      "7     2.0\n",
      "dtype: float64\n",
      "\n",
      "After update \n",
      " 0      1.0\n",
      "1    999.0\n",
      "2      NaN\n",
      "3      9.0\n",
      "4      NaN\n",
      "5     10.0\n",
      "6     11.0\n",
      "7      2.0\n",
      "dtype: float64\n"
     ]
    }
   ],
   "source": [
    "# Update value at 2nd position with 999 in the below number Series\n",
    "\n",
    "numS = pd.Series([1,2,np.NaN,9,np.NaN,10,11,2])\n",
    "\n",
    "print(\"Before update \\n\",numS)\n",
    "\n",
    "numS[1] = 999\n",
    "\n",
    "print(\"\\nAfter update \\n\",numS)"
   ]
  },
  {
   "cell_type": "code",
   "execution_count": 45,
   "id": "5e3f9417-1dfb-4a7b-8efd-9d029fdb44a8",
   "metadata": {},
   "outputs": [
    {
     "name": "stdout",
     "output_type": "stream",
     "text": [
      "Number Series before null replacement is \n",
      " 0     1.0\n",
      "1     2.0\n",
      "2     NaN\n",
      "3     9.0\n",
      "4     NaN\n",
      "5    10.0\n",
      "6    11.0\n",
      "7     2.0\n",
      "dtype: float64\n",
      "\n",
      " Number Series after null replacement with 99 is \n",
      " 0     1.0\n",
      "1     2.0\n",
      "2    99.0\n",
      "3     9.0\n",
      "4    99.0\n",
      "5    10.0\n",
      "6    11.0\n",
      "7     2.0\n",
      "dtype: float64\n"
     ]
    }
   ],
   "source": [
    "# Check for null values manually in Pandas Series\n",
    "# Then replace those null values with 99\n",
    "\n",
    "import pandas as pd\n",
    "import numpy as np\n",
    "\n",
    "numS = pd.Series([1,2,np.NaN,9,np.NaN,10,11,2])\n",
    "\n",
    "print(\"Number Series before null replacement is \\n\",numS)\n",
    "\n",
    "j = 0\n",
    "for i in numS:\n",
    "    if np.isnan(i):\n",
    "        numS[j] = 99\n",
    "    j += 1\n",
    "\n",
    "print(\"\\n Number Series after null replacement with 99 is \\n\",numS)"
   ]
  },
  {
   "cell_type": "code",
   "execution_count": null,
   "id": "3b2af28d-b24b-4bf3-b3dc-90a057de2050",
   "metadata": {},
   "outputs": [],
   "source": []
  },
  {
   "cell_type": "code",
   "execution_count": null,
   "id": "a17b8c49-3aa7-4186-ab5f-c37fc1e41461",
   "metadata": {},
   "outputs": [],
   "source": []
  }
 ],
 "metadata": {
  "kernelspec": {
   "display_name": "Python [conda env:base] *",
   "language": "python",
   "name": "conda-base-py"
  },
  "language_info": {
   "codemirror_mode": {
    "name": "ipython",
    "version": 3
   },
   "file_extension": ".py",
   "mimetype": "text/x-python",
   "name": "python",
   "nbconvert_exporter": "python",
   "pygments_lexer": "ipython3",
   "version": "3.12.7"
  }
 },
 "nbformat": 4,
 "nbformat_minor": 5
}
